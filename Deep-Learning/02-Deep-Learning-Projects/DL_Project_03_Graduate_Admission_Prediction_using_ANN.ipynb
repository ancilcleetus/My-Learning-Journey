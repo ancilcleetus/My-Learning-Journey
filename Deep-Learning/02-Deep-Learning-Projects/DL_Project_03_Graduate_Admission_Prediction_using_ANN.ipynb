{
  "nbformat": 4,
  "nbformat_minor": 0,
  "metadata": {
    "colab": {
      "provenance": []
    },
    "kernelspec": {
      "name": "python3",
      "display_name": "Python 3"
    },
    "language_info": {
      "name": "python"
    }
  },
  "cells": [
    {
      "cell_type": "markdown",
      "source": [
        "![rainbow](https://github.com/ancilcleetus/My-Learning-Journey/assets/25684256/839c3524-2a1d-4779-85a0-83c562e1e5e5)"
      ],
      "metadata": {
        "id": "uLR90WhedwER"
      }
    },
    {
      "cell_type": "markdown",
      "source": [
        "# 1. Graduate Admission Prediction using Artificial Neural Networks (ANNs)"
      ],
      "metadata": {
        "id": "bKim3KwyTp11"
      }
    },
    {
      "cell_type": "markdown",
      "source": [
        "Graduate Admission Prediction is a crucial task for universities and students alike, as it helps estimate a candidate's likelihood of securing admission based on their academic and extracurricular profile. This project aims to develop a predictive model using Artificial Neural Networks (ANNs) to predict the probability of graduate admission based on a variety of factors. These factors include GRE scores, TOEFL scores, university ratings, and more, which are considered important in determining a student's chance of admission into graduate programs. By leveraging the power of neural networks, we aim to create a model that accurately predicts the chances of admission (**\"Chance of Admit\"**), which can assist students in better understanding their admission prospects and preparing accordingly."
      ],
      "metadata": {
        "id": "LDrPUyRAWmdP"
      }
    },
    {
      "cell_type": "markdown",
      "source": [
        "![rainbow](https://github.com/ancilcleetus/My-Learning-Journey/assets/25684256/839c3524-2a1d-4779-85a0-83c562e1e5e5)"
      ],
      "metadata": {
        "id": "Dqe_pOlya_a9"
      }
    },
    {
      "cell_type": "markdown",
      "source": [
        "# 2. Graduate Admission Dataset Description"
      ],
      "metadata": {
        "id": "7FkcXuGBa_bE"
      }
    },
    {
      "cell_type": "markdown",
      "source": [
        "The [Graduate Admission dataset](https://www.kaggle.com/datasets/mohansacharya/graduate-admissions), sourced from Kaggle, is designed to predict graduate admissions from an Indian perspective. This dataset draws inspiration from the UCLA Graduate Dataset and includes several key parameters that influence the admission decision process for Master's programs. The dataset consists of the following features:\n",
        "\n",
        "- **GRE Scores:** Scores ranging from 0 to 340, reflecting the candidate's performance in the Graduate Record Examination.\n",
        "\n",
        "- **TOEFL Scores:** Scores ranging from 0 to 120, measuring the candidate's proficiency in English as part of the Test of English as a Foreign Language.\n",
        "\n",
        "- **University Rating:** An ordinal rating from 1 to 5, representing the prestige of the university the applicant is applying to.\n",
        "\n",
        "- **Statement of Purpose and Letter of Recommendation Strength:** Rated on a scale from 1 to 5, this parameter reflects the quality and strength of the candidate's application materials.\n",
        "\n",
        "- **Undergraduate GPA:** A score ranging from 0 to 10, representing the candidate's academic performance during their undergraduate studies.\n",
        "\n",
        "- **Research Experience:** A binary variable (0 or 1) indicating whether the candidate has prior research experience.\n",
        "\n",
        "- **Chance of Admit:** The target variable, ranging from 0 to 1, indicating the predicted likelihood of a candidate being admitted to the graduate program.\n",
        "\n",
        "This dataset serves as the foundation for building a regression model to predict a candidate's probability of admission based on these features."
      ],
      "metadata": {
        "id": "Cb02o-j0bLD9"
      }
    },
    {
      "cell_type": "markdown",
      "source": [
        "![rainbow](https://github.com/ancilcleetus/My-Learning-Journey/assets/25684256/839c3524-2a1d-4779-85a0-83c562e1e5e5)"
      ],
      "metadata": {
        "id": "U897-NGnYhHk"
      }
    },
    {
      "cell_type": "code",
      "source": [
        "# Deep Learning as subset of ML\n",
        "\n",
        "from IPython import display\n",
        "display.Image(\"data/images/DL_01_Intro-01-DL-subset-of-ML.jpg\")"
      ],
      "metadata": {
        "id": "juNAxVBFg7sw"
      },
      "execution_count": null,
      "outputs": []
    },
    {
      "cell_type": "markdown",
      "source": [
        "![rainbow](https://github.com/ancilcleetus/My-Learning-Journey/assets/25684256/839c3524-2a1d-4779-85a0-83c562e1e5e5)"
      ],
      "metadata": {
        "id": "qqv0L0R9dyKJ"
      }
    }
  ]
}