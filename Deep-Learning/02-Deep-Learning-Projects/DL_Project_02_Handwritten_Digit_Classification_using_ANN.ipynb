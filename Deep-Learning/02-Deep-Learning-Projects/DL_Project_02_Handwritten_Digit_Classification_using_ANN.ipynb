{
  "nbformat": 4,
  "nbformat_minor": 0,
  "metadata": {
    "colab": {
      "provenance": []
    },
    "kernelspec": {
      "name": "python3",
      "display_name": "Python 3"
    },
    "language_info": {
      "name": "python"
    }
  },
  "cells": [
    {
      "cell_type": "markdown",
      "source": [
        "![rainbow](https://github.com/ancilcleetus/My-Learning-Journey/assets/25684256/839c3524-2a1d-4779-85a0-83c562e1e5e5)"
      ],
      "metadata": {
        "id": "uLR90WhedwER"
      }
    },
    {
      "cell_type": "markdown",
      "source": [
        "# 1. Handwritten Digit Classification using Artificial Neural Networks (ANN)"
      ],
      "metadata": {
        "id": "bKim3KwyTp11"
      }
    },
    {
      "cell_type": "markdown",
      "source": [
        "Handwritten digit classification is a popular task in the field of machine learning, where the goal is to classify images of handwritten digits into their corresponding numeric labels (0-9). This project focuses on building a neural network model using Artificial Neural Networks (ANNs) to recognize and classify digits from the well-known [MNIST](https://yann.lecun.com/exdb/mnist/) dataset. The MNIST dataset contains 70,000 images of handwritten digits, which are grayscale and of 28x28 pixel size. By training a neural network on this dataset, we aim to build a robust model that can accurately predict unseen handwritten digits, which has potential applications in digit recognition systems, automated form processing, and more."
      ],
      "metadata": {
        "id": "VbPROYj0Lalu"
      }
    },
    {
      "cell_type": "markdown",
      "source": [
        "![rainbow](https://github.com/ancilcleetus/My-Learning-Journey/assets/25684256/839c3524-2a1d-4779-85a0-83c562e1e5e5)"
      ],
      "metadata": {
        "id": "W8tPUizNLoGp"
      }
    },
    {
      "cell_type": "markdown",
      "source": [
        "# 2. MNIST Dataset Description"
      ],
      "metadata": {
        "id": "DVGfJjjMLoGy"
      }
    },
    {
      "cell_type": "markdown",
      "source": [
        "The [MNIST](https://yann.lecun.com/exdb/mnist/) (Modified National Institute of Standards and Technology) dataset is one of the most widely used datasets in machine learning for training image classification models. It consists of 70,000 grayscale images of handwritten digits, with each image having a resolution of 28x28 pixels. The dataset is divided into two sets: a training set of 60,000 images and a test set of 10,000 images. Each image is labeled with a corresponding digit from 0 to 9. The MNIST dataset is considered a benchmark for evaluating machine learning algorithms in image classification tasks due to its simplicity, yet it poses a challenge for creating high-accuracy models."
      ],
      "metadata": {
        "id": "hRukr_UaLz2i"
      }
    },
    {
      "cell_type": "markdown",
      "source": [
        "![rainbow](https://github.com/ancilcleetus/My-Learning-Journey/assets/25684256/839c3524-2a1d-4779-85a0-83c562e1e5e5)"
      ],
      "metadata": {
        "id": "U897-NGnYhHk"
      }
    },
    {
      "cell_type": "code",
      "source": [
        "# Deep Learning as subset of ML\n",
        "\n",
        "from IPython import display\n",
        "display.Image(\"data/images/DL_01_Intro-01-DL-subset-of-ML.jpg\")"
      ],
      "metadata": {
        "id": "juNAxVBFg7sw"
      },
      "execution_count": null,
      "outputs": []
    },
    {
      "cell_type": "markdown",
      "source": [
        "![rainbow](https://github.com/ancilcleetus/My-Learning-Journey/assets/25684256/839c3524-2a1d-4779-85a0-83c562e1e5e5)"
      ],
      "metadata": {
        "id": "qqv0L0R9dyKJ"
      }
    }
  ]
}