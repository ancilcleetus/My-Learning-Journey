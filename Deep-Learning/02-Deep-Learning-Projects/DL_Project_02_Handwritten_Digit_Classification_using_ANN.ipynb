{
  "nbformat": 4,
  "nbformat_minor": 0,
  "metadata": {
    "colab": {
      "provenance": []
    },
    "kernelspec": {
      "name": "python3",
      "display_name": "Python 3"
    },
    "language_info": {
      "name": "python"
    }
  },
  "cells": [
    {
      "cell_type": "markdown",
      "source": [
        "![rainbow](https://github.com/ancilcleetus/My-Learning-Journey/assets/25684256/839c3524-2a1d-4779-85a0-83c562e1e5e5)"
      ],
      "metadata": {
        "id": "uLR90WhedwER"
      }
    },
    {
      "cell_type": "markdown",
      "source": [
        "# 1. Handwritten Digit Classification using Artificial Neural Networks (ANN)"
      ],
      "metadata": {
        "id": "bKim3KwyTp11"
      }
    },
    {
      "cell_type": "markdown",
      "source": [
        "Handwritten digit classification is a popular task in the field of machine learning, where the goal is to classify images of handwritten digits into their corresponding numeric labels (0-9). This project focuses on building a neural network model using Artificial Neural Networks (ANNs) to recognize and classify digits from the well-known [MNIST](https://yann.lecun.com/exdb/mnist/) dataset. The MNIST dataset contains 70,000 images of handwritten digits, which are grayscale and of 28x28 pixel size. By training a neural network on this dataset, we aim to build a robust model that can accurately predict unseen handwritten digits, which has potential applications in digit recognition systems, automated form processing, and more."
      ],
      "metadata": {
        "id": "VbPROYj0Lalu"
      }
    },
    {
      "cell_type": "markdown",
      "source": [
        "![rainbow](https://github.com/ancilcleetus/My-Learning-Journey/assets/25684256/839c3524-2a1d-4779-85a0-83c562e1e5e5)"
      ],
      "metadata": {
        "id": "W8tPUizNLoGp"
      }
    },
    {
      "cell_type": "markdown",
      "source": [
        "# 2. MNIST Dataset Description"
      ],
      "metadata": {
        "id": "DVGfJjjMLoGy"
      }
    },
    {
      "cell_type": "markdown",
      "source": [
        "The [MNIST](https://yann.lecun.com/exdb/mnist/) (Modified National Institute of Standards and Technology) dataset is one of the most widely used datasets in machine learning for training image classification models. It consists of 70,000 grayscale images of handwritten digits, with each image having a resolution of 28x28 pixels. The dataset is divided into two sets: a training set of 60,000 images and a test set of 10,000 images. Each image is labeled with a corresponding digit from 0 to 9. The MNIST dataset is considered a benchmark for evaluating machine learning algorithms in image classification tasks due to its simplicity, yet it poses a challenge for creating high-accuracy models."
      ],
      "metadata": {
        "id": "hRukr_UaLz2i"
      }
    },
    {
      "cell_type": "markdown",
      "source": [
        "![rainbow](https://github.com/ancilcleetus/My-Learning-Journey/assets/25684256/839c3524-2a1d-4779-85a0-83c562e1e5e5)"
      ],
      "metadata": {
        "id": "WqTceU3NMdb9"
      }
    },
    {
      "cell_type": "markdown",
      "source": [
        "# 3. Load, Explore & Preprocess MNIST Dataset"
      ],
      "metadata": {
        "id": "kImr5TCBMdcG"
      }
    },
    {
      "cell_type": "markdown",
      "source": [
        "## Import Libraries"
      ],
      "metadata": {
        "id": "FeBPrZ7Mj-iO"
      }
    },
    {
      "cell_type": "code",
      "source": [
        "import tensorflow\n",
        "from tensorflow import keras\n",
        "from tensorflow.keras import Sequential\n",
        "from tensorflow.keras.layers import Dense, Flatten\n",
        "\n",
        "import matplotlib.pyplot as plt"
      ],
      "metadata": {
        "id": "jcuPCScuMfCM"
      },
      "execution_count": 1,
      "outputs": []
    },
    {
      "cell_type": "markdown",
      "source": [
        "## Load MNIST Dataset"
      ],
      "metadata": {
        "id": "aWZLAgLlkDn9"
      }
    },
    {
      "cell_type": "code",
      "source": [
        "(X_train, y_train), (X_test, y_test) = keras.datasets.mnist.load_data()"
      ],
      "metadata": {
        "colab": {
          "base_uri": "https://localhost:8080/"
        },
        "id": "AwQwQIxLNZuF",
        "outputId": "37048806-0a9d-498f-d332-c9694ac49688"
      },
      "execution_count": 2,
      "outputs": [
        {
          "output_type": "stream",
          "name": "stdout",
          "text": [
            "Downloading data from https://storage.googleapis.com/tensorflow/tf-keras-datasets/mnist.npz\n",
            "\u001b[1m11490434/11490434\u001b[0m \u001b[32m━━━━━━━━━━━━━━━━━━━━\u001b[0m\u001b[37m\u001b[0m \u001b[1m0s\u001b[0m 0us/step\n"
          ]
        }
      ]
    },
    {
      "cell_type": "code",
      "source": [
        "print(f\"X_train.shape: {X_train.shape}\")\n",
        "print(f\"y_train.shape: {y_train.shape}\")\n",
        "print(f\"X_test.shape: {X_test.shape}\")\n",
        "print(f\"y_test.shape: {y_test.shape}\")"
      ],
      "metadata": {
        "colab": {
          "base_uri": "https://localhost:8080/"
        },
        "id": "71DVs3ogNc6W",
        "outputId": "8f93d39e-3aff-4c77-be1a-48856d96d6c9"
      },
      "execution_count": 3,
      "outputs": [
        {
          "output_type": "stream",
          "name": "stdout",
          "text": [
            "X_train.shape: (60000, 28, 28)\n",
            "y_train.shape: (60000,)\n",
            "X_test.shape: (10000, 28, 28)\n",
            "y_test.shape: (10000,)\n"
          ]
        }
      ]
    },
    {
      "cell_type": "markdown",
      "source": [
        "## Explore MNIST Dataset"
      ],
      "metadata": {
        "id": "7Pw3FZ2kkIab"
      }
    },
    {
      "cell_type": "code",
      "source": [
        "# One sample\n",
        "X_train[2]"
      ],
      "metadata": {
        "colab": {
          "base_uri": "https://localhost:8080/",
          "height": 69
        },
        "id": "S-ieHL-TkQIq",
        "outputId": "f994b169-f486-41f1-9150-05c70d14564a"
      },
      "execution_count": 6,
      "outputs": [
        {
          "output_type": "execute_result",
          "data": {
            "text/plain": [
              "array([[  0,   0,   0,   0,   0,   0,   0,   0,   0,   0,   0,   0,   0,\n",
              "          0,   0,   0,   0,   0,   0,   0,   0,   0,   0,   0,   0,   0,\n",
              "          0,   0],\n",
              "       [  0,   0,   0,   0,   0,   0,   0,   0,   0,   0,   0,   0,   0,\n",
              "          0,   0,   0,   0,   0,   0,   0,   0,   0,   0,   0,   0,   0,\n",
              "          0,   0],\n",
              "       [  0,   0,   0,   0,   0,   0,   0,   0,   0,   0,   0,   0,   0,\n",
              "          0,   0,   0,   0,   0,   0,   0,   0,   0,   0,   0,   0,   0,\n",
              "          0,   0],\n",
              "       [  0,   0,   0,   0,   0,   0,   0,   0,   0,   0,   0,   0,   0,\n",
              "          0,   0,   0,   0,   0,   0,   0,   0,   0,   0,   0,   0,   0,\n",
              "          0,   0],\n",
              "       [  0,   0,   0,   0,   0,   0,   0,   0,   0,   0,   0,   0,   0,\n",
              "          0,   0,   0,   0,   0,   0,   0,   0,   0,   0,   0,   0,   0,\n",
              "          0,   0],\n",
              "       [  0,   0,   0,   0,   0,   0,   0,   0,   0,   0,   0,   0,   0,\n",
              "          0,   0,   0,   0,   0,   0,   0,  67, 232,  39,   0,   0,   0,\n",
              "          0,   0],\n",
              "       [  0,   0,   0,   0,  62,  81,   0,   0,   0,   0,   0,   0,   0,\n",
              "          0,   0,   0,   0,   0,   0,   0, 120, 180,  39,   0,   0,   0,\n",
              "          0,   0],\n",
              "       [  0,   0,   0,   0, 126, 163,   0,   0,   0,   0,   0,   0,   0,\n",
              "          0,   0,   0,   0,   0,   0,   2, 153, 210,  40,   0,   0,   0,\n",
              "          0,   0],\n",
              "       [  0,   0,   0,   0, 220, 163,   0,   0,   0,   0,   0,   0,   0,\n",
              "          0,   0,   0,   0,   0,   0,  27, 254, 162,   0,   0,   0,   0,\n",
              "          0,   0],\n",
              "       [  0,   0,   0,   0, 222, 163,   0,   0,   0,   0,   0,   0,   0,\n",
              "          0,   0,   0,   0,   0,   0, 183, 254, 125,   0,   0,   0,   0,\n",
              "          0,   0],\n",
              "       [  0,   0,   0,  46, 245, 163,   0,   0,   0,   0,   0,   0,   0,\n",
              "          0,   0,   0,   0,   0,   0, 198, 254,  56,   0,   0,   0,   0,\n",
              "          0,   0],\n",
              "       [  0,   0,   0, 120, 254, 163,   0,   0,   0,   0,   0,   0,   0,\n",
              "          0,   0,   0,   0,   0,  23, 231, 254,  29,   0,   0,   0,   0,\n",
              "          0,   0],\n",
              "       [  0,   0,   0, 159, 254, 120,   0,   0,   0,   0,   0,   0,   0,\n",
              "          0,   0,   0,   0,   0, 163, 254, 216,  16,   0,   0,   0,   0,\n",
              "          0,   0],\n",
              "       [  0,   0,   0, 159, 254,  67,   0,   0,   0,   0,   0,   0,   0,\n",
              "          0,   0,  14,  86, 178, 248, 254,  91,   0,   0,   0,   0,   0,\n",
              "          0,   0],\n",
              "       [  0,   0,   0, 159, 254,  85,   0,   0,   0,  47,  49, 116, 144,\n",
              "        150, 241, 243, 234, 179, 241, 252,  40,   0,   0,   0,   0,   0,\n",
              "          0,   0],\n",
              "       [  0,   0,   0, 150, 253, 237, 207, 207, 207, 253, 254, 250, 240,\n",
              "        198, 143,  91,  28,   5, 233, 250,   0,   0,   0,   0,   0,   0,\n",
              "          0,   0],\n",
              "       [  0,   0,   0,   0, 119, 177, 177, 177, 177, 177,  98,  56,   0,\n",
              "          0,   0,   0,   0, 102, 254, 220,   0,   0,   0,   0,   0,   0,\n",
              "          0,   0],\n",
              "       [  0,   0,   0,   0,   0,   0,   0,   0,   0,   0,   0,   0,   0,\n",
              "          0,   0,   0,   0, 169, 254, 137,   0,   0,   0,   0,   0,   0,\n",
              "          0,   0],\n",
              "       [  0,   0,   0,   0,   0,   0,   0,   0,   0,   0,   0,   0,   0,\n",
              "          0,   0,   0,   0, 169, 254,  57,   0,   0,   0,   0,   0,   0,\n",
              "          0,   0],\n",
              "       [  0,   0,   0,   0,   0,   0,   0,   0,   0,   0,   0,   0,   0,\n",
              "          0,   0,   0,   0, 169, 254,  57,   0,   0,   0,   0,   0,   0,\n",
              "          0,   0],\n",
              "       [  0,   0,   0,   0,   0,   0,   0,   0,   0,   0,   0,   0,   0,\n",
              "          0,   0,   0,   0, 169, 255,  94,   0,   0,   0,   0,   0,   0,\n",
              "          0,   0],\n",
              "       [  0,   0,   0,   0,   0,   0,   0,   0,   0,   0,   0,   0,   0,\n",
              "          0,   0,   0,   0, 169, 254,  96,   0,   0,   0,   0,   0,   0,\n",
              "          0,   0],\n",
              "       [  0,   0,   0,   0,   0,   0,   0,   0,   0,   0,   0,   0,   0,\n",
              "          0,   0,   0,   0, 169, 254, 153,   0,   0,   0,   0,   0,   0,\n",
              "          0,   0],\n",
              "       [  0,   0,   0,   0,   0,   0,   0,   0,   0,   0,   0,   0,   0,\n",
              "          0,   0,   0,   0, 169, 255, 153,   0,   0,   0,   0,   0,   0,\n",
              "          0,   0],\n",
              "       [  0,   0,   0,   0,   0,   0,   0,   0,   0,   0,   0,   0,   0,\n",
              "          0,   0,   0,   0,  96, 254, 153,   0,   0,   0,   0,   0,   0,\n",
              "          0,   0],\n",
              "       [  0,   0,   0,   0,   0,   0,   0,   0,   0,   0,   0,   0,   0,\n",
              "          0,   0,   0,   0,   0,   0,   0,   0,   0,   0,   0,   0,   0,\n",
              "          0,   0],\n",
              "       [  0,   0,   0,   0,   0,   0,   0,   0,   0,   0,   0,   0,   0,\n",
              "          0,   0,   0,   0,   0,   0,   0,   0,   0,   0,   0,   0,   0,\n",
              "          0,   0],\n",
              "       [  0,   0,   0,   0,   0,   0,   0,   0,   0,   0,   0,   0,   0,\n",
              "          0,   0,   0,   0,   0,   0,   0,   0,   0,   0,   0,   0,   0,\n",
              "          0,   0]], dtype=uint8)"
            ],
            "text/html": [
              "<style>\n",
              "      .ndarray_repr .ndarray_raw_data {\n",
              "        display: none;\n",
              "      }\n",
              "      .ndarray_repr.show_array .ndarray_raw_data {\n",
              "        display: block;\n",
              "      }\n",
              "      .ndarray_repr.show_array .ndarray_image_preview {\n",
              "        display: none;\n",
              "      }\n",
              "      </style>\n",
              "      <div id=\"id-af632522-ff4f-4a15-8fc4-74b74e7f78b3\" class=\"ndarray_repr\"><pre>ndarray (28, 28) <button style=\"padding: 0 2px;\">show data</button></pre><img src=\"data:image/png;base64,iVBORw0KGgoAAAANSUhEUgAAABwAAAAcCAAAAABXZoBIAAAA1ElEQVR4nGNgGArA+YU6AwMDAwMTAwMDg10gqqTpGQaEpEMQihyTohwjgndnMYqk9L9FSDqZUE2dw3AbIaknjirJz7AbIenFiSInrsjwFCGpznAVWbJH/NZnCIuFgYGBgeE0XIbPI8aNofkDsqQQAwODPpOzDFs00/eTP1nOQlUyMjAwTEv/8IiBQY/xz7drJ88cfPlEkI0BoTProRUDA8OjjddOMDAwMKSJ3mPACVb+64QxmbBIb8AnyYBHklEVj+R/JjySDJb4jMVj5/b/OB1IJQAAg3ksR3QPgSAAAAAASUVORK5CYII=\" class=\"ndarray_image_preview\" /><pre class=\"ndarray_raw_data\">array([[  0,   0,   0,   0,   0,   0,   0,   0,   0,   0,   0,   0,   0,\n",
              "          0,   0,   0,   0,   0,   0,   0,   0,   0,   0,   0,   0,   0,\n",
              "          0,   0],\n",
              "       [  0,   0,   0,   0,   0,   0,   0,   0,   0,   0,   0,   0,   0,\n",
              "          0,   0,   0,   0,   0,   0,   0,   0,   0,   0,   0,   0,   0,\n",
              "          0,   0],\n",
              "       [  0,   0,   0,   0,   0,   0,   0,   0,   0,   0,   0,   0,   0,\n",
              "          0,   0,   0,   0,   0,   0,   0,   0,   0,   0,   0,   0,   0,\n",
              "          0,   0],\n",
              "       [  0,   0,   0,   0,   0,   0,   0,   0,   0,   0,   0,   0,   0,\n",
              "          0,   0,   0,   0,   0,   0,   0,   0,   0,   0,   0,   0,   0,\n",
              "          0,   0],\n",
              "       [  0,   0,   0,   0,   0,   0,   0,   0,   0,   0,   0,   0,   0,\n",
              "          0,   0,   0,   0,   0,   0,   0,   0,   0,   0,   0,   0,   0,\n",
              "          0,   0],\n",
              "       [  0,   0,   0,   0,   0,   0,   0,   0,   0,   0,   0,   0,   0,\n",
              "          0,   0,   0,   0,   0,   0,   0,  67, 232,  39,   0,   0,   0,\n",
              "          0,   0],\n",
              "       [  0,   0,   0,   0,  62,  81,   0,   0,   0,   0,   0,   0,   0,\n",
              "          0,   0,   0,   0,   0,   0,   0, 120, 180,  39,   0,   0,   0,\n",
              "          0,   0],\n",
              "       [  0,   0,   0,   0, 126, 163,   0,   0,   0,   0,   0,   0,   0,\n",
              "          0,   0,   0,   0,   0,   0,   2, 153, 210,  40,   0,   0,   0,\n",
              "          0,   0],\n",
              "       [  0,   0,   0,   0, 220, 163,   0,   0,   0,   0,   0,   0,   0,\n",
              "          0,   0,   0,   0,   0,   0,  27, 254, 162,   0,   0,   0,   0,\n",
              "          0,   0],\n",
              "       [  0,   0,   0,   0, 222, 163,   0,   0,   0,   0,   0,   0,   0,\n",
              "          0,   0,   0,   0,   0,   0, 183, 254, 125,   0,   0,   0,   0,\n",
              "          0,   0],\n",
              "       [  0,   0,   0,  46, 245, 163,   0,   0,   0,   0,   0,   0,   0,\n",
              "          0,   0,   0,   0,   0,   0, 198, 254,  56,   0,   0,   0,   0,\n",
              "          0,   0],\n",
              "       [  0,   0,   0, 120, 254, 163,   0,   0,   0,   0,   0,   0,   0,\n",
              "          0,   0,   0,   0,   0,  23, 231, 254,  29,   0,   0,   0,   0,\n",
              "          0,   0],\n",
              "       [  0,   0,   0, 159, 254, 120,   0,   0,   0,   0,   0,   0,   0,\n",
              "          0,   0,   0,   0,   0, 163, 254, 216,  16,   0,   0,   0,   0,\n",
              "          0,   0],\n",
              "       [  0,   0,   0, 159, 254,  67,   0,   0,   0,   0,   0,   0,   0,\n",
              "          0,   0,  14,  86, 178, 248, 254,  91,   0,   0,   0,   0,   0,\n",
              "          0,   0],\n",
              "       [  0,   0,   0, 159, 254,  85,   0,   0,   0,  47,  49, 116, 144,\n",
              "        150, 241, 243, 234, 179, 241, 252,  40,   0,   0,   0,   0,   0,\n",
              "          0,   0],\n",
              "       [  0,   0,   0, 150, 253, 237, 207, 207, 207, 253, 254, 250, 240,\n",
              "        198, 143,  91,  28,   5, 233, 250,   0,   0,   0,   0,   0,   0,\n",
              "          0,   0],\n",
              "       [  0,   0,   0,   0, 119, 177, 177, 177, 177, 177,  98,  56,   0,\n",
              "          0,   0,   0,   0, 102, 254, 220,   0,   0,   0,   0,   0,   0,\n",
              "          0,   0],\n",
              "       [  0,   0,   0,   0,   0,   0,   0,   0,   0,   0,   0,   0,   0,\n",
              "          0,   0,   0,   0, 169, 254, 137,   0,   0,   0,   0,   0,   0,\n",
              "          0,   0],\n",
              "       [  0,   0,   0,   0,   0,   0,   0,   0,   0,   0,   0,   0,   0,\n",
              "          0,   0,   0,   0, 169, 254,  57,   0,   0,   0,   0,   0,   0,\n",
              "          0,   0],\n",
              "       [  0,   0,   0,   0,   0,   0,   0,   0,   0,   0,   0,   0,   0,\n",
              "          0,   0,   0,   0, 169, 254,  57,   0,   0,   0,   0,   0,   0,\n",
              "          0,   0],\n",
              "       [  0,   0,   0,   0,   0,   0,   0,   0,   0,   0,   0,   0,   0,\n",
              "          0,   0,   0,   0, 169, 255,  94,   0,   0,   0,   0,   0,   0,\n",
              "          0,   0],\n",
              "       [  0,   0,   0,   0,   0,   0,   0,   0,   0,   0,   0,   0,   0,\n",
              "          0,   0,   0,   0, 169, 254,  96,   0,   0,   0,   0,   0,   0,\n",
              "          0,   0],\n",
              "       [  0,   0,   0,   0,   0,   0,   0,   0,   0,   0,   0,   0,   0,\n",
              "          0,   0,   0,   0, 169, 254, 153,   0,   0,   0,   0,   0,   0,\n",
              "          0,   0],\n",
              "       [  0,   0,   0,   0,   0,   0,   0,   0,   0,   0,   0,   0,   0,\n",
              "          0,   0,   0,   0, 169, 255, 153,   0,   0,   0,   0,   0,   0,\n",
              "          0,   0],\n",
              "       [  0,   0,   0,   0,   0,   0,   0,   0,   0,   0,   0,   0,   0,\n",
              "          0,   0,   0,   0,  96, 254, 153,   0,   0,   0,   0,   0,   0,\n",
              "          0,   0],\n",
              "       [  0,   0,   0,   0,   0,   0,   0,   0,   0,   0,   0,   0,   0,\n",
              "          0,   0,   0,   0,   0,   0,   0,   0,   0,   0,   0,   0,   0,\n",
              "          0,   0],\n",
              "       [  0,   0,   0,   0,   0,   0,   0,   0,   0,   0,   0,   0,   0,\n",
              "          0,   0,   0,   0,   0,   0,   0,   0,   0,   0,   0,   0,   0,\n",
              "          0,   0],\n",
              "       [  0,   0,   0,   0,   0,   0,   0,   0,   0,   0,   0,   0,   0,\n",
              "          0,   0,   0,   0,   0,   0,   0,   0,   0,   0,   0,   0,   0,\n",
              "          0,   0]], dtype=uint8)</pre></div><script>\n",
              "      (() => {\n",
              "      const titles = ['show data', 'hide data'];\n",
              "      let index = 0\n",
              "      document.querySelector('#id-af632522-ff4f-4a15-8fc4-74b74e7f78b3 button').onclick = (e) => {\n",
              "        document.querySelector('#id-af632522-ff4f-4a15-8fc4-74b74e7f78b3').classList.toggle('show_array');\n",
              "        index = (++index) % 2;\n",
              "        document.querySelector('#id-af632522-ff4f-4a15-8fc4-74b74e7f78b3 button').textContent = titles[index];\n",
              "        e.preventDefault();\n",
              "        e.stopPropagation();\n",
              "      }\n",
              "      })();\n",
              "    </script>"
            ]
          },
          "metadata": {},
          "execution_count": 6
        }
      ]
    },
    {
      "cell_type": "code",
      "source": [
        "# Convert pixel values to image\n",
        "plt.imshow(X_train[2], cmap=\"gray\")"
      ],
      "metadata": {
        "colab": {
          "base_uri": "https://localhost:8080/",
          "height": 447
        },
        "id": "PRw1e-0-N-Qh",
        "outputId": "198c3a43-c6a8-411b-c672-78dc71218a55"
      },
      "execution_count": 7,
      "outputs": [
        {
          "output_type": "execute_result",
          "data": {
            "text/plain": [
              "<matplotlib.image.AxesImage at 0x7ac6cc45f250>"
            ]
          },
          "metadata": {},
          "execution_count": 7
        },
        {
          "output_type": "display_data",
          "data": {
            "text/plain": [
              "<Figure size 640x480 with 1 Axes>"
            ],
            "image/png": "[encoded data removed]"
          },
          "metadata": {}
        }
      ]
    },
    {
      "cell_type": "markdown",
      "source": [
        "## Scaling"
      ],
      "metadata": {
        "id": "KOmXZ7pkki10"
      }
    },
    {
      "cell_type": "code",
      "source": [
        "X_train = X_train/255\n",
        "X_test = X_test/255"
      ],
      "metadata": {
        "id": "Kotl7PAikmpA"
      },
      "execution_count": 8,
      "outputs": []
    },
    {
      "cell_type": "code",
      "source": [
        "X_train[2]"
      ],
      "metadata": {
        "colab": {
          "base_uri": "https://localhost:8080/"
        },
        "id": "09Zy4ml9ks-6",
        "outputId": "3fe9bee0-3e10-4069-a042-47846b6fde32"
      },
      "execution_count": 9,
      "outputs": [
        {
          "output_type": "execute_result",
          "data": {
            "text/plain": [
              "array([[0.        , 0.        , 0.        , 0.        , 0.        ,\n",
              "        0.        , 0.        , 0.        , 0.        , 0.        ,\n",
              "        0.        , 0.        , 0.        , 0.        , 0.        ,\n",
              "        0.        , 0.        , 0.        , 0.        , 0.        ,\n",
              "        0.        , 0.        , 0.        , 0.        , 0.        ,\n",
              "        0.        , 0.        , 0.        ],\n",
              "       [0.        , 0.        , 0.        , 0.        , 0.        ,\n",
              "        0.        , 0.        , 0.        , 0.        , 0.        ,\n",
              "        0.        , 0.        , 0.        , 0.        , 0.        ,\n",
              "        0.        , 0.        , 0.        , 0.        , 0.        ,\n",
              "        0.        , 0.        , 0.        , 0.        , 0.        ,\n",
              "        0.        , 0.        , 0.        ],\n",
              "       [0.        , 0.        , 0.        , 0.        , 0.        ,\n",
              "        0.        , 0.        , 0.        , 0.        , 0.        ,\n",
              "        0.        , 0.        , 0.        , 0.        , 0.        ,\n",
              "        0.        , 0.        , 0.        , 0.        , 0.        ,\n",
              "        0.        , 0.        , 0.        , 0.        , 0.        ,\n",
              "        0.        , 0.        , 0.        ],\n",
              "       [0.        , 0.        , 0.        , 0.        , 0.        ,\n",
              "        0.        , 0.        , 0.        , 0.        , 0.        ,\n",
              "        0.        , 0.        , 0.        , 0.        , 0.        ,\n",
              "        0.        , 0.        , 0.        , 0.        , 0.        ,\n",
              "        0.        , 0.        , 0.        , 0.        , 0.        ,\n",
              "        0.        , 0.        , 0.        ],\n",
              "       [0.        , 0.        , 0.        , 0.        , 0.        ,\n",
              "        0.        , 0.        , 0.        , 0.        , 0.        ,\n",
              "        0.        , 0.        , 0.        , 0.        , 0.        ,\n",
              "        0.        , 0.        , 0.        , 0.        , 0.        ,\n",
              "        0.        , 0.        , 0.        , 0.        , 0.        ,\n",
              "        0.        , 0.        , 0.        ],\n",
              "       [0.        , 0.        , 0.        , 0.        , 0.        ,\n",
              "        0.        , 0.        , 0.        , 0.        , 0.        ,\n",
              "        0.        , 0.        , 0.        , 0.        , 0.        ,\n",
              "        0.        , 0.        , 0.        , 0.        , 0.        ,\n",
              "        0.2627451 , 0.90980392, 0.15294118, 0.        , 0.        ,\n",
              "        0.        , 0.        , 0.        ],\n",
              "       [0.        , 0.        , 0.        , 0.        , 0.24313725,\n",
              "        0.31764706, 0.        , 0.        , 0.        , 0.        ,\n",
              "        0.        , 0.        , 0.        , 0.        , 0.        ,\n",
              "        0.        , 0.        , 0.        , 0.        , 0.        ,\n",
              "        0.47058824, 0.70588235, 0.15294118, 0.        , 0.        ,\n",
              "        0.        , 0.        , 0.        ],\n",
              "       [0.        , 0.        , 0.        , 0.        , 0.49411765,\n",
              "        0.63921569, 0.        , 0.        , 0.        , 0.        ,\n",
              "        0.        , 0.        , 0.        , 0.        , 0.        ,\n",
              "        0.        , 0.        , 0.        , 0.        , 0.00784314,\n",
              "        0.6       , 0.82352941, 0.15686275, 0.        , 0.        ,\n",
              "        0.        , 0.        , 0.        ],\n",
              "       [0.        , 0.        , 0.        , 0.        , 0.8627451 ,\n",
              "        0.63921569, 0.        , 0.        , 0.        , 0.        ,\n",
              "        0.        , 0.        , 0.        , 0.        , 0.        ,\n",
              "        0.        , 0.        , 0.        , 0.        , 0.10588235,\n",
              "        0.99607843, 0.63529412, 0.        , 0.        , 0.        ,\n",
              "        0.        , 0.        , 0.        ],\n",
              "       [0.        , 0.        , 0.        , 0.        , 0.87058824,\n",
              "        0.63921569, 0.        , 0.        , 0.        , 0.        ,\n",
              "        0.        , 0.        , 0.        , 0.        , 0.        ,\n",
              "        0.        , 0.        , 0.        , 0.        , 0.71764706,\n",
              "        0.99607843, 0.49019608, 0.        , 0.        , 0.        ,\n",
              "        0.        , 0.        , 0.        ],\n",
              "       [0.        , 0.        , 0.        , 0.18039216, 0.96078431,\n",
              "        0.63921569, 0.        , 0.        , 0.        , 0.        ,\n",
              "        0.        , 0.        , 0.        , 0.        , 0.        ,\n",
              "        0.        , 0.        , 0.        , 0.        , 0.77647059,\n",
              "        0.99607843, 0.21960784, 0.        , 0.        , 0.        ,\n",
              "        0.        , 0.        , 0.        ],\n",
              "       [0.        , 0.        , 0.        , 0.47058824, 0.99607843,\n",
              "        0.63921569, 0.        , 0.        , 0.        , 0.        ,\n",
              "        0.        , 0.        , 0.        , 0.        , 0.        ,\n",
              "        0.        , 0.        , 0.        , 0.09019608, 0.90588235,\n",
              "        0.99607843, 0.11372549, 0.        , 0.        , 0.        ,\n",
              "        0.        , 0.        , 0.        ],\n",
              "       [0.        , 0.        , 0.        , 0.62352941, 0.99607843,\n",
              "        0.47058824, 0.        , 0.        , 0.        , 0.        ,\n",
              "        0.        , 0.        , 0.        , 0.        , 0.        ,\n",
              "        0.        , 0.        , 0.        , 0.63921569, 0.99607843,\n",
              "        0.84705882, 0.0627451 , 0.        , 0.        , 0.        ,\n",
              "        0.        , 0.        , 0.        ],\n",
              "       [0.        , 0.        , 0.        , 0.62352941, 0.99607843,\n",
              "        0.2627451 , 0.        , 0.        , 0.        , 0.        ,\n",
              "        0.        , 0.        , 0.        , 0.        , 0.        ,\n",
              "        0.05490196, 0.3372549 , 0.69803922, 0.97254902, 0.99607843,\n",
              "        0.35686275, 0.        , 0.        , 0.        , 0.        ,\n",
              "        0.        , 0.        , 0.        ],\n",
              "       [0.        , 0.        , 0.        , 0.62352941, 0.99607843,\n",
              "        0.33333333, 0.        , 0.        , 0.        , 0.18431373,\n",
              "        0.19215686, 0.45490196, 0.56470588, 0.58823529, 0.94509804,\n",
              "        0.95294118, 0.91764706, 0.70196078, 0.94509804, 0.98823529,\n",
              "        0.15686275, 0.        , 0.        , 0.        , 0.        ,\n",
              "        0.        , 0.        , 0.        ],\n",
              "       [0.        , 0.        , 0.        , 0.58823529, 0.99215686,\n",
              "        0.92941176, 0.81176471, 0.81176471, 0.81176471, 0.99215686,\n",
              "        0.99607843, 0.98039216, 0.94117647, 0.77647059, 0.56078431,\n",
              "        0.35686275, 0.10980392, 0.01960784, 0.91372549, 0.98039216,\n",
              "        0.        , 0.        , 0.        , 0.        , 0.        ,\n",
              "        0.        , 0.        , 0.        ],\n",
              "       [0.        , 0.        , 0.        , 0.        , 0.46666667,\n",
              "        0.69411765, 0.69411765, 0.69411765, 0.69411765, 0.69411765,\n",
              "        0.38431373, 0.21960784, 0.        , 0.        , 0.        ,\n",
              "        0.        , 0.        , 0.4       , 0.99607843, 0.8627451 ,\n",
              "        0.        , 0.        , 0.        , 0.        , 0.        ,\n",
              "        0.        , 0.        , 0.        ],\n",
              "       [0.        , 0.        , 0.        , 0.        , 0.        ,\n",
              "        0.        , 0.        , 0.        , 0.        , 0.        ,\n",
              "        0.        , 0.        , 0.        , 0.        , 0.        ,\n",
              "        0.        , 0.        , 0.6627451 , 0.99607843, 0.5372549 ,\n",
              "        0.        , 0.        , 0.        , 0.        , 0.        ,\n",
              "        0.        , 0.        , 0.        ],\n",
              "       [0.        , 0.        , 0.        , 0.        , 0.        ,\n",
              "        0.        , 0.        , 0.        , 0.        , 0.        ,\n",
              "        0.        , 0.        , 0.        , 0.        , 0.        ,\n",
              "        0.        , 0.        , 0.6627451 , 0.99607843, 0.22352941,\n",
              "        0.        , 0.        , 0.        , 0.        , 0.        ,\n",
              "        0.        , 0.        , 0.        ],\n",
              "       [0.        , 0.        , 0.        , 0.        , 0.        ,\n",
              "        0.        , 0.        , 0.        , 0.        , 0.        ,\n",
              "        0.        , 0.        , 0.        , 0.        , 0.        ,\n",
              "        0.        , 0.        , 0.6627451 , 0.99607843, 0.22352941,\n",
              "        0.        , 0.        , 0.        , 0.        , 0.        ,\n",
              "        0.        , 0.        , 0.        ],\n",
              "       [0.        , 0.        , 0.        , 0.        , 0.        ,\n",
              "        0.        , 0.        , 0.        , 0.        , 0.        ,\n",
              "        0.        , 0.        , 0.        , 0.        , 0.        ,\n",
              "        0.        , 0.        , 0.6627451 , 1.        , 0.36862745,\n",
              "        0.        , 0.        , 0.        , 0.        , 0.        ,\n",
              "        0.        , 0.        , 0.        ],\n",
              "       [0.        , 0.        , 0.        , 0.        , 0.        ,\n",
              "        0.        , 0.        , 0.        , 0.        , 0.        ,\n",
              "        0.        , 0.        , 0.        , 0.        , 0.        ,\n",
              "        0.        , 0.        , 0.6627451 , 0.99607843, 0.37647059,\n",
              "        0.        , 0.        , 0.        , 0.        , 0.        ,\n",
              "        0.        , 0.        , 0.        ],\n",
              "       [0.        , 0.        , 0.        , 0.        , 0.        ,\n",
              "        0.        , 0.        , 0.        , 0.        , 0.        ,\n",
              "        0.        , 0.        , 0.        , 0.        , 0.        ,\n",
              "        0.        , 0.        , 0.6627451 , 0.99607843, 0.6       ,\n",
              "        0.        , 0.        , 0.        , 0.        , 0.        ,\n",
              "        0.        , 0.        , 0.        ],\n",
              "       [0.        , 0.        , 0.        , 0.        , 0.        ,\n",
              "        0.        , 0.        , 0.        , 0.        , 0.        ,\n",
              "        0.        , 0.        , 0.        , 0.        , 0.        ,\n",
              "        0.        , 0.        , 0.6627451 , 1.        , 0.6       ,\n",
              "        0.        , 0.        , 0.        , 0.        , 0.        ,\n",
              "        0.        , 0.        , 0.        ],\n",
              "       [0.        , 0.        , 0.        , 0.        , 0.        ,\n",
              "        0.        , 0.        , 0.        , 0.        , 0.        ,\n",
              "        0.        , 0.        , 0.        , 0.        , 0.        ,\n",
              "        0.        , 0.        , 0.37647059, 0.99607843, 0.6       ,\n",
              "        0.        , 0.        , 0.        , 0.        , 0.        ,\n",
              "        0.        , 0.        , 0.        ],\n",
              "       [0.        , 0.        , 0.        , 0.        , 0.        ,\n",
              "        0.        , 0.        , 0.        , 0.        , 0.        ,\n",
              "        0.        , 0.        , 0.        , 0.        , 0.        ,\n",
              "        0.        , 0.        , 0.        , 0.        , 0.        ,\n",
              "        0.        , 0.        , 0.        , 0.        , 0.        ,\n",
              "        0.        , 0.        , 0.        ],\n",
              "       [0.        , 0.        , 0.        , 0.        , 0.        ,\n",
              "        0.        , 0.        , 0.        , 0.        , 0.        ,\n",
              "        0.        , 0.        , 0.        , 0.        , 0.        ,\n",
              "        0.        , 0.        , 0.        , 0.        , 0.        ,\n",
              "        0.        , 0.        , 0.        , 0.        , 0.        ,\n",
              "        0.        , 0.        , 0.        ],\n",
              "       [0.        , 0.        , 0.        , 0.        , 0.        ,\n",
              "        0.        , 0.        , 0.        , 0.        , 0.        ,\n",
              "        0.        , 0.        , 0.        , 0.        , 0.        ,\n",
              "        0.        , 0.        , 0.        , 0.        , 0.        ,\n",
              "        0.        , 0.        , 0.        , 0.        , 0.        ,\n",
              "        0.        , 0.        , 0.        ]])"
            ]
          },
          "metadata": {},
          "execution_count": 9
        }
      ]
    },
    {
      "cell_type": "markdown",
      "source": [
        "![rainbow](https://github.com/ancilcleetus/My-Learning-Journey/assets/25684256/839c3524-2a1d-4779-85a0-83c562e1e5e5)"
      ],
      "metadata": {
        "id": "wmt1FqtMY7uc"
      }
    },
    {
      "cell_type": "markdown",
      "source": [
        "# 4. Model Building"
      ],
      "metadata": {
        "id": "F6SPpxB9qxCn"
      }
    },
    {
      "cell_type": "code",
      "source": [
        "model = Sequential()\n",
        "\n",
        "model.add(Flatten(input_shape=(28,28)))  # Converts dimensions from 28x28 to 1x784\n",
        "model.add(Dense(128, activation=\"relu\"))\n",
        "model.add(Dense(10, activation=\"softmax\"))"
      ],
      "metadata": {
        "id": "cYGC8b23lptA"
      },
      "execution_count": 11,
      "outputs": []
    },
    {
      "cell_type": "code",
      "source": [
        "model.summary()"
      ],
      "metadata": {
        "colab": {
          "base_uri": "https://localhost:8080/",
          "height": 238
        },
        "id": "6A-rhhdPmMOc",
        "outputId": "888bd187-10fc-44fe-d402-37bc2638e718"
      },
      "execution_count": 12,
      "outputs": [
        {
          "output_type": "display_data",
          "data": {
            "text/plain": [
              "\u001b[1mModel: \"sequential_1\"\u001b[0m\n"
            ],
            "text/html": [
              "<pre style=\"white-space:pre;overflow-x:auto;line-height:normal;font-family:Menlo,'DejaVu Sans Mono',consolas,'Courier New',monospace\"><span style=\"font-weight: bold\">Model: \"sequential_1\"</span>\n",
              "</pre>\n"
            ]
          },
          "metadata": {}
        },
        {
          "output_type": "display_data",
          "data": {
            "text/plain": [
              "┏━━━━━━━━━━━━━━━━━━━━━━━━━━━━━━━━━━━━━━┳━━━━━━━━━━━━━━━━━━━━━━━━━━━━━┳━━━━━━━━━━━━━━━━━┓\n",
              "┃\u001b[1m \u001b[0m\u001b[1mLayer (type)                        \u001b[0m\u001b[1m \u001b[0m┃\u001b[1m \u001b[0m\u001b[1mOutput Shape               \u001b[0m\u001b[1m \u001b[0m┃\u001b[1m \u001b[0m\u001b[1m        Param #\u001b[0m\u001b[1m \u001b[0m┃\n",
              "┡━━━━━━━━━━━━━━━━━━━━━━━━━━━━━━━━━━━━━━╇━━━━━━━━━━━━━━━━━━━━━━━━━━━━━╇━━━━━━━━━━━━━━━━━┩\n",
              "│ flatten_1 (\u001b[38;5;33mFlatten\u001b[0m)                  │ (\u001b[38;5;45mNone\u001b[0m, \u001b[38;5;34m784\u001b[0m)                 │               \u001b[38;5;34m0\u001b[0m │\n",
              "├──────────────────────────────────────┼─────────────────────────────┼─────────────────┤\n",
              "│ dense_2 (\u001b[38;5;33mDense\u001b[0m)                      │ (\u001b[38;5;45mNone\u001b[0m, \u001b[38;5;34m128\u001b[0m)                 │         \u001b[38;5;34m100,480\u001b[0m │\n",
              "├──────────────────────────────────────┼─────────────────────────────┼─────────────────┤\n",
              "│ dense_3 (\u001b[38;5;33mDense\u001b[0m)                      │ (\u001b[38;5;45mNone\u001b[0m, \u001b[38;5;34m10\u001b[0m)                  │           \u001b[38;5;34m1,290\u001b[0m │\n",
              "└──────────────────────────────────────┴─────────────────────────────┴─────────────────┘\n"
            ],
            "text/html": [
              "<pre style=\"white-space:pre;overflow-x:auto;line-height:normal;font-family:Menlo,'DejaVu Sans Mono',consolas,'Courier New',monospace\">┏━━━━━━━━━━━━━━━━━━━━━━━━━━━━━━━━━━━━━━┳━━━━━━━━━━━━━━━━━━━━━━━━━━━━━┳━━━━━━━━━━━━━━━━━┓\n",
              "┃<span style=\"font-weight: bold\"> Layer (type)                         </span>┃<span style=\"font-weight: bold\"> Output Shape                </span>┃<span style=\"font-weight: bold\">         Param # </span>┃\n",
              "┡━━━━━━━━━━━━━━━━━━━━━━━━━━━━━━━━━━━━━━╇━━━━━━━━━━━━━━━━━━━━━━━━━━━━━╇━━━━━━━━━━━━━━━━━┩\n",
              "│ flatten_1 (<span style=\"color: #0087ff; text-decoration-color: #0087ff\">Flatten</span>)                  │ (<span style=\"color: #00d7ff; text-decoration-color: #00d7ff\">None</span>, <span style=\"color: #00af00; text-decoration-color: #00af00\">784</span>)                 │               <span style=\"color: #00af00; text-decoration-color: #00af00\">0</span> │\n",
              "├──────────────────────────────────────┼─────────────────────────────┼─────────────────┤\n",
              "│ dense_2 (<span style=\"color: #0087ff; text-decoration-color: #0087ff\">Dense</span>)                      │ (<span style=\"color: #00d7ff; text-decoration-color: #00d7ff\">None</span>, <span style=\"color: #00af00; text-decoration-color: #00af00\">128</span>)                 │         <span style=\"color: #00af00; text-decoration-color: #00af00\">100,480</span> │\n",
              "├──────────────────────────────────────┼─────────────────────────────┼─────────────────┤\n",
              "│ dense_3 (<span style=\"color: #0087ff; text-decoration-color: #0087ff\">Dense</span>)                      │ (<span style=\"color: #00d7ff; text-decoration-color: #00d7ff\">None</span>, <span style=\"color: #00af00; text-decoration-color: #00af00\">10</span>)                  │           <span style=\"color: #00af00; text-decoration-color: #00af00\">1,290</span> │\n",
              "└──────────────────────────────────────┴─────────────────────────────┴─────────────────┘\n",
              "</pre>\n"
            ]
          },
          "metadata": {}
        },
        {
          "output_type": "display_data",
          "data": {
            "text/plain": [
              "\u001b[1m Total params: \u001b[0m\u001b[38;5;34m101,770\u001b[0m (397.54 KB)\n"
            ],
            "text/html": [
              "<pre style=\"white-space:pre;overflow-x:auto;line-height:normal;font-family:Menlo,'DejaVu Sans Mono',consolas,'Courier New',monospace\"><span style=\"font-weight: bold\"> Total params: </span><span style=\"color: #00af00; text-decoration-color: #00af00\">101,770</span> (397.54 KB)\n",
              "</pre>\n"
            ]
          },
          "metadata": {}
        },
        {
          "output_type": "display_data",
          "data": {
            "text/plain": [
              "\u001b[1m Trainable params: \u001b[0m\u001b[38;5;34m101,770\u001b[0m (397.54 KB)\n"
            ],
            "text/html": [
              "<pre style=\"white-space:pre;overflow-x:auto;line-height:normal;font-family:Menlo,'DejaVu Sans Mono',consolas,'Courier New',monospace\"><span style=\"font-weight: bold\"> Trainable params: </span><span style=\"color: #00af00; text-decoration-color: #00af00\">101,770</span> (397.54 KB)\n",
              "</pre>\n"
            ]
          },
          "metadata": {}
        },
        {
          "output_type": "display_data",
          "data": {
            "text/plain": [
              "\u001b[1m Non-trainable params: \u001b[0m\u001b[38;5;34m0\u001b[0m (0.00 B)\n"
            ],
            "text/html": [
              "<pre style=\"white-space:pre;overflow-x:auto;line-height:normal;font-family:Menlo,'DejaVu Sans Mono',consolas,'Courier New',monospace\"><span style=\"font-weight: bold\"> Non-trainable params: </span><span style=\"color: #00af00; text-decoration-color: #00af00\">0</span> (0.00 B)\n",
              "</pre>\n"
            ]
          },
          "metadata": {}
        }
      ]
    },
    {
      "cell_type": "markdown",
      "source": [
        "![rainbow](https://github.com/ancilcleetus/My-Learning-Journey/assets/25684256/839c3524-2a1d-4779-85a0-83c562e1e5e5)"
      ],
      "metadata": {
        "id": "yUsifth1oXu2"
      }
    },
    {
      "cell_type": "markdown",
      "source": [
        "# 5. Model Training"
      ],
      "metadata": {
        "id": "UqVvpcNVoXvJ"
      }
    },
    {
      "cell_type": "code",
      "source": [
        "model.compile(loss='sparse_categorical_crossentropy',optimizer='Adam',metrics=['accuracy'])"
      ],
      "metadata": {
        "id": "tD6W0hI6pSIo"
      },
      "execution_count": 13,
      "outputs": []
    },
    {
      "cell_type": "code",
      "source": [
        "history = model.fit(X_train, y_train, epochs=10, validation_split=0.2)"
      ],
      "metadata": {
        "colab": {
          "base_uri": "https://localhost:8080/"
        },
        "id": "AKWlBTp6puyd",
        "outputId": "fba6a46a-e96d-4363-9e49-67f3117bdd99"
      },
      "execution_count": 14,
      "outputs": [
        {
          "output_type": "stream",
          "name": "stdout",
          "text": [
            "Epoch 1/10\n",
            "\u001b[1m1500/1500\u001b[0m \u001b[32m━━━━━━━━━━━━━━━━━━━━\u001b[0m\u001b[37m\u001b[0m \u001b[1m9s\u001b[0m 5ms/step - accuracy: 0.8660 - loss: 0.4715 - val_accuracy: 0.9545 - val_loss: 0.1529\n",
            "Epoch 2/10\n",
            "\u001b[1m1500/1500\u001b[0m \u001b[32m━━━━━━━━━━━━━━━━━━━━\u001b[0m\u001b[37m\u001b[0m \u001b[1m6s\u001b[0m 4ms/step - accuracy: 0.9606 - loss: 0.1364 - val_accuracy: 0.9638 - val_loss: 0.1191\n",
            "Epoch 3/10\n",
            "\u001b[1m1500/1500\u001b[0m \u001b[32m━━━━━━━━━━━━━━━━━━━━\u001b[0m\u001b[37m\u001b[0m \u001b[1m12s\u001b[0m 5ms/step - accuracy: 0.9730 - loss: 0.0888 - val_accuracy: 0.9710 - val_loss: 0.0969\n",
            "Epoch 4/10\n",
            "\u001b[1m1500/1500\u001b[0m \u001b[32m━━━━━━━━━━━━━━━━━━━━\u001b[0m\u001b[37m\u001b[0m \u001b[1m6s\u001b[0m 4ms/step - accuracy: 0.9815 - loss: 0.0616 - val_accuracy: 0.9725 - val_loss: 0.0894\n",
            "Epoch 5/10\n",
            "\u001b[1m1500/1500\u001b[0m \u001b[32m━━━━━━━━━━━━━━━━━━━━\u001b[0m\u001b[37m\u001b[0m \u001b[1m6s\u001b[0m 4ms/step - accuracy: 0.9857 - loss: 0.0470 - val_accuracy: 0.9738 - val_loss: 0.0859\n",
            "Epoch 6/10\n",
            "\u001b[1m1500/1500\u001b[0m \u001b[32m━━━━━━━━━━━━━━━━━━━━\u001b[0m\u001b[37m\u001b[0m \u001b[1m6s\u001b[0m 4ms/step - accuracy: 0.9897 - loss: 0.0345 - val_accuracy: 0.9735 - val_loss: 0.0915\n",
            "Epoch 7/10\n",
            "\u001b[1m1500/1500\u001b[0m \u001b[32m━━━━━━━━━━━━━━━━━━━━\u001b[0m\u001b[37m\u001b[0m \u001b[1m9s\u001b[0m 4ms/step - accuracy: 0.9921 - loss: 0.0268 - val_accuracy: 0.9757 - val_loss: 0.0866\n",
            "Epoch 8/10\n",
            "\u001b[1m1500/1500\u001b[0m \u001b[32m━━━━━━━━━━━━━━━━━━━━\u001b[0m\u001b[37m\u001b[0m \u001b[1m7s\u001b[0m 5ms/step - accuracy: 0.9940 - loss: 0.0207 - val_accuracy: 0.9758 - val_loss: 0.0843\n",
            "Epoch 9/10\n",
            "\u001b[1m1500/1500\u001b[0m \u001b[32m━━━━━━━━━━━━━━━━━━━━\u001b[0m\u001b[37m\u001b[0m \u001b[1m6s\u001b[0m 4ms/step - accuracy: 0.9955 - loss: 0.0162 - val_accuracy: 0.9754 - val_loss: 0.0908\n",
            "Epoch 10/10\n",
            "\u001b[1m1500/1500\u001b[0m \u001b[32m━━━━━━━━━━━━━━━━━━━━\u001b[0m\u001b[37m\u001b[0m \u001b[1m7s\u001b[0m 5ms/step - accuracy: 0.9968 - loss: 0.0127 - val_accuracy: 0.9764 - val_loss: 0.0945\n"
          ]
        }
      ]
    },
    {
      "cell_type": "code",
      "source": [
        "plt.plot(history.history[\"loss\"])\n",
        "plt.plot(history.history[\"val_loss\"])\n",
        "plt.title(\"Model Loss\")\n",
        "plt.ylabel(\"Loss\")\n",
        "plt.xlabel(\"Epoch\")\n",
        "plt.legend([\"Train\", \"Validation\"], loc=\"upper right\")"
      ],
      "metadata": {
        "colab": {
          "base_uri": "https://localhost:8080/",
          "height": 489
        },
        "id": "LBqLETwFtvcx",
        "outputId": "da95dc1a-2a9a-4a71-a88f-32c8e5dfccd8"
      },
      "execution_count": 18,
      "outputs": [
        {
          "output_type": "execute_result",
          "data": {
            "text/plain": [
              "<matplotlib.legend.Legend at 0x7ac6cf4a9000>"
            ]
          },
          "metadata": {},
          "execution_count": 18
        },
        {
          "output_type": "display_data",
          "data": {
            "text/plain": [
              "<Figure size 640x480 with 1 Axes>"
            ],
            "image/png": "[encoded data removed]"
          },
          "metadata": {}
        }
      ]
    },
    {
      "cell_type": "code",
      "source": [
        "plt.plot(history.history[\"accuracy\"])\n",
        "plt.plot(history.history[\"val_accuracy\"])\n",
        "plt.title(\"Model Accuracy\")\n",
        "plt.ylabel(\"Accuracy\")\n",
        "plt.xlabel(\"Epoch\")\n",
        "plt.legend([\"Train\", \"Validation\"], loc=\"lower right\")"
      ],
      "metadata": {
        "colab": {
          "base_uri": "https://localhost:8080/",
          "height": 489
        },
        "id": "G9A1lY1pt1ra",
        "outputId": "d5495204-ad79-4735-afd0-fab305256c6f"
      },
      "execution_count": 19,
      "outputs": [
        {
          "output_type": "execute_result",
          "data": {
            "text/plain": [
              "<matplotlib.legend.Legend at 0x7ac6cc38a890>"
            ]
          },
          "metadata": {},
          "execution_count": 19
        },
        {
          "output_type": "display_data",
          "data": {
            "text/plain": [
              "<Figure size 640x480 with 1 Axes>"
            ],
            "image/png": "[encoded data removed]"
          },
          "metadata": {}
        }
      ]
    },
    {
      "cell_type": "code",
      "source": [
        "# Get weights of 2nd layer (i.e. first hidden layer after Flatten layer)\n",
        "model.layers[1].get_weights()"
      ],
      "metadata": {
        "colab": {
          "base_uri": "https://localhost:8080/"
        },
        "id": "VNCes7taqf-Q",
        "outputId": "eeb52ea7-639b-46cc-97c0-59fa71de5fca"
      },
      "execution_count": 16,
      "outputs": [
        {
          "output_type": "execute_result",
          "data": {
            "text/plain": [
              "[array([[ 0.00328086,  0.07413187,  0.04309894, ...,  0.01674736,\n",
              "          0.02472202, -0.00180573],\n",
              "        [ 0.07047234, -0.05144003, -0.01029646, ...,  0.04379286,\n",
              "         -0.08067796, -0.06952606],\n",
              "        [ 0.03237937, -0.01044947, -0.00170815, ...,  0.00948315,\n",
              "         -0.03013723, -0.04489839],\n",
              "        ...,\n",
              "        [ 0.02509297, -0.00724865,  0.06482246, ..., -0.06983563,\n",
              "         -0.02188952, -0.06336506],\n",
              "        [ 0.06958394,  0.05943649, -0.07391914, ..., -0.0686599 ,\n",
              "         -0.06968351, -0.06803032],\n",
              "        [ 0.01877664,  0.06101728,  0.07133556, ...,  0.03503009,\n",
              "          0.02789929,  0.06251711]], dtype=float32),\n",
              " array([ 2.01607853e-01,  3.74976769e-02, -2.43029464e-02, -2.22285032e-01,\n",
              "         7.20997676e-02,  4.03507054e-02, -3.29147205e-02,  2.11161864e-03,\n",
              "        -9.11152959e-02,  3.90721411e-02,  1.00738844e-02, -1.23006120e-01,\n",
              "        -6.76405104e-03, -6.54136688e-02,  3.79682668e-02, -2.68771723e-02,\n",
              "         1.04800276e-01, -7.65732154e-02, -3.75261307e-02, -7.89925605e-02,\n",
              "        -1.64371103e-01, -9.42432135e-02, -7.28705004e-02,  1.09082304e-01,\n",
              "         8.57298523e-02, -1.19909361e-01,  2.53817672e-03,  1.18941888e-01,\n",
              "         3.32587957e-02,  7.55257010e-02,  4.35668454e-02,  8.11780021e-02,\n",
              "         1.11477092e-01,  1.97554193e-02,  1.82091683e-01,  1.79311305e-01,\n",
              "        -2.53403597e-02,  2.01048210e-01, -5.24149314e-02,  9.55548584e-02,\n",
              "         1.27767086e-01,  8.50950629e-02, -1.47540192e-03,  1.04145445e-01,\n",
              "         4.58544865e-02,  2.30552986e-01,  4.68854755e-02,  8.87007043e-02,\n",
              "         9.33536291e-02, -1.42547235e-01,  9.80119482e-02, -2.82876156e-02,\n",
              "         1.97297428e-02, -5.72601855e-02,  9.18984239e-04, -1.40161216e-02,\n",
              "         1.07626952e-01,  5.35775311e-02,  3.15964632e-02,  4.37672697e-02,\n",
              "        -1.79139495e-01, -4.20261174e-02, -1.23254307e-01,  3.40023451e-02,\n",
              "         6.85695708e-02,  2.76518073e-02,  2.01111972e-01, -1.56557523e-02,\n",
              "         1.34375216e-02,  9.90687758e-02,  1.05571924e-02,  7.99716637e-02,\n",
              "        -1.55952191e-02,  8.71886164e-02, -1.63035784e-02,  1.81459934e-02,\n",
              "        -3.32193412e-02,  1.66544899e-01,  5.18439710e-02, -1.82636902e-01,\n",
              "        -3.31769995e-02,  8.04166347e-02,  1.23793893e-01,  7.36249611e-02,\n",
              "         3.03335283e-02,  1.43131077e-01,  1.85933858e-01,  9.79157072e-03,\n",
              "         2.46441904e-02,  6.20085374e-02,  1.42553141e-02,  6.38649836e-02,\n",
              "         8.54717717e-02, -2.11408827e-02,  1.99474711e-02,  1.46956459e-01,\n",
              "         7.55394995e-02, -2.65143923e-02, -2.92224139e-02, -3.91192287e-02,\n",
              "        -5.12314811e-02, -9.20472667e-02,  1.82863101e-01, -1.06376850e-04,\n",
              "        -5.18466234e-02,  1.03237224e-03,  1.22334369e-01,  1.16722263e-01,\n",
              "         1.94882199e-01,  1.19006015e-01,  2.38422174e-02,  4.21653911e-02,\n",
              "         1.08241858e-02, -3.01818810e-02, -1.66425779e-02,  4.61305454e-02,\n",
              "         2.91497651e-02,  5.49991876e-02, -5.55329472e-02,  8.16026479e-02,\n",
              "         5.45416102e-02, -3.71415094e-02,  1.07773775e-02,  1.47351116e-01,\n",
              "         1.09086290e-01,  1.19510531e-01, -2.88760886e-02, -1.19381271e-01],\n",
              "       dtype=float32)]"
            ]
          },
          "metadata": {},
          "execution_count": 16
        }
      ]
    },
    {
      "cell_type": "code",
      "source": [
        "# Get weights of 3rd layer (i.e. output layer)\n",
        "model.layers[2].get_weights()"
      ],
      "metadata": {
        "colab": {
          "base_uri": "https://localhost:8080/"
        },
        "id": "_PMYB-MdqkzX",
        "outputId": "04fb7f8b-b37b-46c1-d1f6-8f1d78f306a0"
      },
      "execution_count": 17,
      "outputs": [
        {
          "output_type": "execute_result",
          "data": {
            "text/plain": [
              "[array([[-0.36793923,  0.20360723,  0.40628442, ..., -0.37838724,\n",
              "         -0.3639054 ,  0.05325854],\n",
              "        [ 0.12082348, -0.42327443,  0.29391435, ..., -0.2908771 ,\n",
              "         -0.40232226,  0.04046506],\n",
              "        [ 0.2648445 , -0.4554192 ,  0.11905419, ..., -0.37156174,\n",
              "         -0.2692523 , -0.18798925],\n",
              "        ...,\n",
              "        [ 0.01911811, -0.25354788, -0.07467554, ..., -0.1488175 ,\n",
              "          0.16638497, -0.04782178],\n",
              "        [-0.12451427,  0.05707598,  0.1411178 , ..., -0.3321623 ,\n",
              "         -0.19022122,  0.09036224],\n",
              "        [ 0.31112674, -0.22770235, -0.11008355, ..., -0.0148942 ,\n",
              "         -0.01690664,  0.19431874]], dtype=float32),\n",
              " array([-0.10563793, -0.10254209, -0.05951811, -0.02235304,  0.05007927,\n",
              "         0.04662417, -0.01517509, -0.08182571,  0.20566642, -0.00568676],\n",
              "       dtype=float32)]"
            ]
          },
          "metadata": {},
          "execution_count": 17
        }
      ]
    },
    {
      "cell_type": "markdown",
      "source": [
        "**Note**\n",
        "\n",
        "The key difference between `sparse_categorical_crossentropy` and `categorical_crossentropy` lies in the way the labels are formatted:\n",
        "\n",
        "- Use `sparse_categorical_crossentropy` if your labels are integer-encoded (e.g., `[0, 1, 2, 3, ...]`).\n",
        "\n",
        "- Use `categorical_crossentropy` if your labels are one-hot encoded (e.g., `[[1, 0, 0], [0, 1, 0], [0, 0, 1]]`)."
      ],
      "metadata": {
        "id": "OmTOBVzMobqO"
      }
    },
    {
      "cell_type": "markdown",
      "source": [
        "![rainbow](https://github.com/ancilcleetus/My-Learning-Journey/assets/25684256/839c3524-2a1d-4779-85a0-83c562e1e5e5)"
      ],
      "metadata": {
        "id": "gOgdxk6SY_hL"
      }
    },
    {
      "cell_type": "markdown",
      "source": [
        "# 6. Model Prediction"
      ],
      "metadata": {
        "id": "lCaxctbkMgHj"
      }
    },
    {
      "cell_type": "code",
      "source": [
        "# Model Prediction\n",
        "y_prob = model.predict(X_test)\n",
        "print(f\"Shape of y_prob: {y_prob.shape} \")\n",
        "print(f\"y_prob: \\n{y_prob}\")"
      ],
      "metadata": {
        "colab": {
          "base_uri": "https://localhost:8080/"
        },
        "id": "TZ1a0dqzqwIr",
        "outputId": "3e0984cc-9713-47f2-d6fe-4956935a531d"
      },
      "execution_count": 20,
      "outputs": [
        {
          "output_type": "stream",
          "name": "stdout",
          "text": [
            "\u001b[1m313/313\u001b[0m \u001b[32m━━━━━━━━━━━━━━━━━━━━\u001b[0m\u001b[37m\u001b[0m \u001b[1m1s\u001b[0m 2ms/step\n",
            "Shape of y_prob: (10000, 10) \n",
            "y_prob: \n",
            "[[1.0242589e-10 1.6958361e-12 9.1538840e-07 ... 9.9999708e-01\n",
            "  1.4240145e-08 1.5103318e-08]\n",
            " [8.9322381e-13 7.6417308e-07 9.9999923e-01 ... 8.2012238e-19\n",
            "  6.6130668e-10 1.0683118e-18]\n",
            " [5.0598157e-09 9.9986887e-01 7.8155581e-06 ... 6.3941756e-05\n",
            "  5.6595098e-05 1.6051869e-08]\n",
            " ...\n",
            " [2.4050125e-14 3.9014340e-11 1.4721013e-11 ... 3.6452782e-06\n",
            "  3.0948968e-06 2.9012904e-04]\n",
            " [3.6660396e-14 1.3981494e-14 2.5469210e-13 ... 1.1560640e-14\n",
            "  3.6937883e-05 1.9631454e-12]\n",
            " [2.4371765e-08 1.2656415e-10 1.1058172e-10 ... 2.4928169e-16\n",
            "  4.0740068e-11 2.1739942e-10]]\n"
          ]
        }
      ]
    },
    {
      "cell_type": "code",
      "source": [
        "y_pred = y_prob.argmax(axis=1)\n",
        "print(f\"Shape of y_pred: {y_pred.shape}\")\n",
        "print(f\"y_pred: \\n{y_pred}\")"
      ],
      "metadata": {
        "colab": {
          "base_uri": "https://localhost:8080/"
        },
        "id": "9sdBOigzrFOp",
        "outputId": "2ad6f9ee-55ac-478c-91c4-3e6b8476074f"
      },
      "execution_count": 21,
      "outputs": [
        {
          "output_type": "stream",
          "name": "stdout",
          "text": [
            "Shape of y_pred: (10000,)\n",
            "y_pred: \n",
            "[7 2 1 ... 4 5 6]\n"
          ]
        }
      ]
    },
    {
      "cell_type": "code",
      "source": [
        "from sklearn.metrics import accuracy_score\n",
        "\n",
        "accuracy = accuracy_score(y_test, y_pred)\n",
        "print(f\"Accuracy: {accuracy}\")"
      ],
      "metadata": {
        "colab": {
          "base_uri": "https://localhost:8080/"
        },
        "id": "-jlHbaFgrWYH",
        "outputId": "8210a114-dba1-4d73-debb-f5e2387d50bc"
      },
      "execution_count": 22,
      "outputs": [
        {
          "output_type": "stream",
          "name": "stdout",
          "text": [
            "Accuracy: 0.9773\n"
          ]
        }
      ]
    },
    {
      "cell_type": "markdown",
      "source": [
        "## Prediction on a single image"
      ],
      "metadata": {
        "id": "B_UmT8YD0Dwh"
      }
    },
    {
      "cell_type": "code",
      "source": [
        "plt.imshow(X_test[1], cmap=\"gray\")"
      ],
      "metadata": {
        "colab": {
          "base_uri": "https://localhost:8080/",
          "height": 447
        },
        "id": "RuOZRd_70AAo",
        "outputId": "1c14aff0-f329-41e7-b1c9-035857c8dbbf"
      },
      "execution_count": 23,
      "outputs": [
        {
          "output_type": "execute_result",
          "data": {
            "text/plain": [
              "<matplotlib.image.AxesImage at 0x7ac69e1e8040>"
            ]
          },
          "metadata": {},
          "execution_count": 23
        },
        {
          "output_type": "display_data",
          "data": {
            "text/plain": [
              "<Figure size 640x480 with 1 Axes>"
            ],
            "image/png": "[encoded data removed]"
          },
          "metadata": {}
        }
      ]
    },
    {
      "cell_type": "code",
      "source": [
        "y_prob = model.predict(X_test[1].reshape(1,28,28))\n",
        "print(f\"Shape of y_prob: {y_prob.shape} \")\n",
        "print(f\"y_prob: \\n{y_prob}\")"
      ],
      "metadata": {
        "colab": {
          "base_uri": "https://localhost:8080/"
        },
        "id": "cDTRQw7D0Op2",
        "outputId": "96effa1c-46f3-4de8-a81d-4cb0f7ff50a4"
      },
      "execution_count": 25,
      "outputs": [
        {
          "output_type": "stream",
          "name": "stdout",
          "text": [
            "\u001b[1m1/1\u001b[0m \u001b[32m━━━━━━━━━━━━━━━━━━━━\u001b[0m\u001b[37m\u001b[0m \u001b[1m0s\u001b[0m 75ms/step\n",
            "Shape of y_prob: (1, 10) \n",
            "y_prob: \n",
            "[[8.9322386e-13 7.6417308e-07 9.9999928e-01 3.5308054e-10 1.6869314e-21\n",
            "  2.3156965e-13 5.7936240e-13 8.2012244e-19 6.6130917e-10 1.0683161e-18]]\n"
          ]
        }
      ]
    },
    {
      "cell_type": "code",
      "source": [
        "y_pred = y_prob.argmax(axis=1)\n",
        "print(f\"Shape of y_pred: {y_pred.shape}\")\n",
        "print(f\"y_pred: \\n{y_pred}\")"
      ],
      "metadata": {
        "colab": {
          "base_uri": "https://localhost:8080/"
        },
        "id": "8KPJUPnz0lMv",
        "outputId": "504943b2-6009-4d41-b17c-4fea6f958490"
      },
      "execution_count": 26,
      "outputs": [
        {
          "output_type": "stream",
          "name": "stdout",
          "text": [
            "Shape of y_pred: (1,)\n",
            "y_pred: \n",
            "[2]\n"
          ]
        }
      ]
    },
    {
      "cell_type": "markdown",
      "source": [
        "![rainbow](https://github.com/ancilcleetus/My-Learning-Journey/assets/25684256/839c3524-2a1d-4779-85a0-83c562e1e5e5)"
      ],
      "metadata": {
        "id": "xBSmDZ_iqX3m"
      }
    },
    {
      "cell_type": "markdown",
      "source": [
        "# 7. Experiment: Use Updated Model"
      ],
      "metadata": {
        "id": "wsUgxAoeqX3s"
      }
    },
    {
      "cell_type": "markdown",
      "source": [
        "Here, we update the model by adding a hidden layer with 32 nodes after 1st hidden layer."
      ],
      "metadata": {
        "id": "S4iBMJQjqpUO"
      }
    },
    {
      "cell_type": "code",
      "source": [
        "model = Sequential()\n",
        "\n",
        "model.add(Flatten(input_shape=(28,28)))  # Converts dimensions from 28x28 to 1x784\n",
        "model.add(Dense(128, activation=\"relu\"))\n",
        "model.add(Dense(32, activation=\"relu\"))\n",
        "model.add(Dense(10, activation=\"softmax\"))"
      ],
      "metadata": {
        "id": "lrwCEpW61OJI"
      },
      "execution_count": 28,
      "outputs": []
    },
    {
      "cell_type": "code",
      "source": [
        "model.summary()"
      ],
      "metadata": {
        "colab": {
          "base_uri": "https://localhost:8080/",
          "height": 272
        },
        "outputId": "aa1ff216-60c2-435e-ab2f-1961c14421c9",
        "id": "9qBvfxUh1OJS"
      },
      "execution_count": 29,
      "outputs": [
        {
          "output_type": "display_data",
          "data": {
            "text/plain": [
              "\u001b[1mModel: \"sequential_3\"\u001b[0m\n"
            ],
            "text/html": [
              "<pre style=\"white-space:pre;overflow-x:auto;line-height:normal;font-family:Menlo,'DejaVu Sans Mono',consolas,'Courier New',monospace\"><span style=\"font-weight: bold\">Model: \"sequential_3\"</span>\n",
              "</pre>\n"
            ]
          },
          "metadata": {}
        },
        {
          "output_type": "display_data",
          "data": {
            "text/plain": [
              "┏━━━━━━━━━━━━━━━━━━━━━━━━━━━━━━━━━━━━━━┳━━━━━━━━━━━━━━━━━━━━━━━━━━━━━┳━━━━━━━━━━━━━━━━━┓\n",
              "┃\u001b[1m \u001b[0m\u001b[1mLayer (type)                        \u001b[0m\u001b[1m \u001b[0m┃\u001b[1m \u001b[0m\u001b[1mOutput Shape               \u001b[0m\u001b[1m \u001b[0m┃\u001b[1m \u001b[0m\u001b[1m        Param #\u001b[0m\u001b[1m \u001b[0m┃\n",
              "┡━━━━━━━━━━━━━━━━━━━━━━━━━━━━━━━━━━━━━━╇━━━━━━━━━━━━━━━━━━━━━━━━━━━━━╇━━━━━━━━━━━━━━━━━┩\n",
              "│ flatten_3 (\u001b[38;5;33mFlatten\u001b[0m)                  │ (\u001b[38;5;45mNone\u001b[0m, \u001b[38;5;34m784\u001b[0m)                 │               \u001b[38;5;34m0\u001b[0m │\n",
              "├──────────────────────────────────────┼─────────────────────────────┼─────────────────┤\n",
              "│ dense_7 (\u001b[38;5;33mDense\u001b[0m)                      │ (\u001b[38;5;45mNone\u001b[0m, \u001b[38;5;34m128\u001b[0m)                 │         \u001b[38;5;34m100,480\u001b[0m │\n",
              "├──────────────────────────────────────┼─────────────────────────────┼─────────────────┤\n",
              "│ dense_8 (\u001b[38;5;33mDense\u001b[0m)                      │ (\u001b[38;5;45mNone\u001b[0m, \u001b[38;5;34m32\u001b[0m)                  │           \u001b[38;5;34m4,128\u001b[0m │\n",
              "├──────────────────────────────────────┼─────────────────────────────┼─────────────────┤\n",
              "│ dense_9 (\u001b[38;5;33mDense\u001b[0m)                      │ (\u001b[38;5;45mNone\u001b[0m, \u001b[38;5;34m10\u001b[0m)                  │             \u001b[38;5;34m330\u001b[0m │\n",
              "└──────────────────────────────────────┴─────────────────────────────┴─────────────────┘\n"
            ],
            "text/html": [
              "<pre style=\"white-space:pre;overflow-x:auto;line-height:normal;font-family:Menlo,'DejaVu Sans Mono',consolas,'Courier New',monospace\">┏━━━━━━━━━━━━━━━━━━━━━━━━━━━━━━━━━━━━━━┳━━━━━━━━━━━━━━━━━━━━━━━━━━━━━┳━━━━━━━━━━━━━━━━━┓\n",
              "┃<span style=\"font-weight: bold\"> Layer (type)                         </span>┃<span style=\"font-weight: bold\"> Output Shape                </span>┃<span style=\"font-weight: bold\">         Param # </span>┃\n",
              "┡━━━━━━━━━━━━━━━━━━━━━━━━━━━━━━━━━━━━━━╇━━━━━━━━━━━━━━━━━━━━━━━━━━━━━╇━━━━━━━━━━━━━━━━━┩\n",
              "│ flatten_3 (<span style=\"color: #0087ff; text-decoration-color: #0087ff\">Flatten</span>)                  │ (<span style=\"color: #00d7ff; text-decoration-color: #00d7ff\">None</span>, <span style=\"color: #00af00; text-decoration-color: #00af00\">784</span>)                 │               <span style=\"color: #00af00; text-decoration-color: #00af00\">0</span> │\n",
              "├──────────────────────────────────────┼─────────────────────────────┼─────────────────┤\n",
              "│ dense_7 (<span style=\"color: #0087ff; text-decoration-color: #0087ff\">Dense</span>)                      │ (<span style=\"color: #00d7ff; text-decoration-color: #00d7ff\">None</span>, <span style=\"color: #00af00; text-decoration-color: #00af00\">128</span>)                 │         <span style=\"color: #00af00; text-decoration-color: #00af00\">100,480</span> │\n",
              "├──────────────────────────────────────┼─────────────────────────────┼─────────────────┤\n",
              "│ dense_8 (<span style=\"color: #0087ff; text-decoration-color: #0087ff\">Dense</span>)                      │ (<span style=\"color: #00d7ff; text-decoration-color: #00d7ff\">None</span>, <span style=\"color: #00af00; text-decoration-color: #00af00\">32</span>)                  │           <span style=\"color: #00af00; text-decoration-color: #00af00\">4,128</span> │\n",
              "├──────────────────────────────────────┼─────────────────────────────┼─────────────────┤\n",
              "│ dense_9 (<span style=\"color: #0087ff; text-decoration-color: #0087ff\">Dense</span>)                      │ (<span style=\"color: #00d7ff; text-decoration-color: #00d7ff\">None</span>, <span style=\"color: #00af00; text-decoration-color: #00af00\">10</span>)                  │             <span style=\"color: #00af00; text-decoration-color: #00af00\">330</span> │\n",
              "└──────────────────────────────────────┴─────────────────────────────┴─────────────────┘\n",
              "</pre>\n"
            ]
          },
          "metadata": {}
        },
        {
          "output_type": "display_data",
          "data": {
            "text/plain": [
              "\u001b[1m Total params: \u001b[0m\u001b[38;5;34m104,938\u001b[0m (409.91 KB)\n"
            ],
            "text/html": [
              "<pre style=\"white-space:pre;overflow-x:auto;line-height:normal;font-family:Menlo,'DejaVu Sans Mono',consolas,'Courier New',monospace\"><span style=\"font-weight: bold\"> Total params: </span><span style=\"color: #00af00; text-decoration-color: #00af00\">104,938</span> (409.91 KB)\n",
              "</pre>\n"
            ]
          },
          "metadata": {}
        },
        {
          "output_type": "display_data",
          "data": {
            "text/plain": [
              "\u001b[1m Trainable params: \u001b[0m\u001b[38;5;34m104,938\u001b[0m (409.91 KB)\n"
            ],
            "text/html": [
              "<pre style=\"white-space:pre;overflow-x:auto;line-height:normal;font-family:Menlo,'DejaVu Sans Mono',consolas,'Courier New',monospace\"><span style=\"font-weight: bold\"> Trainable params: </span><span style=\"color: #00af00; text-decoration-color: #00af00\">104,938</span> (409.91 KB)\n",
              "</pre>\n"
            ]
          },
          "metadata": {}
        },
        {
          "output_type": "display_data",
          "data": {
            "text/plain": [
              "\u001b[1m Non-trainable params: \u001b[0m\u001b[38;5;34m0\u001b[0m (0.00 B)\n"
            ],
            "text/html": [
              "<pre style=\"white-space:pre;overflow-x:auto;line-height:normal;font-family:Menlo,'DejaVu Sans Mono',consolas,'Courier New',monospace\"><span style=\"font-weight: bold\"> Non-trainable params: </span><span style=\"color: #00af00; text-decoration-color: #00af00\">0</span> (0.00 B)\n",
              "</pre>\n"
            ]
          },
          "metadata": {}
        }
      ]
    },
    {
      "cell_type": "code",
      "source": [
        "model.compile(loss='sparse_categorical_crossentropy',optimizer='Adam',metrics=['accuracy'])"
      ],
      "metadata": {
        "id": "_J6Kv9Fa1OJW"
      },
      "execution_count": 30,
      "outputs": []
    },
    {
      "cell_type": "code",
      "source": [
        "history = model.fit(X_train, y_train, epochs=25, validation_split=0.2)"
      ],
      "metadata": {
        "colab": {
          "base_uri": "https://localhost:8080/"
        },
        "outputId": "1771f7fa-b8bc-4dc2-c469-66bb15e87831",
        "id": "GDK1-l-B1OJb"
      },
      "execution_count": 31,
      "outputs": [
        {
          "output_type": "stream",
          "name": "stdout",
          "text": [
            "Epoch 1/25\n",
            "\u001b[1m1500/1500\u001b[0m \u001b[32m━━━━━━━━━━━━━━━━━━━━\u001b[0m\u001b[37m\u001b[0m \u001b[1m9s\u001b[0m 5ms/step - accuracy: 0.8558 - loss: 0.4918 - val_accuracy: 0.9548 - val_loss: 0.1556\n",
            "Epoch 2/25\n",
            "\u001b[1m1500/1500\u001b[0m \u001b[32m━━━━━━━━━━━━━━━━━━━━\u001b[0m\u001b[37m\u001b[0m \u001b[1m9s\u001b[0m 4ms/step - accuracy: 0.9615 - loss: 0.1237 - val_accuracy: 0.9671 - val_loss: 0.1147\n",
            "Epoch 3/25\n",
            "\u001b[1m1500/1500\u001b[0m \u001b[32m━━━━━━━━━━━━━━━━━━━━\u001b[0m\u001b[37m\u001b[0m \u001b[1m8s\u001b[0m 5ms/step - accuracy: 0.9760 - loss: 0.0802 - val_accuracy: 0.9688 - val_loss: 0.1074\n",
            "Epoch 4/25\n",
            "\u001b[1m1500/1500\u001b[0m \u001b[32m━━━━━━━━━━━━━━━━━━━━\u001b[0m\u001b[37m\u001b[0m \u001b[1m6s\u001b[0m 4ms/step - accuracy: 0.9834 - loss: 0.0546 - val_accuracy: 0.9722 - val_loss: 0.1029\n",
            "Epoch 5/25\n",
            "\u001b[1m1500/1500\u001b[0m \u001b[32m━━━━━━━━━━━━━━━━━━━━\u001b[0m\u001b[37m\u001b[0m \u001b[1m7s\u001b[0m 5ms/step - accuracy: 0.9851 - loss: 0.0464 - val_accuracy: 0.9726 - val_loss: 0.1073\n",
            "Epoch 6/25\n",
            "\u001b[1m1500/1500\u001b[0m \u001b[32m━━━━━━━━━━━━━━━━━━━━\u001b[0m\u001b[37m\u001b[0m \u001b[1m10s\u001b[0m 5ms/step - accuracy: 0.9889 - loss: 0.0366 - val_accuracy: 0.9756 - val_loss: 0.0940\n",
            "Epoch 7/25\n",
            "\u001b[1m1500/1500\u001b[0m \u001b[32m━━━━━━━━━━━━━━━━━━━━\u001b[0m\u001b[37m\u001b[0m \u001b[1m6s\u001b[0m 4ms/step - accuracy: 0.9911 - loss: 0.0285 - val_accuracy: 0.9737 - val_loss: 0.1000\n",
            "Epoch 8/25\n",
            "\u001b[1m1500/1500\u001b[0m \u001b[32m━━━━━━━━━━━━━━━━━━━━\u001b[0m\u001b[37m\u001b[0m \u001b[1m12s\u001b[0m 5ms/step - accuracy: 0.9924 - loss: 0.0231 - val_accuracy: 0.9752 - val_loss: 0.0972\n",
            "Epoch 9/25\n",
            "\u001b[1m1500/1500\u001b[0m \u001b[32m━━━━━━━━━━━━━━━━━━━━\u001b[0m\u001b[37m\u001b[0m \u001b[1m11s\u001b[0m 5ms/step - accuracy: 0.9942 - loss: 0.0190 - val_accuracy: 0.9756 - val_loss: 0.1030\n",
            "Epoch 10/25\n",
            "\u001b[1m1500/1500\u001b[0m \u001b[32m━━━━━━━━━━━━━━━━━━━━\u001b[0m\u001b[37m\u001b[0m \u001b[1m5s\u001b[0m 4ms/step - accuracy: 0.9938 - loss: 0.0188 - val_accuracy: 0.9703 - val_loss: 0.1239\n",
            "Epoch 11/25\n",
            "\u001b[1m1500/1500\u001b[0m \u001b[32m━━━━━━━━━━━━━━━━━━━━\u001b[0m\u001b[37m\u001b[0m \u001b[1m8s\u001b[0m 5ms/step - accuracy: 0.9956 - loss: 0.0149 - val_accuracy: 0.9774 - val_loss: 0.1042\n",
            "Epoch 12/25\n",
            "\u001b[1m1500/1500\u001b[0m \u001b[32m━━━━━━━━━━━━━━━━━━━━\u001b[0m\u001b[37m\u001b[0m \u001b[1m6s\u001b[0m 4ms/step - accuracy: 0.9962 - loss: 0.0112 - val_accuracy: 0.9768 - val_loss: 0.1097\n",
            "Epoch 13/25\n",
            "\u001b[1m1500/1500\u001b[0m \u001b[32m━━━━━━━━━━━━━━━━━━━━\u001b[0m\u001b[37m\u001b[0m \u001b[1m7s\u001b[0m 5ms/step - accuracy: 0.9952 - loss: 0.0142 - val_accuracy: 0.9761 - val_loss: 0.1170\n",
            "Epoch 14/25\n",
            "\u001b[1m1500/1500\u001b[0m \u001b[32m━━━━━━━━━━━━━━━━━━━━\u001b[0m\u001b[37m\u001b[0m \u001b[1m5s\u001b[0m 4ms/step - accuracy: 0.9966 - loss: 0.0107 - val_accuracy: 0.9747 - val_loss: 0.1293\n",
            "Epoch 15/25\n",
            "\u001b[1m1500/1500\u001b[0m \u001b[32m━━━━━━━━━━━━━━━━━━━━\u001b[0m\u001b[37m\u001b[0m \u001b[1m6s\u001b[0m 4ms/step - accuracy: 0.9964 - loss: 0.0116 - val_accuracy: 0.9762 - val_loss: 0.1186\n",
            "Epoch 16/25\n",
            "\u001b[1m1500/1500\u001b[0m \u001b[32m━━━━━━━━━━━━━━━━━━━━\u001b[0m\u001b[37m\u001b[0m \u001b[1m10s\u001b[0m 4ms/step - accuracy: 0.9968 - loss: 0.0102 - val_accuracy: 0.9776 - val_loss: 0.1170\n",
            "Epoch 17/25\n",
            "\u001b[1m1500/1500\u001b[0m \u001b[32m━━━━━━━━━━━━━━━━━━━━\u001b[0m\u001b[37m\u001b[0m \u001b[1m7s\u001b[0m 5ms/step - accuracy: 0.9976 - loss: 0.0080 - val_accuracy: 0.9744 - val_loss: 0.1339\n",
            "Epoch 18/25\n",
            "\u001b[1m1500/1500\u001b[0m \u001b[32m━━━━━━━━━━━━━━━━━━━━\u001b[0m\u001b[37m\u001b[0m \u001b[1m10s\u001b[0m 5ms/step - accuracy: 0.9964 - loss: 0.0109 - val_accuracy: 0.9724 - val_loss: 0.1513\n",
            "Epoch 19/25\n",
            "\u001b[1m1500/1500\u001b[0m \u001b[32m━━━━━━━━━━━━━━━━━━━━\u001b[0m\u001b[37m\u001b[0m \u001b[1m6s\u001b[0m 4ms/step - accuracy: 0.9978 - loss: 0.0079 - val_accuracy: 0.9771 - val_loss: 0.1360\n",
            "Epoch 20/25\n",
            "\u001b[1m1500/1500\u001b[0m \u001b[32m━━━━━━━━━━━━━━━━━━━━\u001b[0m\u001b[37m\u001b[0m \u001b[1m7s\u001b[0m 5ms/step - accuracy: 0.9979 - loss: 0.0069 - val_accuracy: 0.9722 - val_loss: 0.1545\n",
            "Epoch 21/25\n",
            "\u001b[1m1500/1500\u001b[0m \u001b[32m━━━━━━━━━━━━━━━━━━━━\u001b[0m\u001b[37m\u001b[0m \u001b[1m9s\u001b[0m 4ms/step - accuracy: 0.9968 - loss: 0.0081 - val_accuracy: 0.9767 - val_loss: 0.1310\n",
            "Epoch 22/25\n",
            "\u001b[1m1500/1500\u001b[0m \u001b[32m━━━━━━━━━━━━━━━━━━━━\u001b[0m\u001b[37m\u001b[0m \u001b[1m7s\u001b[0m 5ms/step - accuracy: 0.9975 - loss: 0.0073 - val_accuracy: 0.9743 - val_loss: 0.1539\n",
            "Epoch 23/25\n",
            "\u001b[1m1500/1500\u001b[0m \u001b[32m━━━━━━━━━━━━━━━━━━━━\u001b[0m\u001b[37m\u001b[0m \u001b[1m6s\u001b[0m 4ms/step - accuracy: 0.9969 - loss: 0.0098 - val_accuracy: 0.9766 - val_loss: 0.1437\n",
            "Epoch 24/25\n",
            "\u001b[1m1500/1500\u001b[0m \u001b[32m━━━━━━━━━━━━━━━━━━━━\u001b[0m\u001b[37m\u001b[0m \u001b[1m7s\u001b[0m 5ms/step - accuracy: 0.9976 - loss: 0.0073 - val_accuracy: 0.9738 - val_loss: 0.1642\n",
            "Epoch 25/25\n",
            "\u001b[1m1500/1500\u001b[0m \u001b[32m━━━━━━━━━━━━━━━━━━━━\u001b[0m\u001b[37m\u001b[0m \u001b[1m8s\u001b[0m 4ms/step - accuracy: 0.9977 - loss: 0.0073 - val_accuracy: 0.9759 - val_loss: 0.1570\n"
          ]
        }
      ]
    },
    {
      "cell_type": "code",
      "source": [
        "plt.plot(history.history[\"loss\"])\n",
        "plt.plot(history.history[\"val_loss\"])\n",
        "plt.title(\"Model Loss\")\n",
        "plt.ylabel(\"Loss\")\n",
        "plt.xlabel(\"Epoch\")\n",
        "plt.legend([\"Train\", \"Validation\"], loc=\"upper right\")"
      ],
      "metadata": {
        "colab": {
          "base_uri": "https://localhost:8080/",
          "height": 489
        },
        "outputId": "652e4595-d715-48d2-cd9e-af91ca023573",
        "id": "lJiogvC51OJe"
      },
      "execution_count": 32,
      "outputs": [
        {
          "output_type": "execute_result",
          "data": {
            "text/plain": [
              "<matplotlib.legend.Legend at 0x7ac69e0d7fa0>"
            ]
          },
          "metadata": {},
          "execution_count": 32
        },
        {
          "output_type": "display_data",
          "data": {
            "text/plain": [
              "<Figure size 640x480 with 1 Axes>"
            ],
            "image/png": "[encoded data removed]"
          },
          "metadata": {}
        }
      ]
    },
    {
      "cell_type": "code",
      "source": [
        "plt.plot(history.history[\"accuracy\"])\n",
        "plt.plot(history.history[\"val_accuracy\"])\n",
        "plt.title(\"Model Accuracy\")\n",
        "plt.ylabel(\"Accuracy\")\n",
        "plt.xlabel(\"Epoch\")\n",
        "plt.legend([\"Train\", \"Validation\"], loc=\"lower right\")"
      ],
      "metadata": {
        "colab": {
          "base_uri": "https://localhost:8080/",
          "height": 489
        },
        "outputId": "d309b4ed-7486-4ba8-a7fd-c97f17da42bb",
        "id": "biZjWKfO1OJl"
      },
      "execution_count": 33,
      "outputs": [
        {
          "output_type": "execute_result",
          "data": {
            "text/plain": [
              "<matplotlib.legend.Legend at 0x7ac69de53430>"
            ]
          },
          "metadata": {},
          "execution_count": 33
        },
        {
          "output_type": "display_data",
          "data": {
            "text/plain": [
              "<Figure size 640x480 with 1 Axes>"
            ],
            "image/png": "[encoded data removed]"
          },
          "metadata": {}
        }
      ]
    },
    {
      "cell_type": "code",
      "source": [
        "# Get weights of 2nd layer (i.e. first hidden layer after Flatten layer)\n",
        "model.layers[1].get_weights()"
      ],
      "metadata": {
        "colab": {
          "base_uri": "https://localhost:8080/"
        },
        "outputId": "42b393a4-93aa-40b6-fcdf-dc07317eb5e0",
        "id": "kjG-KQ6w1OJn"
      },
      "execution_count": 35,
      "outputs": [
        {
          "output_type": "execute_result",
          "data": {
            "text/plain": [
              "[array([[-0.01419079, -0.02996444, -0.07561958, ...,  0.0234836 ,\n",
              "          0.02121323, -0.02893886],\n",
              "        [ 0.00538465, -0.06804869,  0.05923862, ..., -0.0196978 ,\n",
              "          0.05152384,  0.00626857],\n",
              "        [-0.07794087, -0.0786427 , -0.0613934 , ...,  0.00214632,\n",
              "         -0.04817588, -0.06719296],\n",
              "        ...,\n",
              "        [-0.06729158, -0.06999306,  0.05782475, ..., -0.07114267,\n",
              "          0.0503974 ,  0.03907918],\n",
              "        [-0.05084451, -0.06239998, -0.04368845, ..., -0.06118168,\n",
              "          0.04253676, -0.03399493],\n",
              "        [ 0.01292601, -0.02650778,  0.03981166, ...,  0.01595168,\n",
              "          0.06277608,  0.03535269]], dtype=float32),\n",
              " array([ 0.0608966 , -0.00799181, -0.09408717,  0.01793515,  0.27454078,\n",
              "         0.03269128, -0.06125837, -0.04368133, -0.04127343, -0.01878063,\n",
              "        -0.083779  , -0.03394272,  0.03217252,  0.15013376, -0.00535316,\n",
              "         0.07552736,  0.048583  , -0.02898902,  0.18070213, -0.00277964,\n",
              "        -0.04751366,  0.07629348,  0.0105711 , -0.07809536, -0.01468054,\n",
              "        -0.04624517,  0.10845526,  0.18775086, -0.06989602,  0.01378549,\n",
              "         0.15148965,  0.21894762, -0.02521636, -0.00769448, -0.27410606,\n",
              "        -0.04321611,  0.1256578 ,  0.11238568, -0.03297437, -0.12454312,\n",
              "         0.12362419, -0.12349685,  0.06442435, -0.01591906, -0.05320834,\n",
              "        -0.12621205, -0.1691558 ,  0.07288794, -0.12504274, -0.03579095,\n",
              "        -0.1388599 , -0.16316845, -0.12295998,  0.12136076, -0.29820403,\n",
              "        -0.16845421, -0.02221702, -0.18303128,  0.04055556,  0.14637692,\n",
              "        -0.00761587,  0.06072019, -0.14398941,  0.07487995, -0.01126799,\n",
              "        -0.06266037, -0.15053742,  0.09948827,  0.03998401, -0.08027738,\n",
              "         0.1967413 , -0.27234936, -0.1165241 ,  0.14840339,  0.08476647,\n",
              "         0.03415957,  0.03825348,  0.01674405,  0.08679915,  0.18187658,\n",
              "         0.02359864, -0.17201847,  0.01383745, -0.02944112, -0.04980997,\n",
              "        -0.13080157,  0.0191671 , -0.01724966,  0.14366405,  0.07375973,\n",
              "        -0.08005972, -0.3128441 , -0.05353149,  0.07817066,  0.04786354,\n",
              "         0.13751675, -0.00708267,  0.24630599, -0.002764  ,  0.01964466,\n",
              "         0.09922767, -0.30904207,  0.03484732, -0.11012048,  0.26513645,\n",
              "         0.0302929 ,  0.14160755,  0.0536909 , -0.11395289,  0.02587459,\n",
              "        -0.13808353, -0.00612279,  0.22339281, -0.26615566, -0.0041682 ,\n",
              "         0.13607487, -0.02893607, -0.05933869, -0.07963215, -0.07456753,\n",
              "         0.2163503 ,  0.05577759, -0.11231688, -0.1068405 ,  0.06476229,\n",
              "        -0.04947311,  0.09143785,  0.11630293], dtype=float32)]"
            ]
          },
          "metadata": {},
          "execution_count": 35
        }
      ]
    },
    {
      "cell_type": "code",
      "source": [
        "# Get weights of 3rd layer (i.e. second hidden layer)\n",
        "model.layers[2].get_weights()"
      ],
      "metadata": {
        "colab": {
          "base_uri": "https://localhost:8080/"
        },
        "id": "NpT-zYHS3FRN",
        "outputId": "dd1df7fb-dd9e-4889-8c95-cda525264142"
      },
      "execution_count": 36,
      "outputs": [
        {
          "output_type": "execute_result",
          "data": {
            "text/plain": [
              "[array([[-0.11321935,  0.20672798, -0.293195  , ...,  0.22992986,\n",
              "         -0.06691982, -0.28293154],\n",
              "        [-0.04646463,  0.0302583 , -0.44462326, ..., -0.07790194,\n",
              "          0.19919157, -0.14616653],\n",
              "        [ 0.37929943, -0.03992836, -0.25357878, ...,  0.00683854,\n",
              "          0.32249293, -0.30644327],\n",
              "        ...,\n",
              "        [-0.20652017,  0.13577577,  0.20045713, ..., -0.13702294,\n",
              "          0.11284722,  0.3696307 ],\n",
              "        [ 0.16441879, -0.08211625,  0.08284535, ...,  0.23097405,\n",
              "         -0.012755  ,  0.3338819 ],\n",
              "        [ 0.60088044,  0.20619044,  0.40114734, ...,  0.5483266 ,\n",
              "         -0.5289592 ,  0.6558682 ]], dtype=float32),\n",
              " array([-0.0384725 , -0.05847269,  0.00917473, -0.20979933, -0.09384216,\n",
              "         0.3790049 , -0.09450878,  0.09984307, -0.21874584,  0.12628835,\n",
              "        -0.00245894,  0.02642309,  0.2149976 ,  0.00849763, -0.11658178,\n",
              "         0.4697177 , -0.14582421,  0.21758187, -0.01195916,  0.4031772 ,\n",
              "         0.25377524, -0.03613201,  0.06671685,  0.13317834,  0.27031565,\n",
              "         0.12046848, -0.24766022, -0.12060418, -0.07582708, -0.12402456,\n",
              "         0.3739053 , -0.14602494], dtype=float32)]"
            ]
          },
          "metadata": {},
          "execution_count": 36
        }
      ]
    },
    {
      "cell_type": "code",
      "source": [
        "# Get weights of 4th layer (i.e. output layer)\n",
        "model.layers[3].get_weights()"
      ],
      "metadata": {
        "colab": {
          "base_uri": "https://localhost:8080/"
        },
        "outputId": "3707b856-f952-42ee-e212-911d578db8b8",
        "id": "6mcDtE2Z1OJt"
      },
      "execution_count": 37,
      "outputs": [
        {
          "output_type": "execute_result",
          "data": {
            "text/plain": [
              "[array([[ 6.07630253e-01,  3.42546999e-01, -1.72140321e-03,\n",
              "         -3.89926016e-01, -2.53751904e-01, -5.39694786e-01,\n",
              "          7.72722289e-02, -2.53923625e-01, -5.06677143e-02,\n",
              "          2.21447721e-01],\n",
              "        [ 7.31715709e-02,  3.94657850e-01, -9.90094170e-02,\n",
              "         -6.49314880e-01,  3.78843069e-01, -1.54808924e-01,\n",
              "         -3.32229048e-01, -6.13391757e-01, -1.32308289e-01,\n",
              "         -2.10617170e-01],\n",
              "        [-3.77755225e-01, -1.91178154e-02,  5.19396245e-01,\n",
              "         -4.01131213e-01,  1.20598182e-01, -2.28244260e-01,\n",
              "          3.70596111e-01, -4.19990152e-01, -3.39300990e-01,\n",
              "         -4.74782914e-01],\n",
              "        [-1.16743473e-02,  2.04818249e-01,  4.41142887e-01,\n",
              "          2.17573300e-01, -6.44773901e-01, -2.69701984e-02,\n",
              "         -5.99604011e-01,  1.54241189e-01, -5.03498018e-01,\n",
              "         -9.48312432e-02],\n",
              "        [-1.43235549e-01,  4.80214596e-01, -3.66109237e-02,\n",
              "         -2.41988748e-01, -1.29018962e-01, -7.28436410e-02,\n",
              "          1.25765935e-01,  1.45705685e-01, -4.69629139e-01,\n",
              "         -4.78821881e-02],\n",
              "        [-2.45606229e-01, -6.20800376e-01,  2.57079273e-01,\n",
              "          4.46961164e-01, -1.40102535e-01,  1.33069918e-01,\n",
              "         -1.66907415e-01, -8.18210602e-01,  1.72935128e-01,\n",
              "          1.55687388e-02],\n",
              "        [ 2.65293717e-01, -7.60565400e-01, -3.42223316e-01,\n",
              "         -5.93750656e-01, -3.73025090e-01, -3.10920715e-01,\n",
              "          1.97600558e-01,  4.65702087e-01,  8.50545540e-02,\n",
              "         -2.16913521e-01],\n",
              "        [ 3.60089809e-01,  3.75979729e-02,  2.33083591e-01,\n",
              "         -6.49734199e-01,  1.13820255e-01, -2.82489043e-02,\n",
              "          1.48854554e-01, -5.15510291e-02,  3.53205688e-02,\n",
              "         -6.59757912e-01],\n",
              "        [-2.68298954e-01,  5.01506805e-01, -2.16445848e-01,\n",
              "         -7.92134367e-03, -4.74987686e-01,  4.83384281e-01,\n",
              "          4.19870257e-01,  8.73470753e-02, -1.34368718e-01,\n",
              "         -8.82992387e-01],\n",
              "        [ 6.63027093e-02, -1.03925478e+00, -6.57330751e-01,\n",
              "         -1.04739353e-01, -5.99612653e-01,  6.63592041e-01,\n",
              "          7.74781033e-02,  4.29903269e-01,  2.23720163e-01,\n",
              "         -2.33582422e-01],\n",
              "        [-7.37745315e-02, -1.59174025e-01, -2.30530635e-01,\n",
              "         -3.48899394e-01,  3.82213473e-01,  3.87679100e-01,\n",
              "         -2.67665237e-01,  4.95766670e-01, -5.18128216e-01,\n",
              "         -7.72585869e-02],\n",
              "        [-3.37149918e-01, -4.78948325e-01, -3.82975459e-01,\n",
              "          4.57640588e-01,  2.57253289e-01, -5.46243906e-01,\n",
              "         -6.49368465e-01, -3.16263020e-01, -3.11334312e-01,\n",
              "          5.58597744e-01],\n",
              "        [-7.23136842e-01, -1.62525818e-01, -8.33979070e-01,\n",
              "          8.38144496e-02,  2.96578228e-01,  1.62535813e-02,\n",
              "          1.93686068e-01,  3.28976512e-01,  1.85904399e-01,\n",
              "          2.37203866e-01],\n",
              "        [ 1.08729295e-01, -4.27283570e-02,  1.33841082e-01,\n",
              "         -2.16193736e-01, -6.70217335e-01,  5.25794983e-01,\n",
              "         -4.15583402e-01, -2.79895455e-01, -4.40235645e-01,\n",
              "          5.40739596e-01],\n",
              "        [ 1.90760583e-01,  1.87294036e-01, -2.75532663e-01,\n",
              "          1.50513768e-01, -1.10470049e-01,  2.55805790e-01,\n",
              "          1.11995563e-01,  2.02230364e-01,  2.62644142e-01,\n",
              "          8.63543227e-02],\n",
              "        [ 6.00523427e-02, -4.28358048e-01, -3.88825536e-02,\n",
              "          3.42808031e-02,  3.75452071e-01, -3.46995652e-01,\n",
              "          5.12631118e-01, -5.18991590e-01,  5.20851433e-01,\n",
              "         -4.83154416e-01],\n",
              "        [ 2.59461522e-01,  3.83106738e-01, -4.14288193e-01,\n",
              "          3.20492506e-01, -4.72958952e-01,  1.24674372e-01,\n",
              "          1.78647876e-01, -3.33252430e-01, -1.55613124e-01,\n",
              "         -2.22808838e-01],\n",
              "        [ 3.74087185e-01, -3.68165940e-01, -7.09421327e-03,\n",
              "         -1.42008886e-01, -3.59149128e-01, -8.69873643e-01,\n",
              "         -3.65737081e-01,  2.30753034e-01,  2.29894191e-01,\n",
              "          4.27589178e-01],\n",
              "        [ 4.57209259e-01, -7.58117080e-01, -4.35250223e-01,\n",
              "          6.03824437e-01,  1.23568494e-02, -1.55003235e-01,\n",
              "         -1.82880193e-01, -6.15235925e-01, -5.33777177e-01,\n",
              "         -5.94187200e-01],\n",
              "        [-4.69951838e-01, -1.78316515e-02, -6.56430006e-01,\n",
              "         -6.88724041e-01,  5.81533194e-01,  1.96273446e-01,\n",
              "         -3.80595244e-04, -7.87621617e-01,  3.32193464e-01,\n",
              "          9.84304845e-02],\n",
              "        [-5.48946857e-01,  2.09907219e-01,  3.03338200e-01,\n",
              "         -3.05289477e-01, -2.55372584e-01, -2.01854631e-02,\n",
              "         -3.25516671e-01, -4.14135426e-01,  3.00504655e-01,\n",
              "          8.38017911e-02],\n",
              "        [-3.78104120e-01, -7.15153158e-01, -7.45691776e-01,\n",
              "         -4.07578470e-03, -3.50259036e-01,  5.01791358e-01,\n",
              "          2.63064414e-01,  3.01578343e-01, -8.40731263e-02,\n",
              "          2.96052873e-01],\n",
              "        [-4.71463859e-01,  4.47904378e-01,  2.02218756e-01,\n",
              "         -1.66996732e-01,  4.66975898e-01, -8.00241292e-01,\n",
              "         -6.34302437e-01,  2.03700557e-01, -1.45396024e-01,\n",
              "         -4.23127115e-01],\n",
              "        [-5.26263356e-01, -3.71977061e-01,  4.30415303e-01,\n",
              "          4.20658320e-01, -7.90750980e-01,  1.64504781e-01,\n",
              "         -8.23074281e-01,  2.04428732e-01,  1.62311718e-02,\n",
              "         -1.27625629e-01],\n",
              "        [-8.25007498e-01,  2.22051203e-01, -2.75683433e-01,\n",
              "          2.28224009e-01, -2.51038939e-01,  2.76776999e-01,\n",
              "         -4.68961269e-01,  3.49285938e-02,  4.17800963e-01,\n",
              "          4.43236232e-02],\n",
              "        [-3.87252569e-01,  2.95381755e-01, -2.29751751e-01,\n",
              "          2.57525533e-01,  1.93544716e-01, -3.80381703e-01,\n",
              "         -6.95527077e-01,  4.61403131e-01,  3.14042002e-01,\n",
              "         -1.91247985e-01],\n",
              "        [-4.71257791e-03,  3.52820486e-01, -3.48302305e-01,\n",
              "         -4.27112766e-02, -5.94089210e-01,  4.29784983e-01,\n",
              "          1.34312864e-02, -5.56235969e-01, -4.43720698e-01,\n",
              "         -5.47414050e-02],\n",
              "        [ 4.18777704e-01,  2.18391538e-01,  5.14468849e-01,\n",
              "          3.21022451e-01, -8.43571663e-01,  2.80579086e-02,\n",
              "          3.55353773e-01,  3.93349081e-01,  2.43455440e-01,\n",
              "         -9.19816550e-03],\n",
              "        [ 2.56253242e-01, -1.51266113e-01, -1.64678805e-02,\n",
              "         -4.75463778e-01,  4.82602328e-01,  7.59725571e-02,\n",
              "         -1.25800446e-01,  4.61543083e-01, -5.05408585e-01,\n",
              "          4.02308255e-01],\n",
              "        [-7.67744705e-02,  3.30336750e-01, -6.33694172e-01,\n",
              "         -6.51780069e-02,  6.55703366e-01, -3.51057768e-01,\n",
              "          1.92746730e-03, -1.66788906e-01, -7.74293005e-01,\n",
              "          4.18489158e-01],\n",
              "        [ 4.32560086e-01, -1.91594690e-01, -3.36290896e-01,\n",
              "         -1.95461005e-01, -3.35570127e-01,  4.49191242e-01,\n",
              "          3.69752795e-01, -8.36880147e-01,  4.07525063e-01,\n",
              "          1.97160225e-02],\n",
              "        [-2.88203746e-01,  2.99578190e-01, -4.93097812e-01,\n",
              "         -6.21787846e-01, -1.94200113e-01, -1.21888980e-01,\n",
              "          8.10091376e-01, -6.31969094e-01, -5.23303688e-01,\n",
              "          3.44012290e-01]], dtype=float32),\n",
              " array([-0.09631063, -0.25813824,  0.03483646, -0.04669191,  0.20028864,\n",
              "        -0.10525271, -0.09989431, -0.2516449 ,  0.4348085 , -0.00807973],\n",
              "       dtype=float32)]"
            ]
          },
          "metadata": {},
          "execution_count": 37
        }
      ]
    },
    {
      "cell_type": "code",
      "source": [
        "# Model Prediction\n",
        "y_prob = model.predict(X_test)\n",
        "print(f\"Shape of y_prob: {y_prob.shape} \")\n",
        "print(f\"y_prob: \\n{y_prob}\")"
      ],
      "metadata": {
        "colab": {
          "base_uri": "https://localhost:8080/"
        },
        "outputId": "3979072c-8c8d-45eb-d3ce-107a28a63cb8",
        "id": "mMTytDst3fkz"
      },
      "execution_count": 38,
      "outputs": [
        {
          "output_type": "stream",
          "name": "stdout",
          "text": [
            "\u001b[1m313/313\u001b[0m \u001b[32m━━━━━━━━━━━━━━━━━━━━\u001b[0m\u001b[37m\u001b[0m \u001b[1m1s\u001b[0m 2ms/step\n",
            "Shape of y_prob: (10000, 10) \n",
            "y_prob: \n",
            "[[2.7330659e-15 2.1869868e-13 8.1618617e-10 ... 9.9999958e-01\n",
            "  1.1050673e-08 3.1046692e-08]\n",
            " [1.1924413e-22 1.2480292e-14 9.9999994e-01 ... 1.6427713e-28\n",
            "  1.0926444e-21 5.5870746e-36]\n",
            " [1.5366364e-10 9.9997824e-01 8.3781933e-06 ... 8.3649716e-08\n",
            "  1.2392386e-05 8.2764416e-13]\n",
            " ...\n",
            " [1.5586198e-32 5.1025573e-22 2.1808615e-38 ... 1.9566633e-17\n",
            "  4.3037393e-22 1.1081307e-11]\n",
            " [8.8031262e-20 4.0538916e-14 6.3531620e-23 ... 4.0390549e-23\n",
            "  3.6338810e-07 7.8801110e-15]\n",
            " [2.1264392e-28 2.0632202e-26 3.1428349e-32 ... 8.9078055e-37\n",
            "  1.9419092e-26 8.2666143e-29]]\n"
          ]
        }
      ]
    },
    {
      "cell_type": "code",
      "source": [
        "y_pred = y_prob.argmax(axis=1)\n",
        "print(f\"Shape of y_pred: {y_pred.shape}\")\n",
        "print(f\"y_pred: \\n{y_pred}\")"
      ],
      "metadata": {
        "colab": {
          "base_uri": "https://localhost:8080/"
        },
        "outputId": "d03b16e2-0327-4ac4-c774-74358fc09c9c",
        "id": "pLDSnnYq3fk7"
      },
      "execution_count": 39,
      "outputs": [
        {
          "output_type": "stream",
          "name": "stdout",
          "text": [
            "Shape of y_pred: (10000,)\n",
            "y_pred: \n",
            "[7 2 1 ... 4 5 6]\n"
          ]
        }
      ]
    },
    {
      "cell_type": "code",
      "source": [
        "from sklearn.metrics import accuracy_score\n",
        "\n",
        "accuracy = accuracy_score(y_test, y_pred)\n",
        "print(f\"Accuracy: {accuracy}\")"
      ],
      "metadata": {
        "colab": {
          "base_uri": "https://localhost:8080/"
        },
        "outputId": "d2472b74-f443-4f87-9765-443419962946",
        "id": "i1xUGvIh3flA"
      },
      "execution_count": 40,
      "outputs": [
        {
          "output_type": "stream",
          "name": "stdout",
          "text": [
            "Accuracy: 0.9753\n"
          ]
        }
      ]
    },
    {
      "cell_type": "markdown",
      "source": [
        "![rainbow](https://github.com/ancilcleetus/My-Learning-Journey/assets/25684256/839c3524-2a1d-4779-85a0-83c562e1e5e5)"
      ],
      "metadata": {
        "id": "U897-NGnYhHk"
      }
    }
  ]
}