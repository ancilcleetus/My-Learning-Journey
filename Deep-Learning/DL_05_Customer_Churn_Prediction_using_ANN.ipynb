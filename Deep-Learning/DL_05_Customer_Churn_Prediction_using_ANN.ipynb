{
  "nbformat": 4,
  "nbformat_minor": 0,
  "metadata": {
    "colab": {
      "provenance": []
    },
    "kernelspec": {
      "name": "python3",
      "display_name": "Python 3"
    },
    "language_info": {
      "name": "python"
    }
  },
  "cells": [
    {
      "cell_type": "markdown",
      "source": [
        "Before going to the Backpropagation, we will do some hands-on to better understand how to train a neural network and do predictions. Once you see this in action, Backpropagation algorithm will become easy to digest. We will be building 3 projects using TensorFlow and Keras:\n",
        "- Customer Churn Prediction using ANN => Binary Classification Problem\n",
        "- Handwritten Digit Classification using ANN => Multi-class Classification Problem\n",
        "- Graduate Admission Prediction using ANN => Regression Problem"
      ],
      "metadata": {
        "id": "bKim3KwyTp11"
      }
    },
    {
      "cell_type": "markdown",
      "source": [
        "# 1. Customer Churn Prediction using ANN: Intro"
      ],
      "metadata": {
        "id": "QVTl6a20lBMZ"
      }
    },
    {
      "cell_type": "code",
      "source": [
        "# Deep Learning as subset of ML\n",
        "\n",
        "from IPython import display\n",
        "display.Image(\"data/images/DL_01_Intro-01-DL-subset-of-ML.jpg\")"
      ],
      "metadata": {
        "id": "juNAxVBFg7sw"
      },
      "execution_count": null,
      "outputs": []
    }
  ]
}