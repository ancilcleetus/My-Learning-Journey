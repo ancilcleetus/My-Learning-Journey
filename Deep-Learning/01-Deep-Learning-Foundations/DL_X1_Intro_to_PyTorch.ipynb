{
  "nbformat": 4,
  "nbformat_minor": 0,
  "metadata": {
    "colab": {
      "provenance": []
    },
    "kernelspec": {
      "name": "python3",
      "display_name": "Python 3"
    },
    "language_info": {
      "name": "python"
    }
  },
  "cells": [
    {
      "cell_type": "markdown",
      "source": [
        "![rainbow](https://github.com/ancilcleetus/My-Learning-Journey/assets/25684256/839c3524-2a1d-4779-85a0-83c562e1e5e5)"
      ],
      "metadata": {
        "id": "uLR90WhedwER"
      }
    },
    {
      "cell_type": "markdown",
      "source": [
        "# 1. Tensors in PyTorch"
      ],
      "metadata": {
        "id": "bKim3KwyTp11"
      }
    },
    {
      "cell_type": "markdown",
      "source": [
        "Tensors are a fundamental data structure used in the field of machine learning and scientific computing. At their core, tensors are multi-dimensional arrays. Tensors efficiently store and manipulate the complex, multidimensional data used in machine learning models."
      ],
      "metadata": {
        "id": "ohfviFeuBksb"
      }
    },
    {
      "cell_type": "code",
      "source": [
        "import torch"
      ],
      "metadata": {
        "id": "N5OXGBbopXCE"
      },
      "execution_count": 1,
      "outputs": []
    },
    {
      "cell_type": "markdown",
      "source": [
        "- Scalar $\\implies$ 1st order tensor\n",
        "- Vector $\\implies$ 2nd order tensor\n",
        "- Matrix $\\implies$ 3rd order tensor"
      ],
      "metadata": {
        "id": "-yfTavQeqwg_"
      }
    },
    {
      "cell_type": "markdown",
      "metadata": {
        "id": "MYVLRPetknXj"
      },
      "source": [
        "Let's see a few basic tensor manipulations."
      ]
    },
    {
      "cell_type": "markdown",
      "source": [
        "## 1. Create tensors\n",
        "\n",
        "A few of the ways to create tensors are given below:"
      ],
      "metadata": {
        "id": "z7SRVmQwrKpV"
      }
    },
    {
      "cell_type": "code",
      "source": [
        "# Using a List\n",
        "\n",
        "lst = list(range(10))\n",
        "print(f\"List: {lst}\")\n",
        "\n",
        "a = torch.tensor(lst)\n",
        "print(f\"Torch Tensor: {a}\")"
      ],
      "metadata": {
        "colab": {
          "base_uri": "https://localhost:8080/"
        },
        "id": "7I3C8My_mCLI",
        "outputId": "c23c36a4-51ed-4fcf-bbbc-afdbda5fa489"
      },
      "execution_count": 2,
      "outputs": [
        {
          "output_type": "stream",
          "name": "stdout",
          "text": [
            "List: [0, 1, 2, 3, 4, 5, 6, 7, 8, 9]\n",
            "Torch Tensor: tensor([0, 1, 2, 3, 4, 5, 6, 7, 8, 9])\n"
          ]
        }
      ]
    },
    {
      "cell_type": "code",
      "source": [
        "# Creating a 2D tensor (matrix)\n",
        "tensor_2d = torch.tensor([[1, 2, 3],\n",
        "                          [4, 5, 6]])\n",
        "\n",
        "# Creating a 3D tensor\n",
        "tensor_3d = torch.tensor([[[1, 2, 3],\n",
        "                           [4, 5, 6]],\n",
        "                          [[7, 8, 9],\n",
        "                           [10, 11, 12]]])\n",
        "\n",
        "# Creating a 4D tensor\n",
        "tensor_4d = torch.tensor([[[[1, 2],\n",
        "                            [3, 4]],\n",
        "                           [[5, 6],\n",
        "                            [7, 8]]],\n",
        "                          [[[9, 10],\n",
        "                            [11, 12]],\n",
        "                           [[13, 14],\n",
        "                            [15, 16]]]])\n",
        "\n",
        "# Print the tensors\n",
        "print(f\"2D Tensor (Matrix): \\n{tensor_2d}\")\n",
        "print(f\"Shape: {tensor_2d.shape}\")\n",
        "print(\"\\n\")\n",
        "\n",
        "print(f\"3D Tensor (Matrix): \\n{tensor_3d}\")\n",
        "print(f\"Shape: {tensor_3d.shape}\")\n",
        "print(\"\\n\")\n",
        "\n",
        "print(f\"4D Tensor (Matrix): \\n{tensor_4d}\")\n",
        "print(f\"Shape: {tensor_4d.shape}\")\n",
        "print(\"\\n\")"
      ],
      "metadata": {
        "colab": {
          "base_uri": "https://localhost:8080/"
        },
        "id": "Em-_scs_zKMx",
        "outputId": "cad873c0-dd09-4475-8783-13e87ebfa2e3"
      },
      "execution_count": 3,
      "outputs": [
        {
          "output_type": "stream",
          "name": "stdout",
          "text": [
            "2D Tensor (Matrix): \n",
            "tensor([[1, 2, 3],\n",
            "        [4, 5, 6]])\n",
            "Shape: torch.Size([2, 3])\n",
            "\n",
            "\n",
            "3D Tensor (Matrix): \n",
            "tensor([[[ 1,  2,  3],\n",
            "         [ 4,  5,  6]],\n",
            "\n",
            "        [[ 7,  8,  9],\n",
            "         [10, 11, 12]]])\n",
            "Shape: torch.Size([2, 2, 3])\n",
            "\n",
            "\n",
            "4D Tensor (Matrix): \n",
            "tensor([[[[ 1,  2],\n",
            "          [ 3,  4]],\n",
            "\n",
            "         [[ 5,  6],\n",
            "          [ 7,  8]]],\n",
            "\n",
            "\n",
            "        [[[ 9, 10],\n",
            "          [11, 12]],\n",
            "\n",
            "         [[13, 14],\n",
            "          [15, 16]]]])\n",
            "Shape: torch.Size([2, 2, 2, 2])\n",
            "\n",
            "\n"
          ]
        }
      ]
    },
    {
      "cell_type": "code",
      "source": [
        "print(f\"Tensor Type: {tensor_2d.dtype}\")\n",
        "print(f\"Tensor Device: {tensor_2d.device}\")"
      ],
      "metadata": {
        "colab": {
          "base_uri": "https://localhost:8080/"
        },
        "id": "0M-VnDewsxoH",
        "outputId": "ac65ff46-8446-43f3-aa3f-f720bde86af6"
      },
      "execution_count": 5,
      "outputs": [
        {
          "output_type": "stream",
          "name": "stdout",
          "text": [
            "Tensor Type: torch.int64\n",
            "Tensor Device: cpu\n"
          ]
        }
      ]
    },
    {
      "cell_type": "code",
      "source": [
        "# Using a Numpy Array\n",
        "import numpy as np\n",
        "\n",
        "np_array = np.array(list(range(10)))\n",
        "print(f\"Numpy array: {np_array} || datatype: {type(np_array)}\")\n",
        "\n",
        "# Convert NumPy array to PyTorch tensor\n",
        "torch_tensor = torch.tensor(np_array)\n",
        "# or\n",
        "torch_tensor = torch.from_numpy(np_array)\n",
        "print(f\"Torch Tensor: {torch_tensor} || datatype: {type(torch_tensor)}\")\n",
        "\n",
        "# Convert tensor to numpy array\n",
        "c = torch_tensor.numpy()\n",
        "print(f\"Numpy array: {c} || datatype: {type(c)}\")"
      ],
      "metadata": {
        "colab": {
          "base_uri": "https://localhost:8080/"
        },
        "id": "Ibay777bmjWV",
        "outputId": "a1d7b94c-0322-4110-c8d2-f58f398fd1a5"
      },
      "execution_count": 6,
      "outputs": [
        {
          "output_type": "stream",
          "name": "stdout",
          "text": [
            "Numpy array: [0 1 2 3 4 5 6 7 8 9] || datatype: <class 'numpy.ndarray'>\n",
            "Torch Tensor: tensor([0, 1, 2, 3, 4, 5, 6, 7, 8, 9]) || datatype: <class 'torch.Tensor'>\n",
            "Numpy array: [0 1 2 3 4 5 6 7 8 9] || datatype: <class 'numpy.ndarray'>\n"
          ]
        }
      ]
    },
    {
      "cell_type": "code",
      "source": [
        "# We cannot create a tensor using a hashmap\n",
        "hashmap = {1:1,2:2,3:3}\n",
        "print(f\"Datatype: {type(hashmap)}\")\n",
        "print(torch.tensor(hashmap))"
      ],
      "metadata": {
        "colab": {
          "base_uri": "https://localhost:8080/",
          "height": 193
        },
        "id": "YRAocsQam0us",
        "outputId": "3afe95c8-c2b3-4164-8e2c-3b679f1fb055"
      },
      "execution_count": 7,
      "outputs": [
        {
          "output_type": "stream",
          "name": "stdout",
          "text": [
            "Datatype: <class 'dict'>\n"
          ]
        },
        {
          "output_type": "error",
          "ename": "RuntimeError",
          "evalue": "Could not infer dtype of dict",
          "traceback": [
            "\u001b[0;31m---------------------------------------------------------------------------\u001b[0m",
            "\u001b[0;31mRuntimeError\u001b[0m                              Traceback (most recent call last)",
            "\u001b[0;32m<ipython-input-7-ebec72dfdd2a>\u001b[0m in \u001b[0;36m<cell line: 3>\u001b[0;34m()\u001b[0m\n\u001b[1;32m      1\u001b[0m \u001b[0mhashmap\u001b[0m \u001b[0;34m=\u001b[0m \u001b[0;34m{\u001b[0m\u001b[0;36m1\u001b[0m\u001b[0;34m:\u001b[0m\u001b[0;36m1\u001b[0m\u001b[0;34m,\u001b[0m\u001b[0;36m2\u001b[0m\u001b[0;34m:\u001b[0m\u001b[0;36m2\u001b[0m\u001b[0;34m,\u001b[0m\u001b[0;36m3\u001b[0m\u001b[0;34m:\u001b[0m\u001b[0;36m3\u001b[0m\u001b[0;34m}\u001b[0m\u001b[0;34m\u001b[0m\u001b[0;34m\u001b[0m\u001b[0m\n\u001b[1;32m      2\u001b[0m \u001b[0mprint\u001b[0m\u001b[0;34m(\u001b[0m\u001b[0;34mf\"Datatype: {type(hashmap)}\"\u001b[0m\u001b[0;34m)\u001b[0m\u001b[0;34m\u001b[0m\u001b[0;34m\u001b[0m\u001b[0m\n\u001b[0;32m----> 3\u001b[0;31m \u001b[0mprint\u001b[0m\u001b[0;34m(\u001b[0m\u001b[0mtorch\u001b[0m\u001b[0;34m.\u001b[0m\u001b[0mtensor\u001b[0m\u001b[0;34m(\u001b[0m\u001b[0mhashmap\u001b[0m\u001b[0;34m)\u001b[0m\u001b[0;34m)\u001b[0m\u001b[0;34m\u001b[0m\u001b[0;34m\u001b[0m\u001b[0m\n\u001b[0m",
            "\u001b[0;31mRuntimeError\u001b[0m: Could not infer dtype of dict"
          ]
        }
      ]
    },
    {
      "cell_type": "code",
      "source": [
        "# We cannot create a tensor using a hashset\n",
        "hashset = set([1,22,3,5,6,4,8])\n",
        "print(f\"Datatype: {type(hashset)}\")\n",
        "print(torch.tensor(hashset))"
      ],
      "metadata": {
        "id": "N1gQC29ApRo4",
        "colab": {
          "base_uri": "https://localhost:8080/",
          "height": 193
        },
        "outputId": "e9b87f19-eacf-4b4c-d8c8-c6e34ccf6d2d"
      },
      "execution_count": 8,
      "outputs": [
        {
          "output_type": "stream",
          "name": "stdout",
          "text": [
            "Datatype: <class 'set'>\n"
          ]
        },
        {
          "output_type": "error",
          "ename": "RuntimeError",
          "evalue": "Could not infer dtype of set",
          "traceback": [
            "\u001b[0;31m---------------------------------------------------------------------------\u001b[0m",
            "\u001b[0;31mRuntimeError\u001b[0m                              Traceback (most recent call last)",
            "\u001b[0;32m<ipython-input-8-75c2a48d67ed>\u001b[0m in \u001b[0;36m<cell line: 3>\u001b[0;34m()\u001b[0m\n\u001b[1;32m      1\u001b[0m \u001b[0mhashset\u001b[0m \u001b[0;34m=\u001b[0m \u001b[0mset\u001b[0m\u001b[0;34m(\u001b[0m\u001b[0;34m[\u001b[0m\u001b[0;36m1\u001b[0m\u001b[0;34m,\u001b[0m\u001b[0;36m22\u001b[0m\u001b[0;34m,\u001b[0m\u001b[0;36m3\u001b[0m\u001b[0;34m,\u001b[0m\u001b[0;36m5\u001b[0m\u001b[0;34m,\u001b[0m\u001b[0;36m6\u001b[0m\u001b[0;34m,\u001b[0m\u001b[0;36m4\u001b[0m\u001b[0;34m,\u001b[0m\u001b[0;36m8\u001b[0m\u001b[0;34m]\u001b[0m\u001b[0;34m)\u001b[0m\u001b[0;34m\u001b[0m\u001b[0;34m\u001b[0m\u001b[0m\n\u001b[1;32m      2\u001b[0m \u001b[0mprint\u001b[0m\u001b[0;34m(\u001b[0m\u001b[0;34mf\"Datatype: {type(hashset)}\"\u001b[0m\u001b[0;34m)\u001b[0m\u001b[0;34m\u001b[0m\u001b[0;34m\u001b[0m\u001b[0m\n\u001b[0;32m----> 3\u001b[0;31m \u001b[0mprint\u001b[0m\u001b[0;34m(\u001b[0m\u001b[0mtorch\u001b[0m\u001b[0;34m.\u001b[0m\u001b[0mtensor\u001b[0m\u001b[0;34m(\u001b[0m\u001b[0mhashset\u001b[0m\u001b[0;34m)\u001b[0m\u001b[0;34m)\u001b[0m\u001b[0;34m\u001b[0m\u001b[0;34m\u001b[0m\u001b[0m\n\u001b[0m",
            "\u001b[0;31mRuntimeError\u001b[0m: Could not infer dtype of set"
          ]
        }
      ]
    },
    {
      "cell_type": "code",
      "source": [
        "# We cannot create a tensor using a non-uniform tuple\n",
        "tup_non_uniform = tuple([(\"a\",2),(\"b\",4),(\"c\",6)])\n",
        "print(f\"Datatype: {type(tup_non_uniform)}\")\n",
        "print(torch.tensor(tup_non_uniform))"
      ],
      "metadata": {
        "colab": {
          "base_uri": "https://localhost:8080/",
          "height": 193
        },
        "id": "rmdZXGJsuiTX",
        "outputId": "6f69a5e3-4ee2-47f0-ad53-f41d969b5d25"
      },
      "execution_count": 10,
      "outputs": [
        {
          "output_type": "stream",
          "name": "stdout",
          "text": [
            "Datatype: <class 'tuple'>\n"
          ]
        },
        {
          "output_type": "error",
          "ename": "ValueError",
          "evalue": "too many dimensions 'str'",
          "traceback": [
            "\u001b[0;31m---------------------------------------------------------------------------\u001b[0m",
            "\u001b[0;31mValueError\u001b[0m                                Traceback (most recent call last)",
            "\u001b[0;32m<ipython-input-10-b2bf21ce6e64>\u001b[0m in \u001b[0;36m<cell line: 4>\u001b[0;34m()\u001b[0m\n\u001b[1;32m      2\u001b[0m \u001b[0mtup_non_uniform\u001b[0m \u001b[0;34m=\u001b[0m \u001b[0mtuple\u001b[0m\u001b[0;34m(\u001b[0m\u001b[0;34m[\u001b[0m\u001b[0;34m(\u001b[0m\u001b[0;34m\"a\"\u001b[0m\u001b[0;34m,\u001b[0m\u001b[0;36m2\u001b[0m\u001b[0;34m)\u001b[0m\u001b[0;34m,\u001b[0m\u001b[0;34m(\u001b[0m\u001b[0;34m\"b\"\u001b[0m\u001b[0;34m,\u001b[0m\u001b[0;36m4\u001b[0m\u001b[0;34m)\u001b[0m\u001b[0;34m,\u001b[0m\u001b[0;34m(\u001b[0m\u001b[0;34m\"c\"\u001b[0m\u001b[0;34m,\u001b[0m\u001b[0;36m6\u001b[0m\u001b[0;34m)\u001b[0m\u001b[0;34m]\u001b[0m\u001b[0;34m)\u001b[0m\u001b[0;34m\u001b[0m\u001b[0;34m\u001b[0m\u001b[0m\n\u001b[1;32m      3\u001b[0m \u001b[0mprint\u001b[0m\u001b[0;34m(\u001b[0m\u001b[0;34mf\"Datatype: {type(tup_non_uniform)}\"\u001b[0m\u001b[0;34m)\u001b[0m\u001b[0;34m\u001b[0m\u001b[0;34m\u001b[0m\u001b[0m\n\u001b[0;32m----> 4\u001b[0;31m \u001b[0mprint\u001b[0m\u001b[0;34m(\u001b[0m\u001b[0mtorch\u001b[0m\u001b[0;34m.\u001b[0m\u001b[0mtensor\u001b[0m\u001b[0;34m(\u001b[0m\u001b[0mtup_non_uniform\u001b[0m\u001b[0;34m)\u001b[0m\u001b[0;34m)\u001b[0m\u001b[0;34m\u001b[0m\u001b[0;34m\u001b[0m\u001b[0m\n\u001b[0m",
            "\u001b[0;31mValueError\u001b[0m: too many dimensions 'str'"
          ]
        }
      ]
    },
    {
      "cell_type": "code",
      "source": [
        "# We can create a tensor using a uniform tuple\n",
        "tup_uniform = tuple([(1,2),(2,4),(3,6)])\n",
        "print(f\"Datatype: {type(tup_uniform)}\")\n",
        "print(torch.tensor(tup_uniform))"
      ],
      "metadata": {
        "colab": {
          "base_uri": "https://localhost:8080/"
        },
        "id": "aQteXd1fvGyH",
        "outputId": "fc6f31a1-899a-4c35-e232-d35dbcf0f704"
      },
      "execution_count": 12,
      "outputs": [
        {
          "output_type": "stream",
          "name": "stdout",
          "text": [
            "Datatype: <class 'tuple'>\n",
            "tensor([[1, 2],\n",
            "        [2, 4],\n",
            "        [3, 6]])\n"
          ]
        }
      ]
    },
    {
      "cell_type": "code",
      "execution_count": 13,
      "metadata": {
        "id": "s535ohHSknXj",
        "colab": {
          "base_uri": "https://localhost:8080/"
        },
        "outputId": "fe037c5b-253e-4022-ffbb-5bdaf515090d"
      },
      "outputs": [
        {
          "output_type": "stream",
          "name": "stdout",
          "text": [
            "z = \n",
            "tensor([[0., 0., 0.],\n",
            "        [0., 0., 0.],\n",
            "        [0., 0., 0.],\n",
            "        [0., 0., 0.],\n",
            "        [0., 0., 0.]])\n",
            "Datatype: torch.float32\n"
          ]
        }
      ],
      "source": [
        "z = torch.zeros((5, 3))\n",
        "print(f\"z = \\n{z}\")\n",
        "print(f\"Datatype: {z.dtype}\")"
      ]
    },
    {
      "cell_type": "markdown",
      "metadata": {
        "id": "j-gYsBztknXk"
      },
      "source": [
        "Above, we create a 5x3 matrix filled with zeros. The zeros are 32-bit floating point numbers which is the default in PyTorch.\n",
        "\n",
        "We can change the default datatype as well."
      ]
    },
    {
      "cell_type": "code",
      "execution_count": 14,
      "metadata": {
        "id": "nf2Bvc4XknXk",
        "colab": {
          "base_uri": "https://localhost:8080/"
        },
        "outputId": "3384fcd9-d7af-4a95-8684-2e159a742af3"
      },
      "outputs": [
        {
          "output_type": "stream",
          "name": "stdout",
          "text": [
            "i = \n",
            "tensor([[1, 1, 1],\n",
            "        [1, 1, 1],\n",
            "        [1, 1, 1],\n",
            "        [1, 1, 1],\n",
            "        [1, 1, 1]], dtype=torch.int16)\n",
            "Datatype: torch.int16\n"
          ]
        }
      ],
      "source": [
        "i = torch.ones((5, 3), dtype=torch.int16)\n",
        "print(f\"i = \\n{i}\")\n",
        "print(f\"Datatype: {i.dtype}\")"
      ]
    },
    {
      "cell_type": "markdown",
      "source": [
        "## 2. Random tensors"
      ],
      "metadata": {
        "id": "_cUKg4Ltxdiq"
      }
    },
    {
      "cell_type": "markdown",
      "metadata": {
        "id": "yPkbSYTrknXk"
      },
      "source": [
        "**`torch.rand()`** :Returns a tensor filled with random numbers from a uniform distribution in the interval [0, 1).\n",
        "\n",
        "It's common to initialize learning weights randomly, often with a specific seed for reproducibility of results:"
      ]
    },
    {
      "cell_type": "code",
      "execution_count": 15,
      "metadata": {
        "id": "IxgQn-y3knXk",
        "colab": {
          "base_uri": "https://localhost:8080/"
        },
        "outputId": "abe48bd7-6049-4e40-8ebb-501f960e6b98"
      },
      "outputs": [
        {
          "output_type": "stream",
          "name": "stdout",
          "text": [
            "A random tensor: tensor([[0.7576, 0.2793],\n",
            "        [0.4031, 0.7347]])\n",
            "\n",
            "\n",
            "A different random tensor: tensor([[0.8823, 0.9150],\n",
            "        [0.3829, 0.9593]])\n",
            "\n",
            "\n",
            "Should match r1: tensor([[0.7576, 0.2793],\n",
            "        [0.4031, 0.7347]])\n",
            "\n",
            "\n"
          ]
        }
      ],
      "source": [
        "torch.manual_seed(1)\n",
        "r1 = torch.rand(2, 2)\n",
        "print(f\"A random tensor: {r1}\")\n",
        "print(\"\\n\")\n",
        "\n",
        "torch.manual_seed(42)\n",
        "r2 = torch.rand(2, 2)\n",
        "print(f\"A different random tensor: {r2}\")\n",
        "print(\"\\n\")\n",
        "\n",
        "torch.manual_seed(1)\n",
        "r3 = torch.rand(2, 2)\n",
        "print(f\"Should match r1: {r3}\")  # repeats values of r1 because of re-seed\n",
        "print(\"\\n\")"
      ]
    },
    {
      "cell_type": "markdown",
      "source": [
        "## 3. Accessing tensor elements"
      ],
      "metadata": {
        "id": "xlJ6jLtML_8s"
      }
    },
    {
      "cell_type": "code",
      "source": [
        "# Create a tensor\n",
        "tensor_2d = torch.tensor([[1, 2, 3],\n",
        "                       [4, 5, 6],\n",
        "                       [7, 8, 9]])"
      ],
      "metadata": {
        "id": "R6zSForFuPAw"
      },
      "execution_count": 2,
      "outputs": []
    },
    {
      "cell_type": "code",
      "source": [
        "# Basic indexing: Access a single element\n",
        "print(f\"Basic indexing - Single element: {tensor_2d[1, 2]}\")"
      ],
      "metadata": {
        "id": "1Jt0VkzMuPCa",
        "colab": {
          "base_uri": "https://localhost:8080/"
        },
        "outputId": "ee00c47d-558c-4879-9a34-818185518fb4"
      },
      "execution_count": 7,
      "outputs": [
        {
          "output_type": "stream",
          "name": "stdout",
          "text": [
            "Basic indexing - Single element: 6\n"
          ]
        }
      ]
    },
    {
      "cell_type": "code",
      "source": [
        "# Slicing: Access a sub-tensor\n",
        "print(f\"Slicing - Sub-tensor: \\n{tensor_2d[1:, :]}\")"
      ],
      "metadata": {
        "id": "Fq1n8Y4guPGj",
        "colab": {
          "base_uri": "https://localhost:8080/"
        },
        "outputId": "9d2b1651-e7b2-43ac-b662-f7521bbf9de8"
      },
      "execution_count": 6,
      "outputs": [
        {
          "output_type": "stream",
          "name": "stdout",
          "text": [
            "Slicing - Sub-tensor: \n",
            "tensor([[4, 5, 6],\n",
            "        [7, 8, 9]])\n"
          ]
        }
      ]
    },
    {
      "cell_type": "code",
      "source": [
        "# Fancy indexing: Access specific elements using a list of indices\n",
        "indices = torch.tensor([0, 2])\n",
        "print(f\"Fancy indexing - Specific elements: \\n{tensor_2d[:, indices]}\")"
      ],
      "metadata": {
        "id": "U_wtgVrFuPJW",
        "colab": {
          "base_uri": "https://localhost:8080/"
        },
        "outputId": "979d5d6a-aaa6-48d1-f656-4367d45e424a"
      },
      "execution_count": 8,
      "outputs": [
        {
          "output_type": "stream",
          "name": "stdout",
          "text": [
            "Fancy indexing - Specific elements: \n",
            "tensor([[1, 3],\n",
            "        [4, 6],\n",
            "        [7, 9]])\n"
          ]
        }
      ]
    },
    {
      "cell_type": "code",
      "source": [
        "# Masked indexing: Access elements based on a boolean mask\n",
        "mask = tensor_2d > 5\n",
        "print(f\"mask: \\n{mask}\")\n",
        "print(f\"Masked indexing - Elements satisfying condition: \\n{tensor_2d[mask]}\")"
      ],
      "metadata": {
        "id": "xndepUoivTV1",
        "colab": {
          "base_uri": "https://localhost:8080/"
        },
        "outputId": "e223d317-cf53-476e-9d8d-5f55a4a0a115"
      },
      "execution_count": 9,
      "outputs": [
        {
          "output_type": "stream",
          "name": "stdout",
          "text": [
            "mask: \n",
            "tensor([[False, False, False],\n",
            "        [False, False,  True],\n",
            "        [ True,  True,  True]])\n",
            "Masked indexing - Elements satisfying condition: \n",
            "tensor([6, 7, 8, 9])\n"
          ]
        }
      ]
    },
    {
      "cell_type": "markdown",
      "source": [
        "## 4. Reshaping"
      ],
      "metadata": {
        "id": "_4tymdaLO7HG"
      }
    },
    {
      "cell_type": "code",
      "source": [
        "tensor1 = torch.tensor(list(range(36)))\n",
        "print(f\"tensor1: \\n{tensor1}\")"
      ],
      "metadata": {
        "id": "IN6TWIFqwSFr",
        "colab": {
          "base_uri": "https://localhost:8080/"
        },
        "outputId": "7c02783b-2727-4d00-961a-33f121c6fc2f"
      },
      "execution_count": 10,
      "outputs": [
        {
          "output_type": "stream",
          "name": "stdout",
          "text": [
            "tensor1: \n",
            "tensor([ 0,  1,  2,  3,  4,  5,  6,  7,  8,  9, 10, 11, 12, 13, 14, 15, 16, 17,\n",
            "        18, 19, 20, 21, 22, 23, 24, 25, 26, 27, 28, 29, 30, 31, 32, 33, 34, 35])\n"
          ]
        }
      ]
    },
    {
      "cell_type": "code",
      "source": [
        "# We need 6 columns in our tensor\n",
        "tensor2 = tensor1.reshape(-1,6)  # Placeholder of -1 => No of rows will be automatically calculated\n",
        "print(f\"tensor2: \\n{tensor2}\")"
      ],
      "metadata": {
        "id": "WBkZ0X-SxLRc",
        "colab": {
          "base_uri": "https://localhost:8080/"
        },
        "outputId": "b4b5714e-1118-4d7a-e40a-257960a85dc6"
      },
      "execution_count": 11,
      "outputs": [
        {
          "output_type": "stream",
          "name": "stdout",
          "text": [
            "tensor2: \n",
            "tensor([[ 0,  1,  2,  3,  4,  5],\n",
            "        [ 6,  7,  8,  9, 10, 11],\n",
            "        [12, 13, 14, 15, 16, 17],\n",
            "        [18, 19, 20, 21, 22, 23],\n",
            "        [24, 25, 26, 27, 28, 29],\n",
            "        [30, 31, 32, 33, 34, 35]])\n"
          ]
        }
      ]
    },
    {
      "cell_type": "code",
      "source": [
        "# Try to create tensor with 7 columns => error\n",
        "tensor3 = tensor1.reshape(-1,7)  # Placeholder of -1 => No of rows will be automatically calculated\n",
        "print(f\"tensor3: \\n{tensor3}\")"
      ],
      "metadata": {
        "colab": {
          "base_uri": "https://localhost:8080/",
          "height": 176
        },
        "id": "xEg3gViLPn_Y",
        "outputId": "e1b53690-eb37-4f15-c36a-509901361961"
      },
      "execution_count": 12,
      "outputs": [
        {
          "output_type": "error",
          "ename": "RuntimeError",
          "evalue": "shape '[-1, 7]' is invalid for input of size 36",
          "traceback": [
            "\u001b[0;31m---------------------------------------------------------------------------\u001b[0m",
            "\u001b[0;31mRuntimeError\u001b[0m                              Traceback (most recent call last)",
            "\u001b[0;32m<ipython-input-12-449667b46a17>\u001b[0m in \u001b[0;36m<cell line: 2>\u001b[0;34m()\u001b[0m\n\u001b[1;32m      1\u001b[0m \u001b[0;31m# Try to create tensor with 7 columns => error\u001b[0m\u001b[0;34m\u001b[0m\u001b[0;34m\u001b[0m\u001b[0m\n\u001b[0;32m----> 2\u001b[0;31m \u001b[0mtensor3\u001b[0m \u001b[0;34m=\u001b[0m \u001b[0mtensor1\u001b[0m\u001b[0;34m.\u001b[0m\u001b[0mreshape\u001b[0m\u001b[0;34m(\u001b[0m\u001b[0;34m-\u001b[0m\u001b[0;36m1\u001b[0m\u001b[0;34m,\u001b[0m\u001b[0;36m7\u001b[0m\u001b[0;34m)\u001b[0m  \u001b[0;31m# Placeholder of -1 => No of rows will be automatically calculated\u001b[0m\u001b[0;34m\u001b[0m\u001b[0;34m\u001b[0m\u001b[0m\n\u001b[0m\u001b[1;32m      3\u001b[0m \u001b[0mprint\u001b[0m\u001b[0;34m(\u001b[0m\u001b[0;34mf\"tensor3: \\n{tensor3}\"\u001b[0m\u001b[0;34m)\u001b[0m\u001b[0;34m\u001b[0m\u001b[0;34m\u001b[0m\u001b[0m\n",
            "\u001b[0;31mRuntimeError\u001b[0m: shape '[-1, 7]' is invalid for input of size 36"
          ]
        }
      ]
    },
    {
      "cell_type": "markdown",
      "source": [
        "## 5. Arithmetic Operations"
      ],
      "metadata": {
        "id": "AeaDb78fQZkH"
      }
    },
    {
      "cell_type": "markdown",
      "metadata": {
        "id": "iA1czwmvknXl"
      },
      "source": [
        "PyTorch tensors perform arithmetic operations intuitively. Tensors of similar shapes may be added, multiplied, etc."
      ]
    },
    {
      "cell_type": "code",
      "execution_count": 13,
      "metadata": {
        "id": "1W07AyYbknXl",
        "colab": {
          "base_uri": "https://localhost:8080/"
        },
        "outputId": "ad14ef31-2604-4b20-92aa-51b355ec3b22"
      },
      "outputs": [
        {
          "output_type": "stream",
          "name": "stdout",
          "text": [
            "ones: \n",
            "tensor([[1., 1., 1.],\n",
            "        [1., 1., 1.]])\n",
            "twos: \n",
            "tensor([[2., 2., 2.],\n",
            "        [2., 2., 2.]])\n",
            "threes: \n",
            "tensor([[3., 3., 3.],\n",
            "        [3., 3., 3.]])\n",
            "threes.shape: torch.Size([2, 3])\n"
          ]
        }
      ],
      "source": [
        "ones = torch.ones(2, 3)\n",
        "print(f\"ones: \\n{ones}\")\n",
        "\n",
        "twos = torch.ones(2, 3) * 2 # every element is multiplied by 2\n",
        "print(f\"twos: \\n{twos}\")\n",
        "\n",
        "threes = ones + twos  # additon allowed because shapes are similar\n",
        "print(f\"threes: \\n{threes}\")  # tensors are added element-wise\n",
        "print(f\"threes.shape: {threes.shape}\")  # this has the same dimensions as input tensors"
      ]
    },
    {
      "cell_type": "markdown",
      "source": [
        "## 6. Broadcasting"
      ],
      "metadata": {
        "id": "200z48AORbwm"
      }
    },
    {
      "cell_type": "markdown",
      "source": [
        "PyTorch tensors support Broadcasting similar to numpy arrays."
      ],
      "metadata": {
        "id": "e0oMDLd4RXl-"
      }
    },
    {
      "cell_type": "markdown",
      "source": [
        "**Rule for Broadcasting:**\n",
        "- Last dimension of either `a1` or `b1` should be 1\n",
        "- All the other dimensions of `a1` and `b1` should be matching"
      ],
      "metadata": {
        "id": "getZNPB5Sf_9"
      }
    },
    {
      "cell_type": "code",
      "source": [
        "# Supports Broadcasting\n",
        "\n",
        "a1 = torch.tensor([[1, 2, 3],\n",
        "                  [4, 5, 6]])\n",
        "print(f\"a1.shape: {a1.shape}\")\n",
        "\n",
        "b1 = torch.tensor([[10],\n",
        "                  [20]])\n",
        "print(f\"b1.shape: {b1.shape}\")\n",
        "\n",
        "# Perform element-wise addition ('+' operation is broadcasted)\n",
        "c1 = a1 + b1\n",
        "\n",
        "print(f\"c1: \\n{c1}\")"
      ],
      "metadata": {
        "id": "8pEjSqXetai5",
        "colab": {
          "base_uri": "https://localhost:8080/"
        },
        "outputId": "2f9c734e-3770-4e76-dce8-9903a9d66dc5"
      },
      "execution_count": 14,
      "outputs": [
        {
          "output_type": "stream",
          "name": "stdout",
          "text": [
            "a1.shape: torch.Size([2, 3])\n",
            "b1.shape: torch.Size([2, 1])\n",
            "c1: \n",
            "tensor([[11, 12, 13],\n",
            "        [24, 25, 26]])\n"
          ]
        }
      ]
    },
    {
      "cell_type": "code",
      "source": [
        "# Broadcasting with appropriate tensor shapes\n",
        "r1 = torch.rand(3,3,1)\n",
        "r2 = torch.rand(3,3,2)\n",
        "\n",
        "# Perform element-wise multiplication ('*' operation is broadcasted)\n",
        "r3 = r1 * r2\n",
        "print(r3)"
      ],
      "metadata": {
        "colab": {
          "base_uri": "https://localhost:8080/"
        },
        "id": "dLfXS2a8ThMJ",
        "outputId": "04237b0e-4678-45a4-bdcb-d2fca304c19f"
      },
      "execution_count": 17,
      "outputs": [
        {
          "output_type": "stream",
          "name": "stdout",
          "text": [
            "tensor([[[0.7134, 0.5440],\n",
            "         [0.4505, 0.1416],\n",
            "         [0.0253, 0.0833]],\n",
            "\n",
            "        [[0.1648, 0.4280],\n",
            "         [0.0253, 0.0375],\n",
            "         [0.8156, 0.7966]],\n",
            "\n",
            "        [[0.2681, 0.2874],\n",
            "         [0.0131, 0.0976],\n",
            "         [0.3370, 0.3003]]])\n"
          ]
        }
      ]
    },
    {
      "cell_type": "code",
      "source": [
        "# Error due to inappropriate tensor shapes\n",
        "r1 = torch.rand(3,2,1)\n",
        "r2 = torch.rand(3,3,2)\n",
        "# Perform element-wise subtraction ('-' operation is broadcasted)\n",
        "r3 = r1 - r2\n",
        "print(r3)"
      ],
      "metadata": {
        "colab": {
          "base_uri": "https://localhost:8080/",
          "height": 193
        },
        "id": "CElynoZTTlpV",
        "outputId": "bab13819-f022-4bb7-a9fe-d68bb1038133"
      },
      "execution_count": 18,
      "outputs": [
        {
          "output_type": "error",
          "ename": "RuntimeError",
          "evalue": "The size of tensor a (2) must match the size of tensor b (3) at non-singleton dimension 1",
          "traceback": [
            "\u001b[0;31m---------------------------------------------------------------------------\u001b[0m",
            "\u001b[0;31mRuntimeError\u001b[0m                              Traceback (most recent call last)",
            "\u001b[0;32m<ipython-input-18-852033045274>\u001b[0m in \u001b[0;36m<cell line: 5>\u001b[0;34m()\u001b[0m\n\u001b[1;32m      3\u001b[0m \u001b[0mr2\u001b[0m \u001b[0;34m=\u001b[0m \u001b[0mtorch\u001b[0m\u001b[0;34m.\u001b[0m\u001b[0mrand\u001b[0m\u001b[0;34m(\u001b[0m\u001b[0;36m3\u001b[0m\u001b[0;34m,\u001b[0m\u001b[0;36m3\u001b[0m\u001b[0;34m,\u001b[0m\u001b[0;36m2\u001b[0m\u001b[0;34m)\u001b[0m\u001b[0;34m\u001b[0m\u001b[0;34m\u001b[0m\u001b[0m\n\u001b[1;32m      4\u001b[0m \u001b[0;31m# Perform element-wise subtraction ('-' operation is broadcasted)\u001b[0m\u001b[0;34m\u001b[0m\u001b[0;34m\u001b[0m\u001b[0m\n\u001b[0;32m----> 5\u001b[0;31m \u001b[0mr3\u001b[0m \u001b[0;34m=\u001b[0m \u001b[0mr1\u001b[0m \u001b[0;34m-\u001b[0m \u001b[0mr2\u001b[0m\u001b[0;34m\u001b[0m\u001b[0;34m\u001b[0m\u001b[0m\n\u001b[0m\u001b[1;32m      6\u001b[0m \u001b[0mprint\u001b[0m\u001b[0;34m(\u001b[0m\u001b[0mr3\u001b[0m\u001b[0;34m)\u001b[0m\u001b[0;34m\u001b[0m\u001b[0;34m\u001b[0m\u001b[0m\n",
            "\u001b[0;31mRuntimeError\u001b[0m: The size of tensor a (2) must match the size of tensor b (3) at non-singleton dimension 1"
          ]
        }
      ]
    },
    {
      "cell_type": "markdown",
      "source": [
        "## 7. Mathematical Operations"
      ],
      "metadata": {
        "id": "-pvexa2FeWe6"
      }
    },
    {
      "cell_type": "code",
      "source": [
        "torch.manual_seed(2)\n",
        "r = torch.rand(2, 2) - 0.5 * 2 # values between -1 and 1\n",
        "print(f\"A random matrix r: \\n{r}\")"
      ],
      "metadata": {
        "colab": {
          "base_uri": "https://localhost:8080/"
        },
        "id": "5OMlkR6heqYf",
        "outputId": "1f84bbe7-b30a-4122-8f03-07bd9eadf55b"
      },
      "execution_count": 19,
      "outputs": [
        {
          "output_type": "stream",
          "name": "stdout",
          "text": [
            "A random matrix r: \n",
            "tensor([[-0.3853, -0.6190],\n",
            "        [-0.3629, -0.5255]])\n"
          ]
        }
      ]
    },
    {
      "cell_type": "code",
      "source": [
        "# Common mathematical operations are supported\n",
        "print(f\"Absolute value of r: \\n{torch.abs(r)}\")"
      ],
      "metadata": {
        "colab": {
          "base_uri": "https://localhost:8080/"
        },
        "id": "dgsH2YYte4c2",
        "outputId": "fcaebe68-1843-48bb-9e1c-9ad1f754c7fe"
      },
      "execution_count": 20,
      "outputs": [
        {
          "output_type": "stream",
          "name": "stdout",
          "text": [
            "Absolute value of r: \n",
            "tensor([[0.3853, 0.6190],\n",
            "        [0.3629, 0.5255]])\n"
          ]
        }
      ]
    },
    {
      "cell_type": "code",
      "source": [
        "# Trigonometric functions are supported\n",
        "print(f\"Inverse sine of r: \\n{torch.asin(r)}\")"
      ],
      "metadata": {
        "colab": {
          "base_uri": "https://localhost:8080/"
        },
        "id": "o7DOGD2TfHXe",
        "outputId": "b91ab16c-2500-4d77-ac8a-b448a0673dfa"
      },
      "execution_count": 21,
      "outputs": [
        {
          "output_type": "stream",
          "name": "stdout",
          "text": [
            "Inverse sine of r: \n",
            "tensor([[-0.3955, -0.6675],\n",
            "        [-0.3714, -0.5533]])\n"
          ]
        }
      ]
    },
    {
      "cell_type": "code",
      "source": [
        "# Linear algebra operations like determinant and singular value decomposition\n",
        "print(f\"Determinant of r: \\n{torch.det(r)}\")\n",
        "print(f\"Singular value decomposition of r: \\n{torch.svd(r)}\")"
      ],
      "metadata": {
        "colab": {
          "base_uri": "https://localhost:8080/"
        },
        "id": "UkCmfAQffSTf",
        "outputId": "de6c26b8-9b8d-483c-c598-820eca183dfa"
      },
      "execution_count": 22,
      "outputs": [
        {
          "output_type": "stream",
          "name": "stdout",
          "text": [
            "Determinant of r: \n",
            "-0.022128818556666374\n",
            "Singular value decomposition of r: \n",
            "torch.return_types.svd(\n",
            "U=tensor([[-0.7523, -0.6588],\n",
            "        [-0.6588,  0.7523]]),\n",
            "S=tensor([0.9690, 0.0228]),\n",
            "V=tensor([[ 0.5459, -0.8379],\n",
            "        [ 0.8379,  0.5459]]))\n"
          ]
        }
      ]
    },
    {
      "cell_type": "code",
      "source": [
        "# Statistical and aggregate operations are supported\n",
        "print(f\"Standard deviation and Average of r: \\n{torch.std_mean(r)}\")\n",
        "print(f\"Maximum value of r: \\n{torch.max(r)}\")"
      ],
      "metadata": {
        "colab": {
          "base_uri": "https://localhost:8080/"
        },
        "id": "AQnL9ro8flzA",
        "outputId": "73471d2a-1aba-484e-af0c-1c313c407025"
      },
      "execution_count": 24,
      "outputs": [
        {
          "output_type": "stream",
          "name": "stdout",
          "text": [
            "Standard deviation and Average of r: \n",
            "(tensor(0.1210), tensor(-0.4732))\n",
            "Maximum value of r: \n",
            "-0.36288565397262573\n"
          ]
        }
      ]
    },
    {
      "cell_type": "markdown",
      "source": [
        "![rainbow](https://github.com/ancilcleetus/My-Learning-Journey/assets/25684256/839c3524-2a1d-4779-85a0-83c562e1e5e5)"
      ],
      "metadata": {
        "id": "WIt3_E3qCE05"
      }
    },
    {
      "cell_type": "code",
      "source": [
        "# Deep Learning as subset of ML\n",
        "\n",
        "from IPython import display\n",
        "display.Image(\"data/images/DL_01_Intro-01-DL-subset-of-ML.jpg\")"
      ],
      "metadata": {
        "id": "juNAxVBFg7sw"
      },
      "execution_count": null,
      "outputs": []
    },
    {
      "cell_type": "markdown",
      "source": [
        "![rainbow](https://github.com/ancilcleetus/My-Learning-Journey/assets/25684256/839c3524-2a1d-4779-85a0-83c562e1e5e5)"
      ],
      "metadata": {
        "id": "qqv0L0R9dyKJ"
      }
    }
  ]
}