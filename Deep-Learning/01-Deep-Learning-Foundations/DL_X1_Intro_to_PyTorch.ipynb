{
  "nbformat": 4,
  "nbformat_minor": 0,
  "metadata": {
    "colab": {
      "provenance": []
    },
    "kernelspec": {
      "name": "python3",
      "display_name": "Python 3"
    },
    "language_info": {
      "name": "python"
    }
  },
  "cells": [
    {
      "cell_type": "markdown",
      "source": [
        "![rainbow](https://github.com/ancilcleetus/My-Learning-Journey/assets/25684256/839c3524-2a1d-4779-85a0-83c562e1e5e5)"
      ],
      "metadata": {
        "id": "uLR90WhedwER"
      }
    },
    {
      "cell_type": "markdown",
      "source": [
        "# 1. Tensors in PyTorch"
      ],
      "metadata": {
        "id": "bKim3KwyTp11"
      }
    },
    {
      "cell_type": "markdown",
      "source": [
        "Tensors are a fundamental data structure used in the field of machine learning and scientific computing. At their core, tensors are multi-dimensional arrays. Tensors efficiently store and manipulate the complex, multidimensional data used in machine learning models."
      ],
      "metadata": {
        "id": "ohfviFeuBksb"
      }
    },
    {
      "cell_type": "code",
      "source": [
        "import torch"
      ],
      "metadata": {
        "id": "N5OXGBbopXCE"
      },
      "execution_count": 1,
      "outputs": []
    },
    {
      "cell_type": "markdown",
      "source": [
        "- Scalar $\\implies$ 1st order tensor\n",
        "- Vector $\\implies$ 2nd order tensor\n",
        "- Matrix $\\implies$ 3rd order tensor"
      ],
      "metadata": {
        "id": "-yfTavQeqwg_"
      }
    },
    {
      "cell_type": "markdown",
      "metadata": {
        "id": "MYVLRPetknXj"
      },
      "source": [
        "Let's see a few basic tensor manipulations."
      ]
    },
    {
      "cell_type": "markdown",
      "source": [
        "## 1. Create tensors\n",
        "\n",
        "A few of the ways to create tensors are given below:"
      ],
      "metadata": {
        "id": "z7SRVmQwrKpV"
      }
    },
    {
      "cell_type": "code",
      "source": [
        "# Using a List\n",
        "\n",
        "lst = list(range(10))\n",
        "print(f\"List: {lst}\")\n",
        "\n",
        "a = torch.tensor(lst)\n",
        "print(f\"Torch Tensor: {a}\")"
      ],
      "metadata": {
        "colab": {
          "base_uri": "https://localhost:8080/"
        },
        "id": "7I3C8My_mCLI",
        "outputId": "c23c36a4-51ed-4fcf-bbbc-afdbda5fa489"
      },
      "execution_count": 2,
      "outputs": [
        {
          "output_type": "stream",
          "name": "stdout",
          "text": [
            "List: [0, 1, 2, 3, 4, 5, 6, 7, 8, 9]\n",
            "Torch Tensor: tensor([0, 1, 2, 3, 4, 5, 6, 7, 8, 9])\n"
          ]
        }
      ]
    },
    {
      "cell_type": "code",
      "source": [
        "# Creating a 2D tensor (matrix)\n",
        "tensor_2d = torch.tensor([[1, 2, 3],\n",
        "                          [4, 5, 6]])\n",
        "\n",
        "# Creating a 3D tensor\n",
        "tensor_3d = torch.tensor([[[1, 2, 3],\n",
        "                           [4, 5, 6]],\n",
        "                          [[7, 8, 9],\n",
        "                           [10, 11, 12]]])\n",
        "\n",
        "# Creating a 4D tensor\n",
        "tensor_4d = torch.tensor([[[[1, 2],\n",
        "                            [3, 4]],\n",
        "                           [[5, 6],\n",
        "                            [7, 8]]],\n",
        "                          [[[9, 10],\n",
        "                            [11, 12]],\n",
        "                           [[13, 14],\n",
        "                            [15, 16]]]])\n",
        "\n",
        "# Print the tensors\n",
        "print(f\"2D Tensor (Matrix): \\n{tensor_2d}\")\n",
        "print(f\"Shape: {tensor_2d.shape}\")\n",
        "print(\"\\n\")\n",
        "\n",
        "print(f\"3D Tensor (Matrix): \\n{tensor_3d}\")\n",
        "print(f\"Shape: {tensor_3d.shape}\")\n",
        "print(\"\\n\")\n",
        "\n",
        "print(f\"4D Tensor (Matrix): \\n{tensor_4d}\")\n",
        "print(f\"Shape: {tensor_4d.shape}\")\n",
        "print(\"\\n\")"
      ],
      "metadata": {
        "colab": {
          "base_uri": "https://localhost:8080/"
        },
        "id": "Em-_scs_zKMx",
        "outputId": "cad873c0-dd09-4475-8783-13e87ebfa2e3"
      },
      "execution_count": 3,
      "outputs": [
        {
          "output_type": "stream",
          "name": "stdout",
          "text": [
            "2D Tensor (Matrix): \n",
            "tensor([[1, 2, 3],\n",
            "        [4, 5, 6]])\n",
            "Shape: torch.Size([2, 3])\n",
            "\n",
            "\n",
            "3D Tensor (Matrix): \n",
            "tensor([[[ 1,  2,  3],\n",
            "         [ 4,  5,  6]],\n",
            "\n",
            "        [[ 7,  8,  9],\n",
            "         [10, 11, 12]]])\n",
            "Shape: torch.Size([2, 2, 3])\n",
            "\n",
            "\n",
            "4D Tensor (Matrix): \n",
            "tensor([[[[ 1,  2],\n",
            "          [ 3,  4]],\n",
            "\n",
            "         [[ 5,  6],\n",
            "          [ 7,  8]]],\n",
            "\n",
            "\n",
            "        [[[ 9, 10],\n",
            "          [11, 12]],\n",
            "\n",
            "         [[13, 14],\n",
            "          [15, 16]]]])\n",
            "Shape: torch.Size([2, 2, 2, 2])\n",
            "\n",
            "\n"
          ]
        }
      ]
    },
    {
      "cell_type": "code",
      "source": [
        "print(f\"Tensor Type: {tensor_2d.dtype}\")\n",
        "print(f\"Tensor Device: {tensor_2d.device}\")"
      ],
      "metadata": {
        "colab": {
          "base_uri": "https://localhost:8080/"
        },
        "id": "0M-VnDewsxoH",
        "outputId": "ac65ff46-8446-43f3-aa3f-f720bde86af6"
      },
      "execution_count": 5,
      "outputs": [
        {
          "output_type": "stream",
          "name": "stdout",
          "text": [
            "Tensor Type: torch.int64\n",
            "Tensor Device: cpu\n"
          ]
        }
      ]
    },
    {
      "cell_type": "code",
      "source": [
        "# Using a Numpy Array\n",
        "import numpy as np\n",
        "\n",
        "np_array = np.array(list(range(10)))\n",
        "print(f\"Numpy array: {np_array} || datatype: {type(np_array)}\")\n",
        "\n",
        "# Convert NumPy array to PyTorch tensor\n",
        "torch_tensor = torch.tensor(np_array)\n",
        "# or\n",
        "torch_tensor = torch.from_numpy(np_array)\n",
        "print(f\"Torch Tensor: {torch_tensor} || datatype: {type(torch_tensor)}\")\n",
        "\n",
        "# Convert tensor to numpy array\n",
        "c = torch_tensor.numpy()\n",
        "print(f\"Numpy array: {c} || datatype: {type(c)}\")"
      ],
      "metadata": {
        "colab": {
          "base_uri": "https://localhost:8080/"
        },
        "id": "Ibay777bmjWV",
        "outputId": "a1d7b94c-0322-4110-c8d2-f58f398fd1a5"
      },
      "execution_count": 6,
      "outputs": [
        {
          "output_type": "stream",
          "name": "stdout",
          "text": [
            "Numpy array: [0 1 2 3 4 5 6 7 8 9] || datatype: <class 'numpy.ndarray'>\n",
            "Torch Tensor: tensor([0, 1, 2, 3, 4, 5, 6, 7, 8, 9]) || datatype: <class 'torch.Tensor'>\n",
            "Numpy array: [0 1 2 3 4 5 6 7 8 9] || datatype: <class 'numpy.ndarray'>\n"
          ]
        }
      ]
    },
    {
      "cell_type": "code",
      "source": [
        "# We cannot create a tensor using a hashmap\n",
        "hashmap = {1:1,2:2,3:3}\n",
        "print(f\"Datatype: {type(hashmap)}\")\n",
        "print(torch.tensor(hashmap))"
      ],
      "metadata": {
        "colab": {
          "base_uri": "https://localhost:8080/",
          "height": 193
        },
        "id": "YRAocsQam0us",
        "outputId": "3afe95c8-c2b3-4164-8e2c-3b679f1fb055"
      },
      "execution_count": 7,
      "outputs": [
        {
          "output_type": "stream",
          "name": "stdout",
          "text": [
            "Datatype: <class 'dict'>\n"
          ]
        },
        {
          "output_type": "error",
          "ename": "RuntimeError",
          "evalue": "Could not infer dtype of dict",
          "traceback": [
            "\u001b[0;31m---------------------------------------------------------------------------\u001b[0m",
            "\u001b[0;31mRuntimeError\u001b[0m                              Traceback (most recent call last)",
            "\u001b[0;32m<ipython-input-7-ebec72dfdd2a>\u001b[0m in \u001b[0;36m<cell line: 3>\u001b[0;34m()\u001b[0m\n\u001b[1;32m      1\u001b[0m \u001b[0mhashmap\u001b[0m \u001b[0;34m=\u001b[0m \u001b[0;34m{\u001b[0m\u001b[0;36m1\u001b[0m\u001b[0;34m:\u001b[0m\u001b[0;36m1\u001b[0m\u001b[0;34m,\u001b[0m\u001b[0;36m2\u001b[0m\u001b[0;34m:\u001b[0m\u001b[0;36m2\u001b[0m\u001b[0;34m,\u001b[0m\u001b[0;36m3\u001b[0m\u001b[0;34m:\u001b[0m\u001b[0;36m3\u001b[0m\u001b[0;34m}\u001b[0m\u001b[0;34m\u001b[0m\u001b[0;34m\u001b[0m\u001b[0m\n\u001b[1;32m      2\u001b[0m \u001b[0mprint\u001b[0m\u001b[0;34m(\u001b[0m\u001b[0;34mf\"Datatype: {type(hashmap)}\"\u001b[0m\u001b[0;34m)\u001b[0m\u001b[0;34m\u001b[0m\u001b[0;34m\u001b[0m\u001b[0m\n\u001b[0;32m----> 3\u001b[0;31m \u001b[0mprint\u001b[0m\u001b[0;34m(\u001b[0m\u001b[0mtorch\u001b[0m\u001b[0;34m.\u001b[0m\u001b[0mtensor\u001b[0m\u001b[0;34m(\u001b[0m\u001b[0mhashmap\u001b[0m\u001b[0;34m)\u001b[0m\u001b[0;34m)\u001b[0m\u001b[0;34m\u001b[0m\u001b[0;34m\u001b[0m\u001b[0m\n\u001b[0m",
            "\u001b[0;31mRuntimeError\u001b[0m: Could not infer dtype of dict"
          ]
        }
      ]
    },
    {
      "cell_type": "code",
      "source": [
        "# We cannot create a tensor using a hashset\n",
        "hashset = set([1,22,3,5,6,4,8])\n",
        "print(f\"Datatype: {type(hashset)}\")\n",
        "print(torch.tensor(hashset))"
      ],
      "metadata": {
        "id": "N1gQC29ApRo4",
        "colab": {
          "base_uri": "https://localhost:8080/",
          "height": 193
        },
        "outputId": "e9b87f19-eacf-4b4c-d8c8-c6e34ccf6d2d"
      },
      "execution_count": 8,
      "outputs": [
        {
          "output_type": "stream",
          "name": "stdout",
          "text": [
            "Datatype: <class 'set'>\n"
          ]
        },
        {
          "output_type": "error",
          "ename": "RuntimeError",
          "evalue": "Could not infer dtype of set",
          "traceback": [
            "\u001b[0;31m---------------------------------------------------------------------------\u001b[0m",
            "\u001b[0;31mRuntimeError\u001b[0m                              Traceback (most recent call last)",
            "\u001b[0;32m<ipython-input-8-75c2a48d67ed>\u001b[0m in \u001b[0;36m<cell line: 3>\u001b[0;34m()\u001b[0m\n\u001b[1;32m      1\u001b[0m \u001b[0mhashset\u001b[0m \u001b[0;34m=\u001b[0m \u001b[0mset\u001b[0m\u001b[0;34m(\u001b[0m\u001b[0;34m[\u001b[0m\u001b[0;36m1\u001b[0m\u001b[0;34m,\u001b[0m\u001b[0;36m22\u001b[0m\u001b[0;34m,\u001b[0m\u001b[0;36m3\u001b[0m\u001b[0;34m,\u001b[0m\u001b[0;36m5\u001b[0m\u001b[0;34m,\u001b[0m\u001b[0;36m6\u001b[0m\u001b[0;34m,\u001b[0m\u001b[0;36m4\u001b[0m\u001b[0;34m,\u001b[0m\u001b[0;36m8\u001b[0m\u001b[0;34m]\u001b[0m\u001b[0;34m)\u001b[0m\u001b[0;34m\u001b[0m\u001b[0;34m\u001b[0m\u001b[0m\n\u001b[1;32m      2\u001b[0m \u001b[0mprint\u001b[0m\u001b[0;34m(\u001b[0m\u001b[0;34mf\"Datatype: {type(hashset)}\"\u001b[0m\u001b[0;34m)\u001b[0m\u001b[0;34m\u001b[0m\u001b[0;34m\u001b[0m\u001b[0m\n\u001b[0;32m----> 3\u001b[0;31m \u001b[0mprint\u001b[0m\u001b[0;34m(\u001b[0m\u001b[0mtorch\u001b[0m\u001b[0;34m.\u001b[0m\u001b[0mtensor\u001b[0m\u001b[0;34m(\u001b[0m\u001b[0mhashset\u001b[0m\u001b[0;34m)\u001b[0m\u001b[0;34m)\u001b[0m\u001b[0;34m\u001b[0m\u001b[0;34m\u001b[0m\u001b[0m\n\u001b[0m",
            "\u001b[0;31mRuntimeError\u001b[0m: Could not infer dtype of set"
          ]
        }
      ]
    },
    {
      "cell_type": "code",
      "source": [
        "# We cannot create a tensor using a non-uniform tuple\n",
        "tup_non_uniform = tuple([(\"a\",2),(\"b\",4),(\"c\",6)])\n",
        "print(f\"Datatype: {type(tup_non_uniform)}\")\n",
        "print(torch.tensor(tup_non_uniform))"
      ],
      "metadata": {
        "colab": {
          "base_uri": "https://localhost:8080/",
          "height": 193
        },
        "id": "rmdZXGJsuiTX",
        "outputId": "6f69a5e3-4ee2-47f0-ad53-f41d969b5d25"
      },
      "execution_count": 10,
      "outputs": [
        {
          "output_type": "stream",
          "name": "stdout",
          "text": [
            "Datatype: <class 'tuple'>\n"
          ]
        },
        {
          "output_type": "error",
          "ename": "ValueError",
          "evalue": "too many dimensions 'str'",
          "traceback": [
            "\u001b[0;31m---------------------------------------------------------------------------\u001b[0m",
            "\u001b[0;31mValueError\u001b[0m                                Traceback (most recent call last)",
            "\u001b[0;32m<ipython-input-10-b2bf21ce6e64>\u001b[0m in \u001b[0;36m<cell line: 4>\u001b[0;34m()\u001b[0m\n\u001b[1;32m      2\u001b[0m \u001b[0mtup_non_uniform\u001b[0m \u001b[0;34m=\u001b[0m \u001b[0mtuple\u001b[0m\u001b[0;34m(\u001b[0m\u001b[0;34m[\u001b[0m\u001b[0;34m(\u001b[0m\u001b[0;34m\"a\"\u001b[0m\u001b[0;34m,\u001b[0m\u001b[0;36m2\u001b[0m\u001b[0;34m)\u001b[0m\u001b[0;34m,\u001b[0m\u001b[0;34m(\u001b[0m\u001b[0;34m\"b\"\u001b[0m\u001b[0;34m,\u001b[0m\u001b[0;36m4\u001b[0m\u001b[0;34m)\u001b[0m\u001b[0;34m,\u001b[0m\u001b[0;34m(\u001b[0m\u001b[0;34m\"c\"\u001b[0m\u001b[0;34m,\u001b[0m\u001b[0;36m6\u001b[0m\u001b[0;34m)\u001b[0m\u001b[0;34m]\u001b[0m\u001b[0;34m)\u001b[0m\u001b[0;34m\u001b[0m\u001b[0;34m\u001b[0m\u001b[0m\n\u001b[1;32m      3\u001b[0m \u001b[0mprint\u001b[0m\u001b[0;34m(\u001b[0m\u001b[0;34mf\"Datatype: {type(tup_non_uniform)}\"\u001b[0m\u001b[0;34m)\u001b[0m\u001b[0;34m\u001b[0m\u001b[0;34m\u001b[0m\u001b[0m\n\u001b[0;32m----> 4\u001b[0;31m \u001b[0mprint\u001b[0m\u001b[0;34m(\u001b[0m\u001b[0mtorch\u001b[0m\u001b[0;34m.\u001b[0m\u001b[0mtensor\u001b[0m\u001b[0;34m(\u001b[0m\u001b[0mtup_non_uniform\u001b[0m\u001b[0;34m)\u001b[0m\u001b[0;34m)\u001b[0m\u001b[0;34m\u001b[0m\u001b[0;34m\u001b[0m\u001b[0m\n\u001b[0m",
            "\u001b[0;31mValueError\u001b[0m: too many dimensions 'str'"
          ]
        }
      ]
    },
    {
      "cell_type": "code",
      "source": [
        "# We can create a tensor using a uniform tuple\n",
        "tup_uniform = tuple([(1,2),(2,4),(3,6)])\n",
        "print(f\"Datatype: {type(tup_uniform)}\")\n",
        "print(torch.tensor(tup_uniform))"
      ],
      "metadata": {
        "colab": {
          "base_uri": "https://localhost:8080/"
        },
        "id": "aQteXd1fvGyH",
        "outputId": "fc6f31a1-899a-4c35-e232-d35dbcf0f704"
      },
      "execution_count": 12,
      "outputs": [
        {
          "output_type": "stream",
          "name": "stdout",
          "text": [
            "Datatype: <class 'tuple'>\n",
            "tensor([[1, 2],\n",
            "        [2, 4],\n",
            "        [3, 6]])\n"
          ]
        }
      ]
    },
    {
      "cell_type": "code",
      "execution_count": 13,
      "metadata": {
        "id": "s535ohHSknXj",
        "colab": {
          "base_uri": "https://localhost:8080/"
        },
        "outputId": "fe037c5b-253e-4022-ffbb-5bdaf515090d"
      },
      "outputs": [
        {
          "output_type": "stream",
          "name": "stdout",
          "text": [
            "z = \n",
            "tensor([[0., 0., 0.],\n",
            "        [0., 0., 0.],\n",
            "        [0., 0., 0.],\n",
            "        [0., 0., 0.],\n",
            "        [0., 0., 0.]])\n",
            "Datatype: torch.float32\n"
          ]
        }
      ],
      "source": [
        "z = torch.zeros((5, 3))\n",
        "print(f\"z = \\n{z}\")\n",
        "print(f\"Datatype: {z.dtype}\")"
      ]
    },
    {
      "cell_type": "markdown",
      "metadata": {
        "id": "j-gYsBztknXk"
      },
      "source": [
        "Above, we create a 5x3 matrix filled with zeros. The zeros are 32-bit floating point numbers which is the default in PyTorch.\n",
        "\n",
        "We can change the default datatype as well."
      ]
    },
    {
      "cell_type": "code",
      "execution_count": 14,
      "metadata": {
        "id": "nf2Bvc4XknXk",
        "colab": {
          "base_uri": "https://localhost:8080/"
        },
        "outputId": "3384fcd9-d7af-4a95-8684-2e159a742af3"
      },
      "outputs": [
        {
          "output_type": "stream",
          "name": "stdout",
          "text": [
            "i = \n",
            "tensor([[1, 1, 1],\n",
            "        [1, 1, 1],\n",
            "        [1, 1, 1],\n",
            "        [1, 1, 1],\n",
            "        [1, 1, 1]], dtype=torch.int16)\n",
            "Datatype: torch.int16\n"
          ]
        }
      ],
      "source": [
        "i = torch.ones((5, 3), dtype=torch.int16)\n",
        "print(f\"i = \\n{i}\")\n",
        "print(f\"Datatype: {i.dtype}\")"
      ]
    },
    {
      "cell_type": "markdown",
      "source": [
        "![rainbow](https://github.com/ancilcleetus/My-Learning-Journey/assets/25684256/839c3524-2a1d-4779-85a0-83c562e1e5e5)"
      ],
      "metadata": {
        "id": "WIt3_E3qCE05"
      }
    },
    {
      "cell_type": "code",
      "source": [
        "# Deep Learning as subset of ML\n",
        "\n",
        "from IPython import display\n",
        "display.Image(\"data/images/DL_01_Intro-01-DL-subset-of-ML.jpg\")"
      ],
      "metadata": {
        "id": "juNAxVBFg7sw"
      },
      "execution_count": null,
      "outputs": []
    },
    {
      "cell_type": "markdown",
      "source": [
        "![rainbow](https://github.com/ancilcleetus/My-Learning-Journey/assets/25684256/839c3524-2a1d-4779-85a0-83c562e1e5e5)"
      ],
      "metadata": {
        "id": "qqv0L0R9dyKJ"
      }
    }
  ]
}