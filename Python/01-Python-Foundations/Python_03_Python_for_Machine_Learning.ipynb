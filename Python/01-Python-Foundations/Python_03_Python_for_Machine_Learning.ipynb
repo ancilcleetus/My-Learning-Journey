{
  "nbformat": 4,
  "nbformat_minor": 0,
  "metadata": {
    "colab": {
      "provenance": []
    },
    "kernelspec": {
      "name": "python3",
      "display_name": "Python 3"
    },
    "language_info": {
      "name": "python"
    }
  },
  "cells": [
    {
      "cell_type": "markdown",
      "source": [
        "![rainbow](https://github.com/ancilcleetus/My-Learning-Journey/assets/25684256/839c3524-2a1d-4779-85a0-83c562e1e5e5)"
      ],
      "metadata": {
        "id": "uLR90WhedwER"
      }
    },
    {
      "cell_type": "markdown",
      "source": [
        "# 1. Intro to Python"
      ],
      "metadata": {
        "id": "bKim3KwyTp11"
      }
    },
    {
      "cell_type": "markdown",
      "source": [
        "Python is an interpreted, high-level, and general purpose programming language that was designed for efficiency, readability, and simplicity.\n",
        "\n",
        "Python design philosophy emphasizes simplicity and code readability. There are about 19 Python design guiding principles, the top 8 being:\n",
        "\n",
        "- Beautiful is better than ugly.\n",
        "\n",
        "- Explicit is better than implicit.\n",
        "\n",
        "- Simple is better than complex.\n",
        "\n",
        "- Complex is better than complicated.\n",
        "\n",
        "- Readability counts.\n",
        "\n",
        "- Now is better than never.\n",
        "\n",
        "- If the implementation is hard to explain, it's a bad idea.\n",
        "\n",
        "- If the implementation is easy to explain, it may be a good idea.\n",
        "\n",
        "More design rules can be found in the [Zen of Python](https://en.wikipedia.org/wiki/Zen_of_Python). You can also display them by importing this(`import this`) in any Python interpreter."
      ],
      "metadata": {
        "id": "lMZzenw2CMY-"
      }
    },
    {
      "cell_type": "code",
      "source": [
        "import this"
      ],
      "metadata": {
        "colab": {
          "base_uri": "https://localhost:8080/"
        },
        "id": "kHQl4rK2CduQ",
        "outputId": "732c41e0-d3f3-4354-b31a-5befc77ac83a"
      },
      "execution_count": 1,
      "outputs": [
        {
          "output_type": "stream",
          "name": "stdout",
          "text": [
            "The Zen of Python, by Tim Peters\n",
            "\n",
            "Beautiful is better than ugly.\n",
            "Explicit is better than implicit.\n",
            "Simple is better than complex.\n",
            "Complex is better than complicated.\n",
            "Flat is better than nested.\n",
            "Sparse is better than dense.\n",
            "Readability counts.\n",
            "Special cases aren't special enough to break the rules.\n",
            "Although practicality beats purity.\n",
            "Errors should never pass silently.\n",
            "Unless explicitly silenced.\n",
            "In the face of ambiguity, refuse the temptation to guess.\n",
            "There should be one-- and preferably only one --obvious way to do it.\n",
            "Although that way may not be obvious at first unless you're Dutch.\n",
            "Now is better than never.\n",
            "Although never is often better than *right* now.\n",
            "If the implementation is hard to explain, it's a bad idea.\n",
            "If the implementation is easy to explain, it may be a good idea.\n",
            "Namespaces are one honking great idea -- let's do more of those!\n"
          ]
        }
      ]
    },
    {
      "cell_type": "markdown",
      "source": [
        "Python is a popular and go-to programming language in different tech communities, most notable in machine learning and data science. It is sometimes referred to as [“batteries included”](https://docs.python.org/3/tutorial/stdlib.html) due to its rich standard library. Below are more elaborated advantages of Python:\n",
        "\n",
        "- It is simple to read and write: Python syntaxes are very easy to write and easy to recall as well.\n",
        "\n",
        "- It has a beautiful design and built-in data types.\n",
        "\n",
        "- It has thousands of great libraries in many disciplines.\n",
        "\n",
        "- Supportive communities: Good documentation, courses, tutorials, social groups.\n",
        "\n",
        "- Easy to learn and use due to its simple syntaxes which feel like a natural language.\n"
      ],
      "metadata": {
        "id": "UmoBi5KDDGUv"
      }
    },
    {
      "cell_type": "markdown",
      "source": [
        "![rainbow](https://github.com/ancilcleetus/My-Learning-Journey/assets/25684256/839c3524-2a1d-4779-85a0-83c562e1e5e5)"
      ],
      "metadata": {
        "id": "-pgDbDYKEk74"
      }
    },
    {
      "cell_type": "markdown",
      "source": [
        "# 2. Variables, Numbers, and Strings"
      ],
      "metadata": {
        "id": "yfiqc0RoEk76"
      }
    },
    {
      "cell_type": "markdown",
      "source": [
        "Variables are containers for holding data and they're defined by a name and value."
      ],
      "metadata": {
        "id": "WuHP9WnHFGs_"
      }
    },
    {
      "cell_type": "code",
      "source": [
        "# Variables\n",
        "\n",
        "from IPython import display\n",
        "display.Image(\"data/images/Python_03_Python_for_Machine_Learning-01.png\")"
      ],
      "metadata": {
        "colab": {
          "base_uri": "https://localhost:8080/",
          "height": 194
        },
        "id": "jEsJbs5OFJHe",
        "outputId": "7fa2d371-e29c-43d0-def4-172fca1f4ba1"
      },
      "execution_count": 2,
      "outputs": [
        {
          "output_type": "execute_result",
          "data": {
            "image/png": "[encoded data removed]",
            "text/plain": [
              "<IPython.core.display.Image object>"
            ]
          },
          "metadata": {},
          "execution_count": 2
        }
      ]
    },
    {
      "cell_type": "markdown",
      "source": [
        "**Note**\n",
        "\n",
        "Here we use the variable name `x` in our examples but when you're working on a specific task, be sure to be explicit (ex. `first_name`) when creating variables (applies to functions, classes, etc. as well)."
      ],
      "metadata": {
        "id": "afftQJyGFesF"
      }
    },
    {
      "cell_type": "markdown",
      "source": [
        "## Variables"
      ],
      "metadata": {
        "id": "0jtpfqrGFzX2"
      }
    },
    {
      "cell_type": "markdown",
      "source": [
        "Below are quick notes about Python variables and other most important things to know before writing actual Python code:\n",
        "\n",
        "- A variable is a location in memory where we store the data.\n",
        "\n",
        "- A variable in Python can either be of 4 data types: integer, float, string or a boolean. Data type specifies the category of the variables.\n",
        "\n",
        "- We can use `type(variable_name)` to find the type of given `variable_name`.\n",
        "\n",
        "- In Python, we use `#` to add comments. Comments do not change anything and are not compiled.\n",
        "\n",
        "- If your comment is longer than one line, you can use triple quotes. The lines inside triple quotes are ignored during runtime.\n",
        "\n",
        "    ```\n",
        "    \"\"\"\n",
        "    In Python, there is no official way to write long comments, but you can use triple quotes.\n",
        "    The sentence between triple quote are ignored at runtime. You can also use single quote('''....''').\n",
        "    Python treats single quote as double quotes in many scanerios such as strings representation.\n",
        "\n",
        "    Guido also agreed it works: https://x.com/gvanrossum/status/112670605505077248\n",
        "    \"\"\"\n",
        "    ```\n",
        "\n",
        "\n",
        "- We also use `=` to assign a value to the name of variable. Example: `var_name = 1`. Note that it's different to comparison operator of equal to (`==`).\n",
        "\n",
        "- We can use `print()` to display the value of variable or the results of any expression.\n",
        "\n",
        "- Each line of the code start on the new line.\n",
        "\n",
        "- Be aware of indentations. Python is serious about them."
      ],
      "metadata": {
        "id": "NzU2GCqkHXvr"
      }
    },
    {
      "cell_type": "code",
      "source": [
        "# EXAMPLE OF CREATING A VARIABLE\n",
        "\n",
        "# We use # to add comment, it won’t run or affect the code\n",
        "# You use = to assign a value to the name of the variable.\n",
        "# Each code starts on the new line. No semicolon or {}\n",
        "# Python is awesome. You do not need to provide the data type of variable when creating it.\n",
        "\n",
        "int_var = 1\n",
        "float_var = 5.0\n",
        "str_var = 'Hundred'\n",
        "bool_var = True\n",
        "\n",
        "print(type(int_var))\n",
        "print(type(float_var))\n",
        "print(type(str_var))\n",
        "print(type(bool_var))"
      ],
      "metadata": {
        "colab": {
          "base_uri": "https://localhost:8080/"
        },
        "id": "Eiv8mIqaInEP",
        "outputId": "242cf513-5129-40af-94a1-4aa3d9bee3a3"
      },
      "execution_count": 6,
      "outputs": [
        {
          "output_type": "stream",
          "name": "stdout",
          "text": [
            "<class 'int'>\n",
            "<class 'float'>\n",
            "<class 'str'>\n",
            "<class 'bool'>\n"
          ]
        }
      ]
    },
    {
      "cell_type": "markdown",
      "source": [
        "## Numbers"
      ],
      "metadata": {
        "id": "wFDLHqegJOuV"
      }
    },
    {
      "cell_type": "markdown",
      "source": [
        "Numbers in Python can either be integers `int` or floats `float`. Integer are real, finite, natural or whole numbers. Take an example: `1,2,3,4` are integers. Floats are numbers that have decimal points such as `4.6, 6.0, 7.7`. Note that `4.0` is considered as a float data type too.\n",
        "\n",
        "We can perform operations on numbers. The operations that we can perform include addition, multiplication, division, mod, etc."
      ],
      "metadata": {
        "id": "NF_k0wC8KiME"
      }
    },
    {
      "cell_type": "code",
      "source": [
        "int_var = 10\n",
        "float_var = 12.8\n",
        "\n",
        "print(type(int_var))\n",
        "print(type(float_var))"
      ],
      "metadata": {
        "colab": {
          "base_uri": "https://localhost:8080/"
        },
        "id": "5zWU1pImLQ3A",
        "outputId": "7efe2bda-b399-46b2-d341-532d54a8722e"
      },
      "execution_count": 7,
      "outputs": [
        {
          "output_type": "stream",
          "name": "stdout",
          "text": [
            "<class 'int'>\n",
            "<class 'float'>\n"
          ]
        }
      ]
    },
    {
      "cell_type": "code",
      "source": [
        "# Numeric Operations\n",
        "\n",
        "# Addition\n",
        "\n",
        "print(f\"1 + 100 = {1 + 100}\")\n",
        "\n",
        "# Subtraction\n",
        "\n",
        "print(f\"100 - 1 = {100 - 1}\")\n",
        "\n",
        "# Multiplication\n",
        "\n",
        "print(f\"1 * 100 = {1 * 100}\")\n",
        "\n",
        "# Division\n",
        "\n",
        "print(f\"1 / 100 = {1 / 100}\")\n",
        "\n",
        "# Floor division\n",
        "\n",
        "print(f\"7 // 2 = {7 // 2}\")\n",
        "\n",
        "# Mod\n",
        "# This is the remainder or a value remaining after dividing two numbers\n",
        "# 100 / 1 = 100, remainder is 0\n",
        "\n",
        "print(f\"100 % 1 = {100 % 1}\")\n",
        "print(f\"1 % 100 = {1 % 100}\")\n",
        "print(f\"10 % 2 = {10 % 2}\")\n",
        "\n",
        "# Exponent\n",
        "# This is the power of a number\n",
        "\n",
        "print(f\"1 ** 100 = {1 ** 100}\")\n",
        "\n",
        "print(f\"2 ** 3 = {2 ** 3}\")"
      ],
      "metadata": {
        "colab": {
          "base_uri": "https://localhost:8080/"
        },
        "id": "z3oXOgshL6_m",
        "outputId": "d679b208-854c-4d6a-c465-26be84b201b6"
      },
      "execution_count": 8,
      "outputs": [
        {
          "output_type": "stream",
          "name": "stdout",
          "text": [
            "1 + 100 = 101\n",
            "100 - 1 = 99\n",
            "1 * 100 = 100\n",
            "1 / 100 = 0.01\n",
            "7 // 2 = 3\n",
            "100 % 1 = 0\n",
            "1 % 100 = 1\n",
            "10 % 2 = 0\n",
            "1 ** 100 = 1\n",
            "2 ** 3 = 8\n"
          ]
        }
      ]
    },
    {
      "cell_type": "markdown",
      "source": [
        "## Strings"
      ],
      "metadata": {
        "id": "W6migOa6Nqyx"
      }
    },
    {
      "cell_type": "markdown",
      "source": [
        "![rainbow](https://github.com/ancilcleetus/My-Learning-Journey/assets/25684256/839c3524-2a1d-4779-85a0-83c562e1e5e5)"
      ],
      "metadata": {
        "id": "U897-NGnYhHk"
      }
    }
  ]
}