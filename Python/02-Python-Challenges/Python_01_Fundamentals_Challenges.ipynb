{
  "nbformat": 4,
  "nbformat_minor": 0,
  "metadata": {
    "colab": {
      "provenance": []
    },
    "kernelspec": {
      "name": "python3",
      "display_name": "Python 3"
    },
    "language_info": {
      "name": "python"
    }
  },
  "cells": [
    {
      "cell_type": "markdown",
      "source": [
        "![rainbow](https://github.com/ancilcleetus/My-Learning-Journey/assets/25684256/839c3524-2a1d-4779-85a0-83c562e1e5e5)"
      ],
      "metadata": {
        "id": "5q43BKgRvY0W"
      }
    },
    {
      "cell_type": "markdown",
      "source": [
        "# 1. Python Fundamentals - Coding Challenges"
      ],
      "metadata": {
        "id": "C_0MZHV1vAxA"
      }
    },
    {
      "cell_type": "markdown",
      "source": [
        "## Q1. Print the given strings as per stated format.\n",
        "\n",
        "**Given strings**:\n",
        "```\n",
        "\"Data\" \"Science\" \"Mentorship\" \"Program\"\n",
        "\"By\" \"CampusX\"\n",
        "```\n",
        "**Output**:\n",
        "```\n",
        "Data-Science-Mentorship-Program-started-By-CampusX\n",
        "```"
      ],
      "metadata": {
        "id": "2doIXf8bqe9_"
      }
    },
    {
      "cell_type": "code",
      "source": [
        "# Write your code here\n",
        "print(\"Data\", \"Science\", \"Mentorship\", \"Program\", \"started\", \"By\", \"CampusX\", sep='-')"
      ],
      "metadata": {
        "id": "-em6d3KErDtp",
        "outputId": "0c04a7e0-7dfc-4440-9f4c-92ba0f5474a1",
        "colab": {
          "base_uri": "https://localhost:8080/"
        }
      },
      "execution_count": null,
      "outputs": [
        {
          "output_type": "stream",
          "name": "stdout",
          "text": [
            "Data-Science-Mentorship-Program-started-By-CampusX\n"
          ]
        }
      ]
    },
    {
      "cell_type": "markdown",
      "source": [
        "## Q2. Write a program that will convert celsius value to fahrenheit."
      ],
      "metadata": {
        "id": "1KUpN7ZTrC3_"
      }
    },
    {
      "cell_type": "code",
      "source": [
        "# Write your code here\n",
        "temp_celsius = float(input('Enter temperature in Celsius: '))\n",
        "temp_fahrenheit = (1.8 * temp_celsius) + 32\n",
        "print(f\"Temperature in Fahrenheit: {temp_fahrenheit}\")"
      ],
      "metadata": {
        "id": "yxKYhYQiqWfj",
        "outputId": "3104db90-e6de-4c06-8de6-f32b1e37b779",
        "colab": {
          "base_uri": "https://localhost:8080/"
        }
      },
      "execution_count": null,
      "outputs": [
        {
          "output_type": "stream",
          "name": "stdout",
          "text": [
            "Enter temperature in Celsius: 40\n",
            "Temperature in Fahrenheit: 104.0\n"
          ]
        }
      ]
    },
    {
      "cell_type": "markdown",
      "source": [
        "## Q3. Take 2 numbers as input from the user.Write a program to swap the numbers without using any special python syntax."
      ],
      "metadata": {
        "id": "RLrOBBJurLB2"
      }
    },
    {
      "cell_type": "code",
      "source": [
        "# Write your code here\n",
        "num1 = int(input('Enter first number: '))\n",
        "num2 = int(input('Enter second number: '))\n",
        "\n",
        "print(num1, num2)\n",
        "\n",
        "num1 = num1 + num2\n",
        "num2 = num1 - num2\n",
        "num1 = num1 - num2\n",
        "\n",
        "print(num1, num2)"
      ],
      "metadata": {
        "id": "yPn7if0TrJ4F",
        "outputId": "01ea6b23-a3c8-49db-f98f-d69011604195",
        "colab": {
          "base_uri": "https://localhost:8080/"
        }
      },
      "execution_count": null,
      "outputs": [
        {
          "output_type": "stream",
          "name": "stdout",
          "text": [
            "Enter first number: 5\n",
            "Enter second number: 10\n",
            "5 10\n",
            "10 5\n"
          ]
        }
      ]
    },
    {
      "cell_type": "markdown",
      "source": [
        "## Q4. Write a program to find the euclidean distance between two coordinates.Take both the coordinates from the user as input."
      ],
      "metadata": {
        "id": "waLCP1bjr7ML"
      }
    },
    {
      "cell_type": "code",
      "source": [
        "# Write your code here\n",
        "x1 = float(input('Enter x1 of first co-ordinate: '))\n",
        "y1 = float(input('Enter y1 of first co-ordinate: '))\n",
        "x2 = float(input('Enter x2 of second co-ordinate: '))\n",
        "y2 = float(input('Enter y2 of second co-ordinate: '))\n",
        "\n",
        "euclidean_distance = ((x2 - x1)**2 + (y2 - y1)**2) ** 0.5\n",
        "print(f'Euclidean distance: {euclidean_distance}')"
      ],
      "metadata": {
        "id": "Pl1Sv-xnrxnH",
        "outputId": "3ca3b0e1-b625-4e65-9074-900563ffdc19",
        "colab": {
          "base_uri": "https://localhost:8080/"
        }
      },
      "execution_count": null,
      "outputs": [
        {
          "output_type": "stream",
          "name": "stdout",
          "text": [
            "Enter x1 of first co-ordinate: 5.3\n",
            "Enter y1 of first co-ordinate: 5\n",
            "Enter x2 of second co-ordinate: 4\n",
            "Enter y2 of second co-ordinate: 2.7\n",
            "Euclidean distance: 2.641968962724581\n"
          ]
        }
      ]
    },
    {
      "cell_type": "markdown",
      "source": [
        "## Q5. Write a program to find the simple interest when the value of principle,rate of interest and time period is provided by the user.\n"
      ],
      "metadata": {
        "id": "VLrhg-FRsHjR"
      }
    },
    {
      "cell_type": "code",
      "source": [
        "# Write your code here\n",
        "principal = float(input('Enter principal: '))\n",
        "interest_rate = float(input('Enter rate of interest in %: '))\n",
        "period_in_years = float(input('Enter time period in years: '))\n",
        "\n",
        "simple_interest = principal * interest_rate * period_in_years / 100\n",
        "print(f\"Simple interest: {simple_interest}\")"
      ],
      "metadata": {
        "id": "s40DlReZsTmY",
        "outputId": "26db823e-a64a-4e19-a06d-06676acbc5c8",
        "colab": {
          "base_uri": "https://localhost:8080/"
        }
      },
      "execution_count": null,
      "outputs": [
        {
          "output_type": "stream",
          "name": "stdout",
          "text": [
            "Enter principal: 15000\n",
            "Enter rate of interest in %: 4\n",
            "Enter time period in years: 3\n",
            "Simple interest: 1800.0\n"
          ]
        }
      ]
    },
    {
      "cell_type": "markdown",
      "source": [
        "## Q6. Write a program that will tell the number of dogs and chicken are there when the user will provide the value of total heads and legs.\n",
        "\n",
        "For example:\n",
        "Input:\n",
        "heads -> 4\n",
        "legs -> 12\n",
        "<br>\n",
        "Output:\n",
        "dogs -> 2\n",
        "chicken -> 2\n",
        "\n",
        "\n",
        "\n"
      ],
      "metadata": {
        "id": "LMy0BTUktYKa"
      }
    },
    {
      "cell_type": "code",
      "source": [
        "# Write your code here"
      ],
      "metadata": {
        "id": "XSBvJoA4tXaG"
      },
      "execution_count": null,
      "outputs": []
    },
    {
      "cell_type": "markdown",
      "source": [
        "## Q7. Write a program to find the sum of squares of first n natural numbers where n will be provided by the user."
      ],
      "metadata": {
        "id": "gJ7C5kZYt4BP"
      }
    },
    {
      "cell_type": "code",
      "source": [
        "# Write your code here"
      ],
      "metadata": {
        "id": "_tHsmEHzt2nX"
      },
      "execution_count": null,
      "outputs": []
    },
    {
      "cell_type": "markdown",
      "source": [
        "## Q8. Given the first 2 terms of an Arithmetic Series.Find the Nth term of the series. Assume all inputs are provided by the user."
      ],
      "metadata": {
        "id": "FHrMM7g-yG1h"
      }
    },
    {
      "cell_type": "code",
      "source": [
        "# Write your code here"
      ],
      "metadata": {
        "id": "go4_kmZmyVSx"
      },
      "execution_count": null,
      "outputs": []
    },
    {
      "cell_type": "markdown",
      "source": [
        "## Q9. Given 2 fractions, find the sum of those 2 fractions.Take the numerator and denominator values of the fractions from the user."
      ],
      "metadata": {
        "id": "QgyRX_es1oum"
      }
    },
    {
      "cell_type": "code",
      "source": [
        "# Write your code here"
      ],
      "metadata": {
        "id": "X05xqFS1yW16"
      },
      "execution_count": null,
      "outputs": []
    },
    {
      "cell_type": "markdown",
      "source": [
        "## Q10. Given the height, width and breadth of a milk tank, you have to find out how many glasses of milk can be obtained? Assume all the inputs are provided by the user.\n",
        "\n",
        "\n",
        "\n",
        "Input:<br>\n",
        "Dimensions of the milk tank<br>\n",
        "H = 20cm, L = 20cm, B = 20cm\n",
        "<br><br>\n",
        "Dimensions of the glass<br>\n",
        "h = 3cm, r = 1cm"
      ],
      "metadata": {
        "id": "eaql38ln13u7"
      }
    },
    {
      "cell_type": "code",
      "source": [
        "# Write your code here"
      ],
      "metadata": {
        "id": "FePZqno74eWv"
      },
      "execution_count": null,
      "outputs": []
    },
    {
      "cell_type": "markdown",
      "source": [
        "![rainbow](https://github.com/ancilcleetus/My-Learning-Journey/assets/25684256/839c3524-2a1d-4779-85a0-83c562e1e5e5)"
      ],
      "metadata": {
        "id": "8XylDhxsv09w"
      }
    }
  ]
}