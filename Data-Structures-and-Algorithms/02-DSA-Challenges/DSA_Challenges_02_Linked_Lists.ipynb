{
  "nbformat": 4,
  "nbformat_minor": 0,
  "metadata": {
    "colab": {
      "provenance": []
    },
    "kernelspec": {
      "name": "python3",
      "display_name": "Python 3"
    },
    "language_info": {
      "name": "python"
    }
  },
  "cells": [
    {
      "cell_type": "markdown",
      "source": [
        "![rainbow](https://github.com/ancilcleetus/My-Learning-Journey/assets/25684256/839c3524-2a1d-4779-85a0-83c562e1e5e5)"
      ],
      "metadata": {
        "id": "uLR90WhedwER"
      }
    },
    {
      "cell_type": "markdown",
      "source": [
        "# Q1. Find Output; Difficulty: ${\\color{green}{Easy}}$"
      ],
      "metadata": {
        "id": "bKim3KwyTp11"
      }
    },
    {
      "cell_type": "markdown",
      "source": [
        "## Description"
      ],
      "metadata": {
        "id": "3oz9rmpktIMI"
      }
    },
    {
      "cell_type": "markdown",
      "source": [
        "What is the output of following function when head node of the below Linked List\n",
        "\n",
        "1 $\\longrightarrow$ 2 $\\longrightarrow$ 3 $\\longrightarrow$ 4 $\\longrightarrow$ 5\n",
        "\n",
        "is passed as input?\n",
        "\n",
        "```\n",
        "def fun(head):\n",
        "    if head is None:\n",
        "        return\n",
        "\n",
        "    if head.next.next is not None:\n",
        "        print(head.data, end=\" \")\n",
        "        fun(head.next)\n",
        "    print(head.data, end=\" \")\n",
        "```"
      ],
      "metadata": {
        "id": "8R18bW1C42Cm"
      }
    },
    {
      "cell_type": "markdown",
      "source": [
        "## Solution"
      ],
      "metadata": {
        "id": "Qdea0Mu_faS6"
      }
    },
    {
      "cell_type": "markdown",
      "source": [
        "| Step | Executing Code | Check head is None | return | Check head.next.next is not None | print(head.data, end=\" \") | fun(head.next) | Remaining print(head.data, end=\" \") | Current Output |\n",
        "| :--- | :------------- | :----------------- | :----- | :---- | :---- | :---- | :---- | :---- |\n",
        "| 1 | fun(Node 1) | ⬜ | ⬜ | ✔️ | \"1 \" (Executed) | fun(Node 2) | \"1 \" (Return address of fun(Node 1) pushed to Top of Stack) | \"1 \" |\n",
        "| 2 | fun(Node 2) | ⬜ | ⬜ | ✔️ | \"2 \" (Executed) | fun(Node 3) | \"2 \" (Return address of fun(Node 2) pushed to Top of Stack) | \"1 2 \" |\n",
        "| 3 | fun(Node 3) | ⬜ | ⬜ | ✔️ | \"3 \" (Executed) | fun(Node 4) | \"3 \" (Return address of fun(Node 3) pushed to Top of Stack) | \"1 2 3 \" |\n",
        "| 4 | fun(Node 4) | ⬜ | ⬜ | ⬜ | Not executed | Not executed | \"4 \" (Executed) | \"1 2 3 4 \" |\n",
        "| 5 | Remaining print(head.data, end=\" \") for Node 3 | NA | NA | NA | NA | NA | \"3 \" (Return address of fun(Node 3) popped from Top of Stack) | \"1 2 3 4 3 \" |\n",
        "| 6 | Remaining print(head.data, end=\" \") for Node 2 | NA | NA | NA | NA | NA | \"2 \" (Return address of fun(Node 2) popped from Top of Stack) | \"1 2 3 4 3 2 \" |\n",
        "| 7 | Remaining print(head.data, end=\" \") for Node 1 | NA | NA | NA | NA | NA | \"1 \" (Return address of fun(Node 1) popped from Top of Stack) | \"1 2 3 4 3 2 1 \" |"
      ],
      "metadata": {
        "id": "S5Y8LSLK7Gpl"
      }
    },
    {
      "cell_type": "markdown",
      "source": [
        "As shown in the above table, the final output is `\"1 2 3 4 3 2 1 \"`."
      ],
      "metadata": {
        "id": "-jiQrkU0IM_R"
      }
    },
    {
      "cell_type": "markdown",
      "source": [
        "**Note**\n",
        "\n",
        "The Stack is used to store the return addresses, allowing the program to correctly navigate back through the recursive calls and execute the second print statement for each node after the recursive processing is complete."
      ],
      "metadata": {
        "id": "SbjIxZ03rfGO"
      }
    },
    {
      "cell_type": "markdown",
      "source": [
        "![rainbow](https://github.com/ancilcleetus/My-Learning-Journey/assets/25684256/839c3524-2a1d-4779-85a0-83c562e1e5e5)"
      ],
      "metadata": {
        "id": "aLv22W0ushO5"
      }
    },
    {
      "cell_type": "markdown",
      "source": [
        "# Q2. Replace the maximum value in a Linked List; Difficulty: ${\\color{green}{Easy}}$"
      ],
      "metadata": {
        "id": "rifAD-EeshPG"
      }
    },
    {
      "cell_type": "markdown",
      "source": [
        "## Description"
      ],
      "metadata": {
        "id": "dGVVRBnfshPK"
      }
    },
    {
      "cell_type": "markdown",
      "source": [
        "Write a Python program to find the maximum value in a Linked List and replace it with a given value.\n",
        "\n",
        "**Example 1**:\n",
        "\n",
        "- **Input**: Input Linked List = 1 $\\longrightarrow$ 2 $\\longrightarrow$ 3 $\\longrightarrow$ 4 $\\longrightarrow$ 5, value = 10\n",
        "- **Output**: Output Linked List = 1 $\\longrightarrow$ 2 $\\longrightarrow$ 3 $\\longrightarrow$ 4 $\\longrightarrow$ 10\n",
        "\n",
        "**Example 2**:\n",
        "\n",
        "- **Input**: Input Linked List = 4 $\\longrightarrow$ 2 $\\longrightarrow$ 3 $\\longrightarrow$ 6 $\\longrightarrow$ 5, value = 10\n",
        "- **Output**: Output Linked List = 4 $\\longrightarrow$ 2 $\\longrightarrow$ 3 $\\longrightarrow$ 10 $\\longrightarrow$ 5\n",
        "\n",
        "**Example 3**:\n",
        "\n",
        "- **Input**: Input Linked List = 7 $\\longrightarrow$ 2 $\\longrightarrow$ 3 $\\longrightarrow$ 6 $\\longrightarrow$ 5, value = 10\n",
        "- **Output**: Output Linked List = 10 $\\longrightarrow$ 2 $\\longrightarrow$ 3 $\\longrightarrow$ 6 $\\longrightarrow$ 5\n",
        "\n",
        "\n",
        "**Constraints**:\n",
        "\n",
        "- Assume that the Linked List is populated with whole numbers and there is only a single maximum value."
      ],
      "metadata": {
        "id": "BtR59y_Fswwu"
      }
    },
    {
      "cell_type": "markdown",
      "source": [
        "`LinkedList` class is given below (Refer [Linked Lists Notebook](https://github.com/ancilcleetus/My-Learning-Journey/blob/main/Data-Structures-and-Algorithms/01-DSA-Foundations/DSA_05_Linked_Lists.ipynb)):"
      ],
      "metadata": {
        "id": "XLr1TZSJ0cfs"
      }
    },
    {
      "cell_type": "code",
      "source": [
        "class Node:\n",
        "\n",
        "    def __init__(self, data):\n",
        "        self.data = data\n",
        "        self.next = None"
      ],
      "metadata": {
        "id": "I1m0PouxpXjg"
      },
      "execution_count": null,
      "outputs": []
    },
    {
      "cell_type": "code",
      "source": [
        "class LinkedList:\n",
        "\n",
        "    def __init__(self):\n",
        "        # Create Empty Linked List\n",
        "        self.head = None\n",
        "        # No of nodes in the LL\n",
        "        self.n = 0\n",
        "\n",
        "    def __len__(self):\n",
        "        return self.n\n",
        "\n",
        "    def insert_head(self, value):\n",
        "        # Create a new node\n",
        "        new_node = Node(value)\n",
        "        # Insert new node at the head of LL\n",
        "        new_node.next = self.head\n",
        "        # Reassign head\n",
        "        self.head = new_node\n",
        "        # Increment n\n",
        "        self.n += 1\n",
        "\n",
        "    def __str__(self):\n",
        "        current = self.head\n",
        "        result = \"\"\n",
        "        while current is not None:\n",
        "            result = result + str(current.data) + \" -> \"\n",
        "            current = current.next\n",
        "\n",
        "        return result[:-4]\n",
        "\n",
        "    def append(self, value):\n",
        "        # Create a new node\n",
        "        new_node = Node(value)\n",
        "\n",
        "        if self.head is None:  # Empty LL\n",
        "            self.head = new_node\n",
        "            # Increment n\n",
        "            self.n += 1\n",
        "            return\n",
        "\n",
        "        # Non-empty LL => Traverse to the last node\n",
        "        current = self.head\n",
        "        while current.next is not None:\n",
        "            current = current.next\n",
        "        # Insert new node at the tail\n",
        "        current.next = new_node\n",
        "        # Increment n\n",
        "        self.n += 1\n",
        "\n",
        "    def insert_after(self, after, value):\n",
        "        if self.head is None:  # Empty LL\n",
        "            print(\"Linked List is Empty\")\n",
        "            return -1\n",
        "\n",
        "        # Create a new node\n",
        "        new_node = Node(value)\n",
        "\n",
        "        # Traverse to the node with data \"after\"\n",
        "        current = self.head\n",
        "        while current is not None:\n",
        "            if current.data == after:\n",
        "                break\n",
        "            current = current.next\n",
        "\n",
        "        if current is None:  # Loop completed without breaking\n",
        "            print(f\"Item {after} not found in the Linked List\")\n",
        "            return -2\n",
        "        else:\n",
        "            # Insert new node after the node with data \"after\"\n",
        "            new_node.next = current.next\n",
        "            current.next = new_node\n",
        "            # Increment n\n",
        "            self.n += 1\n",
        "\n",
        "    def clear(self):\n",
        "        self.head = None\n",
        "        self.n = 0\n",
        "\n",
        "    def delete_head(self):\n",
        "        if self.head is None:  # Empty LL\n",
        "            print(\"Linked List is Empty\")\n",
        "            return -1\n",
        "        # Delete head\n",
        "        self.head = self.head.next\n",
        "        # Decrement n\n",
        "        self.n -= 1\n",
        "\n",
        "    def pop(self):\n",
        "        if self.head is None:  # Empty LL\n",
        "            print(\"Linked List is Empty\")\n",
        "            return -1\n",
        "\n",
        "        # Traverse LL\n",
        "        current = self.head\n",
        "        if current.next is None:  # LL with single node\n",
        "            self.head = None\n",
        "            self.n = 0\n",
        "            return\n",
        "\n",
        "        # LL with multiple nodes\n",
        "        while current.next.next is not None:\n",
        "            current = current.next\n",
        "        current.next = None\n",
        "        # Decrement n\n",
        "        self.n -= 1\n",
        "\n",
        "    def remove(self, value):\n",
        "        if self.head is None:  # Empty LL\n",
        "            print(\"Linked List is Empty\")\n",
        "            return -1\n",
        "\n",
        "        if self.head.data == value:  # Delete head\n",
        "            self.delete_head()\n",
        "            return\n",
        "\n",
        "        # Traverse LL\n",
        "        current = self.head\n",
        "        if current.next is None:  # LL with single node\n",
        "            if current.data == value:\n",
        "                self.head = None\n",
        "                self.n = 0\n",
        "                return\n",
        "            else:\n",
        "                print(f\"Item {value} not found in the Linked List\")\n",
        "                return -2\n",
        "\n",
        "        # LL with multiple nodes\n",
        "        while current.next is not None:\n",
        "            if current.next.data == value:\n",
        "                break\n",
        "            current = current.next\n",
        "\n",
        "        if current.next is None:  # Item not found in LL\n",
        "            print(f\"Item {value} not found in the Linked List\")\n",
        "            return -2\n",
        "        else:\n",
        "            # Delete item (Skip node with data == value)\n",
        "            current.next = current.next.next\n",
        "            # Decrement n\n",
        "            self.n -= 1\n",
        "\n",
        "    def search(self, value):\n",
        "        if self.head is None:  # Empty LL\n",
        "            print(\"Linked List is Empty\")\n",
        "            return -1\n",
        "\n",
        "        # Traverse LL\n",
        "        current = self.head\n",
        "        index = 0\n",
        "        while current is not None:\n",
        "            if current.data == value:\n",
        "                return index\n",
        "            current = current.next\n",
        "            index += 1\n",
        "\n",
        "        print(f\"Item {value} not found in the Linked List\")\n",
        "        return -2\n",
        "\n",
        "    def __getitem__(self, index):\n",
        "        if self.head is None:  # Empty LL\n",
        "            print(\"Linked List is Empty\")\n",
        "            return -1\n",
        "\n",
        "        # Traverse LL\n",
        "        current = self.head\n",
        "        position = 0\n",
        "        while current is not None:\n",
        "            if position == index:\n",
        "                return current.data\n",
        "            current = current.next\n",
        "            position += 1\n",
        "\n",
        "        print(f\"Index {index} out of range\")\n",
        "        return -2\n",
        "\n",
        "    def __delitem__(self, index):\n",
        "        if self.head is None:  # Empty LL\n",
        "            print(\"Linked List is Empty\")\n",
        "            return -1\n",
        "\n",
        "        if index == 0:  # Delete head\n",
        "            self.delete_head()\n",
        "            return\n",
        "\n",
        "        # Traverse LL\n",
        "        current = self.head\n",
        "        position = 0\n",
        "        while current.next is not None:\n",
        "            if position == index - 1:\n",
        "                break\n",
        "            current = current.next\n",
        "            position += 1\n",
        "\n",
        "        if current.next is None:  # Item not found in LL\n",
        "            print(f\"Index {index} out of range\")\n",
        "            return -2\n",
        "        else:\n",
        "            # Delete item (Skip node with data == value)\n",
        "            current.next = current.next.next\n",
        "            # Decrement n\n",
        "            self.n -= 1"
      ],
      "metadata": {
        "id": "HfEhypKJpXji"
      },
      "execution_count": null,
      "outputs": []
    },
    {
      "cell_type": "markdown",
      "source": [
        "## Solution"
      ],
      "metadata": {
        "id": "UKi_QW_yshPP"
      }
    },
    {
      "cell_type": "markdown",
      "source": [
        "We need to add a method `replace_max(value)` in above `LinkedList` class."
      ],
      "metadata": {
        "id": "tQGnvIc31QPv"
      }
    },
    {
      "cell_type": "code",
      "source": [
        "class Node:\n",
        "\n",
        "    def __init__(self, data):\n",
        "        self.data = data\n",
        "        self.next = None"
      ],
      "metadata": {
        "id": "cgbYO23Y2OK3"
      },
      "execution_count": null,
      "outputs": []
    },
    {
      "cell_type": "code",
      "source": [
        "class LinkedList:\n",
        "\n",
        "    def __init__(self):\n",
        "        # Create Empty Linked List\n",
        "        self.head = None\n",
        "        # No of nodes in the LL\n",
        "        self.n = 0\n",
        "\n",
        "    def __len__(self):\n",
        "        return self.n\n",
        "\n",
        "    def insert_head(self, value):\n",
        "        # Create a new node\n",
        "        new_node = Node(value)\n",
        "        # Insert new node at the head of LL\n",
        "        new_node.next = self.head\n",
        "        # Reassign head\n",
        "        self.head = new_node\n",
        "        # Increment n\n",
        "        self.n += 1\n",
        "\n",
        "    def __str__(self):\n",
        "        current = self.head\n",
        "        result = \"\"\n",
        "        while current is not None:\n",
        "            result = result + str(current.data) + \" -> \"\n",
        "            current = current.next\n",
        "\n",
        "        return result[:-4]\n",
        "\n",
        "    def append(self, value):\n",
        "        # Create a new node\n",
        "        new_node = Node(value)\n",
        "\n",
        "        if self.head is None:  # Empty LL\n",
        "            self.head = new_node\n",
        "            # Increment n\n",
        "            self.n += 1\n",
        "            return\n",
        "\n",
        "        # Non-empty LL => Traverse to the last node\n",
        "        current = self.head\n",
        "        while current.next is not None:\n",
        "            current = current.next\n",
        "        # Insert new node at the tail\n",
        "        current.next = new_node\n",
        "        # Increment n\n",
        "        self.n += 1\n",
        "\n",
        "    def insert_after(self, after, value):\n",
        "        if self.head is None:  # Empty LL\n",
        "            print(\"Linked List is Empty\")\n",
        "            return -1\n",
        "\n",
        "        # Create a new node\n",
        "        new_node = Node(value)\n",
        "\n",
        "        # Traverse to the node with data \"after\"\n",
        "        current = self.head\n",
        "        while current is not None:\n",
        "            if current.data == after:\n",
        "                break\n",
        "            current = current.next\n",
        "\n",
        "        if current is None:  # Loop completed without breaking\n",
        "            print(f\"Item {after} not found in the Linked List\")\n",
        "            return -2\n",
        "        else:\n",
        "            # Insert new node after the node with data \"after\"\n",
        "            new_node.next = current.next\n",
        "            current.next = new_node\n",
        "            # Increment n\n",
        "            self.n += 1\n",
        "\n",
        "    def clear(self):\n",
        "        self.head = None\n",
        "        self.n = 0\n",
        "\n",
        "    def delete_head(self):\n",
        "        if self.head is None:  # Empty LL\n",
        "            print(\"Linked List is Empty\")\n",
        "            return -1\n",
        "        # Delete head\n",
        "        self.head = self.head.next\n",
        "        # Decrement n\n",
        "        self.n -= 1\n",
        "\n",
        "    def pop(self):\n",
        "        if self.head is None:  # Empty LL\n",
        "            print(\"Linked List is Empty\")\n",
        "            return -1\n",
        "\n",
        "        # Traverse LL\n",
        "        current = self.head\n",
        "        if current.next is None:  # LL with single node\n",
        "            self.head = None\n",
        "            self.n = 0\n",
        "            return\n",
        "\n",
        "        # LL with multiple nodes\n",
        "        while current.next.next is not None:\n",
        "            current = current.next\n",
        "        current.next = None\n",
        "        # Decrement n\n",
        "        self.n -= 1\n",
        "\n",
        "    def remove(self, value):\n",
        "        if self.head is None:  # Empty LL\n",
        "            print(\"Linked List is Empty\")\n",
        "            return -1\n",
        "\n",
        "        if self.head.data == value:  # Delete head\n",
        "            self.delete_head()\n",
        "            return\n",
        "\n",
        "        # Traverse LL\n",
        "        current = self.head\n",
        "        if current.next is None:  # LL with single node\n",
        "            if current.data == value:\n",
        "                self.head = None\n",
        "                self.n = 0\n",
        "                return\n",
        "            else:\n",
        "                print(f\"Item {value} not found in the Linked List\")\n",
        "                return -2\n",
        "\n",
        "        # LL with multiple nodes\n",
        "        while current.next is not None:\n",
        "            if current.next.data == value:\n",
        "                break\n",
        "            current = current.next\n",
        "\n",
        "        if current.next is None:  # Item not found in LL\n",
        "            print(f\"Item {value} not found in the Linked List\")\n",
        "            return -2\n",
        "        else:\n",
        "            # Delete item (Skip node with data == value)\n",
        "            current.next = current.next.next\n",
        "            # Decrement n\n",
        "            self.n -= 1\n",
        "\n",
        "    def search(self, value):\n",
        "        if self.head is None:  # Empty LL\n",
        "            print(\"Linked List is Empty\")\n",
        "            return -1\n",
        "\n",
        "        # Traverse LL\n",
        "        current = self.head\n",
        "        index = 0\n",
        "        while current is not None:\n",
        "            if current.data == value:\n",
        "                return index\n",
        "            current = current.next\n",
        "            index += 1\n",
        "\n",
        "        print(f\"Item {value} not found in the Linked List\")\n",
        "        return -2\n",
        "\n",
        "    def __getitem__(self, index):\n",
        "        if self.head is None:  # Empty LL\n",
        "            print(\"Linked List is Empty\")\n",
        "            return -1\n",
        "\n",
        "        # Traverse LL\n",
        "        current = self.head\n",
        "        position = 0\n",
        "        while current is not None:\n",
        "            if position == index:\n",
        "                return current.data\n",
        "            current = current.next\n",
        "            position += 1\n",
        "\n",
        "        print(f\"Index {index} out of range\")\n",
        "        return -2\n",
        "\n",
        "    def __delitem__(self, index):\n",
        "        if self.head is None:  # Empty LL\n",
        "            print(\"Linked List is Empty\")\n",
        "            return -1\n",
        "\n",
        "        if index == 0:  # Delete head\n",
        "            self.delete_head()\n",
        "            return\n",
        "\n",
        "        # Traverse LL\n",
        "        current = self.head\n",
        "        position = 0\n",
        "        while current.next is not None:\n",
        "            if position == index - 1:\n",
        "                break\n",
        "            current = current.next\n",
        "            position += 1\n",
        "\n",
        "        if current.next is None:  # Item not found in LL\n",
        "            print(f\"Index {index} out of range\")\n",
        "            return -2\n",
        "        else:\n",
        "            # Delete item (Skip node with data == value)\n",
        "            current.next = current.next.next\n",
        "            # Decrement n\n",
        "            self.n -= 1\n",
        "\n",
        "    def replace_max(self, value):\n",
        "        if self.head is None:  # Empty LL\n",
        "            print(\"Linked List is Empty\")\n",
        "            return -1\n",
        "\n",
        "        # Traverse LL to find max_position\n",
        "        current = self.head\n",
        "        position, max_position = 0, 0\n",
        "        max_value = current.data\n",
        "        while current is not None:\n",
        "            if current.data > max_value:\n",
        "                max_value = current.data\n",
        "                max_position = position\n",
        "            current = current.next\n",
        "            position += 1\n",
        "\n",
        "        # Replace max_value with value\n",
        "        new_node = Node(value)\n",
        "\n",
        "        if max_position == 0:  # Replace head with new_node\n",
        "            new_node.next = self.head.next\n",
        "            self.head = new_node\n",
        "            return\n",
        "\n",
        "        current = self.head\n",
        "        position = 0\n",
        "        while current is not None:\n",
        "            if position == max_position - 1:\n",
        "                # Replace max_value node\n",
        "                new_node.next = current.next.next\n",
        "                current.next = new_node\n",
        "                return\n",
        "            current = current.next\n",
        "            position += 1"
      ],
      "metadata": {
        "id": "9JmdrF_V2OK7"
      },
      "execution_count": null,
      "outputs": []
    },
    {
      "cell_type": "markdown",
      "source": [
        "![rainbow](https://github.com/ancilcleetus/My-Learning-Journey/assets/25684256/839c3524-2a1d-4779-85a0-83c562e1e5e5)"
      ],
      "metadata": {
        "id": "U897-NGnYhHk"
      }
    },
    {
      "cell_type": "code",
      "source": [
        "# Deep Learning as subset of ML\n",
        "\n",
        "from IPython import display\n",
        "display.Image(\"data/images/DL_01_Intro-01-DL-subset-of-ML.jpg\")"
      ],
      "metadata": {
        "id": "juNAxVBFg7sw"
      },
      "execution_count": null,
      "outputs": []
    },
    {
      "cell_type": "markdown",
      "source": [
        "![rainbow](https://github.com/ancilcleetus/My-Learning-Journey/assets/25684256/839c3524-2a1d-4779-85a0-83c562e1e5e5)"
      ],
      "metadata": {
        "id": "qqv0L0R9dyKJ"
      }
    }
  ]
}