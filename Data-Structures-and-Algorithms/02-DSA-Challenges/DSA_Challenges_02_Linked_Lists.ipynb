{
  "nbformat": 4,
  "nbformat_minor": 0,
  "metadata": {
    "colab": {
      "provenance": []
    },
    "kernelspec": {
      "name": "python3",
      "display_name": "Python 3"
    },
    "language_info": {
      "name": "python"
    }
  },
  "cells": [
    {
      "cell_type": "markdown",
      "source": [
        "![rainbow](https://github.com/ancilcleetus/My-Learning-Journey/assets/25684256/839c3524-2a1d-4779-85a0-83c562e1e5e5)"
      ],
      "metadata": {
        "id": "uLR90WhedwER"
      }
    },
    {
      "cell_type": "markdown",
      "source": [
        "# Q1. Find Output; Difficulty: ${\\color{green}{Easy}}$"
      ],
      "metadata": {
        "id": "bKim3KwyTp11"
      }
    },
    {
      "cell_type": "markdown",
      "source": [
        "## Description"
      ],
      "metadata": {
        "id": "3oz9rmpktIMI"
      }
    },
    {
      "cell_type": "markdown",
      "source": [
        "What is the output of following function when head node of the below Linked List\n",
        "\n",
        "1 $\\longrightarrow$ 2 $\\longrightarrow$ 3 $\\longrightarrow$ 4 $\\longrightarrow$ 5\n",
        "\n",
        "is passed as input?\n",
        "\n",
        "```\n",
        "def fun(head):\n",
        "    if head is None:\n",
        "        return\n",
        "\n",
        "    if head.next.next is not None:\n",
        "        print(head.data, end=\" \")\n",
        "        fun(head.next)\n",
        "    print(head.data, end=\" \")\n",
        "```"
      ],
      "metadata": {
        "id": "8R18bW1C42Cm"
      }
    },
    {
      "cell_type": "markdown",
      "source": [
        "## Solution"
      ],
      "metadata": {
        "id": "Qdea0Mu_faS6"
      }
    },
    {
      "cell_type": "markdown",
      "source": [
        "| Step | Executing Code | Check head is None | return | Check head.next.next is not None | print(head.data, end=\" \") | fun(head.next) | Remaining print(head.data, end=\" \") | Current Output |\n",
        "| :--- | :------------- | :----------------- | :----- | :---- | :---- | :---- | :---- | :---- |\n",
        "| 1 | fun(Node 1) | ⬜ | ⬜ | ✔️ | \"1 \" (Executed) | fun(Node 2) | \"1 \" (Pushed to Top of Stack) | \"1 \" |\n",
        "| 2 | fun(Node 2) | ⬜ | ⬜ | ✔️ | \"2 \" (Executed) | fun(Node 3) | \"2 \" (Pushed to Top of Stack) | \"1 2 \" |\n",
        "| 3 | fun(Node 3) | ⬜ | ⬜ | ✔️ | \"3 \" (Executed) | fun(Node 4) | \"3 \" (Pushed to Top of Stack) | \"1 2 3 \" |\n",
        "| 4 | fun(Node 4) | ⬜ | ⬜ | ⬜ | Not executed | Not executed | \"4 \" (Executed) | \"1 2 3 4 \" |\n",
        "| 5 | Remaining print(head.data, end=\" \") for Node 3 | NA | NA | NA | NA | NA | \"3 \" (Popped from Top of Stack) | \"1 2 3 4 3 \" |\n",
        "| 6 | Remaining print(head.data, end=\" \") for Node 2 | NA | NA | NA | NA | NA | \"2 \" (Popped from Top of Stack) | \"1 2 3 4 3 2 \" |\n",
        "| 7 | Remaining print(head.data, end=\" \") for Node 1 | NA | NA | NA | NA | NA | \"1 \" (Popped from Top of Stack) | \"1 2 3 4 3 2 1 \" |"
      ],
      "metadata": {
        "id": "S5Y8LSLK7Gpl"
      }
    },
    {
      "cell_type": "markdown",
      "source": [
        "As shown in the above table, the final output is `\"1 2 3 4 3 2 1 \"`."
      ],
      "metadata": {
        "id": "-jiQrkU0IM_R"
      }
    },
    {
      "cell_type": "markdown",
      "source": [
        "![rainbow](https://github.com/ancilcleetus/My-Learning-Journey/assets/25684256/839c3524-2a1d-4779-85a0-83c562e1e5e5)"
      ],
      "metadata": {
        "id": "U897-NGnYhHk"
      }
    },
    {
      "cell_type": "code",
      "source": [
        "# Deep Learning as subset of ML\n",
        "\n",
        "from IPython import display\n",
        "display.Image(\"data/images/DL_01_Intro-01-DL-subset-of-ML.jpg\")"
      ],
      "metadata": {
        "id": "juNAxVBFg7sw"
      },
      "execution_count": null,
      "outputs": []
    },
    {
      "cell_type": "code",
      "source": [
        "x = 1\n",
        "y = 2\n",
        "z = 3\n",
        "print(x, end=\" \")\n",
        "print(y, end=\" \")\n",
        "print(z, end=\" \")"
      ],
      "metadata": {
        "colab": {
          "base_uri": "https://localhost:8080/"
        },
        "id": "XT7pDKAol5-d",
        "outputId": "f1f03008-c630-4a4b-fea6-332a9c55fc60"
      },
      "execution_count": 3,
      "outputs": [
        {
          "output_type": "stream",
          "name": "stdout",
          "text": [
            "1 2 3 "
          ]
        }
      ]
    },
    {
      "cell_type": "markdown",
      "source": [
        "![rainbow](https://github.com/ancilcleetus/My-Learning-Journey/assets/25684256/839c3524-2a1d-4779-85a0-83c562e1e5e5)"
      ],
      "metadata": {
        "id": "qqv0L0R9dyKJ"
      }
    }
  ]
}