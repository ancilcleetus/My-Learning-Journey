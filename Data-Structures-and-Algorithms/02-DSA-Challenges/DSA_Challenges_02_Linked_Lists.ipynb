{
  "nbformat": 4,
  "nbformat_minor": 0,
  "metadata": {
    "colab": {
      "provenance": []
    },
    "kernelspec": {
      "name": "python3",
      "display_name": "Python 3"
    },
    "language_info": {
      "name": "python"
    }
  },
  "cells": [
    {
      "cell_type": "markdown",
      "source": [
        "![rainbow](https://github.com/ancilcleetus/My-Learning-Journey/assets/25684256/839c3524-2a1d-4779-85a0-83c562e1e5e5)"
      ],
      "metadata": {
        "id": "uLR90WhedwER"
      }
    },
    {
      "cell_type": "markdown",
      "source": [
        "# `LinkedList` class"
      ],
      "metadata": {
        "id": "JYIxw1V-Gaj4"
      }
    },
    {
      "cell_type": "markdown",
      "source": [
        "A `LinkedList` class was created from scratch (Refer my [Linked Lists Notebook](https://github.com/ancilcleetus/My-Learning-Journey/blob/main/Data-Structures-and-Algorithms/01-DSA-Foundations/DSA_05_Linked_Lists.ipynb)). We will use this `LinkedList` class for the coding challenges in this Notebook. This class supports below methods:\n",
        "\n",
        "1. Insert\n",
        "    - Insert from Head $\\implies$ `insert_head(value)`\n",
        "    - Insert from Tail $\\implies$ `append(value)` (similar to `append` in List)\n",
        "    - Insert in the middle $\\implies$ `insert_after(after, value)` (similar to `insert` in List)\n",
        "2. Traverse $\\implies$ Print all nodes using magic method `__str__()` (Usage: `print()`)\n",
        "3. Delete\n",
        "    - Clear (Empty Linked List) $\\implies$ `clear()`\n",
        "    - Delete from Head $\\implies$ `delete_head()`\n",
        "    - Delete from Tail $\\implies$ `pop()` (similar to `pop` in List)\n",
        "    - Delete by checking value $\\implies$ `remove(value)` (similar to `remove` in List)\n",
        "    - Delete value, given index $\\implies$ Using magic method `__delitem__()` (Usage: `del lst[index]`)\n",
        "4. Search\n",
        "    - Search for index, given value $\\implies$ `search(value)`\n",
        "    - Search for value, given index $\\implies$ Using magic method `__getitem__()` (Usage: `lst[index]`)"
      ],
      "metadata": {
        "id": "Yw2KvijLIZ7x"
      }
    },
    {
      "cell_type": "code",
      "source": [
        "class Node:\n",
        "\n",
        "    def __init__(self, data):\n",
        "        self.data = data\n",
        "        self.next = None"
      ],
      "metadata": {
        "id": "u1auTApfGmw-"
      },
      "execution_count": 1,
      "outputs": []
    },
    {
      "cell_type": "code",
      "source": [
        "class LinkedList:\n",
        "\n",
        "    def __init__(self):\n",
        "        # Create Empty Linked List\n",
        "        self.head = None\n",
        "        # No of nodes in the LL\n",
        "        self.n = 0\n",
        "\n",
        "    def __len__(self):\n",
        "        return self.n\n",
        "\n",
        "    def insert_head(self, value):\n",
        "        # Create a new node\n",
        "        new_node = Node(value)\n",
        "        # Insert new node at the head of LL\n",
        "        new_node.next = self.head\n",
        "        # Reassign head\n",
        "        self.head = new_node\n",
        "        # Increment n\n",
        "        self.n += 1\n",
        "\n",
        "    def __str__(self):\n",
        "        current = self.head\n",
        "        result = \"\"\n",
        "        while current is not None:\n",
        "            result = result + str(current.data) + \" -> \"\n",
        "            current = current.next\n",
        "\n",
        "        return result[:-4]\n",
        "\n",
        "    def append(self, value):\n",
        "        # Create a new node\n",
        "        new_node = Node(value)\n",
        "\n",
        "        if self.head is None:  # Empty LL\n",
        "            self.head = new_node\n",
        "            # Increment n\n",
        "            self.n += 1\n",
        "            return\n",
        "\n",
        "        # Non-empty LL => Traverse to the last node\n",
        "        current = self.head\n",
        "        while current.next is not None:\n",
        "            current = current.next\n",
        "        # Insert new node at the tail\n",
        "        current.next = new_node\n",
        "        # Increment n\n",
        "        self.n += 1\n",
        "\n",
        "    def insert_after(self, after, value):\n",
        "        if self.head is None:  # Empty LL\n",
        "            print(\"Linked List is Empty\")\n",
        "            return -1\n",
        "\n",
        "        # Create a new node\n",
        "        new_node = Node(value)\n",
        "\n",
        "        # Traverse to the node with data \"after\"\n",
        "        current = self.head\n",
        "        while current is not None:\n",
        "            if current.data == after:\n",
        "                break\n",
        "            current = current.next\n",
        "\n",
        "        if current is None:  # Loop completed without breaking\n",
        "            print(f\"Item {after} not found in the Linked List\")\n",
        "            return -2\n",
        "        else:\n",
        "            # Insert new node after the node with data \"after\"\n",
        "            new_node.next = current.next\n",
        "            current.next = new_node\n",
        "            # Increment n\n",
        "            self.n += 1\n",
        "\n",
        "    def clear(self):\n",
        "        self.head = None\n",
        "        self.n = 0\n",
        "\n",
        "    def delete_head(self):\n",
        "        if self.head is None:  # Empty LL\n",
        "            print(\"Linked List is Empty\")\n",
        "            return -1\n",
        "        # Delete head\n",
        "        self.head = self.head.next\n",
        "        # Decrement n\n",
        "        self.n -= 1\n",
        "\n",
        "    def pop(self):\n",
        "        if self.head is None:  # Empty LL\n",
        "            print(\"Linked List is Empty\")\n",
        "            return -1\n",
        "\n",
        "        # Traverse LL\n",
        "        current = self.head\n",
        "        if current.next is None:  # LL with single node\n",
        "            self.head = None\n",
        "            self.n = 0\n",
        "            return\n",
        "\n",
        "        # LL with multiple nodes\n",
        "        while current.next.next is not None:\n",
        "            current = current.next\n",
        "        current.next = None\n",
        "        # Decrement n\n",
        "        self.n -= 1\n",
        "\n",
        "    def remove(self, value):\n",
        "        if self.head is None:  # Empty LL\n",
        "            print(\"Linked List is Empty\")\n",
        "            return -1\n",
        "\n",
        "        if self.head.data == value:  # Delete head\n",
        "            self.delete_head()\n",
        "            return\n",
        "\n",
        "        # Traverse LL\n",
        "        current = self.head\n",
        "        if current.next is None:  # LL with single node\n",
        "            if current.data == value:\n",
        "                self.head = None\n",
        "                self.n = 0\n",
        "                return\n",
        "            else:\n",
        "                print(f\"Item {value} not found in the Linked List\")\n",
        "                return -2\n",
        "\n",
        "        # LL with multiple nodes\n",
        "        while current.next is not None:\n",
        "            if current.next.data == value:\n",
        "                break\n",
        "            current = current.next\n",
        "\n",
        "        if current.next is None:  # Item not found in LL\n",
        "            print(f\"Item {value} not found in the Linked List\")\n",
        "            return -2\n",
        "        else:\n",
        "            # Delete item (Skip node with data == value)\n",
        "            current.next = current.next.next\n",
        "            # Decrement n\n",
        "            self.n -= 1\n",
        "\n",
        "    def search(self, value):\n",
        "        if self.head is None:  # Empty LL\n",
        "            print(\"Linked List is Empty\")\n",
        "            return -1\n",
        "\n",
        "        # Traverse LL\n",
        "        current = self.head\n",
        "        index = 0\n",
        "        while current is not None:\n",
        "            if current.data == value:\n",
        "                return index\n",
        "            current = current.next\n",
        "            index += 1\n",
        "\n",
        "        print(f\"Item {value} not found in the Linked List\")\n",
        "        return -2\n",
        "\n",
        "    def __getitem__(self, index):\n",
        "        if self.head is None:  # Empty LL\n",
        "            print(\"Linked List is Empty\")\n",
        "            return -1\n",
        "\n",
        "        # Traverse LL\n",
        "        current = self.head\n",
        "        position = 0\n",
        "        while current is not None:\n",
        "            if position == index:\n",
        "                return current.data\n",
        "            current = current.next\n",
        "            position += 1\n",
        "\n",
        "        print(f\"Index {index} out of range\")\n",
        "        return -2\n",
        "\n",
        "    def __delitem__(self, index):\n",
        "        if self.head is None:  # Empty LL\n",
        "            print(\"Linked List is Empty\")\n",
        "            return -1\n",
        "\n",
        "        if index == 0:  # Delete head\n",
        "            self.delete_head()\n",
        "            return\n",
        "\n",
        "        # Traverse LL\n",
        "        current = self.head\n",
        "        position = 0\n",
        "        while current.next is not None:\n",
        "            if position == index - 1:\n",
        "                break\n",
        "            current = current.next\n",
        "            position += 1\n",
        "\n",
        "        if current.next is None:  # Item not found in LL\n",
        "            print(f\"Index {index} out of range\")\n",
        "            return -2\n",
        "        else:\n",
        "            # Delete item (Skip node with data == value)\n",
        "            current.next = current.next.next\n",
        "            # Decrement n\n",
        "            self.n -= 1"
      ],
      "metadata": {
        "id": "3dJWa9L5Gmw_"
      },
      "execution_count": 2,
      "outputs": []
    },
    {
      "cell_type": "markdown",
      "source": [
        "![rainbow](https://github.com/ancilcleetus/My-Learning-Journey/assets/25684256/839c3524-2a1d-4779-85a0-83c562e1e5e5)"
      ],
      "metadata": {
        "id": "YBmYBnc1GcCM"
      }
    },
    {
      "cell_type": "markdown",
      "source": [
        "# Q1. Find Output; Difficulty: ${\\color{green}{Easy}}$"
      ],
      "metadata": {
        "id": "bKim3KwyTp11"
      }
    },
    {
      "cell_type": "markdown",
      "source": [
        "## Description"
      ],
      "metadata": {
        "id": "3oz9rmpktIMI"
      }
    },
    {
      "cell_type": "markdown",
      "source": [
        "What is the output of following function when head node of the below Linked List\n",
        "\n",
        "1 $\\longrightarrow$ 2 $\\longrightarrow$ 3 $\\longrightarrow$ 4 $\\longrightarrow$ 5\n",
        "\n",
        "is passed as input?\n",
        "\n",
        "```\n",
        "def fun(head):\n",
        "    if head is None:\n",
        "        return\n",
        "\n",
        "    if head.next.next is not None:\n",
        "        print(head.data, end=\" \")\n",
        "        fun(head.next)\n",
        "    print(head.data, end=\" \")\n",
        "```"
      ],
      "metadata": {
        "id": "8R18bW1C42Cm"
      }
    },
    {
      "cell_type": "markdown",
      "source": [
        "## Solution"
      ],
      "metadata": {
        "id": "Qdea0Mu_faS6"
      }
    },
    {
      "cell_type": "markdown",
      "source": [
        "| Step | Executing Code | Check head is None | return | Check head.next.next is not None | print(head.data, end=\" \") | fun(head.next) | Remaining print(head.data, end=\" \") | Current Output |\n",
        "| :--- | :------------- | :----------------- | :----- | :---- | :---- | :---- | :---- | :---- |\n",
        "| 1 | fun(Node 1) | ⬜ | ⬜ | ✔️ | \"1 \" (Executed) | fun(Node 2) | \"1 \" (Return address of fun(Node 1) pushed to Top of Stack) | \"1 \" |\n",
        "| 2 | fun(Node 2) | ⬜ | ⬜ | ✔️ | \"2 \" (Executed) | fun(Node 3) | \"2 \" (Return address of fun(Node 2) pushed to Top of Stack) | \"1 2 \" |\n",
        "| 3 | fun(Node 3) | ⬜ | ⬜ | ✔️ | \"3 \" (Executed) | fun(Node 4) | \"3 \" (Return address of fun(Node 3) pushed to Top of Stack) | \"1 2 3 \" |\n",
        "| 4 | fun(Node 4) | ⬜ | ⬜ | ⬜ | Not executed | Not executed | \"4 \" (Executed) | \"1 2 3 4 \" |\n",
        "| 5 | Remaining print(head.data, end=\" \") for Node 3 | NA | NA | NA | NA | NA | \"3 \" (Return address of fun(Node 3) popped from Top of Stack) | \"1 2 3 4 3 \" |\n",
        "| 6 | Remaining print(head.data, end=\" \") for Node 2 | NA | NA | NA | NA | NA | \"2 \" (Return address of fun(Node 2) popped from Top of Stack) | \"1 2 3 4 3 2 \" |\n",
        "| 7 | Remaining print(head.data, end=\" \") for Node 1 | NA | NA | NA | NA | NA | \"1 \" (Return address of fun(Node 1) popped from Top of Stack) | \"1 2 3 4 3 2 1 \" |"
      ],
      "metadata": {
        "id": "S5Y8LSLK7Gpl"
      }
    },
    {
      "cell_type": "markdown",
      "source": [
        "As shown in the above table, the final output is `\"1 2 3 4 3 2 1 \"`."
      ],
      "metadata": {
        "id": "-jiQrkU0IM_R"
      }
    },
    {
      "cell_type": "markdown",
      "source": [
        "## Verification of Solution"
      ],
      "metadata": {
        "id": "W0owrtSCOJ2T"
      }
    },
    {
      "cell_type": "code",
      "source": [
        "def fun(head):\n",
        "    if head is None:\n",
        "        return\n",
        "\n",
        "    if head.next.next is not None:\n",
        "        print(head.data, end=\" \")\n",
        "        fun(head.next)\n",
        "    print(head.data, end=\" \")"
      ],
      "metadata": {
        "id": "SYg50DFdOPpf"
      },
      "execution_count": 3,
      "outputs": []
    },
    {
      "cell_type": "code",
      "source": [
        "L = LinkedList()\n",
        "L.append(1)\n",
        "L.append(2)\n",
        "L.append(3)\n",
        "L.append(4)\n",
        "L.append(5)\n",
        "print(L)\n",
        "L = fun(L.head)"
      ],
      "metadata": {
        "colab": {
          "base_uri": "https://localhost:8080/"
        },
        "id": "thnmDOwiOdsq",
        "outputId": "20ea90bc-a0c3-4157-d663-556e459ffbfa"
      },
      "execution_count": 4,
      "outputs": [
        {
          "output_type": "stream",
          "name": "stdout",
          "text": [
            "1 -> 2 -> 3 -> 4 -> 5\n",
            "1 2 3 4 3 2 1 "
          ]
        }
      ]
    },
    {
      "cell_type": "markdown",
      "source": [
        "**Note**\n",
        "\n",
        "The Stack is used to store the return addresses, allowing the program to correctly navigate back through the recursive calls and execute the second print statement for each node after the recursive processing is complete."
      ],
      "metadata": {
        "id": "SbjIxZ03rfGO"
      }
    },
    {
      "cell_type": "markdown",
      "source": [
        "![rainbow](https://github.com/ancilcleetus/My-Learning-Journey/assets/25684256/839c3524-2a1d-4779-85a0-83c562e1e5e5)"
      ],
      "metadata": {
        "id": "aLv22W0ushO5"
      }
    },
    {
      "cell_type": "markdown",
      "source": [
        "# Q2. Replace the maximum value in a Linked List; Difficulty: ${\\color{green}{Easy}}$"
      ],
      "metadata": {
        "id": "rifAD-EeshPG"
      }
    },
    {
      "cell_type": "markdown",
      "source": [
        "## Description"
      ],
      "metadata": {
        "id": "dGVVRBnfshPK"
      }
    },
    {
      "cell_type": "markdown",
      "source": [
        "Write a Python program to find the maximum value in a Linked List and replace it with a given value.\n",
        "\n",
        "**Example 1**:\n",
        "\n",
        "- **Input**: Input Linked List = 1 $\\longrightarrow$ 2 $\\longrightarrow$ 3 $\\longrightarrow$ 4 $\\longrightarrow$ 5, value = 10\n",
        "- **Output**: Output Linked List = 1 $\\longrightarrow$ 2 $\\longrightarrow$ 3 $\\longrightarrow$ 4 $\\longrightarrow$ 10\n",
        "\n",
        "**Example 2**:\n",
        "\n",
        "- **Input**: Input Linked List = 4 $\\longrightarrow$ 2 $\\longrightarrow$ 3 $\\longrightarrow$ 6 $\\longrightarrow$ 5, value = 10\n",
        "- **Output**: Output Linked List = 4 $\\longrightarrow$ 2 $\\longrightarrow$ 3 $\\longrightarrow$ 10 $\\longrightarrow$ 5\n",
        "\n",
        "**Example 3**:\n",
        "\n",
        "- **Input**: Input Linked List = 7 $\\longrightarrow$ 2 $\\longrightarrow$ 3 $\\longrightarrow$ 6 $\\longrightarrow$ 5, value = 10\n",
        "- **Output**: Output Linked List = 10 $\\longrightarrow$ 2 $\\longrightarrow$ 3 $\\longrightarrow$ 6 $\\longrightarrow$ 5\n",
        "\n",
        "\n",
        "**Constraints**:\n",
        "\n",
        "- Assume that the Linked List is populated with whole numbers and there is only a single maximum value."
      ],
      "metadata": {
        "id": "BtR59y_Fswwu"
      }
    },
    {
      "cell_type": "markdown",
      "source": [
        "## Solution 1"
      ],
      "metadata": {
        "id": "UKi_QW_yshPP"
      }
    },
    {
      "cell_type": "markdown",
      "source": [
        "- 1st while loop\n",
        "    - get index of max_value node\n",
        "- 2nd while loop\n",
        "    - Traverse to node before max_value\n",
        "    - Replace max_value node with new_node of given value"
      ],
      "metadata": {
        "id": "Hs-dObYLpt7J"
      }
    },
    {
      "cell_type": "code",
      "source": [
        "def replace_max(linked_list, value):\n",
        "    if linked_list.head is None:  # Empty LL\n",
        "        print(\"Linked List is Empty\")\n",
        "        return -1\n",
        "\n",
        "    # Traverse LL to find max_position\n",
        "    current = linked_list.head\n",
        "    position, max_position = 0, 0\n",
        "    max_value = current.data\n",
        "    while current is not None:\n",
        "        if current.data > max_value:\n",
        "            max_value = current.data\n",
        "            max_position = position\n",
        "        current = current.next\n",
        "        position += 1\n",
        "\n",
        "    # Create new_node with value\n",
        "    new_node = Node(value)\n",
        "\n",
        "    if max_position == 0:  # Replace head with new_node\n",
        "        new_node.next = linked_list.head.next\n",
        "        linked_list.head = new_node\n",
        "        return linked_list\n",
        "\n",
        "    current = linked_list.head\n",
        "    position = 0\n",
        "    while current is not None:\n",
        "        if position == max_position - 1:\n",
        "            # Replace max_value node with new_node\n",
        "            new_node.next = current.next.next\n",
        "            current.next = new_node\n",
        "            return linked_list\n",
        "        current = current.next\n",
        "        position += 1"
      ],
      "metadata": {
        "id": "lz-opS5KNCQw"
      },
      "execution_count": 7,
      "outputs": []
    },
    {
      "cell_type": "markdown",
      "source": [
        "## Verification of Solution 1"
      ],
      "metadata": {
        "id": "2Nem_kJFPuRo"
      }
    },
    {
      "cell_type": "code",
      "source": [
        "L = LinkedList()\n",
        "L.append(1)\n",
        "L.append(2)\n",
        "L.append(3)\n",
        "L.append(4)\n",
        "L.append(5)\n",
        "print(L)\n",
        "L = replace_max(L, 10)\n",
        "print(L)"
      ],
      "metadata": {
        "colab": {
          "base_uri": "https://localhost:8080/"
        },
        "id": "XZpg1z6zFOLU",
        "outputId": "8cccc701-1912-4d28-9eac-0135c7943c30"
      },
      "execution_count": 8,
      "outputs": [
        {
          "output_type": "stream",
          "name": "stdout",
          "text": [
            "1 -> 2 -> 3 -> 4 -> 5\n",
            "1 -> 2 -> 3 -> 4 -> 10\n"
          ]
        }
      ]
    },
    {
      "cell_type": "code",
      "source": [
        "L = LinkedList()\n",
        "L.append(4)\n",
        "L.append(2)\n",
        "L.append(3)\n",
        "L.append(6)\n",
        "L.append(5)\n",
        "print(L)\n",
        "L = replace_max(L, 10)\n",
        "print(L)"
      ],
      "metadata": {
        "colab": {
          "base_uri": "https://localhost:8080/"
        },
        "id": "658marmoGBGD",
        "outputId": "acf7caa1-5fa1-4109-e5d4-1c0044830824"
      },
      "execution_count": 9,
      "outputs": [
        {
          "output_type": "stream",
          "name": "stdout",
          "text": [
            "4 -> 2 -> 3 -> 6 -> 5\n",
            "4 -> 2 -> 3 -> 10 -> 5\n"
          ]
        }
      ]
    },
    {
      "cell_type": "code",
      "source": [
        "L = LinkedList()\n",
        "L.append(7)\n",
        "L.append(2)\n",
        "L.append(3)\n",
        "L.append(6)\n",
        "L.append(5)\n",
        "print(L)\n",
        "L = replace_max(L, 10)\n",
        "print(L)"
      ],
      "metadata": {
        "colab": {
          "base_uri": "https://localhost:8080/"
        },
        "id": "orYzCjpRGHGJ",
        "outputId": "ff2f1541-0203-4fca-8f90-cd9b965c7fe1"
      },
      "execution_count": 10,
      "outputs": [
        {
          "output_type": "stream",
          "name": "stdout",
          "text": [
            "7 -> 2 -> 3 -> 6 -> 5\n",
            "10 -> 2 -> 3 -> 6 -> 5\n"
          ]
        }
      ]
    },
    {
      "cell_type": "code",
      "source": [
        "L = LinkedList()\n",
        "L.append(7)\n",
        "print(L)\n",
        "L = replace_max(L, 10)\n",
        "print(L)"
      ],
      "metadata": {
        "colab": {
          "base_uri": "https://localhost:8080/"
        },
        "id": "Ecz1a6KbTUt8",
        "outputId": "3f8a1ca2-c64e-4375-febd-164436c474c0"
      },
      "execution_count": 11,
      "outputs": [
        {
          "output_type": "stream",
          "name": "stdout",
          "text": [
            "7\n",
            "10\n"
          ]
        }
      ]
    },
    {
      "cell_type": "code",
      "source": [
        "L = LinkedList()\n",
        "L.append(2)\n",
        "L.append(4)\n",
        "print(L)\n",
        "L = replace_max(L, 10)\n",
        "print(L)"
      ],
      "metadata": {
        "colab": {
          "base_uri": "https://localhost:8080/"
        },
        "id": "D3Z6SEgtTe0g",
        "outputId": "0b7452db-6bc5-4bc6-9e92-278ca02374f4"
      },
      "execution_count": 12,
      "outputs": [
        {
          "output_type": "stream",
          "name": "stdout",
          "text": [
            "2 -> 4\n",
            "2 -> 10\n"
          ]
        }
      ]
    },
    {
      "cell_type": "code",
      "source": [
        "L = LinkedList()\n",
        "L.append(2)\n",
        "L.append(6)\n",
        "L.append(4)\n",
        "print(L)\n",
        "L = replace_max(L, 10)\n",
        "print(L)"
      ],
      "metadata": {
        "colab": {
          "base_uri": "https://localhost:8080/"
        },
        "id": "1uLmUyq0TnOc",
        "outputId": "e6057dff-421e-4ed8-e31f-4356a8d0174b"
      },
      "execution_count": 13,
      "outputs": [
        {
          "output_type": "stream",
          "name": "stdout",
          "text": [
            "2 -> 6 -> 4\n",
            "2 -> 10 -> 4\n"
          ]
        }
      ]
    },
    {
      "cell_type": "code",
      "source": [
        "L = LinkedList()\n",
        "print(L)\n",
        "L = replace_max(L, 10)\n",
        "print(L)"
      ],
      "metadata": {
        "colab": {
          "base_uri": "https://localhost:8080/"
        },
        "id": "DXIlPWaOTqyG",
        "outputId": "e76dd779-4f42-4a81-f25c-12952e813061"
      },
      "execution_count": 14,
      "outputs": [
        {
          "output_type": "stream",
          "name": "stdout",
          "text": [
            "\n",
            "Linked List is Empty\n",
            "-1\n"
          ]
        }
      ]
    },
    {
      "cell_type": "markdown",
      "source": [
        "## Time & Space Complexity of Solution 1"
      ],
      "metadata": {
        "id": "KtuGf4GwVTcw"
      }
    },
    {
      "cell_type": "markdown",
      "source": [
        "Let $n$ be the number of nodes in the Linked List.\n",
        "\n",
        "- Time Complexity:\n",
        "    - 2 while loops each of $n$ iterations with each iteration taking $O(1)$ time $\\implies$ Time Complexity = $O(n)$\n",
        "- Space Complexity:\n",
        "    - Extra variables `current, position, max_position, max_value, new_node` of constant space $\\implies$ Space Complexity = $O(1)$"
      ],
      "metadata": {
        "id": "JYHMzq2GiJ1c"
      }
    },
    {
      "cell_type": "markdown",
      "source": [
        "## Solution 2"
      ],
      "metadata": {
        "id": "EfgFg2V0oW3X"
      }
    },
    {
      "cell_type": "markdown",
      "source": [
        "- 1st while loop\n",
        "    - get index of max_value node\n",
        "    - get node before max_value\n",
        "    - get node after max_value\n",
        "- Go to node before max_value\n",
        "- Replace max_value node with new_node of given value"
      ],
      "metadata": {
        "id": "WMMy_nDipAyK"
      }
    },
    {
      "cell_type": "code",
      "source": [
        "def replace_max(linked_list, value):\n",
        "    if linked_list.head is None:  # Empty LL\n",
        "        print(\"Linked List is Empty\")\n",
        "        return -1\n",
        "\n",
        "    # Traverse LL to find max_position, node_before_max, node_after_max\n",
        "    current = linked_list.head\n",
        "    position, max_position = 0, 0\n",
        "    max_value = current.data\n",
        "    while current.next is not None:\n",
        "        if current.next.data > max_value:\n",
        "            max_value = current.next.data\n",
        "            max_position = position + 1\n",
        "            node_before_max = current\n",
        "            node_after_max = current.next.next\n",
        "        current = current.next\n",
        "        position += 1\n",
        "\n",
        "    # Create new_node with value\n",
        "    new_node = Node(value)\n",
        "\n",
        "    if max_position == 0:  # Replace head with new_node\n",
        "        new_node.next = linked_list.head.next\n",
        "        linked_list.head = new_node\n",
        "        return linked_list\n",
        "\n",
        "    # Replace max_value node with new_node\n",
        "    new_node.next = node_after_max\n",
        "    node_before_max.next = new_node\n",
        "\n",
        "    return linked_list"
      ],
      "metadata": {
        "id": "qBnDdkvfnoUl"
      },
      "execution_count": 15,
      "outputs": []
    },
    {
      "cell_type": "markdown",
      "source": [
        "## Verification of Solution 2"
      ],
      "metadata": {
        "id": "AGAwKAVInoUo"
      }
    },
    {
      "cell_type": "code",
      "source": [
        "L = LinkedList()\n",
        "L.append(1)\n",
        "L.append(2)\n",
        "L.append(3)\n",
        "L.append(4)\n",
        "L.append(5)\n",
        "print(L)\n",
        "L = replace_max(L, 10)\n",
        "print(L)"
      ],
      "metadata": {
        "colab": {
          "base_uri": "https://localhost:8080/"
        },
        "outputId": "2f74e20e-6c49-41e4-a2d8-9fc743906458",
        "id": "OA9Ek4-1noUq"
      },
      "execution_count": 16,
      "outputs": [
        {
          "output_type": "stream",
          "name": "stdout",
          "text": [
            "1 -> 2 -> 3 -> 4 -> 5\n",
            "1 -> 2 -> 3 -> 4 -> 10\n"
          ]
        }
      ]
    },
    {
      "cell_type": "code",
      "source": [
        "L = LinkedList()\n",
        "L.append(4)\n",
        "L.append(2)\n",
        "L.append(3)\n",
        "L.append(6)\n",
        "L.append(5)\n",
        "print(L)\n",
        "L = replace_max(L, 10)\n",
        "print(L)"
      ],
      "metadata": {
        "colab": {
          "base_uri": "https://localhost:8080/"
        },
        "outputId": "a2824d70-c5ee-49e9-9a7a-19bebaadc2a4",
        "id": "UuLrRUcEnoUu"
      },
      "execution_count": 17,
      "outputs": [
        {
          "output_type": "stream",
          "name": "stdout",
          "text": [
            "4 -> 2 -> 3 -> 6 -> 5\n",
            "4 -> 2 -> 3 -> 10 -> 5\n"
          ]
        }
      ]
    },
    {
      "cell_type": "code",
      "source": [
        "L = LinkedList()\n",
        "L.append(7)\n",
        "L.append(2)\n",
        "L.append(3)\n",
        "L.append(6)\n",
        "L.append(5)\n",
        "print(L)\n",
        "L = replace_max(L, 10)\n",
        "print(L)"
      ],
      "metadata": {
        "colab": {
          "base_uri": "https://localhost:8080/"
        },
        "outputId": "2b6e89f0-1dbb-443f-f044-462c73351771",
        "id": "fXBNWly1noUx"
      },
      "execution_count": 18,
      "outputs": [
        {
          "output_type": "stream",
          "name": "stdout",
          "text": [
            "7 -> 2 -> 3 -> 6 -> 5\n",
            "10 -> 2 -> 3 -> 6 -> 5\n"
          ]
        }
      ]
    },
    {
      "cell_type": "code",
      "source": [
        "L = LinkedList()\n",
        "L.append(7)\n",
        "print(L)\n",
        "L = replace_max(L, 10)\n",
        "print(L)"
      ],
      "metadata": {
        "colab": {
          "base_uri": "https://localhost:8080/"
        },
        "outputId": "00482ba7-1280-4507-accb-ea1f10e475dd",
        "id": "voZLJtSNnoU0"
      },
      "execution_count": 19,
      "outputs": [
        {
          "output_type": "stream",
          "name": "stdout",
          "text": [
            "7\n",
            "10\n"
          ]
        }
      ]
    },
    {
      "cell_type": "code",
      "source": [
        "L = LinkedList()\n",
        "L.append(2)\n",
        "L.append(4)\n",
        "print(L)\n",
        "L = replace_max(L, 10)\n",
        "print(L)"
      ],
      "metadata": {
        "colab": {
          "base_uri": "https://localhost:8080/"
        },
        "outputId": "fa7a0274-ffc4-4e93-c6a4-96ba2ff2fe24",
        "id": "9C5-OCwnnoU2"
      },
      "execution_count": 20,
      "outputs": [
        {
          "output_type": "stream",
          "name": "stdout",
          "text": [
            "2 -> 4\n",
            "2 -> 10\n"
          ]
        }
      ]
    },
    {
      "cell_type": "code",
      "source": [
        "L = LinkedList()\n",
        "L.append(2)\n",
        "L.append(6)\n",
        "L.append(4)\n",
        "print(L)\n",
        "L = replace_max(L, 10)\n",
        "print(L)"
      ],
      "metadata": {
        "colab": {
          "base_uri": "https://localhost:8080/"
        },
        "outputId": "473d5f58-8bfc-4f1b-8161-a56a92c3b58b",
        "id": "opikCch2noU3"
      },
      "execution_count": 21,
      "outputs": [
        {
          "output_type": "stream",
          "name": "stdout",
          "text": [
            "2 -> 6 -> 4\n",
            "2 -> 10 -> 4\n"
          ]
        }
      ]
    },
    {
      "cell_type": "code",
      "source": [
        "L = LinkedList()\n",
        "print(L)\n",
        "L = replace_max(L, 10)\n",
        "print(L)"
      ],
      "metadata": {
        "colab": {
          "base_uri": "https://localhost:8080/"
        },
        "outputId": "97870556-0ced-4dfd-c2d0-48a95f0ac0c2",
        "id": "WNq-bVxWnoU6"
      },
      "execution_count": 22,
      "outputs": [
        {
          "output_type": "stream",
          "name": "stdout",
          "text": [
            "\n",
            "Linked List is Empty\n",
            "-1\n"
          ]
        }
      ]
    },
    {
      "cell_type": "markdown",
      "source": [
        "## Time & Space Complexity of Solution 2"
      ],
      "metadata": {
        "id": "kZG4svB6noU9"
      }
    },
    {
      "cell_type": "markdown",
      "source": [
        "Let $n$ be the number of nodes in the Linked List.\n",
        "\n",
        "- Time Complexity:\n",
        "    - Single while loop of $n$ iterations with each iteration taking $O(1)$ time $\\implies$ Time Complexity = $O(n)$\n",
        "- Space Complexity:\n",
        "    - Extra variables `current, position, max_position, max_value, node_before_max, node_after_max, new_node` of constant space $\\implies$ Space Complexity = $O(1)$"
      ],
      "metadata": {
        "id": "HK0ajuLjnoU-"
      }
    },
    {
      "cell_type": "markdown",
      "source": [
        "## Solution 3"
      ],
      "metadata": {
        "id": "JDQ7G0b-uW3-"
      }
    },
    {
      "cell_type": "markdown",
      "source": [
        "- 1st while loop\n",
        "    - get max_value node\n",
        "- Overwrite max_value node with given value"
      ],
      "metadata": {
        "id": "hxGq5d8-vQeb"
      }
    },
    {
      "cell_type": "code",
      "source": [
        "def replace_max(linked_list, value):\n",
        "    if linked_list.head is None:  # Empty LL\n",
        "        print(\"Linked List is Empty\")\n",
        "        return -1\n",
        "\n",
        "    # Traverse LL to find max_value node\n",
        "    current = linked_list.head\n",
        "    max_value_node = current\n",
        "    while current is not None:\n",
        "        if current.data > max_value_node.data:\n",
        "            max_value_node = current\n",
        "        current = current.next\n",
        "\n",
        "    max_value_node.data = value\n",
        "\n",
        "    return linked_list"
      ],
      "metadata": {
        "id": "2KfxDBaiuW4L"
      },
      "execution_count": 23,
      "outputs": []
    },
    {
      "cell_type": "markdown",
      "source": [
        "## Verification of Solution 3"
      ],
      "metadata": {
        "id": "oI1obiI_uW4O"
      }
    },
    {
      "cell_type": "code",
      "source": [
        "L = LinkedList()\n",
        "L.append(1)\n",
        "L.append(2)\n",
        "L.append(3)\n",
        "L.append(4)\n",
        "L.append(5)\n",
        "print(L)\n",
        "L = replace_max(L, 10)\n",
        "print(L)"
      ],
      "metadata": {
        "colab": {
          "base_uri": "https://localhost:8080/"
        },
        "outputId": "6b043b7f-e6dd-4854-a4fd-84ec1e773492",
        "id": "cCVGmJ9puW4X"
      },
      "execution_count": 24,
      "outputs": [
        {
          "output_type": "stream",
          "name": "stdout",
          "text": [
            "1 -> 2 -> 3 -> 4 -> 5\n",
            "1 -> 2 -> 3 -> 4 -> 10\n"
          ]
        }
      ]
    },
    {
      "cell_type": "code",
      "source": [
        "L = LinkedList()\n",
        "L.append(4)\n",
        "L.append(2)\n",
        "L.append(3)\n",
        "L.append(6)\n",
        "L.append(5)\n",
        "print(L)\n",
        "L = replace_max(L, 10)\n",
        "print(L)"
      ],
      "metadata": {
        "colab": {
          "base_uri": "https://localhost:8080/"
        },
        "outputId": "6675f96d-d613-453c-e2a9-fdd851a8cd10",
        "id": "K8E2xUrIuW4a"
      },
      "execution_count": 25,
      "outputs": [
        {
          "output_type": "stream",
          "name": "stdout",
          "text": [
            "4 -> 2 -> 3 -> 6 -> 5\n",
            "4 -> 2 -> 3 -> 10 -> 5\n"
          ]
        }
      ]
    },
    {
      "cell_type": "code",
      "source": [
        "L = LinkedList()\n",
        "L.append(7)\n",
        "L.append(2)\n",
        "L.append(3)\n",
        "L.append(6)\n",
        "L.append(5)\n",
        "print(L)\n",
        "L = replace_max(L, 10)\n",
        "print(L)"
      ],
      "metadata": {
        "colab": {
          "base_uri": "https://localhost:8080/"
        },
        "outputId": "dc1ae31d-fdf5-4311-ded4-dd29bd573d2f",
        "id": "QLqjabQ6uW4l"
      },
      "execution_count": 26,
      "outputs": [
        {
          "output_type": "stream",
          "name": "stdout",
          "text": [
            "7 -> 2 -> 3 -> 6 -> 5\n",
            "10 -> 2 -> 3 -> 6 -> 5\n"
          ]
        }
      ]
    },
    {
      "cell_type": "code",
      "source": [
        "L = LinkedList()\n",
        "L.append(7)\n",
        "print(L)\n",
        "L = replace_max(L, 10)\n",
        "print(L)"
      ],
      "metadata": {
        "colab": {
          "base_uri": "https://localhost:8080/"
        },
        "outputId": "e3053aa3-ac1f-4383-87e8-c45965ca50d6",
        "id": "4fCrJstYuW4o"
      },
      "execution_count": 27,
      "outputs": [
        {
          "output_type": "stream",
          "name": "stdout",
          "text": [
            "7\n",
            "10\n"
          ]
        }
      ]
    },
    {
      "cell_type": "code",
      "source": [
        "L = LinkedList()\n",
        "L.append(2)\n",
        "L.append(4)\n",
        "print(L)\n",
        "L = replace_max(L, 10)\n",
        "print(L)"
      ],
      "metadata": {
        "colab": {
          "base_uri": "https://localhost:8080/"
        },
        "outputId": "1d414622-f1f2-4506-f3ed-af6e498b8188",
        "id": "7Mq1o2m7uW4t"
      },
      "execution_count": 28,
      "outputs": [
        {
          "output_type": "stream",
          "name": "stdout",
          "text": [
            "2 -> 4\n",
            "2 -> 10\n"
          ]
        }
      ]
    },
    {
      "cell_type": "code",
      "source": [
        "L = LinkedList()\n",
        "L.append(2)\n",
        "L.append(6)\n",
        "L.append(4)\n",
        "print(L)\n",
        "L = replace_max(L, 10)\n",
        "print(L)"
      ],
      "metadata": {
        "colab": {
          "base_uri": "https://localhost:8080/"
        },
        "outputId": "c3ae6abc-f3f1-4fb1-d76d-e811b3152eb0",
        "id": "_u2Ne2jyuW4x"
      },
      "execution_count": 29,
      "outputs": [
        {
          "output_type": "stream",
          "name": "stdout",
          "text": [
            "2 -> 6 -> 4\n",
            "2 -> 10 -> 4\n"
          ]
        }
      ]
    },
    {
      "cell_type": "code",
      "source": [
        "L = LinkedList()\n",
        "print(L)\n",
        "L = replace_max(L, 10)\n",
        "print(L)"
      ],
      "metadata": {
        "colab": {
          "base_uri": "https://localhost:8080/"
        },
        "outputId": "9b7cc65a-4c27-440a-93d5-12962b428a4f",
        "id": "QZ6UtZ7huW4z"
      },
      "execution_count": 30,
      "outputs": [
        {
          "output_type": "stream",
          "name": "stdout",
          "text": [
            "\n",
            "Linked List is Empty\n",
            "-1\n"
          ]
        }
      ]
    },
    {
      "cell_type": "markdown",
      "source": [
        "## Time & Space Complexity of Solution 3"
      ],
      "metadata": {
        "id": "uIY7byxPuW40"
      }
    },
    {
      "cell_type": "markdown",
      "source": [
        "Let $n$ be the number of nodes in the Linked List.\n",
        "\n",
        "- Time Complexity:\n",
        "    - Single while loop of $n$ iterations with each iteration taking $O(1)$ time $\\implies$ Time Complexity = $O(n)$\n",
        "- Space Complexity:\n",
        "    - Extra variables `current, max_value_node` of constant space $\\implies$ Space Complexity = $O(1)$"
      ],
      "metadata": {
        "id": "6Ce9xjnYuW41"
      }
    },
    {
      "cell_type": "markdown",
      "source": [
        "![rainbow](https://github.com/ancilcleetus/My-Learning-Journey/assets/25684256/839c3524-2a1d-4779-85a0-83c562e1e5e5)"
      ],
      "metadata": {
        "id": "MTBnelW7x5Qt"
      }
    },
    {
      "cell_type": "markdown",
      "source": [
        "# Q3. Get the sum of values at the odd positions of a Linked List; Difficulty: ${\\color{green}{Easy}}$"
      ],
      "metadata": {
        "id": "GtI_0GoNx5Q2"
      }
    },
    {
      "cell_type": "markdown",
      "source": [
        "## Description"
      ],
      "metadata": {
        "id": "QJ9PLjikx5Q6"
      }
    },
    {
      "cell_type": "markdown",
      "source": [
        "Write a Python program to find the sum of values at the odd positions of a Linked List.\n",
        "\n",
        "**Example 1**:\n",
        "\n",
        "- **Input**: Input Linked List = 1 $\\longrightarrow$ 2 $\\longrightarrow$ 3 $\\longrightarrow$ 4 $\\longrightarrow$ 5\n",
        "- **Output**: 6\n",
        "\n",
        "**Example 2**:\n",
        "\n",
        "- **Input**: Input Linked List = 4 $\\longrightarrow$ 2 $\\longrightarrow$ 3 $\\longrightarrow$ 6 $\\longrightarrow$ 5\n",
        "- **Output**: 8\n",
        "\n",
        "**Example 3**:\n",
        "\n",
        "- **Input**: Input Linked List = 6 $\\longrightarrow$ 2 $\\longrightarrow$ 3 $\\longrightarrow$ 7 $\\longrightarrow$ 5\n",
        "- **Output**: 9"
      ],
      "metadata": {
        "id": "SlU6HDpqx5Q8"
      }
    },
    {
      "cell_type": "markdown",
      "source": [
        "## Solution 1"
      ],
      "metadata": {
        "id": "vpRr_8Ufx5RB"
      }
    },
    {
      "cell_type": "code",
      "source": [
        "def get_odd_sum(linked_list):\n",
        "    if linked_list.head is None:  # Empty LL\n",
        "        print(\"Linked List is Empty\")\n",
        "        return -1\n",
        "\n",
        "    current = linked_list.head\n",
        "    position = 0\n",
        "    odd_sum = 0\n",
        "    while current is not None:\n",
        "        if position % 2 != 0:\n",
        "            odd_sum += current.data\n",
        "        current = current.next\n",
        "        position += 1\n",
        "\n",
        "    return odd_sum"
      ],
      "metadata": {
        "id": "Ez-vXL2B9OyN"
      },
      "execution_count": 31,
      "outputs": []
    },
    {
      "cell_type": "markdown",
      "source": [
        "## Verification of Solution 1"
      ],
      "metadata": {
        "id": "nvCFduAw-LSS"
      }
    },
    {
      "cell_type": "code",
      "source": [
        "L = LinkedList()\n",
        "L.append(1)\n",
        "L.append(2)\n",
        "L.append(3)\n",
        "L.append(4)\n",
        "L.append(5)\n",
        "print(L)\n",
        "odd_sum = get_odd_sum(L)\n",
        "print(odd_sum)"
      ],
      "metadata": {
        "colab": {
          "base_uri": "https://localhost:8080/"
        },
        "outputId": "1f769ef8-52e4-4205-f6bc-024caff07c52",
        "id": "IXpMqYwQ-LSk"
      },
      "execution_count": 32,
      "outputs": [
        {
          "output_type": "stream",
          "name": "stdout",
          "text": [
            "1 -> 2 -> 3 -> 4 -> 5\n",
            "6\n"
          ]
        }
      ]
    },
    {
      "cell_type": "code",
      "source": [
        "L = LinkedList()\n",
        "L.append(4)\n",
        "L.append(2)\n",
        "L.append(3)\n",
        "L.append(6)\n",
        "L.append(5)\n",
        "print(L)\n",
        "odd_sum = get_odd_sum(L)\n",
        "print(odd_sum)"
      ],
      "metadata": {
        "colab": {
          "base_uri": "https://localhost:8080/"
        },
        "outputId": "0af97e39-b56c-4857-f274-8fd0dc0ed8d0",
        "id": "REVISyVc-LSq"
      },
      "execution_count": 33,
      "outputs": [
        {
          "output_type": "stream",
          "name": "stdout",
          "text": [
            "4 -> 2 -> 3 -> 6 -> 5\n",
            "8\n"
          ]
        }
      ]
    },
    {
      "cell_type": "code",
      "source": [
        "L = LinkedList()\n",
        "L.append(6)\n",
        "L.append(2)\n",
        "L.append(3)\n",
        "L.append(7)\n",
        "L.append(5)\n",
        "print(L)\n",
        "odd_sum = get_odd_sum(L)\n",
        "print(odd_sum)"
      ],
      "metadata": {
        "colab": {
          "base_uri": "https://localhost:8080/"
        },
        "outputId": "b7bf53aa-9f0e-4899-edce-a46c75c5c399",
        "id": "jTCgxbDZ-LS1"
      },
      "execution_count": 34,
      "outputs": [
        {
          "output_type": "stream",
          "name": "stdout",
          "text": [
            "6 -> 2 -> 3 -> 7 -> 5\n",
            "9\n"
          ]
        }
      ]
    },
    {
      "cell_type": "code",
      "source": [
        "L = LinkedList()\n",
        "print(L)\n",
        "odd_sum = get_odd_sum(L)\n",
        "print(odd_sum)"
      ],
      "metadata": {
        "colab": {
          "base_uri": "https://localhost:8080/"
        },
        "id": "dElshPOp_EWG",
        "outputId": "5ab8b037-6481-49ad-d5c3-58060200cce6"
      },
      "execution_count": 35,
      "outputs": [
        {
          "output_type": "stream",
          "name": "stdout",
          "text": [
            "\n",
            "Linked List is Empty\n",
            "-1\n"
          ]
        }
      ]
    },
    {
      "cell_type": "markdown",
      "source": [
        "## Time & Space Complexity of Solution 1"
      ],
      "metadata": {
        "id": "U1hRCWWk-sef"
      }
    },
    {
      "cell_type": "markdown",
      "source": [
        "Let $n$ be the number of nodes in the Linked List.\n",
        "\n",
        "- Time Complexity:\n",
        "    - Single while loop of $n$ iterations with each iteration taking $O(1)$ time $\\implies$ Time Complexity = $O(n)$\n",
        "- Space Complexity:\n",
        "    - Extra variables `current, position, odd_sum` of constant space $\\implies$ Space Complexity = $O(1)$"
      ],
      "metadata": {
        "id": "5ejQDUcv-sey"
      }
    },
    {
      "cell_type": "markdown",
      "source": [
        "![rainbow](https://github.com/ancilcleetus/My-Learning-Journey/assets/25684256/839c3524-2a1d-4779-85a0-83c562e1e5e5)"
      ],
      "metadata": {
        "id": "U897-NGnYhHk"
      }
    },
    {
      "cell_type": "code",
      "source": [
        "# Deep Learning as subset of ML\n",
        "\n",
        "from IPython import display\n",
        "display.Image(\"data/images/DL_01_Intro-01-DL-subset-of-ML.jpg\")"
      ],
      "metadata": {
        "id": "juNAxVBFg7sw"
      },
      "execution_count": null,
      "outputs": []
    },
    {
      "cell_type": "markdown",
      "source": [
        "![rainbow](https://github.com/ancilcleetus/My-Learning-Journey/assets/25684256/839c3524-2a1d-4779-85a0-83c562e1e5e5)"
      ],
      "metadata": {
        "id": "qqv0L0R9dyKJ"
      }
    }
  ]
}