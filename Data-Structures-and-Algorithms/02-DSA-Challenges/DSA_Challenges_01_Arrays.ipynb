{
  "nbformat": 4,
  "nbformat_minor": 0,
  "metadata": {
    "colab": {
      "provenance": []
    },
    "kernelspec": {
      "name": "python3",
      "display_name": "Python 3"
    },
    "language_info": {
      "name": "python"
    }
  },
  "cells": [
    {
      "cell_type": "markdown",
      "source": [
        "![rainbow](https://github.com/ancilcleetus/My-Learning-Journey/assets/25684256/839c3524-2a1d-4779-85a0-83c562e1e5e5)"
      ],
      "metadata": {
        "id": "uLR90WhedwER"
      }
    },
    {
      "cell_type": "markdown",
      "source": [
        "# Q1. [Remove Duplicates from Sorted Array](https://leetcode.com/problems/remove-duplicates-from-sorted-array/) Difficulty: ${\\color{green}{Easy}}$"
      ],
      "metadata": {
        "id": "bKim3KwyTp11"
      }
    },
    {
      "cell_type": "markdown",
      "source": [
        "## Description"
      ],
      "metadata": {
        "id": "3oz9rmpktIMI"
      }
    },
    {
      "cell_type": "markdown",
      "source": [
        "Given an integer array `nums` sorted in non-decreasing order, remove the duplicates **in-place** such that each unique element appears only **once**. The **relative order** of the elements should be kept the **same**. Then return the number of unique elements in `nums`.\n",
        "\n",
        "Consider the number of unique elements of `nums` to be `k`, to get accepted, you need to do the following things:\n",
        "\n",
        "- Change the array `nums` such that the first `k` elements of nums contain the unique elements in the order they were present in `nums` initially. The remaining elements of `nums` are not important as well as the size of `nums`.\n",
        "- Return `k`.\n",
        "\n",
        "**Example 1**:\n",
        "\n",
        "- **Input**: `nums = [1,1,2]`\n",
        "- **Output**: `2, nums = [1,2,_]`\n",
        "- **Explanation**: Your function should return k = 2, with the first two elements of nums being 1 and 2 respectively. It does not matter what you leave beyond the returned k (hence they are underscores).\n",
        "\n",
        "**Example 2**:\n",
        "\n",
        "- **Input**: `nums = [0,0,1,1,1,2,2,3,3,4]`\n",
        "- **Output**: `5, nums = [0,1,2,3,4,_,_,_,_,_]`\n",
        "- **Explanation**: Your function should return k = 5, with the first five elements of nums being 0, 1, 2, 3, and 4 respectively. It does not matter what you leave beyond the returned k (hence they are underscores).\n",
        "\n",
        "\n",
        "**Constraints**:\n",
        "\n",
        "- 1 <= nums.length <= 3 * $10^4$\n",
        "- -100 <= nums[i] <= 100\n",
        "- nums is sorted in **non-decreasing** order."
      ],
      "metadata": {
        "id": "xyAA1oESdnmK"
      }
    },
    {
      "cell_type": "markdown",
      "source": [
        "## Solution 1: Brute-Force Approach"
      ],
      "metadata": {
        "id": "Qdea0Mu_faS6"
      }
    },
    {
      "cell_type": "code",
      "source": [
        "class Solution(object):\n",
        "    def removeDuplicates(self, nums):\n",
        "        \"\"\"\n",
        "        :type nums: List[int]\n",
        "        :rtype: int\n",
        "        \"\"\"\n",
        "        unique_nums = []\n",
        "        for num in nums:\n",
        "            if num not in unique_nums:\n",
        "                unique_nums.append(num)\n",
        "\n",
        "        k = len(unique_nums)\n",
        "        for i in range(k):\n",
        "            nums[i] = unique_nums[i]\n",
        "\n",
        "        return k"
      ],
      "metadata": {
        "id": "G98oFxqIfu4O"
      },
      "execution_count": null,
      "outputs": []
    },
    {
      "cell_type": "markdown",
      "source": [
        "- Time Complexity:\n",
        "    - Running two for loops with $n$ iterations each one after the other $\\implies$ Time Complexity = $O(n) + O(n)$ = $O(n + n)$ = $O(2n)$ = $O(n)$\n",
        "- Space Complexity:\n",
        "    - In the worst case scenario, `unique_nums` list will be of size `n` $\\implies$ Space Complexity = $O(n)$"
      ],
      "metadata": {
        "id": "34W-PX79f5aG"
      }
    },
    {
      "cell_type": "markdown",
      "source": [
        "## Solution 2: Remove the extra array used"
      ],
      "metadata": {
        "id": "7NKaDBE1m2jM"
      }
    },
    {
      "cell_type": "code",
      "source": [
        "class Solution(object):\n",
        "    def removeDuplicates(self, nums):\n",
        "        \"\"\"\n",
        "        :type nums: List[int]\n",
        "        :rtype: int\n",
        "        \"\"\"\n",
        "        length = len(nums)\n",
        "        if length == 0:\n",
        "            return 0\n",
        "        elif length == 1:\n",
        "            return 1\n",
        "        elif length > 1:\n",
        "            unique_index = 1\n",
        "            for idx in range(1, length):\n",
        "                if nums[idx] != nums[idx-1]:\n",
        "                    nums[unique_index] = nums[idx]\n",
        "                    unique_index += 1\n",
        "\n",
        "        return unique_index"
      ],
      "metadata": {
        "id": "YJXglzvcnBUE"
      },
      "execution_count": null,
      "outputs": []
    },
    {
      "cell_type": "markdown",
      "source": [
        "- Time Complexity:\n",
        "    - Running a for loop with $n$ iterations $\\implies$ Time Complexity = $O(n)$\n",
        "- Space Complexity:\n",
        "    - Variables `unique_index` & `length` take constant space irrespective of size of array $n$ $\\implies$ Space Complexity = $O(1)$"
      ],
      "metadata": {
        "id": "UJgFWd1jnIJb"
      }
    },
    {
      "cell_type": "markdown",
      "source": [
        "![rainbow](https://github.com/ancilcleetus/My-Learning-Journey/assets/25684256/839c3524-2a1d-4779-85a0-83c562e1e5e5)"
      ],
      "metadata": {
        "id": "NVBUwv0jn8WS"
      }
    },
    {
      "cell_type": "markdown",
      "source": [
        "# Q2. [Remove Element](https://leetcode.com/problems/remove-element/) Difficulty: ${\\color{green}{Easy}}$"
      ],
      "metadata": {
        "id": "P57Vc20usiOH"
      }
    },
    {
      "cell_type": "markdown",
      "source": [
        "## Description"
      ],
      "metadata": {
        "id": "rQrWWm-btP9X"
      }
    },
    {
      "cell_type": "markdown",
      "source": [
        "Given an integer array `nums` and an integer `val`, remove all occurrences of `val` in `nums` in-place. The order of the elements may be changed. Then return the number of elements in `nums` which are not equal to `val`.\n",
        "\n",
        "Consider the number of elements in `nums` which are not equal to `val` be `k`, to get accepted, you need to do the following things:\n",
        "\n",
        "- Change the array `nums` such that the first `k` elements of `nums` contain the elements which are not equal to `val`. The remaining elements of `nums` are not important as well as the size of `nums`.\n",
        "- Return `k`.\n",
        "\n",
        "**Example 1**:\n",
        "\n",
        "- **Input**: `nums = [3,2,2,3], val = 3`\n",
        "- **Output**: `2, nums = [2,2,_,_]`\n",
        "- **Explanation**: Your function should return k = 2, with the first two elements of nums being 2. It does not matter what you leave beyond the returned k (hence they are underscores).\n",
        "\n",
        "**Example 2**:\n",
        "\n",
        "- **Input**: `nums = [0,1,2,2,3,0,4,2], val = 2`\n",
        "- **Output**: `5, nums = [0,1,4,0,3,_,_,_]`\n",
        "- **Explanation**: Your function should return k = 5, with the first five elements of nums containing 0, 0, 1, 3, and 4. Note that the five elements can be returned in any order. It does not matter what you leave beyond the returned k (hence they are underscores).\n",
        "\n",
        "**Constraints**:\n",
        "\n",
        "- `0 <= nums.length <= 100`\n",
        "- `0 <= nums[i] <= 50`\n",
        "- `0 <= val <= 100`"
      ],
      "metadata": {
        "id": "Vq2SafK6tS-3"
      }
    },
    {
      "cell_type": "markdown",
      "source": [
        "## Solution 1"
      ],
      "metadata": {
        "id": "N3jP9pmnzp3E"
      }
    },
    {
      "cell_type": "code",
      "source": [
        "# Deep Learning as subset of ML\n",
        "\n",
        "from IPython import display\n",
        "display.Image(\"data/images/DL_01_Intro-01-DL-subset-of-ML.jpg\")"
      ],
      "metadata": {
        "id": "juNAxVBFg7sw"
      },
      "execution_count": null,
      "outputs": []
    },
    {
      "cell_type": "markdown",
      "source": [
        "- Time Complexity:\n",
        "    - Running a for loop with $n$ iterations $\\implies$ Time Complexity = $O(n)$\n",
        "- Space Complexity:\n",
        "    - Variable `non_val_pointer` takes constant space irrespective of size of array $n$ $\\implies$ Space Complexity = $O(1)$"
      ],
      "metadata": {
        "id": "aG7-R-9Rz3nl"
      }
    },
    {
      "cell_type": "markdown",
      "source": [
        "Difficulty: ${\\color{green}{Easy}}$\n",
        "Difficulty: ${\\color{orange}{Medium}}$\n",
        "Difficulty: ${\\color{red}{Hard}}$"
      ],
      "metadata": {
        "id": "Pf0qrlJcsUj9"
      }
    },
    {
      "cell_type": "markdown",
      "source": [
        "![rainbow](https://github.com/ancilcleetus/My-Learning-Journey/assets/25684256/839c3524-2a1d-4779-85a0-83c562e1e5e5)"
      ],
      "metadata": {
        "id": "qqv0L0R9dyKJ"
      }
    }
  ]
}