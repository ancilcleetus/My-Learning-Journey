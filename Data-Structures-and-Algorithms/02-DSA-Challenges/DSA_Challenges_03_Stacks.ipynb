{
  "nbformat": 4,
  "nbformat_minor": 0,
  "metadata": {
    "colab": {
      "provenance": []
    },
    "kernelspec": {
      "name": "python3",
      "display_name": "Python 3"
    },
    "language_info": {
      "name": "python"
    }
  },
  "cells": [
    {
      "cell_type": "markdown",
      "source": [
        "# 📖 TABLE OF CONTENTS\n",
        "\n",
        "- [Linked List based `Stack` Class]()\n",
        "- [Q1. String Reversal; Difficulty: ${\\color{green}{Easy}}$]()\n",
        "  - [Description]()\n",
        "  - [Solution 1]()\n",
        "  - [Verification of Solution 1]()\n",
        "  - [Time & Space Complexity of Solution 1]()\n",
        "  - [Solution 2]()\n",
        "  - [Verification of Solution 2]()\n",
        "  - [Time & Space Complexity of Solution 2]()\n",
        "- [Q2. \"Undo\" and \"Redo\" operations of a Text Editor; Difficulty: ${\\color{orange}{Medium}}$]()\n",
        "  - [Description]()\n",
        "  - [Solution 1]()\n",
        "  - [Verification of Solution 1]()\n",
        "  - [Time & Space Complexity of Solution 1]()\n",
        "- [Q3. [Celebrity Problem](https://www.geeksforgeeks.org/the-celebrity-problem/); Difficulty: ${\\color{orange}{Medium}}$]()\n",
        "  - [Description]()\n",
        "  - [Solution 1]()\n",
        "  - [Verification of Solution 1]()\n",
        "  - [Time & Space Complexity of Solution 1]()\n",
        "  - [Solution 2]()\n",
        "  - [Verification of Solution 2]()\n",
        "  - [Time & Space Complexity of Solution 2]()\n",
        "  - [Solution 3]()\n",
        "  - [Verification of Solution 3]()\n",
        "  - [Time & Space Complexity of Solution 3]()\n",
        "- [Q4. [Valid Parentheses](https://leetcode.com/problems/valid-parentheses/); Difficulty: ${\\color{green}{Easy}}$]()\n",
        "  - [Description]()\n",
        "  - [Solution 1]()\n",
        "  - [Verification of Solution 1]()\n",
        "  - [Time & Space Complexity of Solution 1]()"
      ],
      "metadata": {
        "id": "44sNU-lToP8F"
      }
    },
    {
      "cell_type": "markdown",
      "source": [
        "![rainbow](https://github.com/ancilcleetus/My-Learning-Journey/assets/25684256/839c3524-2a1d-4779-85a0-83c562e1e5e5)"
      ],
      "metadata": {
        "id": "ZdyoPoO4-RqG"
      }
    },
    {
      "cell_type": "markdown",
      "source": [
        "# Linked List based `Stack` Class"
      ],
      "metadata": {
        "id": "kmCEOHb6pg9Q"
      }
    },
    {
      "cell_type": "markdown",
      "source": [
        "A `Stack` class was created from scratch (Refer my [Stacks Notebook](https://github.com/ancilcleetus/My-Learning-Journey/blob/main/Data-Structures-and-Algorithms/01-DSA-Foundations/DSA_06_Stacks.ipynb)). We will use this `Stack` class for the coding challenges in this Notebook. This class supports below methods:\n",
        "\n",
        "1. **`push(value)`:** Add an element to the top of the stack\n",
        "\n",
        "2. **`pop()`:** Remove and return the element from the top of the stack\n",
        "\n",
        "3. **`peek()`:** Return the top element without removing it\n",
        "\n",
        "4. **`isEmpty()`:** Check if the stack is empty\n",
        "\n",
        "5. **size:** Return the number of elements in the stack\n",
        "\n",
        "6. **Traverse (Usage: `print()`):** Print all nodes using magic method `__str__()`"
      ],
      "metadata": {
        "id": "Yw2KvijLIZ7x"
      }
    },
    {
      "cell_type": "markdown",
      "source": [
        "A Linked List with all operations done only on the head node can be called as a Stack."
      ],
      "metadata": {
        "id": "iDb4GkHtrLbn"
      }
    },
    {
      "cell_type": "code",
      "source": [
        "class Node:\n",
        "\n",
        "    def __init__(self, data):\n",
        "        self.data = data\n",
        "        self.next = None"
      ],
      "metadata": {
        "id": "u1auTApfGmw-"
      },
      "execution_count": null,
      "outputs": []
    },
    {
      "cell_type": "markdown",
      "source": [
        "`Stack` Class without `size` attribute is given below:"
      ],
      "metadata": {
        "id": "6oH4Dvo7zhGE"
      }
    },
    {
      "cell_type": "code",
      "source": [
        "class Stack:\n",
        "\n",
        "    def __init__(self):\n",
        "        self.top = None\n",
        "\n",
        "    def isEmpty(self):\n",
        "        return self.top == None\n",
        "\n",
        "    def push(self, value):\n",
        "        new_node = Node(value)\n",
        "        # Make connection\n",
        "        new_node.next = self.top\n",
        "        # Reassign top\n",
        "        self.top = new_node\n",
        "\n",
        "    def __str__(self):\n",
        "        current = self.top\n",
        "        string = \"\"\n",
        "        while current is not None:\n",
        "            string += str(current.data) + \"\\n\"\n",
        "            current = current.next\n",
        "\n",
        "        return string\n",
        "\n",
        "    def peek(self):\n",
        "        if self.isEmpty():\n",
        "            print(\"Stack is Empty\")\n",
        "            return\n",
        "        return self.top.data\n",
        "\n",
        "    def pop(self):\n",
        "        if self.isEmpty():\n",
        "            print(\"Stack is Empty\")\n",
        "            return\n",
        "        temp = self.top\n",
        "        self.top = self.top.next\n",
        "        temp.next = None\n",
        "        return temp.data"
      ],
      "metadata": {
        "id": "59YsLBbqqvzN"
      },
      "execution_count": null,
      "outputs": []
    },
    {
      "cell_type": "markdown",
      "source": [
        "`Stack` Class with `size` attribute is given below:"
      ],
      "metadata": {
        "id": "s6lXxuuBzrto"
      }
    },
    {
      "cell_type": "code",
      "source": [
        "class Stack:\n",
        "\n",
        "    def __init__(self):\n",
        "        self.top = None\n",
        "        self.size = 0\n",
        "\n",
        "    def isEmpty(self):\n",
        "        return self.size == 0\n",
        "\n",
        "    def push(self, value):\n",
        "        new_node = Node(value)\n",
        "        # Make connection\n",
        "        new_node.next = self.top\n",
        "        # Reassign top\n",
        "        self.top = new_node\n",
        "        self.size += 1\n",
        "\n",
        "    def __str__(self):\n",
        "        current = self.top\n",
        "        string = \"\"\n",
        "        while current is not None:\n",
        "            string += str(current.data) + \"\\n\"\n",
        "            current = current.next\n",
        "\n",
        "        return string\n",
        "\n",
        "    def peek(self):\n",
        "        if self.isEmpty():\n",
        "            print(\"Stack is Empty\")\n",
        "            return\n",
        "        return self.top.data\n",
        "\n",
        "    def pop(self):\n",
        "        if self.isEmpty():\n",
        "            print(\"Stack is Empty\")\n",
        "            return\n",
        "        temp = self.top\n",
        "        self.top = self.top.next\n",
        "        temp.next = None\n",
        "        self.size -= 1\n",
        "        return temp.data"
      ],
      "metadata": {
        "id": "MYYZV9UsqU53"
      },
      "execution_count": null,
      "outputs": []
    },
    {
      "cell_type": "markdown",
      "source": [
        "![rainbow](https://github.com/ancilcleetus/My-Learning-Journey/assets/25684256/839c3524-2a1d-4779-85a0-83c562e1e5e5)"
      ],
      "metadata": {
        "id": "YBmYBnc1GcCM"
      }
    },
    {
      "cell_type": "markdown",
      "source": [
        "# Q1. String Reversal; Difficulty: ${\\color{green}{Easy}}$"
      ],
      "metadata": {
        "id": "bKim3KwyTp11"
      }
    },
    {
      "cell_type": "markdown",
      "source": [
        "## Description"
      ],
      "metadata": {
        "id": "3oz9rmpktIMI"
      }
    },
    {
      "cell_type": "markdown",
      "source": [
        "Write a Python program to reverse the given string using Stack.\n",
        "\n",
        "**Example 1**:\n",
        "\n",
        "- **Input**: `string = \"Hello World\"`\n",
        "- **Output**: `reversed_string = \"dlroW olleH\"`\n",
        "\n",
        "**Example 2**:\n",
        "\n",
        "- **Input**: `string = \"Banana\"`\n",
        "- **Output**: `reversed_string = \"ananaB\"`\n",
        "\n",
        "**Example 3**:\n",
        "\n",
        "- **Input**: `string = \"Malayalam\"`\n",
        "- **Output**: `reversed_string = \"malayalaM\"`\n",
        "\n",
        "\n",
        "**Constraints**:\n",
        "\n",
        "- Assume that the Stack is initially empty."
      ],
      "metadata": {
        "id": "V7AZ2xLRB6tf"
      }
    },
    {
      "cell_type": "markdown",
      "source": [
        "## Solution 1"
      ],
      "metadata": {
        "id": "Qdea0Mu_faS6"
      }
    },
    {
      "cell_type": "code",
      "source": [
        "def reverse_string(stack, string):\n",
        "    for char in string:\n",
        "        stack.push(char)\n",
        "\n",
        "    reversed_string = \"\"\n",
        "    while not stack.isEmpty():\n",
        "        reversed_string += stack.pop()\n",
        "\n",
        "    return reversed_string"
      ],
      "metadata": {
        "id": "bGy0zOAJC2u5"
      },
      "execution_count": null,
      "outputs": []
    },
    {
      "cell_type": "markdown",
      "source": [
        "## Verification of Solution 1"
      ],
      "metadata": {
        "id": "2Nem_kJFPuRo"
      }
    },
    {
      "cell_type": "code",
      "source": [
        "s = Stack()\n",
        "string = \"Hello World\"\n",
        "reversed_string = reverse_string(s, string)\n",
        "print(reversed_string)"
      ],
      "metadata": {
        "colab": {
          "base_uri": "https://localhost:8080/"
        },
        "id": "BfyxLd17DV5V",
        "outputId": "4cc08b55-c859-46cf-a9ba-aa3de64a3db6"
      },
      "execution_count": null,
      "outputs": [
        {
          "output_type": "stream",
          "name": "stdout",
          "text": [
            "dlroW olleH\n"
          ]
        }
      ]
    },
    {
      "cell_type": "code",
      "source": [
        "s = Stack()\n",
        "string = \"Banana\"\n",
        "reversed_string = reverse_string(s, string)\n",
        "print(reversed_string)"
      ],
      "metadata": {
        "colab": {
          "base_uri": "https://localhost:8080/"
        },
        "id": "qRwg-tr0E26V",
        "outputId": "806b808d-1c5f-43d9-a91f-d444fe452353"
      },
      "execution_count": null,
      "outputs": [
        {
          "output_type": "stream",
          "name": "stdout",
          "text": [
            "ananaB\n"
          ]
        }
      ]
    },
    {
      "cell_type": "code",
      "source": [
        "s = Stack()\n",
        "string = \"Malayalam\"\n",
        "reversed_string = reverse_string(s, string)\n",
        "print(reversed_string)"
      ],
      "metadata": {
        "colab": {
          "base_uri": "https://localhost:8080/"
        },
        "id": "E-09JXGIE3-D",
        "outputId": "0d86783c-4f7b-4de7-e3cc-76b94c49565a"
      },
      "execution_count": null,
      "outputs": [
        {
          "output_type": "stream",
          "name": "stdout",
          "text": [
            "malayalaM\n"
          ]
        }
      ]
    },
    {
      "cell_type": "code",
      "source": [
        "s = Stack()\n",
        "s.push(\"H\")\n",
        "s.push(\"e\")\n",
        "s.push(\"l\")\n",
        "s.push(\"l\")\n",
        "s.push(\"0\")\n",
        "string = \"Malayalam\"\n",
        "reversed_string = reverse_string(s, string)\n",
        "print(reversed_string)"
      ],
      "metadata": {
        "colab": {
          "base_uri": "https://localhost:8080/"
        },
        "outputId": "a988232a-2ef5-4958-99e4-2cdebb32ee76",
        "id": "Hpx5G3M9NW0W"
      },
      "execution_count": null,
      "outputs": [
        {
          "output_type": "stream",
          "name": "stdout",
          "text": [
            "malayalaM0lleH\n"
          ]
        }
      ]
    },
    {
      "cell_type": "markdown",
      "source": [
        "## Time & Space Complexity of Solution 1"
      ],
      "metadata": {
        "id": "KtuGf4GwVTcw"
      }
    },
    {
      "cell_type": "markdown",
      "source": [
        "Let $n$ be the number of characters in the input string.\n",
        "\n",
        "- Time Complexity:\n",
        "    - 1 for loop and 1 while loop each of $n$ iterations with each iteration taking $O(1)$ time $\\implies$ Time Complexity = $O(n)$\n",
        "- Space Complexity:\n",
        "    - Extra stack of size `n` & `reversed_string` of size `n` $\\implies$ Space Complexity = $O(n)$\n",
        "\n",
        "**Note**\n",
        "\n",
        "Extra variable `char` of constant space can be ignored."
      ],
      "metadata": {
        "id": "JYHMzq2GiJ1c"
      }
    },
    {
      "cell_type": "markdown",
      "source": [
        "## Solution 2"
      ],
      "metadata": {
        "id": "PT-Oasg7MKQU"
      }
    },
    {
      "cell_type": "markdown",
      "source": [
        "**Logic:**\n",
        "\n",
        "Above solution will not work if stack is initially not empty. In the below solution, we take care of that by running 2nd for loop `length` times where `length` = no of characters in `string`."
      ],
      "metadata": {
        "id": "6dQDaUi5MwDF"
      }
    },
    {
      "cell_type": "code",
      "source": [
        "def reverse_string(stack, string):\n",
        "    length = len(string)\n",
        "    for char in string:\n",
        "        stack.push(char)\n",
        "\n",
        "    reversed_string = \"\"\n",
        "    for i in range(0, length):\n",
        "        reversed_string += stack.pop()\n",
        "\n",
        "    return reversed_string"
      ],
      "metadata": {
        "id": "4JmZqoUBMKQi"
      },
      "execution_count": null,
      "outputs": []
    },
    {
      "cell_type": "markdown",
      "source": [
        "## Verification of Solution 2"
      ],
      "metadata": {
        "id": "aNVl7suSMKQt"
      }
    },
    {
      "cell_type": "code",
      "source": [
        "s = Stack()\n",
        "string = \"Hello World\"\n",
        "reversed_string = reverse_string(s, string)\n",
        "print(reversed_string)"
      ],
      "metadata": {
        "colab": {
          "base_uri": "https://localhost:8080/"
        },
        "outputId": "cac68de4-161f-4dc7-a57b-991a15a20a96",
        "id": "Kw2cGujxMKQv"
      },
      "execution_count": null,
      "outputs": [
        {
          "output_type": "stream",
          "name": "stdout",
          "text": [
            "dlroW olleH\n"
          ]
        }
      ]
    },
    {
      "cell_type": "code",
      "source": [
        "s = Stack()\n",
        "string = \"Banana\"\n",
        "reversed_string = reverse_string(s, string)\n",
        "print(reversed_string)"
      ],
      "metadata": {
        "colab": {
          "base_uri": "https://localhost:8080/"
        },
        "outputId": "ad4ff604-abcd-4001-cbe8-938235ccc005",
        "id": "ww4SK2AMMKQz"
      },
      "execution_count": null,
      "outputs": [
        {
          "output_type": "stream",
          "name": "stdout",
          "text": [
            "ananaB\n"
          ]
        }
      ]
    },
    {
      "cell_type": "code",
      "source": [
        "s = Stack()\n",
        "string = \"Malayalam\"\n",
        "reversed_string = reverse_string(s, string)\n",
        "print(reversed_string)"
      ],
      "metadata": {
        "colab": {
          "base_uri": "https://localhost:8080/"
        },
        "outputId": "bab15041-ccf1-48b5-d107-64d185168528",
        "id": "De3hTyjrMKQ2"
      },
      "execution_count": null,
      "outputs": [
        {
          "output_type": "stream",
          "name": "stdout",
          "text": [
            "malayalaM\n"
          ]
        }
      ]
    },
    {
      "cell_type": "code",
      "source": [
        "s = Stack()\n",
        "s.push(\"H\")\n",
        "s.push(\"e\")\n",
        "s.push(\"l\")\n",
        "s.push(\"l\")\n",
        "s.push(\"0\")\n",
        "string = \"Malayalam\"\n",
        "reversed_string = reverse_string(s, string)\n",
        "print(reversed_string)"
      ],
      "metadata": {
        "colab": {
          "base_uri": "https://localhost:8080/"
        },
        "id": "C-opY0evNkMd",
        "outputId": "8b4de9bc-3751-4d3d-f9a0-1d7e9fd18693"
      },
      "execution_count": null,
      "outputs": [
        {
          "output_type": "stream",
          "name": "stdout",
          "text": [
            "malayalaM\n"
          ]
        }
      ]
    },
    {
      "cell_type": "markdown",
      "source": [
        "## Time & Space Complexity of Solution 2"
      ],
      "metadata": {
        "id": "ZVJ6xuRFMKQ4"
      }
    },
    {
      "cell_type": "markdown",
      "source": [
        "Let $n$ be the number of characters in the input string.\n",
        "\n",
        "- Time Complexity:\n",
        "    - 2 for loops each of $n$ iterations with each iteration taking $O(1)$ time $\\implies$ Time Complexity = $O(n)$\n",
        "- Space Complexity:\n",
        "    - Extra stack of size `n` & `reversed_string` of size `n` $\\implies$ Space Complexity = $O(n)$\n",
        "\n",
        "**Note**\n",
        "\n",
        "Extra variables `length, char` of constant space can be ignored."
      ],
      "metadata": {
        "id": "3SVIPBGyMKQ6"
      }
    },
    {
      "cell_type": "markdown",
      "source": [
        "**Important**\n",
        "\n",
        "Because of Space Complexity of $O(n)$, stacks are never used to reverse a string since stack size will increase as string size is increased. A larger string will take a larger memory which is not good. The optimum solution for String Reversal will be in place replacing of characters which will not take additional space when string size is increased i.e. Space Complexity of $O(1)$."
      ],
      "metadata": {
        "id": "QtUjIxL1T0VU"
      }
    },
    {
      "cell_type": "markdown",
      "source": [
        "![rainbow](https://github.com/ancilcleetus/My-Learning-Journey/assets/25684256/839c3524-2a1d-4779-85a0-83c562e1e5e5)"
      ],
      "metadata": {
        "id": "aZAp6OFlWuQV"
      }
    },
    {
      "cell_type": "markdown",
      "source": [
        "# Q2. \"Undo\" and \"Redo\" operations of a Text Editor; Difficulty: ${\\color{orange}{Medium}}$"
      ],
      "metadata": {
        "id": "AttOkcq_WuQZ"
      }
    },
    {
      "cell_type": "markdown",
      "source": [
        "## Description"
      ],
      "metadata": {
        "id": "yk2J_wv1WuQc"
      }
    },
    {
      "cell_type": "markdown",
      "source": [
        "Write a Python program to implement \"Undo\" and \"Redo\" operations of a Text Editor using Stack.\n",
        "\n",
        "**Note**\n",
        "\n",
        "Here, command `u` denotes Undo operation (undo the last operation) and command `r` denotes Redo operation (redo the last undo operation).\n",
        "\n",
        "**Example 1**:\n",
        "\n",
        "- **Input**: `string = \"Hello\", commands = \"ururu\"`\n",
        "- **Output**: `\"Hell\"`\n",
        "\n",
        "**Example 2**:\n",
        "\n",
        "- **Input**: `string = \"Hello\", commands = \"uuur\"`\n",
        "- **Output**: `\"Hel\"`"
      ],
      "metadata": {
        "id": "VLWxV4rGWuQd"
      }
    },
    {
      "cell_type": "markdown",
      "source": [
        "## Solution 1"
      ],
      "metadata": {
        "id": "nEDQNqCNWuQf"
      }
    },
    {
      "cell_type": "markdown",
      "source": [
        "**Logic:**\n",
        "\n",
        "Two separate stacks to store undo and redo operations. Initialize `undo_stack` with characters from the string while `redo_stack` is initially empty."
      ],
      "metadata": {
        "id": "NARPCMpRBgqZ"
      }
    },
    {
      "cell_type": "code",
      "source": [
        "def undo_redo(string, commands):\n",
        "    undo_stack = Stack()\n",
        "    redo_stack = Stack()\n",
        "\n",
        "    # Populate undo_stack with string\n",
        "    for char in string:\n",
        "        undo_stack.push(char)\n",
        "\n",
        "    result = string\n",
        "    for command in commands:\n",
        "        if command == \"u\":\n",
        "            if not undo_stack.isEmpty():\n",
        "                char = undo_stack.pop()\n",
        "                redo_stack.push(char)\n",
        "                result = result[:-1]\n",
        "        elif command == \"r\":\n",
        "            if not redo_stack.isEmpty():\n",
        "                char = redo_stack.pop()\n",
        "                undo_stack.push(char)\n",
        "                result += char\n",
        "\n",
        "    return result"
      ],
      "metadata": {
        "id": "S2clwti6AN0P"
      },
      "execution_count": null,
      "outputs": []
    },
    {
      "cell_type": "markdown",
      "source": [
        "## Verification of Solution 1"
      ],
      "metadata": {
        "id": "LkkSqORoBgqh"
      }
    },
    {
      "cell_type": "code",
      "source": [
        "string = \"Hello\"\n",
        "commands = \"ururu\"\n",
        "result = undo_redo(string, commands)\n",
        "print(result)"
      ],
      "metadata": {
        "colab": {
          "base_uri": "https://localhost:8080/"
        },
        "outputId": "58e46ab4-2cfb-470d-e5b6-98bf8eb2951c",
        "id": "HHueGTGOBgqj"
      },
      "execution_count": null,
      "outputs": [
        {
          "output_type": "stream",
          "name": "stdout",
          "text": [
            "Hell\n"
          ]
        }
      ]
    },
    {
      "cell_type": "code",
      "source": [
        "string = \"Hello\"\n",
        "commands = \"uuur\"\n",
        "result = undo_redo(string, commands)\n",
        "print(result)"
      ],
      "metadata": {
        "colab": {
          "base_uri": "https://localhost:8080/"
        },
        "id": "JxKHkJ1nCbDN",
        "outputId": "97b1850a-1fe1-463b-b3c6-f5a4b3c5a656"
      },
      "execution_count": null,
      "outputs": [
        {
          "output_type": "stream",
          "name": "stdout",
          "text": [
            "Hel\n"
          ]
        }
      ]
    },
    {
      "cell_type": "markdown",
      "source": [
        "## Time & Space Complexity of Solution 1"
      ],
      "metadata": {
        "id": "OrPU2UlqClKC"
      }
    },
    {
      "cell_type": "markdown",
      "source": [
        "Let $n$ be the number of characters in the input string and $m$ be the number of undo and redo commands.\n",
        "\n",
        "- Time Complexity:\n",
        "    - 1 for loop of $n$ iterations with each iteration taking $O(1)$ time + 1 for loop of $m$ iterations with each iteration taking $O(1)$ time $\\implies$ Time Complexity = $O(n+m)$\n",
        "- Space Complexity:\n",
        "    - Extra two stacks each of size `n` & `result` of size `n` $\\implies$ Space Complexity = $O(n)$\n",
        "\n",
        "**Note**\n",
        "\n",
        "Extra variables `char, command` of constant space can be ignored."
      ],
      "metadata": {
        "id": "59DMsRRBClKE"
      }
    },
    {
      "cell_type": "markdown",
      "source": [
        "![rainbow](https://github.com/ancilcleetus/My-Learning-Journey/assets/25684256/839c3524-2a1d-4779-85a0-83c562e1e5e5)"
      ],
      "metadata": {
        "id": "n9Xl7jxOmjnn"
      }
    },
    {
      "cell_type": "markdown",
      "source": [
        "# Q3. [Celebrity Problem](https://www.geeksforgeeks.org/the-celebrity-problem/); Difficulty: ${\\color{orange}{Medium}}$"
      ],
      "metadata": {
        "id": "4xUUL0AMmjnr"
      }
    },
    {
      "cell_type": "markdown",
      "source": [
        "## Description"
      ],
      "metadata": {
        "id": "xn4pgHYymjnu"
      }
    },
    {
      "cell_type": "markdown",
      "source": [
        "Given a square matrix `square_matrix` of size n x n, such that `square_matrix[i][j] = 1` means ith person knows jth person, the task is to find the celebrity. A celebrity is a person who is known to all but does not know anyone. Return the index of the celebrity, if there is no celebrity return -1.\n",
        "\n",
        "**Note**\n",
        "\n",
        "- Follow 0 based indexing and `square_matrix[i][i]` will always be 0.\n",
        "- There will only be a single celebrity in a matrix since if there are more than 1 celebrity, it will not satisfy the condition for any of the celebrities. Hence, answer will be either -1 or a value between 0 and $n-1$ ($0 \\leq value \\leq n-1$).\n",
        "\n",
        "**Example 1**:\n",
        "\n",
        "- **Input**: `square_matrix = [[0, 0, 1, 0], [0, 0, 1, 0], [0, 0, 0, 0], [0, 0, 1, 0]]`\n",
        "- **Output**: `2`\n",
        "\n",
        "**Example 2**:\n",
        "\n",
        "- **Input**: `square_matrix = [[0, 0, 1, 0], [0, 0, 1, 0], [0, 1, 0, 0], [0, 0, 1, 0]]`\n",
        "- **Output**: `-1`\n",
        "\n",
        "**Example 3**:\n",
        "\n",
        "- **Input**: `square_matrix = [[0, 0, 1, 1], [0, 0, 1, 1], [1, 0, 0, 1], [0, 0, 0, 0]]`\n",
        "- **Output**: `3`\n",
        "\n",
        "**Example 4**:\n",
        "\n",
        "- **Input**: `square_matrix = [[0, 0, 1, 1], [0, 0, 1, 1], [1, 0, 0, 1], [1, 0, 0, 0]]`\n",
        "- **Output**: `-1`"
      ],
      "metadata": {
        "id": "L0lKzkPvmjnx"
      }
    },
    {
      "cell_type": "markdown",
      "source": [
        "## Solution 1"
      ],
      "metadata": {
        "id": "fw0hQPw9mjny"
      }
    },
    {
      "cell_type": "markdown",
      "source": [
        "**Logic:**\n",
        "\n",
        "1. For each `row` in `square_matrix`,\n",
        "    1. Update `all_zero_row`\n",
        "    2. Update `familiarity_data` dictionary that increments for each 1 encountered\n",
        "    3. If `all_zero_row == True:`\n",
        "        - `person_idx` = row index\n",
        "2. If `person_idx` is not `None`:\n",
        "    - If `familiarity_data[person_idx] == n - 1`:\n",
        "        - `return person_idx`\n",
        "    - Else\n",
        "        - `return -1`\n",
        "- Else:\n",
        "    - `return -1`"
      ],
      "metadata": {
        "id": "jjn_XzAumjn0"
      }
    },
    {
      "cell_type": "code",
      "source": [
        "def find_celebrity(square_matrix):\n",
        "    n = len(square_matrix)\n",
        "    familiarity_data = {}\n",
        "    person_idx = None\n",
        "    for i, row in enumerate(square_matrix):\n",
        "        all_zero_row = True\n",
        "        for j, value in enumerate(row):\n",
        "            if value == 1:\n",
        "                all_zero_row = False\n",
        "                familiarity_data[j] = familiarity_data.get(j, 0) + 1\n",
        "\n",
        "        if all_zero_row:\n",
        "            person_idx = i\n",
        "\n",
        "    print(f\"person_idx: {person_idx}\")\n",
        "    if person_idx is not None:\n",
        "        if familiarity_data[person_idx] == n - 1:\n",
        "            return person_idx\n",
        "        else:\n",
        "            return -1\n",
        "    else:\n",
        "        return -1"
      ],
      "metadata": {
        "id": "8Gpzqsfx9auw"
      },
      "execution_count": null,
      "outputs": []
    },
    {
      "cell_type": "markdown",
      "source": [
        "## Verification of Solution 1"
      ],
      "metadata": {
        "id": "f25YRyfW-23o"
      }
    },
    {
      "cell_type": "code",
      "source": [
        "square_matrix = [[0, 0, 1, 0], [0, 0, 1, 0], [0, 0, 0, 0], [0, 0, 1, 0]]\n",
        "person_idx = find_celebrity(square_matrix)\n",
        "print(person_idx)"
      ],
      "metadata": {
        "colab": {
          "base_uri": "https://localhost:8080/"
        },
        "outputId": "c7e2c177-748a-4786-eb80-65801c209dc3",
        "id": "U24B9ekC-23w"
      },
      "execution_count": null,
      "outputs": [
        {
          "output_type": "stream",
          "name": "stdout",
          "text": [
            "person_idx: 2\n",
            "2\n"
          ]
        }
      ]
    },
    {
      "cell_type": "code",
      "source": [
        "square_matrix = [[0, 0, 1, 0], [0, 0, 1, 0], [0, 1, 0, 0], [0, 0, 1, 0]]\n",
        "person_idx = find_celebrity(square_matrix)\n",
        "print(person_idx)"
      ],
      "metadata": {
        "colab": {
          "base_uri": "https://localhost:8080/"
        },
        "outputId": "396d5dec-52ee-4fd5-aa04-1e56555af0d2",
        "id": "Q4dH2gjQ-23z"
      },
      "execution_count": null,
      "outputs": [
        {
          "output_type": "stream",
          "name": "stdout",
          "text": [
            "person_idx: None\n",
            "-1\n"
          ]
        }
      ]
    },
    {
      "cell_type": "code",
      "source": [
        "square_matrix = [[0, 0, 1, 1], [0, 0, 1, 1], [1, 0, 0, 1], [0, 0, 0, 0]]\n",
        "person_idx = find_celebrity(square_matrix)\n",
        "print(person_idx)"
      ],
      "metadata": {
        "colab": {
          "base_uri": "https://localhost:8080/"
        },
        "id": "BTdh4z-xAJIW",
        "outputId": "e00a8199-3c9a-4486-b726-4ac1227f0f27"
      },
      "execution_count": null,
      "outputs": [
        {
          "output_type": "stream",
          "name": "stdout",
          "text": [
            "person_idx: 3\n",
            "3\n"
          ]
        }
      ]
    },
    {
      "cell_type": "code",
      "source": [
        "square_matrix = [[0, 0, 1, 1], [0, 0, 1, 1], [1, 0, 0, 1], [1, 0, 0, 0]]\n",
        "person_idx = find_celebrity(square_matrix)\n",
        "print(person_idx)"
      ],
      "metadata": {
        "colab": {
          "base_uri": "https://localhost:8080/"
        },
        "id": "KBLcAIjfGgYF",
        "outputId": "5cee77a0-9d96-46fa-f61a-3dd261f163ae"
      },
      "execution_count": null,
      "outputs": [
        {
          "output_type": "stream",
          "name": "stdout",
          "text": [
            "person_idx: None\n",
            "-1\n"
          ]
        }
      ]
    },
    {
      "cell_type": "markdown",
      "source": [
        "## Time & Space Complexity of Solution 1"
      ],
      "metadata": {
        "id": "6100x0GdGpXG"
      }
    },
    {
      "cell_type": "markdown",
      "source": [
        "- Time Complexity:\n",
        "    - 1 Nested for loop of $n^2$ iterations with each iteration taking $O(1)$ time $\\implies$ Time Complexity = $O(n^2)$\n",
        "- Space Complexity:\n",
        "    - Extra dictionary `familiarity_data` of size `n` $\\implies$ Space Complexity = $O(n)$\n",
        "\n",
        "**Note**\n",
        "\n",
        "Extra variables `n, i, j, row, value, all_zero_row, person_idx` of constant space can be ignored."
      ],
      "metadata": {
        "id": "zbthnZytGpXM"
      }
    },
    {
      "cell_type": "markdown",
      "source": [
        "## Solution 2"
      ],
      "metadata": {
        "id": "39YcSFFFwk7J"
      }
    },
    {
      "cell_type": "markdown",
      "source": [
        "**Logic:**\n",
        "\n",
        "1. Push all rows in `square_matrix` to `stack`.\n",
        "2. Pop 2 rows from `stack`.\n",
        "3. If person_i knows person_j, person_i is not a celebrity & can be discarded\n",
        "4. Repeat the above steps till only a single person in stack\n",
        "5. Check whether that single person is a celebrity & return `person_idx`; else return -1"
      ],
      "metadata": {
        "id": "ycO4qMJuwk8b"
      }
    },
    {
      "cell_type": "code",
      "source": [
        "def find_celebrity(square_matrix):\n",
        "    stack = Stack()\n",
        "    n = len(square_matrix)\n",
        "    for person_idx in range(n):\n",
        "        stack.push(person_idx)\n",
        "\n",
        "    while stack.size >= 2:\n",
        "        person_i = stack.pop()\n",
        "        person_j = stack.pop()\n",
        "        if square_matrix[person_i][person_j] == 1:\n",
        "            stack.push(person_j)\n",
        "        elif square_matrix[person_j][person_i] == 1:\n",
        "            stack.push(person_i)\n",
        "\n",
        "    person_idx = stack.pop()\n",
        "    print(f\"person_idx: {person_idx}\")\n",
        "\n",
        "    if person_idx is not None:\n",
        "        for i in range(n):\n",
        "            if i != person_idx:\n",
        "                if square_matrix[person_idx][i] == 1 or square_matrix[i][person_idx] == 0:\n",
        "                    return -1\n",
        "\n",
        "        return person_idx\n",
        "    else:\n",
        "        return -1"
      ],
      "metadata": {
        "id": "mKZ6oxo4y9NB"
      },
      "execution_count": null,
      "outputs": []
    },
    {
      "cell_type": "markdown",
      "source": [
        "## Verification of Solution 2"
      ],
      "metadata": {
        "id": "NdiUN7Ru8jMg"
      }
    },
    {
      "cell_type": "code",
      "source": [
        "square_matrix = [[0, 0, 1, 0], [0, 0, 1, 0], [0, 0, 0, 0], [0, 0, 1, 0]]\n",
        "person_idx = find_celebrity(square_matrix)\n",
        "print(person_idx)"
      ],
      "metadata": {
        "colab": {
          "base_uri": "https://localhost:8080/"
        },
        "outputId": "4b76fe86-49b1-4e83-c209-3457a3dee4d8",
        "id": "VwCHIOdp8jMk"
      },
      "execution_count": null,
      "outputs": [
        {
          "output_type": "stream",
          "name": "stdout",
          "text": [
            "person_idx: 2\n",
            "2\n"
          ]
        }
      ]
    },
    {
      "cell_type": "code",
      "source": [
        "square_matrix = [[0, 0, 1, 0], [0, 0, 1, 0], [0, 1, 0, 0], [0, 0, 1, 0]]\n",
        "person_idx = find_celebrity(square_matrix)\n",
        "print(person_idx)"
      ],
      "metadata": {
        "colab": {
          "base_uri": "https://localhost:8080/"
        },
        "outputId": "676c8d82-2cbf-4ad6-9a18-a5687b0846e0",
        "id": "E3EmWv8O8jMm"
      },
      "execution_count": null,
      "outputs": [
        {
          "output_type": "stream",
          "name": "stdout",
          "text": [
            "Stack is Empty\n",
            "person_idx: None\n",
            "-1\n"
          ]
        }
      ]
    },
    {
      "cell_type": "code",
      "source": [
        "square_matrix = [[0, 0, 1, 1], [0, 0, 1, 1], [1, 0, 0, 1], [0, 0, 0, 0]]\n",
        "person_idx = find_celebrity(square_matrix)\n",
        "print(person_idx)"
      ],
      "metadata": {
        "colab": {
          "base_uri": "https://localhost:8080/"
        },
        "outputId": "8f9b2d77-2719-45ef-eed4-1cae14f35c57",
        "id": "gsuzAg908jMp"
      },
      "execution_count": null,
      "outputs": [
        {
          "output_type": "stream",
          "name": "stdout",
          "text": [
            "person_idx: 3\n",
            "3\n"
          ]
        }
      ]
    },
    {
      "cell_type": "code",
      "source": [
        "square_matrix = [[0, 0, 1, 1], [0, 0, 1, 1], [1, 0, 0, 1], [1, 0, 0, 0]]\n",
        "person_idx = find_celebrity(square_matrix)\n",
        "print(person_idx)"
      ],
      "metadata": {
        "colab": {
          "base_uri": "https://localhost:8080/"
        },
        "outputId": "dac9e151-5af6-478d-9d02-71cb1feedfe4",
        "id": "yufZTAoG8jMr"
      },
      "execution_count": null,
      "outputs": [
        {
          "output_type": "stream",
          "name": "stdout",
          "text": [
            "person_idx: 0\n",
            "-1\n"
          ]
        }
      ]
    },
    {
      "cell_type": "markdown",
      "source": [
        "## Time & Space Complexity of Solution 2"
      ],
      "metadata": {
        "id": "fx_60Hb1x4wS"
      }
    },
    {
      "cell_type": "markdown",
      "source": [
        "- Time Complexity:\n",
        "    - 2 for loops of $n$ iterations & 1 while loop of $\\frac {n}{2}$ iterations with each iteration taking $O(1)$ time $\\implies$ Time Complexity = $O(n)$\n",
        "- Space Complexity:\n",
        "    - Extra `stack` of size `n` $\\implies$ Space Complexity = $O(n)$\n",
        "\n",
        "**Note**\n",
        "\n",
        "Extra variables `n, person_idx, person_i, person_j, i` of constant space can be ignored."
      ],
      "metadata": {
        "id": "P9Wa_iO0x4wV"
      }
    },
    {
      "cell_type": "markdown",
      "source": [
        "## Solution 3"
      ],
      "metadata": {
        "id": "dcYqLhWbxyrR"
      }
    },
    {
      "cell_type": "markdown",
      "source": [
        "**Logic:**\n",
        "\n",
        "1. Push all rows in `square_matrix` to `stack`.\n",
        "2. Pop 2 rows from `stack`.\n",
        "3. If person_i do not know person_j, person_j is not a celebrity & can be discarded\n",
        "4. Similarly, if person_j do not know person_i, person_i is not a celebrity & can be discarded\n",
        "4. Repeat the above steps till only a single person in stack\n",
        "5. Check whether that single person is a celebrity & return `person_idx`; else return -1"
      ],
      "metadata": {
        "id": "V_LMjRAYxyrb"
      }
    },
    {
      "cell_type": "code",
      "source": [
        "def find_celebrity(square_matrix):\n",
        "    stack = Stack()\n",
        "    n = len(square_matrix)\n",
        "    for person_idx in range(n):\n",
        "        stack.push(person_idx)\n",
        "\n",
        "    while stack.size >= 2:\n",
        "        person_i = stack.pop()\n",
        "        person_j = stack.pop()\n",
        "        if square_matrix[person_i][person_j] == 0:\n",
        "            # person_j is not a celebrity\n",
        "            stack.push(person_i)\n",
        "        elif square_matrix[person_j][person_i] == 0:\n",
        "            # person_i is not a celebrity\n",
        "            stack.push(person_j)\n",
        "\n",
        "    person_idx = stack.pop()\n",
        "    print(f\"person_idx: {person_idx}\")\n",
        "\n",
        "    if person_idx is not None:\n",
        "        for i in range(n):\n",
        "            if i != person_idx:\n",
        "                if square_matrix[person_idx][i] == 1 or square_matrix[i][person_idx] == 0:\n",
        "                    return -1\n",
        "\n",
        "        return person_idx\n",
        "    else:\n",
        "        return -1"
      ],
      "metadata": {
        "id": "Z9Mggt_bxyrd"
      },
      "execution_count": null,
      "outputs": []
    },
    {
      "cell_type": "markdown",
      "source": [
        "## Verification of Solution 3"
      ],
      "metadata": {
        "id": "O-W7WPOYxyrf"
      }
    },
    {
      "cell_type": "code",
      "source": [
        "square_matrix = [[0, 0, 1, 0], [0, 0, 1, 0], [0, 0, 0, 0], [0, 0, 1, 0]]\n",
        "person_idx = find_celebrity(square_matrix)\n",
        "print(person_idx)"
      ],
      "metadata": {
        "colab": {
          "base_uri": "https://localhost:8080/"
        },
        "outputId": "621d8bd2-c25a-4080-8f29-ff4356d6d5c9",
        "id": "KRkclGoZxyrg"
      },
      "execution_count": null,
      "outputs": [
        {
          "output_type": "stream",
          "name": "stdout",
          "text": [
            "person_idx: 2\n",
            "2\n"
          ]
        }
      ]
    },
    {
      "cell_type": "code",
      "source": [
        "square_matrix = [[0, 0, 1, 0], [0, 0, 1, 0], [0, 1, 0, 0], [0, 0, 1, 0]]\n",
        "person_idx = find_celebrity(square_matrix)\n",
        "print(person_idx)"
      ],
      "metadata": {
        "colab": {
          "base_uri": "https://localhost:8080/"
        },
        "outputId": "a6f80d91-7a0f-4284-95d5-8f66615f040d",
        "id": "Oz4GSSn8xyri"
      },
      "execution_count": null,
      "outputs": [
        {
          "output_type": "stream",
          "name": "stdout",
          "text": [
            "person_idx: 0\n",
            "-1\n"
          ]
        }
      ]
    },
    {
      "cell_type": "code",
      "source": [
        "square_matrix = [[0, 0, 1, 1], [0, 0, 1, 1], [1, 0, 0, 1], [0, 0, 0, 0]]\n",
        "person_idx = find_celebrity(square_matrix)\n",
        "print(person_idx)"
      ],
      "metadata": {
        "colab": {
          "base_uri": "https://localhost:8080/"
        },
        "outputId": "10c90c65-1641-4ff9-dad4-a6ae8d083267",
        "id": "-KrFNEAtxyrl"
      },
      "execution_count": null,
      "outputs": [
        {
          "output_type": "stream",
          "name": "stdout",
          "text": [
            "person_idx: 3\n",
            "3\n"
          ]
        }
      ]
    },
    {
      "cell_type": "code",
      "source": [
        "square_matrix = [[0, 0, 1, 1], [0, 0, 1, 1], [1, 0, 0, 1], [1, 0, 0, 0]]\n",
        "person_idx = find_celebrity(square_matrix)\n",
        "print(person_idx)"
      ],
      "metadata": {
        "colab": {
          "base_uri": "https://localhost:8080/"
        },
        "outputId": "38fa28ee-508f-4509-f36b-22310ea588de",
        "id": "pk27SX8-xyrp"
      },
      "execution_count": null,
      "outputs": [
        {
          "output_type": "stream",
          "name": "stdout",
          "text": [
            "Stack is Empty\n",
            "person_idx: None\n",
            "-1\n"
          ]
        }
      ]
    },
    {
      "cell_type": "markdown",
      "source": [
        "## Time & Space Complexity of Solution 3"
      ],
      "metadata": {
        "id": "gm6A--RQzXcd"
      }
    },
    {
      "cell_type": "markdown",
      "source": [
        "- Time Complexity:\n",
        "    - 2 for loops of $n$ iterations & 1 while loop of $\\frac {n}{2}$ iterations with each iteration taking $O(1)$ time $\\implies$ Time Complexity = $O(n)$\n",
        "- Space Complexity:\n",
        "    - Extra `stack` of size `n` $\\implies$ Space Complexity = $O(n)$\n",
        "\n",
        "**Note**\n",
        "\n",
        "Extra variables `n, person_idx, person_i, person_j, i` of constant space can be ignored."
      ],
      "metadata": {
        "id": "AFzorMp6zXcm"
      }
    },
    {
      "cell_type": "markdown",
      "source": [
        "![rainbow](https://github.com/ancilcleetus/My-Learning-Journey/assets/25684256/839c3524-2a1d-4779-85a0-83c562e1e5e5)"
      ],
      "metadata": {
        "id": "zbzZhtYZ1Yqf"
      }
    },
    {
      "cell_type": "markdown",
      "source": [
        "# Q4. [Valid Parentheses](https://leetcode.com/problems/valid-parentheses/); Difficulty: ${\\color{green}{Easy}}$"
      ],
      "metadata": {
        "id": "7o8UaPq81Yqn"
      }
    },
    {
      "cell_type": "markdown",
      "source": [
        "## Description"
      ],
      "metadata": {
        "id": "XHhDcjdi1Yqp"
      }
    },
    {
      "cell_type": "markdown",
      "source": [
        "Given a string `s` containing just the characters `'(', ')', '{', '}', '[' and ']'`, determine if the input string is valid.\n",
        "\n",
        "An input string is valid if:\n",
        "\n",
        "1. Open brackets must be closed by the same type of brackets.\n",
        "\n",
        "2. Open brackets must be closed in the correct order.\n",
        "\n",
        "3. Every close bracket has a corresponding open bracket of the same type.\n",
        "\n",
        "\n",
        "**Example 1**:\n",
        "\n",
        "- **Input**: `s = \"()\"`\n",
        "- **Output**: `true`\n",
        "\n",
        "**Example 2**:\n",
        "\n",
        "- **Input**: `s = \"()[]{}\"`\n",
        "- **Output**: `true`\n",
        "\n",
        "**Example 3**:\n",
        "\n",
        "- **Input**: `s = \"(]\"`\n",
        "- **Output**: `false`\n",
        "\n",
        "**Example 4**:\n",
        "\n",
        "- **Input**: `s = \"([])\"`\n",
        "- **Output**: `true`\n",
        "\n",
        "\n",
        "**Constraints**\n",
        "\n",
        "- `1 <= s.length <= 10^4`\n",
        "\n",
        "- `s` consists of parentheses only `'()[]{}'`"
      ],
      "metadata": {
        "id": "r6mCfdwF1Yqq"
      }
    },
    {
      "cell_type": "markdown",
      "source": [
        "## Solution 1"
      ],
      "metadata": {
        "id": "07KFwsm-1Yqu"
      }
    },
    {
      "cell_type": "markdown",
      "source": [
        "**Logic:**\n",
        "\n",
        "1. **Initialize a stack:** A stack is used to store opening parentheses encountered while iterating through the string.\n",
        "\n",
        "2. **Define a mapping:** A dictionary `mapping` is created to map closing parentheses to their corresponding opening parentheses.\n",
        "\n",
        "3. **Iterate through the string:**\n",
        "\n",
        "    - If the current character is an opening parenthesis, push it onto the stack.\n",
        "    \n",
        "    - If the current character is a closing parenthesis:\n",
        "        - Check if the stack is empty. If it's empty, it means there's no corresponding opening parenthesis, so return `False`.   \n",
        "\n",
        "        - Pop the top element from the stack and compare it with the mapping of the current closing parenthesis. If they don't match, it means the parentheses are not balanced, so return `False`.\n",
        "\n",
        "4. **Check if the stack is empty:** After iterating through the entire string, if the stack is empty, it means all parentheses were balanced, so return `True`. Otherwise, return `False`."
      ],
      "metadata": {
        "id": "qzIKX_eu1Yqv"
      }
    },
    {
      "cell_type": "code",
      "source": [
        "def check_valid_parentheses(s):\n",
        "    stack = Stack()\n",
        "    mapping = {\")\": \"(\", \"}\": \"{\", \"]\": \"[\"}\n",
        "    for char in s:\n",
        "        if char not in mapping:\n",
        "            stack.push(char)\n",
        "        else:\n",
        "            if stack.isEmpty() or stack.pop() != mapping[char]:\n",
        "                return False\n",
        "\n",
        "    return stack.isEmpty()"
      ],
      "metadata": {
        "id": "mrl6tCPb4Jwy"
      },
      "execution_count": null,
      "outputs": []
    },
    {
      "cell_type": "markdown",
      "source": [
        "## Verification of Solution 1"
      ],
      "metadata": {
        "id": "QFv9eMQh43hD"
      }
    },
    {
      "cell_type": "code",
      "source": [
        "s = \"()\"\n",
        "print(check_valid_parentheses(s))"
      ],
      "metadata": {
        "colab": {
          "base_uri": "https://localhost:8080/"
        },
        "outputId": "2ce58a1b-f61f-478b-f1fc-5ca042c05057",
        "id": "VlFe2ztz43hG"
      },
      "execution_count": null,
      "outputs": [
        {
          "output_type": "stream",
          "name": "stdout",
          "text": [
            "True\n"
          ]
        }
      ]
    },
    {
      "cell_type": "code",
      "source": [
        "s = \"()[]{}\"\n",
        "print(check_valid_parentheses(s))"
      ],
      "metadata": {
        "colab": {
          "base_uri": "https://localhost:8080/"
        },
        "id": "D24whZQD5ENX",
        "outputId": "cd9c7af3-1eb9-4f40-dbb6-9eace3d30d5b"
      },
      "execution_count": null,
      "outputs": [
        {
          "output_type": "stream",
          "name": "stdout",
          "text": [
            "True\n"
          ]
        }
      ]
    },
    {
      "cell_type": "code",
      "source": [
        "s = \"(]\"\n",
        "print(check_valid_parentheses(s))"
      ],
      "metadata": {
        "colab": {
          "base_uri": "https://localhost:8080/"
        },
        "id": "PNHL1ABS5KDK",
        "outputId": "530d5cc4-08e1-4451-9585-a9ed4f12716c"
      },
      "execution_count": null,
      "outputs": [
        {
          "output_type": "stream",
          "name": "stdout",
          "text": [
            "False\n"
          ]
        }
      ]
    },
    {
      "cell_type": "code",
      "source": [
        "s = \"([])\"\n",
        "print(check_valid_parentheses(s))"
      ],
      "metadata": {
        "colab": {
          "base_uri": "https://localhost:8080/"
        },
        "id": "57PDQRzL5O1V",
        "outputId": "77f0003f-7411-4a4a-e950-5c664c761269"
      },
      "execution_count": null,
      "outputs": [
        {
          "output_type": "stream",
          "name": "stdout",
          "text": [
            "True\n"
          ]
        }
      ]
    },
    {
      "cell_type": "markdown",
      "source": [
        "## Time & Space Complexity of Solution 1"
      ],
      "metadata": {
        "id": "vh1Uq01943hM"
      }
    },
    {
      "cell_type": "markdown",
      "source": [
        "- Time Complexity:\n",
        "    - 1 for loop of $n$ iterations with each iteration taking $O(1)$ time $\\implies$ Time Complexity = $O(n)$\n",
        "- Space Complexity:\n",
        "    - Extra `stack` of size `n` $\\implies$ Space Complexity = $O(n)$\n",
        "\n",
        "**Note**\n",
        "\n",
        "Extra variables `mapping, char` of constant space can be ignored."
      ],
      "metadata": {
        "id": "hwPPcYW-43hN"
      }
    },
    {
      "cell_type": "markdown",
      "source": [
        "![rainbow](https://github.com/ancilcleetus/My-Learning-Journey/assets/25684256/839c3524-2a1d-4779-85a0-83c562e1e5e5)"
      ],
      "metadata": {
        "id": "qqv0L0R9dyKJ"
      }
    },
    {
      "cell_type": "markdown",
      "source": [
        "Difficulty: ${\\color{green}{Easy}}$\n",
        "Difficulty: ${\\color{orange}{Medium}}$\n",
        "Difficulty: ${\\color{red}{Hard}}$"
      ],
      "metadata": {
        "id": "Pf0qrlJcsUj9"
      }
    },
    {
      "cell_type": "code",
      "source": [
        "# Deep Learning as subset of ML\n",
        "\n",
        "from IPython import display\n",
        "display.Image(\"data/images/02-DSA-Challenges/DSA_Challenges_03_Stacks-01.jpg\")"
      ],
      "metadata": {
        "id": "juNAxVBFg7sw"
      },
      "execution_count": null,
      "outputs": []
    },
    {
      "cell_type": "markdown",
      "source": [
        "![rainbow](https://github.com/ancilcleetus/My-Learning-Journey/assets/25684256/839c3524-2a1d-4779-85a0-83c562e1e5e5)"
      ],
      "metadata": {
        "id": "U897-NGnYhHk"
      }
    }
  ]
}