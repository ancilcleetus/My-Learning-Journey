{
  "nbformat": 4,
  "nbformat_minor": 0,
  "metadata": {
    "colab": {
      "provenance": []
    },
    "kernelspec": {
      "name": "python3",
      "display_name": "Python 3"
    },
    "language_info": {
      "name": "python"
    }
  },
  "cells": [
    {
      "cell_type": "markdown",
      "source": [
        "![rainbow](https://github.com/ancilcleetus/My-Learning-Journey/assets/25684256/839c3524-2a1d-4779-85a0-83c562e1e5e5)"
      ],
      "metadata": {
        "id": "ZdyoPoO4-RqG"
      }
    },
    {
      "cell_type": "markdown",
      "source": [
        "# Linked List based `Stack` Class"
      ],
      "metadata": {
        "id": "kmCEOHb6pg9Q"
      }
    },
    {
      "cell_type": "markdown",
      "source": [
        "A `Stack` class was created from scratch (Refer my [Stacks Notebook](https://github.com/ancilcleetus/My-Learning-Journey/blob/main/Data-Structures-and-Algorithms/01-DSA-Foundations/DSA_06_Stacks.ipynb)). We will use this `Stack` class for the coding challenges in this Notebook. This class supports below methods:\n",
        "\n",
        "1. **`push(value)`:** Add an element to the top of the stack\n",
        "\n",
        "2. **`pop()`:** Remove and return the element from the top of the stack\n",
        "\n",
        "3. **`peek()`:** Return the top element without removing it\n",
        "\n",
        "4. **`isEmpty()`:** Check if the stack is empty\n",
        "\n",
        "5. **size:** Return the number of elements in the stack\n",
        "\n",
        "6. **Traverse (Usage: `print()`):** Print all nodes using magic method `__str__()`"
      ],
      "metadata": {
        "id": "Yw2KvijLIZ7x"
      }
    },
    {
      "cell_type": "markdown",
      "source": [
        "A Linked List with all operations done only on the head node can be called as a Stack."
      ],
      "metadata": {
        "id": "iDb4GkHtrLbn"
      }
    },
    {
      "cell_type": "code",
      "source": [
        "class Node:\n",
        "\n",
        "    def __init__(self, data):\n",
        "        self.data = data\n",
        "        self.next = None"
      ],
      "metadata": {
        "id": "u1auTApfGmw-"
      },
      "execution_count": null,
      "outputs": []
    },
    {
      "cell_type": "markdown",
      "source": [
        "`Stack` Class without `size` attribute is given below:"
      ],
      "metadata": {
        "id": "6oH4Dvo7zhGE"
      }
    },
    {
      "cell_type": "code",
      "source": [
        "class Stack:\n",
        "\n",
        "    def __init__(self):\n",
        "        self.top = None\n",
        "\n",
        "    def isEmpty(self):\n",
        "        return self.top == None\n",
        "\n",
        "    def push(self, value):\n",
        "        new_node = Node(value)\n",
        "        # Make connection\n",
        "        new_node.next = self.top\n",
        "        # Reassign top\n",
        "        self.top = new_node\n",
        "\n",
        "    def __str__(self):\n",
        "        current = self.top\n",
        "        string = \"\"\n",
        "        while current is not None:\n",
        "            string += str(current.data) + \"\\n\"\n",
        "            current = current.next\n",
        "\n",
        "        return string\n",
        "\n",
        "    def peek(self):\n",
        "        if self.isEmpty():\n",
        "            print(\"Stack is Empty\")\n",
        "            return\n",
        "        return self.top.data\n",
        "\n",
        "    def pop(self):\n",
        "        if self.isEmpty():\n",
        "            print(\"Stack is Empty\")\n",
        "            return\n",
        "        temp = self.top\n",
        "        self.top = self.top.next\n",
        "        temp.next = None\n",
        "        return temp.data"
      ],
      "metadata": {
        "id": "59YsLBbqqvzN"
      },
      "execution_count": null,
      "outputs": []
    },
    {
      "cell_type": "markdown",
      "source": [
        "`Stack` Class with `size` attribute is given below:"
      ],
      "metadata": {
        "id": "s6lXxuuBzrto"
      }
    },
    {
      "cell_type": "code",
      "source": [
        "class Stack:\n",
        "\n",
        "    def __init__(self):\n",
        "        self.top = None\n",
        "        self.size = 0\n",
        "\n",
        "    def isEmpty(self):\n",
        "        return self.size == 0\n",
        "\n",
        "    def push(self, value):\n",
        "        new_node = Node(value)\n",
        "        # Make connection\n",
        "        new_node.next = self.top\n",
        "        # Reassign top\n",
        "        self.top = new_node\n",
        "        self.size += 1\n",
        "\n",
        "    def __str__(self):\n",
        "        current = self.top\n",
        "        string = \"\"\n",
        "        while current is not None:\n",
        "            string += str(current.data) + \"\\n\"\n",
        "            current = current.next\n",
        "\n",
        "        return string\n",
        "\n",
        "    def peek(self):\n",
        "        if self.isEmpty():\n",
        "            print(\"Stack is Empty\")\n",
        "            return\n",
        "        return self.top.data\n",
        "\n",
        "    def pop(self):\n",
        "        if self.isEmpty():\n",
        "            print(\"Stack is Empty\")\n",
        "            return\n",
        "        temp = self.top\n",
        "        self.top = self.top.next\n",
        "        temp.next = None\n",
        "        self.size -= 1\n",
        "        return temp.data"
      ],
      "metadata": {
        "id": "MYYZV9UsqU53"
      },
      "execution_count": null,
      "outputs": []
    },
    {
      "cell_type": "markdown",
      "source": [
        "![rainbow](https://github.com/ancilcleetus/My-Learning-Journey/assets/25684256/839c3524-2a1d-4779-85a0-83c562e1e5e5)"
      ],
      "metadata": {
        "id": "U897-NGnYhHk"
      }
    },
    {
      "cell_type": "markdown",
      "source": [
        "Difficulty: ${\\color{green}{Easy}}$\n",
        "Difficulty: ${\\color{orange}{Medium}}$\n",
        "Difficulty: ${\\color{red}{Hard}}$"
      ],
      "metadata": {
        "id": "Pf0qrlJcsUj9"
      }
    },
    {
      "cell_type": "code",
      "source": [
        "# Deep Learning as subset of ML\n",
        "\n",
        "from IPython import display\n",
        "display.Image(\"data/images/DL_01_Intro-01-DL-subset-of-ML.jpg\")"
      ],
      "metadata": {
        "id": "juNAxVBFg7sw"
      },
      "execution_count": null,
      "outputs": []
    },
    {
      "cell_type": "markdown",
      "source": [
        "![rainbow](https://github.com/ancilcleetus/My-Learning-Journey/assets/25684256/839c3524-2a1d-4779-85a0-83c562e1e5e5)"
      ],
      "metadata": {
        "id": "qqv0L0R9dyKJ"
      }
    }
  ]
}