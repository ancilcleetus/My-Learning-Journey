{
  "nbformat": 4,
  "nbformat_minor": 0,
  "metadata": {
    "colab": {
      "provenance": []
    },
    "kernelspec": {
      "name": "python3",
      "display_name": "Python 3"
    },
    "language_info": {
      "name": "python"
    }
  },
  "cells": [
    {
      "cell_type": "markdown",
      "source": [
        "![rainbow](https://github.com/ancilcleetus/My-Learning-Journey/assets/25684256/839c3524-2a1d-4779-85a0-83c562e1e5e5)"
      ],
      "metadata": {
        "id": "ZdyoPoO4-RqG"
      }
    },
    {
      "cell_type": "markdown",
      "source": [
        "# Linked List based `Stack` Class"
      ],
      "metadata": {
        "id": "kmCEOHb6pg9Q"
      }
    },
    {
      "cell_type": "markdown",
      "source": [
        "A `Stack` class was created from scratch (Refer my [Stacks Notebook](https://github.com/ancilcleetus/My-Learning-Journey/blob/main/Data-Structures-and-Algorithms/01-DSA-Foundations/DSA_06_Stacks.ipynb)). We will use this `Stack` class for the coding challenges in this Notebook. This class supports below methods:\n",
        "\n",
        "1. **`push(value)`:** Add an element to the top of the stack\n",
        "\n",
        "2. **`pop()`:** Remove and return the element from the top of the stack\n",
        "\n",
        "3. **`peek()`:** Return the top element without removing it\n",
        "\n",
        "4. **`isEmpty()`:** Check if the stack is empty\n",
        "\n",
        "5. **size:** Return the number of elements in the stack\n",
        "\n",
        "6. **Traverse (Usage: `print()`):** Print all nodes using magic method `__str__()`"
      ],
      "metadata": {
        "id": "Yw2KvijLIZ7x"
      }
    },
    {
      "cell_type": "markdown",
      "source": [
        "A Linked List with all operations done only on the head node can be called as a Stack."
      ],
      "metadata": {
        "id": "iDb4GkHtrLbn"
      }
    },
    {
      "cell_type": "code",
      "source": [
        "class Node:\n",
        "\n",
        "    def __init__(self, data):\n",
        "        self.data = data\n",
        "        self.next = None"
      ],
      "metadata": {
        "id": "u1auTApfGmw-"
      },
      "execution_count": 1,
      "outputs": []
    },
    {
      "cell_type": "markdown",
      "source": [
        "`Stack` Class without `size` attribute is given below:"
      ],
      "metadata": {
        "id": "6oH4Dvo7zhGE"
      }
    },
    {
      "cell_type": "code",
      "source": [
        "class Stack:\n",
        "\n",
        "    def __init__(self):\n",
        "        self.top = None\n",
        "\n",
        "    def isEmpty(self):\n",
        "        return self.top == None\n",
        "\n",
        "    def push(self, value):\n",
        "        new_node = Node(value)\n",
        "        # Make connection\n",
        "        new_node.next = self.top\n",
        "        # Reassign top\n",
        "        self.top = new_node\n",
        "\n",
        "    def __str__(self):\n",
        "        current = self.top\n",
        "        string = \"\"\n",
        "        while current is not None:\n",
        "            string += str(current.data) + \"\\n\"\n",
        "            current = current.next\n",
        "\n",
        "        return string\n",
        "\n",
        "    def peek(self):\n",
        "        if self.isEmpty():\n",
        "            print(\"Stack is Empty\")\n",
        "            return\n",
        "        return self.top.data\n",
        "\n",
        "    def pop(self):\n",
        "        if self.isEmpty():\n",
        "            print(\"Stack is Empty\")\n",
        "            return\n",
        "        temp = self.top\n",
        "        self.top = self.top.next\n",
        "        temp.next = None\n",
        "        return temp.data"
      ],
      "metadata": {
        "id": "59YsLBbqqvzN"
      },
      "execution_count": 2,
      "outputs": []
    },
    {
      "cell_type": "markdown",
      "source": [
        "`Stack` Class with `size` attribute is given below:"
      ],
      "metadata": {
        "id": "s6lXxuuBzrto"
      }
    },
    {
      "cell_type": "code",
      "source": [
        "class Stack:\n",
        "\n",
        "    def __init__(self):\n",
        "        self.top = None\n",
        "        self.size = 0\n",
        "\n",
        "    def isEmpty(self):\n",
        "        return self.size == 0\n",
        "\n",
        "    def push(self, value):\n",
        "        new_node = Node(value)\n",
        "        # Make connection\n",
        "        new_node.next = self.top\n",
        "        # Reassign top\n",
        "        self.top = new_node\n",
        "        self.size += 1\n",
        "\n",
        "    def __str__(self):\n",
        "        current = self.top\n",
        "        string = \"\"\n",
        "        while current is not None:\n",
        "            string += str(current.data) + \"\\n\"\n",
        "            current = current.next\n",
        "\n",
        "        return string\n",
        "\n",
        "    def peek(self):\n",
        "        if self.isEmpty():\n",
        "            print(\"Stack is Empty\")\n",
        "            return\n",
        "        return self.top.data\n",
        "\n",
        "    def pop(self):\n",
        "        if self.isEmpty():\n",
        "            print(\"Stack is Empty\")\n",
        "            return\n",
        "        temp = self.top\n",
        "        self.top = self.top.next\n",
        "        temp.next = None\n",
        "        self.size -= 1\n",
        "        return temp.data"
      ],
      "metadata": {
        "id": "MYYZV9UsqU53"
      },
      "execution_count": null,
      "outputs": []
    },
    {
      "cell_type": "markdown",
      "source": [
        "![rainbow](https://github.com/ancilcleetus/My-Learning-Journey/assets/25684256/839c3524-2a1d-4779-85a0-83c562e1e5e5)"
      ],
      "metadata": {
        "id": "YBmYBnc1GcCM"
      }
    },
    {
      "cell_type": "markdown",
      "source": [
        "# Q1. String Reversal; Difficulty: ${\\color{green}{Easy}}$"
      ],
      "metadata": {
        "id": "bKim3KwyTp11"
      }
    },
    {
      "cell_type": "markdown",
      "source": [
        "## Description"
      ],
      "metadata": {
        "id": "3oz9rmpktIMI"
      }
    },
    {
      "cell_type": "markdown",
      "source": [
        "Write a Python program to reverse the given string using Stack.\n",
        "\n",
        "**Example 1**:\n",
        "\n",
        "- **Input**: `string = \"Hello World\"`\n",
        "- **Output**: `reversed_string = \"dlroW olleH\"`\n",
        "\n",
        "**Example 2**:\n",
        "\n",
        "- **Input**: `string = \"Banana\"`\n",
        "- **Output**: `reversed_string = \"ananaB\"`\n",
        "\n",
        "**Example 3**:\n",
        "\n",
        "- **Input**: `string = \"Malayalam\"`\n",
        "- **Output**: `reversed_string = \"malayalaM\"`\n",
        "\n",
        "\n",
        "**Constraints**:\n",
        "\n",
        "- Assume that the Stack is initially empty."
      ],
      "metadata": {
        "id": "V7AZ2xLRB6tf"
      }
    },
    {
      "cell_type": "markdown",
      "source": [
        "## Solution 1"
      ],
      "metadata": {
        "id": "Qdea0Mu_faS6"
      }
    },
    {
      "cell_type": "code",
      "source": [
        "def reverse_string(stack, string):\n",
        "    for char in string:\n",
        "        stack.push(char)\n",
        "\n",
        "    reversed_string = \"\"\n",
        "    while not stack.isEmpty():\n",
        "        reversed_string += stack.pop()\n",
        "\n",
        "    return reversed_string"
      ],
      "metadata": {
        "id": "bGy0zOAJC2u5"
      },
      "execution_count": null,
      "outputs": []
    },
    {
      "cell_type": "markdown",
      "source": [
        "## Verification of Solution 1"
      ],
      "metadata": {
        "id": "2Nem_kJFPuRo"
      }
    },
    {
      "cell_type": "code",
      "source": [
        "s = Stack()\n",
        "string = \"Hello World\"\n",
        "reversed_string = reverse_string(s, string)\n",
        "print(reversed_string)"
      ],
      "metadata": {
        "colab": {
          "base_uri": "https://localhost:8080/"
        },
        "id": "BfyxLd17DV5V",
        "outputId": "4cc08b55-c859-46cf-a9ba-aa3de64a3db6"
      },
      "execution_count": null,
      "outputs": [
        {
          "output_type": "stream",
          "name": "stdout",
          "text": [
            "dlroW olleH\n"
          ]
        }
      ]
    },
    {
      "cell_type": "code",
      "source": [
        "s = Stack()\n",
        "string = \"Banana\"\n",
        "reversed_string = reverse_string(s, string)\n",
        "print(reversed_string)"
      ],
      "metadata": {
        "colab": {
          "base_uri": "https://localhost:8080/"
        },
        "id": "qRwg-tr0E26V",
        "outputId": "806b808d-1c5f-43d9-a91f-d444fe452353"
      },
      "execution_count": null,
      "outputs": [
        {
          "output_type": "stream",
          "name": "stdout",
          "text": [
            "ananaB\n"
          ]
        }
      ]
    },
    {
      "cell_type": "code",
      "source": [
        "s = Stack()\n",
        "string = \"Malayalam\"\n",
        "reversed_string = reverse_string(s, string)\n",
        "print(reversed_string)"
      ],
      "metadata": {
        "colab": {
          "base_uri": "https://localhost:8080/"
        },
        "id": "E-09JXGIE3-D",
        "outputId": "0d86783c-4f7b-4de7-e3cc-76b94c49565a"
      },
      "execution_count": null,
      "outputs": [
        {
          "output_type": "stream",
          "name": "stdout",
          "text": [
            "malayalaM\n"
          ]
        }
      ]
    },
    {
      "cell_type": "code",
      "source": [
        "s = Stack()\n",
        "s.push(\"H\")\n",
        "s.push(\"e\")\n",
        "s.push(\"l\")\n",
        "s.push(\"l\")\n",
        "s.push(\"0\")\n",
        "string = \"Malayalam\"\n",
        "reversed_string = reverse_string(s, string)\n",
        "print(reversed_string)"
      ],
      "metadata": {
        "colab": {
          "base_uri": "https://localhost:8080/"
        },
        "outputId": "a988232a-2ef5-4958-99e4-2cdebb32ee76",
        "id": "Hpx5G3M9NW0W"
      },
      "execution_count": null,
      "outputs": [
        {
          "output_type": "stream",
          "name": "stdout",
          "text": [
            "malayalaM0lleH\n"
          ]
        }
      ]
    },
    {
      "cell_type": "markdown",
      "source": [
        "## Time & Space Complexity of Solution 1"
      ],
      "metadata": {
        "id": "KtuGf4GwVTcw"
      }
    },
    {
      "cell_type": "markdown",
      "source": [
        "Let $n$ be the number of characters in the input string.\n",
        "\n",
        "- Time Complexity:\n",
        "    - 1 for loop and 1 while loop each of $n$ iterations with each iteration taking $O(1)$ time $\\implies$ Time Complexity = $O(n)$\n",
        "- Space Complexity:\n",
        "    - Extra stack of size `n` & `reversed_string` of size `n` $\\implies$ Space Complexity = $O(n)$\n",
        "\n",
        "**Note**\n",
        "\n",
        "Extra variable `char` of constant space can be ignored."
      ],
      "metadata": {
        "id": "JYHMzq2GiJ1c"
      }
    },
    {
      "cell_type": "markdown",
      "source": [
        "## Solution 2"
      ],
      "metadata": {
        "id": "PT-Oasg7MKQU"
      }
    },
    {
      "cell_type": "markdown",
      "source": [
        "**Logic:**\n",
        "\n",
        "Above solution will not work if stack is initially not empty. In the below solution, we take care of that by running 2nd for loop `length` times where `length` = no of characters in `string`."
      ],
      "metadata": {
        "id": "6dQDaUi5MwDF"
      }
    },
    {
      "cell_type": "code",
      "source": [
        "def reverse_string(stack, string):\n",
        "    length = len(string)\n",
        "    for char in string:\n",
        "        stack.push(char)\n",
        "\n",
        "    reversed_string = \"\"\n",
        "    for i in range(0, length):\n",
        "        reversed_string += stack.pop()\n",
        "\n",
        "    return reversed_string"
      ],
      "metadata": {
        "id": "4JmZqoUBMKQi"
      },
      "execution_count": null,
      "outputs": []
    },
    {
      "cell_type": "markdown",
      "source": [
        "## Verification of Solution 2"
      ],
      "metadata": {
        "id": "aNVl7suSMKQt"
      }
    },
    {
      "cell_type": "code",
      "source": [
        "s = Stack()\n",
        "string = \"Hello World\"\n",
        "reversed_string = reverse_string(s, string)\n",
        "print(reversed_string)"
      ],
      "metadata": {
        "colab": {
          "base_uri": "https://localhost:8080/"
        },
        "outputId": "cac68de4-161f-4dc7-a57b-991a15a20a96",
        "id": "Kw2cGujxMKQv"
      },
      "execution_count": null,
      "outputs": [
        {
          "output_type": "stream",
          "name": "stdout",
          "text": [
            "dlroW olleH\n"
          ]
        }
      ]
    },
    {
      "cell_type": "code",
      "source": [
        "s = Stack()\n",
        "string = \"Banana\"\n",
        "reversed_string = reverse_string(s, string)\n",
        "print(reversed_string)"
      ],
      "metadata": {
        "colab": {
          "base_uri": "https://localhost:8080/"
        },
        "outputId": "ad4ff604-abcd-4001-cbe8-938235ccc005",
        "id": "ww4SK2AMMKQz"
      },
      "execution_count": null,
      "outputs": [
        {
          "output_type": "stream",
          "name": "stdout",
          "text": [
            "ananaB\n"
          ]
        }
      ]
    },
    {
      "cell_type": "code",
      "source": [
        "s = Stack()\n",
        "string = \"Malayalam\"\n",
        "reversed_string = reverse_string(s, string)\n",
        "print(reversed_string)"
      ],
      "metadata": {
        "colab": {
          "base_uri": "https://localhost:8080/"
        },
        "outputId": "bab15041-ccf1-48b5-d107-64d185168528",
        "id": "De3hTyjrMKQ2"
      },
      "execution_count": null,
      "outputs": [
        {
          "output_type": "stream",
          "name": "stdout",
          "text": [
            "malayalaM\n"
          ]
        }
      ]
    },
    {
      "cell_type": "code",
      "source": [
        "s = Stack()\n",
        "s.push(\"H\")\n",
        "s.push(\"e\")\n",
        "s.push(\"l\")\n",
        "s.push(\"l\")\n",
        "s.push(\"0\")\n",
        "string = \"Malayalam\"\n",
        "reversed_string = reverse_string(s, string)\n",
        "print(reversed_string)"
      ],
      "metadata": {
        "colab": {
          "base_uri": "https://localhost:8080/"
        },
        "id": "C-opY0evNkMd",
        "outputId": "8b4de9bc-3751-4d3d-f9a0-1d7e9fd18693"
      },
      "execution_count": null,
      "outputs": [
        {
          "output_type": "stream",
          "name": "stdout",
          "text": [
            "malayalaM\n"
          ]
        }
      ]
    },
    {
      "cell_type": "markdown",
      "source": [
        "## Time & Space Complexity of Solution 2"
      ],
      "metadata": {
        "id": "ZVJ6xuRFMKQ4"
      }
    },
    {
      "cell_type": "markdown",
      "source": [
        "Let $n$ be the number of characters in the input string.\n",
        "\n",
        "- Time Complexity:\n",
        "    - 2 for loops each of $n$ iterations with each iteration taking $O(1)$ time $\\implies$ Time Complexity = $O(n)$\n",
        "- Space Complexity:\n",
        "    - Extra stack of size `n` & `reversed_string` of size `n` $\\implies$ Space Complexity = $O(n)$\n",
        "\n",
        "**Note**\n",
        "\n",
        "Extra variables `length, char` of constant space can be ignored."
      ],
      "metadata": {
        "id": "3SVIPBGyMKQ6"
      }
    },
    {
      "cell_type": "markdown",
      "source": [
        "**Important**\n",
        "\n",
        "Because of Space Complexity of $O(n)$, stacks are never used to reverse a string since stack size will increase as string size is increased. A larger string will take a larger memory which is not good. The optimum solution for String Reversal will be in place replacing of characters which will not take additional space when string size is increased i.e. Space Complexity of $O(1)$."
      ],
      "metadata": {
        "id": "QtUjIxL1T0VU"
      }
    },
    {
      "cell_type": "markdown",
      "source": [
        "![rainbow](https://github.com/ancilcleetus/My-Learning-Journey/assets/25684256/839c3524-2a1d-4779-85a0-83c562e1e5e5)"
      ],
      "metadata": {
        "id": "aZAp6OFlWuQV"
      }
    },
    {
      "cell_type": "markdown",
      "source": [
        "# Q2. \"Undo\" and \"Redo\" operations of a Text Editor; Difficulty: ${\\color{orange}{Medium}}$"
      ],
      "metadata": {
        "id": "AttOkcq_WuQZ"
      }
    },
    {
      "cell_type": "markdown",
      "source": [
        "## Description"
      ],
      "metadata": {
        "id": "yk2J_wv1WuQc"
      }
    },
    {
      "cell_type": "markdown",
      "source": [
        "Write a Python program to implement \"Undo\" and \"Redo\" operations of a Text Editor using Stack.\n",
        "\n",
        "**Note**\n",
        "\n",
        "Here, command `u` denotes Undo operation (undo the last operation) and command `r` denotes Redo operation (redo the last undo operation).\n",
        "\n",
        "**Example 1**:\n",
        "\n",
        "- **Input**: `string = \"Hello\", commands = \"ururu\"`\n",
        "- **Output**: `\"Hell\"`\n",
        "\n",
        "**Example 2**:\n",
        "\n",
        "- **Input**: `string = \"Hello\", commands = \"uuur\"`\n",
        "- **Output**: `\"Hel\"`"
      ],
      "metadata": {
        "id": "VLWxV4rGWuQd"
      }
    },
    {
      "cell_type": "markdown",
      "source": [
        "## Solution 1"
      ],
      "metadata": {
        "id": "nEDQNqCNWuQf"
      }
    },
    {
      "cell_type": "markdown",
      "source": [
        "**Logic:**\n",
        "\n",
        "Two separate stacks to store undo and redo operations. Initialize `undo_stack` with characters from the string while `redo_stack` is initially empty."
      ],
      "metadata": {
        "id": "NARPCMpRBgqZ"
      }
    },
    {
      "cell_type": "code",
      "source": [
        "def undo_redo(string, commands):\n",
        "    undo_stack = Stack()\n",
        "    redo_stack = Stack()\n",
        "\n",
        "    # Populate undo_stack with string\n",
        "    for char in string:\n",
        "        undo_stack.push(char)\n",
        "\n",
        "    result = string\n",
        "    for command in commands:\n",
        "        if command == \"u\":\n",
        "            if not undo_stack.isEmpty():\n",
        "                char = undo_stack.pop()\n",
        "                redo_stack.push(char)\n",
        "                result = result[:-1]\n",
        "        elif command == \"r\":\n",
        "            if not redo_stack.isEmpty():\n",
        "                char = redo_stack.pop()\n",
        "                undo_stack.push(char)\n",
        "                result += char\n",
        "\n",
        "    return result"
      ],
      "metadata": {
        "id": "S2clwti6AN0P"
      },
      "execution_count": null,
      "outputs": []
    },
    {
      "cell_type": "markdown",
      "source": [
        "## Verification of Solution 1"
      ],
      "metadata": {
        "id": "LkkSqORoBgqh"
      }
    },
    {
      "cell_type": "code",
      "source": [
        "string = \"Hello\"\n",
        "commands = \"ururu\"\n",
        "result = undo_redo(string, commands)\n",
        "print(result)"
      ],
      "metadata": {
        "colab": {
          "base_uri": "https://localhost:8080/"
        },
        "outputId": "58e46ab4-2cfb-470d-e5b6-98bf8eb2951c",
        "id": "HHueGTGOBgqj"
      },
      "execution_count": null,
      "outputs": [
        {
          "output_type": "stream",
          "name": "stdout",
          "text": [
            "Hell\n"
          ]
        }
      ]
    },
    {
      "cell_type": "code",
      "source": [
        "string = \"Hello\"\n",
        "commands = \"uuur\"\n",
        "result = undo_redo(string, commands)\n",
        "print(result)"
      ],
      "metadata": {
        "colab": {
          "base_uri": "https://localhost:8080/"
        },
        "id": "JxKHkJ1nCbDN",
        "outputId": "97b1850a-1fe1-463b-b3c6-f5a4b3c5a656"
      },
      "execution_count": null,
      "outputs": [
        {
          "output_type": "stream",
          "name": "stdout",
          "text": [
            "Hel\n"
          ]
        }
      ]
    },
    {
      "cell_type": "markdown",
      "source": [
        "## Time & Space Complexity of Solution 1"
      ],
      "metadata": {
        "id": "OrPU2UlqClKC"
      }
    },
    {
      "cell_type": "markdown",
      "source": [
        "Let $n$ be the number of characters in the input string and $m$ be the number of undo and redo commands.\n",
        "\n",
        "- Time Complexity:\n",
        "    - 1 for loop of $n$ iterations with each iteration taking $O(1)$ time + 1 for loop of $m$ iterations with each iteration taking $O(1)$ time $\\implies$ Time Complexity = $O(n+m)$\n",
        "- Space Complexity:\n",
        "    - Extra two stacks each of size `n` & `result` of size `n` $\\implies$ Space Complexity = $O(n)$\n",
        "\n",
        "**Note**\n",
        "\n",
        "Extra variables `char, command` of constant space can be ignored."
      ],
      "metadata": {
        "id": "59DMsRRBClKE"
      }
    },
    {
      "cell_type": "markdown",
      "source": [
        "![rainbow](https://github.com/ancilcleetus/My-Learning-Journey/assets/25684256/839c3524-2a1d-4779-85a0-83c562e1e5e5)"
      ],
      "metadata": {
        "id": "n9Xl7jxOmjnn"
      }
    },
    {
      "cell_type": "markdown",
      "source": [
        "# Q3. [Celebrity Problem](https://www.geeksforgeeks.org/the-celebrity-problem/); Difficulty: ${\\color{orange}{Medium}}$"
      ],
      "metadata": {
        "id": "4xUUL0AMmjnr"
      }
    },
    {
      "cell_type": "markdown",
      "source": [
        "## Description"
      ],
      "metadata": {
        "id": "xn4pgHYymjnu"
      }
    },
    {
      "cell_type": "markdown",
      "source": [
        "Given a square matrix `square_matrix` of size n x n, such that `square_matrix[i][j] = 1` means ith person knows jth person, the task is to find the celebrity. A celebrity is a person who is known to all but does not know anyone. Return the index of the celebrity, if there is no celebrity return -1.\n",
        "\n",
        "**Note**\n",
        "\n",
        "- Follow 0 based indexing and `square_matrix[i][i]` will always be 0.\n",
        "- There will only be a single celebrity in a matrix since if there are more than 1 celebrity, it will not satisfy the condition for any of the celebrities. Hence, answer will be either -1 or a value between 0 and $n-1$ ($0 \\leq value \\leq n-1$).\n",
        "\n",
        "**Example 1**:\n",
        "\n",
        "- **Input**: `square_matrix = [[0, 0, 1, 0], [0, 0, 1, 0], [0, 0, 0, 0], [0, 0, 1, 0]]`\n",
        "- **Output**: `2`\n",
        "\n",
        "**Example 2**:\n",
        "\n",
        "- **Input**: `square_matrix = [[0, 0, 1, 0], [0, 0, 1, 0], [0, 1, 0, 0], [0, 0, 1, 0]]`\n",
        "- **Output**: `-1`\n",
        "\n",
        "**Example 3**:\n",
        "\n",
        "- **Input**: `square_matrix = [[0, 0, 1, 1], [0, 0, 1, 1], [1, 0, 0, 1], [0, 0, 0, 0]]`\n",
        "- **Output**: `3`\n",
        "\n",
        "**Example 4**:\n",
        "\n",
        "- **Input**: `square_matrix = [[0, 0, 1, 1], [0, 0, 1, 1], [1, 0, 0, 1], [1, 0, 0, 0]]`\n",
        "- **Output**: `-1`"
      ],
      "metadata": {
        "id": "L0lKzkPvmjnx"
      }
    },
    {
      "cell_type": "markdown",
      "source": [
        "## Solution 1"
      ],
      "metadata": {
        "id": "fw0hQPw9mjny"
      }
    },
    {
      "cell_type": "markdown",
      "source": [
        "**Logic:**\n",
        "\n",
        "1. For each `row` in `square_matrix`,\n",
        "    1. Update `all_zero_row`\n",
        "    2. Update `familiarity_data` dictionary that increments for each 1 encountered\n",
        "    3. If `all_zero_row == True:`\n",
        "        - Push to stack\n",
        "2. Pop from stack\n",
        "3. If popped `person` is not `None`:\n",
        "    - If `familiarity_data[person] == n - 1`:\n",
        "        - `return person`\n",
        "    - Else\n",
        "        - `return -1`\n",
        "- Else:\n",
        "    - `return -1`"
      ],
      "metadata": {
        "id": "jjn_XzAumjn0"
      }
    },
    {
      "cell_type": "code",
      "source": [
        "def find_celebrity(square_matrix):\n",
        "    stack = Stack()\n",
        "    n = len(square_matrix)\n",
        "    familiarity_data = {}\n",
        "    for i, row in enumerate(square_matrix):\n",
        "        all_zero_row = True\n",
        "        for j, value in enumerate(row):\n",
        "            if value == 1:\n",
        "                all_zero_row = False\n",
        "                familiarity_data[j] = familiarity_data.get(j, 0) + 1\n",
        "\n",
        "        if all_zero_row:\n",
        "            stack.push(i)\n",
        "\n",
        "    person = stack.pop()\n",
        "    print(f\"person: {person}\")\n",
        "    if person is not None:\n",
        "        if familiarity_data[person] == n - 1:\n",
        "            return person\n",
        "        else:\n",
        "            return -1\n",
        "    else:\n",
        "        return -1"
      ],
      "metadata": {
        "id": "8Gpzqsfx9auw"
      },
      "execution_count": 13,
      "outputs": []
    },
    {
      "cell_type": "markdown",
      "source": [
        "## Verification of Solution 1"
      ],
      "metadata": {
        "id": "f25YRyfW-23o"
      }
    },
    {
      "cell_type": "code",
      "source": [
        "square_matrix = [[0, 0, 1, 0], [0, 0, 1, 0], [0, 0, 0, 0], [0, 0, 1, 0]]\n",
        "person = find_celebrity(square_matrix)\n",
        "print(person)"
      ],
      "metadata": {
        "colab": {
          "base_uri": "https://localhost:8080/"
        },
        "outputId": "998b2ea6-d83c-4eae-ea47-2ef4077a6bc8",
        "id": "U24B9ekC-23w"
      },
      "execution_count": 14,
      "outputs": [
        {
          "output_type": "stream",
          "name": "stdout",
          "text": [
            "person: 2\n",
            "2\n"
          ]
        }
      ]
    },
    {
      "cell_type": "code",
      "source": [
        "square_matrix = [[0, 0, 1, 0], [0, 0, 1, 0], [0, 1, 0, 0], [0, 0, 1, 0]]\n",
        "person = find_celebrity(square_matrix)\n",
        "print(person)"
      ],
      "metadata": {
        "colab": {
          "base_uri": "https://localhost:8080/"
        },
        "outputId": "ceaa1d50-7db5-47a1-ce14-e7413760aa63",
        "id": "Q4dH2gjQ-23z"
      },
      "execution_count": 15,
      "outputs": [
        {
          "output_type": "stream",
          "name": "stdout",
          "text": [
            "Stack is Empty\n",
            "person: None\n",
            "-1\n"
          ]
        }
      ]
    },
    {
      "cell_type": "code",
      "source": [
        "square_matrix = [[0, 0, 1, 1], [0, 0, 1, 1], [1, 0, 0, 1], [0, 0, 0, 0]]\n",
        "person = find_celebrity(square_matrix)\n",
        "print(person)"
      ],
      "metadata": {
        "colab": {
          "base_uri": "https://localhost:8080/"
        },
        "id": "BTdh4z-xAJIW",
        "outputId": "8af03725-a56c-458a-d223-110c793e8e60"
      },
      "execution_count": 16,
      "outputs": [
        {
          "output_type": "stream",
          "name": "stdout",
          "text": [
            "person: 3\n",
            "3\n"
          ]
        }
      ]
    },
    {
      "cell_type": "code",
      "source": [
        "square_matrix = [[0, 0, 1, 1], [0, 0, 1, 1], [1, 0, 0, 1], [1, 0, 0, 0]]\n",
        "person = find_celebrity(square_matrix)\n",
        "print(person)"
      ],
      "metadata": {
        "colab": {
          "base_uri": "https://localhost:8080/"
        },
        "id": "KBLcAIjfGgYF",
        "outputId": "4aa0c9b3-b120-43fe-f87a-1aa0c5b51942"
      },
      "execution_count": 17,
      "outputs": [
        {
          "output_type": "stream",
          "name": "stdout",
          "text": [
            "Stack is Empty\n",
            "person: None\n",
            "-1\n"
          ]
        }
      ]
    },
    {
      "cell_type": "markdown",
      "source": [
        "## Time & Space Complexity of Solution 1"
      ],
      "metadata": {
        "id": "6100x0GdGpXG"
      }
    },
    {
      "cell_type": "markdown",
      "source": [
        "- Time Complexity:\n",
        "    - 1 Nested for loop of $n^2$ iterations with each iteration taking $O(1)$ time $\\implies$ Time Complexity = $O(n^2)$\n",
        "- Space Complexity:\n",
        "    - Extra stack of size `1` & dictionary `familiarity_data` of size `n` $\\implies$ Space Complexity = $O(n)$\n",
        "\n",
        "**Note**\n",
        "\n",
        "Extra variables `n, i, j, row, value, all_zero_row, person` of constant space can be ignored."
      ],
      "metadata": {
        "id": "zbthnZytGpXM"
      }
    },
    {
      "cell_type": "markdown",
      "source": [
        "![rainbow](https://github.com/ancilcleetus/My-Learning-Journey/assets/25684256/839c3524-2a1d-4779-85a0-83c562e1e5e5)"
      ],
      "metadata": {
        "id": "U897-NGnYhHk"
      }
    },
    {
      "cell_type": "markdown",
      "source": [
        "Difficulty: ${\\color{green}{Easy}}$\n",
        "Difficulty: ${\\color{orange}{Medium}}$\n",
        "Difficulty: ${\\color{red}{Hard}}$"
      ],
      "metadata": {
        "id": "Pf0qrlJcsUj9"
      }
    },
    {
      "cell_type": "code",
      "source": [
        "# Deep Learning as subset of ML\n",
        "\n",
        "from IPython import display\n",
        "display.Image(\"data/images/DL_01_Intro-01-DL-subset-of-ML.jpg\")"
      ],
      "metadata": {
        "id": "juNAxVBFg7sw"
      },
      "execution_count": null,
      "outputs": []
    },
    {
      "cell_type": "markdown",
      "source": [
        "![rainbow](https://github.com/ancilcleetus/My-Learning-Journey/assets/25684256/839c3524-2a1d-4779-85a0-83c562e1e5e5)"
      ],
      "metadata": {
        "id": "qqv0L0R9dyKJ"
      }
    }
  ]
}