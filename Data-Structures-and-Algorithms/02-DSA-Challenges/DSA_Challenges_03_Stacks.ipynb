{
  "nbformat": 4,
  "nbformat_minor": 0,
  "metadata": {
    "colab": {
      "provenance": []
    },
    "kernelspec": {
      "name": "python3",
      "display_name": "Python 3"
    },
    "language_info": {
      "name": "python"
    }
  },
  "cells": [
    {
      "cell_type": "markdown",
      "source": [
        "![rainbow](https://github.com/ancilcleetus/My-Learning-Journey/assets/25684256/839c3524-2a1d-4779-85a0-83c562e1e5e5)"
      ],
      "metadata": {
        "id": "ZdyoPoO4-RqG"
      }
    },
    {
      "cell_type": "markdown",
      "source": [
        "# Linked List based `Stack` Class"
      ],
      "metadata": {
        "id": "kmCEOHb6pg9Q"
      }
    },
    {
      "cell_type": "markdown",
      "source": [
        "A `Stack` class was created from scratch (Refer my [Stacks Notebook](https://github.com/ancilcleetus/My-Learning-Journey/blob/main/Data-Structures-and-Algorithms/01-DSA-Foundations/DSA_06_Stacks.ipynb)). We will use this `Stack` class for the coding challenges in this Notebook. This class supports below methods:\n",
        "\n",
        "1. **`push(value)`:** Add an element to the top of the stack\n",
        "\n",
        "2. **`pop()`:** Remove and return the element from the top of the stack\n",
        "\n",
        "3. **`peek()`:** Return the top element without removing it\n",
        "\n",
        "4. **`isEmpty()`:** Check if the stack is empty\n",
        "\n",
        "5. **size:** Return the number of elements in the stack\n",
        "\n",
        "6. **Traverse (Usage: `print()`):** Print all nodes using magic method `__str__()`"
      ],
      "metadata": {
        "id": "Yw2KvijLIZ7x"
      }
    },
    {
      "cell_type": "markdown",
      "source": [
        "A Linked List with all operations done only on the head node can be called as a Stack."
      ],
      "metadata": {
        "id": "iDb4GkHtrLbn"
      }
    },
    {
      "cell_type": "code",
      "source": [
        "class Node:\n",
        "\n",
        "    def __init__(self, data):\n",
        "        self.data = data\n",
        "        self.next = None"
      ],
      "metadata": {
        "id": "u1auTApfGmw-"
      },
      "execution_count": 1,
      "outputs": []
    },
    {
      "cell_type": "markdown",
      "source": [
        "`Stack` Class without `size` attribute is given below:"
      ],
      "metadata": {
        "id": "6oH4Dvo7zhGE"
      }
    },
    {
      "cell_type": "code",
      "source": [
        "class Stack:\n",
        "\n",
        "    def __init__(self):\n",
        "        self.top = None\n",
        "\n",
        "    def isEmpty(self):\n",
        "        return self.top == None\n",
        "\n",
        "    def push(self, value):\n",
        "        new_node = Node(value)\n",
        "        # Make connection\n",
        "        new_node.next = self.top\n",
        "        # Reassign top\n",
        "        self.top = new_node\n",
        "\n",
        "    def __str__(self):\n",
        "        current = self.top\n",
        "        string = \"\"\n",
        "        while current is not None:\n",
        "            string += str(current.data) + \"\\n\"\n",
        "            current = current.next\n",
        "\n",
        "        return string\n",
        "\n",
        "    def peek(self):\n",
        "        if self.isEmpty():\n",
        "            print(\"Stack is Empty\")\n",
        "            return\n",
        "        return self.top.data\n",
        "\n",
        "    def pop(self):\n",
        "        if self.isEmpty():\n",
        "            print(\"Stack is Empty\")\n",
        "            return\n",
        "        temp = self.top\n",
        "        self.top = self.top.next\n",
        "        temp.next = None\n",
        "        return temp.data"
      ],
      "metadata": {
        "id": "59YsLBbqqvzN"
      },
      "execution_count": 2,
      "outputs": []
    },
    {
      "cell_type": "markdown",
      "source": [
        "`Stack` Class with `size` attribute is given below:"
      ],
      "metadata": {
        "id": "s6lXxuuBzrto"
      }
    },
    {
      "cell_type": "code",
      "source": [
        "class Stack:\n",
        "\n",
        "    def __init__(self):\n",
        "        self.top = None\n",
        "        self.size = 0\n",
        "\n",
        "    def isEmpty(self):\n",
        "        return self.size == 0\n",
        "\n",
        "    def push(self, value):\n",
        "        new_node = Node(value)\n",
        "        # Make connection\n",
        "        new_node.next = self.top\n",
        "        # Reassign top\n",
        "        self.top = new_node\n",
        "        self.size += 1\n",
        "\n",
        "    def __str__(self):\n",
        "        current = self.top\n",
        "        string = \"\"\n",
        "        while current is not None:\n",
        "            string += str(current.data) + \"\\n\"\n",
        "            current = current.next\n",
        "\n",
        "        return string\n",
        "\n",
        "    def peek(self):\n",
        "        if self.isEmpty():\n",
        "            print(\"Stack is Empty\")\n",
        "            return\n",
        "        return self.top.data\n",
        "\n",
        "    def pop(self):\n",
        "        if self.isEmpty():\n",
        "            print(\"Stack is Empty\")\n",
        "            return\n",
        "        temp = self.top\n",
        "        self.top = self.top.next\n",
        "        temp.next = None\n",
        "        self.size -= 1\n",
        "        return temp.data"
      ],
      "metadata": {
        "id": "MYYZV9UsqU53"
      },
      "execution_count": null,
      "outputs": []
    },
    {
      "cell_type": "markdown",
      "source": [
        "![rainbow](https://github.com/ancilcleetus/My-Learning-Journey/assets/25684256/839c3524-2a1d-4779-85a0-83c562e1e5e5)"
      ],
      "metadata": {
        "id": "YBmYBnc1GcCM"
      }
    },
    {
      "cell_type": "markdown",
      "source": [
        "# Q1. String Reversal; Difficulty: ${\\color{green}{Easy}}$"
      ],
      "metadata": {
        "id": "bKim3KwyTp11"
      }
    },
    {
      "cell_type": "markdown",
      "source": [
        "## Description"
      ],
      "metadata": {
        "id": "3oz9rmpktIMI"
      }
    },
    {
      "cell_type": "markdown",
      "source": [
        "Write a Python program to reverse the given string using Stack.\n",
        "\n",
        "**Example 1**:\n",
        "\n",
        "- **Input**: `string = \"Hello World\"`\n",
        "- **Output**: `reversed_string = \"dlroW olleH\"`\n",
        "\n",
        "**Example 2**:\n",
        "\n",
        "- **Input**: `string = \"Banana\"`\n",
        "- **Output**: `reversed_string = \"ananaB\"`\n",
        "\n",
        "**Example 3**:\n",
        "\n",
        "- **Input**: `string = \"Malayalam\"`\n",
        "- **Output**: `reversed_string = \"malayalaM\"`\n",
        "\n",
        "\n",
        "**Constraints**:\n",
        "\n",
        "- Assume that the Stack is initially empty."
      ],
      "metadata": {
        "id": "V7AZ2xLRB6tf"
      }
    },
    {
      "cell_type": "markdown",
      "source": [
        "## Solution 1"
      ],
      "metadata": {
        "id": "Qdea0Mu_faS6"
      }
    },
    {
      "cell_type": "code",
      "source": [
        "def reverse_string(stack, string):\n",
        "    for char in string:\n",
        "        stack.push(char)\n",
        "\n",
        "    reversed_string = \"\"\n",
        "    while not stack.isEmpty():\n",
        "        reversed_string += stack.pop()\n",
        "\n",
        "    return reversed_string"
      ],
      "metadata": {
        "id": "bGy0zOAJC2u5"
      },
      "execution_count": 3,
      "outputs": []
    },
    {
      "cell_type": "markdown",
      "source": [
        "## Verification of Solution 1"
      ],
      "metadata": {
        "id": "2Nem_kJFPuRo"
      }
    },
    {
      "cell_type": "code",
      "source": [
        "s = Stack()\n",
        "string = \"Hello World\"\n",
        "reversed_string = reverse_string(s, string)\n",
        "print(reversed_string)"
      ],
      "metadata": {
        "colab": {
          "base_uri": "https://localhost:8080/"
        },
        "id": "BfyxLd17DV5V",
        "outputId": "4cc08b55-c859-46cf-a9ba-aa3de64a3db6"
      },
      "execution_count": 4,
      "outputs": [
        {
          "output_type": "stream",
          "name": "stdout",
          "text": [
            "dlroW olleH\n"
          ]
        }
      ]
    },
    {
      "cell_type": "code",
      "source": [
        "s = Stack()\n",
        "string = \"Banana\"\n",
        "reversed_string = reverse_string(s, string)\n",
        "print(reversed_string)"
      ],
      "metadata": {
        "colab": {
          "base_uri": "https://localhost:8080/"
        },
        "id": "qRwg-tr0E26V",
        "outputId": "806b808d-1c5f-43d9-a91f-d444fe452353"
      },
      "execution_count": 5,
      "outputs": [
        {
          "output_type": "stream",
          "name": "stdout",
          "text": [
            "ananaB\n"
          ]
        }
      ]
    },
    {
      "cell_type": "code",
      "source": [
        "s = Stack()\n",
        "string = \"Malayalam\"\n",
        "reversed_string = reverse_string(s, string)\n",
        "print(reversed_string)"
      ],
      "metadata": {
        "colab": {
          "base_uri": "https://localhost:8080/"
        },
        "id": "E-09JXGIE3-D",
        "outputId": "0d86783c-4f7b-4de7-e3cc-76b94c49565a"
      },
      "execution_count": 6,
      "outputs": [
        {
          "output_type": "stream",
          "name": "stdout",
          "text": [
            "malayalaM\n"
          ]
        }
      ]
    },
    {
      "cell_type": "code",
      "source": [
        "s = Stack()\n",
        "s.push(\"H\")\n",
        "s.push(\"e\")\n",
        "s.push(\"l\")\n",
        "s.push(\"l\")\n",
        "s.push(\"0\")\n",
        "string = \"Malayalam\"\n",
        "reversed_string = reverse_string(s, string)\n",
        "print(reversed_string)"
      ],
      "metadata": {
        "colab": {
          "base_uri": "https://localhost:8080/"
        },
        "outputId": "a988232a-2ef5-4958-99e4-2cdebb32ee76",
        "id": "Hpx5G3M9NW0W"
      },
      "execution_count": 7,
      "outputs": [
        {
          "output_type": "stream",
          "name": "stdout",
          "text": [
            "malayalaM0lleH\n"
          ]
        }
      ]
    },
    {
      "cell_type": "markdown",
      "source": [
        "## Time & Space Complexity of Solution 1"
      ],
      "metadata": {
        "id": "KtuGf4GwVTcw"
      }
    },
    {
      "cell_type": "markdown",
      "source": [
        "Let $n$ be the number of characters in the input string.\n",
        "\n",
        "- Time Complexity:\n",
        "    - 1 for loop and 1 while loop each of $n$ iterations with each iteration taking $O(1)$ time $\\implies$ Time Complexity = $O(n)$\n",
        "- Space Complexity:\n",
        "    - Extra variables `char, reversed_string` of constant space $\\implies$ Space Complexity = $O(1)$"
      ],
      "metadata": {
        "id": "JYHMzq2GiJ1c"
      }
    },
    {
      "cell_type": "markdown",
      "source": [
        "## Solution 2"
      ],
      "metadata": {
        "id": "PT-Oasg7MKQU"
      }
    },
    {
      "cell_type": "markdown",
      "source": [
        "Above solution will not work if stack is initially not empty. In the below solution, we take care of that by running 2nd for loop `length` times where `length` = no of characters in `string`."
      ],
      "metadata": {
        "id": "6dQDaUi5MwDF"
      }
    },
    {
      "cell_type": "code",
      "source": [
        "def reverse_string(stack, string):\n",
        "    length = len(string)\n",
        "    for char in string:\n",
        "        stack.push(char)\n",
        "\n",
        "    reversed_string = \"\"\n",
        "    for i in range(0, length):\n",
        "        reversed_string += stack.pop()\n",
        "\n",
        "    return reversed_string"
      ],
      "metadata": {
        "id": "4JmZqoUBMKQi"
      },
      "execution_count": 8,
      "outputs": []
    },
    {
      "cell_type": "markdown",
      "source": [
        "## Verification of Solution 2"
      ],
      "metadata": {
        "id": "aNVl7suSMKQt"
      }
    },
    {
      "cell_type": "code",
      "source": [
        "s = Stack()\n",
        "string = \"Hello World\"\n",
        "reversed_string = reverse_string(s, string)\n",
        "print(reversed_string)"
      ],
      "metadata": {
        "colab": {
          "base_uri": "https://localhost:8080/"
        },
        "outputId": "cac68de4-161f-4dc7-a57b-991a15a20a96",
        "id": "Kw2cGujxMKQv"
      },
      "execution_count": 9,
      "outputs": [
        {
          "output_type": "stream",
          "name": "stdout",
          "text": [
            "dlroW olleH\n"
          ]
        }
      ]
    },
    {
      "cell_type": "code",
      "source": [
        "s = Stack()\n",
        "string = \"Banana\"\n",
        "reversed_string = reverse_string(s, string)\n",
        "print(reversed_string)"
      ],
      "metadata": {
        "colab": {
          "base_uri": "https://localhost:8080/"
        },
        "outputId": "ad4ff604-abcd-4001-cbe8-938235ccc005",
        "id": "ww4SK2AMMKQz"
      },
      "execution_count": 10,
      "outputs": [
        {
          "output_type": "stream",
          "name": "stdout",
          "text": [
            "ananaB\n"
          ]
        }
      ]
    },
    {
      "cell_type": "code",
      "source": [
        "s = Stack()\n",
        "string = \"Malayalam\"\n",
        "reversed_string = reverse_string(s, string)\n",
        "print(reversed_string)"
      ],
      "metadata": {
        "colab": {
          "base_uri": "https://localhost:8080/"
        },
        "outputId": "bab15041-ccf1-48b5-d107-64d185168528",
        "id": "De3hTyjrMKQ2"
      },
      "execution_count": 11,
      "outputs": [
        {
          "output_type": "stream",
          "name": "stdout",
          "text": [
            "malayalaM\n"
          ]
        }
      ]
    },
    {
      "cell_type": "code",
      "source": [
        "s = Stack()\n",
        "s.push(\"H\")\n",
        "s.push(\"e\")\n",
        "s.push(\"l\")\n",
        "s.push(\"l\")\n",
        "s.push(\"0\")\n",
        "string = \"Malayalam\"\n",
        "reversed_string = reverse_string(s, string)\n",
        "print(reversed_string)"
      ],
      "metadata": {
        "colab": {
          "base_uri": "https://localhost:8080/"
        },
        "id": "C-opY0evNkMd",
        "outputId": "8b4de9bc-3751-4d3d-f9a0-1d7e9fd18693"
      },
      "execution_count": 12,
      "outputs": [
        {
          "output_type": "stream",
          "name": "stdout",
          "text": [
            "malayalaM\n"
          ]
        }
      ]
    },
    {
      "cell_type": "markdown",
      "source": [
        "## Time & Space Complexity of Solution 2"
      ],
      "metadata": {
        "id": "ZVJ6xuRFMKQ4"
      }
    },
    {
      "cell_type": "markdown",
      "source": [
        "Let $n$ be the number of characters in the input string.\n",
        "\n",
        "- Time Complexity:\n",
        "    - 2 for loops each of $n$ iterations with each iteration taking $O(1)$ time $\\implies$ Time Complexity = $O(n)$\n",
        "- Space Complexity:\n",
        "    - Extra variables `length, char, reversed_string` of constant space $\\implies$ Space Complexity = $O(1)$"
      ],
      "metadata": {
        "id": "3SVIPBGyMKQ6"
      }
    },
    {
      "cell_type": "markdown",
      "source": [
        "![rainbow](https://github.com/ancilcleetus/My-Learning-Journey/assets/25684256/839c3524-2a1d-4779-85a0-83c562e1e5e5)"
      ],
      "metadata": {
        "id": "U897-NGnYhHk"
      }
    },
    {
      "cell_type": "markdown",
      "source": [
        "Difficulty: ${\\color{green}{Easy}}$\n",
        "Difficulty: ${\\color{orange}{Medium}}$\n",
        "Difficulty: ${\\color{red}{Hard}}$"
      ],
      "metadata": {
        "id": "Pf0qrlJcsUj9"
      }
    },
    {
      "cell_type": "code",
      "source": [
        "# Deep Learning as subset of ML\n",
        "\n",
        "from IPython import display\n",
        "display.Image(\"data/images/DL_01_Intro-01-DL-subset-of-ML.jpg\")"
      ],
      "metadata": {
        "id": "juNAxVBFg7sw"
      },
      "execution_count": null,
      "outputs": []
    },
    {
      "cell_type": "markdown",
      "source": [
        "![rainbow](https://github.com/ancilcleetus/My-Learning-Journey/assets/25684256/839c3524-2a1d-4779-85a0-83c562e1e5e5)"
      ],
      "metadata": {
        "id": "qqv0L0R9dyKJ"
      }
    }
  ]
}