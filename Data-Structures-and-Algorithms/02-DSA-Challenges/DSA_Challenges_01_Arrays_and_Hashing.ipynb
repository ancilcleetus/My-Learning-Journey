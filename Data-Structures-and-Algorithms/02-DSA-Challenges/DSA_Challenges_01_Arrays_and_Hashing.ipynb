{
  "nbformat": 4,
  "nbformat_minor": 0,
  "metadata": {
    "colab": {
      "provenance": []
    },
    "kernelspec": {
      "name": "python3",
      "display_name": "Python 3"
    },
    "language_info": {
      "name": "python"
    }
  },
  "cells": [
    {
      "cell_type": "markdown",
      "source": [
        "![rainbow](https://github.com/ancilcleetus/My-Learning-Journey/assets/25684256/839c3524-2a1d-4779-85a0-83c562e1e5e5)"
      ],
      "metadata": {
        "id": "uLR90WhedwER"
      }
    },
    {
      "cell_type": "markdown",
      "source": [
        "# Q1. [LeetCode 26: Remove Duplicates from Sorted Array](https://leetcode.com/problems/remove-duplicates-from-sorted-array/) Difficulty: ${\\color{green}{Easy}}$"
      ],
      "metadata": {
        "id": "bKim3KwyTp11"
      }
    },
    {
      "cell_type": "markdown",
      "source": [
        "## Description"
      ],
      "metadata": {
        "id": "3oz9rmpktIMI"
      }
    },
    {
      "cell_type": "markdown",
      "source": [
        "Given an integer array `nums` sorted in non-decreasing order, remove the duplicates **in-place** such that each unique element appears only **once**. The **relative order** of the elements should be kept the **same**. Then return the number of unique elements in `nums`.\n",
        "\n",
        "Consider the number of unique elements of `nums` to be `k`, to get accepted, you need to do the following things:\n",
        "\n",
        "- Change the array `nums` such that the first `k` elements of nums contain the unique elements in the order they were present in `nums` initially. The remaining elements of `nums` are not important as well as the size of `nums`.\n",
        "- Return `k`.\n",
        "\n",
        "**Example 1**:\n",
        "\n",
        "- **Input**: `nums = [1,1,2]`\n",
        "- **Output**: `2, nums = [1,2,_]`\n",
        "- **Explanation**: `Your function should return k = 2, with the first two elements of nums being 1 and 2 respectively. It does not matter what you leave beyond the returned k (hence they are underscores).`\n",
        "\n",
        "**Example 2**:\n",
        "\n",
        "- **Input**: `nums = [0,0,1,1,1,2,2,3,3,4]`\n",
        "- **Output**: `5, nums = [0,1,2,3,4,_,_,_,_,_]`\n",
        "- **Explanation**: `Your function should return k = 5, with the first five elements of nums being 0, 1, 2, 3, and 4 respectively. It does not matter what you leave beyond the returned k (hence they are underscores).`\n",
        "\n",
        "\n",
        "**Constraints**:\n",
        "\n",
        "- `1 <= nums.length <= 3 * 10^4`\n",
        "- `-100 <= nums[i] <= 100`\n",
        "- `nums` is sorted in **non-decreasing** order."
      ],
      "metadata": {
        "id": "xyAA1oESdnmK"
      }
    },
    {
      "cell_type": "markdown",
      "source": [
        "## Solution 1: Brute-Force Approach - Create a new array `unique_nums` to store unique elements, use it to update `nums` & return its length"
      ],
      "metadata": {
        "id": "Qdea0Mu_faS6"
      }
    },
    {
      "cell_type": "code",
      "source": [
        "class Solution(object):\n",
        "    def removeDuplicates(self, nums):\n",
        "        \"\"\"\n",
        "        :type nums: List[int]\n",
        "        :rtype: int\n",
        "        \"\"\"\n",
        "        unique_nums = []\n",
        "        for num in nums:\n",
        "            if num not in unique_nums:\n",
        "                unique_nums.append(num)\n",
        "\n",
        "        k = len(unique_nums)\n",
        "        for i in range(k):\n",
        "            nums[i] = unique_nums[i]\n",
        "\n",
        "        return k"
      ],
      "metadata": {
        "id": "G98oFxqIfu4O"
      },
      "execution_count": null,
      "outputs": []
    },
    {
      "cell_type": "markdown",
      "source": [
        "- Time Complexity:\n",
        "    - Running two for loops of $n$ iterations with each iteration taking $O(1)$ time $\\implies$ Time Complexity = $O(n) + O(n)$ = $O(n + n)$ = $O(2n)$ = $O(n)$\n",
        "- Space Complexity:\n",
        "    - In the worst case scenario, `unique_nums` list will be of size `n` $\\implies$ Space Complexity = $O(n)$"
      ],
      "metadata": {
        "id": "34W-PX79f5aG"
      }
    },
    {
      "cell_type": "markdown",
      "source": [
        "## Solution 2: Replace the extra array `unique_nums` with variable `unique_index`"
      ],
      "metadata": {
        "id": "7NKaDBE1m2jM"
      }
    },
    {
      "cell_type": "code",
      "source": [
        "class Solution(object):\n",
        "    def removeDuplicates(self, nums):\n",
        "        \"\"\"\n",
        "        :type nums: List[int]\n",
        "        :rtype: int\n",
        "        \"\"\"\n",
        "        length = len(nums)\n",
        "        if length == 0:\n",
        "            return 0\n",
        "        elif length == 1:\n",
        "            return 1\n",
        "        elif length > 1:\n",
        "            unique_index = 1\n",
        "            for idx in range(1, length):\n",
        "                if nums[idx] != nums[idx-1]:\n",
        "                    nums[unique_index] = nums[idx]\n",
        "                    unique_index += 1\n",
        "\n",
        "        return unique_index"
      ],
      "metadata": {
        "id": "YJXglzvcnBUE"
      },
      "execution_count": null,
      "outputs": []
    },
    {
      "cell_type": "markdown",
      "source": [
        "- Time Complexity:\n",
        "    - Running a for loop of $n$ iterations with each iteration taking $O(1)$ time $\\implies$ Time Complexity = $O(n)$\n",
        "- Space Complexity:\n",
        "    - Variables `unique_index` & `length` take constant space irrespective of size of array $n$ $\\implies$ Space Complexity = $O(1)$"
      ],
      "metadata": {
        "id": "UJgFWd1jnIJb"
      }
    },
    {
      "cell_type": "markdown",
      "source": [
        "![rainbow](https://github.com/ancilcleetus/My-Learning-Journey/assets/25684256/839c3524-2a1d-4779-85a0-83c562e1e5e5)"
      ],
      "metadata": {
        "id": "NVBUwv0jn8WS"
      }
    },
    {
      "cell_type": "markdown",
      "source": [
        "# Q2. [LeetCode 27: Remove Element](https://leetcode.com/problems/remove-element/) Difficulty: ${\\color{green}{Easy}}$"
      ],
      "metadata": {
        "id": "P57Vc20usiOH"
      }
    },
    {
      "cell_type": "markdown",
      "source": [
        "## Description"
      ],
      "metadata": {
        "id": "rQrWWm-btP9X"
      }
    },
    {
      "cell_type": "markdown",
      "source": [
        "Given an integer array `nums` and an integer `val`, remove all occurrences of `val` in `nums` in-place. The order of the elements may be changed. Then return the number of elements in `nums` which are not equal to `val`.\n",
        "\n",
        "Consider the number of elements in `nums` which are not equal to `val` be `k`, to get accepted, you need to do the following things:\n",
        "\n",
        "- Change the array `nums` such that the first `k` elements of `nums` contain the elements which are not equal to `val`. The remaining elements of `nums` are not important as well as the size of `nums`.\n",
        "- Return `k`.\n",
        "\n",
        "**Example 1**:\n",
        "\n",
        "- **Input**: `nums = [3,2,2,3], val = 3`\n",
        "- **Output**: `2, nums = [2,2,_,_]`\n",
        "- **Explanation**: `Your function should return k = 2, with the first two elements of nums being 2. It does not matter what you leave beyond the returned k (hence they are underscores).`\n",
        "\n",
        "**Example 2**:\n",
        "\n",
        "- **Input**: `nums = [0,1,2,2,3,0,4,2], val = 2`\n",
        "- **Output**: `5, nums = [0,1,4,0,3,_,_,_]`\n",
        "- **Explanation**: `Your function should return k = 5, with the first five elements of nums containing 0, 0, 1, 3, and 4. Note that the five elements can be returned in any order. It does not matter what you leave beyond the returned k (hence they are underscores).`\n",
        "\n",
        "**Constraints**:\n",
        "\n",
        "- `0 <= nums.length <= 100`\n",
        "- `0 <= nums[i] <= 50`\n",
        "- `0 <= val <= 100`"
      ],
      "metadata": {
        "id": "Vq2SafK6tS-3"
      }
    },
    {
      "cell_type": "markdown",
      "source": [
        "## Solution 1: Use of `non_val_pointer` that points to next element $\\neq$ `val`"
      ],
      "metadata": {
        "id": "N3jP9pmnzp3E"
      }
    },
    {
      "cell_type": "code",
      "source": [
        "class Solution(object):\n",
        "    def removeElement(self, nums, val):\n",
        "        \"\"\"\n",
        "        :type nums: List[int]\n",
        "        :type val: int\n",
        "        :rtype: int\n",
        "        \"\"\"\n",
        "        non_val_pointer = 0\n",
        "        for element in nums:\n",
        "            if element != val:\n",
        "                nums[non_val_pointer] = element\n",
        "                non_val_pointer += 1\n",
        "\n",
        "        return non_val_pointer"
      ],
      "metadata": {
        "id": "YatadbzV0_S0"
      },
      "execution_count": null,
      "outputs": []
    },
    {
      "cell_type": "markdown",
      "source": [
        "- Time Complexity:\n",
        "    - Running a for loop of $n$ iterations with each iteration taking $O(1)$ time $\\implies$ Time Complexity = $O(n)$\n",
        "- Space Complexity:\n",
        "    - An extra variable `non_val_pointer` which stays the same irrespective of the value of $n$ $\\implies$ Space Complexity = $O(1)$\n",
        "\n",
        "**Note**\n",
        "\n",
        "Whatever space used extra (other than input variables & input data structures) is counted to find Space Complexity. Hence, only `non_val_pointer` is considered for Space Complexity."
      ],
      "metadata": {
        "id": "aG7-R-9Rz3nl"
      }
    },
    {
      "cell_type": "markdown",
      "source": [
        "![rainbow](https://github.com/ancilcleetus/My-Learning-Journey/assets/25684256/839c3524-2a1d-4779-85a0-83c562e1e5e5)"
      ],
      "metadata": {
        "id": "H1GzV-UHB4m0"
      }
    },
    {
      "cell_type": "markdown",
      "source": [
        "# Q3. [LeetCode 1470: Shuffle the Array](https://leetcode.com/problems/shuffle-the-array/) Difficulty: ${\\color{green}{Easy}}$"
      ],
      "metadata": {
        "id": "uvBRnCaxBsbW"
      }
    },
    {
      "cell_type": "markdown",
      "source": [
        "## Description"
      ],
      "metadata": {
        "id": "7JQPQ21eCInU"
      }
    },
    {
      "cell_type": "markdown",
      "source": [
        "Given the array `nums` consisting of `2n` elements in the form `[x1,x2,...,xn,y1,y2,...,yn]`.\n",
        "\n",
        "Return the array in the form `[x1,y1,x2,y2,...,xn,yn]`.\n",
        "\n",
        "**Example 1**:\n",
        "\n",
        "- **Input**: `nums = [2,5,1,3,4,7], n = 3`\n",
        "- **Output**: `[2,3,5,4,1,7]`\n",
        "- **Explanation**: `Since x1=2, x2=5, x3=1, y1=3, y2=4, y3=7 then the answer is [2,3,5,4,1,7].`\n",
        "\n",
        "**Example 2**:\n",
        "\n",
        "- **Input**: `nums = [1,2,3,4,4,3,2,1], n = 4`\n",
        "- **Output**: `[1,4,2,3,3,2,4,1]`\n",
        "\n",
        "**Example 3**:\n",
        "\n",
        "- **Input**: `nums = [1,1,2,2], n = 2`\n",
        "- **Output**: `[1,2,1,2]`\n",
        "\n",
        "**Constraints**:\n",
        "\n",
        "- `1 <= n <= 500`\n",
        "- `nums.length == 2n`\n",
        "- `1 <= nums[i] <= 10^3`"
      ],
      "metadata": {
        "id": "2vM7lkBNCC8G"
      }
    },
    {
      "cell_type": "markdown",
      "source": [
        "## Solution 1: Brute-Force Approach - Create a new array `initial_elements` to store initial values of each pair, use it to update `nums`"
      ],
      "metadata": {
        "id": "yRJPrClM-kPc"
      }
    },
    {
      "cell_type": "code",
      "source": [
        "class Solution(object):\n",
        "    def shuffle(self, nums, n):\n",
        "        \"\"\"\n",
        "        :type nums: List[int]\n",
        "        :type n: int\n",
        "        :rtype: List[int]\n",
        "        \"\"\"\n",
        "        initial_elements = []\n",
        "        for i in range(0, n):\n",
        "            initial_elements.append(nums[i])\n",
        "\n",
        "        for j in range(0, n):\n",
        "            nums[2*j] = initial_elements[j]\n",
        "            nums[2*j+1] = nums[n+j]\n",
        "\n",
        "        return nums"
      ],
      "metadata": {
        "id": "htQSY9_K_3bT"
      },
      "execution_count": null,
      "outputs": []
    },
    {
      "cell_type": "markdown",
      "source": [
        "- Time Complexity:\n",
        "    - Running two for loops of $n$ iterations each with each iteration taking $O(1)$ time $\\implies$ Time Complexity = $O(n) + O(n)$ = $O(n + n)$ = $O(2n)$ = $O(n)$\n",
        "- Space Complexity:\n",
        "    - Extra array `initial_elements` of size `n` $\\implies$ Space Complexity = $O(n)$"
      ],
      "metadata": {
        "id": "4f9nIbP5ARrV"
      }
    },
    {
      "cell_type": "markdown",
      "source": [
        "## Solution 2: Use two pointers to keep track of 1st and 2nd element of each pair, Populate a new array `new_nums` using these two pointers and return this array"
      ],
      "metadata": {
        "id": "qF03yN4dJjSd"
      }
    },
    {
      "cell_type": "code",
      "source": [
        "class Solution(object):\n",
        "    def shuffle(self, nums, n):\n",
        "        \"\"\"\n",
        "        :type nums: List[int]\n",
        "        :type n: int\n",
        "        :rtype: List[int]\n",
        "        \"\"\"\n",
        "        pointer1, pointer2 = 0, n\n",
        "        new_nums = []\n",
        "        for i in range(0, n):\n",
        "            new_nums.append(nums[pointer1])\n",
        "            new_nums.append(nums[pointer2])\n",
        "            pointer1 += 1\n",
        "            pointer2 += 1\n",
        "\n",
        "        return new_nums"
      ],
      "metadata": {
        "id": "EouaI9RdJ7s5"
      },
      "execution_count": null,
      "outputs": []
    },
    {
      "cell_type": "markdown",
      "source": [
        "- Time Complexity:\n",
        "    - Running a for loop of $n$ iterations with each iteration taking $O(1)$ time $\\implies$ Time Complexity = $O(n)$\n",
        "- Space Complexity:\n",
        "    - Extra array `new_nums` of size $n$ $\\implies$ Space Complexity = $O(n)$\n",
        "\n",
        "**Note**\n",
        "\n",
        "Whatever space used extra (other than input variables & input data structures) is counted to find Space Complexity. Hence, `new_nums`, `pointer1` & `pointer2` are considered for Space Complexity out of which `pointer1` & `pointer2` are ignored since constant space."
      ],
      "metadata": {
        "id": "MEnvmC6iKCZi"
      }
    },
    {
      "cell_type": "markdown",
      "source": [
        "## Solution 3: Remove extra array `new_nums`, instead use Bit Manipulation to store x, y pairs in `nums` itself"
      ],
      "metadata": {
        "id": "1bA31e1xSbbj"
      }
    },
    {
      "cell_type": "code",
      "source": [
        "class Solution(object):\n",
        "    def shuffle(self, nums, n):\n",
        "        \"\"\"\n",
        "        :type nums: List[int]\n",
        "        :type n: int\n",
        "        :rtype: List[int]\n",
        "        \"\"\"\n",
        "        # Store x and y values together in same 32 bit element (since 1 <= nums[i] <= 10^3)\n",
        "        for i in range(0, n):\n",
        "            y = nums[n+i]\n",
        "            nums[i] = nums[i] << 10\n",
        "            nums[i] = nums[i] | y\n",
        "\n",
        "        # Start from middle, extract x & y values and populate array\n",
        "        for j in range(n-1, -1, -1):\n",
        "            y_mask = (1 << 10) - 1\n",
        "            y = nums[j] & y_mask\n",
        "            x = nums[j] >> 10\n",
        "            nums[2*j] = x\n",
        "            nums[2*j+1] = y\n",
        "\n",
        "        return nums"
      ],
      "metadata": {
        "id": "HDidLZstdina"
      },
      "execution_count": null,
      "outputs": []
    },
    {
      "cell_type": "markdown",
      "source": [
        "- Time Complexity:\n",
        "    - Running 2 for loops of $n$ iterations with each iteration taking $O(1)$ time $\\implies$ Time Complexity = $O(n)$\n",
        "- Space Complexity:\n",
        "    - Variables `x`, `y`, `y_mask` of constant space $\\implies$ Space Complexity = $O(1)$"
      ],
      "metadata": {
        "id": "Rg1GND6ddqIT"
      }
    },
    {
      "cell_type": "markdown",
      "source": [
        "![rainbow](https://github.com/ancilcleetus/My-Learning-Journey/assets/25684256/839c3524-2a1d-4779-85a0-83c562e1e5e5)"
      ],
      "metadata": {
        "id": "gHQfLPWXB9fA"
      }
    },
    {
      "cell_type": "markdown",
      "source": [
        "# Q4. [LeetCode 1929: Concatenation of Array](https://leetcode.com/problems/concatenation-of-array/) Difficulty: ${\\color{green}{Easy}}$"
      ],
      "metadata": {
        "id": "hzTInyG_PhXO"
      }
    },
    {
      "cell_type": "markdown",
      "source": [
        "## Description"
      ],
      "metadata": {
        "id": "LlGCB616P57z"
      }
    },
    {
      "cell_type": "markdown",
      "source": [
        "Given an integer array `nums` of length `n`, you want to create an array `ans` of length `2n` where `ans[i] == nums[i]` and `ans[i + n] == nums[i]` for `0 <= i < n` (0-indexed).\n",
        "\n",
        "Specifically, `ans` is the **concatenation** of two `nums` arrays.\n",
        "\n",
        "Return the array `ans`.\n",
        "\n",
        "**Example 1**:\n",
        "\n",
        "- **Input**: `nums = [1,2,1]`\n",
        "- **Output**: `[1,2,1,1,2,1]`\n",
        "- **Explanation**: The array `ans` is formed as follows:\n",
        "    - ans = [nums[0],nums[1],nums[2],nums[0],nums[1],nums[2]]\n",
        "    - ans = [1,2,1,1,2,1]\n",
        "\n",
        "**Example 2**:\n",
        "\n",
        "- **Input**: `nums = [1,3,2,1]`\n",
        "- **Output**: `[1,3,2,1,1,3,2,1]`\n",
        "- **Explanation**: The array `ans` is formed as follows:\n",
        "    - ans = [nums[0],nums[1],nums[2],nums[3],nums[0],nums[1],nums[2],nums[3]]\n",
        "    - ans = [1,3,2,1,1,3,2,1]\n",
        "\n",
        "**Constraints**:\n",
        "\n",
        "- `n == nums.length`\n",
        "- `1 <= n <= 1000`\n",
        "- `1 <= nums[i] <= 1000`"
      ],
      "metadata": {
        "id": "Qq_J-d0PUIZ2"
      }
    },
    {
      "cell_type": "markdown",
      "source": [
        "## Solution 1"
      ],
      "metadata": {
        "id": "SZRPrFUvUL5j"
      }
    },
    {
      "cell_type": "code",
      "source": [
        "class Solution(object):\n",
        "    def getConcatenation(self, nums):\n",
        "        \"\"\"\n",
        "        :type nums: List[int]\n",
        "        :rtype: List[int]\n",
        "        \"\"\"\n",
        "        ans = []\n",
        "        n = len(nums)\n",
        "\n",
        "        for i in range(0, 2*n):\n",
        "            if i < n:\n",
        "                ans.append(nums[i])\n",
        "            elif i < 2*n:\n",
        "                ans.append(nums[i-n])\n",
        "\n",
        "        return ans"
      ],
      "metadata": {
        "id": "ND7SLvuZXrwd"
      },
      "execution_count": null,
      "outputs": []
    },
    {
      "cell_type": "markdown",
      "source": [
        "- Time Complexity:\n",
        "    - Running a for loop of $2 \\times n$ iterations with each iteration taking $O(1)$ time $\\implies$ Time Complexity = $O(2 \\times n)$ = $O(n)$\n",
        "- Space Complexity:\n",
        "    - Extra array `ans` of size $2 \\times n$ $\\implies$ Space Complexity = $O(2 \\times n)$ = $O(n)$\n",
        "\n",
        "**Note**\n",
        "\n",
        "Whatever space used extra (other than input variables & input data structures) is counted to find Space Complexity. Hence, `ans` & `n` are considered for Space Complexity out of which `n` is ignored since constant space."
      ],
      "metadata": {
        "id": "FwIcr5b5XypO"
      }
    },
    {
      "cell_type": "markdown",
      "source": [
        "## Solution 2"
      ],
      "metadata": {
        "id": "nLC_Iot8cqqv"
      }
    },
    {
      "cell_type": "code",
      "source": [
        "class Solution(object):\n",
        "    def getConcatenation(self, nums):\n",
        "        \"\"\"\n",
        "        :type nums: List[int]\n",
        "        :rtype: List[int]\n",
        "        \"\"\"\n",
        "        ans = []\n",
        "        for i in range(2):\n",
        "            for element in nums:\n",
        "                ans.append(element)\n",
        "\n",
        "        return ans"
      ],
      "metadata": {
        "id": "J-R5oHTCcnzm"
      },
      "execution_count": null,
      "outputs": []
    },
    {
      "cell_type": "markdown",
      "source": [
        "- Time Complexity:\n",
        "    - Running 2 for loops with a total of $2 \\times n$ iterations with each iteration taking $O(1)$ time $\\implies$ Time Complexity = $O(2 \\times n)$ = $O(n)$\n",
        "- Space Complexity:\n",
        "    - Extra array `ans` of size $2 \\times n$ $\\implies$ Space Complexity = $O(2 \\times n)$ = $O(n)$\n",
        "\n",
        "**Note**\n",
        "\n",
        "Instead of creating a new array `ans`, if we concatenate by appending elements to input array `nums`, Space Complexity will still be $O(n)$ since we are adding extra space (which is linearly proportional to $n$) to input data structure."
      ],
      "metadata": {
        "id": "DOSnM8TnctSN"
      }
    },
    {
      "cell_type": "markdown",
      "source": [
        "![rainbow](https://github.com/ancilcleetus/My-Learning-Journey/assets/25684256/839c3524-2a1d-4779-85a0-83c562e1e5e5)"
      ],
      "metadata": {
        "id": "UujM3adiPkkF"
      }
    },
    {
      "cell_type": "markdown",
      "source": [
        "# Q5. [LeetCode 217: Contains Duplicate](https://leetcode.com/problems/contains-duplicate/) Difficulty: ${\\color{green}{Easy}}$"
      ],
      "metadata": {
        "id": "eRMyF9vmsZ7w"
      }
    },
    {
      "cell_type": "markdown",
      "source": [
        "## Description"
      ],
      "metadata": {
        "id": "Mo6Yqf7qsZ8A"
      }
    },
    {
      "cell_type": "markdown",
      "source": [
        "Given an integer array `nums`, return `true` if any value appears **at least twice** in the array, and return `false` if every element is distinct.\n",
        "\n",
        "**Example 1**:\n",
        "\n",
        "- **Input**: `nums = [1,2,3,1]`\n",
        "- **Output**: `true`\n",
        "\n",
        "**Example 2**:\n",
        "\n",
        "- **Input**: `nums = [1,2,3,4]`\n",
        "- **Output**: `false`\n",
        "\n",
        "**Example 3**:\n",
        "\n",
        "- **Input**: `[1,1,1,3,3,4,3,2,4,2]`\n",
        "- **Output**: `true`\n",
        "\n",
        "**Constraints**:\n",
        "\n",
        "- `1 <= nums.length <= 10^5`\n",
        "- `-10^9 <= nums[i] <= 10^9`"
      ],
      "metadata": {
        "id": "55WWtDwnsZ8A"
      }
    },
    {
      "cell_type": "markdown",
      "source": [
        "## Solution 1: Using a set `unique_values` to check for duplicates"
      ],
      "metadata": {
        "id": "yRWDdkywsZ8B"
      }
    },
    {
      "cell_type": "code",
      "source": [
        "class Solution(object):\n",
        "    def containsDuplicate(self, nums):\n",
        "        \"\"\"\n",
        "        :type nums: List[int]\n",
        "        :rtype: bool\n",
        "        \"\"\"\n",
        "        unique_values = set()\n",
        "        for value in nums:\n",
        "            if value not in unique_values:\n",
        "                unique_values.add(value)\n",
        "            else:\n",
        "                return True\n",
        "\n",
        "        return False"
      ],
      "metadata": {
        "id": "X_6ujckou-sG"
      },
      "execution_count": null,
      "outputs": []
    },
    {
      "cell_type": "markdown",
      "source": [
        "- Time Complexity:\n",
        "    - Running a for loop of $n$ iterations with each iteration taking $O(1)$ time $\\implies$ Time Complexity = $O(n)$\n",
        "- Space Complexity:\n",
        "    - In the worst case scenario, extra set `unique_values` can be of size $n$ $\\implies$ Space Complexity = $O(n)$\n",
        "\n",
        "**Note**\n",
        "\n",
        "In Python, sets are designed for efficient membership checking. The time complexity of the line `if value not in unique_values` is $O(1)$. The `in` operator with a Python set utilizes hashing, allowing for quick lookups of elements within the set. Therefore, regardless of the number of elements currently in `unique_values`, checking if a new value exists takes roughly the same constant amount of time."
      ],
      "metadata": {
        "id": "XzxKFi6jvSjp"
      }
    },
    {
      "cell_type": "markdown",
      "source": [
        "![rainbow](https://github.com/ancilcleetus/My-Learning-Journey/assets/25684256/839c3524-2a1d-4779-85a0-83c562e1e5e5)"
      ],
      "metadata": {
        "id": "IcPDeDMSwJtP"
      }
    },
    {
      "cell_type": "markdown",
      "source": [
        "# Q6. [LeetCode 242: Valid Anagram](https://leetcode.com/problems/valid-anagram/) Difficulty: ${\\color{green}{Easy}}$"
      ],
      "metadata": {
        "id": "YtQSmRQp2bhU"
      }
    },
    {
      "cell_type": "markdown",
      "source": [
        "## Description"
      ],
      "metadata": {
        "id": "DhDZ4O772bhm"
      }
    },
    {
      "cell_type": "markdown",
      "source": [
        "Given two strings `s` and `t`, return `true` if `t` is an anagram of `s`, and `false` otherwise.\n",
        "\n",
        "An **Anagram** is a word or phrase formed by rearranging the letters of a different word or phrase, typically using all the original letters exactly once.\n",
        "\n",
        "**Example 1**:\n",
        "\n",
        "- **Input**: `s = \"anagram\", t = \"nagaram\"`\n",
        "- **Output**: `true`\n",
        "\n",
        "**Example 2**:\n",
        "\n",
        "- **Input**: `s = \"rat\", t = \"car\"`\n",
        "- **Output**: `false`\n",
        "\n",
        "**Constraints**:\n",
        "\n",
        "- `1 <= s.length, t.length <= 5 * 10^4`\n",
        "- `s` and `t` consist of lowercase English letters.\n",
        "\n",
        "**Follow up**: What if the inputs contain Unicode characters? How would you adapt your solution to such a case?"
      ],
      "metadata": {
        "id": "l94frwbk2bhm"
      }
    },
    {
      "cell_type": "markdown",
      "source": [
        "## Solution 1: Use two dictionaries `s_chars` & `t_chars` to keep count of characters in each string, then compare them to check if strings are valid anagrams of each other"
      ],
      "metadata": {
        "id": "EsQbOVJj2bhm"
      }
    },
    {
      "cell_type": "code",
      "source": [
        "class Solution(object):\n",
        "    def isAnagram(self, s, t):\n",
        "        \"\"\"\n",
        "        :type s: str\n",
        "        :type t: str\n",
        "        :rtype: bool\n",
        "        \"\"\"\n",
        "        if len(s) != len(t):\n",
        "            return False\n",
        "\n",
        "        s_chars, t_chars = {}, {}\n",
        "        for i, j in zip(s, t):\n",
        "            s_chars[i] = s_chars.get(i, 0) + 1\n",
        "            t_chars[j] = t_chars.get(j, 0) + 1\n",
        "\n",
        "        for char in s_chars:\n",
        "            if char not in t_chars:\n",
        "                return False\n",
        "            s_char_count = s_chars[char]\n",
        "            t_char_count = t_chars[char]\n",
        "            if s_char_count != t_char_count:\n",
        "                return False\n",
        "\n",
        "        return True"
      ],
      "metadata": {
        "id": "vl8XtReF7g7_"
      },
      "execution_count": null,
      "outputs": []
    },
    {
      "cell_type": "markdown",
      "source": [
        "- Time Complexity:\n",
        "    - Running two for loops of $n$ iterations with each iteration taking $O(1)$ time $\\implies$ Time Complexity = $O(n)$\n",
        "- Space Complexity:\n",
        "    - Extra dictionaries `s_chars` & `t_chars` of size $n$ $\\implies$ Space Complexity = $O(n)$\n",
        "\n",
        "**Note**\n",
        "\n",
        "The time complexity of the line `if char not in t_chars` is $O(1)$. The `in` operator with a Python dictionary utilizes hashing, allowing for quick lookups of elements within the dictionary. Therefore, regardless of the number of elements currently in `t_chars`, checking if a value exists takes roughly the same constant amount of time."
      ],
      "metadata": {
        "id": "3UMu-bFy7-Wg"
      }
    },
    {
      "cell_type": "markdown",
      "source": [
        "## Solution 2: Optimize the last for loop"
      ],
      "metadata": {
        "id": "Qa492z6NONWz"
      }
    },
    {
      "cell_type": "code",
      "source": [
        "class Solution(object):\n",
        "    def isAnagram(self, s, t):\n",
        "        \"\"\"\n",
        "        :type s: str\n",
        "        :type t: str\n",
        "        :rtype: bool\n",
        "        \"\"\"\n",
        "        if len(s) != len(t):\n",
        "            return False\n",
        "\n",
        "        s_chars, t_chars = {}, {}\n",
        "        for i, j in zip(s, t):\n",
        "            s_chars[i] = s_chars.get(i, 0) + 1\n",
        "            t_chars[j] = t_chars.get(j, 0) + 1\n",
        "\n",
        "        for char in s_chars:\n",
        "            if s_chars[char] != t_chars.get(char, 0):\n",
        "                return False\n",
        "\n",
        "        return True"
      ],
      "metadata": {
        "id": "94T7xqQnONW0"
      },
      "execution_count": null,
      "outputs": []
    },
    {
      "cell_type": "markdown",
      "source": [
        "- Time Complexity:\n",
        "    - Running two for loops of $n$ iterations with each iteration taking $O(1)$ time $\\implies$ Time Complexity = $O(n)$\n",
        "- Space Complexity:\n",
        "    - Extra dictionaries `s_chars` & `t_chars` of size $n$ $\\implies$ Space Complexity = $O(n)$"
      ],
      "metadata": {
        "id": "bI9nsMnLONW1"
      }
    },
    {
      "cell_type": "markdown",
      "source": [
        "## Solution 3: Use `==` operation of $O(1)$ time complexity for comparison of dictionaries instead of the last for loop having $O(n)$ time complexity"
      ],
      "metadata": {
        "id": "2b-fhnwg-f3U"
      }
    },
    {
      "cell_type": "code",
      "source": [
        "class Solution(object):\n",
        "    def isAnagram(self, s, t):\n",
        "        \"\"\"\n",
        "        :type s: str\n",
        "        :type t: str\n",
        "        :rtype: bool\n",
        "        \"\"\"\n",
        "        if len(s) != len(t):\n",
        "            return False\n",
        "\n",
        "        s_chars, t_chars = {}, {}\n",
        "        for i, j in zip(s, t):\n",
        "            s_chars[i] = s_chars.get(i, 0) + 1\n",
        "            t_chars[j] = t_chars.get(j, 0) + 1\n",
        "\n",
        "        return s_chars == t_chars"
      ],
      "metadata": {
        "id": "q3uokpoX-f3V"
      },
      "execution_count": null,
      "outputs": []
    },
    {
      "cell_type": "markdown",
      "source": [
        "- Time Complexity:\n",
        "    - Running a single for loop of $n$ iterations with each iteration taking $O(1)$ time $\\implies$ Time Complexity = $O(n)$\n",
        "- Space Complexity:\n",
        "    - Extra dictionaries `s_chars` & `t_chars` of size $n$ $\\implies$ Space Complexity = $O(n)$"
      ],
      "metadata": {
        "id": "jLqyo_j_-f3X"
      }
    },
    {
      "cell_type": "markdown",
      "source": [
        "## Solution 4: Use Python Counter to compare strings (may not be admissible as a solution in Interviews)"
      ],
      "metadata": {
        "id": "mxiB1640QkPK"
      }
    },
    {
      "cell_type": "code",
      "source": [
        "class Solution(object):\n",
        "    def isAnagram(self, s, t):\n",
        "        \"\"\"\n",
        "        :type s: str\n",
        "        :type t: str\n",
        "        :rtype: bool\n",
        "        \"\"\"\n",
        "        if len(s) != len(t):\n",
        "            return False\n",
        "\n",
        "        return Counter(s) == Counter(t)"
      ],
      "metadata": {
        "id": "JaPeJdWZQkPZ"
      },
      "execution_count": null,
      "outputs": []
    },
    {
      "cell_type": "markdown",
      "source": [
        "- Time Complexity:\n",
        "    - `Counter(s)` and `Counter(t)` create dictionaries to store character counts in both strings $\\implies$ Time Complexity = $O(n)$\n",
        "- Space Complexity:\n",
        "    - Extra dictionaries `Counter(s)` & `Counter(t)` of size $n$ $\\implies$ Space Complexity = $O(n)$\n",
        "\n",
        "**Note 1**\n",
        "\n",
        "In Python, `Counter` is a subclass of dictionary (`dict`) that comes from the `collections` module. It is specifically designed to efficiently count hashable objects.\n",
        "\n",
        "**Note 2**\n",
        "\n",
        "The above solution may not be admissible in Interviews since it is a shortcut solution and does not reveal the thought process of the candidate."
      ],
      "metadata": {
        "id": "KacyMtCNQkPa"
      }
    },
    {
      "cell_type": "markdown",
      "source": [
        "## Solution 5: Remove extra space with Sorting"
      ],
      "metadata": {
        "id": "7LU62PuvUHLv"
      }
    },
    {
      "cell_type": "code",
      "source": [
        "class Solution(object):\n",
        "    def isAnagram(self, s, t):\n",
        "        \"\"\"\n",
        "        :type s: str\n",
        "        :type t: str\n",
        "        :rtype: bool\n",
        "        \"\"\"\n",
        "        if len(s) != len(t):\n",
        "            return False\n",
        "\n",
        "        return sorted(s) == sorted(t)"
      ],
      "metadata": {
        "id": "xcehJqNvUHLx"
      },
      "execution_count": null,
      "outputs": []
    },
    {
      "cell_type": "markdown",
      "source": [
        "- Time Complexity:\n",
        "    - Sort strings `s` and `t` using `sorted(s)` & `sorted(s)` $\\implies$ Time Complexity = $O(n \\times \\log n)$\n",
        "    - Comparison `sorted(s) == sorted(t)` $\\implies$ Time Complexity = $O(n)$\n",
        "    - Overall Time Complexity = $O(n \\times \\log n)$\n",
        "- Space Complexity:\n",
        "    - If constant space taken by Sorting algorithm, then we have no other extra space $\\implies$ Space Complexity = $O(1)$"
      ],
      "metadata": {
        "id": "GKIyvCWvUHLy"
      }
    },
    {
      "cell_type": "markdown",
      "source": [
        "![rainbow](https://github.com/ancilcleetus/My-Learning-Journey/assets/25684256/839c3524-2a1d-4779-85a0-83c562e1e5e5)"
      ],
      "metadata": {
        "id": "M7YCCY5X7jmv"
      }
    },
    {
      "cell_type": "markdown",
      "source": [
        "# Q7. [LeetCode 1: Two Sum](https://leetcode.com/problems/two-sum/) Difficulty: ${\\color{green}{Easy}}$"
      ],
      "metadata": {
        "id": "yT4M7LNNZtWT"
      }
    },
    {
      "cell_type": "markdown",
      "source": [
        "## Description"
      ],
      "metadata": {
        "id": "Hk7yIcjdZtWU"
      }
    },
    {
      "cell_type": "markdown",
      "source": [
        "Given an array of integers `nums` and an integer `target`, return indices of the two numbers such that they add up to `target`.\n",
        "\n",
        "You may assume that each input would have **exactly one solution**, and you may not use the same element twice.\n",
        "\n",
        "You can return the answer in any order.\n",
        "\n",
        "**Example 1**:\n",
        "\n",
        "- **Input**: `nums = [2,7,11,15], target = 9`\n",
        "- **Output**: `[0,1]`\n",
        "- **Explanation**: `Because nums[0] + nums[1] == 9, we return [0, 1].`\n",
        "\n",
        "**Example 2**:\n",
        "\n",
        "- **Input**: `nums = [3,2,4], target = 6`\n",
        "- **Output**: `[1,2]`\n",
        "\n",
        "**Example 3**:\n",
        "\n",
        "- **Input**: `nums = [3,3], target = 6`\n",
        "- **Output**: `[0,1]`\n",
        "\n",
        "**Constraints**:\n",
        "\n",
        "- `2 <= nums.length <= 10^4`\n",
        "- `-10^9 <= nums[i] <= 10^9`\n",
        "- `-10^9 <= target <= 10^9`\n",
        "- **Only one valid answer exists.**\n",
        "\n",
        "**Follow-up**: Can you come up with an algorithm that is less than $O(n^2)$ time complexity?"
      ],
      "metadata": {
        "id": "mwup7KrMbAIH"
      }
    },
    {
      "cell_type": "markdown",
      "source": [
        "## Solution 1: Brute-Force Approach - Use nested for loop and check all the combinations"
      ],
      "metadata": {
        "id": "uUUk-orchgpX"
      }
    },
    {
      "cell_type": "code",
      "source": [
        "class Solution(object):\n",
        "    def twoSum(self, nums, target):\n",
        "        \"\"\"\n",
        "        :type nums: List[int]\n",
        "        :type target: int\n",
        "        :rtype: List[int]\n",
        "        \"\"\"\n",
        "        length = len(nums)\n",
        "        for i in range(0, length-1):\n",
        "            for j in range(i+1, length):\n",
        "                if nums[i] + nums[j] == target:\n",
        "                    return [i, j]"
      ],
      "metadata": {
        "id": "C9gTO3IFhgpn"
      },
      "execution_count": null,
      "outputs": []
    },
    {
      "cell_type": "markdown",
      "source": [
        "- Time Complexity:\n",
        "    - Running a nested for loop of $n^2$ iterations with each iteration taking $O(1)$ time $\\implies$ Time Complexity = $O(n^2)$\n",
        "- Space Complexity:\n",
        "    - Extra variable `length` of constant space $\\implies$ Space Complexity = $O(1)$"
      ],
      "metadata": {
        "id": "xdryGA_dhgpn"
      }
    },
    {
      "cell_type": "markdown",
      "source": [
        "## Solution 2: Use `num_indices` dictionary that stores list of indices of all unique elements and reduce time complexity"
      ],
      "metadata": {
        "id": "JUbtbOmVVJlT"
      }
    },
    {
      "cell_type": "code",
      "source": [
        "class Solution(object):\n",
        "    def twoSum(self, nums, target):\n",
        "        \"\"\"\n",
        "        :type nums: List[int]\n",
        "        :type target: int\n",
        "        :rtype: List[int]\n",
        "        \"\"\"\n",
        "        length = len(nums)\n",
        "        num_indices = {}  # val: [indices]\n",
        "\n",
        "        for i in range(0, length):\n",
        "            if nums[i] not in num_indices:\n",
        "                num_indices[nums[i]] = [i]\n",
        "            else:\n",
        "                num_indices[nums[i]].append(i)\n",
        "\n",
        "        for num in num_indices:\n",
        "            indices = num_indices[num]\n",
        "            diff = target - num\n",
        "            if len(indices) == 1 and diff in num_indices:\n",
        "                i = indices[0]\n",
        "                j = num_indices[diff][0]\n",
        "                if i != j:\n",
        "                    return [i, j]\n",
        "            elif len(indices) > 1 and diff == num:\n",
        "                return indices[:2]"
      ],
      "metadata": {
        "id": "n18_NvxzVJlV"
      },
      "execution_count": null,
      "outputs": []
    },
    {
      "cell_type": "markdown",
      "source": [
        "- Time Complexity:\n",
        "    - Running two for loops of $n$ iterations with each iteration taking $O(1)$ time $\\implies$ Time Complexity = $O(n)$\n",
        "- Space Complexity:\n",
        "    - Extra dictionary `num_indices` of space proportional to $n$ $\\implies$ Space Complexity = $O(n)$\n",
        "\n",
        "**Note**\n",
        "\n",
        "Extra variable `length` of constant space can be ignored."
      ],
      "metadata": {
        "id": "knCq843DVJlW"
      }
    },
    {
      "cell_type": "markdown",
      "source": [
        "## Solution 3: Populate `prev_indices` dictionary while also checking for `diff` at the same time"
      ],
      "metadata": {
        "id": "dqwSWU4hZ_Ap"
      }
    },
    {
      "cell_type": "markdown",
      "source": [
        "In the above solution, we created `num_indices` dictionary first and then started checking whether `diff = target - num` is also present in the dictionary. This method has 1 problem though. If `target = num + num`, then `diff` equals `num` and membership check returns `True` even if there is only a single `num`. Because of this corner case, we had to add the condition `if i != j` in Solution 2.\n",
        "\n",
        "Hence, we should check membership of `diff` first before adding `num` to dictionary. If membership check returns `True`, we should return both the indices, otherwise `num` is added to the dictionary. This ensures that, by the time we reach the second element constituting the `target` value, the first element is already added to the dictionary. Hence, we can return both the indices and exit and don't need to add the remaining non-relevant elements.\n",
        "\n",
        "Hence, instead of storing list of indices of each unique element, we use a dictionary `prev_indices` that stores only a single index. We can populate the dictionary and also check membership for `diff` at the same time."
      ],
      "metadata": {
        "id": "tJ43J-5zaMZi"
      }
    },
    {
      "cell_type": "code",
      "source": [
        "class Solution(object):\n",
        "    def twoSum(self, nums, target):\n",
        "        \"\"\"\n",
        "        :type nums: List[int]\n",
        "        :type target: int\n",
        "        :rtype: List[int]\n",
        "        \"\"\"\n",
        "        length = len(nums)\n",
        "        prev_indices = {}  # val: index\n",
        "\n",
        "        for i in range(0, length):\n",
        "            diff = target - nums[i]\n",
        "            if diff in prev_indices:\n",
        "                return [prev_indices[diff], i]\n",
        "            prev_indices[nums[i]] = i"
      ],
      "metadata": {
        "id": "EsaIVKg-Z_Aq"
      },
      "execution_count": null,
      "outputs": []
    },
    {
      "cell_type": "markdown",
      "source": [
        "- Time Complexity:\n",
        "    - Running a for loop of $n$ iterations with each iteration taking $O(1)$ time $\\implies$ Time Complexity = $O(n)$\n",
        "- Space Complexity:\n",
        "    - Extra dictionary `prev_indices` of space proportional to $n$ $\\implies$ Space Complexity = $O(n)$\n",
        "\n",
        "**Note**\n",
        "\n",
        "Extra variable `length` of constant space can be ignored."
      ],
      "metadata": {
        "id": "MH2ahGVEZ_Ar"
      }
    },
    {
      "cell_type": "markdown",
      "source": [
        "![rainbow](https://github.com/ancilcleetus/My-Learning-Journey/assets/25684256/839c3524-2a1d-4779-85a0-83c562e1e5e5)"
      ],
      "metadata": {
        "id": "Zt-s7BnTZkNi"
      }
    },
    {
      "cell_type": "markdown",
      "source": [
        "# Q8. [LeetCode 49: Group Anagrams](https://leetcode.com/problems/group-anagrams/) Difficulty: ${\\color{orange}{Medium}}$"
      ],
      "metadata": {
        "id": "rxDIVa7tNFxH"
      }
    },
    {
      "cell_type": "markdown",
      "source": [
        "## Description"
      ],
      "metadata": {
        "id": "miS53SZ5PCsK"
      }
    },
    {
      "cell_type": "markdown",
      "source": [
        "Given an array of strings `strs`, group **the anagrams** together. You can return the answer in **any order**.\n",
        "\n",
        "An **Anagram** is a word or phrase formed by rearranging the letters of a different word or phrase, typically using all the original letters exactly once.\n",
        "\n",
        "**Example 1**:\n",
        "\n",
        "- **Input**: `strs = [\"eat\",\"tea\",\"tan\",\"ate\",\"nat\",\"bat\"]`\n",
        "- **Output**: `[[\"bat\"],[\"nat\",\"tan\"],[\"ate\",\"eat\",\"tea\"]]`\n",
        "\n",
        "**Example 2**:\n",
        "\n",
        "- **Input**: `strs = [\"\"]`\n",
        "- **Output**: `[[\"\"]]`\n",
        "\n",
        "**Example 3**:\n",
        "\n",
        "- **Input**: `strs = [\"a\"]`\n",
        "- **Output**: `[[\"a\"]]`\n",
        "\n",
        "**Constraints**:\n",
        "\n",
        "- `1 <= strs.length <= 10^4`\n",
        "- `0 <= strs[i].length <= 100`\n",
        "- `strs[i]` consists of lowercase English letters."
      ],
      "metadata": {
        "id": "sp_w84BiPCsc"
      }
    },
    {
      "cell_type": "markdown",
      "source": [
        "## Solution 1"
      ],
      "metadata": {
        "id": "VhPZFDpuQ9K5"
      }
    },
    {
      "cell_type": "code",
      "source": [
        "class Solution(object):\n",
        "    def groupAnagrams(self, strs):\n",
        "        \"\"\"\n",
        "        :type strs: List[str]\n",
        "        :rtype: List[List[str]]\n",
        "        \"\"\"\n",
        "        dicts, anagrams = [], []\n",
        "\n",
        "        for string in strs:\n",
        "            append_status = False\n",
        "            d1 = {}\n",
        "            for char in string:\n",
        "                d1[char] = d1.get(char, 0) + 1\n",
        "\n",
        "            for i, d2 in enumerate(dicts):\n",
        "                if d1 == d2:\n",
        "                    anagrams[i].append(string)\n",
        "                    append_status = True\n",
        "\n",
        "            if append_status == False:\n",
        "                anagrams.append([string])\n",
        "                dicts.append(d1)\n",
        "\n",
        "        return anagrams"
      ],
      "metadata": {
        "id": "JKBn6IRLX2CF"
      },
      "execution_count": null,
      "outputs": []
    },
    {
      "cell_type": "markdown",
      "source": [
        "Let no of strings in `strs` be $n$ and average no of characters in a string be `m`.\n",
        "\n",
        "- Time Complexity:\n",
        "    - Running a nested for loop of $n \\times m$ iterations with each iteration taking $O(1)$ time $\\implies$ Time Complexity = $O(n \\times m)$\n",
        "- Space Complexity:\n",
        "    - Extra lists `dicts, anagrams` of space proportional to $n \\times m$ $\\implies$ Space Complexity = $O(n \\times m)$\n",
        "\n",
        "**Note**\n",
        "\n",
        "Extra variable `append_status` of constant space can be ignored."
      ],
      "metadata": {
        "id": "ckX0ecr6sEuC"
      }
    },
    {
      "cell_type": "markdown",
      "source": [
        "## Solution 2"
      ],
      "metadata": {
        "id": "KSpMga1K3gMf"
      }
    },
    {
      "cell_type": "code",
      "source": [
        "class Solution:\n",
        "    def groupAnagrams(self, strs: List[str]) -> List[List[str]]:\n",
        "        d = {}  # charCount: list of Anagrams\n",
        "        ref = [\n",
        "            'a', 'b', 'c', 'd', 'e', 'f', 'g', 'h', 'i', 'j',\n",
        "            'k', 'l', 'm', 'n', 'o', 'p', 'q', 'r', 's', 't',\n",
        "            'u', 'v', 'w', 'x', 'y', 'z'\n",
        "        ]\n",
        "\n",
        "        for string in strs:\n",
        "            count = [0] * 26\n",
        "            for char in string:\n",
        "                count[ord(char)-ord('a')] += 1\n",
        "\n",
        "            charCount = \"\"\n",
        "            for i, val in enumerate(count):\n",
        "                if val != 0:\n",
        "                    charCount += f\"{ref[i]}{val}\"\n",
        "            if charCount not in d:\n",
        "                d[charCount] = [string]\n",
        "            else:\n",
        "                d[charCount].append(string)\n",
        "\n",
        "        anagrams = []\n",
        "        for charCount, list_anagrams in d.items():\n",
        "            anagrams.append(list_anagrams)\n",
        "\n",
        "        return anagrams"
      ],
      "metadata": {
        "id": "FFPXRtrB3dwH"
      },
      "execution_count": null,
      "outputs": []
    },
    {
      "cell_type": "markdown",
      "source": [
        "Let no of strings in `strs` be $n$ and average no of characters in a string be `m`.\n",
        "\n",
        "- Time Complexity:\n",
        "    - Running a nested for loop of $n \\times m$ iterations with each iteration taking $O(1)$ time $\\implies$ Time Complexity = $O(n \\times m)$\n",
        "- Space Complexity:\n",
        "    - Extra list `anagrams` & dictionary `d` of space proportional to $n \\times m$ $\\implies$ Space Complexity = $O(n \\times m)$\n",
        "\n",
        "**Note**\n",
        "\n",
        "Extra datastructures `ref, count` and variable `charCount` of constant space can be ignored."
      ],
      "metadata": {
        "id": "3QYRyYjzYMwG"
      }
    },
    {
      "cell_type": "markdown",
      "source": [
        "## Solution 3"
      ],
      "metadata": {
        "id": "x5IZWVzSboCw"
      }
    },
    {
      "cell_type": "markdown",
      "source": [
        "We can use `defaultdict(list)` to create a dictionary that has an empty list as default value for a new key. Thus, we can directly append to a list without creating it. Also, we can get `anagrams` list directly using `d.values()`."
      ],
      "metadata": {
        "id": "tk2ZkwqTbzLM"
      }
    },
    {
      "cell_type": "code",
      "source": [
        "class Solution:\n",
        "    def groupAnagrams(self, strs: List[str]) -> List[List[str]]:\n",
        "        d = defaultdict(list)  # charCount: list of Anagrams\n",
        "        ref = [\n",
        "            'a', 'b', 'c', 'd', 'e', 'f', 'g', 'h', 'i', 'j',\n",
        "            'k', 'l', 'm', 'n', 'o', 'p', 'q', 'r', 's', 't',\n",
        "            'u', 'v', 'w', 'x', 'y', 'z'\n",
        "        ]\n",
        "\n",
        "        for string in strs:\n",
        "            count = [0] * 26\n",
        "            for char in string:\n",
        "                count[ord(char)-ord('a')] += 1\n",
        "\n",
        "            charCount = \"\"\n",
        "            for i, val in enumerate(count):\n",
        "                if val != 0:\n",
        "                    charCount += f\"{ref[i]}{val}\"\n",
        "\n",
        "            d[charCount].append(string)\n",
        "\n",
        "        anagrams = d.values()\n",
        "\n",
        "        return anagrams"
      ],
      "metadata": {
        "id": "BpHplCfibptJ"
      },
      "execution_count": null,
      "outputs": []
    },
    {
      "cell_type": "markdown",
      "source": [
        "Let no of strings in `strs` be $n$ and average no of characters in a string be `m`.\n",
        "\n",
        "- Time Complexity:\n",
        "    - Running a nested for loop of $n \\times m$ iterations with each iteration taking $O(1)$ time $\\implies$ Time Complexity = $O(n \\times m)$\n",
        "- Space Complexity:\n",
        "    - Extra list `anagrams` & dictionary `d` of space proportional to $n \\times m$ $\\implies$ Space Complexity = $O(n \\times m)$\n",
        "\n",
        "**Note**\n",
        "\n",
        "Extra datastructures `ref, count` and variable `charCount` of constant space can be ignored."
      ],
      "metadata": {
        "id": "03pZtJ9kcQIA"
      }
    },
    {
      "cell_type": "markdown",
      "source": [
        "![rainbow](https://github.com/ancilcleetus/My-Learning-Journey/assets/25684256/839c3524-2a1d-4779-85a0-83c562e1e5e5)"
      ],
      "metadata": {
        "id": "k7WKpUztNHNX"
      }
    },
    {
      "cell_type": "markdown",
      "source": [
        "# Q9. [LeetCode 347: Top K Frequent Elements](https://leetcode.com/problems/top-k-frequent-elements/) Difficulty: ${\\color{orange}{Medium}}$"
      ],
      "metadata": {
        "id": "HTaC6sVuFG81"
      }
    },
    {
      "cell_type": "markdown",
      "source": [
        "## Description"
      ],
      "metadata": {
        "id": "lD-M986DFbcD"
      }
    },
    {
      "cell_type": "markdown",
      "source": [
        "Given an integer array `nums` and an integer `k`, return the `k` *most frequent elements*. You may return the answer in **any order**.\n",
        "\n",
        "**Example 1**:\n",
        "\n",
        "- **Input**: `nums = [1,1,1,2,2,3], k = 2`\n",
        "- **Output**: `[1,2]`\n",
        "\n",
        "**Example 2**:\n",
        "\n",
        "- **Input**: `nums = [1], k = 1`\n",
        "- **Output**: `[1]`\n",
        "\n",
        "**Constraints**:\n",
        "\n",
        "- `1 <= nums.length <= 10^5`\n",
        "- `-10^4 <= nums[i] <= 10^4`\n",
        "- `k` is in the range `[1, the number of unique elements in the array]`.\n",
        "- It is **guaranteed** that the answer is **unique**.\n",
        "\n",
        "**Follow up**: Your algorithm's time complexity must be better than $O(n \\log n)$, where $n$ is the array's size."
      ],
      "metadata": {
        "id": "qZXkIC4eFbcl"
      }
    },
    {
      "cell_type": "markdown",
      "source": [
        "## Solution 1: Use `num_count` dictionary to get counts of elements, then sort the dictionary & store into list of tuples, extract top k elements from the list of tuples"
      ],
      "metadata": {
        "id": "nXaQGjU6UF9c"
      }
    },
    {
      "cell_type": "code",
      "source": [
        "class Solution:\n",
        "    def topKFrequent(self, nums: List[int], k: int) -> List[int]:\n",
        "        num_count = {}\n",
        "        for num in nums:\n",
        "            num_count[num] = num_count.get(num, 0) + 1\n",
        "\n",
        "        # Sort the dictionary by values in descending order & store in list of tuples\n",
        "        num_count = sorted(num_count.items(), key=lambda item: item[1], reverse=True)\n",
        "        top_k_elements = [item[0] for item in num_count][:k]\n",
        "\n",
        "        return top_k_elements"
      ],
      "metadata": {
        "id": "8xg96ML8UF9u"
      },
      "execution_count": null,
      "outputs": []
    },
    {
      "cell_type": "markdown",
      "source": [
        "- Time Complexity:\n",
        "    - The for loop of $n$ iterations with each iteration taking $O(1)$ time $\\implies$ $O(n)$ time\n",
        "    - Sorting `num_count` dictionary takes $O(n \\log n)$ time\n",
        "    - Hence, Time Complexity = $O(n \\log n)$\n",
        "- Space Complexity:\n",
        "    - Extra datastructures `num_count, top_k_elements` of space proportional to $n$ $\\implies$ Space Complexity = $O(n)$"
      ],
      "metadata": {
        "id": "TthZJSoBUF9u"
      }
    },
    {
      "cell_type": "markdown",
      "source": [
        "## Solution 2: Use `num_count` dictionary to create `freq` list of lists with indices -> counts & sublists -> list of elements with that count, then extract top k elements from the `freq` list by traversing in reverse order till k elements are extracted"
      ],
      "metadata": {
        "id": "PjWH60MMg6WX"
      }
    },
    {
      "cell_type": "code",
      "source": [
        "class Solution:\n",
        "    def topKFrequent(self, nums: List[int], k: int) -> List[int]:\n",
        "        num_count = {}\n",
        "        for num in nums:\n",
        "            num_count[num] = num_count.get(num, 0) + 1\n",
        "\n",
        "        freq = [[] for i in range(0, len(nums)+1)]\n",
        "        for num, count in num_count.items():\n",
        "            freq[count].append(num)\n",
        "\n",
        "        top_k_elements = []\n",
        "        for j in range(len(freq)-1, 0, -1):\n",
        "            nums = freq[j]\n",
        "            for num in nums:\n",
        "                top_k_elements.append(num)\n",
        "                if len(top_k_elements) == k:\n",
        "                    return top_k_elements"
      ],
      "metadata": {
        "id": "QvVb7Xftg6WY"
      },
      "execution_count": null,
      "outputs": []
    },
    {
      "cell_type": "markdown",
      "source": [
        "- Time Complexity:\n",
        "    - All the three for loops each of $n$ iterations with each iteration taking $O(1)$ time $\\implies$ Time Complexity = $O(n)$\n",
        "- Space Complexity:\n",
        "    - Extra datastructures `num_count, freq, top_k_elements` of space proportional to $n$ $\\implies$ Space Complexity = $O(n)$"
      ],
      "metadata": {
        "id": "4_DSyy7Sg6WY"
      }
    },
    {
      "cell_type": "markdown",
      "source": [
        "![rainbow](https://github.com/ancilcleetus/My-Learning-Journey/assets/25684256/839c3524-2a1d-4779-85a0-83c562e1e5e5)"
      ],
      "metadata": {
        "id": "l3OKNSnRFKQl"
      }
    },
    {
      "cell_type": "markdown",
      "source": [
        "# Q10. [LeetCode 271: Encode and Decode Strings](https://leetcode.com/problems/encode-and-decode-strings/) Difficulty: ${\\color{orange}{Medium}}$"
      ],
      "metadata": {
        "id": "sW124RZ_sdsR"
      }
    },
    {
      "cell_type": "markdown",
      "source": [
        "## Description"
      ],
      "metadata": {
        "id": "PgK-cXUBsdsl"
      }
    },
    {
      "cell_type": "markdown",
      "source": [
        "Design an algorithm to encode a list of strings to a single string. The encoded string is then decoded back to the original list of strings.\n",
        "\n",
        "Please implement `encode` and `decode`.\n",
        "\n",
        "**Example 1**:\n",
        "\n",
        "- **Input**: `[\"neet\",\"code\",\"love\",\"you\"]`\n",
        "- **Output**: `[\"neet\",\"code\",\"love\",\"you\"]`\n",
        "\n",
        "**Example 2**:\n",
        "\n",
        "- **Input**: `[\"we\",\"say\",\":\",\"yes\"]`\n",
        "- **Output**: `[\"we\",\"say\",\":\",\"yes\"]`\n",
        "\n",
        "**Constraints**:\n",
        "\n",
        "- `0 <= strs.length < 100`\n",
        "- `0 <= strs[i].length < 200`\n",
        "- `strs[i]` contains only UTF-8 characters."
      ],
      "metadata": {
        "id": "sHlbZHrhsdsl"
      }
    },
    {
      "cell_type": "markdown",
      "source": [
        "![rainbow](https://github.com/ancilcleetus/My-Learning-Journey/assets/25684256/839c3524-2a1d-4779-85a0-83c562e1e5e5)"
      ],
      "metadata": {
        "id": "PZgkG7EYsfpj"
      }
    },
    {
      "cell_type": "markdown",
      "source": [
        "Difficulty: ${\\color{green}{Easy}}$\n",
        "Difficulty: ${\\color{orange}{Medium}}$\n",
        "Difficulty: ${\\color{red}{Hard}}$"
      ],
      "metadata": {
        "id": "Pf0qrlJcsUj9"
      }
    },
    {
      "cell_type": "code",
      "source": [
        "# Deep Learning as subset of ML\n",
        "\n",
        "from IPython import display\n",
        "display.Image(\"data/images/DL_01_Intro-01-DL-subset-of-ML.jpg\")"
      ],
      "metadata": {
        "id": "juNAxVBFg7sw"
      },
      "execution_count": null,
      "outputs": []
    },
    {
      "cell_type": "markdown",
      "source": [
        "![rainbow](https://github.com/ancilcleetus/My-Learning-Journey/assets/25684256/839c3524-2a1d-4779-85a0-83c562e1e5e5)"
      ],
      "metadata": {
        "id": "qqv0L0R9dyKJ"
      }
    }
  ]
}