{
  "nbformat": 4,
  "nbformat_minor": 0,
  "metadata": {
    "colab": {
      "provenance": []
    },
    "kernelspec": {
      "name": "python3",
      "display_name": "Python 3"
    },
    "language_info": {
      "name": "python"
    }
  },
  "cells": [
    {
      "cell_type": "markdown",
      "source": [
        "# 1. Algorithmic Complexity"
      ],
      "metadata": {
        "id": "bKim3KwyTp11"
      }
    },
    {
      "cell_type": "markdown",
      "source": [
        "- Efficient Program $\\Rightarrow$ $\\downarrow$ Time, $\\downarrow$ Space\n",
        "- Time Efficiency $\\Rightarrow$ Eg: PageRank algorithm used for Google Search (searches and ranks billions of websites under 1 sec)\n",
        "- Space Efficiency $\\Rightarrow$ Eg: Facebook Android App Vs Facebook Lite Android App\n",
        "\n",
        "| App | RAM | Storage |\n",
        "| :-- | :-- | ------- |\n",
        "| Facebook Android | 200-500 MB | 70MB-1GB |\n",
        "| Facebook Lite Android | 20-70 MB | 2MB-100MB |\n"
      ],
      "metadata": {
        "id": "_EXvjAOzKIsa"
      }
    },
    {
      "cell_type": "code",
      "source": [
        "# Deep Learning as subset of ML\n",
        "\n",
        "from IPython import display\n",
        "display.Image(\"data/images/DL_01_Intro-01-DL-subset-of-ML.jpg\")"
      ],
      "metadata": {
        "id": "juNAxVBFg7sw"
      },
      "execution_count": null,
      "outputs": []
    }
  ]
}