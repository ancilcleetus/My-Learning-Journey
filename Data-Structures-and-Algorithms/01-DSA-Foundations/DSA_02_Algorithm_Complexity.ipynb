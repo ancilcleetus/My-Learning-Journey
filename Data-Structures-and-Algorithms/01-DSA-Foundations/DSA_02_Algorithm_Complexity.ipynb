{
  "nbformat": 4,
  "nbformat_minor": 0,
  "metadata": {
    "colab": {
      "provenance": []
    },
    "kernelspec": {
      "name": "python3",
      "display_name": "Python 3"
    },
    "language_info": {
      "name": "python"
    }
  },
  "cells": [
    {
      "cell_type": "markdown",
      "source": [
        "![rainbow](https://github.com/ancilcleetus/My-Learning-Journey/assets/25684256/839c3524-2a1d-4779-85a0-83c562e1e5e5)"
      ],
      "metadata": {
        "id": "vvsjcmntUBKc"
      }
    },
    {
      "cell_type": "markdown",
      "source": [
        "# 1. Algorithmic Complexity"
      ],
      "metadata": {
        "id": "bKim3KwyTp11"
      }
    },
    {
      "cell_type": "markdown",
      "source": [
        "- Efficient Program $\\Rightarrow$ $\\downarrow$ Time, $\\downarrow$ Space\n",
        "- Time Efficiency $\\Rightarrow$ Eg: PageRank algorithm used for Google Search (searches and ranks billions of websites under 1 sec)\n",
        "- Space Efficiency $\\Rightarrow$ Eg: Facebook Android App Vs Facebook Lite Android App\n",
        "\n",
        "| App | RAM | Storage |\n",
        "| :-- | :-- | ------- |\n",
        "| Facebook Android | 200-500 MB | 70MB-1GB |\n",
        "| Facebook Lite Android | 20-70 MB | 2MB-100MB |\n"
      ],
      "metadata": {
        "id": "_EXvjAOzKIsa"
      }
    },
    {
      "cell_type": "markdown",
      "source": [
        "![rainbow](https://github.com/ancilcleetus/My-Learning-Journey/assets/25684256/839c3524-2a1d-4779-85a0-83c562e1e5e5)"
      ],
      "metadata": {
        "id": "1NbCthPZUDFD"
      }
    },
    {
      "cell_type": "markdown",
      "source": [
        "# 2. Time Complexity"
      ],
      "metadata": {
        "id": "In50MGnMQpHx"
      }
    },
    {
      "cell_type": "markdown",
      "source": [
        "## 1. Techniques to measure Time Efficiency\n",
        "- Measuring execution time\n",
        "- Counting operations involved\n",
        "- Abstract notion of order of growth"
      ],
      "metadata": {
        "id": "MHGcnJxUUHgg"
      }
    },
    {
      "cell_type": "markdown",
      "source": [
        "### 1. Measuring execution time"
      ],
      "metadata": {
        "id": "gzAptpUiV-OW"
      }
    },
    {
      "cell_type": "code",
      "source": [
        "# Measuring execution time\n",
        "import time\n",
        "\n",
        "start = time.time()\n",
        "\n",
        "for i in range(1, 101):\n",
        "    print(f\"i = {i}\")\n",
        "\n",
        "print(f\"Execution time = {time.time()-start}\")"
      ],
      "metadata": {
        "colab": {
          "base_uri": "https://localhost:8080/"
        },
        "id": "eGKtVjdWVmeg",
        "outputId": "2a3f97e6-dbb7-4789-a7dd-2d0c9d2b693f"
      },
      "execution_count": 1,
      "outputs": [
        {
          "output_type": "stream",
          "name": "stdout",
          "text": [
            "i = 1\n",
            "i = 2\n",
            "i = 3\n",
            "i = 4\n",
            "i = 5\n",
            "i = 6\n",
            "i = 7\n",
            "i = 8\n",
            "i = 9\n",
            "i = 10\n",
            "i = 11\n",
            "i = 12\n",
            "i = 13\n",
            "i = 14\n",
            "i = 15\n",
            "i = 16\n",
            "i = 17\n",
            "i = 18\n",
            "i = 19\n",
            "i = 20\n",
            "i = 21\n",
            "i = 22\n",
            "i = 23\n",
            "i = 24\n",
            "i = 25\n",
            "i = 26\n",
            "i = 27\n",
            "i = 28\n",
            "i = 29\n",
            "i = 30\n",
            "i = 31\n",
            "i = 32\n",
            "i = 33\n",
            "i = 34\n",
            "i = 35\n",
            "i = 36\n",
            "i = 37\n",
            "i = 38\n",
            "i = 39\n",
            "i = 40\n",
            "i = 41\n",
            "i = 42\n",
            "i = 43\n",
            "i = 44\n",
            "i = 45\n",
            "i = 46\n",
            "i = 47\n",
            "i = 48\n",
            "i = 49\n",
            "i = 50\n",
            "i = 51\n",
            "i = 52\n",
            "i = 53\n",
            "i = 54\n",
            "i = 55\n",
            "i = 56\n",
            "i = 57\n",
            "i = 58\n",
            "i = 59\n",
            "i = 60\n",
            "i = 61\n",
            "i = 62\n",
            "i = 63\n",
            "i = 64\n",
            "i = 65\n",
            "i = 66\n",
            "i = 67\n",
            "i = 68\n",
            "i = 69\n",
            "i = 70\n",
            "i = 71\n",
            "i = 72\n",
            "i = 73\n",
            "i = 74\n",
            "i = 75\n",
            "i = 76\n",
            "i = 77\n",
            "i = 78\n",
            "i = 79\n",
            "i = 80\n",
            "i = 81\n",
            "i = 82\n",
            "i = 83\n",
            "i = 84\n",
            "i = 85\n",
            "i = 86\n",
            "i = 87\n",
            "i = 88\n",
            "i = 89\n",
            "i = 90\n",
            "i = 91\n",
            "i = 92\n",
            "i = 93\n",
            "i = 94\n",
            "i = 95\n",
            "i = 96\n",
            "i = 97\n",
            "i = 98\n",
            "i = 99\n",
            "i = 100\n",
            "Execution time = 0.0021064281463623047\n"
          ]
        }
      ]
    },
    {
      "cell_type": "markdown",
      "source": [
        "Pros and cons of this approach are given below:\n",
        "\n",
        "| Evaluation Criterion | Pass / Fail |\n",
        "| -- | :------ |\n",
        "| Different time for different algorithm | ✅ |\n",
        "| Time varies if implementation changes (eg: use of while loop instead of for loop will change execution time) | ❌ |\n",
        "| Different machines $\\implies$ different time | ❌ |\n",
        "| Do not work for extremely small input | ❌ |\n",
        "| Time varies for different inputs, but cannot extract the relationship between time and input | ❌ |\n",
        "\n",
        "Hence, this technique is not recommended."
      ],
      "metadata": {
        "id": "6_2XElpaWDtF"
      }
    },
    {
      "cell_type": "markdown",
      "source": [
        "![rainbow](https://github.com/ancilcleetus/My-Learning-Journey/assets/25684256/839c3524-2a1d-4779-85a0-83c562e1e5e5)"
      ],
      "metadata": {
        "id": "cL2NsLOSUFJc"
      }
    },
    {
      "cell_type": "code",
      "source": [
        "# Deep Learning as subset of ML\n",
        "\n",
        "from IPython import display\n",
        "display.Image(\"data/images/DL_01_Intro-01-DL-subset-of-ML.jpg\")"
      ],
      "metadata": {
        "id": "juNAxVBFg7sw"
      },
      "execution_count": null,
      "outputs": []
    }
  ]
}