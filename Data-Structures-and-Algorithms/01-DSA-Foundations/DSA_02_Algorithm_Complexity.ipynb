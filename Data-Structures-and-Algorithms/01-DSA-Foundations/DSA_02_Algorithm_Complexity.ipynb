{
  "nbformat": 4,
  "nbformat_minor": 0,
  "metadata": {
    "colab": {
      "provenance": []
    },
    "kernelspec": {
      "name": "python3",
      "display_name": "Python 3"
    },
    "language_info": {
      "name": "python"
    }
  },
  "cells": [
    {
      "cell_type": "markdown",
      "source": [
        "![rainbow](https://github.com/ancilcleetus/My-Learning-Journey/assets/25684256/839c3524-2a1d-4779-85a0-83c562e1e5e5)"
      ],
      "metadata": {
        "id": "vvsjcmntUBKc"
      }
    },
    {
      "cell_type": "markdown",
      "source": [
        "# 1. Algorithmic Complexity"
      ],
      "metadata": {
        "id": "bKim3KwyTp11"
      }
    },
    {
      "cell_type": "markdown",
      "source": [
        "- Efficient Program $\\Rightarrow$ $\\downarrow$ Time, $\\downarrow$ Space\n",
        "- Time Efficiency $\\Rightarrow$ Eg: PageRank algorithm used for Google Search (searches and ranks billions of websites under 1 sec)\n",
        "- Space Efficiency $\\Rightarrow$ Eg: Facebook Android App Vs Facebook Lite Android App\n",
        "\n",
        "| App | RAM | Storage |\n",
        "| :-- | :-- | ------- |\n",
        "| Facebook Android | 200-500 MB | 70MB-1GB |\n",
        "| Facebook Lite Android | 20-70 MB | 2MB-100MB |\n"
      ],
      "metadata": {
        "id": "_EXvjAOzKIsa"
      }
    },
    {
      "cell_type": "markdown",
      "source": [
        "![rainbow](https://github.com/ancilcleetus/My-Learning-Journey/assets/25684256/839c3524-2a1d-4779-85a0-83c562e1e5e5)"
      ],
      "metadata": {
        "id": "1NbCthPZUDFD"
      }
    },
    {
      "cell_type": "markdown",
      "source": [
        "# 2. Time Complexity"
      ],
      "metadata": {
        "id": "In50MGnMQpHx"
      }
    },
    {
      "cell_type": "markdown",
      "source": [
        "## 1. Techniques to measure Time Efficiency\n",
        "- Measuring execution time\n",
        "- Counting operations involved\n",
        "- Abstract notion of order of growth"
      ],
      "metadata": {
        "id": "MHGcnJxUUHgg"
      }
    },
    {
      "cell_type": "markdown",
      "source": [
        "![rainbow](https://github.com/ancilcleetus/My-Learning-Journey/assets/25684256/839c3524-2a1d-4779-85a0-83c562e1e5e5)"
      ],
      "metadata": {
        "id": "cL2NsLOSUFJc"
      }
    },
    {
      "cell_type": "code",
      "source": [
        "# Deep Learning as subset of ML\n",
        "\n",
        "from IPython import display\n",
        "display.Image(\"data/images/DL_01_Intro-01-DL-subset-of-ML.jpg\")"
      ],
      "metadata": {
        "id": "juNAxVBFg7sw"
      },
      "execution_count": null,
      "outputs": []
    }
  ]
}