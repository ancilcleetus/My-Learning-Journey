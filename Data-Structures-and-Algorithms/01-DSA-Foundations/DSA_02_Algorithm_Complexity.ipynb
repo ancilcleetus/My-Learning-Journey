{
  "nbformat": 4,
  "nbformat_minor": 0,
  "metadata": {
    "colab": {
      "provenance": []
    },
    "kernelspec": {
      "name": "python3",
      "display_name": "Python 3"
    },
    "language_info": {
      "name": "python"
    }
  },
  "cells": [
    {
      "cell_type": "markdown",
      "source": [
        "![rainbow](https://github.com/ancilcleetus/My-Learning-Journey/assets/25684256/839c3524-2a1d-4779-85a0-83c562e1e5e5)"
      ],
      "metadata": {
        "id": "vvsjcmntUBKc"
      }
    },
    {
      "cell_type": "markdown",
      "source": [
        "# 1. Algorithmic Complexity"
      ],
      "metadata": {
        "id": "bKim3KwyTp11"
      }
    },
    {
      "cell_type": "markdown",
      "source": [
        "- Efficient Program $\\Rightarrow$ $\\downarrow$ Time, $\\downarrow$ Space\n",
        "- Time Efficiency $\\Rightarrow$ Eg: PageRank algorithm used for Google Search (searches and ranks billions of websites under 1 sec)\n",
        "- Space Efficiency $\\Rightarrow$ Eg: Facebook Android App Vs Facebook Lite Android App\n",
        "\n",
        "| App | RAM | Storage |\n",
        "| :-- | :-- | ------- |\n",
        "| Facebook Android | 200-500 MB | 70MB-1GB |\n",
        "| Facebook Lite Android | 20-70 MB | 2MB-100MB |\n"
      ],
      "metadata": {
        "id": "_EXvjAOzKIsa"
      }
    },
    {
      "cell_type": "markdown",
      "source": [
        "![rainbow](https://github.com/ancilcleetus/My-Learning-Journey/assets/25684256/839c3524-2a1d-4779-85a0-83c562e1e5e5)"
      ],
      "metadata": {
        "id": "1NbCthPZUDFD"
      }
    },
    {
      "cell_type": "markdown",
      "source": [
        "# 2. Time Complexity"
      ],
      "metadata": {
        "id": "In50MGnMQpHx"
      }
    },
    {
      "cell_type": "markdown",
      "source": [
        "## 1. Techniques to measure Time Efficiency\n",
        "We want to\n",
        "- Evaluate an algorithm\n",
        "- Evaluate the scalability\n",
        "- Evaluate in terms of input size\n",
        "\n",
        "Three techniques for Time Efficiency evaluation are\n",
        "- Measuring execution time\n",
        "- Counting operations involved\n",
        "- Abstract notion of order of growth"
      ],
      "metadata": {
        "id": "MHGcnJxUUHgg"
      }
    },
    {
      "cell_type": "markdown",
      "source": [
        "**Note**\n",
        "\n",
        "Different inputs change how the program runs.\n",
        "\n",
        "Consider the following function:\n",
        "\n",
        "```\n",
        "def search_for_element(L, e):\n",
        "    for element in L:\n",
        "        if element == e:\n",
        "            return True\n",
        "    \n",
        "    return False\n",
        "```\n",
        "\n",
        "- When e is 1st element $\\implies$ best case\n",
        "- When e is somewhere in the middle $\\implies$ average case\n",
        "- When e is either last element or not in the list $\\implies$ worst case\n",
        "\n",
        "We design our algorithms focusing on the worst case scenario."
      ],
      "metadata": {
        "id": "KiWsBMPGLUIg"
      }
    },
    {
      "cell_type": "markdown",
      "source": [
        "### 1. Measuring execution time"
      ],
      "metadata": {
        "id": "gzAptpUiV-OW"
      }
    },
    {
      "cell_type": "code",
      "source": [
        "# Measuring execution time\n",
        "import time\n",
        "\n",
        "start = time.time()\n",
        "\n",
        "for i in range(1, 26):\n",
        "    print(f\"i = {i}\")\n",
        "\n",
        "print(f\"Execution time = {time.time()-start}\")"
      ],
      "metadata": {
        "colab": {
          "base_uri": "https://localhost:8080/"
        },
        "id": "eGKtVjdWVmeg",
        "outputId": "fce9ad2a-b311-41b3-9289-96860b355cb2"
      },
      "execution_count": null,
      "outputs": [
        {
          "output_type": "stream",
          "name": "stdout",
          "text": [
            "i = 1\n",
            "i = 2\n",
            "i = 3\n",
            "i = 4\n",
            "i = 5\n",
            "i = 6\n",
            "i = 7\n",
            "i = 8\n",
            "i = 9\n",
            "i = 10\n",
            "i = 11\n",
            "i = 12\n",
            "i = 13\n",
            "i = 14\n",
            "i = 15\n",
            "i = 16\n",
            "i = 17\n",
            "i = 18\n",
            "i = 19\n",
            "i = 20\n",
            "i = 21\n",
            "i = 22\n",
            "i = 23\n",
            "i = 24\n",
            "i = 25\n",
            "Execution time = 0.0009918212890625\n"
          ]
        }
      ]
    },
    {
      "cell_type": "markdown",
      "source": [
        "Pros and cons of this approach are given below:\n",
        "\n",
        "| Characteristics of the approach | Pro / Con |\n",
        "| :------- | :-------- |\n",
        "| Different time for different algorithm | ✅ |\n",
        "| Time varies if implementation changes (eg: use of while loop instead of for loop will change execution time) | ❌ |\n",
        "| Different machines $\\implies$ different time | ❌ |\n",
        "| Do not work for extremely small input | ❌ |\n",
        "| Time varies for different inputs, but cannot extract the relationship between time and input | ❌ |\n",
        "\n",
        "Hence, this technique is not recommended."
      ],
      "metadata": {
        "id": "6_2XElpaWDtF"
      }
    },
    {
      "cell_type": "markdown",
      "source": [
        "### 2. Counting operations"
      ],
      "metadata": {
        "id": "SgEl3StX5wpa"
      }
    },
    {
      "cell_type": "markdown",
      "source": [
        "- Assume the below operations take **constant time**\n",
        "    - Mathematical operations\n",
        "    - Comparison operations\n",
        "    - Assignment operations\n",
        "    - Accessing objects in memory\n",
        "- Then, count the no of operations executed as a function of size of input\n"
      ],
      "metadata": {
        "id": "jR0QrA_q-467"
      }
    },
    {
      "cell_type": "code",
      "source": [
        "# Example 1\n",
        "\n",
        "from IPython import display\n",
        "display.Image(\"data/images/DSA_02_Algorithm_Complexity-01-Counting-operations-01.jpg\")"
      ],
      "metadata": {
        "colab": {
          "base_uri": "https://localhost:8080/",
          "height": 153
        },
        "id": "Fa02Y0u3_l_f",
        "outputId": "7696006e-e85a-40b0-abb7-14ce87f2e32d"
      },
      "execution_count": 2,
      "outputs": [
        {
          "output_type": "execute_result",
          "data": {
            "image/jpeg": "[encoded data removed]",
            "text/plain": [
              "<IPython.core.display.Image object>"
            ]
          },
          "metadata": {},
          "execution_count": 2
        }
      ]
    },
    {
      "cell_type": "markdown",
      "source": [
        "In the above example, we have 3 mathematical operations. Hence, no of operations = 3.\n",
        "\n",
        "**Note**\n",
        "\n",
        "`return` is not considered as an operation."
      ],
      "metadata": {
        "id": "bCA3AuqHCWiC"
      }
    },
    {
      "cell_type": "code",
      "source": [
        "# Example 2\n",
        "\n",
        "from IPython import display\n",
        "display.Image(\"data/images/DSA_02_Algorithm_Complexity-01-Counting-operations-02.jpg\")"
      ],
      "metadata": {
        "colab": {
          "base_uri": "https://localhost:8080/",
          "height": 345
        },
        "id": "W8qzKuRb_uoF",
        "outputId": "e6e7eb7e-8298-4cf2-e05b-ed5ab7a9f86e"
      },
      "execution_count": 3,
      "outputs": [
        {
          "output_type": "execute_result",
          "data": {
            "image/jpeg": "[encoded data removed]",
            "text/plain": [
              "<IPython.core.display.Image object>"
            ]
          },
          "metadata": {},
          "execution_count": 3
        }
      ]
    },
    {
      "cell_type": "markdown",
      "source": [
        "In the above example, we have\n",
        "- `total = 0` $\\implies$ 1 operation\n",
        "- `i in range(x+1)` $\\implies$ 1 operation\n",
        "- `total += i` $\\implies$ 2 operations\n",
        "- Total no of operations = $1 + (1+2) \\times x$ = $1 + 3x$ operations"
      ],
      "metadata": {
        "id": "ixuvRfq5D8Z9"
      }
    },
    {
      "cell_type": "markdown",
      "source": [
        "Pros and cons of this approach are given below:\n",
        "\n",
        "| Characteristics of the approach | Pro / Con |\n",
        "| :------- | :-------- |\n",
        "| Different no of operations for different algorithm | ✅ |\n",
        "| No of operations varies if implementation changes (eg: use of while loop instead of for loop will change no of operations) | ❌ |\n",
        "| Different machines $\\implies$ same no of operations | ✅ |\n",
        "| Works for extremely small input | ✅ |\n",
        "| Able to extract the relationship between time and input | ✅ |\n",
        "| No clear definition of which operation to count (eg: whether `return` to be counted as an operation or not) | ❌ |\n",
        "\n",
        "This technique is better than measuring execution time."
      ],
      "metadata": {
        "id": "nEG88oB0_6Dm"
      }
    },
    {
      "cell_type": "markdown",
      "source": [
        "### 3. Orders of Growth"
      ],
      "metadata": {
        "id": "3msmwbefNOKb"
      }
    },
    {
      "cell_type": "markdown",
      "source": [
        "#### 1. Goals:\n",
        "\n",
        "- We want to evaluate program's efficiency when **input is very big**\n",
        "- We want to express the **growth of program's run time** as input size grows $\\implies$ we want to plot the graph between time and input size\n",
        "- We want to put an **upper bound** on growth - as tight as possible $\\implies$ focus on worst case scenario\n",
        "- Do not need to be precise $\\implies$ **order of not, exact growth**\n",
        "- We will give preference to **largest factors in run time** (which section of program will take the longest to run?)\n",
        "\n",
        "Thus, we want tight upper bound on growth, as a function of input size, in the worst case scenario."
      ],
      "metadata": {
        "id": "w9d3PZgfNVtq"
      }
    },
    {
      "cell_type": "markdown",
      "source": [
        "#### 2. Measuring Order of Growth: Big O Notation"
      ],
      "metadata": {
        "id": "v_MCpFquPZ6g"
      }
    },
    {
      "cell_type": "markdown",
      "source": [
        "Big O Notation measures an **upper bound on the asymptotic growth**, often called Order of Growth.\n",
        "\n",
        "Big O is used to describe the worst case scenario:\n",
        "- worst case scenarios occur often and is the bottleneck when a program runs\n",
        "- express rate of growth of program relative to the input size\n",
        "- evaluate algorithm, not machine or implementation"
      ],
      "metadata": {
        "id": "CfVjg7mGTc_4"
      }
    },
    {
      "cell_type": "markdown",
      "source": [
        "Steps to find Order of Growth:\n",
        "- Find no of operations as a function of input size\n",
        "- In order to find the worst case asymptotic complexity,\n",
        "    - Ignore additive constants\n",
        "    - Ignore multiplicative constants"
      ],
      "metadata": {
        "id": "lLlu_GAwRsHA"
      }
    },
    {
      "cell_type": "markdown",
      "source": [
        "Consider below function:\n",
        "\n",
        "```\n",
        "def get_factorial(n):\n",
        "    answer = 1\n",
        "    while n > 1:\n",
        "        answer *= n\n",
        "        n -= 1\n",
        "    return answer\n",
        "```\n",
        "\n",
        "In the above example, we have\n",
        "- `answer = 1` $\\implies$ 1 operation\n",
        "- `n > 1` $\\implies$ 1 operation\n",
        "- `answer *= n` $\\implies$ 2 operations\n",
        "- `n -= 1` $\\implies$ 2 operations\n",
        "- Total no of operations = $1 + (1+2+2) \\times n$ = $1 + 5n$ operations\n",
        "- After ignoring additive and multiplicative constants, Order of Growth $O(n) = n$ $\\implies$ Linear time complexity"
      ],
      "metadata": {
        "id": "NRmHA28WQ0-z"
      }
    },
    {
      "cell_type": "markdown",
      "source": [
        "#### 3. Examples"
      ],
      "metadata": {
        "id": "UHoXfgoRwNg6"
      }
    },
    {
      "cell_type": "markdown",
      "source": [
        "1. No of operations = $n^2 + 2n + 2$\n",
        "    - $n^2$ $\\implies$ nested loop\n",
        "    - $2n$ $\\implies$ loop with 2 operations inside\n",
        "    - $2$ $\\implies$ 2 operations outside all loops\n",
        "    - Time Complexity, $O(n) = n^2$ $\\implies$ Quadratic time complexity"
      ],
      "metadata": {
        "id": "74ULvAg7wUVC"
      }
    },
    {
      "cell_type": "markdown",
      "source": [
        "2. No of operations = $n^2 + 100000n + 3^{1000}$\n",
        "    - $n^2$ $\\implies$ nested loop\n",
        "    - $100000n$ $\\implies$ loop with 100000 operations inside\n",
        "    - $3^{1000}$ $\\implies$ $3^{1000}$ operations outside all loops\n",
        "    - Time Complexity, $O(n) = n^2$ $\\implies$ Quadratic time complexity"
      ],
      "metadata": {
        "id": "bc0Jn12gyoJo"
      }
    },
    {
      "cell_type": "markdown",
      "source": [
        "3. No of operations = $\\log (n) + n + 4$\n",
        "    - $\\log (n)$ $\\implies$ divide-and-conquer type strategies like Binary Search\n",
        "    - $n$ $\\implies$ loop with 1 operation inside\n",
        "    - $4$ $\\implies$ 4 operations outside all loops\n",
        "    - Time Complexity, $O(n) = n$ $\\implies$ Linear time complexity"
      ],
      "metadata": {
        "id": "lN0ZhlRDzKtn"
      }
    },
    {
      "cell_type": "markdown",
      "source": [
        "4. No of operations = $0.0001n\\log (n) + 300n$\n",
        "    - $0.0001n\\log (n)$ $\\implies$ Merge Sort, Heap Sort etc.\n",
        "    - $300n$ $\\implies$ loop with 300 operations inside\n",
        "    - Time Complexity, $O(n) = n\\log (n)$\n",
        "        \n",
        "        **Note**\n",
        "        \n",
        "        This complexity is often referred to as log-linear or quasi-linear because it combines characteristics of both logarithmic and linear growth. However, the standard Big O term for this complexity is simply $O(n) = n\\log (n)$."
      ],
      "metadata": {
        "id": "vN683iWk03jp"
      }
    },
    {
      "cell_type": "markdown",
      "source": [
        "5. No of operations = $2n^{30} + 3^n$\n",
        "    - Time Complexity, $O(n) = 3^n$ $\\implies$ Exponential time complexity\n",
        "\n",
        "        **Note**\n",
        "\n",
        "        Examples of problems that might involve exponential complexity:\n",
        "        - *Brute-force search*: This naive search approach tries every possible combination to find a solution. Its complexity can be exponential for some problems.\n",
        "        - *Recursion without a base case*: If a recursive function doesn't have a base case to stop the recursion, it can lead to an infinite loop and exponential growth in the number of function calls."
      ],
      "metadata": {
        "id": "iL1FKtOW1c_K"
      }
    },
    {
      "cell_type": "markdown",
      "source": [
        "![rainbow](https://github.com/ancilcleetus/My-Learning-Journey/assets/25684256/839c3524-2a1d-4779-85a0-83c562e1e5e5)"
      ],
      "metadata": {
        "id": "cL2NsLOSUFJc"
      }
    },
    {
      "cell_type": "code",
      "source": [
        "# Deep Learning as subset of ML\n",
        "\n",
        "from IPython import display\n",
        "display.Image(\"data/images/DL_01_Intro-01-DL-subset-of-ML.jpg\")"
      ],
      "metadata": {
        "id": "juNAxVBFg7sw"
      },
      "execution_count": null,
      "outputs": []
    }
  ]
}