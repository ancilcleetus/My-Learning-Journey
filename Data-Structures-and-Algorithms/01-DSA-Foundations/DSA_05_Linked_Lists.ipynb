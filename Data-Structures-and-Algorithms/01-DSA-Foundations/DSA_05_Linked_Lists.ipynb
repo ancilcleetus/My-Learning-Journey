{
  "nbformat": 4,
  "nbformat_minor": 0,
  "metadata": {
    "colab": {
      "provenance": []
    },
    "kernelspec": {
      "name": "python3",
      "display_name": "Python 3"
    },
    "language_info": {
      "name": "python"
    }
  },
  "cells": [
    {
      "cell_type": "markdown",
      "source": [
        "![rainbow](https://github.com/ancilcleetus/My-Learning-Journey/assets/25684256/839c3524-2a1d-4779-85a0-83c562e1e5e5)"
      ],
      "metadata": {
        "id": "uLR90WhedwER"
      }
    },
    {
      "cell_type": "markdown",
      "source": [
        "# 1. What is a Linked List?"
      ],
      "metadata": {
        "id": "bKim3KwyTp11"
      }
    },
    {
      "cell_type": "markdown",
      "source": [
        "A linked list is a linear data structure in which elements are not stored in contiguous memory locations. Instead, each element (called a **node**) contains two parts:\n",
        "\n",
        "1. **Data:** The value or data that the node holds.\n",
        "2. **Pointer/Reference:** A reference to the next node in the sequence.\n",
        "\n",
        "Linked lists are used for dynamic memory allocation, and they provide efficient insertion and deletion of elements from any position."
      ],
      "metadata": {
        "id": "Vc1whhi0OOr2"
      }
    },
    {
      "cell_type": "markdown",
      "source": [
        "![rainbow](https://github.com/ancilcleetus/My-Learning-Journey/assets/25684256/839c3524-2a1d-4779-85a0-83c562e1e5e5)"
      ],
      "metadata": {
        "id": "tENSBqgCOu9q"
      }
    },
    {
      "cell_type": "markdown",
      "source": [
        "# 2. Types of Linked Lists"
      ],
      "metadata": {
        "id": "VI3u3zv0Ou9s"
      }
    },
    {
      "cell_type": "markdown",
      "source": [
        "1. **Singly Linked List:** Each node points to the next node.\n",
        "\n",
        "2. **Doubly Linked List:** Each node points to both the next node and the previous node.\n",
        "\n",
        "3. **Circular Linked List:** The last node points to the first node."
      ],
      "metadata": {
        "id": "OqayqvCWO1k-"
      }
    },
    {
      "cell_type": "markdown",
      "source": [
        "![rainbow](https://github.com/ancilcleetus/My-Learning-Journey/assets/25684256/839c3524-2a1d-4779-85a0-83c562e1e5e5)"
      ],
      "metadata": {
        "id": "U897-NGnYhHk"
      }
    },
    {
      "cell_type": "code",
      "source": [
        "# Deep Learning as subset of ML\n",
        "\n",
        "from IPython import display\n",
        "display.Image(\"data/images/DL_01_Intro-01-DL-subset-of-ML.jpg\")"
      ],
      "metadata": {
        "id": "juNAxVBFg7sw"
      },
      "execution_count": null,
      "outputs": []
    },
    {
      "cell_type": "markdown",
      "source": [
        "![rainbow](https://github.com/ancilcleetus/My-Learning-Journey/assets/25684256/839c3524-2a1d-4779-85a0-83c562e1e5e5)"
      ],
      "metadata": {
        "id": "qqv0L0R9dyKJ"
      }
    }
  ]
}