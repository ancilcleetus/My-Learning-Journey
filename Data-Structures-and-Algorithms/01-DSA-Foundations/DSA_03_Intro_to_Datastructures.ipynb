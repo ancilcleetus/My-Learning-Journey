{
  "nbformat": 4,
  "nbformat_minor": 0,
  "metadata": {
    "colab": {
      "provenance": []
    },
    "kernelspec": {
      "name": "python3",
      "display_name": "Python 3"
    },
    "language_info": {
      "name": "python"
    }
  },
  "cells": [
    {
      "cell_type": "markdown",
      "source": [
        "# 📖 TABLE OF CONTENTS\n",
        "\n",
        "- [1. Intro to Data Structures]()\n",
        "- [2. Need for Data Structures]()\n",
        "- [3. Linear Vs Non-linear Data Structures]()"
      ],
      "metadata": {
        "id": "GFdlIyjf3EBq"
      }
    },
    {
      "cell_type": "markdown",
      "source": [
        "![rainbow](https://github.com/ancilcleetus/My-Learning-Journey/assets/25684256/839c3524-2a1d-4779-85a0-83c562e1e5e5)"
      ],
      "metadata": {
        "id": "uLR90WhedwER"
      }
    },
    {
      "cell_type": "markdown",
      "source": [
        "# 1. Intro to Data Structures"
      ],
      "metadata": {
        "id": "bKim3KwyTp11"
      }
    },
    {
      "cell_type": "markdown",
      "source": [
        "What are Data Structures ?\n",
        "- Ways to store and organize data efficiently"
      ],
      "metadata": {
        "id": "eN-GPpOMx09-"
      }
    },
    {
      "cell_type": "markdown",
      "source": [
        "![rainbow](https://github.com/ancilcleetus/My-Learning-Journey/assets/25684256/839c3524-2a1d-4779-85a0-83c562e1e5e5)"
      ],
      "metadata": {
        "id": "PWauZai2yKTW"
      }
    },
    {
      "cell_type": "markdown",
      "source": [
        "# 2. Need for Data Structures"
      ],
      "metadata": {
        "id": "WPcTmm6axv0m"
      }
    },
    {
      "cell_type": "markdown",
      "source": [
        "There are certain problems in Computer Science which are difficult to solve efficiently. In order to solve those problems efficiently, various types of Data Structures were devised."
      ],
      "metadata": {
        "id": "4nDQYvpvyojP"
      }
    },
    {
      "cell_type": "markdown",
      "source": [
        "We will understand the need for Data Structures through some examples below:\n",
        "\n",
        "1. **File Browser** in an OS (Operating System)\n",
        "    - It can be implemented using loops / recursion, but it will be inefficient in terms of time complexity and space complexity.\n",
        "    - Trees can be used to solve this problem efficiently\n",
        "2. **\"Suggest Friend\"** feature in a Social Networking website\n",
        "    - Graphs can be used to solve this problem efficiently\n",
        "3. **\"Go back\"** feature (go back to last visited webpage) in a Web Browser\n",
        "    - Stacks (LIFOs) can be used to solve this problem efficiently\n",
        "4. **\"Undo\" & \"Redo\"** features in a Text Editor\n",
        "    - Stacks (LIFOs) can be used to solve this problem efficiently"
      ],
      "metadata": {
        "id": "PPODDXXgzPfb"
      }
    },
    {
      "cell_type": "markdown",
      "source": [
        "![rainbow](https://github.com/ancilcleetus/My-Learning-Journey/assets/25684256/839c3524-2a1d-4779-85a0-83c562e1e5e5)"
      ],
      "metadata": {
        "id": "IxzpA6JXy-jP"
      }
    },
    {
      "cell_type": "markdown",
      "source": [
        "# 3. Linear Vs Non-linear Data Structures"
      ],
      "metadata": {
        "id": "KBVde-dF03NH"
      }
    },
    {
      "cell_type": "markdown",
      "source": [
        "1. Linear Data Structures\n",
        "    - Organize data linearly (one after the other)\n",
        "    - Examples\n",
        "        - Arrays\n",
        "        - Linked Lists\n",
        "        - Stacks\n",
        "        - Queues\n",
        "        - Hashing\n",
        "2. Non-linear Data Structures\n",
        "    - Organize data non-linearly\n",
        "    - Examples\n",
        "        - Trees\n",
        "        - Graphs"
      ],
      "metadata": {
        "id": "bYF25HgQ1fRi"
      }
    },
    {
      "cell_type": "markdown",
      "source": [
        "![rainbow](https://github.com/ancilcleetus/My-Learning-Journey/assets/25684256/839c3524-2a1d-4779-85a0-83c562e1e5e5)"
      ],
      "metadata": {
        "id": "YI1468Oo1hyC"
      }
    }
  ]
}