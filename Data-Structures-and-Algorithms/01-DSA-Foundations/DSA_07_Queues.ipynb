{
  "nbformat": 4,
  "nbformat_minor": 0,
  "metadata": {
    "colab": {
      "provenance": []
    },
    "kernelspec": {
      "name": "python3",
      "display_name": "Python 3"
    },
    "language_info": {
      "name": "python"
    }
  },
  "cells": [
    {
      "cell_type": "markdown",
      "source": [
        "![rainbow](https://github.com/ancilcleetus/My-Learning-Journey/assets/25684256/839c3524-2a1d-4779-85a0-83c562e1e5e5)"
      ],
      "metadata": {
        "id": "zSJCXUbyuVmR"
      }
    },
    {
      "cell_type": "markdown",
      "source": [
        "# 1. What is a Queue?"
      ],
      "metadata": {
        "id": "bYsYyrODuVmi"
      }
    },
    {
      "cell_type": "markdown",
      "source": [
        "Queues are linear data structures where elements are arranged in a sequential manner, one after the other. They follow the First-In-First-Out (FIFO) principle, meaning that the first element added to the queue is the first one to be removed.\n",
        "\n",
        "- **Front:** The front of the queue is the location where the first element is accessed or removed.\n",
        "\n",
        "- **Rear:** The rear of the queue is the location where new elements are added.\n",
        "\n",
        "- **Enqueue:** The enqueue operation adds an element to the rear of the queue.\n",
        "\n",
        "- **Dequeue:** The dequeue operation removes the element from the front of the queue."
      ],
      "metadata": {
        "id": "aWYx3nO4sV8V"
      }
    },
    {
      "cell_type": "markdown",
      "source": [
        "![rainbow](https://github.com/ancilcleetus/My-Learning-Journey/assets/25684256/839c3524-2a1d-4779-85a0-83c562e1e5e5)"
      ],
      "metadata": {
        "id": "_j_G1hnpt0rc"
      }
    },
    {
      "cell_type": "markdown",
      "source": [
        "# 2. Linked List based `Queue` Class"
      ],
      "metadata": {
        "id": "HpQfPV9Gt0rl"
      }
    },
    {
      "cell_type": "code",
      "source": [
        "class Node:\n",
        "\n",
        "    def __init__(self, data):\n",
        "        self.data = data\n",
        "        self.next = None"
      ],
      "metadata": {
        "id": "0R0fLAHft8cf"
      },
      "execution_count": 2,
      "outputs": []
    },
    {
      "cell_type": "markdown",
      "source": [
        "## `Queue` class without `size` attribute"
      ],
      "metadata": {
        "id": "xmhnvWLIAhAB"
      }
    },
    {
      "cell_type": "markdown",
      "source": [
        "`Queue` Class without `size` attribute is given below:"
      ],
      "metadata": {
        "id": "03INl2_999HO"
      }
    },
    {
      "cell_type": "code",
      "source": [
        "class Queue:\n",
        "\n",
        "    def __init__(self):\n",
        "        self.front = None\n",
        "        self.rear = None\n",
        "\n",
        "    def isEmpty(self):\n",
        "        return self.front is None\n",
        "\n",
        "    def enqueue(self, data):\n",
        "        new_node = Node(data)\n",
        "        if self.rear is None:\n",
        "            self.front = new_node\n",
        "            self.rear = new_node\n",
        "        else:\n",
        "            self.rear.next = new_node\n",
        "            self.rear = new_node\n",
        "\n",
        "    def dequeue(self):\n",
        "        if self.front is None:\n",
        "            print(\"Queue is Empty\")\n",
        "            return None\n",
        "        else:\n",
        "            self.front = self.front.next\n",
        "            if self.front is None:\n",
        "                self.rear = None\n",
        "\n",
        "    def peek_front(self):\n",
        "        if self.front is None:\n",
        "            print(\"Queue is Empty\")\n",
        "            return None\n",
        "        else:\n",
        "            return self.front.data\n",
        "\n",
        "    def peek_rear(self):\n",
        "        if self.rear is None:\n",
        "            print(\"Queue is Empty\")\n",
        "            return None\n",
        "        else:\n",
        "            return self.rear.data\n",
        "\n",
        "    def __str__(self):\n",
        "        current = self.front\n",
        "        string = \"\"\n",
        "        while current is not None:\n",
        "            string += str(current.data) + \" -> \"\n",
        "            current = current.next\n",
        "\n",
        "        return string[:-4]\n",
        "\n",
        "    def size(self):\n",
        "        current = self.front\n",
        "        count = 0\n",
        "        while current is not None:\n",
        "            count += 1\n",
        "            current = current.next\n",
        "\n",
        "        return count"
      ],
      "metadata": {
        "id": "-WX1GjSpukkZ"
      },
      "execution_count": 3,
      "outputs": []
    },
    {
      "cell_type": "markdown",
      "source": [
        "### Operations for `Queue` class without `size` attribute"
      ],
      "metadata": {
        "id": "_7PFBVRD9OZj"
      }
    },
    {
      "cell_type": "markdown",
      "source": [
        "1. **enqueue(data)**: Adds a new element to the rear of the queue.\n",
        "    - **Time Complexity**: O(1) (constant time, as adding to the rear requires no iteration)\n",
        "\n",
        "2. **dequeue()**: Removes and returns the front element from the queue.\n",
        "    - **Time Complexity**: O(1) (removing from the front only requires updating pointers)\n",
        "\n",
        "3. **peek_front()**: Returns the data at the front of the queue without removing it.\n",
        "    - **Time Complexity**: O(1) (just accessing the front node)\n",
        "\n",
        "4. **peek_rear()**: Returns the data at the rear of the queue without removing it.\n",
        "    - **Time Complexity**: O(1) (just accessing the rear node)\n",
        "\n",
        "5. **isEmpty()**: Checks whether the queue is empty.\n",
        "    - **Time Complexity**: O(1) (checking pointers)\n",
        "\n",
        "6. **size()**: Returns the number of elements in the queue by traversing the linked list.\n",
        "    - **Time Complexity**: O(n) (where n is the number of elements in the queue, requires traversal)\n",
        "\n",
        "7. **__str__()**: Provides a string representation of the queue from front to rear.\n",
        "    - **Time Complexity**: O(n) (where n is the number of elements in the queue)"
      ],
      "metadata": {
        "id": "z0-peyAl9X9A"
      }
    },
    {
      "cell_type": "markdown",
      "source": [
        "**Summary of Time Complexity (Linked List based `Queue` without `size` attribute):**\n",
        "\n",
        "| Operation       | Time Complexity |\n",
        "|-----------------|-----------------|\n",
        "| `enqueue(data)` | $O(1)$            |\n",
        "| `dequeue()`     | $O(1)$            |\n",
        "| `peek_front()`  | $O(1)$            |\n",
        "| `peek_rear()`   | $O(1)$            |\n",
        "| `isEmpty()`     | $O(1)$            |\n",
        "| `size()`        | $O(n)$            |\n",
        "| `__str__()`     | $O(n)$            |"
      ],
      "metadata": {
        "id": "Ihd23j-_-Mhk"
      }
    },
    {
      "cell_type": "markdown",
      "source": [
        "## `Queue` class with `size` attribute"
      ],
      "metadata": {
        "id": "3n8CxDKwArEa"
      }
    },
    {
      "cell_type": "markdown",
      "source": [
        "`Queue` Class with `size` attribute is given below:"
      ],
      "metadata": {
        "id": "5P3WqrM-_S2S"
      }
    },
    {
      "cell_type": "code",
      "source": [
        "class Queue:\n",
        "\n",
        "    def __init__(self):\n",
        "        self.front = None\n",
        "        self.rear = None\n",
        "        self.size = 0\n",
        "\n",
        "    def isEmpty(self):\n",
        "        return self.front is None\n",
        "\n",
        "    def enqueue(self, data):\n",
        "        new_node = Node(data)\n",
        "        if self.rear is None:\n",
        "            self.front = new_node\n",
        "            self.rear = new_node\n",
        "        else:\n",
        "            self.rear.next = new_node\n",
        "            self.rear = new_node\n",
        "\n",
        "        self.size += 1\n",
        "\n",
        "    def dequeue(self):\n",
        "        if self.front is None:\n",
        "            print(\"Queue is Empty\")\n",
        "            return None\n",
        "        else:\n",
        "            self.front = self.front.next\n",
        "            if self.front is None:\n",
        "                self.rear = None\n",
        "            self.size -= 1\n",
        "\n",
        "    def peek_front(self):\n",
        "        if self.front is None:\n",
        "            print(\"Queue is Empty\")\n",
        "            return None\n",
        "        else:\n",
        "            return self.front.data\n",
        "\n",
        "    def peek_rear(self):\n",
        "        if self.rear is None:\n",
        "            print(\"Queue is Empty\")\n",
        "            return None\n",
        "        else:\n",
        "            return self.rear.data\n",
        "\n",
        "    def __str__(self):\n",
        "        current = self.front\n",
        "        string = \"\"\n",
        "        while current is not None:\n",
        "            string += str(current.data) + \" -> \"\n",
        "            current = current.next\n",
        "\n",
        "        return string[:-4]\n",
        "\n",
        "    def size(self):\n",
        "        return self.size"
      ],
      "metadata": {
        "id": "mr_hs8_e_S2W"
      },
      "execution_count": null,
      "outputs": []
    },
    {
      "cell_type": "markdown",
      "source": [
        "### Operations for `Queue` class with `size` attribute"
      ],
      "metadata": {
        "id": "JDDpLYox_S2Z"
      }
    },
    {
      "cell_type": "markdown",
      "source": [
        "1. **enqueue(data)**: Adds a new element to the rear of the queue.\n",
        "    - **Time Complexity**: O(1) (constant time, as adding to the rear requires no iteration)\n",
        "\n",
        "2. **dequeue()**: Removes and returns the front element from the queue.\n",
        "    - **Time Complexity**: O(1) (removing from the front only requires updating pointers)\n",
        "\n",
        "3. **peek_front()**: Returns the data at the front of the queue without removing it.\n",
        "    - **Time Complexity**: O(1) (just accessing the front node)\n",
        "\n",
        "4. **peek_rear()**: Returns the data at the rear of the queue without removing it.\n",
        "    - **Time Complexity**: O(1) (just accessing the rear node)\n",
        "\n",
        "5. **isEmpty()**: Checks whether the queue is empty.\n",
        "    - **Time Complexity**: O(1) (checking pointers)\n",
        "\n",
        "6. **size()**: Returns the number of elements in the queue by returning `size` directly.\n",
        "    - **Time Complexity**: O(1) (just accessing the `size` attribute)\n",
        "\n",
        "7. **__str__()**: Provides a string representation of the queue from front to rear.\n",
        "    - **Time Complexity**: O(n) (where n is the number of elements in the queue)"
      ],
      "metadata": {
        "id": "R2mTVtrg_S2b"
      }
    },
    {
      "cell_type": "markdown",
      "source": [
        "**Summary of Time Complexity (Linked List based `Queue` with `size` attribute):**\n",
        "\n",
        "| Operation       | Time Complexity |\n",
        "|-----------------|-----------------|\n",
        "| `enqueue(data)` | $O(1)$            |\n",
        "| `dequeue()`     | $O(1)$            |\n",
        "| `peek_front()`  | $O(1)$            |\n",
        "| `peek_rear()`   | $O(1)$            |\n",
        "| `isEmpty()`     | $O(1)$            |\n",
        "| `size()`        | $O(1)$            |\n",
        "| `__str__()`     | $O(n)$            |"
      ],
      "metadata": {
        "id": "VRBYq57C_S2d"
      }
    },
    {
      "cell_type": "code",
      "source": [
        "q = Queue()\n",
        "q.isEmpty()"
      ],
      "metadata": {
        "colab": {
          "base_uri": "https://localhost:8080/"
        },
        "id": "nQZIkxVABR5y",
        "outputId": "a52a5441-ea80-4d05-d9c0-1417ed3c124b"
      },
      "execution_count": 6,
      "outputs": [
        {
          "output_type": "execute_result",
          "data": {
            "text/plain": [
              "True"
            ]
          },
          "metadata": {},
          "execution_count": 6
        }
      ]
    },
    {
      "cell_type": "code",
      "source": [
        "q.peek_front()"
      ],
      "metadata": {
        "colab": {
          "base_uri": "https://localhost:8080/"
        },
        "id": "QL8x7QsIB09n",
        "outputId": "43ede422-35cb-4958-e971-69caa3945004"
      },
      "execution_count": 7,
      "outputs": [
        {
          "output_type": "stream",
          "name": "stdout",
          "text": [
            "Queue is Empty\n"
          ]
        }
      ]
    },
    {
      "cell_type": "code",
      "source": [
        "q.peek_rear()"
      ],
      "metadata": {
        "colab": {
          "base_uri": "https://localhost:8080/"
        },
        "id": "5Xibs8jSB5M-",
        "outputId": "a53403eb-d2d1-4070-af4d-18a4bb85b0f7"
      },
      "execution_count": 8,
      "outputs": [
        {
          "output_type": "stream",
          "name": "stdout",
          "text": [
            "Queue is Empty\n"
          ]
        }
      ]
    },
    {
      "cell_type": "code",
      "source": [
        "q.enqueue(4)\n",
        "q.enqueue(5)\n",
        "q.enqueue(7)\n",
        "print(q)"
      ],
      "metadata": {
        "colab": {
          "base_uri": "https://localhost:8080/"
        },
        "id": "G9U4q-RpBr1z",
        "outputId": "5fbcb4d4-b4d5-47af-ac1c-b60fd8b5d652"
      },
      "execution_count": 9,
      "outputs": [
        {
          "output_type": "stream",
          "name": "stdout",
          "text": [
            "4 -> 5 -> 7\n"
          ]
        }
      ]
    },
    {
      "cell_type": "code",
      "source": [
        "q.peek_front()"
      ],
      "metadata": {
        "colab": {
          "base_uri": "https://localhost:8080/"
        },
        "id": "SHYeBemEB_ci",
        "outputId": "7adffdb7-1ad5-4aef-c33b-5c8be3e43709"
      },
      "execution_count": 10,
      "outputs": [
        {
          "output_type": "execute_result",
          "data": {
            "text/plain": [
              "4"
            ]
          },
          "metadata": {},
          "execution_count": 10
        }
      ]
    },
    {
      "cell_type": "code",
      "source": [
        "q.peek_rear()"
      ],
      "metadata": {
        "colab": {
          "base_uri": "https://localhost:8080/"
        },
        "id": "P26K0-fZCDpt",
        "outputId": "13fc657c-20f1-4480-a3ef-6c2bb089d854"
      },
      "execution_count": 11,
      "outputs": [
        {
          "output_type": "execute_result",
          "data": {
            "text/plain": [
              "7"
            ]
          },
          "metadata": {},
          "execution_count": 11
        }
      ]
    },
    {
      "cell_type": "code",
      "source": [
        "q.dequeue()\n",
        "print(q)"
      ],
      "metadata": {
        "colab": {
          "base_uri": "https://localhost:8080/"
        },
        "id": "vvWUMURCyvu2",
        "outputId": "40057f5b-537e-47ac-9f5b-d102c4797596"
      },
      "execution_count": 12,
      "outputs": [
        {
          "output_type": "stream",
          "name": "stdout",
          "text": [
            "5 -> 7\n"
          ]
        }
      ]
    },
    {
      "cell_type": "code",
      "source": [
        "q.dequeue()\n",
        "print(q)"
      ],
      "metadata": {
        "colab": {
          "base_uri": "https://localhost:8080/"
        },
        "id": "D3hwYMaKy0to",
        "outputId": "f394fbe7-55e0-4ad8-9c08-df28ae82c55f"
      },
      "execution_count": 13,
      "outputs": [
        {
          "output_type": "stream",
          "name": "stdout",
          "text": [
            "7\n"
          ]
        }
      ]
    },
    {
      "cell_type": "code",
      "source": [
        "q.dequeue()\n",
        "print(q)"
      ],
      "metadata": {
        "colab": {
          "base_uri": "https://localhost:8080/"
        },
        "id": "xypDxMb3y2HB",
        "outputId": "e408e289-c14d-4692-a2d6-a64872a8f906"
      },
      "execution_count": 14,
      "outputs": [
        {
          "output_type": "stream",
          "name": "stdout",
          "text": [
            "\n"
          ]
        }
      ]
    },
    {
      "cell_type": "code",
      "source": [
        "q.dequeue()\n",
        "print(q)"
      ],
      "metadata": {
        "id": "KjMTW1oSy7IV",
        "outputId": "8e5d3365-d68e-41d7-a099-8ac64ea93e0a",
        "colab": {
          "base_uri": "https://localhost:8080/"
        }
      },
      "execution_count": 15,
      "outputs": [
        {
          "output_type": "stream",
          "name": "stdout",
          "text": [
            "Queue is Empty\n",
            "\n"
          ]
        }
      ]
    },
    {
      "cell_type": "markdown",
      "source": [
        "![rainbow](https://github.com/ancilcleetus/My-Learning-Journey/assets/25684256/839c3524-2a1d-4779-85a0-83c562e1e5e5)"
      ],
      "metadata": {
        "id": "U897-NGnYhHk"
      }
    }
  ]
}