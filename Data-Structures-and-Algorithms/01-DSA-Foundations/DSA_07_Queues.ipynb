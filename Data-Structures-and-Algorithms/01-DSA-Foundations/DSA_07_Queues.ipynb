{
  "nbformat": 4,
  "nbformat_minor": 0,
  "metadata": {
    "colab": {
      "provenance": []
    },
    "kernelspec": {
      "name": "python3",
      "display_name": "Python 3"
    },
    "language_info": {
      "name": "python"
    }
  },
  "cells": [
    {
      "cell_type": "markdown",
      "source": [
        "![rainbow](https://github.com/ancilcleetus/My-Learning-Journey/assets/25684256/839c3524-2a1d-4779-85a0-83c562e1e5e5)"
      ],
      "metadata": {
        "id": "zSJCXUbyuVmR"
      }
    },
    {
      "cell_type": "markdown",
      "source": [
        "# 1. What is a Queue?"
      ],
      "metadata": {
        "id": "bYsYyrODuVmi"
      }
    },
    {
      "cell_type": "markdown",
      "source": [
        "Queues are linear data structures where elements are arranged in a sequential manner, one after the other. They follow the First-In-First-Out (FIFO) principle, meaning that the first element added to the queue is the first one to be removed.\n",
        "\n",
        "- **Front:** The front of the queue is the location where the first element is accessed or removed.\n",
        "\n",
        "- **Rear:** The rear of the queue is the location where new elements are added.\n",
        "\n",
        "- **Enqueue:** The enqueue operation adds an element to the rear of the queue.\n",
        "\n",
        "- **Dequeue:** The dequeue operation removes the element from the front of the queue."
      ],
      "metadata": {
        "id": "aWYx3nO4sV8V"
      }
    },
    {
      "cell_type": "markdown",
      "source": [
        "![rainbow](https://github.com/ancilcleetus/My-Learning-Journey/assets/25684256/839c3524-2a1d-4779-85a0-83c562e1e5e5)"
      ],
      "metadata": {
        "id": "_j_G1hnpt0rc"
      }
    },
    {
      "cell_type": "markdown",
      "source": [
        "# 2. Linked List based `Queue` Class"
      ],
      "metadata": {
        "id": "HpQfPV9Gt0rl"
      }
    },
    {
      "cell_type": "code",
      "source": [
        "class Node:\n",
        "\n",
        "    def __init__(self, data):\n",
        "        self.data = data\n",
        "        self.next = None"
      ],
      "metadata": {
        "id": "0R0fLAHft8cf"
      },
      "execution_count": 1,
      "outputs": []
    },
    {
      "cell_type": "code",
      "source": [
        "class Queue:\n",
        "\n",
        "    def __init__(self):\n",
        "        self.front = None\n",
        "        self.rear = None\n",
        "\n",
        "    def enqueue(self, data):\n",
        "        new_node = Node(data)\n",
        "        if self.rear is None:\n",
        "            self.front = new_node\n",
        "            self.rear = new_node\n",
        "        else:\n",
        "            self.rear.next = new_node\n",
        "            self.rear = new_node\n",
        "\n",
        "    def dequeue(self):\n",
        "        if self.front is None:\n",
        "            print(\"Queue is Empty\")\n",
        "            return None\n",
        "        else:\n",
        "            self.front = self.front.next\n",
        "            if self.front is None:\n",
        "                self.rear = None\n",
        "\n",
        "    # def dequeue(self):\n",
        "    #     if self.front is None:\n",
        "    #         print(\"Queue is Empty\")\n",
        "    #         return None\n",
        "    #     else:\n",
        "    #         temp = self.front\n",
        "    #         self.front = self.front.next\n",
        "    #         if self.front is None:\n",
        "    #             self.rear = None\n",
        "    #         return temp.data\n",
        "\n",
        "    def __str__(self):\n",
        "        current = self.front\n",
        "        string = \"\"\n",
        "        while current is not None:\n",
        "            string += str(current.data) + \" -> \"\n",
        "            current = current.next\n",
        "\n",
        "        return string[:-4]"
      ],
      "metadata": {
        "id": "-WX1GjSpukkZ"
      },
      "execution_count": 8,
      "outputs": []
    },
    {
      "cell_type": "code",
      "source": [
        "q = Queue()\n",
        "q.enqueue(4)\n",
        "q.enqueue(5)\n",
        "q.enqueue(7)\n",
        "print(q)"
      ],
      "metadata": {
        "colab": {
          "base_uri": "https://localhost:8080/"
        },
        "id": "8g3iqkaByG94",
        "outputId": "b48e41df-3692-46bc-9e16-8ce62768b313"
      },
      "execution_count": 9,
      "outputs": [
        {
          "output_type": "stream",
          "name": "stdout",
          "text": [
            "4 -> 5 -> 7\n"
          ]
        }
      ]
    },
    {
      "cell_type": "code",
      "source": [
        "q.dequeue()\n",
        "print(q)"
      ],
      "metadata": {
        "colab": {
          "base_uri": "https://localhost:8080/"
        },
        "id": "vvWUMURCyvu2",
        "outputId": "a4c4b119-d23c-41e4-9943-1b93688c84b4"
      },
      "execution_count": 10,
      "outputs": [
        {
          "output_type": "stream",
          "name": "stdout",
          "text": [
            "5 -> 7\n"
          ]
        }
      ]
    },
    {
      "cell_type": "code",
      "source": [
        "q.dequeue()\n",
        "print(q)"
      ],
      "metadata": {
        "colab": {
          "base_uri": "https://localhost:8080/"
        },
        "id": "D3hwYMaKy0to",
        "outputId": "1a4858cf-241a-481a-f018-f00b9a4d2c8a"
      },
      "execution_count": 11,
      "outputs": [
        {
          "output_type": "stream",
          "name": "stdout",
          "text": [
            "7\n"
          ]
        }
      ]
    },
    {
      "cell_type": "code",
      "source": [
        "q.dequeue()\n",
        "print(q)"
      ],
      "metadata": {
        "colab": {
          "base_uri": "https://localhost:8080/"
        },
        "id": "xypDxMb3y2HB",
        "outputId": "07cfc014-7554-43af-aa4e-67bd2f185e73"
      },
      "execution_count": 12,
      "outputs": [
        {
          "output_type": "stream",
          "name": "stdout",
          "text": [
            "\n"
          ]
        }
      ]
    },
    {
      "cell_type": "code",
      "source": [
        "q.dequeue()\n",
        "print(q)"
      ],
      "metadata": {
        "colab": {
          "base_uri": "https://localhost:8080/"
        },
        "id": "KjMTW1oSy7IV",
        "outputId": "793d7930-25d8-4abb-e3d6-57f789ff0a91"
      },
      "execution_count": 13,
      "outputs": [
        {
          "output_type": "stream",
          "name": "stdout",
          "text": [
            "Queue is Empty\n",
            "\n"
          ]
        }
      ]
    },
    {
      "cell_type": "markdown",
      "source": [
        "![rainbow](https://github.com/ancilcleetus/My-Learning-Journey/assets/25684256/839c3524-2a1d-4779-85a0-83c562e1e5e5)"
      ],
      "metadata": {
        "id": "U897-NGnYhHk"
      }
    },
    {
      "cell_type": "code",
      "source": [
        "# Deep Learning as subset of ML\n",
        "\n",
        "from IPython import display\n",
        "display.Image(\"data/images/DL_01_Intro-01-DL-subset-of-ML.jpg\")"
      ],
      "metadata": {
        "id": "juNAxVBFg7sw"
      },
      "execution_count": null,
      "outputs": []
    },
    {
      "cell_type": "markdown",
      "source": [
        "![rainbow](https://github.com/ancilcleetus/My-Learning-Journey/assets/25684256/839c3524-2a1d-4779-85a0-83c562e1e5e5)"
      ],
      "metadata": {
        "id": "qqv0L0R9dyKJ"
      }
    }
  ]
}