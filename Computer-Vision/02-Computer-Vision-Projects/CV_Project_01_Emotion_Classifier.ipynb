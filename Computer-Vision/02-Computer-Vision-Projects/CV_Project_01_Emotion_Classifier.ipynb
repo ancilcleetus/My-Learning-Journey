{
  "nbformat": 4,
  "nbformat_minor": 0,
  "metadata": {
    "colab": {
      "provenance": []
    },
    "kernelspec": {
      "name": "python3",
      "display_name": "Python 3"
    },
    "language_info": {
      "name": "python"
    }
  },
  "cells": [
    {
      "cell_type": "markdown",
      "source": [
        "![rainbow](https://github.com/ancilcleetus/My-Learning-Journey/assets/25684256/839c3524-2a1d-4779-85a0-83c562e1e5e5)"
      ],
      "metadata": {
        "id": "uLR90WhedwER"
      }
    },
    {
      "cell_type": "markdown",
      "source": [
        "# 1. Emotion Classifier from scratch using Keras: Intro\n",
        "\n",
        "We are going to train an Emotion Classifier from scratch using Keras on the Kaggle FER-2013 (Facial Emotion Recognition) Dataset."
      ],
      "metadata": {
        "id": "bKim3KwyTp11"
      }
    },
    {
      "cell_type": "markdown",
      "source": [
        "![rainbow](https://github.com/ancilcleetus/My-Learning-Journey/assets/25684256/839c3524-2a1d-4779-85a0-83c562e1e5e5)"
      ],
      "metadata": {
        "id": "cWc0dZDjFm5j"
      }
    },
    {
      "cell_type": "markdown",
      "source": [
        "# 2. Dataset\n",
        "\n",
        "[Kaggle FER-2013 dataset](https://www.kaggle.com/datasets/msambare/fer2013) consists of 48x48 pixel grayscale images of faces. The faces have been automatically registered so that the face is more or less centred and occupies about the same amount of space in each image.\n",
        "\n",
        "The task is to categorize each face based on the emotion shown in the facial expression into one of seven categories (0=Angry, 1=Disgust, 2=Fear, 3=Happy, 4=Sad, 5=Surprise, 6=Neutral). The training set consists of 28,709 examples and the test set consists of 3,589 examples.\n",
        "\n",
        "The dataset has got lots of challenges that needs to be addressed:\n",
        "- 1st challenge: Learning from a big image is easier compared to learning from a small image (48x48 pixels)\n",
        "- 2nd challenge: We have many classes\n",
        "- 3rd challenge: We have less no of images per class\n",
        "- 4th challenge: Dataset is highly imbalanced (Train set has got 400+ images for 'disgust' class while 7200+ for 'happy' class)"
      ],
      "metadata": {
        "id": "xGiN2941FhIN"
      }
    },
    {
      "cell_type": "markdown",
      "source": [
        "![rainbow](https://github.com/ancilcleetus/My-Learning-Journey/assets/25684256/839c3524-2a1d-4779-85a0-83c562e1e5e5)"
      ],
      "metadata": {
        "id": "lFuCF6yyIB8H"
      }
    },
    {
      "cell_type": "markdown",
      "source": [
        "# 3. Load Kaggle Dataset in Google Colab"
      ],
      "metadata": {
        "id": "2YO48SOliIjt"
      }
    },
    {
      "cell_type": "code",
      "source": [
        "# Install Kaggle\n",
        "!pip3 install kaggle"
      ],
      "metadata": {
        "id": "bkqxjCwFiLTh"
      },
      "execution_count": null,
      "outputs": []
    },
    {
      "cell_type": "code",
      "source": [
        "# Upload Kaggle API key (kaggle.json file downloaded from your Kaggle account)\n",
        "from google.colab import files\n",
        "files.upload()"
      ],
      "metadata": {
        "id": "gE_it2WgiWia"
      },
      "execution_count": null,
      "outputs": []
    },
    {
      "cell_type": "code",
      "source": [
        "# Move kaggle.json file to .kaggle folder in home directory\n",
        "!mkdir -p ~/.kaggle\n",
        "!cp kaggle.json ~/.kaggle/\n",
        "\n",
        "# Change the permission of the file\n",
        "!chmod 600 ~/.kaggle/kaggle.json\n",
        "\n",
        "# Check the permission of the file\n",
        "!ls -l ~/.kaggle/kaggle.json"
      ],
      "metadata": {
        "id": "Utsfb57Qierp"
      },
      "execution_count": null,
      "outputs": []
    },
    {
      "cell_type": "code",
      "source": [
        "# Get Kaggle FER-2013 Dataset API Command & Download dataset\n",
        "!kaggle datasets download -d msambare/fer2013"
      ],
      "metadata": {
        "id": "3GJ4GMWUjY2k"
      },
      "execution_count": null,
      "outputs": []
    },
    {
      "cell_type": "code",
      "source": [
        "# Extract dataset zip file\n",
        "from zipfile import ZipFile\n",
        "file_name = \"dogs-vs-cats.zip\"\n",
        "\n",
        "with ZipFile(file_name, 'r') as zip_file:\n",
        "  zip_file.extractall()\n",
        "  print(\"Done\")"
      ],
      "metadata": {
        "id": "ARlt20TPpkti"
      },
      "execution_count": null,
      "outputs": []
    },
    {
      "cell_type": "markdown",
      "source": [
        "![rainbow](https://github.com/ancilcleetus/My-Learning-Journey/assets/25684256/839c3524-2a1d-4779-85a0-83c562e1e5e5)"
      ],
      "metadata": {
        "id": "EkJaIGUhIGYe"
      }
    },
    {
      "cell_type": "markdown",
      "source": [
        "# 4. Installing the required libraries"
      ],
      "metadata": {
        "id": "AYpWcAP1q4J6"
      }
    },
    {
      "cell_type": "code",
      "source": [
        "!pip3 install tensorflow keras numpy matplotlib opencv-python"
      ],
      "metadata": {
        "id": "jumMs-L4j4QM"
      },
      "execution_count": null,
      "outputs": []
    },
    {
      "cell_type": "markdown",
      "source": [
        "![rainbow](https://github.com/ancilcleetus/My-Learning-Journey/assets/25684256/839c3524-2a1d-4779-85a0-83c562e1e5e5)"
      ],
      "metadata": {
        "id": "qLDktyTWkwRY"
      }
    },
    {
      "cell_type": "markdown",
      "source": [
        "# 5. Importing packages"
      ],
      "metadata": {
        "id": "U-cvYNXzkoeQ"
      }
    },
    {
      "cell_type": "code",
      "source": [
        "import os\n",
        "import random\n",
        "\n",
        "import numpy as np\n",
        "import pandas as pd\n",
        "\n",
        "from PIL import Image\n",
        "import matplotlib.pyplot as plt\n",
        "import seaborn as sns\n",
        "import cv2\n",
        "import imghdr\n",
        "\n",
        "import tensorflow as tf\n",
        "from tensorflow.keras import layers, models, regularizers, optimizers\n",
        "from tensorflow.keras.layers import Conv2D, MaxPooling2D, BatchNormalization, Dropout, Flatten, Dense, Activation, GlobalAveragePooling2D\n",
        "from tensorflow.keras.models import Sequential, Model\n",
        "from tensorflow.keras.preprocessing.image import ImageDataGenerator, load_img, img_to_array\n",
        "from tensorflow.keras.optimizers import Adam, Adamax\n",
        "from tensorflow.keras.callbacks import ModelCheckpoint, EarlyStopping, ReduceLROnPlateau, TensorBoard, CSVLogger\n",
        "from tensorflow.keras.applications import VGG16, ResNet50V2\n",
        "from keras.utils import plot_model\n",
        "from sklearn.metrics import confusion_matrix, classification_report, roc_curve, auc\n",
        "from sklearn.utils.class_weight import compute_class_weight"
      ],
      "metadata": {
        "id": "9dMAxU4okw6d"
      },
      "execution_count": null,
      "outputs": []
    },
    {
      "cell_type": "markdown",
      "source": [
        "![rainbow](https://github.com/ancilcleetus/My-Learning-Journey/assets/25684256/839c3524-2a1d-4779-85a0-83c562e1e5e5)"
      ],
      "metadata": {
        "id": "K8jZSujnmiOe"
      }
    },
    {
      "cell_type": "markdown",
      "source": [
        "# 6. Create Project Directory Structure to save models"
      ],
      "metadata": {
        "id": "2g0XIMPQJBYh"
      }
    },
    {
      "cell_type": "code",
      "source": [
        "# Define your project name\n",
        "project_name = 'FER_2013_Emotion_Classifier'\n",
        "\n",
        "# List your models\n",
        "model_names = [\n",
        "    'Custom_CNN_From_Scratch',\n",
        "    'Custom_CNN_With_Augmentation',\n",
        "    'VGG16_Transfer_Learning',\n",
        "    'ResNet50_Transfer_Learning'\n",
        "]\n",
        "\n",
        "# Base directory (in this case, your Google Colab workspace)\n",
        "base_dir = '/content/'\n",
        "\n",
        "# Create the project directory\n",
        "project_dir = os.path.join(base_dir, project_name)\n",
        "os.makedirs(project_dir, exist_ok=True)\n",
        "\n",
        "# Create a subdirectory for each model\n",
        "for each_model in model_names:\n",
        "    model_dir = os.path.join(project_dir, each_model)\n",
        "    os.makedirs(model_dir, exist_ok=True)\n",
        "    # Example subdirectories for model-related files\n",
        "    # os.makedirs(os.path.join(model_dir, 'checkpoints'), exist_ok=True)\n",
        "    # os.makedirs(os.path.join(model_dir, 'logs'), exist_ok=True)\n",
        "    # os.makedirs(os.path.join(model_dir, 'saved_models'), exist_ok=True)\n",
        "\n",
        "print(f'Project directory structure created at: {project_dir}')\n"
      ],
      "metadata": {
        "id": "SeramDeWLv9m"
      },
      "execution_count": null,
      "outputs": []
    },
    {
      "cell_type": "code",
      "source": [
        "# Deep Learning as subset of ML\n",
        "\n",
        "from IPython import display\n",
        "display.Image(\"data/images/DL_01_Intro-01-DL-subset-of-ML.jpg\")"
      ],
      "metadata": {
        "id": "juNAxVBFg7sw"
      },
      "execution_count": null,
      "outputs": []
    },
    {
      "cell_type": "markdown",
      "source": [
        "![rainbow](https://github.com/ancilcleetus/My-Learning-Journey/assets/25684256/839c3524-2a1d-4779-85a0-83c562e1e5e5)"
      ],
      "metadata": {
        "id": "qqv0L0R9dyKJ"
      }
    }
  ]
}