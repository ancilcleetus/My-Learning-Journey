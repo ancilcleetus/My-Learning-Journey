{
  "nbformat": 4,
  "nbformat_minor": 0,
  "metadata": {
    "colab": {
      "provenance": []
    },
    "kernelspec": {
      "name": "python3",
      "display_name": "Python 3"
    },
    "language_info": {
      "name": "python"
    }
  },
  "cells": [
    {
      "cell_type": "markdown",
      "source": [
        "![rainbow](https://github.com/ancilcleetus/My-Learning-Journey/assets/25684256/839c3524-2a1d-4779-85a0-83c562e1e5e5)"
      ],
      "metadata": {
        "id": "uLR90WhedwER"
      }
    },
    {
      "cell_type": "markdown",
      "source": [
        "# 1. Text Extraction: An Introduction"
      ],
      "metadata": {
        "id": "bKim3KwyTp11"
      }
    },
    {
      "cell_type": "markdown",
      "source": [
        "Extracting text of various sizes, shapes, and orientations from images is an essential problem in many contexts, especially in e-commerce, augmented reality assistance systems, and content moderation in social media platforms. To tackle this problem, one needs to accurately extract the text from images.\n",
        "\n",
        "Basically, text extraction can be achieved in two methods:\n",
        "\n",
        "- Two step process, i.e., text detection and text recognition\n",
        "- Single step process, i.e., by training a single model to achieve both text detection and recognition.\n",
        "\n",
        "We will be focusing on the Two step method here.\n",
        "\n",
        "1. **Text detection** helps identify the region in the image where the text is present.  It takes in an image as an input, and outputs the bounding boxes.\n",
        "\n",
        "2. **Text recognition** extracts the text from the input image using the bounding boxes obtained from the text detection model. It takes in an image and some bounding boxes as inputs and outputs some raw text.\n",
        "\n",
        "Mostly, the text detection methods can be broadly classified into 2 categories:\n",
        "\n",
        "- Conventional methods\n",
        "- Deep Learning based methods\n",
        "\n",
        "Conventional methods rely on manually designed features. For instance, Stroke width Transform (SWT) and Maximally Stable Extremal Regions (MSER) based methods generally extracts the character candidates via edge detection or extremal region extraction.\n",
        "\n",
        "In the deep learning based methods, features are learned from the training data. These are generally better than the conventional ones, in terms of both accuracy and adaptability in challenging scenarios. Connectionist Text Proposal Network (CTPN) and Efficient and Accurate Scene Text Detector (EAST) are very famous Deep Learning based text detection methods.\n",
        "\n",
        "For text detection, you can use any of the techniques mentioned above based on the complexity of the use case that you have in hand."
      ],
      "metadata": {
        "id": "4ywTqi9jLOZG"
      }
    },
    {
      "cell_type": "markdown",
      "source": [
        "![rainbow](https://github.com/ancilcleetus/My-Learning-Journey/assets/25684256/839c3524-2a1d-4779-85a0-83c562e1e5e5)"
      ],
      "metadata": {
        "id": "U897-NGnYhHk"
      }
    },
    {
      "cell_type": "code",
      "source": [
        "# Deep Learning as subset of ML\n",
        "\n",
        "from IPython import display\n",
        "display.Image(\"data/images/DL_01_Intro-01-DL-subset-of-ML.jpg\")"
      ],
      "metadata": {
        "id": "juNAxVBFg7sw"
      },
      "execution_count": null,
      "outputs": []
    },
    {
      "cell_type": "markdown",
      "source": [
        "![rainbow](https://github.com/ancilcleetus/My-Learning-Journey/assets/25684256/839c3524-2a1d-4779-85a0-83c562e1e5e5)"
      ],
      "metadata": {
        "id": "qqv0L0R9dyKJ"
      }
    }
  ]
}