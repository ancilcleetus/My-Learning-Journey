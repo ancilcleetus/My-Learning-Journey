{
  "nbformat": 4,
  "nbformat_minor": 0,
  "metadata": {
    "colab": {
      "provenance": []
    },
    "kernelspec": {
      "name": "python3",
      "display_name": "Python 3"
    },
    "language_info": {
      "name": "python"
    }
  },
  "cells": [
    {
      "cell_type": "markdown",
      "source": [
        "![rainbow](https://github.com/ancilcleetus/My-Learning-Journey/assets/25684256/839c3524-2a1d-4779-85a0-83c562e1e5e5)"
      ],
      "metadata": {
        "id": "uLR90WhedwER"
      }
    },
    {
      "cell_type": "markdown",
      "source": [
        "# 1. VGG16 Model: Intro"
      ],
      "metadata": {
        "id": "bKim3KwyTp11"
      }
    },
    {
      "cell_type": "markdown",
      "source": [
        "VGG16 is a CNN (Convolutional Neural Network) architecture which was used to win ILSVRC (Imagenet) competition in 2014. It was proposed by the Visual Geometry Group (VGG) at the University of Oxford. It is considered to be one of the excellent vision model architecture till date. The pre-trained version of the VGG16 network is trained on over 1 million images from the ImageNet visual database, and is able to classify images into 1,000 different categories with 92.7 % top-5 test accuracy.\n",
        "\n",
        "**Note**\n",
        "\n",
        " Top-5 accuracy measures the percentage of test images for which the correct label is among the top five predicted labels out of 1000 labels of ImageNet challenge dataset."
      ],
      "metadata": {
        "id": "Rv43WOV2Y869"
      }
    },
    {
      "cell_type": "code",
      "source": [
        "# Deep Learning as subset of ML\n",
        "\n",
        "from IPython import display\n",
        "display.Image(\"data/images/DL_01_Intro-01-DL-subset-of-ML.jpg\")"
      ],
      "metadata": {
        "id": "juNAxVBFg7sw"
      },
      "execution_count": null,
      "outputs": []
    },
    {
      "cell_type": "markdown",
      "source": [
        "![rainbow](https://github.com/ancilcleetus/My-Learning-Journey/assets/25684256/839c3524-2a1d-4779-85a0-83c562e1e5e5)"
      ],
      "metadata": {
        "id": "qqv0L0R9dyKJ"
      }
    }
  ]
}