{
  "nbformat": 4,
  "nbformat_minor": 0,
  "metadata": {
    "colab": {
      "provenance": []
    },
    "kernelspec": {
      "name": "python3",
      "display_name": "Python 3"
    },
    "language_info": {
      "name": "python"
    }
  },
  "cells": [
    {
      "cell_type": "markdown",
      "source": [
        "![rainbow](https://github.com/ancilcleetus/My-Learning-Journey/assets/25684256/839c3524-2a1d-4779-85a0-83c562e1e5e5)"
      ],
      "metadata": {
        "id": "uLR90WhedwER"
      }
    },
    {
      "cell_type": "markdown",
      "source": [
        "# 1. Text Recognition - Problem Statement"
      ],
      "metadata": {
        "id": "bKim3KwyTp11"
      }
    },
    {
      "cell_type": "markdown",
      "source": [
        "For the Text Recognition problem, the input is an image while the output is a text as shown below."
      ],
      "metadata": {
        "id": "ysmnvAENjSOn"
      }
    },
    {
      "cell_type": "code",
      "source": [
        "# Text Recognition - Problem Statement\n",
        "\n",
        "from IPython import display\n",
        "display.Image(\"data/images/CV_A2_Intro_to_OCR-17.jpg\")"
      ],
      "metadata": {
        "id": "juNAxVBFg7sw",
        "colab": {
          "base_uri": "https://localhost:8080/",
          "height": 169
        },
        "outputId": "8c9e72e8-83d9-477c-dedc-0b7b9c17e2ec"
      },
      "execution_count": 1,
      "outputs": [
        {
          "output_type": "execute_result",
          "data": {
            "image/jpeg": "[encoded data removed]",
            "text/plain": [
              "<IPython.core.display.Image object>"
            ]
          },
          "metadata": {},
          "execution_count": 1
        }
      ]
    },
    {
      "cell_type": "markdown",
      "source": [
        "So, in order to solve the Text Recognition problem, we need to develop a model that takes the image as an input and outputs the recognized text. Convolutional Neural Networks (CNNs) are good in handling image data, while for the sequence data such as text, Recurrent Neural Networks (RNNs) are preferred.\n",
        "\n",
        "So, for the Text Recognition problem, an obvious choice would be to use a combination of Convolutional Neural Network and Recurrent Neural Network. [CRNN](https://arxiv.org/pdf/1507.05717) is one such architecture that combines the CNN and RNN together."
      ],
      "metadata": {
        "id": "UHk5F1ZQj2kf"
      }
    },
    {
      "cell_type": "markdown",
      "source": [
        "![rainbow](https://github.com/ancilcleetus/My-Learning-Journey/assets/25684256/839c3524-2a1d-4779-85a0-83c562e1e5e5)"
      ],
      "metadata": {
        "id": "qqv0L0R9dyKJ"
      }
    }
  ]
}