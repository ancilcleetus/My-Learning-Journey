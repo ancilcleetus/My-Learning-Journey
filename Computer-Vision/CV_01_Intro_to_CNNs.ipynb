{
  "nbformat": 4,
  "nbformat_minor": 0,
  "metadata": {
    "colab": {
      "provenance": []
    },
    "kernelspec": {
      "name": "python3",
      "display_name": "Python 3"
    },
    "language_info": {
      "name": "python"
    }
  },
  "cells": [
    {
      "cell_type": "markdown",
      "source": [
        "# 1. Basic Concepts"
      ],
      "metadata": {
        "id": "oAsAd7cxd-7D"
      }
    },
    {
      "cell_type": "markdown",
      "source": [
        "\n",
        "## 1. Calculations for image size after convolution operation (Input image size $n \\times n$, Kernel size $k \\times k$, Padding $p$, Stride $s$)\n",
        "*   No padding, Stride = 1 => $(n - k + 1) \\times (n - k + 1)$\n",
        "*   With Padding, Stride = 1 => $(n + 2p - k + 1) \\times (n + 2p - k + 1)$\n",
        "*   No Padding, With Stride s => $(\\frac{n - k}{s} + 1) \\times (\\frac{n - k}{s} + 1)$\n",
        "*   With Padding, With Stride s => $(\\frac{n + 2p - k}{s} + 1) \\times (\\frac{n + 2p - k}{s} + 1)$\n",
        "\n",
        "---\n",
        "\n",
        "**Note:** If the expression $\\frac{n + 2p - k}{s}$ results in a fractional number, you typically have two common options for handling this situation in Convolutional Neural Networks:\n",
        "1. Floor Division: Round down the result of the division to the nearest integer.\n",
        "2. Ceiling Division: Round up the result of the division to the nearest integer.\n",
        "\n",
        "The choice between these two options depends on the specific implementation and the desired behavior. In most deep learning frameworks, such as PyTorch or TensorFlow, the default behavior is floor division. However, you might find cases where ceiling division is used depending on the specific needs of the model or the layer."
      ],
      "metadata": {
        "id": "NZoQWoFzeTr1"
      }
    }
  ]
}