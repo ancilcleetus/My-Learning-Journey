{
  "nbformat": 4,
  "nbformat_minor": 0,
  "metadata": {
    "colab": {
      "provenance": []
    },
    "kernelspec": {
      "name": "python3",
      "display_name": "Python 3"
    },
    "language_info": {
      "name": "python"
    }
  },
  "cells": [
    {
      "cell_type": "markdown",
      "source": [
        "![rainbow](https://github.com/ancilcleetus/My-Learning-Journey/assets/25684256/839c3524-2a1d-4779-85a0-83c562e1e5e5)"
      ],
      "metadata": {
        "id": "uLR90WhedwER"
      }
    },
    {
      "cell_type": "markdown",
      "source": [
        "# 1. Chicago Cab Fare Predictor using Linear Regression"
      ],
      "metadata": {
        "id": "bKim3KwyTp11"
      }
    },
    {
      "cell_type": "markdown",
      "source": [
        "Accurately predicting the cost of a taxi ride can provide valuable insights for both riders and service providers, enabling more informed decisions and better financial planning. In this project, we focus on building a **Linear Regression model** to predict taxi fares in **Chicago, Illinois**. By analyzing patterns in historical data, we aim to create a model that can reliably estimate the fare for a given trip.\n",
        "\n",
        "The [dataset used in this project](https://download.mlcc.google.com/mledu-datasets/chicago_taxi_train.csv) is a **subset of the [City of Chicago Taxi Trips dataset](https://data.cityofchicago.org/Transportation/Taxi-Trips/wrvz-psew)**, specifically **focusing on a two-day period in May 2022**. This data contains key features such as trip distance, pickup/dropoff locations, and ride duration, which we will leverage to train our predictive model.\n",
        "\n",
        "**Project Objectives:**\n",
        "\n",
        "- **Dataset:** A cleaned and preprocessed subset of taxi trips over a two-day period in May 2022.\n",
        "\n",
        "- **Model:** A Linear Regression model that predicts the fare based on input features like trip distance, time of day, and other relevant variables.\n",
        "\n",
        "- **Goal:** To build an accurate fare predictor that can assist in understanding taxi fare dynamics in Chicago.\n",
        "\n",
        "This project not only serves as a practical application of regression modeling but also offers insights into the pricing structure of taxi services in a major metropolitan area."
      ],
      "metadata": {
        "id": "fvM1pNCPzJJ3"
      }
    },
    {
      "cell_type": "markdown",
      "source": [
        "![rainbow](https://github.com/ancilcleetus/My-Learning-Journey/assets/25684256/839c3524-2a1d-4779-85a0-83c562e1e5e5)"
      ],
      "metadata": {
        "id": "RnPuClDG-fx7"
      }
    },
    {
      "cell_type": "markdown",
      "source": [
        "# 2. Part I: Initial Setup"
      ],
      "metadata": {
        "id": "4rTVJXLW-fyK"
      }
    },
    {
      "cell_type": "markdown",
      "source": [
        "## 1. Import Required Libraries"
      ],
      "metadata": {
        "id": "_yzuAxnGAh7V"
      }
    },
    {
      "cell_type": "code",
      "source": [
        "# General Imports\n",
        "import io\n",
        "\n",
        "# Data Processing\n",
        "import numpy as np\n",
        "import pandas as pd\n",
        "\n",
        "# Machine Learning\n",
        "import keras\n",
        "\n",
        "# Data Visualization\n",
        "import plotly.express as px\n",
        "from plotly.subplots import make_subplots\n",
        "import plotly.graph_objects as go\n",
        "import seaborn as sns"
      ],
      "metadata": {
        "id": "bZ75ivH4AKYi"
      },
      "execution_count": 1,
      "outputs": []
    },
    {
      "cell_type": "markdown",
      "source": [
        "## 2. Load the Dataset"
      ],
      "metadata": {
        "id": "9TVh7RfoBUV3"
      }
    },
    {
      "cell_type": "code",
      "source": [
        "chicago_taxi_dataset = pd.read_csv(\"https://download.mlcc.google.com/mledu-datasets/chicago_taxi_train.csv\")"
      ],
      "metadata": {
        "id": "9YKIjrJqBrUG"
      },
      "execution_count": 2,
      "outputs": []
    },
    {
      "cell_type": "code",
      "source": [
        "print(f\"Shape of dataset: {chicago_taxi_dataset.shape}\")"
      ],
      "metadata": {
        "colab": {
          "base_uri": "https://localhost:8080/"
        },
        "id": "vKvwNXP_CAup",
        "outputId": "47b8bae3-9574-4686-edcc-a5988548346f"
      },
      "execution_count": 3,
      "outputs": [
        {
          "output_type": "stream",
          "name": "stdout",
          "text": [
            "Shape of dataset: (31694, 18)\n"
          ]
        }
      ]
    },
    {
      "cell_type": "code",
      "source": [
        "chicago_taxi_dataset.head()"
      ],
      "metadata": {
        "colab": {
          "base_uri": "https://localhost:8080/",
          "height": 244
        },
        "id": "wG1GwxrrCE44",
        "outputId": "ae851b33-37ba-42dd-fd1f-3a53e3553b4f"
      },
      "execution_count": 4,
      "outputs": [
        {
          "output_type": "execute_result",
          "data": {
            "text/plain": [
              "    TRIP_START_TIMESTAMP     TRIP_END_TIMESTAMP  TRIP_START_HOUR  \\\n",
              "0  05/17/2022 7:15:00 AM  05/17/2022 7:45:00 AM             7.25   \n",
              "1  05/17/2022 5:15:00 PM  05/17/2022 5:30:00 PM            17.25   \n",
              "2  05/17/2022 5:15:00 PM  05/17/2022 5:30:00 PM            17.25   \n",
              "3  05/17/2022 6:00:00 PM  05/17/2022 7:00:00 PM            18.00   \n",
              "4  05/17/2022 5:00:00 PM  05/17/2022 5:30:00 PM            17.00   \n",
              "\n",
              "   TRIP_SECONDS  TRIP_MILES  TRIP_SPEED  PICKUP_CENSUS_TRACT  \\\n",
              "0          2341        2.57         4.0                  NaN   \n",
              "1          1074        1.18         4.0                  NaN   \n",
              "2          1173        1.29         4.0         1.703132e+10   \n",
              "3          3360        3.70         4.0         1.703132e+10   \n",
              "4          1044        1.15         4.0         1.703132e+10   \n",
              "\n",
              "   DROPOFF_CENSUS_TRACT  PICKUP_COMMUNITY_AREA  DROPOFF_COMMUNITY_AREA   FARE  \\\n",
              "0                   NaN                    NaN                    17.0  31.99   \n",
              "1          1.703108e+10                    NaN                     8.0   9.75   \n",
              "2          1.703108e+10                   32.0                     8.0  10.25   \n",
              "3          1.703124e+10                   32.0                    24.0  23.75   \n",
              "4          1.703108e+10                   32.0                     8.0  10.00   \n",
              "\n",
              "   TIPS  TIP_RATE  TOLLS  EXTRAS  TRIP_TOTAL PAYMENT_TYPE  \\\n",
              "0   2.0       6.3    0.0     0.0       33.99       Mobile   \n",
              "1   3.0      27.9    0.0     1.0       14.25  Credit Card   \n",
              "2   0.0       0.0    0.0     0.0       10.25         Cash   \n",
              "3   0.0       0.0    0.0     1.0       24.75         Cash   \n",
              "4   0.0       0.0    0.0     0.0       10.00         Cash   \n",
              "\n",
              "                   COMPANY  \n",
              "0                Flash Cab  \n",
              "1                Flash Cab  \n",
              "2                 Sun Taxi  \n",
              "3  Choice Taxi Association  \n",
              "4                Flash Cab  "
            ],
            "text/html": [
              "\n",
              "  <div id=\"df-753cb79c-d8e4-4a38-99b2-aefbb9936d65\" class=\"colab-df-container\">\n",
              "    <div>\n",
              "<style scoped>\n",
              "    .dataframe tbody tr th:only-of-type {\n",
              "        vertical-align: middle;\n",
              "    }\n",
              "\n",
              "    .dataframe tbody tr th {\n",
              "        vertical-align: top;\n",
              "    }\n",
              "\n",
              "    .dataframe thead th {\n",
              "        text-align: right;\n",
              "    }\n",
              "</style>\n",
              "<table border=\"1\" class=\"dataframe\">\n",
              "  <thead>\n",
              "    <tr style=\"text-align: right;\">\n",
              "      <th></th>\n",
              "      <th>TRIP_START_TIMESTAMP</th>\n",
              "      <th>TRIP_END_TIMESTAMP</th>\n",
              "      <th>TRIP_START_HOUR</th>\n",
              "      <th>TRIP_SECONDS</th>\n",
              "      <th>TRIP_MILES</th>\n",
              "      <th>TRIP_SPEED</th>\n",
              "      <th>PICKUP_CENSUS_TRACT</th>\n",
              "      <th>DROPOFF_CENSUS_TRACT</th>\n",
              "      <th>PICKUP_COMMUNITY_AREA</th>\n",
              "      <th>DROPOFF_COMMUNITY_AREA</th>\n",
              "      <th>FARE</th>\n",
              "      <th>TIPS</th>\n",
              "      <th>TIP_RATE</th>\n",
              "      <th>TOLLS</th>\n",
              "      <th>EXTRAS</th>\n",
              "      <th>TRIP_TOTAL</th>\n",
              "      <th>PAYMENT_TYPE</th>\n",
              "      <th>COMPANY</th>\n",
              "    </tr>\n",
              "  </thead>\n",
              "  <tbody>\n",
              "    <tr>\n",
              "      <th>0</th>\n",
              "      <td>05/17/2022 7:15:00 AM</td>\n",
              "      <td>05/17/2022 7:45:00 AM</td>\n",
              "      <td>7.25</td>\n",
              "      <td>2341</td>\n",
              "      <td>2.57</td>\n",
              "      <td>4.0</td>\n",
              "      <td>NaN</td>\n",
              "      <td>NaN</td>\n",
              "      <td>NaN</td>\n",
              "      <td>17.0</td>\n",
              "      <td>31.99</td>\n",
              "      <td>2.0</td>\n",
              "      <td>6.3</td>\n",
              "      <td>0.0</td>\n",
              "      <td>0.0</td>\n",
              "      <td>33.99</td>\n",
              "      <td>Mobile</td>\n",
              "      <td>Flash Cab</td>\n",
              "    </tr>\n",
              "    <tr>\n",
              "      <th>1</th>\n",
              "      <td>05/17/2022 5:15:00 PM</td>\n",
              "      <td>05/17/2022 5:30:00 PM</td>\n",
              "      <td>17.25</td>\n",
              "      <td>1074</td>\n",
              "      <td>1.18</td>\n",
              "      <td>4.0</td>\n",
              "      <td>NaN</td>\n",
              "      <td>1.703108e+10</td>\n",
              "      <td>NaN</td>\n",
              "      <td>8.0</td>\n",
              "      <td>9.75</td>\n",
              "      <td>3.0</td>\n",
              "      <td>27.9</td>\n",
              "      <td>0.0</td>\n",
              "      <td>1.0</td>\n",
              "      <td>14.25</td>\n",
              "      <td>Credit Card</td>\n",
              "      <td>Flash Cab</td>\n",
              "    </tr>\n",
              "    <tr>\n",
              "      <th>2</th>\n",
              "      <td>05/17/2022 5:15:00 PM</td>\n",
              "      <td>05/17/2022 5:30:00 PM</td>\n",
              "      <td>17.25</td>\n",
              "      <td>1173</td>\n",
              "      <td>1.29</td>\n",
              "      <td>4.0</td>\n",
              "      <td>1.703132e+10</td>\n",
              "      <td>1.703108e+10</td>\n",
              "      <td>32.0</td>\n",
              "      <td>8.0</td>\n",
              "      <td>10.25</td>\n",
              "      <td>0.0</td>\n",
              "      <td>0.0</td>\n",
              "      <td>0.0</td>\n",
              "      <td>0.0</td>\n",
              "      <td>10.25</td>\n",
              "      <td>Cash</td>\n",
              "      <td>Sun Taxi</td>\n",
              "    </tr>\n",
              "    <tr>\n",
              "      <th>3</th>\n",
              "      <td>05/17/2022 6:00:00 PM</td>\n",
              "      <td>05/17/2022 7:00:00 PM</td>\n",
              "      <td>18.00</td>\n",
              "      <td>3360</td>\n",
              "      <td>3.70</td>\n",
              "      <td>4.0</td>\n",
              "      <td>1.703132e+10</td>\n",
              "      <td>1.703124e+10</td>\n",
              "      <td>32.0</td>\n",
              "      <td>24.0</td>\n",
              "      <td>23.75</td>\n",
              "      <td>0.0</td>\n",
              "      <td>0.0</td>\n",
              "      <td>0.0</td>\n",
              "      <td>1.0</td>\n",
              "      <td>24.75</td>\n",
              "      <td>Cash</td>\n",
              "      <td>Choice Taxi Association</td>\n",
              "    </tr>\n",
              "    <tr>\n",
              "      <th>4</th>\n",
              "      <td>05/17/2022 5:00:00 PM</td>\n",
              "      <td>05/17/2022 5:30:00 PM</td>\n",
              "      <td>17.00</td>\n",
              "      <td>1044</td>\n",
              "      <td>1.15</td>\n",
              "      <td>4.0</td>\n",
              "      <td>1.703132e+10</td>\n",
              "      <td>1.703108e+10</td>\n",
              "      <td>32.0</td>\n",
              "      <td>8.0</td>\n",
              "      <td>10.00</td>\n",
              "      <td>0.0</td>\n",
              "      <td>0.0</td>\n",
              "      <td>0.0</td>\n",
              "      <td>0.0</td>\n",
              "      <td>10.00</td>\n",
              "      <td>Cash</td>\n",
              "      <td>Flash Cab</td>\n",
              "    </tr>\n",
              "  </tbody>\n",
              "</table>\n",
              "</div>\n",
              "    <div class=\"colab-df-buttons\">\n",
              "\n",
              "  <div class=\"colab-df-container\">\n",
              "    <button class=\"colab-df-convert\" onclick=\"convertToInteractive('df-753cb79c-d8e4-4a38-99b2-aefbb9936d65')\"\n",
              "            title=\"Convert this dataframe to an interactive table.\"\n",
              "            style=\"display:none;\">\n",
              "\n",
              "  <svg xmlns=\"http://www.w3.org/2000/svg\" height=\"24px\" viewBox=\"0 -960 960 960\">\n",
              "    <path d=\"M120-120v-720h720v720H120Zm60-500h600v-160H180v160Zm220 220h160v-160H400v160Zm0 220h160v-160H400v160ZM180-400h160v-160H180v160Zm440 0h160v-160H620v160ZM180-180h160v-160H180v160Zm440 0h160v-160H620v160Z\"/>\n",
              "  </svg>\n",
              "    </button>\n",
              "\n",
              "  <style>\n",
              "    .colab-df-container {\n",
              "      display:flex;\n",
              "      gap: 12px;\n",
              "    }\n",
              "\n",
              "    .colab-df-convert {\n",
              "      background-color: #E8F0FE;\n",
              "      border: none;\n",
              "      border-radius: 50%;\n",
              "      cursor: pointer;\n",
              "      display: none;\n",
              "      fill: #1967D2;\n",
              "      height: 32px;\n",
              "      padding: 0 0 0 0;\n",
              "      width: 32px;\n",
              "    }\n",
              "\n",
              "    .colab-df-convert:hover {\n",
              "      background-color: #E2EBFA;\n",
              "      box-shadow: 0px 1px 2px rgba(60, 64, 67, 0.3), 0px 1px 3px 1px rgba(60, 64, 67, 0.15);\n",
              "      fill: #174EA6;\n",
              "    }\n",
              "\n",
              "    .colab-df-buttons div {\n",
              "      margin-bottom: 4px;\n",
              "    }\n",
              "\n",
              "    [theme=dark] .colab-df-convert {\n",
              "      background-color: #3B4455;\n",
              "      fill: #D2E3FC;\n",
              "    }\n",
              "\n",
              "    [theme=dark] .colab-df-convert:hover {\n",
              "      background-color: #434B5C;\n",
              "      box-shadow: 0px 1px 3px 1px rgba(0, 0, 0, 0.15);\n",
              "      filter: drop-shadow(0px 1px 2px rgba(0, 0, 0, 0.3));\n",
              "      fill: #FFFFFF;\n",
              "    }\n",
              "  </style>\n",
              "\n",
              "    <script>\n",
              "      const buttonEl =\n",
              "        document.querySelector('#df-753cb79c-d8e4-4a38-99b2-aefbb9936d65 button.colab-df-convert');\n",
              "      buttonEl.style.display =\n",
              "        google.colab.kernel.accessAllowed ? 'block' : 'none';\n",
              "\n",
              "      async function convertToInteractive(key) {\n",
              "        const element = document.querySelector('#df-753cb79c-d8e4-4a38-99b2-aefbb9936d65');\n",
              "        const dataTable =\n",
              "          await google.colab.kernel.invokeFunction('convertToInteractive',\n",
              "                                                    [key], {});\n",
              "        if (!dataTable) return;\n",
              "\n",
              "        const docLinkHtml = 'Like what you see? Visit the ' +\n",
              "          '<a target=\"_blank\" href=https://colab.research.google.com/notebooks/data_table.ipynb>data table notebook</a>'\n",
              "          + ' to learn more about interactive tables.';\n",
              "        element.innerHTML = '';\n",
              "        dataTable['output_type'] = 'display_data';\n",
              "        await google.colab.output.renderOutput(dataTable, element);\n",
              "        const docLink = document.createElement('div');\n",
              "        docLink.innerHTML = docLinkHtml;\n",
              "        element.appendChild(docLink);\n",
              "      }\n",
              "    </script>\n",
              "  </div>\n",
              "\n",
              "\n",
              "<div id=\"df-e74bcd68-f1f1-4550-9539-ac58834d014b\">\n",
              "  <button class=\"colab-df-quickchart\" onclick=\"quickchart('df-e74bcd68-f1f1-4550-9539-ac58834d014b')\"\n",
              "            title=\"Suggest charts\"\n",
              "            style=\"display:none;\">\n",
              "\n",
              "<svg xmlns=\"http://www.w3.org/2000/svg\" height=\"24px\"viewBox=\"0 0 24 24\"\n",
              "     width=\"24px\">\n",
              "    <g>\n",
              "        <path d=\"M19 3H5c-1.1 0-2 .9-2 2v14c0 1.1.9 2 2 2h14c1.1 0 2-.9 2-2V5c0-1.1-.9-2-2-2zM9 17H7v-7h2v7zm4 0h-2V7h2v10zm4 0h-2v-4h2v4z\"/>\n",
              "    </g>\n",
              "</svg>\n",
              "  </button>\n",
              "\n",
              "<style>\n",
              "  .colab-df-quickchart {\n",
              "      --bg-color: #E8F0FE;\n",
              "      --fill-color: #1967D2;\n",
              "      --hover-bg-color: #E2EBFA;\n",
              "      --hover-fill-color: #174EA6;\n",
              "      --disabled-fill-color: #AAA;\n",
              "      --disabled-bg-color: #DDD;\n",
              "  }\n",
              "\n",
              "  [theme=dark] .colab-df-quickchart {\n",
              "      --bg-color: #3B4455;\n",
              "      --fill-color: #D2E3FC;\n",
              "      --hover-bg-color: #434B5C;\n",
              "      --hover-fill-color: #FFFFFF;\n",
              "      --disabled-bg-color: #3B4455;\n",
              "      --disabled-fill-color: #666;\n",
              "  }\n",
              "\n",
              "  .colab-df-quickchart {\n",
              "    background-color: var(--bg-color);\n",
              "    border: none;\n",
              "    border-radius: 50%;\n",
              "    cursor: pointer;\n",
              "    display: none;\n",
              "    fill: var(--fill-color);\n",
              "    height: 32px;\n",
              "    padding: 0;\n",
              "    width: 32px;\n",
              "  }\n",
              "\n",
              "  .colab-df-quickchart:hover {\n",
              "    background-color: var(--hover-bg-color);\n",
              "    box-shadow: 0 1px 2px rgba(60, 64, 67, 0.3), 0 1px 3px 1px rgba(60, 64, 67, 0.15);\n",
              "    fill: var(--button-hover-fill-color);\n",
              "  }\n",
              "\n",
              "  .colab-df-quickchart-complete:disabled,\n",
              "  .colab-df-quickchart-complete:disabled:hover {\n",
              "    background-color: var(--disabled-bg-color);\n",
              "    fill: var(--disabled-fill-color);\n",
              "    box-shadow: none;\n",
              "  }\n",
              "\n",
              "  .colab-df-spinner {\n",
              "    border: 2px solid var(--fill-color);\n",
              "    border-color: transparent;\n",
              "    border-bottom-color: var(--fill-color);\n",
              "    animation:\n",
              "      spin 1s steps(1) infinite;\n",
              "  }\n",
              "\n",
              "  @keyframes spin {\n",
              "    0% {\n",
              "      border-color: transparent;\n",
              "      border-bottom-color: var(--fill-color);\n",
              "      border-left-color: var(--fill-color);\n",
              "    }\n",
              "    20% {\n",
              "      border-color: transparent;\n",
              "      border-left-color: var(--fill-color);\n",
              "      border-top-color: var(--fill-color);\n",
              "    }\n",
              "    30% {\n",
              "      border-color: transparent;\n",
              "      border-left-color: var(--fill-color);\n",
              "      border-top-color: var(--fill-color);\n",
              "      border-right-color: var(--fill-color);\n",
              "    }\n",
              "    40% {\n",
              "      border-color: transparent;\n",
              "      border-right-color: var(--fill-color);\n",
              "      border-top-color: var(--fill-color);\n",
              "    }\n",
              "    60% {\n",
              "      border-color: transparent;\n",
              "      border-right-color: var(--fill-color);\n",
              "    }\n",
              "    80% {\n",
              "      border-color: transparent;\n",
              "      border-right-color: var(--fill-color);\n",
              "      border-bottom-color: var(--fill-color);\n",
              "    }\n",
              "    90% {\n",
              "      border-color: transparent;\n",
              "      border-bottom-color: var(--fill-color);\n",
              "    }\n",
              "  }\n",
              "</style>\n",
              "\n",
              "  <script>\n",
              "    async function quickchart(key) {\n",
              "      const quickchartButtonEl =\n",
              "        document.querySelector('#' + key + ' button');\n",
              "      quickchartButtonEl.disabled = true;  // To prevent multiple clicks.\n",
              "      quickchartButtonEl.classList.add('colab-df-spinner');\n",
              "      try {\n",
              "        const charts = await google.colab.kernel.invokeFunction(\n",
              "            'suggestCharts', [key], {});\n",
              "      } catch (error) {\n",
              "        console.error('Error during call to suggestCharts:', error);\n",
              "      }\n",
              "      quickchartButtonEl.classList.remove('colab-df-spinner');\n",
              "      quickchartButtonEl.classList.add('colab-df-quickchart-complete');\n",
              "    }\n",
              "    (() => {\n",
              "      let quickchartButtonEl =\n",
              "        document.querySelector('#df-e74bcd68-f1f1-4550-9539-ac58834d014b button');\n",
              "      quickchartButtonEl.style.display =\n",
              "        google.colab.kernel.accessAllowed ? 'block' : 'none';\n",
              "    })();\n",
              "  </script>\n",
              "</div>\n",
              "\n",
              "    </div>\n",
              "  </div>\n"
            ],
            "application/vnd.google.colaboratory.intrinsic+json": {
              "type": "dataframe",
              "variable_name": "chicago_taxi_dataset",
              "summary": "{\n  \"name\": \"chicago_taxi_dataset\",\n  \"rows\": 31694,\n  \"fields\": [\n    {\n      \"column\": \"TRIP_START_TIMESTAMP\",\n      \"properties\": {\n        \"dtype\": \"object\",\n        \"num_unique_values\": 193,\n        \"samples\": [\n          \"05/16/2022 7:45:00 AM\",\n          \"05/17/2022 7:45:00 PM\",\n          \"05/17/2022 4:15:00 PM\"\n        ],\n        \"semantic_type\": \"\",\n        \"description\": \"\"\n      }\n    },\n    {\n      \"column\": \"TRIP_END_TIMESTAMP\",\n      \"properties\": {\n        \"dtype\": \"object\",\n        \"num_unique_values\": 195,\n        \"samples\": [\n          \"05/17/2022 11:30:00 PM\",\n          \"05/17/2022 4:00:00 PM\",\n          \"05/18/2022 3:15:00 AM\"\n        ],\n        \"semantic_type\": \"\",\n        \"description\": \"\"\n      }\n    },\n    {\n      \"column\": \"TRIP_START_HOUR\",\n      \"properties\": {\n        \"dtype\": \"number\",\n        \"std\": 5.159453618767687,\n        \"min\": 0.0,\n        \"max\": 23.75,\n        \"num_unique_values\": 96,\n        \"samples\": [\n          5.5,\n          1.25,\n          6.5\n        ],\n        \"semantic_type\": \"\",\n        \"description\": \"\"\n      }\n    },\n    {\n      \"column\": \"TRIP_SECONDS\",\n      \"properties\": {\n        \"dtype\": \"number\",\n        \"std\": 928,\n        \"min\": 60,\n        \"max\": 7140,\n        \"num_unique_values\": 3740,\n        \"samples\": [\n          2242,\n          805,\n          407\n        ],\n        \"semantic_type\": \"\",\n        \"description\": \"\"\n      }\n    },\n    {\n      \"column\": \"TRIP_MILES\",\n      \"properties\": {\n        \"dtype\": \"number\",\n        \"std\": 7.265671862747363,\n        \"min\": 0.5,\n        \"max\": 68.12,\n        \"num_unique_values\": 2602,\n        \"samples\": [\n          11.25,\n          6.07,\n          3.4\n        ],\n        \"semantic_type\": \"\",\n        \"description\": \"\"\n      }\n    },\n    {\n      \"column\": \"TRIP_SPEED\",\n      \"properties\": {\n        \"dtype\": \"number\",\n        \"std\": 11.110390088734578,\n        \"min\": 4.0,\n        \"max\": 64.8,\n        \"num_unique_values\": 569,\n        \"samples\": [\n          24.4,\n          11.0,\n          17.1\n        ],\n        \"semantic_type\": \"\",\n        \"description\": \"\"\n      }\n    },\n    {\n      \"column\": \"PICKUP_CENSUS_TRACT\",\n      \"properties\": {\n        \"dtype\": \"number\",\n        \"std\": 382774.6932277728,\n        \"min\": 17031020702.0,\n        \"max\": 17031980100.0,\n        \"num_unique_values\": 77,\n        \"samples\": [\n          17031839100.0,\n          17031841900.0,\n          17031281900.0\n        ],\n        \"semantic_type\": \"\",\n        \"description\": \"\"\n      }\n    },\n    {\n      \"column\": \"DROPOFF_CENSUS_TRACT\",\n      \"properties\": {\n        \"dtype\": \"number\",\n        \"std\": 340810.5611740352,\n        \"min\": 17031010201.0,\n        \"max\": 17031980100.0,\n        \"num_unique_values\": 133,\n        \"samples\": [\n          17031838200.0,\n          17031220300.0,\n          17031080201.0\n        ],\n        \"semantic_type\": \"\",\n        \"description\": \"\"\n      }\n    },\n    {\n      \"column\": \"PICKUP_COMMUNITY_AREA\",\n      \"properties\": {\n        \"dtype\": \"number\",\n        \"std\": 26.42136656871808,\n        \"min\": 1.0,\n        \"max\": 77.0,\n        \"num_unique_values\": 77,\n        \"samples\": [\n          76.0,\n          4.0,\n          3.0\n        ],\n        \"semantic_type\": \"\",\n        \"description\": \"\"\n      }\n    },\n    {\n      \"column\": \"DROPOFF_COMMUNITY_AREA\",\n      \"properties\": {\n        \"dtype\": \"number\",\n        \"std\": 20.34970708654116,\n        \"min\": 1.0,\n        \"max\": 77.0,\n        \"num_unique_values\": 77,\n        \"samples\": [\n          6.0,\n          16.0,\n          2.0\n        ],\n        \"semantic_type\": \"\",\n        \"description\": \"\"\n      }\n    },\n    {\n      \"column\": \"FARE\",\n      \"properties\": {\n        \"dtype\": \"number\",\n        \"std\": 16.970021587147304,\n        \"min\": 3.25,\n        \"max\": 159.25,\n        \"num_unique_values\": 1597,\n        \"samples\": [\n          17.72,\n          22.0,\n          36.75\n        ],\n        \"semantic_type\": \"\",\n        \"description\": \"\"\n      }\n    },\n    {\n      \"column\": \"TIPS\",\n      \"properties\": {\n        \"dtype\": \"number\",\n        \"std\": 4.284567071888934,\n        \"min\": 0.0,\n        \"max\": 60.0,\n        \"num_unique_values\": 1203,\n        \"samples\": [\n          9.47,\n          8.65,\n          1.69\n        ],\n        \"semantic_type\": \"\",\n        \"description\": \"\"\n      }\n    },\n    {\n      \"column\": \"TIP_RATE\",\n      \"properties\": {\n        \"dtype\": \"number\",\n        \"std\": 15.517765015197975,\n        \"min\": 0.0,\n        \"max\": 648.6,\n        \"num_unique_values\": 506,\n        \"samples\": [\n          15.5,\n          54.9,\n          296.3\n        ],\n        \"semantic_type\": \"\",\n        \"description\": \"\"\n      }\n    },\n    {\n      \"column\": \"TOLLS\",\n      \"properties\": {\n        \"dtype\": \"number\",\n        \"std\": 0.16434275510772314,\n        \"min\": 0.0,\n        \"max\": 27.0,\n        \"num_unique_values\": 10,\n        \"samples\": [\n          2.5,\n          1.0,\n          1.98\n        ],\n        \"semantic_type\": \"\",\n        \"description\": \"\"\n      }\n    },\n    {\n      \"column\": \"EXTRAS\",\n      \"properties\": {\n        \"dtype\": \"number\",\n        \"std\": 5.805087056953897,\n        \"min\": 0.0,\n        \"max\": 85.0,\n        \"num_unique_values\": 160,\n        \"samples\": [\n          5.99,\n          46.0,\n          41.75\n        ],\n        \"semantic_type\": \"\",\n        \"description\": \"\"\n      }\n    },\n    {\n      \"column\": \"TRIP_TOTAL\",\n      \"properties\": {\n        \"dtype\": \"number\",\n        \"std\": 23.145536898139245,\n        \"min\": 3.25,\n        \"max\": 248.5,\n        \"num_unique_values\": 3085,\n        \"samples\": [\n          12.79,\n          31.54,\n          47.72\n        ],\n        \"semantic_type\": \"\",\n        \"description\": \"\"\n      }\n    },\n    {\n      \"column\": \"PAYMENT_TYPE\",\n      \"properties\": {\n        \"dtype\": \"category\",\n        \"num_unique_values\": 7,\n        \"samples\": [\n          \"Mobile\",\n          \"Credit Card\",\n          \"No Charge\"\n        ],\n        \"semantic_type\": \"\",\n        \"description\": \"\"\n      }\n    },\n    {\n      \"column\": \"COMPANY\",\n      \"properties\": {\n        \"dtype\": \"category\",\n        \"num_unique_values\": 31,\n        \"samples\": [\n          \"6574 - Babylon Express Inc.\",\n          \"U Taxicab\",\n          \"Setare Inc\"\n        ],\n        \"semantic_type\": \"\",\n        \"description\": \"\"\n      }\n    }\n  ]\n}"
            }
          },
          "metadata": {},
          "execution_count": 4
        }
      ]
    },
    {
      "cell_type": "markdown",
      "source": [
        "## 3. Update the Dataframe"
      ],
      "metadata": {
        "id": "486hp0mKCoYR"
      }
    },
    {
      "cell_type": "markdown",
      "source": [
        "From the loaded `chicago_taxi_dataset`, we are selecting only the relevant columns: `TRIP_MILES`, `TRIP_SECONDS`, `FARE`, `COMPANY`, `PAYMENT_TYPE`, and `TIP_RATE`."
      ],
      "metadata": {
        "id": "-ajzamLivSxg"
      }
    },
    {
      "cell_type": "code",
      "source": [
        "# Update the DataFrame to use only specific columns from the dataset\n",
        "training_df = chicago_taxi_dataset[['TRIP_MILES', 'TRIP_SECONDS', 'FARE', 'COMPANY', 'PAYMENT_TYPE', 'TIP_RATE']]\n",
        "\n",
        "print(f\"Total number of rows: {len(training_df.index)}\")\n",
        "print(f\"Shape of dataset: {training_df.shape}\\n\\n\")\n",
        "training_df.head(200)"
      ],
      "metadata": {
        "colab": {
          "base_uri": "https://localhost:8080/",
          "height": 493
        },
        "id": "9s4FnmG1C0GM",
        "outputId": "3eafba94-7086-42d1-bcb1-c436295371ad"
      },
      "execution_count": 5,
      "outputs": [
        {
          "output_type": "stream",
          "name": "stdout",
          "text": [
            "Total number of rows: 31694\n",
            "Shape of dataset: (31694, 6)\n",
            "\n",
            "\n"
          ]
        },
        {
          "output_type": "execute_result",
          "data": {
            "text/plain": [
              "     TRIP_MILES  TRIP_SECONDS   FARE                       COMPANY  \\\n",
              "0          2.57          2341  31.99                     Flash Cab   \n",
              "1          1.18          1074   9.75                     Flash Cab   \n",
              "2          1.29          1173  10.25                      Sun Taxi   \n",
              "3          3.70          3360  23.75       Choice Taxi Association   \n",
              "4          1.15          1044  10.00                     Flash Cab   \n",
              "..          ...           ...    ...                           ...   \n",
              "195        1.13           821   9.00  Blue Ribbon Taxi Association   \n",
              "196        0.57           414   6.00                     Flash Cab   \n",
              "197        1.22           886   9.00                  City Service   \n",
              "198        1.68          1219   9.00                      Sun Taxi   \n",
              "199        0.71           515   6.50                      Sun Taxi   \n",
              "\n",
              "    PAYMENT_TYPE  TIP_RATE  \n",
              "0         Mobile       6.3  \n",
              "1    Credit Card      27.9  \n",
              "2           Cash       0.0  \n",
              "3           Cash       0.0  \n",
              "4           Cash       0.0  \n",
              "..           ...       ...  \n",
              "195       Mobile      22.9  \n",
              "196         Cash       0.0  \n",
              "197         Cash       0.0  \n",
              "198       Mobile      23.0  \n",
              "199  Credit Card      18.2  \n",
              "\n",
              "[200 rows x 6 columns]"
            ],
            "text/html": [
              "\n",
              "  <div id=\"df-f786343d-ddcf-4afa-b1ff-50e7266175a7\" class=\"colab-df-container\">\n",
              "    <div>\n",
              "<style scoped>\n",
              "    .dataframe tbody tr th:only-of-type {\n",
              "        vertical-align: middle;\n",
              "    }\n",
              "\n",
              "    .dataframe tbody tr th {\n",
              "        vertical-align: top;\n",
              "    }\n",
              "\n",
              "    .dataframe thead th {\n",
              "        text-align: right;\n",
              "    }\n",
              "</style>\n",
              "<table border=\"1\" class=\"dataframe\">\n",
              "  <thead>\n",
              "    <tr style=\"text-align: right;\">\n",
              "      <th></th>\n",
              "      <th>TRIP_MILES</th>\n",
              "      <th>TRIP_SECONDS</th>\n",
              "      <th>FARE</th>\n",
              "      <th>COMPANY</th>\n",
              "      <th>PAYMENT_TYPE</th>\n",
              "      <th>TIP_RATE</th>\n",
              "    </tr>\n",
              "  </thead>\n",
              "  <tbody>\n",
              "    <tr>\n",
              "      <th>0</th>\n",
              "      <td>2.57</td>\n",
              "      <td>2341</td>\n",
              "      <td>31.99</td>\n",
              "      <td>Flash Cab</td>\n",
              "      <td>Mobile</td>\n",
              "      <td>6.3</td>\n",
              "    </tr>\n",
              "    <tr>\n",
              "      <th>1</th>\n",
              "      <td>1.18</td>\n",
              "      <td>1074</td>\n",
              "      <td>9.75</td>\n",
              "      <td>Flash Cab</td>\n",
              "      <td>Credit Card</td>\n",
              "      <td>27.9</td>\n",
              "    </tr>\n",
              "    <tr>\n",
              "      <th>2</th>\n",
              "      <td>1.29</td>\n",
              "      <td>1173</td>\n",
              "      <td>10.25</td>\n",
              "      <td>Sun Taxi</td>\n",
              "      <td>Cash</td>\n",
              "      <td>0.0</td>\n",
              "    </tr>\n",
              "    <tr>\n",
              "      <th>3</th>\n",
              "      <td>3.70</td>\n",
              "      <td>3360</td>\n",
              "      <td>23.75</td>\n",
              "      <td>Choice Taxi Association</td>\n",
              "      <td>Cash</td>\n",
              "      <td>0.0</td>\n",
              "    </tr>\n",
              "    <tr>\n",
              "      <th>4</th>\n",
              "      <td>1.15</td>\n",
              "      <td>1044</td>\n",
              "      <td>10.00</td>\n",
              "      <td>Flash Cab</td>\n",
              "      <td>Cash</td>\n",
              "      <td>0.0</td>\n",
              "    </tr>\n",
              "    <tr>\n",
              "      <th>...</th>\n",
              "      <td>...</td>\n",
              "      <td>...</td>\n",
              "      <td>...</td>\n",
              "      <td>...</td>\n",
              "      <td>...</td>\n",
              "      <td>...</td>\n",
              "    </tr>\n",
              "    <tr>\n",
              "      <th>195</th>\n",
              "      <td>1.13</td>\n",
              "      <td>821</td>\n",
              "      <td>9.00</td>\n",
              "      <td>Blue Ribbon Taxi Association</td>\n",
              "      <td>Mobile</td>\n",
              "      <td>22.9</td>\n",
              "    </tr>\n",
              "    <tr>\n",
              "      <th>196</th>\n",
              "      <td>0.57</td>\n",
              "      <td>414</td>\n",
              "      <td>6.00</td>\n",
              "      <td>Flash Cab</td>\n",
              "      <td>Cash</td>\n",
              "      <td>0.0</td>\n",
              "    </tr>\n",
              "    <tr>\n",
              "      <th>197</th>\n",
              "      <td>1.22</td>\n",
              "      <td>886</td>\n",
              "      <td>9.00</td>\n",
              "      <td>City Service</td>\n",
              "      <td>Cash</td>\n",
              "      <td>0.0</td>\n",
              "    </tr>\n",
              "    <tr>\n",
              "      <th>198</th>\n",
              "      <td>1.68</td>\n",
              "      <td>1219</td>\n",
              "      <td>9.00</td>\n",
              "      <td>Sun Taxi</td>\n",
              "      <td>Mobile</td>\n",
              "      <td>23.0</td>\n",
              "    </tr>\n",
              "    <tr>\n",
              "      <th>199</th>\n",
              "      <td>0.71</td>\n",
              "      <td>515</td>\n",
              "      <td>6.50</td>\n",
              "      <td>Sun Taxi</td>\n",
              "      <td>Credit Card</td>\n",
              "      <td>18.2</td>\n",
              "    </tr>\n",
              "  </tbody>\n",
              "</table>\n",
              "<p>200 rows × 6 columns</p>\n",
              "</div>\n",
              "    <div class=\"colab-df-buttons\">\n",
              "\n",
              "  <div class=\"colab-df-container\">\n",
              "    <button class=\"colab-df-convert\" onclick=\"convertToInteractive('df-f786343d-ddcf-4afa-b1ff-50e7266175a7')\"\n",
              "            title=\"Convert this dataframe to an interactive table.\"\n",
              "            style=\"display:none;\">\n",
              "\n",
              "  <svg xmlns=\"http://www.w3.org/2000/svg\" height=\"24px\" viewBox=\"0 -960 960 960\">\n",
              "    <path d=\"M120-120v-720h720v720H120Zm60-500h600v-160H180v160Zm220 220h160v-160H400v160Zm0 220h160v-160H400v160ZM180-400h160v-160H180v160Zm440 0h160v-160H620v160ZM180-180h160v-160H180v160Zm440 0h160v-160H620v160Z\"/>\n",
              "  </svg>\n",
              "    </button>\n",
              "\n",
              "  <style>\n",
              "    .colab-df-container {\n",
              "      display:flex;\n",
              "      gap: 12px;\n",
              "    }\n",
              "\n",
              "    .colab-df-convert {\n",
              "      background-color: #E8F0FE;\n",
              "      border: none;\n",
              "      border-radius: 50%;\n",
              "      cursor: pointer;\n",
              "      display: none;\n",
              "      fill: #1967D2;\n",
              "      height: 32px;\n",
              "      padding: 0 0 0 0;\n",
              "      width: 32px;\n",
              "    }\n",
              "\n",
              "    .colab-df-convert:hover {\n",
              "      background-color: #E2EBFA;\n",
              "      box-shadow: 0px 1px 2px rgba(60, 64, 67, 0.3), 0px 1px 3px 1px rgba(60, 64, 67, 0.15);\n",
              "      fill: #174EA6;\n",
              "    }\n",
              "\n",
              "    .colab-df-buttons div {\n",
              "      margin-bottom: 4px;\n",
              "    }\n",
              "\n",
              "    [theme=dark] .colab-df-convert {\n",
              "      background-color: #3B4455;\n",
              "      fill: #D2E3FC;\n",
              "    }\n",
              "\n",
              "    [theme=dark] .colab-df-convert:hover {\n",
              "      background-color: #434B5C;\n",
              "      box-shadow: 0px 1px 3px 1px rgba(0, 0, 0, 0.15);\n",
              "      filter: drop-shadow(0px 1px 2px rgba(0, 0, 0, 0.3));\n",
              "      fill: #FFFFFF;\n",
              "    }\n",
              "  </style>\n",
              "\n",
              "    <script>\n",
              "      const buttonEl =\n",
              "        document.querySelector('#df-f786343d-ddcf-4afa-b1ff-50e7266175a7 button.colab-df-convert');\n",
              "      buttonEl.style.display =\n",
              "        google.colab.kernel.accessAllowed ? 'block' : 'none';\n",
              "\n",
              "      async function convertToInteractive(key) {\n",
              "        const element = document.querySelector('#df-f786343d-ddcf-4afa-b1ff-50e7266175a7');\n",
              "        const dataTable =\n",
              "          await google.colab.kernel.invokeFunction('convertToInteractive',\n",
              "                                                    [key], {});\n",
              "        if (!dataTable) return;\n",
              "\n",
              "        const docLinkHtml = 'Like what you see? Visit the ' +\n",
              "          '<a target=\"_blank\" href=https://colab.research.google.com/notebooks/data_table.ipynb>data table notebook</a>'\n",
              "          + ' to learn more about interactive tables.';\n",
              "        element.innerHTML = '';\n",
              "        dataTable['output_type'] = 'display_data';\n",
              "        await google.colab.output.renderOutput(dataTable, element);\n",
              "        const docLink = document.createElement('div');\n",
              "        docLink.innerHTML = docLinkHtml;\n",
              "        element.appendChild(docLink);\n",
              "      }\n",
              "    </script>\n",
              "  </div>\n",
              "\n",
              "\n",
              "<div id=\"df-1def6553-a379-46e8-84e8-067b1ea14f71\">\n",
              "  <button class=\"colab-df-quickchart\" onclick=\"quickchart('df-1def6553-a379-46e8-84e8-067b1ea14f71')\"\n",
              "            title=\"Suggest charts\"\n",
              "            style=\"display:none;\">\n",
              "\n",
              "<svg xmlns=\"http://www.w3.org/2000/svg\" height=\"24px\"viewBox=\"0 0 24 24\"\n",
              "     width=\"24px\">\n",
              "    <g>\n",
              "        <path d=\"M19 3H5c-1.1 0-2 .9-2 2v14c0 1.1.9 2 2 2h14c1.1 0 2-.9 2-2V5c0-1.1-.9-2-2-2zM9 17H7v-7h2v7zm4 0h-2V7h2v10zm4 0h-2v-4h2v4z\"/>\n",
              "    </g>\n",
              "</svg>\n",
              "  </button>\n",
              "\n",
              "<style>\n",
              "  .colab-df-quickchart {\n",
              "      --bg-color: #E8F0FE;\n",
              "      --fill-color: #1967D2;\n",
              "      --hover-bg-color: #E2EBFA;\n",
              "      --hover-fill-color: #174EA6;\n",
              "      --disabled-fill-color: #AAA;\n",
              "      --disabled-bg-color: #DDD;\n",
              "  }\n",
              "\n",
              "  [theme=dark] .colab-df-quickchart {\n",
              "      --bg-color: #3B4455;\n",
              "      --fill-color: #D2E3FC;\n",
              "      --hover-bg-color: #434B5C;\n",
              "      --hover-fill-color: #FFFFFF;\n",
              "      --disabled-bg-color: #3B4455;\n",
              "      --disabled-fill-color: #666;\n",
              "  }\n",
              "\n",
              "  .colab-df-quickchart {\n",
              "    background-color: var(--bg-color);\n",
              "    border: none;\n",
              "    border-radius: 50%;\n",
              "    cursor: pointer;\n",
              "    display: none;\n",
              "    fill: var(--fill-color);\n",
              "    height: 32px;\n",
              "    padding: 0;\n",
              "    width: 32px;\n",
              "  }\n",
              "\n",
              "  .colab-df-quickchart:hover {\n",
              "    background-color: var(--hover-bg-color);\n",
              "    box-shadow: 0 1px 2px rgba(60, 64, 67, 0.3), 0 1px 3px 1px rgba(60, 64, 67, 0.15);\n",
              "    fill: var(--button-hover-fill-color);\n",
              "  }\n",
              "\n",
              "  .colab-df-quickchart-complete:disabled,\n",
              "  .colab-df-quickchart-complete:disabled:hover {\n",
              "    background-color: var(--disabled-bg-color);\n",
              "    fill: var(--disabled-fill-color);\n",
              "    box-shadow: none;\n",
              "  }\n",
              "\n",
              "  .colab-df-spinner {\n",
              "    border: 2px solid var(--fill-color);\n",
              "    border-color: transparent;\n",
              "    border-bottom-color: var(--fill-color);\n",
              "    animation:\n",
              "      spin 1s steps(1) infinite;\n",
              "  }\n",
              "\n",
              "  @keyframes spin {\n",
              "    0% {\n",
              "      border-color: transparent;\n",
              "      border-bottom-color: var(--fill-color);\n",
              "      border-left-color: var(--fill-color);\n",
              "    }\n",
              "    20% {\n",
              "      border-color: transparent;\n",
              "      border-left-color: var(--fill-color);\n",
              "      border-top-color: var(--fill-color);\n",
              "    }\n",
              "    30% {\n",
              "      border-color: transparent;\n",
              "      border-left-color: var(--fill-color);\n",
              "      border-top-color: var(--fill-color);\n",
              "      border-right-color: var(--fill-color);\n",
              "    }\n",
              "    40% {\n",
              "      border-color: transparent;\n",
              "      border-right-color: var(--fill-color);\n",
              "      border-top-color: var(--fill-color);\n",
              "    }\n",
              "    60% {\n",
              "      border-color: transparent;\n",
              "      border-right-color: var(--fill-color);\n",
              "    }\n",
              "    80% {\n",
              "      border-color: transparent;\n",
              "      border-right-color: var(--fill-color);\n",
              "      border-bottom-color: var(--fill-color);\n",
              "    }\n",
              "    90% {\n",
              "      border-color: transparent;\n",
              "      border-bottom-color: var(--fill-color);\n",
              "    }\n",
              "  }\n",
              "</style>\n",
              "\n",
              "  <script>\n",
              "    async function quickchart(key) {\n",
              "      const quickchartButtonEl =\n",
              "        document.querySelector('#' + key + ' button');\n",
              "      quickchartButtonEl.disabled = true;  // To prevent multiple clicks.\n",
              "      quickchartButtonEl.classList.add('colab-df-spinner');\n",
              "      try {\n",
              "        const charts = await google.colab.kernel.invokeFunction(\n",
              "            'suggestCharts', [key], {});\n",
              "      } catch (error) {\n",
              "        console.error('Error during call to suggestCharts:', error);\n",
              "      }\n",
              "      quickchartButtonEl.classList.remove('colab-df-spinner');\n",
              "      quickchartButtonEl.classList.add('colab-df-quickchart-complete');\n",
              "    }\n",
              "    (() => {\n",
              "      let quickchartButtonEl =\n",
              "        document.querySelector('#df-1def6553-a379-46e8-84e8-067b1ea14f71 button');\n",
              "      quickchartButtonEl.style.display =\n",
              "        google.colab.kernel.accessAllowed ? 'block' : 'none';\n",
              "    })();\n",
              "  </script>\n",
              "</div>\n",
              "\n",
              "    </div>\n",
              "  </div>\n"
            ],
            "application/vnd.google.colaboratory.intrinsic+json": {
              "type": "dataframe",
              "variable_name": "training_df",
              "summary": "{\n  \"name\": \"training_df\",\n  \"rows\": 31694,\n  \"fields\": [\n    {\n      \"column\": \"TRIP_MILES\",\n      \"properties\": {\n        \"dtype\": \"number\",\n        \"std\": 7.265671862747363,\n        \"min\": 0.5,\n        \"max\": 68.12,\n        \"num_unique_values\": 2602,\n        \"samples\": [\n          11.25,\n          6.07,\n          3.4\n        ],\n        \"semantic_type\": \"\",\n        \"description\": \"\"\n      }\n    },\n    {\n      \"column\": \"TRIP_SECONDS\",\n      \"properties\": {\n        \"dtype\": \"number\",\n        \"std\": 928,\n        \"min\": 60,\n        \"max\": 7140,\n        \"num_unique_values\": 3740,\n        \"samples\": [\n          2242,\n          805,\n          407\n        ],\n        \"semantic_type\": \"\",\n        \"description\": \"\"\n      }\n    },\n    {\n      \"column\": \"FARE\",\n      \"properties\": {\n        \"dtype\": \"number\",\n        \"std\": 16.970021587147304,\n        \"min\": 3.25,\n        \"max\": 159.25,\n        \"num_unique_values\": 1597,\n        \"samples\": [\n          17.72,\n          22.0,\n          36.75\n        ],\n        \"semantic_type\": \"\",\n        \"description\": \"\"\n      }\n    },\n    {\n      \"column\": \"COMPANY\",\n      \"properties\": {\n        \"dtype\": \"category\",\n        \"num_unique_values\": 31,\n        \"samples\": [\n          \"6574 - Babylon Express Inc.\",\n          \"U Taxicab\",\n          \"Setare Inc\"\n        ],\n        \"semantic_type\": \"\",\n        \"description\": \"\"\n      }\n    },\n    {\n      \"column\": \"PAYMENT_TYPE\",\n      \"properties\": {\n        \"dtype\": \"category\",\n        \"num_unique_values\": 7,\n        \"samples\": [\n          \"Mobile\",\n          \"Credit Card\",\n          \"No Charge\"\n        ],\n        \"semantic_type\": \"\",\n        \"description\": \"\"\n      }\n    },\n    {\n      \"column\": \"TIP_RATE\",\n      \"properties\": {\n        \"dtype\": \"number\",\n        \"std\": 15.517765015197975,\n        \"min\": 0.0,\n        \"max\": 648.6,\n        \"num_unique_values\": 506,\n        \"samples\": [\n          15.5,\n          54.9,\n          296.3\n        ],\n        \"semantic_type\": \"\",\n        \"description\": \"\"\n      }\n    }\n  ]\n}"
            }
          },
          "metadata": {},
          "execution_count": 5
        }
      ]
    },
    {
      "cell_type": "markdown",
      "source": [
        "![rainbow](https://github.com/ancilcleetus/My-Learning-Journey/assets/25684256/839c3524-2a1d-4779-85a0-83c562e1e5e5)"
      ],
      "metadata": {
        "id": "J9As9PyrFCxQ"
      }
    },
    {
      "cell_type": "markdown",
      "source": [
        "# 3. Part II: Dataset Exploration"
      ],
      "metadata": {
        "id": "hWgznzygFCxT"
      }
    },
    {
      "cell_type": "markdown",
      "source": [
        "## 1. View Descriptive Statistics of the Dataset"
      ],
      "metadata": {
        "id": "ui34NjxuFaQV"
      }
    },
    {
      "cell_type": "markdown",
      "source": [
        "In Pandas, the `DataFrame.describe()` method is used to generate descriptive statistics of a DataFrame, providing a summary of the central tendency, dispersion, and shape of a dataset's distribution for numerical columns.\n",
        "\n",
        "Here's what `DataFrame.describe()` typically returns for numerical columns:\n",
        "\n",
        "- **Count:** The number of non-null values.\n",
        "- **Mean:** The average of the values.\n",
        "- **Std:** The standard deviation, which measures the amount of variation or dispersion.\n",
        "- **Min:** The minimum value.\n",
        "- **25%:** The 25th percentile (first quartile).\n",
        "- **50%:** The 50th percentile (median or second quartile).\n",
        "- **75%:** The 75th percentile (third quartile).\n",
        "- **Max:** The maximum value.\n",
        "\n",
        "For categorical or object data types, you can use `DataFrame.describe(include=['object'])`, and it will return:\n",
        "\n",
        "- **Count:** The number of non-null entries.\n",
        "- **Unique:** The number of unique values.\n",
        "- **Top:** The most frequent value.\n",
        "- **Freq:** The frequency of the most frequent value.\n",
        "\n",
        "**Note 1**\n",
        "\n",
        "The `DataFrame.describe()` method is useful for getting a quick overview of your data and identifying patterns or outliers.\n",
        "\n",
        "**Note 2**\n",
        "\n",
        "The `include='all'` argument ensures that both numerical and categorical data are included in the summary."
      ],
      "metadata": {
        "id": "O1QPqOUKGLoo"
      }
    },
    {
      "cell_type": "code",
      "source": [
        "training_df.describe(include='all')"
      ],
      "metadata": {
        "colab": {
          "base_uri": "https://localhost:8080/",
          "height": 394
        },
        "id": "F_uScfkuHBhY",
        "outputId": "6f0741f9-7fab-42c5-e5ed-48106960c50d"
      },
      "execution_count": 6,
      "outputs": [
        {
          "output_type": "execute_result",
          "data": {
            "text/plain": [
              "          TRIP_MILES  TRIP_SECONDS          FARE    COMPANY PAYMENT_TYPE  \\\n",
              "count   31694.000000  31694.000000  31694.000000      31694        31694   \n",
              "unique           NaN           NaN           NaN         31            7   \n",
              "top              NaN           NaN           NaN  Flash Cab  Credit Card   \n",
              "freq             NaN           NaN           NaN       7887        14142   \n",
              "mean        8.289463   1319.796397     23.905210        NaN          NaN   \n",
              "std         7.265672    928.932873     16.970022        NaN          NaN   \n",
              "min         0.500000     60.000000      3.250000        NaN          NaN   \n",
              "25%         1.720000    548.000000      9.000000        NaN          NaN   \n",
              "50%         5.920000   1081.000000     18.750000        NaN          NaN   \n",
              "75%        14.500000   1888.000000     38.750000        NaN          NaN   \n",
              "max        68.120000   7140.000000    159.250000        NaN          NaN   \n",
              "\n",
              "            TIP_RATE  \n",
              "count   31694.000000  \n",
              "unique           NaN  \n",
              "top              NaN  \n",
              "freq             NaN  \n",
              "mean       12.965785  \n",
              "std        15.517765  \n",
              "min         0.000000  \n",
              "25%         0.000000  \n",
              "50%        12.200000  \n",
              "75%        20.800000  \n",
              "max       648.600000  "
            ],
            "text/html": [
              "\n",
              "  <div id=\"df-2d28b735-42cd-43df-aa97-e98f133857ee\" class=\"colab-df-container\">\n",
              "    <div>\n",
              "<style scoped>\n",
              "    .dataframe tbody tr th:only-of-type {\n",
              "        vertical-align: middle;\n",
              "    }\n",
              "\n",
              "    .dataframe tbody tr th {\n",
              "        vertical-align: top;\n",
              "    }\n",
              "\n",
              "    .dataframe thead th {\n",
              "        text-align: right;\n",
              "    }\n",
              "</style>\n",
              "<table border=\"1\" class=\"dataframe\">\n",
              "  <thead>\n",
              "    <tr style=\"text-align: right;\">\n",
              "      <th></th>\n",
              "      <th>TRIP_MILES</th>\n",
              "      <th>TRIP_SECONDS</th>\n",
              "      <th>FARE</th>\n",
              "      <th>COMPANY</th>\n",
              "      <th>PAYMENT_TYPE</th>\n",
              "      <th>TIP_RATE</th>\n",
              "    </tr>\n",
              "  </thead>\n",
              "  <tbody>\n",
              "    <tr>\n",
              "      <th>count</th>\n",
              "      <td>31694.000000</td>\n",
              "      <td>31694.000000</td>\n",
              "      <td>31694.000000</td>\n",
              "      <td>31694</td>\n",
              "      <td>31694</td>\n",
              "      <td>31694.000000</td>\n",
              "    </tr>\n",
              "    <tr>\n",
              "      <th>unique</th>\n",
              "      <td>NaN</td>\n",
              "      <td>NaN</td>\n",
              "      <td>NaN</td>\n",
              "      <td>31</td>\n",
              "      <td>7</td>\n",
              "      <td>NaN</td>\n",
              "    </tr>\n",
              "    <tr>\n",
              "      <th>top</th>\n",
              "      <td>NaN</td>\n",
              "      <td>NaN</td>\n",
              "      <td>NaN</td>\n",
              "      <td>Flash Cab</td>\n",
              "      <td>Credit Card</td>\n",
              "      <td>NaN</td>\n",
              "    </tr>\n",
              "    <tr>\n",
              "      <th>freq</th>\n",
              "      <td>NaN</td>\n",
              "      <td>NaN</td>\n",
              "      <td>NaN</td>\n",
              "      <td>7887</td>\n",
              "      <td>14142</td>\n",
              "      <td>NaN</td>\n",
              "    </tr>\n",
              "    <tr>\n",
              "      <th>mean</th>\n",
              "      <td>8.289463</td>\n",
              "      <td>1319.796397</td>\n",
              "      <td>23.905210</td>\n",
              "      <td>NaN</td>\n",
              "      <td>NaN</td>\n",
              "      <td>12.965785</td>\n",
              "    </tr>\n",
              "    <tr>\n",
              "      <th>std</th>\n",
              "      <td>7.265672</td>\n",
              "      <td>928.932873</td>\n",
              "      <td>16.970022</td>\n",
              "      <td>NaN</td>\n",
              "      <td>NaN</td>\n",
              "      <td>15.517765</td>\n",
              "    </tr>\n",
              "    <tr>\n",
              "      <th>min</th>\n",
              "      <td>0.500000</td>\n",
              "      <td>60.000000</td>\n",
              "      <td>3.250000</td>\n",
              "      <td>NaN</td>\n",
              "      <td>NaN</td>\n",
              "      <td>0.000000</td>\n",
              "    </tr>\n",
              "    <tr>\n",
              "      <th>25%</th>\n",
              "      <td>1.720000</td>\n",
              "      <td>548.000000</td>\n",
              "      <td>9.000000</td>\n",
              "      <td>NaN</td>\n",
              "      <td>NaN</td>\n",
              "      <td>0.000000</td>\n",
              "    </tr>\n",
              "    <tr>\n",
              "      <th>50%</th>\n",
              "      <td>5.920000</td>\n",
              "      <td>1081.000000</td>\n",
              "      <td>18.750000</td>\n",
              "      <td>NaN</td>\n",
              "      <td>NaN</td>\n",
              "      <td>12.200000</td>\n",
              "    </tr>\n",
              "    <tr>\n",
              "      <th>75%</th>\n",
              "      <td>14.500000</td>\n",
              "      <td>1888.000000</td>\n",
              "      <td>38.750000</td>\n",
              "      <td>NaN</td>\n",
              "      <td>NaN</td>\n",
              "      <td>20.800000</td>\n",
              "    </tr>\n",
              "    <tr>\n",
              "      <th>max</th>\n",
              "      <td>68.120000</td>\n",
              "      <td>7140.000000</td>\n",
              "      <td>159.250000</td>\n",
              "      <td>NaN</td>\n",
              "      <td>NaN</td>\n",
              "      <td>648.600000</td>\n",
              "    </tr>\n",
              "  </tbody>\n",
              "</table>\n",
              "</div>\n",
              "    <div class=\"colab-df-buttons\">\n",
              "\n",
              "  <div class=\"colab-df-container\">\n",
              "    <button class=\"colab-df-convert\" onclick=\"convertToInteractive('df-2d28b735-42cd-43df-aa97-e98f133857ee')\"\n",
              "            title=\"Convert this dataframe to an interactive table.\"\n",
              "            style=\"display:none;\">\n",
              "\n",
              "  <svg xmlns=\"http://www.w3.org/2000/svg\" height=\"24px\" viewBox=\"0 -960 960 960\">\n",
              "    <path d=\"M120-120v-720h720v720H120Zm60-500h600v-160H180v160Zm220 220h160v-160H400v160Zm0 220h160v-160H400v160ZM180-400h160v-160H180v160Zm440 0h160v-160H620v160ZM180-180h160v-160H180v160Zm440 0h160v-160H620v160Z\"/>\n",
              "  </svg>\n",
              "    </button>\n",
              "\n",
              "  <style>\n",
              "    .colab-df-container {\n",
              "      display:flex;\n",
              "      gap: 12px;\n",
              "    }\n",
              "\n",
              "    .colab-df-convert {\n",
              "      background-color: #E8F0FE;\n",
              "      border: none;\n",
              "      border-radius: 50%;\n",
              "      cursor: pointer;\n",
              "      display: none;\n",
              "      fill: #1967D2;\n",
              "      height: 32px;\n",
              "      padding: 0 0 0 0;\n",
              "      width: 32px;\n",
              "    }\n",
              "\n",
              "    .colab-df-convert:hover {\n",
              "      background-color: #E2EBFA;\n",
              "      box-shadow: 0px 1px 2px rgba(60, 64, 67, 0.3), 0px 1px 3px 1px rgba(60, 64, 67, 0.15);\n",
              "      fill: #174EA6;\n",
              "    }\n",
              "\n",
              "    .colab-df-buttons div {\n",
              "      margin-bottom: 4px;\n",
              "    }\n",
              "\n",
              "    [theme=dark] .colab-df-convert {\n",
              "      background-color: #3B4455;\n",
              "      fill: #D2E3FC;\n",
              "    }\n",
              "\n",
              "    [theme=dark] .colab-df-convert:hover {\n",
              "      background-color: #434B5C;\n",
              "      box-shadow: 0px 1px 3px 1px rgba(0, 0, 0, 0.15);\n",
              "      filter: drop-shadow(0px 1px 2px rgba(0, 0, 0, 0.3));\n",
              "      fill: #FFFFFF;\n",
              "    }\n",
              "  </style>\n",
              "\n",
              "    <script>\n",
              "      const buttonEl =\n",
              "        document.querySelector('#df-2d28b735-42cd-43df-aa97-e98f133857ee button.colab-df-convert');\n",
              "      buttonEl.style.display =\n",
              "        google.colab.kernel.accessAllowed ? 'block' : 'none';\n",
              "\n",
              "      async function convertToInteractive(key) {\n",
              "        const element = document.querySelector('#df-2d28b735-42cd-43df-aa97-e98f133857ee');\n",
              "        const dataTable =\n",
              "          await google.colab.kernel.invokeFunction('convertToInteractive',\n",
              "                                                    [key], {});\n",
              "        if (!dataTable) return;\n",
              "\n",
              "        const docLinkHtml = 'Like what you see? Visit the ' +\n",
              "          '<a target=\"_blank\" href=https://colab.research.google.com/notebooks/data_table.ipynb>data table notebook</a>'\n",
              "          + ' to learn more about interactive tables.';\n",
              "        element.innerHTML = '';\n",
              "        dataTable['output_type'] = 'display_data';\n",
              "        await google.colab.output.renderOutput(dataTable, element);\n",
              "        const docLink = document.createElement('div');\n",
              "        docLink.innerHTML = docLinkHtml;\n",
              "        element.appendChild(docLink);\n",
              "      }\n",
              "    </script>\n",
              "  </div>\n",
              "\n",
              "\n",
              "<div id=\"df-696c67f4-f280-41d6-9147-36c66ee9d244\">\n",
              "  <button class=\"colab-df-quickchart\" onclick=\"quickchart('df-696c67f4-f280-41d6-9147-36c66ee9d244')\"\n",
              "            title=\"Suggest charts\"\n",
              "            style=\"display:none;\">\n",
              "\n",
              "<svg xmlns=\"http://www.w3.org/2000/svg\" height=\"24px\"viewBox=\"0 0 24 24\"\n",
              "     width=\"24px\">\n",
              "    <g>\n",
              "        <path d=\"M19 3H5c-1.1 0-2 .9-2 2v14c0 1.1.9 2 2 2h14c1.1 0 2-.9 2-2V5c0-1.1-.9-2-2-2zM9 17H7v-7h2v7zm4 0h-2V7h2v10zm4 0h-2v-4h2v4z\"/>\n",
              "    </g>\n",
              "</svg>\n",
              "  </button>\n",
              "\n",
              "<style>\n",
              "  .colab-df-quickchart {\n",
              "      --bg-color: #E8F0FE;\n",
              "      --fill-color: #1967D2;\n",
              "      --hover-bg-color: #E2EBFA;\n",
              "      --hover-fill-color: #174EA6;\n",
              "      --disabled-fill-color: #AAA;\n",
              "      --disabled-bg-color: #DDD;\n",
              "  }\n",
              "\n",
              "  [theme=dark] .colab-df-quickchart {\n",
              "      --bg-color: #3B4455;\n",
              "      --fill-color: #D2E3FC;\n",
              "      --hover-bg-color: #434B5C;\n",
              "      --hover-fill-color: #FFFFFF;\n",
              "      --disabled-bg-color: #3B4455;\n",
              "      --disabled-fill-color: #666;\n",
              "  }\n",
              "\n",
              "  .colab-df-quickchart {\n",
              "    background-color: var(--bg-color);\n",
              "    border: none;\n",
              "    border-radius: 50%;\n",
              "    cursor: pointer;\n",
              "    display: none;\n",
              "    fill: var(--fill-color);\n",
              "    height: 32px;\n",
              "    padding: 0;\n",
              "    width: 32px;\n",
              "  }\n",
              "\n",
              "  .colab-df-quickchart:hover {\n",
              "    background-color: var(--hover-bg-color);\n",
              "    box-shadow: 0 1px 2px rgba(60, 64, 67, 0.3), 0 1px 3px 1px rgba(60, 64, 67, 0.15);\n",
              "    fill: var(--button-hover-fill-color);\n",
              "  }\n",
              "\n",
              "  .colab-df-quickchart-complete:disabled,\n",
              "  .colab-df-quickchart-complete:disabled:hover {\n",
              "    background-color: var(--disabled-bg-color);\n",
              "    fill: var(--disabled-fill-color);\n",
              "    box-shadow: none;\n",
              "  }\n",
              "\n",
              "  .colab-df-spinner {\n",
              "    border: 2px solid var(--fill-color);\n",
              "    border-color: transparent;\n",
              "    border-bottom-color: var(--fill-color);\n",
              "    animation:\n",
              "      spin 1s steps(1) infinite;\n",
              "  }\n",
              "\n",
              "  @keyframes spin {\n",
              "    0% {\n",
              "      border-color: transparent;\n",
              "      border-bottom-color: var(--fill-color);\n",
              "      border-left-color: var(--fill-color);\n",
              "    }\n",
              "    20% {\n",
              "      border-color: transparent;\n",
              "      border-left-color: var(--fill-color);\n",
              "      border-top-color: var(--fill-color);\n",
              "    }\n",
              "    30% {\n",
              "      border-color: transparent;\n",
              "      border-left-color: var(--fill-color);\n",
              "      border-top-color: var(--fill-color);\n",
              "      border-right-color: var(--fill-color);\n",
              "    }\n",
              "    40% {\n",
              "      border-color: transparent;\n",
              "      border-right-color: var(--fill-color);\n",
              "      border-top-color: var(--fill-color);\n",
              "    }\n",
              "    60% {\n",
              "      border-color: transparent;\n",
              "      border-right-color: var(--fill-color);\n",
              "    }\n",
              "    80% {\n",
              "      border-color: transparent;\n",
              "      border-right-color: var(--fill-color);\n",
              "      border-bottom-color: var(--fill-color);\n",
              "    }\n",
              "    90% {\n",
              "      border-color: transparent;\n",
              "      border-bottom-color: var(--fill-color);\n",
              "    }\n",
              "  }\n",
              "</style>\n",
              "\n",
              "  <script>\n",
              "    async function quickchart(key) {\n",
              "      const quickchartButtonEl =\n",
              "        document.querySelector('#' + key + ' button');\n",
              "      quickchartButtonEl.disabled = true;  // To prevent multiple clicks.\n",
              "      quickchartButtonEl.classList.add('colab-df-spinner');\n",
              "      try {\n",
              "        const charts = await google.colab.kernel.invokeFunction(\n",
              "            'suggestCharts', [key], {});\n",
              "      } catch (error) {\n",
              "        console.error('Error during call to suggestCharts:', error);\n",
              "      }\n",
              "      quickchartButtonEl.classList.remove('colab-df-spinner');\n",
              "      quickchartButtonEl.classList.add('colab-df-quickchart-complete');\n",
              "    }\n",
              "    (() => {\n",
              "      let quickchartButtonEl =\n",
              "        document.querySelector('#df-696c67f4-f280-41d6-9147-36c66ee9d244 button');\n",
              "      quickchartButtonEl.style.display =\n",
              "        google.colab.kernel.accessAllowed ? 'block' : 'none';\n",
              "    })();\n",
              "  </script>\n",
              "</div>\n",
              "\n",
              "    </div>\n",
              "  </div>\n"
            ],
            "application/vnd.google.colaboratory.intrinsic+json": {
              "type": "dataframe",
              "summary": "{\n  \"name\": \"training_df\",\n  \"rows\": 11,\n  \"fields\": [\n    {\n      \"column\": \"TRIP_MILES\",\n      \"properties\": {\n        \"dtype\": \"number\",\n        \"std\": 11200.173091853763,\n        \"min\": 0.5,\n        \"max\": 31694.0,\n        \"num_unique_values\": 8,\n        \"samples\": [\n          8.289462674323214,\n          5.92,\n          31694.0\n        ],\n        \"semantic_type\": \"\",\n        \"description\": \"\"\n      }\n    },\n    {\n      \"column\": \"TRIP_SECONDS\",\n      \"properties\": {\n        \"dtype\": \"number\",\n        \"std\": 10782.390382388372,\n        \"min\": 60.0,\n        \"max\": 31694.0,\n        \"num_unique_values\": 8,\n        \"samples\": [\n          1319.796396794346,\n          1081.0,\n          31694.0\n        ],\n        \"semantic_type\": \"\",\n        \"description\": \"\"\n      }\n    },\n    {\n      \"column\": \"FARE\",\n      \"properties\": {\n        \"dtype\": \"number\",\n        \"std\": 11192.00375085826,\n        \"min\": 3.25,\n        \"max\": 31694.0,\n        \"num_unique_values\": 8,\n        \"samples\": [\n          23.905209818893166,\n          18.75,\n          31694.0\n        ],\n        \"semantic_type\": \"\",\n        \"description\": \"\"\n      }\n    },\n    {\n      \"column\": \"COMPANY\",\n      \"properties\": {\n        \"dtype\": \"category\",\n        \"num_unique_values\": 4,\n        \"samples\": [\n          31,\n          \"7887\",\n          \"31694\"\n        ],\n        \"semantic_type\": \"\",\n        \"description\": \"\"\n      }\n    },\n    {\n      \"column\": \"PAYMENT_TYPE\",\n      \"properties\": {\n        \"dtype\": \"category\",\n        \"num_unique_values\": 4,\n        \"samples\": [\n          7,\n          \"14142\",\n          \"31694\"\n        ],\n        \"semantic_type\": \"\",\n        \"description\": \"\"\n      }\n    },\n    {\n      \"column\": \"TIP_RATE\",\n      \"properties\": {\n        \"dtype\": \"number\",\n        \"std\": 11171.892214139558,\n        \"min\": 0.0,\n        \"max\": 31694.0,\n        \"num_unique_values\": 7,\n        \"samples\": [\n          31694.0,\n          12.965785322142994,\n          20.8\n        ],\n        \"semantic_type\": \"\",\n        \"description\": \"\"\n      }\n    }\n  ]\n}"
            }
          },
          "metadata": {},
          "execution_count": 6
        }
      ]
    },
    {
      "cell_type": "markdown",
      "source": [
        "**Note**\n",
        "\n",
        "You might be wondering why there are groups of `NaN` (not a number) values listed in the output. When working with data in Python, you may see this value if the result of a calculation can not be computed or if there is missing information. For example, in the taxi dataset `PAYMENT_TYPE` and `COMPANY` are non-numeric, categorical features; numeric information such as mean and max do not make sense for categorical features so the output displays `NaN`."
      ],
      "metadata": {
        "id": "l0zm9mc2HcZt"
      }
    },
    {
      "cell_type": "markdown",
      "source": [
        "## 2. Dataset Analysis"
      ],
      "metadata": {
        "id": "tmT4LQvBugNB"
      }
    },
    {
      "cell_type": "markdown",
      "source": [
        "Now we are going to analyze the subset of the Chicago Taxi Trips dataset using `pandas`. We'll answer specific questions about the dataset, such as the maximum fare, the mean trip distance, the number of cab companies, the most frequent payment type, and whether any features have missing data."
      ],
      "metadata": {
        "id": "-_M8w3qhuusQ"
      }
    },
    {
      "cell_type": "markdown",
      "source": [
        "### Step 1: Finding the Maximum Fare"
      ],
      "metadata": {
        "id": "JFvSity8v4ix"
      }
    },
    {
      "cell_type": "markdown",
      "source": [
        "We use the `max()` function to find the maximum fare from the `FARE` column. This gives us the highest fare recorded in the dataset."
      ],
      "metadata": {
        "id": "-tsxkBKXwV--"
      }
    },
    {
      "cell_type": "code",
      "source": [
        "max_fare = training_df['FARE'].max()\n",
        "print(f\"Maximum Fare: ${max_fare:.2f}\")"
      ],
      "metadata": {
        "colab": {
          "base_uri": "https://localhost:8080/"
        },
        "id": "PCcWw1krwGfh",
        "outputId": "c4021ff7-1154-4c66-fac5-59a452c38dc3"
      },
      "execution_count": 7,
      "outputs": [
        {
          "output_type": "stream",
          "name": "stdout",
          "text": [
            "Maximum Fare: $159.25\n"
          ]
        }
      ]
    },
    {
      "cell_type": "markdown",
      "source": [
        "### Step 2: Calculating the Mean Distance Across All Trips"
      ],
      "metadata": {
        "id": "NBKGsVFcwuNR"
      }
    },
    {
      "cell_type": "markdown",
      "source": [
        "The `mean()` function computes the average of all values in the `TRIP_MILES` column. This gives us the mean trip distance across all taxi rides in the dataset."
      ],
      "metadata": {
        "id": "5-jfKGDjw2jX"
      }
    },
    {
      "cell_type": "code",
      "source": [
        "mean_distance = training_df['TRIP_MILES'].mean()\n",
        "print(f\"Mean Distance: {mean_distance:.2f} miles\")"
      ],
      "metadata": {
        "colab": {
          "base_uri": "https://localhost:8080/"
        },
        "id": "zL-ljh-2w8Qr",
        "outputId": "29a2b688-f5ae-437c-e5ea-93ebda6e0e71"
      },
      "execution_count": 8,
      "outputs": [
        {
          "output_type": "stream",
          "name": "stdout",
          "text": [
            "Mean Distance: 8.29 miles\n"
          ]
        }
      ]
    },
    {
      "cell_type": "markdown",
      "source": [
        "### Step 3: Counting the Number of Cab Companies"
      ],
      "metadata": {
        "id": "QiyL_ayIxFNX"
      }
    },
    {
      "cell_type": "markdown",
      "source": [
        "Here, we use the `nunique()` function on the `COMPANY` column to determine the number of unique cab companies in the dataset."
      ],
      "metadata": {
        "id": "VvKyKyi0xR2D"
      }
    },
    {
      "cell_type": "code",
      "source": [
        "num_unique_companies =  training_df['COMPANY'].nunique()\n",
        "print(f\"Number of Cab Companies: {num_unique_companies}\")"
      ],
      "metadata": {
        "colab": {
          "base_uri": "https://localhost:8080/"
        },
        "id": "nmaD2KQexIHs",
        "outputId": "a7564406-5de9-46da-8d97-f08a6b1000cb"
      },
      "execution_count": 9,
      "outputs": [
        {
          "output_type": "stream",
          "name": "stdout",
          "text": [
            "Number of Cab Companies: 31\n"
          ]
        }
      ]
    },
    {
      "cell_type": "markdown",
      "source": [
        "### Step 4: Identifying the Most Frequent Payment Type"
      ],
      "metadata": {
        "id": "qwOcPS8kxY3j"
      }
    },
    {
      "cell_type": "markdown",
      "source": [
        "The `value_counts()` function counts the occurrences of each payment type in the `PAYMENT_TYPE` column, and `idxmax()` returns the most frequent one. This helps us identify the most commonly used payment method for taxi rides."
      ],
      "metadata": {
        "id": "yHgD8HDlxooP"
      }
    },
    {
      "cell_type": "code",
      "source": [
        "most_freq_payment_type = training_df['PAYMENT_TYPE'].value_counts().idxmax()\n",
        "print(f\"Most Frequent Payment Type: {most_freq_payment_type}\")"
      ],
      "metadata": {
        "colab": {
          "base_uri": "https://localhost:8080/"
        },
        "id": "IDHxl_JBxvlf",
        "outputId": "6d361311-f943-4e0f-feff-8d38a8a55308"
      },
      "execution_count": 10,
      "outputs": [
        {
          "output_type": "stream",
          "name": "stdout",
          "text": [
            "Most Frequent Payment Type: Credit Card\n"
          ]
        }
      ]
    },
    {
      "cell_type": "markdown",
      "source": [
        "### Step 5: Checking for Missing Data"
      ],
      "metadata": {
        "id": "WcpzYkeqx1-W"
      }
    },
    {
      "cell_type": "markdown",
      "source": [
        "We use the `isnull().sum().sum()` chain to check for missing values. First `isnull()` returns a DataFrame of boolean values indicating where data is missing. `sum()` counts the number of missing values per column, and another `sum()` aggregates this count across all columns. If the result is 0, there are no missing values; otherwise, there are missing entries in the dataset."
      ],
      "metadata": {
        "id": "ZNjruf56yem7"
      }
    },
    {
      "cell_type": "code",
      "source": [
        "n_missing_values = training_df.isnull().sum().sum()\n",
        "print(f\"Number of Missing Values: {n_missing_values}\")\n",
        "is_missing = \"Yes\" if n_missing_values > 0 else \"No\"\n",
        "print(f\"Are any features missing data?\\t{is_missing}\")"
      ],
      "metadata": {
        "colab": {
          "base_uri": "https://localhost:8080/"
        },
        "id": "4-PQE-zzy9Lc",
        "outputId": "a6e6eef2-04f5-4cc5-d320-68aff8391436"
      },
      "execution_count": 13,
      "outputs": [
        {
          "output_type": "stream",
          "name": "stdout",
          "text": [
            "Number of Missing Values: 0\n",
            "Are any features missing data?\tNo\n"
          ]
        }
      ]
    },
    {
      "cell_type": "markdown",
      "source": [
        "## 3. Generate Correlation Matrix"
      ],
      "metadata": {
        "id": "VEobPsyr1PK5"
      }
    },
    {
      "cell_type": "markdown",
      "source": [
        "In this section, we'll generate and analyze a correlation matrix to understand which features in the dataset are most closely related to our target variable, `FARE`. Correlation measures the strength of the linear relationship between two variables, with values ranging from -1 to 1. A value closer to 1 or -1 indicates a strong relationship, while values near 0 indicate a weak or no relationship."
      ],
      "metadata": {
        "id": "O8T-Yq-88DK2"
      }
    },
    {
      "cell_type": "markdown",
      "source": [
        "Correlation values have the following meanings:\n",
        "\n",
        "- **1.0:** Perfect **positive correlation** — when one attribute increases, the other attribute also increases.\n",
        "\n",
        "- **-1.0:** Perfect **negative correlation** — when one attribute increases, the other attribute decreases.\n",
        "\n",
        "- **0.0:** **No correlation** — the two attributes are not linearly related.\n",
        "\n",
        "In general, the **higher the absolute value** of a correlation, the **greater its predictive power**."
      ],
      "metadata": {
        "id": "-GmDEAIr-MJE"
      }
    },
    {
      "cell_type": "markdown",
      "source": [
        "### Step 1: View the Correlation Matrix"
      ],
      "metadata": {
        "id": "kLeG2uEg8J9T"
      }
    },
    {
      "cell_type": "markdown",
      "source": [
        "The `corr()` function is used to compute the pairwise correlation of the features in the dataset. We pass `numeric_only=True` to limit the correlation calculation to numeric columns. This matrix shows how strongly each feature is related to one another and to the target label, `FARE`."
      ],
      "metadata": {
        "id": "gJq1YsZ48ka4"
      }
    },
    {
      "cell_type": "code",
      "source": [
        "training_df.corr(numeric_only=True)"
      ],
      "metadata": {
        "colab": {
          "base_uri": "https://localhost:8080/",
          "height": 175
        },
        "id": "_qSC9c-j8cMt",
        "outputId": "1e0746b6-86f4-40ae-ecb3-9211fd7c5094"
      },
      "execution_count": 14,
      "outputs": [
        {
          "output_type": "execute_result",
          "data": {
            "text/plain": [
              "              TRIP_MILES  TRIP_SECONDS      FARE  TIP_RATE\n",
              "TRIP_MILES      1.000000      0.800855  0.975344 -0.049594\n",
              "TRIP_SECONDS    0.800855      1.000000  0.830292 -0.084294\n",
              "FARE            0.975344      0.830292  1.000000 -0.070979\n",
              "TIP_RATE       -0.049594     -0.084294 -0.070979  1.000000"
            ],
            "text/html": [
              "\n",
              "  <div id=\"df-7413a0ad-4040-4a3c-9438-01b9de0aa865\" class=\"colab-df-container\">\n",
              "    <div>\n",
              "<style scoped>\n",
              "    .dataframe tbody tr th:only-of-type {\n",
              "        vertical-align: middle;\n",
              "    }\n",
              "\n",
              "    .dataframe tbody tr th {\n",
              "        vertical-align: top;\n",
              "    }\n",
              "\n",
              "    .dataframe thead th {\n",
              "        text-align: right;\n",
              "    }\n",
              "</style>\n",
              "<table border=\"1\" class=\"dataframe\">\n",
              "  <thead>\n",
              "    <tr style=\"text-align: right;\">\n",
              "      <th></th>\n",
              "      <th>TRIP_MILES</th>\n",
              "      <th>TRIP_SECONDS</th>\n",
              "      <th>FARE</th>\n",
              "      <th>TIP_RATE</th>\n",
              "    </tr>\n",
              "  </thead>\n",
              "  <tbody>\n",
              "    <tr>\n",
              "      <th>TRIP_MILES</th>\n",
              "      <td>1.000000</td>\n",
              "      <td>0.800855</td>\n",
              "      <td>0.975344</td>\n",
              "      <td>-0.049594</td>\n",
              "    </tr>\n",
              "    <tr>\n",
              "      <th>TRIP_SECONDS</th>\n",
              "      <td>0.800855</td>\n",
              "      <td>1.000000</td>\n",
              "      <td>0.830292</td>\n",
              "      <td>-0.084294</td>\n",
              "    </tr>\n",
              "    <tr>\n",
              "      <th>FARE</th>\n",
              "      <td>0.975344</td>\n",
              "      <td>0.830292</td>\n",
              "      <td>1.000000</td>\n",
              "      <td>-0.070979</td>\n",
              "    </tr>\n",
              "    <tr>\n",
              "      <th>TIP_RATE</th>\n",
              "      <td>-0.049594</td>\n",
              "      <td>-0.084294</td>\n",
              "      <td>-0.070979</td>\n",
              "      <td>1.000000</td>\n",
              "    </tr>\n",
              "  </tbody>\n",
              "</table>\n",
              "</div>\n",
              "    <div class=\"colab-df-buttons\">\n",
              "\n",
              "  <div class=\"colab-df-container\">\n",
              "    <button class=\"colab-df-convert\" onclick=\"convertToInteractive('df-7413a0ad-4040-4a3c-9438-01b9de0aa865')\"\n",
              "            title=\"Convert this dataframe to an interactive table.\"\n",
              "            style=\"display:none;\">\n",
              "\n",
              "  <svg xmlns=\"http://www.w3.org/2000/svg\" height=\"24px\" viewBox=\"0 -960 960 960\">\n",
              "    <path d=\"M120-120v-720h720v720H120Zm60-500h600v-160H180v160Zm220 220h160v-160H400v160Zm0 220h160v-160H400v160ZM180-400h160v-160H180v160Zm440 0h160v-160H620v160ZM180-180h160v-160H180v160Zm440 0h160v-160H620v160Z\"/>\n",
              "  </svg>\n",
              "    </button>\n",
              "\n",
              "  <style>\n",
              "    .colab-df-container {\n",
              "      display:flex;\n",
              "      gap: 12px;\n",
              "    }\n",
              "\n",
              "    .colab-df-convert {\n",
              "      background-color: #E8F0FE;\n",
              "      border: none;\n",
              "      border-radius: 50%;\n",
              "      cursor: pointer;\n",
              "      display: none;\n",
              "      fill: #1967D2;\n",
              "      height: 32px;\n",
              "      padding: 0 0 0 0;\n",
              "      width: 32px;\n",
              "    }\n",
              "\n",
              "    .colab-df-convert:hover {\n",
              "      background-color: #E2EBFA;\n",
              "      box-shadow: 0px 1px 2px rgba(60, 64, 67, 0.3), 0px 1px 3px 1px rgba(60, 64, 67, 0.15);\n",
              "      fill: #174EA6;\n",
              "    }\n",
              "\n",
              "    .colab-df-buttons div {\n",
              "      margin-bottom: 4px;\n",
              "    }\n",
              "\n",
              "    [theme=dark] .colab-df-convert {\n",
              "      background-color: #3B4455;\n",
              "      fill: #D2E3FC;\n",
              "    }\n",
              "\n",
              "    [theme=dark] .colab-df-convert:hover {\n",
              "      background-color: #434B5C;\n",
              "      box-shadow: 0px 1px 3px 1px rgba(0, 0, 0, 0.15);\n",
              "      filter: drop-shadow(0px 1px 2px rgba(0, 0, 0, 0.3));\n",
              "      fill: #FFFFFF;\n",
              "    }\n",
              "  </style>\n",
              "\n",
              "    <script>\n",
              "      const buttonEl =\n",
              "        document.querySelector('#df-7413a0ad-4040-4a3c-9438-01b9de0aa865 button.colab-df-convert');\n",
              "      buttonEl.style.display =\n",
              "        google.colab.kernel.accessAllowed ? 'block' : 'none';\n",
              "\n",
              "      async function convertToInteractive(key) {\n",
              "        const element = document.querySelector('#df-7413a0ad-4040-4a3c-9438-01b9de0aa865');\n",
              "        const dataTable =\n",
              "          await google.colab.kernel.invokeFunction('convertToInteractive',\n",
              "                                                    [key], {});\n",
              "        if (!dataTable) return;\n",
              "\n",
              "        const docLinkHtml = 'Like what you see? Visit the ' +\n",
              "          '<a target=\"_blank\" href=https://colab.research.google.com/notebooks/data_table.ipynb>data table notebook</a>'\n",
              "          + ' to learn more about interactive tables.';\n",
              "        element.innerHTML = '';\n",
              "        dataTable['output_type'] = 'display_data';\n",
              "        await google.colab.output.renderOutput(dataTable, element);\n",
              "        const docLink = document.createElement('div');\n",
              "        docLink.innerHTML = docLinkHtml;\n",
              "        element.appendChild(docLink);\n",
              "      }\n",
              "    </script>\n",
              "  </div>\n",
              "\n",
              "\n",
              "<div id=\"df-6506514c-59ca-4258-8b8d-b728303ea606\">\n",
              "  <button class=\"colab-df-quickchart\" onclick=\"quickchart('df-6506514c-59ca-4258-8b8d-b728303ea606')\"\n",
              "            title=\"Suggest charts\"\n",
              "            style=\"display:none;\">\n",
              "\n",
              "<svg xmlns=\"http://www.w3.org/2000/svg\" height=\"24px\"viewBox=\"0 0 24 24\"\n",
              "     width=\"24px\">\n",
              "    <g>\n",
              "        <path d=\"M19 3H5c-1.1 0-2 .9-2 2v14c0 1.1.9 2 2 2h14c1.1 0 2-.9 2-2V5c0-1.1-.9-2-2-2zM9 17H7v-7h2v7zm4 0h-2V7h2v10zm4 0h-2v-4h2v4z\"/>\n",
              "    </g>\n",
              "</svg>\n",
              "  </button>\n",
              "\n",
              "<style>\n",
              "  .colab-df-quickchart {\n",
              "      --bg-color: #E8F0FE;\n",
              "      --fill-color: #1967D2;\n",
              "      --hover-bg-color: #E2EBFA;\n",
              "      --hover-fill-color: #174EA6;\n",
              "      --disabled-fill-color: #AAA;\n",
              "      --disabled-bg-color: #DDD;\n",
              "  }\n",
              "\n",
              "  [theme=dark] .colab-df-quickchart {\n",
              "      --bg-color: #3B4455;\n",
              "      --fill-color: #D2E3FC;\n",
              "      --hover-bg-color: #434B5C;\n",
              "      --hover-fill-color: #FFFFFF;\n",
              "      --disabled-bg-color: #3B4455;\n",
              "      --disabled-fill-color: #666;\n",
              "  }\n",
              "\n",
              "  .colab-df-quickchart {\n",
              "    background-color: var(--bg-color);\n",
              "    border: none;\n",
              "    border-radius: 50%;\n",
              "    cursor: pointer;\n",
              "    display: none;\n",
              "    fill: var(--fill-color);\n",
              "    height: 32px;\n",
              "    padding: 0;\n",
              "    width: 32px;\n",
              "  }\n",
              "\n",
              "  .colab-df-quickchart:hover {\n",
              "    background-color: var(--hover-bg-color);\n",
              "    box-shadow: 0 1px 2px rgba(60, 64, 67, 0.3), 0 1px 3px 1px rgba(60, 64, 67, 0.15);\n",
              "    fill: var(--button-hover-fill-color);\n",
              "  }\n",
              "\n",
              "  .colab-df-quickchart-complete:disabled,\n",
              "  .colab-df-quickchart-complete:disabled:hover {\n",
              "    background-color: var(--disabled-bg-color);\n",
              "    fill: var(--disabled-fill-color);\n",
              "    box-shadow: none;\n",
              "  }\n",
              "\n",
              "  .colab-df-spinner {\n",
              "    border: 2px solid var(--fill-color);\n",
              "    border-color: transparent;\n",
              "    border-bottom-color: var(--fill-color);\n",
              "    animation:\n",
              "      spin 1s steps(1) infinite;\n",
              "  }\n",
              "\n",
              "  @keyframes spin {\n",
              "    0% {\n",
              "      border-color: transparent;\n",
              "      border-bottom-color: var(--fill-color);\n",
              "      border-left-color: var(--fill-color);\n",
              "    }\n",
              "    20% {\n",
              "      border-color: transparent;\n",
              "      border-left-color: var(--fill-color);\n",
              "      border-top-color: var(--fill-color);\n",
              "    }\n",
              "    30% {\n",
              "      border-color: transparent;\n",
              "      border-left-color: var(--fill-color);\n",
              "      border-top-color: var(--fill-color);\n",
              "      border-right-color: var(--fill-color);\n",
              "    }\n",
              "    40% {\n",
              "      border-color: transparent;\n",
              "      border-right-color: var(--fill-color);\n",
              "      border-top-color: var(--fill-color);\n",
              "    }\n",
              "    60% {\n",
              "      border-color: transparent;\n",
              "      border-right-color: var(--fill-color);\n",
              "    }\n",
              "    80% {\n",
              "      border-color: transparent;\n",
              "      border-right-color: var(--fill-color);\n",
              "      border-bottom-color: var(--fill-color);\n",
              "    }\n",
              "    90% {\n",
              "      border-color: transparent;\n",
              "      border-bottom-color: var(--fill-color);\n",
              "    }\n",
              "  }\n",
              "</style>\n",
              "\n",
              "  <script>\n",
              "    async function quickchart(key) {\n",
              "      const quickchartButtonEl =\n",
              "        document.querySelector('#' + key + ' button');\n",
              "      quickchartButtonEl.disabled = true;  // To prevent multiple clicks.\n",
              "      quickchartButtonEl.classList.add('colab-df-spinner');\n",
              "      try {\n",
              "        const charts = await google.colab.kernel.invokeFunction(\n",
              "            'suggestCharts', [key], {});\n",
              "      } catch (error) {\n",
              "        console.error('Error during call to suggestCharts:', error);\n",
              "      }\n",
              "      quickchartButtonEl.classList.remove('colab-df-spinner');\n",
              "      quickchartButtonEl.classList.add('colab-df-quickchart-complete');\n",
              "    }\n",
              "    (() => {\n",
              "      let quickchartButtonEl =\n",
              "        document.querySelector('#df-6506514c-59ca-4258-8b8d-b728303ea606 button');\n",
              "      quickchartButtonEl.style.display =\n",
              "        google.colab.kernel.accessAllowed ? 'block' : 'none';\n",
              "    })();\n",
              "  </script>\n",
              "</div>\n",
              "\n",
              "    </div>\n",
              "  </div>\n"
            ],
            "application/vnd.google.colaboratory.intrinsic+json": {
              "type": "dataframe",
              "summary": "{\n  \"name\": \"training_df\",\n  \"rows\": 4,\n  \"fields\": [\n    {\n      \"column\": \"TRIP_MILES\",\n      \"properties\": {\n        \"dtype\": \"number\",\n        \"std\": 0.49548981581872015,\n        \"min\": -0.049593721261970654,\n        \"max\": 1.0,\n        \"num_unique_values\": 4,\n        \"samples\": [\n          0.800855332439961,\n          -0.049593721261970654,\n          1.0\n        ],\n        \"semantic_type\": \"\",\n        \"description\": \"\"\n      }\n    },\n    {\n      \"column\": \"TRIP_SECONDS\",\n      \"properties\": {\n        \"dtype\": \"number\",\n        \"std\": 0.48861841006503237,\n        \"min\": -0.08429387257082786,\n        \"max\": 1.0,\n        \"num_unique_values\": 4,\n        \"samples\": [\n          1.0,\n          -0.08429387257082786,\n          0.800855332439961\n        ],\n        \"semantic_type\": \"\",\n        \"description\": \"\"\n      }\n    },\n    {\n      \"column\": \"FARE\",\n      \"properties\": {\n        \"dtype\": \"number\",\n        \"std\": 0.5086361016350425,\n        \"min\": -0.07097918108162268,\n        \"max\": 1.0,\n        \"num_unique_values\": 4,\n        \"samples\": [\n          0.8302919038136868,\n          -0.07097918108162268,\n          0.9753444995779911\n        ],\n        \"semantic_type\": \"\",\n        \"description\": \"\"\n      }\n    },\n    {\n      \"column\": \"TIP_RATE\",\n      \"properties\": {\n        \"dtype\": \"number\",\n        \"std\": 0.5343356706789801,\n        \"min\": -0.08429387257082786,\n        \"max\": 1.0,\n        \"num_unique_values\": 4,\n        \"samples\": [\n          -0.08429387257082786,\n          1.0,\n          -0.049593721261970654\n        ],\n        \"semantic_type\": \"\",\n        \"description\": \"\"\n      }\n    }\n  ]\n}"
            }
          },
          "metadata": {},
          "execution_count": 14
        }
      ]
    },
    {
      "cell_type": "markdown",
      "source": [
        "### Step 2: Identify the Feature with the Strongest Correlation to the Label `FARE`"
      ],
      "metadata": {
        "id": "oec5Prnk85ID"
      }
    },
    {
      "cell_type": "markdown",
      "source": [
        "From the correlation matrix, we can see that `TRIP_MILES` has the strongest positive correlation with `FARE`. This indicates that longer trips (in miles) tend to result in higher fares, which is expected. Additionally, `TRIP_SECONDS` (trip duration) also shows a strong correlation with the fare, meaning that both distance and time are important factors in predicting fare."
      ],
      "metadata": {
        "id": "prDzUrSe9SHg"
      }
    },
    {
      "cell_type": "markdown",
      "source": [
        "### Step 3: Identify the Feature with the Weakest Correlation to the Label `FARE`"
      ],
      "metadata": {
        "id": "SQSDwXEO9Ypm"
      }
    },
    {
      "cell_type": "markdown",
      "source": [
        "The feature with the weakest correlation to the label `FARE` is `TIP_RATE`. This suggests that the amount tipped does not strongly influence the base fare, which makes sense because tips are generally independent of the fare amount and are often influenced by other factors like service quality."
      ],
      "metadata": {
        "id": "0vq1iKH-9xEg"
      }
    },
    {
      "cell_type": "markdown",
      "source": [
        "## 4. Visualize Relationships in the Dataset"
      ],
      "metadata": {
        "id": "EkQwFiGvAZ_0"
      }
    },
    {
      "cell_type": "markdown",
      "source": [
        "To better understand the relationships between features in the dataset, we can visualize them using a pair plot. A pair plot generates a grid of pairwise plots to visualize the relationship of each feature with all other features all in one place.This helps us spot potential correlations or trends between variables, which might not be immediately obvious from numerical data alone."
      ],
      "metadata": {
        "id": "sNUgtvLVAg70"
      }
    },
    {
      "cell_type": "markdown",
      "source": [
        "In this case, we are plotting the following features: `FARE`, `TRIP_MILES`, and `TRIP_SECONDS`.\n",
        "\n",
        "Each pair plot shows a scatter plot of the relationship between two features, allowing us to observe how one feature changes as the other changes. Diagonal plots show the distribution of individual features, while off-diagonal plots show the relationships between different features."
      ],
      "metadata": {
        "id": "c-IlnSiXBKaD"
      }
    },
    {
      "cell_type": "code",
      "source": [
        "sns.pairplot(training_df, x_vars=[\"FARE\", \"TRIP_MILES\", \"TRIP_SECONDS\"], y_vars=[\"FARE\", \"TRIP_MILES\", \"TRIP_SECONDS\"])"
      ],
      "metadata": {
        "colab": {
          "base_uri": "https://localhost:8080/",
          "height": 775
        },
        "id": "a9_L9H_fAvEp",
        "outputId": "c8126c0a-0734-4055-acfd-62df04dc00fa"
      },
      "execution_count": 15,
      "outputs": [
        {
          "output_type": "execute_result",
          "data": {
            "text/plain": [
              "<seaborn.axisgrid.PairGrid at 0x7d7d97c83100>"
            ]
          },
          "metadata": {},
          "execution_count": 15
        },
        {
          "output_type": "display_data",
          "data": {
            "text/plain": [
              "<Figure size 750x750 with 12 Axes>"
            ],
            "image/png": "[encoded data removed]"
          },
          "metadata": {}
        }
      ]
    },
    {
      "cell_type": "markdown",
      "source": [
        "**Note**\n",
        "\n",
        "Using pair plots, we can quickly visualize any potential linear relationships, clusters, or outliers in the data, which will help guide our next steps in feature selection and model building."
      ],
      "metadata": {
        "id": "JIAVKu3lBV2R"
      }
    },
    {
      "cell_type": "markdown",
      "source": [
        "![rainbow](https://github.com/ancilcleetus/My-Learning-Journey/assets/25684256/839c3524-2a1d-4779-85a0-83c562e1e5e5)"
      ],
      "metadata": {
        "id": "e18_MWoaBjBv"
      }
    },
    {
      "cell_type": "markdown",
      "source": [
        "# 4. Part III: Train the Model"
      ],
      "metadata": {
        "id": "G-vSRjGhBjCE"
      }
    },
    {
      "cell_type": "markdown",
      "source": [
        "## 1. Define Plotting Functions"
      ],
      "metadata": {
        "id": "MZfGJROUEQnS"
      }
    },
    {
      "cell_type": "markdown",
      "source": [
        "In this subsection, we define custom plotting functions to help visualize the model's performance, the relationship between features, and how the model's predictions compare to the actual data."
      ],
      "metadata": {
        "id": "yvg4E-8KEp5B"
      }
    },
    {
      "cell_type": "markdown",
      "source": [
        "### Step 1: Define the `make_plots` Function"
      ],
      "metadata": {
        "id": "xktKWRb0E334"
      }
    },
    {
      "cell_type": "markdown",
      "source": [
        "The `make_plots` function generates a visual representation of the training process. It takes a sample from the data and plots both the model's predictions and the actual data. The function includes:\n",
        "\n",
        "- A **scatter plot or surface plot** for visualizing the relationship between features and the label.\n",
        "\n",
        "- A **loss curve** to show the model's error reduction over epochs."
      ],
      "metadata": {
        "id": "h_oC_5tPFtwP"
      }
    },
    {
      "cell_type": "code",
      "source": [
        "def make_plots(df, feature_names, label_name, model_output, sample_size=200):\n",
        "    random_sample = df.sample(n=sample_size).copy()\n",
        "    random_sample.reset_index()\n",
        "    weights, bias, epochs, rmse = model_output\n",
        "\n",
        "    is_2d_plot = len(feature_names) == 1\n",
        "    model_plot_type = \"scatter\" if is_2d_plot else \"surface\"\n",
        "    fig = make_subplots(rows=1, cols=2,\n",
        "                      subplot_titles=(\"Loss Curve\", \"Model Plot\"),\n",
        "                      specs=[[{\"type\": \"scatter\"}, {\"type\": model_plot_type}]])\n",
        "\n",
        "    plot_data(random_sample, feature_names, label_name, fig)\n",
        "    plot_model(random_sample, feature_names, weights, bias, fig)\n",
        "    plot_loss_curve(epochs, rmse, fig)\n",
        "\n",
        "    fig.show()\n",
        "\n",
        "    return"
      ],
      "metadata": {
        "id": "-nroBAVQFJas"
      },
      "execution_count": 17,
      "outputs": []
    },
    {
      "cell_type": "markdown",
      "source": [
        "### Step 2: Define the `plot_loss_curve` Function"
      ],
      "metadata": {
        "id": "OFAyCvOaF7QR"
      }
    },
    {
      "cell_type": "markdown",
      "source": [
        "The plot_loss_curve function generates a plot of the **Root Mean Squared Error (RMSE)** over the epochs. This helps us visualize how well the model improves its predictions as training progresses.\n",
        "\n",
        "- **x-axis:** Epoch number.\n",
        "\n",
        "- **y-axis:** RMSE (a measure of error)."
      ],
      "metadata": {
        "id": "td8H_7lpGJ3k"
      }
    },
    {
      "cell_type": "code",
      "source": [
        "def plot_loss_curve(epochs, rmse, fig):\n",
        "    curve = px.line(x=epochs, y=rmse)\n",
        "    curve.update_traces(line_color='#ff0000', line_width=3)\n",
        "\n",
        "    fig.append_trace(curve.data[0], row=1, col=1)\n",
        "    fig.update_xaxes(title_text=\"Epoch\", row=1, col=1)\n",
        "    fig.update_yaxes(title_text=\"Root Mean Squared Error\", row=1, col=1, range=[rmse.min()*0.8, rmse.max()])\n",
        "\n",
        "    return"
      ],
      "metadata": {
        "id": "JwPRELpwGZIt"
      },
      "execution_count": 18,
      "outputs": []
    },
    {
      "cell_type": "markdown",
      "source": [
        "### Step 3: Define the `plot_data` Function"
      ],
      "metadata": {
        "id": "uspueqbhGlqB"
      }
    },
    {
      "cell_type": "markdown",
      "source": [
        "The plot_data function visualizes the **actual data points**. Depending on the number of features, it generates either:\n",
        "\n",
        "- A **2D scatter plot** if there's a single feature.\n",
        "\n",
        "- A **3D scatter plot** for two features, with the label on the z-axis."
      ],
      "metadata": {
        "id": "X8FIhg8yGwb3"
      }
    },
    {
      "cell_type": "code",
      "source": [
        "def plot_data(df, features, label, fig):\n",
        "    if len(features) == 1:\n",
        "        scatter = px.scatter(df, x=features[0], y=label)\n",
        "    else:\n",
        "        scatter = px.scatter_3d(df, x=features[0], y=features[1], z=label)\n",
        "\n",
        "    fig.append_trace(scatter.data[0], row=1, col=2)\n",
        "    if len(features) == 1:\n",
        "        fig.update_xaxes(title_text=features[0], row=1, col=2)\n",
        "        fig.update_yaxes(title_text=label, row=1, col=2)\n",
        "    else:\n",
        "        fig.update_layout(scene1=dict(xaxis_title=features[0], yaxis_title=features[1], zaxis_title=label))\n",
        "\n",
        "    return"
      ],
      "metadata": {
        "id": "-cdAlKD1bFjU"
      },
      "execution_count": 19,
      "outputs": []
    },
    {
      "cell_type": "markdown",
      "source": [
        "### Step 4: Define the `plot_model` Function"
      ],
      "metadata": {
        "id": "0NlWC31fbTGs"
      }
    },
    {
      "cell_type": "markdown",
      "source": [
        "The `plot_model` function generates a **prediction line** (for 1 feature) or a **prediction plane** (for 2 features) based on the model's learned weights and bias. It visualizes how well the model fits the actual data."
      ],
      "metadata": {
        "id": "Nb4fwzW0bbsJ"
      }
    },
    {
      "cell_type": "code",
      "source": [
        "def plot_model(df, features, weights, bias, fig):\n",
        "    df['FARE_PREDICTED'] = bias[0]\n",
        "\n",
        "    for index, feature in enumerate(features):\n",
        "        df['FARE_PREDICTED'] = df['FARE_PREDICTED'] + weights[index][0] * df[feature]\n",
        "\n",
        "    if len(features) == 1:\n",
        "        model = px.line(df, x=features[0], y='FARE_PREDICTED')\n",
        "        model.update_traces(line_color='#ff0000', line_width=3)\n",
        "    else:\n",
        "        z_name, y_name = \"FARE_PREDICTED\", features[1]\n",
        "        z = [df[z_name].min(), (df[z_name].max() - df[z_name].min()) / 2, df[z_name].max()]\n",
        "        y = [df[y_name].min(), (df[y_name].max() - df[y_name].min()) / 2, df[y_name].max()]\n",
        "        x = []\n",
        "        for i in range(len(y)):\n",
        "            x.append((z[i] - weights[1][0] * y[i] - bias[0]) / weights[0][0])\n",
        "\n",
        "        plane=pd.DataFrame({'x':x, 'y':y, 'z':[z] * 3})\n",
        "\n",
        "        light_yellow = [[0, '#89CFF0'], [1, '#FFDB58']]\n",
        "        model = go.Figure(data=go.Surface(x=plane['x'], y=plane['y'], z=plane['z'],\n",
        "                                      colorscale=light_yellow))\n",
        "\n",
        "    fig.add_trace(model.data[0], row=1, col=2)\n",
        "\n",
        "    return"
      ],
      "metadata": {
        "id": "y4ggmaaxbn4p"
      },
      "execution_count": 20,
      "outputs": []
    },
    {
      "cell_type": "markdown",
      "source": [
        "### Step 5: Define the `model_info` Function"
      ],
      "metadata": {
        "id": "yluPycTacDp1"
      }
    },
    {
      "cell_type": "markdown",
      "source": [
        "The `model_info` function provides a textual summary of the model, including:\n",
        "\n",
        "- **Weights** for each feature.\n",
        "    - The **bias** term.\n",
        "    - A formatted equation that represents the linear model based on the features."
      ],
      "metadata": {
        "id": "rn_iPsPKcM4-"
      }
    },
    {
      "cell_type": "code",
      "source": [
        "def model_info(feature_names, label_name, model_output):\n",
        "    weights = model_output[0]\n",
        "    bias = model_output[1]\n",
        "\n",
        "    nl = \"\\n\"\n",
        "    header = \"-\" * 80\n",
        "    banner = header + nl + \"|\" + \"MODEL INFO\".center(78) + \"|\" + nl + header\n",
        "\n",
        "    info = \"\"\n",
        "    equation = label_name + \" = \"\n",
        "\n",
        "    for index, feature in enumerate(feature_names):\n",
        "        info = info + \"Weight for feature[{}]: {:.3f}\\n\".format(feature, weights[index][0])\n",
        "        equation = equation + \"{:.3f} * {} + \".format(weights[index][0], feature)\n",
        "\n",
        "    info = info + \"Bias: {:.3f}\\n\".format(bias[0])\n",
        "    equation = equation + \"{:.3f}\\n\".format(bias[0])\n",
        "\n",
        "    return banner + nl + info + nl + equation"
      ],
      "metadata": {
        "id": "sXTJMJvOccgW"
      },
      "execution_count": 21,
      "outputs": []
    },
    {
      "cell_type": "markdown",
      "source": [
        "## 2. Define ML Functions"
      ],
      "metadata": {
        "id": "TAGIdKIudQ-e"
      }
    },
    {
      "cell_type": "markdown",
      "source": [
        "In this subsection, we define essential machine learning functions to build, train, and evaluate a Linear Regression model."
      ],
      "metadata": {
        "id": "i_HeXFFseQFR"
      }
    },
    {
      "cell_type": "markdown",
      "source": [
        "### Step 1: Define the `build_model` Function"
      ],
      "metadata": {
        "id": "cIoNowkmeZrX"
      }
    },
    {
      "cell_type": "markdown",
      "source": [
        "The `build_model` function creates and compiles a simple linear regression model using Keras. This function sets up a sequential model with a single dense layer. The key parameters include:\n",
        "\n",
        "- **Units:** Defines the number of output neurons (set to 1 for linear regression).\n",
        "\n",
        "- **Input Shape:** Specifies the number of features (independent variables).\n",
        "\n",
        "- **Optimizer:** RMSProp is used here to minimize the model's loss, which is defined as the mean squared error."
      ],
      "metadata": {
        "id": "zwpfdIQ-eqH6"
      }
    },
    {
      "cell_type": "code",
      "source": [
        "def build_model(my_learning_rate, num_features):\n",
        "    \"\"\"Create and compile a simple linear regression model.\"\"\"\n",
        "    # Most simple keras models are sequential.\n",
        "    model = keras.models.Sequential()\n",
        "\n",
        "    # Describe the topography of the model.\n",
        "    # The topography of a simple linear regression model\n",
        "    # is a single node in a single layer.\n",
        "    model.add(keras.layers.Dense(units=1,\n",
        "                                    input_shape=(num_features,)))\n",
        "\n",
        "    # Compile the model topography into code that Keras can efficiently\n",
        "    # execute. Configure training to minimize the model's mean squared error.\n",
        "    model.compile(optimizer=keras.optimizers.RMSprop(learning_rate=my_learning_rate),\n",
        "                    loss=\"mean_squared_error\",\n",
        "                    metrics=[keras.metrics.RootMeanSquaredError()])\n",
        "\n",
        "    return model"
      ],
      "metadata": {
        "id": "jtcH8pmPe-W-"
      },
      "execution_count": 22,
      "outputs": []
    },
    {
      "cell_type": "markdown",
      "source": [
        "### Step 2: Define the `train_model` Function"
      ],
      "metadata": {
        "id": "ufM1zCsTfX25"
      }
    },
    {
      "cell_type": "markdown",
      "source": [
        "The `train_model` function handles the training process for the model by feeding it the input features and corresponding labels. Key elements:\n",
        "\n",
        "- **Batch size:** Specifies the number of samples to work through before updating the model's internal parameters.\n",
        "\n",
        "- **Epochs:** Refers to the number of complete passes through the training dataset.\n",
        "\n",
        "The function returns the learned **weights**, **bias**, the list of **epochs**, and the **root mean squared error (RMSE)** at each epoch."
      ],
      "metadata": {
        "id": "OAJkelqmffFj"
      }
    },
    {
      "cell_type": "code",
      "source": [
        "def train_model(model, df, features, label, epochs, batch_size):\n",
        "    \"\"\"Train the model by feeding it data.\"\"\"\n",
        "\n",
        "    # Feed the model the feature and the label.\n",
        "    # The model will train for the specified number of epochs.\n",
        "    # input_x = df.iloc[:,1:3].values\n",
        "    # df[feature]\n",
        "    history = model.fit(x=features,\n",
        "                        y=label,\n",
        "                        batch_size=batch_size,\n",
        "                        epochs=epochs)\n",
        "\n",
        "    # Gather the trained model's weight and bias.\n",
        "    trained_weight = model.get_weights()[0]\n",
        "    trained_bias = model.get_weights()[1]\n",
        "\n",
        "    # The list of epochs is stored separately from the rest of history.\n",
        "    epochs = history.epoch\n",
        "\n",
        "    # Isolate the error for each epoch.\n",
        "    hist = pd.DataFrame(history.history)\n",
        "\n",
        "    # To track the progression of training, we're going to take a snapshot\n",
        "    # of the model's root mean squared error at each epoch.\n",
        "    rmse = hist[\"root_mean_squared_error\"]\n",
        "\n",
        "    return trained_weight, trained_bias, epochs, rmse"
      ],
      "metadata": {
        "id": "rNmnbpNngHaf"
      },
      "execution_count": 23,
      "outputs": []
    },
    {
      "cell_type": "markdown",
      "source": [
        "### Step 3: Define the `run_experiment` Function"
      ],
      "metadata": {
        "id": "QTJBAp4Bf9DY"
      }
    },
    {
      "cell_type": "markdown",
      "source": [
        "The `run_experiment` function orchestrates the entire training process. It builds the model, trains it on the given features and labels, and produces the model's output:\n",
        "\n",
        "- **model_output:** A tuple containing the learned weights, bias, epochs, and RMSE.\n",
        "    \n",
        "- **make_plots:** This function is called to visualize the training results, including the loss curve and the model’s predictions.\n",
        "\n",
        "By running this function, we can analyze the model's behavior and check how well it fits the data based on the chosen features."
      ],
      "metadata": {
        "id": "x12_K_yxgTKo"
      }
    },
    {
      "cell_type": "code",
      "source": [
        "def run_experiment(df, feature_names, label_name, learning_rate, epochs, batch_size):\n",
        "\n",
        "    print('INFO: starting training experiment with features={} and label={}\\n'.format(feature_names, label_name))\n",
        "\n",
        "    num_features = len(feature_names)\n",
        "\n",
        "    features = df.loc[:, feature_names].values\n",
        "    label = df[label_name].values\n",
        "\n",
        "    model = build_model(learning_rate, num_features)\n",
        "    model_output = train_model(model, df, features, label, epochs, batch_size)\n",
        "\n",
        "    print('\\nSUCCESS: training experiment complete\\n')\n",
        "    print('{}'.format(model_info(feature_names, label_name, model_output)))\n",
        "    make_plots(df, feature_names, label_name, model_output)\n",
        "\n",
        "    return model"
      ],
      "metadata": {
        "id": "vJBILGwBgga_"
      },
      "execution_count": 24,
      "outputs": []
    },
    {
      "cell_type": "markdown",
      "source": [
        "## 3. Train the Model with One Feature"
      ],
      "metadata": {
        "id": "mG7wWzUrg7GA"
      }
    },
    {
      "cell_type": "markdown",
      "source": [
        "In this section, we will train our model using a single feature, `TRIP_MILES`, and examine how hyperparameters like the learning rate, batch size, and number of epochs impact model performance."
      ],
      "metadata": {
        "id": "1UG9JllhiW2L"
      }
    },
    {
      "cell_type": "markdown",
      "source": [
        "### Experiment 1: Initial Training with One Feature"
      ],
      "metadata": {
        "id": "IRm_qdqUi8V4"
      }
    },
    {
      "cell_type": "code",
      "source": [
        "# Code - Experiment 1\n",
        "learning_rate = 0.001\n",
        "epochs = 20\n",
        "batch_size = 50\n",
        "features = ['TRIP_MILES']\n",
        "label = 'FARE'\n",
        "\n",
        "model_1 = run_experiment(training_df, features, label, learning_rate, epochs, batch_size)"
      ],
      "metadata": {
        "colab": {
          "base_uri": "https://localhost:8080/"
        },
        "id": "SFLGNO0_jHxO",
        "outputId": "3eb93158-907b-4c4d-e89f-9f283b584532"
      },
      "execution_count": null,
      "outputs": [
        {
          "output_type": "stream",
          "name": "stdout",
          "text": [
            "INFO: starting training experiment with features=['TRIP_MILES'] and label=FARE\n",
            "\n"
          ]
        },
        {
          "output_type": "stream",
          "name": "stderr",
          "text": [
            "/usr/local/lib/python3.10/dist-packages/keras/src/layers/core/dense.py:87: UserWarning: Do not pass an `input_shape`/`input_dim` argument to a layer. When using Sequential models, prefer using an `Input(shape)` object as the first layer in the model instead.\n",
            "  super().__init__(activity_regularizer=activity_regularizer, **kwargs)\n"
          ]
        },
        {
          "output_type": "stream",
          "name": "stdout",
          "text": [
            "Epoch 1/20\n",
            "\u001b[1m634/634\u001b[0m \u001b[32m━━━━━━━━━━━━━━━━━━━━\u001b[0m\u001b[37m\u001b[0m \u001b[1m1s\u001b[0m 1ms/step - loss: 950.7993 - root_mean_squared_error: 30.8203\n",
            "Epoch 2/20\n",
            "\u001b[1m634/634\u001b[0m \u001b[32m━━━━━━━━━━━━━━━━━━━━\u001b[0m\u001b[37m\u001b[0m \u001b[1m1s\u001b[0m 1ms/step - loss: 552.3442 - root_mean_squared_error: 23.4846\n",
            "Epoch 3/20\n",
            "\u001b[1m634/634\u001b[0m \u001b[32m━━━━━━━━━━━━━━━━━━━━\u001b[0m\u001b[37m\u001b[0m \u001b[1m1s\u001b[0m 1ms/step - loss: 276.0698 - root_mean_squared_error: 16.5874\n",
            "Epoch 4/20\n",
            "\u001b[1m634/634\u001b[0m \u001b[32m━━━━━━━━━━━━━━━━━━━━\u001b[0m\u001b[37m\u001b[0m \u001b[1m1s\u001b[0m 2ms/step - loss: 92.2554 - root_mean_squared_error: 9.5711\n",
            "Epoch 5/20\n",
            "\u001b[1m634/634\u001b[0m \u001b[32m━━━━━━━━━━━━━━━━━━━━\u001b[0m\u001b[37m\u001b[0m \u001b[1m1s\u001b[0m 2ms/step - loss: 20.8030 - root_mean_squared_error: 4.5485\n",
            "Epoch 6/20\n",
            "\u001b[1m634/634\u001b[0m \u001b[32m━━━━━━━━━━━━━━━━━━━━\u001b[0m\u001b[37m\u001b[0m \u001b[1m1s\u001b[0m 1ms/step - loss: 16.7010 - root_mean_squared_error: 4.0746\n",
            "Epoch 7/20\n",
            "\u001b[1m634/634\u001b[0m \u001b[32m━━━━━━━━━━━━━━━━━━━━\u001b[0m\u001b[37m\u001b[0m \u001b[1m1s\u001b[0m 1ms/step - loss: 14.2476 - root_mean_squared_error: 3.7680\n",
            "Epoch 8/20\n",
            "\u001b[1m634/634\u001b[0m \u001b[32m━━━━━━━━━━━━━━━━━━━━\u001b[0m\u001b[37m\u001b[0m \u001b[1m1s\u001b[0m 1ms/step - loss: 13.7731 - root_mean_squared_error: 3.7095\n",
            "Epoch 9/20\n",
            "\u001b[1m634/634\u001b[0m \u001b[32m━━━━━━━━━━━━━━━━━━━━\u001b[0m\u001b[37m\u001b[0m \u001b[1m1s\u001b[0m 1ms/step - loss: 14.9684 - root_mean_squared_error: 3.8652\n",
            "Epoch 10/20\n",
            "\u001b[1m634/634\u001b[0m \u001b[32m━━━━━━━━━━━━━━━━━━━━\u001b[0m\u001b[37m\u001b[0m \u001b[1m1s\u001b[0m 1ms/step - loss: 13.1849 - root_mean_squared_error: 3.6261\n",
            "Epoch 11/20\n",
            "\u001b[1m634/634\u001b[0m \u001b[32m━━━━━━━━━━━━━━━━━━━━\u001b[0m\u001b[37m\u001b[0m \u001b[1m1s\u001b[0m 1ms/step - loss: 13.7891 - root_mean_squared_error: 3.7056\n",
            "Epoch 12/20\n",
            "\u001b[1m634/634\u001b[0m \u001b[32m━━━━━━━━━━━━━━━━━━━━\u001b[0m\u001b[37m\u001b[0m \u001b[1m1s\u001b[0m 1ms/step - loss: 15.6145 - root_mean_squared_error: 3.9424\n",
            "Epoch 13/20\n",
            "\u001b[1m634/634\u001b[0m \u001b[32m━━━━━━━━━━━━━━━━━━━━\u001b[0m\u001b[37m\u001b[0m \u001b[1m1s\u001b[0m 1ms/step - loss: 14.9094 - root_mean_squared_error: 3.8519\n",
            "Epoch 14/20\n",
            "\u001b[1m634/634\u001b[0m \u001b[32m━━━━━━━━━━━━━━━━━━━━\u001b[0m\u001b[37m\u001b[0m \u001b[1m1s\u001b[0m 1ms/step - loss: 14.9092 - root_mean_squared_error: 3.8512\n",
            "Epoch 15/20\n",
            "\u001b[1m634/634\u001b[0m \u001b[32m━━━━━━━━━━━━━━━━━━━━\u001b[0m\u001b[37m\u001b[0m \u001b[1m2s\u001b[0m 2ms/step - loss: 14.9206 - root_mean_squared_error: 3.8581\n",
            "Epoch 16/20\n",
            "\u001b[1m634/634\u001b[0m \u001b[32m━━━━━━━━━━━━━━━━━━━━\u001b[0m\u001b[37m\u001b[0m \u001b[1m1s\u001b[0m 2ms/step - loss: 14.6127 - root_mean_squared_error: 3.7969\n",
            "Epoch 17/20\n",
            "\u001b[1m634/634\u001b[0m \u001b[32m━━━━━━━━━━━━━━━━━━━━\u001b[0m\u001b[37m\u001b[0m \u001b[1m1s\u001b[0m 1ms/step - loss: 14.0739 - root_mean_squared_error: 3.7467\n",
            "Epoch 18/20\n",
            "\u001b[1m634/634\u001b[0m \u001b[32m━━━━━━━━━━━━━━━━━━━━\u001b[0m\u001b[37m\u001b[0m \u001b[1m1s\u001b[0m 1ms/step - loss: 14.2038 - root_mean_squared_error: 3.7516\n",
            "Epoch 19/20\n",
            "\u001b[1m634/634\u001b[0m \u001b[32m━━━━━━━━━━━━━━━━━━━━\u001b[0m\u001b[37m\u001b[0m \u001b[1m1s\u001b[0m 1ms/step - loss: 14.3088 - root_mean_squared_error: 3.7792\n",
            "Epoch 20/20\n",
            "\u001b[1m634/634\u001b[0m \u001b[32m━━━━━━━━━━━━━━━━━━━━\u001b[0m\u001b[37m\u001b[0m \u001b[1m1s\u001b[0m 1ms/step - loss: 15.0018 - root_mean_squared_error: 3.8670\n",
            "\n",
            "SUCCESS: training experiment complete\n",
            "\n",
            "--------------------------------------------------------------------------------\n",
            "|                                  MODEL INFO                                  |\n",
            "--------------------------------------------------------------------------------\n",
            "Weight for feature[TRIP_MILES]: 2.279\n",
            "Bias: 4.975\n",
            "\n",
            "FARE = 2.279 * TRIP_MILES + 4.975\n",
            "\n"
          ]
        }
      ]
    },
    {
      "cell_type": "markdown",
      "source": [
        "![rainbow](https://github.com/ancilcleetus/My-Learning-Journey/assets/25684256/839c3524-2a1d-4779-85a0-83c562e1e5e5)"
      ],
      "metadata": {
        "id": "rVPce17Gwsz2"
      }
    },
    {
      "cell_type": "code",
      "source": [
        "# Deep Learning as subset of ML\n",
        "\n",
        "from IPython import display\n",
        "display.Image(\"data/images/DL_01_Intro-01-DL-subset-of-ML.jpg\")"
      ],
      "metadata": {
        "id": "juNAxVBFg7sw"
      },
      "execution_count": null,
      "outputs": []
    },
    {
      "cell_type": "markdown",
      "source": [
        "![rainbow](https://github.com/ancilcleetus/My-Learning-Journey/assets/25684256/839c3524-2a1d-4779-85a0-83c562e1e5e5)"
      ],
      "metadata": {
        "id": "qqv0L0R9dyKJ"
      }
    }
  ]
}