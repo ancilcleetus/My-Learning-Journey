{
  "nbformat": 4,
  "nbformat_minor": 0,
  "metadata": {
    "colab": {
      "provenance": []
    },
    "kernelspec": {
      "name": "python3",
      "display_name": "Python 3"
    },
    "language_info": {
      "name": "python"
    }
  },
  "cells": [
    {
      "cell_type": "markdown",
      "source": [
        "![rainbow](https://github.com/ancilcleetus/My-Learning-Journey/assets/25684256/839c3524-2a1d-4779-85a0-83c562e1e5e5)"
      ],
      "metadata": {
        "id": "uLR90WhedwER"
      }
    },
    {
      "cell_type": "markdown",
      "source": [
        "# 1. Intro to Python"
      ],
      "metadata": {
        "id": "bKim3KwyTp11"
      }
    },
    {
      "cell_type": "markdown",
      "source": [
        "Python is an interpreted, high-level, and general purpose programming language that was designed for efficiency, readability, and simplicity.\n",
        "\n",
        "Python design philosophy emphasizes simplicity and code readability. There are about 19 Python design guiding principles, the top 8 being:\n",
        "\n",
        "- Beautiful is better than ugly.\n",
        "\n",
        "- Explicit is better than implicit.\n",
        "\n",
        "- Simple is better than complex.\n",
        "\n",
        "- Complex is better than complicated.\n",
        "\n",
        "- Readability counts.\n",
        "\n",
        "- Now is better than never.\n",
        "\n",
        "- If the implementation is hard to explain, it's a bad idea.\n",
        "\n",
        "- If the implementation is easy to explain, it may be a good idea.\n",
        "\n",
        "More design rules can be found in the [Zen of Python](https://en.wikipedia.org/wiki/Zen_of_Python). You can also display them by importing this(`import this`) in any Python interpreter."
      ],
      "metadata": {
        "id": "lMZzenw2CMY-"
      }
    },
    {
      "cell_type": "code",
      "source": [
        "import this"
      ],
      "metadata": {
        "colab": {
          "base_uri": "https://localhost:8080/"
        },
        "id": "kHQl4rK2CduQ",
        "outputId": "732c41e0-d3f3-4354-b31a-5befc77ac83a"
      },
      "execution_count": null,
      "outputs": [
        {
          "output_type": "stream",
          "name": "stdout",
          "text": [
            "The Zen of Python, by Tim Peters\n",
            "\n",
            "Beautiful is better than ugly.\n",
            "Explicit is better than implicit.\n",
            "Simple is better than complex.\n",
            "Complex is better than complicated.\n",
            "Flat is better than nested.\n",
            "Sparse is better than dense.\n",
            "Readability counts.\n",
            "Special cases aren't special enough to break the rules.\n",
            "Although practicality beats purity.\n",
            "Errors should never pass silently.\n",
            "Unless explicitly silenced.\n",
            "In the face of ambiguity, refuse the temptation to guess.\n",
            "There should be one-- and preferably only one --obvious way to do it.\n",
            "Although that way may not be obvious at first unless you're Dutch.\n",
            "Now is better than never.\n",
            "Although never is often better than *right* now.\n",
            "If the implementation is hard to explain, it's a bad idea.\n",
            "If the implementation is easy to explain, it may be a good idea.\n",
            "Namespaces are one honking great idea -- let's do more of those!\n"
          ]
        }
      ]
    },
    {
      "cell_type": "markdown",
      "source": [
        "Python is a popular and go-to programming language in different tech communities, most notable in machine learning and data science. It is sometimes referred to as [“batteries included”](https://docs.python.org/3/tutorial/stdlib.html) due to its rich standard library. Below are more elaborated advantages of Python:\n",
        "\n",
        "- It is simple to read and write: Python syntaxes are very easy to write and easy to recall as well.\n",
        "\n",
        "- It has a beautiful design and built-in data types.\n",
        "\n",
        "- It has thousands of great libraries in many disciplines.\n",
        "\n",
        "- Supportive communities: Good documentation, courses, tutorials, social groups.\n",
        "\n",
        "- Easy to learn and use due to its simple syntaxes which feel like a natural language.\n"
      ],
      "metadata": {
        "id": "UmoBi5KDDGUv"
      }
    },
    {
      "cell_type": "markdown",
      "source": [
        "![rainbow](https://github.com/ancilcleetus/My-Learning-Journey/assets/25684256/839c3524-2a1d-4779-85a0-83c562e1e5e5)"
      ],
      "metadata": {
        "id": "-pgDbDYKEk74"
      }
    },
    {
      "cell_type": "markdown",
      "source": [
        "# 2. Variables, Numbers, and Strings"
      ],
      "metadata": {
        "id": "yfiqc0RoEk76"
      }
    },
    {
      "cell_type": "markdown",
      "source": [
        "Variables are containers for holding data and they're defined by a name and value."
      ],
      "metadata": {
        "id": "WuHP9WnHFGs_"
      }
    },
    {
      "cell_type": "code",
      "source": [
        "# Variables\n",
        "\n",
        "from IPython import display\n",
        "display.Image(\"data/images/01-Machine-Learning-Foundations/Complete-Machine-Learning-Course/01_Python_for_Machine_Learning-01.png\")"
      ],
      "metadata": {
        "colab": {
          "base_uri": "https://localhost:8080/",
          "height": 194
        },
        "id": "jEsJbs5OFJHe",
        "outputId": "dade0411-5fe7-44c6-eebb-7509c2da95ca"
      },
      "execution_count": 17,
      "outputs": [
        {
          "output_type": "execute_result",
          "data": {
            "image/png": "[encoded data removed]",
            "text/plain": [
              "<IPython.core.display.Image object>"
            ]
          },
          "metadata": {},
          "execution_count": 17
        }
      ]
    },
    {
      "cell_type": "markdown",
      "source": [
        "*Image: Variables. Image captured from Made With ML Course.*"
      ],
      "metadata": {
        "id": "ZX-BDKFeCwm7"
      }
    },
    {
      "cell_type": "markdown",
      "source": [
        "**Note**\n",
        "\n",
        "Here we use the variable name `x` in our examples but when you're working on a specific task, be sure to be explicit (ex. `first_name`) when creating variables (applies to functions, classes, etc. as well)."
      ],
      "metadata": {
        "id": "afftQJyGFesF"
      }
    },
    {
      "cell_type": "markdown",
      "source": [
        "## Variables"
      ],
      "metadata": {
        "id": "0jtpfqrGFzX2"
      }
    },
    {
      "cell_type": "markdown",
      "source": [
        "Below are quick notes about Python variables and other most important things to know before writing actual Python code:\n",
        "\n",
        "- A variable is a location in memory where we store the data.\n",
        "\n",
        "- A variable in Python can either be of 4 data types: integer, float, string or a boolean. Data type specifies the category of the variables.\n",
        "\n",
        "- We can use `type(variable_name)` to find the type of given `variable_name`.\n",
        "\n",
        "- In Python, we use `#` to add comments. Comments do not change anything and are not compiled.\n",
        "\n",
        "- If your comment is longer than one line, you can use triple quotes. The lines inside triple quotes are ignored during runtime.\n",
        "\n",
        "    ```\n",
        "    \"\"\"\n",
        "    In Python, there is no official way to write long comments, but you can use triple quotes.\n",
        "    The sentence between triple quote are ignored at runtime. You can also use single quote('''....''').\n",
        "    Python treats single quote as double quotes in many scanerios such as strings representation.\n",
        "\n",
        "    Guido also agreed it works: https://x.com/gvanrossum/status/112670605505077248\n",
        "    \"\"\"\n",
        "    ```\n",
        "\n",
        "\n",
        "- We also use `=` to assign a value to the name of variable. Example: `var_name = 1`. Note that it's different to comparison operator of equal to (`==`).\n",
        "\n",
        "- We can use `print()` to display the value of variable or the results of any expression.\n",
        "\n",
        "- Each line of the code start on the new line.\n",
        "\n",
        "- Be aware of indentations. Python is serious about them."
      ],
      "metadata": {
        "id": "NzU2GCqkHXvr"
      }
    },
    {
      "cell_type": "code",
      "source": [
        "# EXAMPLE OF CREATING A VARIABLE\n",
        "\n",
        "# We use # to add comment, it won’t run or affect the code\n",
        "# You use = to assign a value to the name of the variable.\n",
        "# Each code starts on the new line. No semicolon or {}\n",
        "# Python is awesome. You do not need to provide the data type of variable when creating it.\n",
        "\n",
        "int_var = 1\n",
        "float_var = 5.0\n",
        "str_var = 'Hundred'\n",
        "bool_var = True\n",
        "\n",
        "print(type(int_var))\n",
        "print(type(float_var))\n",
        "print(type(str_var))\n",
        "print(type(bool_var))"
      ],
      "metadata": {
        "colab": {
          "base_uri": "https://localhost:8080/"
        },
        "id": "Eiv8mIqaInEP",
        "outputId": "242cf513-5129-40af-94a1-4aa3d9bee3a3"
      },
      "execution_count": null,
      "outputs": [
        {
          "output_type": "stream",
          "name": "stdout",
          "text": [
            "<class 'int'>\n",
            "<class 'float'>\n",
            "<class 'str'>\n",
            "<class 'bool'>\n"
          ]
        }
      ]
    },
    {
      "cell_type": "markdown",
      "source": [
        "## Numbers"
      ],
      "metadata": {
        "id": "wFDLHqegJOuV"
      }
    },
    {
      "cell_type": "markdown",
      "source": [
        "Numbers in Python can either be integers `int` or floats `float`. Integer are real, finite, natural or whole numbers. Take an example: `1,2,3,4` are integers. Floats are numbers that have decimal points such as `4.6, 6.0, 7.7`. Note that `4.0` is considered as a float data type too.\n",
        "\n",
        "We can perform operations on numbers. The operations that we can perform include addition, multiplication, division, mod, etc."
      ],
      "metadata": {
        "id": "NF_k0wC8KiME"
      }
    },
    {
      "cell_type": "code",
      "source": [
        "int_var = 10\n",
        "float_var = 12.8\n",
        "\n",
        "print(type(int_var))\n",
        "print(type(float_var))"
      ],
      "metadata": {
        "colab": {
          "base_uri": "https://localhost:8080/"
        },
        "id": "5zWU1pImLQ3A",
        "outputId": "7efe2bda-b399-46b2-d341-532d54a8722e"
      },
      "execution_count": null,
      "outputs": [
        {
          "output_type": "stream",
          "name": "stdout",
          "text": [
            "<class 'int'>\n",
            "<class 'float'>\n"
          ]
        }
      ]
    },
    {
      "cell_type": "code",
      "source": [
        "# Numeric Operations\n",
        "\n",
        "# Addition\n",
        "print(f\"1 + 100 = {1 + 100}\")\n",
        "\n",
        "# Subtraction\n",
        "print(f\"100 - 1 = {100 - 1}\")\n",
        "\n",
        "# Multiplication\n",
        "print(f\"1 * 100 = {1 * 100}\")\n",
        "\n",
        "# Division\n",
        "print(f\"1 / 100 = {1 / 100}\")\n",
        "\n",
        "# Floor division\n",
        "print(f\"7 // 2 = {7 // 2}\")\n",
        "\n",
        "# Mod\n",
        "# This is the remainder or a value remaining after dividing two numbers\n",
        "# 100 / 1 = 100, remainder is 0\n",
        "print(f\"100 % 1 = {100 % 1}\")\n",
        "print(f\"1 % 100 = {1 % 100}\")\n",
        "print(f\"10 % 2 = {10 % 2}\")\n",
        "\n",
        "# Exponent\n",
        "# This is the power of a number\n",
        "print(f\"1 ** 100 = {1 ** 100}\")\n",
        "print(f\"2 ** 3 = {2 ** 3}\")"
      ],
      "metadata": {
        "colab": {
          "base_uri": "https://localhost:8080/"
        },
        "id": "z3oXOgshL6_m",
        "outputId": "d679b208-854c-4d6a-c465-26be84b201b6"
      },
      "execution_count": null,
      "outputs": [
        {
          "output_type": "stream",
          "name": "stdout",
          "text": [
            "1 + 100 = 101\n",
            "100 - 1 = 99\n",
            "1 * 100 = 100\n",
            "1 / 100 = 0.01\n",
            "7 // 2 = 3\n",
            "100 % 1 = 0\n",
            "1 % 100 = 1\n",
            "10 % 2 = 0\n",
            "1 ** 100 = 1\n",
            "2 ** 3 = 8\n"
          ]
        }
      ]
    },
    {
      "cell_type": "markdown",
      "source": [
        "## Strings"
      ],
      "metadata": {
        "id": "W6migOa6Nqyx"
      }
    },
    {
      "cell_type": "markdown",
      "source": [
        "Python supports strings. String is a sequence of characters.\n",
        "\n",
        "Strings are one of the commonly used and important data types. Most problems involve working with strings. Thus, knowing how to work with strings is an incredible thing.\n",
        "\n",
        "Strings are expressed in either `\"...\"` or `'...'`.\n",
        "\n",
        "```\n",
        "\"text inside here will be a string\"\n",
        "'text inside here will also be a string'\n",
        "```"
      ],
      "metadata": {
        "id": "9OKkDwwzYkKw"
      }
    },
    {
      "cell_type": "markdown",
      "source": [
        "We can manipulate strings in many ways. A simple example is to concatenate the strings."
      ],
      "metadata": {
        "id": "rKZxYwr5ZJv9"
      }
    },
    {
      "cell_type": "code",
      "source": [
        "str_var = 'One'\n",
        "str_var2 = 'Hundred'\n",
        "print(f\"str_var + str_var2 = {str_var + str_var2}\")\n",
        "\n",
        "print(f\"str_var + ' ' + 'and' + ' ' + str_var2 + '.' = {str_var + ' ' + 'and' + ' ' + str_var2 + '.'}\")"
      ],
      "metadata": {
        "colab": {
          "base_uri": "https://localhost:8080/"
        },
        "id": "Sw2QT8ADYwTO",
        "outputId": "b98b5f72-6657-4cdc-8448-871f80828fa3"
      },
      "execution_count": null,
      "outputs": [
        {
          "output_type": "stream",
          "name": "stdout",
          "text": [
            "str_var + str_var2 = OneHundred\n",
            "str_var + ' ' + 'and' + ' '+ str_var2 + '.' = One and Hundred.\n"
          ]
        }
      ]
    },
    {
      "cell_type": "markdown",
      "source": [
        "We can also compare strings to check whether they are similar. If they are similar, case by case, comparison operator returns `True`; else `False`."
      ],
      "metadata": {
        "id": "cAxrPel2ZGFz"
      }
    },
    {
      "cell_type": "code",
      "source": [
        "print(f'\"A string\" == \"a string\" => {\"A string\" == \"a string\"}')\n",
        "print(f'\"A string\" == \"A string\" => {\"A string\" == \"A string\"}')"
      ],
      "metadata": {
        "colab": {
          "base_uri": "https://localhost:8080/"
        },
        "id": "dHDkvnEnZY9c",
        "outputId": "854a44f4-178e-43ea-b796-e247c80b9171"
      },
      "execution_count": null,
      "outputs": [
        {
          "output_type": "stream",
          "name": "stdout",
          "text": [
            "\"A string\" == \"a string\" => False\n",
            "\"A string\" == \"A string\" => True\n"
          ]
        }
      ]
    },
    {
      "cell_type": "markdown",
      "source": [
        "### String Methods"
      ],
      "metadata": {
        "id": "xtyg3cx0Z59-"
      }
    },
    {
      "cell_type": "markdown",
      "source": [
        "Python provides many built-in methods for manipulating strings. As a programmer, knowing typical string methods and how to use them will give you a real leverage when working with strings.\n",
        "\n",
        "There are many string methods. You can find them [here](https://docs.python.org/2.5/lib/string-methods.html). Let's see some common methods."
      ],
      "metadata": {
        "id": "GnvetKxnajaZ"
      }
    },
    {
      "cell_type": "code",
      "source": [
        "sentence = 'This IS A String'\n",
        "\n",
        "# Case capitalization\n",
        "# It returns the string with first letter capitalized and the rest being lower cases.\n",
        "print(f\"sentence.capitalize() => {sentence.capitalize()}\")\n",
        "\n",
        "# Given a string, convert it into title (each word is capitalized)\n",
        "sentence_2 = 'this is a string to be titled'\n",
        "print(f\"sentence_2.title() => {sentence_2.title()}\")\n",
        "\n",
        "# Converting the string to upper case\n",
        "print(f\"sentence.upper() => {sentence.upper()}\")\n",
        "\n",
        "# Converting the string to lower case\n",
        "print(f\"sentence.lower() => {sentence.lower()}\")\n",
        "\n",
        "# Splitting the string\n",
        "print(f\"sentence.split() => {sentence.split()}\")"
      ],
      "metadata": {
        "colab": {
          "base_uri": "https://localhost:8080/"
        },
        "id": "x6XMTpuLas5T",
        "outputId": "2453a7e2-a8f9-46e0-e19c-1c88a515a91c"
      },
      "execution_count": null,
      "outputs": [
        {
          "output_type": "stream",
          "name": "stdout",
          "text": [
            "sentence.capitalize() => This is a string\n",
            "sentence_2.title() => This Is A String To Be Titled\n",
            "sentence.upper() => THIS IS A STRING\n",
            "sentence.lower() => this is a string\n",
            "sentence.split() => ['This', 'IS', 'A', 'String']\n"
          ]
        }
      ]
    },
    {
      "cell_type": "markdown",
      "source": [
        "Lastly, we can use `replace()` method to replace some characters in string with another characters. Replace method takes two inputs: characters to be replaced, and new characters to be inserted in string, `replace('characters to be replaced', 'new characters')`."
      ],
      "metadata": {
        "id": "b7U3SF33bkqm"
      }
    },
    {
      "cell_type": "code",
      "source": [
        "# Given the string \"This movie was awesome\", replace the word 'awesome' with 'fantastic'\n",
        "str_1 = \"This movie was awesome\"\n",
        "print(f\"str_1.replace('awesome', 'fantastic') => {str_1.replace('awesome', 'fantastic')}\")\n",
        "\n",
        "# In the following string, replace all spaces with `%20'\n",
        "str_2 = \"The future is great\"\n",
        "print(f\"str_2.replace(' ', '%20') => {str_2.replace(' ', '%20')}\")"
      ],
      "metadata": {
        "colab": {
          "base_uri": "https://localhost:8080/"
        },
        "id": "J5B6SEHcbsWr",
        "outputId": "4962f5ac-9bee-414b-946d-4ae94a745e1e"
      },
      "execution_count": null,
      "outputs": [
        {
          "output_type": "stream",
          "name": "stdout",
          "text": [
            "str_1.replace('awesome', 'fantastic') => This movie was fantastic\n",
            "str_2.replace(' ', '%20') => The%20future%20is%20great\n"
          ]
        }
      ]
    },
    {
      "cell_type": "markdown",
      "source": [
        "As you can see, string methods are powerful and can save you time."
      ],
      "metadata": {
        "id": "AR9dpwSzcZay"
      }
    },
    {
      "cell_type": "markdown",
      "source": [
        "**Note: Know Your Types!**\n",
        "\n",
        "We should always know what types of variables we're dealing with so we can do the right operations with them. Here's a common mistake that can happen if we're using the wrong variable type."
      ],
      "metadata": {
        "id": "V2qR5U4SceQI"
      }
    },
    {
      "cell_type": "code",
      "source": [
        "# int variables\n",
        "a = 5\n",
        "b = 3\n",
        "print(f\"a + b = {a + b}\")\n",
        "\n",
        "# string variables\n",
        "a = '5'\n",
        "b = '3'\n",
        "print(f\"a + b = {a + b}\")"
      ],
      "metadata": {
        "colab": {
          "base_uri": "https://localhost:8080/"
        },
        "id": "vWgB__decsYs",
        "outputId": "fdd7bdc4-a280-4060-940e-7dac6a1cbb2c"
      },
      "execution_count": null,
      "outputs": [
        {
          "output_type": "stream",
          "name": "stdout",
          "text": [
            "a + b = 8\n",
            "a + b = 53\n"
          ]
        }
      ]
    },
    {
      "cell_type": "markdown",
      "source": [
        "![rainbow](https://github.com/ancilcleetus/My-Learning-Journey/assets/25684256/839c3524-2a1d-4779-85a0-83c562e1e5e5)"
      ],
      "metadata": {
        "id": "lpKNYtcTdLta"
      }
    },
    {
      "cell_type": "markdown",
      "source": [
        "# 3. Data Structures"
      ],
      "metadata": {
        "id": "3QDp7_A0dLtf"
      }
    },
    {
      "cell_type": "markdown",
      "source": [
        "Data structures are used to organize and store the data. Algorithms support operations on data.\n",
        "\n",
        "Python has 4 main data structures: Lists, Dictionaries, Tuples and Sets."
      ],
      "metadata": {
        "id": "zMThb9HddYqi"
      }
    },
    {
      "cell_type": "markdown",
      "source": [
        "## Lists"
      ],
      "metadata": {
        "id": "Ka1r-prHde5Y"
      }
    },
    {
      "cell_type": "markdown",
      "source": [
        "Lists are an ordered, mutable (changeable) collection of values that are comma separated and enclosed by square brackets. A list can be comprised of many different types of variables. Each value in a list is called an `element` or `item` and can be identified by an index.\n",
        "\n",
        "What we will see with Python lists:\n",
        "\n",
        "- Creating a list\n",
        "\n",
        "- Accessing elements in a list\n",
        "\n",
        "- Slicing a list\n",
        "\n",
        "- Changing elements in a list\n",
        "\n",
        "- Traversing a list\n",
        "\n",
        "- Operations on list\n",
        "\n",
        "- Nested lists\n",
        "\n",
        "- List methods\n",
        "\n",
        "- List and strings"
      ],
      "metadata": {
        "id": "einNlHOfWD5-"
      }
    },
    {
      "cell_type": "markdown",
      "source": [
        "### Creating a List"
      ],
      "metadata": {
        "id": "tCVQa-kcWvdK"
      }
    },
    {
      "cell_type": "markdown",
      "source": [
        "A python list can be created by enclosing elements of similar or different data type in square brackets `[...]`, or with `range()` function."
      ],
      "metadata": {
        "id": "z116HFOiW5ej"
      }
    },
    {
      "cell_type": "code",
      "source": [
        "# Creating a list\n",
        "week_days = ['Mon', 'Tue', 'Wed', 'Thur','Fri']\n",
        "even_numbers = [2, 4, 6, 8, 10]\n",
        "mixed_list = ['Mon', 1, 'Tue', 2, 'Wed', 3]\n",
        "\n",
        "# Displaying elements of a list\n",
        "print(week_days)"
      ],
      "metadata": {
        "colab": {
          "base_uri": "https://localhost:8080/"
        },
        "id": "KoMyOu58XBCb",
        "outputId": "f157e7df-ebdb-4b58-d104-01a948238bca"
      },
      "execution_count": null,
      "outputs": [
        {
          "output_type": "stream",
          "name": "stdout",
          "text": [
            "['Mon', 'Tue', 'Wed', 'Thur', 'Fri']\n"
          ]
        }
      ]
    },
    {
      "cell_type": "code",
      "source": [
        "# Creating a list with range()\n",
        "nums = range(5)\n",
        "\n",
        "for i in nums:\n",
        "    print(i)"
      ],
      "metadata": {
        "colab": {
          "base_uri": "https://localhost:8080/"
        },
        "id": "-F2ri9IwXJHK",
        "outputId": "a111315d-45b1-4a7d-caaa-7bab2cecdfea"
      },
      "execution_count": null,
      "outputs": [
        {
          "output_type": "stream",
          "name": "stdout",
          "text": [
            "0\n",
            "1\n",
            "2\n",
            "3\n",
            "4\n"
          ]
        }
      ]
    },
    {
      "cell_type": "markdown",
      "source": [
        "### Indexing: Accessing the elements of the list"
      ],
      "metadata": {
        "id": "XJ60Ch5rXT2P"
      }
    },
    {
      "cell_type": "markdown",
      "source": [
        "We can access the a given element of the list by providing the index of the element in a bracket. Note that indices can be positive (starting from 0) or negative (-1 and lower, where -1 is the last item in the list)."
      ],
      "metadata": {
        "id": "LA9a8ptwXacb"
      }
    },
    {
      "cell_type": "code",
      "source": [
        "# Indexing\n",
        "\n",
        "from IPython import display\n",
        "display.Image(\"data/images/01-Machine-Learning-Foundations/Complete-Machine-Learning-Course/01_Python_for_Machine_Learning-02.png\")"
      ],
      "metadata": {
        "colab": {
          "base_uri": "https://localhost:8080/",
          "height": 277
        },
        "outputId": "b3befc89-e488-4313-e2fb-5e69646ab41f",
        "id": "V44pUSkfvWGQ"
      },
      "execution_count": 18,
      "outputs": [
        {
          "output_type": "execute_result",
          "data": {
            "image/png": "[encoded data removed]",
            "text/plain": [
              "<IPython.core.display.Image object>"
            ]
          },
          "metadata": {},
          "execution_count": 18
        }
      ]
    },
    {
      "cell_type": "markdown",
      "source": [
        "*Image: Indexing. Image captured from Made With ML Course.*"
      ],
      "metadata": {
        "id": "NQ6-7En9vWGT"
      }
    },
    {
      "cell_type": "code",
      "source": [
        "# Accessing the first element of the list\n",
        "print(week_days[0])\n",
        "\n",
        "# Accessing the second element of the list\n",
        "print(week_days[1])\n",
        "\n",
        "# Accessing the last element of the list\n",
        "print(week_days[-1])"
      ],
      "metadata": {
        "colab": {
          "base_uri": "https://localhost:8080/"
        },
        "id": "COQawje-Xd_T",
        "outputId": "9aa8216f-6ebe-4fe4-a7ce-2d8892f05113"
      },
      "execution_count": null,
      "outputs": [
        {
          "output_type": "stream",
          "name": "stdout",
          "text": [
            "Mon\n",
            "Tue\n",
            "Fri\n"
          ]
        }
      ]
    },
    {
      "cell_type": "markdown",
      "source": [
        "**Note: Indexing beyond length**\n",
        "\n",
        "What happens if we try to index beyond the length of a list?"
      ],
      "metadata": {
        "id": "xWlYWUiUxENw"
      }
    },
    {
      "cell_type": "code",
      "source": [
        "x = [3, \"hello\", 1.2]\n",
        "print (x[:100])\n",
        "print (len(x[:100]))"
      ],
      "metadata": {
        "colab": {
          "base_uri": "https://localhost:8080/"
        },
        "id": "YZGl_9b5xQco",
        "outputId": "5191920b-54f5-41cb-a20f-5a8c00f0b2d1"
      },
      "execution_count": 19,
      "outputs": [
        {
          "output_type": "stream",
          "name": "stdout",
          "text": [
            "[3, 'hello', 1.2]\n",
            "3\n"
          ]
        }
      ]
    },
    {
      "cell_type": "markdown",
      "source": [
        "Though this does produce results, we should always explicitly use the length of the list to index items from it to avoid incorrect assumptions for downstream processes."
      ],
      "metadata": {
        "id": "jHZaJpnTxWfu"
      }
    },
    {
      "cell_type": "markdown",
      "source": [
        "### Slicing a list"
      ],
      "metadata": {
        "id": "Pvs76wC8X4Ni"
      }
    },
    {
      "cell_type": "markdown",
      "source": [
        "Given a list, we can slice it to get any parts or combination of its elements forming another list."
      ],
      "metadata": {
        "id": "XpGaNm4LZdak"
      }
    },
    {
      "cell_type": "code",
      "source": [
        "# Get the elements from index 0 to 2. Index 2 is not included.\n",
        "week_days = ['Mon', 'Tue', 'Wed', 'Thur','Fri']\n",
        "week_days[0:2]"
      ],
      "metadata": {
        "colab": {
          "base_uri": "https://localhost:8080/"
        },
        "id": "eXWrg340ZiBL",
        "outputId": "254d72fc-a457-40cc-cf3a-56548ea635e3"
      },
      "execution_count": null,
      "outputs": [
        {
          "output_type": "execute_result",
          "data": {
            "text/plain": [
              "['Mon', 'Tue']"
            ]
          },
          "metadata": {},
          "execution_count": 5
        }
      ]
    },
    {
      "cell_type": "code",
      "source": [
        "# Get elements from the fourth last element to the last element\n",
        "# -1 starts at the last element 'Fri', -2 second last element `Thur'..... -4 to 'Tue'\n",
        "week_days[-4:]"
      ],
      "metadata": {
        "colab": {
          "base_uri": "https://localhost:8080/"
        },
        "id": "J3-uKs1UZpCR",
        "outputId": "2784b86a-b627-4ee6-fbbd-e6e733f4ca86"
      },
      "execution_count": null,
      "outputs": [
        {
          "output_type": "execute_result",
          "data": {
            "text/plain": [
              "['Tue', 'Wed', 'Thur', 'Fri']"
            ]
          },
          "metadata": {},
          "execution_count": 6
        }
      ]
    },
    {
      "cell_type": "code",
      "source": [
        "# Get all elements up to the fourth index\n",
        "week_days[:4]"
      ],
      "metadata": {
        "colab": {
          "base_uri": "https://localhost:8080/"
        },
        "id": "RZ2_JcKZZ-Iv",
        "outputId": "869cf79e-7b67-4d85-b0c3-cd35946d1911"
      },
      "execution_count": null,
      "outputs": [
        {
          "output_type": "execute_result",
          "data": {
            "text/plain": [
              "['Mon', 'Tue', 'Wed', 'Thur']"
            ]
          },
          "metadata": {},
          "execution_count": 7
        }
      ]
    },
    {
      "cell_type": "code",
      "source": [
        "# Get all elements from the second to the last index\n",
        "week_days[2:]"
      ],
      "metadata": {
        "colab": {
          "base_uri": "https://localhost:8080/"
        },
        "id": "214WAgkQaEon",
        "outputId": "99051bd3-066b-4bca-d338-25e1d70fa6c1"
      },
      "execution_count": null,
      "outputs": [
        {
          "output_type": "execute_result",
          "data": {
            "text/plain": [
              "['Wed', 'Thur', 'Fri']"
            ]
          },
          "metadata": {},
          "execution_count": 8
        }
      ]
    },
    {
      "cell_type": "markdown",
      "source": [
        "You can use `[:]` to copy the entire list."
      ],
      "metadata": {
        "id": "R4A03RrvaJrI"
      }
    },
    {
      "cell_type": "code",
      "source": [
        "new_week_days = week_days[:]\n",
        "print(new_week_days)"
      ],
      "metadata": {
        "colab": {
          "base_uri": "https://localhost:8080/"
        },
        "id": "MMNxtCXmaOr4",
        "outputId": "8f62d44f-7c75-4ed9-92dd-fc834f1eadcd"
      },
      "execution_count": null,
      "outputs": [
        {
          "output_type": "stream",
          "name": "stdout",
          "text": [
            "['Mon', 'Tue', 'Wed', 'Thur', 'Fri']\n"
          ]
        }
      ]
    },
    {
      "cell_type": "markdown",
      "source": [
        "### Changing elements in a list"
      ],
      "metadata": {
        "id": "WUzIIR-8aZKC"
      }
    },
    {
      "cell_type": "markdown",
      "source": [
        "Python lists are mutable. We can delete or change the elements of the list."
      ],
      "metadata": {
        "id": "rUAZp6rOaey2"
      }
    },
    {
      "cell_type": "code",
      "source": [
        "names = ['James', 'Jean', 'Sebastian', 'Prit']\n",
        "names"
      ],
      "metadata": {
        "colab": {
          "base_uri": "https://localhost:8080/"
        },
        "id": "2nKi3LT6ajTH",
        "outputId": "ed6922b3-d644-4dfc-bad8-8c8190da51a9"
      },
      "execution_count": null,
      "outputs": [
        {
          "output_type": "execute_result",
          "data": {
            "text/plain": [
              "['James', 'Jean', 'Sebastian', 'Prit']"
            ]
          },
          "metadata": {},
          "execution_count": 11
        }
      ]
    },
    {
      "cell_type": "code",
      "source": [
        "# Change 'Jean' to 'John' and 'Sebastian' to 'Seb'\n",
        "names[1:3] = ['John', 'Seb']\n",
        "names"
      ],
      "metadata": {
        "colab": {
          "base_uri": "https://localhost:8080/"
        },
        "id": "kbyJjtoKanPg",
        "outputId": "8a480505-da2a-4105-b8c7-3c2acf110d2e"
      },
      "execution_count": null,
      "outputs": [
        {
          "output_type": "execute_result",
          "data": {
            "text/plain": [
              "['James', 'John', 'Seb', 'Prit']"
            ]
          },
          "metadata": {},
          "execution_count": 12
        }
      ]
    },
    {
      "cell_type": "code",
      "source": [
        "# Change 'Prit' to 'Sam'\n",
        "names[-1] = 'Sam'\n",
        "names"
      ],
      "metadata": {
        "colab": {
          "base_uri": "https://localhost:8080/"
        },
        "id": "6gG5MRdTaw4c",
        "outputId": "ceb3d15e-ad8d-45e9-b7c4-cb45c1e55ab6"
      },
      "execution_count": null,
      "outputs": [
        {
          "output_type": "execute_result",
          "data": {
            "text/plain": [
              "['James', 'John', 'Seb', 'Sam']"
            ]
          },
          "metadata": {},
          "execution_count": 13
        }
      ]
    },
    {
      "cell_type": "code",
      "source": [
        "# Change `James` to `Franco`\n",
        "names[0] = 'Franco'\n",
        "names"
      ],
      "metadata": {
        "colab": {
          "base_uri": "https://localhost:8080/"
        },
        "id": "lm1SuvwWa42R",
        "outputId": "e9f0ad25-5883-4de8-f84d-05f5368d7ba0"
      },
      "execution_count": null,
      "outputs": [
        {
          "output_type": "execute_result",
          "data": {
            "text/plain": [
              "['Franco', 'John', 'Seb', 'Sam']"
            ]
          },
          "metadata": {},
          "execution_count": 14
        }
      ]
    },
    {
      "cell_type": "markdown",
      "source": [
        "In order to delete a given element in a list, we can empty slice it but the better way to delete element is to use `del` keyword."
      ],
      "metadata": {
        "id": "mCxtdWprbEnb"
      }
    },
    {
      "cell_type": "code",
      "source": [
        "# Delete 'John' in names list\n",
        "del names[1]\n",
        "names"
      ],
      "metadata": {
        "colab": {
          "base_uri": "https://localhost:8080/"
        },
        "id": "-WnwN7DGbIvP",
        "outputId": "dd241fd5-c700-4b55-f37f-d6d7324c5385"
      },
      "execution_count": null,
      "outputs": [
        {
          "output_type": "execute_result",
          "data": {
            "text/plain": [
              "['Franco', 'Seb', 'Sam']"
            ]
          },
          "metadata": {},
          "execution_count": 15
        }
      ]
    },
    {
      "cell_type": "markdown",
      "source": [
        "If you know the index of the element you want to remove, you can use `pop()`. If you don't provide the index in `pop()`, the last element will be deleted."
      ],
      "metadata": {
        "id": "xTEefNrjbROp"
      }
    },
    {
      "cell_type": "code",
      "source": [
        "names = ['James', 'Jean', 'Sebastian', 'Prit']\n",
        "names.pop(2)\n",
        "names"
      ],
      "metadata": {
        "colab": {
          "base_uri": "https://localhost:8080/"
        },
        "id": "X2ZnOnJcbY6b",
        "outputId": "e040e587-43e1-4a71-9200-a3e085278174"
      },
      "execution_count": null,
      "outputs": [
        {
          "output_type": "execute_result",
          "data": {
            "text/plain": [
              "['James', 'Jean', 'Prit']"
            ]
          },
          "metadata": {},
          "execution_count": 16
        }
      ]
    },
    {
      "cell_type": "markdown",
      "source": [
        "Also, we can use `remove()` to delete the element provided inside the `remove()` method."
      ],
      "metadata": {
        "id": "5Q22l_Dubfww"
      }
    },
    {
      "cell_type": "code",
      "source": [
        "names = ['James', 'Jean', 'Sebastian', 'Prit']\n",
        "names.remove('James')\n",
        "names"
      ],
      "metadata": {
        "colab": {
          "base_uri": "https://localhost:8080/"
        },
        "id": "d0OVcFppbmc2",
        "outputId": "138633dd-d899-4085-8874-baec19807e27"
      },
      "execution_count": null,
      "outputs": [
        {
          "output_type": "execute_result",
          "data": {
            "text/plain": [
              "['Jean', 'Sebastian', 'Prit']"
            ]
          },
          "metadata": {},
          "execution_count": 17
        }
      ]
    },
    {
      "cell_type": "markdown",
      "source": [
        "We can also use `append()` to add element to the list."
      ],
      "metadata": {
        "id": "-8WtI2MXbqDR"
      }
    },
    {
      "cell_type": "code",
      "source": [
        "# Adding the new elements in list\n",
        "names = ['James', 'Jean', 'Sebastian', 'Prit']\n",
        "names.append('Jac')\n",
        "names.append('Jess')\n",
        "names"
      ],
      "metadata": {
        "colab": {
          "base_uri": "https://localhost:8080/"
        },
        "id": "jJKfwjqbbuTo",
        "outputId": "cf4222ed-7b1a-445f-e7d9-f0272034505d"
      },
      "execution_count": null,
      "outputs": [
        {
          "output_type": "execute_result",
          "data": {
            "text/plain": [
              "['James', 'Jean', 'Sebastian', 'Prit', 'Jac', 'Jess']"
            ]
          },
          "metadata": {},
          "execution_count": 18
        }
      ]
    },
    {
      "cell_type": "markdown",
      "source": [
        "### Traversing a list"
      ],
      "metadata": {
        "id": "scn-V3ymb0sZ"
      }
    },
    {
      "cell_type": "markdown",
      "source": [
        "There are times that we may need to go over the list to read the elements of the list or perform iterative operations. We can use `for` loop to traverse through the list."
      ],
      "metadata": {
        "id": "qvA41Nbub7hl"
      }
    },
    {
      "cell_type": "code",
      "source": [
        "# Given a list names, use for loop to display its elements\n",
        "names = ['James', 'Jean', 'Sebastian', 'Prit']\n",
        "\n",
        "for name in names:\n",
        "    print(name)"
      ],
      "metadata": {
        "colab": {
          "base_uri": "https://localhost:8080/"
        },
        "id": "z7z8hqzVcARa",
        "outputId": "dcb11b75-7268-4d60-f129-7787513d0a6a"
      },
      "execution_count": null,
      "outputs": [
        {
          "output_type": "stream",
          "name": "stdout",
          "text": [
            "James\n",
            "Jean\n",
            "Sebastian\n",
            "Prit\n"
          ]
        }
      ]
    },
    {
      "cell_type": "code",
      "source": [
        "# Given a list nums, add 1 to the first element, 2 to the second, 3 to 3rd element, 4 to 4th element\n",
        "# Example: nums = [1,2,3,6] will be nums_new = [2,4,6,10]\n",
        "nums = [1, 2, 3, 6]\n",
        "nums_new = []\n",
        "\n",
        "for i in range(len(nums)):  # len(nums) gives the length of the list\n",
        "    num = nums[i] + i + 1\n",
        "    nums_new.append(num)\n",
        "\n",
        "nums_new"
      ],
      "metadata": {
        "colab": {
          "base_uri": "https://localhost:8080/"
        },
        "id": "4zvmij-kcExE",
        "outputId": "9b772713-3bac-4f2e-c814-762e13aed297"
      },
      "execution_count": null,
      "outputs": [
        {
          "output_type": "execute_result",
          "data": {
            "text/plain": [
              "[2, 4, 6, 10]"
            ]
          },
          "metadata": {},
          "execution_count": 20
        }
      ]
    },
    {
      "cell_type": "markdown",
      "source": [
        "### Operations on list"
      ],
      "metadata": {
        "id": "PkYyygwGcTwe"
      }
    },
    {
      "cell_type": "code",
      "source": [
        "# Concatenating two lists\n",
        "a = [1,2,3]\n",
        "b = [4,5,6]\n",
        "\n",
        "c = a + b\n",
        "c"
      ],
      "metadata": {
        "colab": {
          "base_uri": "https://localhost:8080/"
        },
        "id": "yqk3TPMmq4HA",
        "outputId": "0abeeb36-e5e0-472c-d233-696ccd43c806"
      },
      "execution_count": 1,
      "outputs": [
        {
          "output_type": "execute_result",
          "data": {
            "text/plain": [
              "[1, 2, 3, 4, 5, 6]"
            ]
          },
          "metadata": {},
          "execution_count": 1
        }
      ]
    },
    {
      "cell_type": "code",
      "source": [
        "# We can also use * operator to repeat a list a number of times\n",
        "print([None] * 5)\n",
        "print([True] * 4)\n",
        "print([1,2,4,5] * 2)"
      ],
      "metadata": {
        "colab": {
          "base_uri": "https://localhost:8080/"
        },
        "id": "LFESuS6VrA5s",
        "outputId": "71eb7b55-df34-41af-c5b7-2c289ed88eea"
      },
      "execution_count": 3,
      "outputs": [
        {
          "output_type": "stream",
          "name": "stdout",
          "text": [
            "[None, None, None, None, None]\n",
            "[True, True, True, True]\n",
            "[1, 2, 4, 5, 1, 2, 4, 5]\n"
          ]
        }
      ]
    },
    {
      "cell_type": "markdown",
      "source": [
        "### Nested lists"
      ],
      "metadata": {
        "id": "9i9m8-5frOhz"
      }
    },
    {
      "cell_type": "code",
      "source": [
        "# Creating a list in other list\n",
        "nested_list = [1, 2, 3, ['a', 'b', 'c']]\n",
        "\n",
        "\n",
        "# Get the ['a', 'b', 'c'] from the nested_list\n",
        "nested_list[3]"
      ],
      "metadata": {
        "colab": {
          "base_uri": "https://localhost:8080/"
        },
        "id": "6D8cDhnkrWKo",
        "outputId": "bc46b6b9-37df-42d1-8d4f-6fea2ba8ed53"
      },
      "execution_count": 4,
      "outputs": [
        {
          "output_type": "execute_result",
          "data": {
            "text/plain": [
              "['a', 'b', 'c']"
            ]
          },
          "metadata": {},
          "execution_count": 4
        }
      ]
    },
    {
      "cell_type": "code",
      "source": [
        "# Indexing and slicing a nested list is quite similar to normal list\n",
        "nested_list[1]"
      ],
      "metadata": {
        "colab": {
          "base_uri": "https://localhost:8080/"
        },
        "id": "eDRSwpdMr9HT",
        "outputId": "939cc218-aac5-4604-8464-ec697ddf8006"
      },
      "execution_count": 5,
      "outputs": [
        {
          "output_type": "execute_result",
          "data": {
            "text/plain": [
              "2"
            ]
          },
          "metadata": {},
          "execution_count": 5
        }
      ]
    },
    {
      "cell_type": "markdown",
      "source": [
        "### List methods"
      ],
      "metadata": {
        "id": "8EGSaZRpsEjD"
      }
    },
    {
      "cell_type": "markdown",
      "source": [
        "Python also offers methods which make it easy to work with lists. We have already been using some of the list methods such as pop() and append() but let's review some more methods."
      ],
      "metadata": {
        "id": "HCFgOzRzsLvK"
      }
    },
    {
      "cell_type": "code",
      "source": [
        "# Sorting a list with sort()\n",
        "even_numbers = [2, 14, 16, 12, 20, 8, 10]\n",
        "even_numbers.sort()\n",
        "even_numbers"
      ],
      "metadata": {
        "colab": {
          "base_uri": "https://localhost:8080/"
        },
        "id": "KUqM1ckTsYZH",
        "outputId": "9828f282-ba11-42f2-8042-0415bb44d2aa"
      },
      "execution_count": 6,
      "outputs": [
        {
          "output_type": "execute_result",
          "data": {
            "text/plain": [
              "[2, 8, 10, 12, 14, 16, 20]"
            ]
          },
          "metadata": {},
          "execution_count": 6
        }
      ]
    },
    {
      "cell_type": "code",
      "source": [
        "# Reversing a string with reverse()\n",
        "even_numbers.reverse()\n",
        "even_numbers"
      ],
      "metadata": {
        "colab": {
          "base_uri": "https://localhost:8080/"
        },
        "id": "BoglmEF7sjAw",
        "outputId": "1e8defc4-edec-4fb5-c6fe-efa935a4b031"
      },
      "execution_count": 7,
      "outputs": [
        {
          "output_type": "execute_result",
          "data": {
            "text/plain": [
              "[20, 16, 14, 12, 10, 8, 2]"
            ]
          },
          "metadata": {},
          "execution_count": 7
        }
      ]
    },
    {
      "cell_type": "code",
      "source": [
        "# Adding elements to a list with append()\n",
        "even_numbers = [2, 14, 16, 12, 20, 8, 10]\n",
        "even_numbers.append(40)\n",
        "even_numbers"
      ],
      "metadata": {
        "colab": {
          "base_uri": "https://localhost:8080/"
        },
        "id": "B0oCy5-BsptJ",
        "outputId": "345f644f-92ac-4b20-8cf0-a750def7cb1f"
      },
      "execution_count": 8,
      "outputs": [
        {
          "output_type": "execute_result",
          "data": {
            "text/plain": [
              "[2, 14, 16, 12, 20, 8, 10, 40]"
            ]
          },
          "metadata": {},
          "execution_count": 8
        }
      ]
    },
    {
      "cell_type": "code",
      "source": [
        "# Removing the first element of a list\n",
        "even_numbers.remove(2)\n",
        "even_numbers"
      ],
      "metadata": {
        "colab": {
          "base_uri": "https://localhost:8080/"
        },
        "id": "A6ExIpa5szWj",
        "outputId": "deac7fe8-97d1-40fa-d561-c246aa7a018d"
      },
      "execution_count": 9,
      "outputs": [
        {
          "output_type": "execute_result",
          "data": {
            "text/plain": [
              "[14, 16, 12, 20, 8, 10, 40]"
            ]
          },
          "metadata": {},
          "execution_count": 9
        }
      ]
    },
    {
      "cell_type": "code",
      "source": [
        "# Return the element of the list at index x\n",
        "even_numbers = [2,14,16,12,20,8,10]\n",
        "\n",
        "# Return the item at the 1st index\n",
        "even_numbers.pop(1)"
      ],
      "metadata": {
        "colab": {
          "base_uri": "https://localhost:8080/"
        },
        "id": "j2t93LQfs35a",
        "outputId": "d8178850-909d-415b-f29e-c4b82456be0c"
      },
      "execution_count": 10,
      "outputs": [
        {
          "output_type": "execute_result",
          "data": {
            "text/plain": [
              "14"
            ]
          },
          "metadata": {},
          "execution_count": 10
        }
      ]
    },
    {
      "cell_type": "code",
      "source": [
        "# pop() without index specified will return the last element of the list\n",
        "even_numbers = [2,14,16,12,20,8,10]\n",
        "even_numbers.pop()"
      ],
      "metadata": {
        "colab": {
          "base_uri": "https://localhost:8080/"
        },
        "id": "m1gEe2sOs-iu",
        "outputId": "659911f8-5be5-412d-da7b-4ebb343f4e6d"
      },
      "execution_count": 11,
      "outputs": [
        {
          "output_type": "execute_result",
          "data": {
            "text/plain": [
              "10"
            ]
          },
          "metadata": {},
          "execution_count": 11
        }
      ]
    },
    {
      "cell_type": "code",
      "source": [
        "# Count a number of times an element appear in a list\n",
        "even_numbers = [2, 2, 4, 6, 8]\n",
        "even_numbers.count(2)"
      ],
      "metadata": {
        "colab": {
          "base_uri": "https://localhost:8080/"
        },
        "id": "OWYYbi_mtCS0",
        "outputId": "5019f657-1e0d-4da6-829b-fb80c04e338a"
      },
      "execution_count": 12,
      "outputs": [
        {
          "output_type": "execute_result",
          "data": {
            "text/plain": [
              "2"
            ]
          },
          "metadata": {},
          "execution_count": 12
        }
      ]
    },
    {
      "cell_type": "markdown",
      "source": [
        "### List and strings"
      ],
      "metadata": {
        "id": "NlKC-gxBtRix"
      }
    },
    {
      "cell_type": "markdown",
      "source": [
        "We previously have learned about strings. A string is a sequence of characters. List is a sequence of values."
      ],
      "metadata": {
        "id": "PohrDCa7tY8y"
      }
    },
    {
      "cell_type": "code",
      "source": [
        "# We can convert a string into list\n",
        "str1 = 'Apple'\n",
        "list(str1)"
      ],
      "metadata": {
        "colab": {
          "base_uri": "https://localhost:8080/"
        },
        "id": "-wb0jfxqti_v",
        "outputId": "5ccc363f-9428-4c52-fbd1-8f94a5ff0bf7"
      },
      "execution_count": 13,
      "outputs": [
        {
          "output_type": "execute_result",
          "data": {
            "text/plain": [
              "['A', 'p', 'p', 'l', 'e']"
            ]
          },
          "metadata": {},
          "execution_count": 13
        }
      ]
    },
    {
      "cell_type": "code",
      "source": [
        "# Splitting a string produces a list of individual words\n",
        "str2 = \"List and Strings\"\n",
        "str2.split()"
      ],
      "metadata": {
        "colab": {
          "base_uri": "https://localhost:8080/"
        },
        "id": "GCIgRTFytq9L",
        "outputId": "c8fe9181-7a49-401f-fb56-2c5fd6a4e6e7"
      },
      "execution_count": 14,
      "outputs": [
        {
          "output_type": "execute_result",
          "data": {
            "text/plain": [
              "['List', 'and', 'Strings']"
            ]
          },
          "metadata": {},
          "execution_count": 14
        }
      ]
    },
    {
      "cell_type": "markdown",
      "source": [
        "The `split()` string method allows to specify the character to use a boundary while splitting the string. It's called a delimiter."
      ],
      "metadata": {
        "id": "NbpRakPMtymD"
      }
    },
    {
      "cell_type": "code",
      "source": [
        "str3 = \"state-of-the-art\"\n",
        "str3.split('-')"
      ],
      "metadata": {
        "colab": {
          "base_uri": "https://localhost:8080/"
        },
        "id": "cLVGDhXJt9FQ",
        "outputId": "4607b708-d9d3-4272-dbfa-d119cf5187b7"
      },
      "execution_count": 15,
      "outputs": [
        {
          "output_type": "execute_result",
          "data": {
            "text/plain": [
              "['state', 'of', 'the', 'art']"
            ]
          },
          "metadata": {},
          "execution_count": 15
        }
      ]
    },
    {
      "cell_type": "markdown",
      "source": [
        "![rainbow](https://github.com/ancilcleetus/My-Learning-Journey/assets/25684256/839c3524-2a1d-4779-85a0-83c562e1e5e5)"
      ],
      "metadata": {
        "id": "mW6OltNiDMGR"
      }
    },
    {
      "cell_type": "markdown",
      "source": [
        "# 99. References"
      ],
      "metadata": {
        "id": "28wUultLDMGV"
      }
    },
    {
      "cell_type": "markdown",
      "source": [
        "- [**Made With ML Course**](https://madewithml.com/)"
      ],
      "metadata": {
        "id": "T8guIRUNDVD3"
      }
    },
    {
      "cell_type": "markdown",
      "source": [
        "![rainbow](https://github.com/ancilcleetus/My-Learning-Journey/assets/25684256/839c3524-2a1d-4779-85a0-83c562e1e5e5)"
      ],
      "metadata": {
        "id": "U897-NGnYhHk"
      }
    }
  ]
}