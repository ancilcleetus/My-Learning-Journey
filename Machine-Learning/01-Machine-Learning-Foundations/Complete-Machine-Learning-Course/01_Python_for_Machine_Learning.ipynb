{
  "nbformat": 4,
  "nbformat_minor": 0,
  "metadata": {
    "colab": {
      "provenance": []
    },
    "kernelspec": {
      "name": "python3",
      "display_name": "Python 3"
    },
    "language_info": {
      "name": "python"
    }
  },
  "cells": [
    {
      "cell_type": "markdown",
      "source": [
        "![rainbow](https://github.com/ancilcleetus/My-Learning-Journey/assets/25684256/839c3524-2a1d-4779-85a0-83c562e1e5e5)"
      ],
      "metadata": {
        "id": "uLR90WhedwER"
      }
    },
    {
      "cell_type": "markdown",
      "source": [
        "# 1. Intro to Python"
      ],
      "metadata": {
        "id": "bKim3KwyTp11"
      }
    },
    {
      "cell_type": "markdown",
      "source": [
        "Python is an interpreted, high-level, and general purpose programming language that was designed for efficiency, readability, and simplicity.\n",
        "\n",
        "Python design philosophy emphasizes simplicity and code readability. There are about 19 Python design guiding principles, the top 8 being:\n",
        "\n",
        "- Beautiful is better than ugly.\n",
        "\n",
        "- Explicit is better than implicit.\n",
        "\n",
        "- Simple is better than complex.\n",
        "\n",
        "- Complex is better than complicated.\n",
        "\n",
        "- Readability counts.\n",
        "\n",
        "- Now is better than never.\n",
        "\n",
        "- If the implementation is hard to explain, it's a bad idea.\n",
        "\n",
        "- If the implementation is easy to explain, it may be a good idea.\n",
        "\n",
        "More design rules can be found in the [Zen of Python](https://en.wikipedia.org/wiki/Zen_of_Python). You can also display them by importing this(`import this`) in any Python interpreter."
      ],
      "metadata": {
        "id": "lMZzenw2CMY-"
      }
    },
    {
      "cell_type": "code",
      "source": [
        "import this"
      ],
      "metadata": {
        "colab": {
          "base_uri": "https://localhost:8080/"
        },
        "id": "kHQl4rK2CduQ",
        "outputId": "732c41e0-d3f3-4354-b31a-5befc77ac83a"
      },
      "execution_count": null,
      "outputs": [
        {
          "output_type": "stream",
          "name": "stdout",
          "text": [
            "The Zen of Python, by Tim Peters\n",
            "\n",
            "Beautiful is better than ugly.\n",
            "Explicit is better than implicit.\n",
            "Simple is better than complex.\n",
            "Complex is better than complicated.\n",
            "Flat is better than nested.\n",
            "Sparse is better than dense.\n",
            "Readability counts.\n",
            "Special cases aren't special enough to break the rules.\n",
            "Although practicality beats purity.\n",
            "Errors should never pass silently.\n",
            "Unless explicitly silenced.\n",
            "In the face of ambiguity, refuse the temptation to guess.\n",
            "There should be one-- and preferably only one --obvious way to do it.\n",
            "Although that way may not be obvious at first unless you're Dutch.\n",
            "Now is better than never.\n",
            "Although never is often better than *right* now.\n",
            "If the implementation is hard to explain, it's a bad idea.\n",
            "If the implementation is easy to explain, it may be a good idea.\n",
            "Namespaces are one honking great idea -- let's do more of those!\n"
          ]
        }
      ]
    },
    {
      "cell_type": "markdown",
      "source": [
        "Python is a popular and go-to programming language in different tech communities, most notable in machine learning and data science. It is sometimes referred to as [“batteries included”](https://docs.python.org/3/tutorial/stdlib.html) due to its rich standard library. Below are more elaborated advantages of Python:\n",
        "\n",
        "- It is simple to read and write: Python syntaxes are very easy to write and easy to recall as well.\n",
        "\n",
        "- It has a beautiful design and built-in data types.\n",
        "\n",
        "- It has thousands of great libraries in many disciplines.\n",
        "\n",
        "- Supportive communities: Good documentation, courses, tutorials, social groups.\n",
        "\n",
        "- Easy to learn and use due to its simple syntaxes which feel like a natural language.\n"
      ],
      "metadata": {
        "id": "UmoBi5KDDGUv"
      }
    },
    {
      "cell_type": "markdown",
      "source": [
        "![rainbow](https://github.com/ancilcleetus/My-Learning-Journey/assets/25684256/839c3524-2a1d-4779-85a0-83c562e1e5e5)"
      ],
      "metadata": {
        "id": "-pgDbDYKEk74"
      }
    },
    {
      "cell_type": "markdown",
      "source": [
        "# 2. Variables, Numbers, and Strings"
      ],
      "metadata": {
        "id": "yfiqc0RoEk76"
      }
    },
    {
      "cell_type": "markdown",
      "source": [
        "Variables are containers for holding data and they're defined by a name and value."
      ],
      "metadata": {
        "id": "WuHP9WnHFGs_"
      }
    },
    {
      "cell_type": "code",
      "source": [
        "# Variables\n",
        "\n",
        "from IPython import display\n",
        "display.Image(\"data/images/01-Machine-Learning-Foundations/Complete-Machine-Learning-Course/01_Python_for_Machine_Learning-01.png\")"
      ],
      "metadata": {
        "colab": {
          "base_uri": "https://localhost:8080/",
          "height": 194
        },
        "id": "jEsJbs5OFJHe",
        "outputId": "dade0411-5fe7-44c6-eebb-7509c2da95ca"
      },
      "execution_count": null,
      "outputs": [
        {
          "output_type": "execute_result",
          "data": {
            "image/png": "[encoded data removed]",
            "text/plain": [
              "<IPython.core.display.Image object>"
            ]
          },
          "metadata": {},
          "execution_count": 17
        }
      ]
    },
    {
      "cell_type": "markdown",
      "source": [
        "*Image: Variables. Image captured from Made With ML Course.*"
      ],
      "metadata": {
        "id": "ZX-BDKFeCwm7"
      }
    },
    {
      "cell_type": "markdown",
      "source": [
        "**Note**\n",
        "\n",
        "Here we use the variable name `x` in our examples but when you're working on a specific task, be sure to be explicit (ex. `first_name`) when creating variables (applies to functions, classes, etc. as well)."
      ],
      "metadata": {
        "id": "afftQJyGFesF"
      }
    },
    {
      "cell_type": "markdown",
      "source": [
        "## Variables"
      ],
      "metadata": {
        "id": "0jtpfqrGFzX2"
      }
    },
    {
      "cell_type": "markdown",
      "source": [
        "Below are quick notes about Python variables and other most important things to know before writing actual Python code:\n",
        "\n",
        "- A variable is a location in memory where we store the data.\n",
        "\n",
        "- A variable in Python can either be of 4 data types: integer, float, string or a boolean. Data type specifies the category of the variables.\n",
        "\n",
        "- We can use `type(variable_name)` to find the type of given `variable_name`.\n",
        "\n",
        "- In Python, we use `#` to add comments. Comments do not change anything and are not compiled.\n",
        "\n",
        "- If your comment is longer than one line, you can use triple quotes. The lines inside triple quotes are ignored during runtime.\n",
        "\n",
        "    ```\n",
        "    \"\"\"\n",
        "    In Python, there is no official way to write long comments, but you can use triple quotes.\n",
        "    The sentence between triple quote are ignored at runtime. You can also use single quote('''....''').\n",
        "    Python treats single quote as double quotes in many scanerios such as strings representation.\n",
        "\n",
        "    Guido also agreed it works: https://x.com/gvanrossum/status/112670605505077248\n",
        "    \"\"\"\n",
        "    ```\n",
        "\n",
        "\n",
        "- We also use `=` to assign a value to the name of variable. Example: `var_name = 1`. Note that it's different to comparison operator of equal to (`==`).\n",
        "\n",
        "- We can use `print()` to display the value of variable or the results of any expression.\n",
        "\n",
        "- Each line of the code start on the new line.\n",
        "\n",
        "- Be aware of indentations. Python is serious about them."
      ],
      "metadata": {
        "id": "NzU2GCqkHXvr"
      }
    },
    {
      "cell_type": "markdown",
      "source": [
        "**Note: Rich Library**\n",
        "\n",
        "Rich is a Python library for writing rich text (with color and style) to the terminal or notebooks, and for displaying advanced content such as tables, markdown, and syntax highlighted code.\n",
        "\n",
        "Use Rich to make your applications visually appealing and present data in a more readable way."
      ],
      "metadata": {
        "id": "foRZ-Hegn0Ab"
      }
    },
    {
      "cell_type": "code",
      "source": [
        "!pip3 install \"rich[jupyter]\""
      ],
      "metadata": {
        "colab": {
          "base_uri": "https://localhost:8080/"
        },
        "id": "mX6OXir8f9LW",
        "outputId": "b2345d8f-a841-4a50-d87a-4c2064e9f3ff"
      },
      "execution_count": 1,
      "outputs": [
        {
          "output_type": "stream",
          "name": "stdout",
          "text": [
            "Requirement already satisfied: rich[jupyter] in /usr/local/lib/python3.10/dist-packages (13.9.3)\n",
            "Requirement already satisfied: markdown-it-py>=2.2.0 in /usr/local/lib/python3.10/dist-packages (from rich[jupyter]) (3.0.0)\n",
            "Requirement already satisfied: pygments<3.0.0,>=2.13.0 in /usr/local/lib/python3.10/dist-packages (from rich[jupyter]) (2.18.0)\n",
            "Requirement already satisfied: typing-extensions<5.0,>=4.0.0 in /usr/local/lib/python3.10/dist-packages (from rich[jupyter]) (4.12.2)\n",
            "Requirement already satisfied: ipywidgets<9,>=7.5.1 in /usr/local/lib/python3.10/dist-packages (from rich[jupyter]) (7.7.1)\n",
            "Requirement already satisfied: ipykernel>=4.5.1 in /usr/local/lib/python3.10/dist-packages (from ipywidgets<9,>=7.5.1->rich[jupyter]) (5.5.6)\n",
            "Requirement already satisfied: ipython-genutils~=0.2.0 in /usr/local/lib/python3.10/dist-packages (from ipywidgets<9,>=7.5.1->rich[jupyter]) (0.2.0)\n",
            "Requirement already satisfied: traitlets>=4.3.1 in /usr/local/lib/python3.10/dist-packages (from ipywidgets<9,>=7.5.1->rich[jupyter]) (5.7.1)\n",
            "Requirement already satisfied: widgetsnbextension~=3.6.0 in /usr/local/lib/python3.10/dist-packages (from ipywidgets<9,>=7.5.1->rich[jupyter]) (3.6.10)\n",
            "Requirement already satisfied: ipython>=4.0.0 in /usr/local/lib/python3.10/dist-packages (from ipywidgets<9,>=7.5.1->rich[jupyter]) (7.34.0)\n",
            "Requirement already satisfied: jupyterlab-widgets>=1.0.0 in /usr/local/lib/python3.10/dist-packages (from ipywidgets<9,>=7.5.1->rich[jupyter]) (3.0.13)\n",
            "Requirement already satisfied: mdurl~=0.1 in /usr/local/lib/python3.10/dist-packages (from markdown-it-py>=2.2.0->rich[jupyter]) (0.1.2)\n",
            "Requirement already satisfied: jupyter-client in /usr/local/lib/python3.10/dist-packages (from ipykernel>=4.5.1->ipywidgets<9,>=7.5.1->rich[jupyter]) (6.1.12)\n",
            "Requirement already satisfied: tornado>=4.2 in /usr/local/lib/python3.10/dist-packages (from ipykernel>=4.5.1->ipywidgets<9,>=7.5.1->rich[jupyter]) (6.3.3)\n",
            "Requirement already satisfied: setuptools>=18.5 in /usr/local/lib/python3.10/dist-packages (from ipython>=4.0.0->ipywidgets<9,>=7.5.1->rich[jupyter]) (75.1.0)\n",
            "Collecting jedi>=0.16 (from ipython>=4.0.0->ipywidgets<9,>=7.5.1->rich[jupyter])\n",
            "  Downloading jedi-0.19.1-py2.py3-none-any.whl.metadata (22 kB)\n",
            "Requirement already satisfied: decorator in /usr/local/lib/python3.10/dist-packages (from ipython>=4.0.0->ipywidgets<9,>=7.5.1->rich[jupyter]) (4.4.2)\n",
            "Requirement already satisfied: pickleshare in /usr/local/lib/python3.10/dist-packages (from ipython>=4.0.0->ipywidgets<9,>=7.5.1->rich[jupyter]) (0.7.5)\n",
            "Requirement already satisfied: prompt-toolkit!=3.0.0,!=3.0.1,<3.1.0,>=2.0.0 in /usr/local/lib/python3.10/dist-packages (from ipython>=4.0.0->ipywidgets<9,>=7.5.1->rich[jupyter]) (3.0.48)\n",
            "Requirement already satisfied: backcall in /usr/local/lib/python3.10/dist-packages (from ipython>=4.0.0->ipywidgets<9,>=7.5.1->rich[jupyter]) (0.2.0)\n",
            "Requirement already satisfied: matplotlib-inline in /usr/local/lib/python3.10/dist-packages (from ipython>=4.0.0->ipywidgets<9,>=7.5.1->rich[jupyter]) (0.1.7)\n",
            "Requirement already satisfied: pexpect>4.3 in /usr/local/lib/python3.10/dist-packages (from ipython>=4.0.0->ipywidgets<9,>=7.5.1->rich[jupyter]) (4.9.0)\n",
            "Requirement already satisfied: notebook>=4.4.1 in /usr/local/lib/python3.10/dist-packages (from widgetsnbextension~=3.6.0->ipywidgets<9,>=7.5.1->rich[jupyter]) (6.5.5)\n",
            "Requirement already satisfied: parso<0.9.0,>=0.8.3 in /usr/local/lib/python3.10/dist-packages (from jedi>=0.16->ipython>=4.0.0->ipywidgets<9,>=7.5.1->rich[jupyter]) (0.8.4)\n",
            "Requirement already satisfied: jinja2 in /usr/local/lib/python3.10/dist-packages (from notebook>=4.4.1->widgetsnbextension~=3.6.0->ipywidgets<9,>=7.5.1->rich[jupyter]) (3.1.4)\n",
            "Requirement already satisfied: pyzmq<25,>=17 in /usr/local/lib/python3.10/dist-packages (from notebook>=4.4.1->widgetsnbextension~=3.6.0->ipywidgets<9,>=7.5.1->rich[jupyter]) (24.0.1)\n",
            "Requirement already satisfied: argon2-cffi in /usr/local/lib/python3.10/dist-packages (from notebook>=4.4.1->widgetsnbextension~=3.6.0->ipywidgets<9,>=7.5.1->rich[jupyter]) (23.1.0)\n",
            "Requirement already satisfied: jupyter-core>=4.6.1 in /usr/local/lib/python3.10/dist-packages (from notebook>=4.4.1->widgetsnbextension~=3.6.0->ipywidgets<9,>=7.5.1->rich[jupyter]) (5.7.2)\n",
            "Requirement already satisfied: nbformat in /usr/local/lib/python3.10/dist-packages (from notebook>=4.4.1->widgetsnbextension~=3.6.0->ipywidgets<9,>=7.5.1->rich[jupyter]) (5.10.4)\n",
            "Requirement already satisfied: nbconvert>=5 in /usr/local/lib/python3.10/dist-packages (from notebook>=4.4.1->widgetsnbextension~=3.6.0->ipywidgets<9,>=7.5.1->rich[jupyter]) (6.5.4)\n",
            "Requirement already satisfied: nest-asyncio>=1.5 in /usr/local/lib/python3.10/dist-packages (from notebook>=4.4.1->widgetsnbextension~=3.6.0->ipywidgets<9,>=7.5.1->rich[jupyter]) (1.6.0)\n",
            "Requirement already satisfied: Send2Trash>=1.8.0 in /usr/local/lib/python3.10/dist-packages (from notebook>=4.4.1->widgetsnbextension~=3.6.0->ipywidgets<9,>=7.5.1->rich[jupyter]) (1.8.3)\n",
            "Requirement already satisfied: terminado>=0.8.3 in /usr/local/lib/python3.10/dist-packages (from notebook>=4.4.1->widgetsnbextension~=3.6.0->ipywidgets<9,>=7.5.1->rich[jupyter]) (0.18.1)\n",
            "Requirement already satisfied: prometheus-client in /usr/local/lib/python3.10/dist-packages (from notebook>=4.4.1->widgetsnbextension~=3.6.0->ipywidgets<9,>=7.5.1->rich[jupyter]) (0.21.0)\n",
            "Requirement already satisfied: nbclassic>=0.4.7 in /usr/local/lib/python3.10/dist-packages (from notebook>=4.4.1->widgetsnbextension~=3.6.0->ipywidgets<9,>=7.5.1->rich[jupyter]) (1.1.0)\n",
            "Requirement already satisfied: python-dateutil>=2.1 in /usr/local/lib/python3.10/dist-packages (from jupyter-client->ipykernel>=4.5.1->ipywidgets<9,>=7.5.1->rich[jupyter]) (2.8.2)\n",
            "Requirement already satisfied: ptyprocess>=0.5 in /usr/local/lib/python3.10/dist-packages (from pexpect>4.3->ipython>=4.0.0->ipywidgets<9,>=7.5.1->rich[jupyter]) (0.7.0)\n",
            "Requirement already satisfied: wcwidth in /usr/local/lib/python3.10/dist-packages (from prompt-toolkit!=3.0.0,!=3.0.1,<3.1.0,>=2.0.0->ipython>=4.0.0->ipywidgets<9,>=7.5.1->rich[jupyter]) (0.2.13)\n",
            "Requirement already satisfied: platformdirs>=2.5 in /usr/local/lib/python3.10/dist-packages (from jupyter-core>=4.6.1->notebook>=4.4.1->widgetsnbextension~=3.6.0->ipywidgets<9,>=7.5.1->rich[jupyter]) (4.3.6)\n",
            "Requirement already satisfied: notebook-shim>=0.2.3 in /usr/local/lib/python3.10/dist-packages (from nbclassic>=0.4.7->notebook>=4.4.1->widgetsnbextension~=3.6.0->ipywidgets<9,>=7.5.1->rich[jupyter]) (0.2.4)\n",
            "Requirement already satisfied: lxml in /usr/local/lib/python3.10/dist-packages (from nbconvert>=5->notebook>=4.4.1->widgetsnbextension~=3.6.0->ipywidgets<9,>=7.5.1->rich[jupyter]) (4.9.4)\n",
            "Requirement already satisfied: beautifulsoup4 in /usr/local/lib/python3.10/dist-packages (from nbconvert>=5->notebook>=4.4.1->widgetsnbextension~=3.6.0->ipywidgets<9,>=7.5.1->rich[jupyter]) (4.12.3)\n",
            "Requirement already satisfied: bleach in /usr/local/lib/python3.10/dist-packages (from nbconvert>=5->notebook>=4.4.1->widgetsnbextension~=3.6.0->ipywidgets<9,>=7.5.1->rich[jupyter]) (6.1.0)\n",
            "Requirement already satisfied: defusedxml in /usr/local/lib/python3.10/dist-packages (from nbconvert>=5->notebook>=4.4.1->widgetsnbextension~=3.6.0->ipywidgets<9,>=7.5.1->rich[jupyter]) (0.7.1)\n",
            "Requirement already satisfied: entrypoints>=0.2.2 in /usr/local/lib/python3.10/dist-packages (from nbconvert>=5->notebook>=4.4.1->widgetsnbextension~=3.6.0->ipywidgets<9,>=7.5.1->rich[jupyter]) (0.4)\n",
            "Requirement already satisfied: jupyterlab-pygments in /usr/local/lib/python3.10/dist-packages (from nbconvert>=5->notebook>=4.4.1->widgetsnbextension~=3.6.0->ipywidgets<9,>=7.5.1->rich[jupyter]) (0.3.0)\n",
            "Requirement already satisfied: MarkupSafe>=2.0 in /usr/local/lib/python3.10/dist-packages (from nbconvert>=5->notebook>=4.4.1->widgetsnbextension~=3.6.0->ipywidgets<9,>=7.5.1->rich[jupyter]) (3.0.2)\n",
            "Requirement already satisfied: mistune<2,>=0.8.1 in /usr/local/lib/python3.10/dist-packages (from nbconvert>=5->notebook>=4.4.1->widgetsnbextension~=3.6.0->ipywidgets<9,>=7.5.1->rich[jupyter]) (0.8.4)\n",
            "Requirement already satisfied: nbclient>=0.5.0 in /usr/local/lib/python3.10/dist-packages (from nbconvert>=5->notebook>=4.4.1->widgetsnbextension~=3.6.0->ipywidgets<9,>=7.5.1->rich[jupyter]) (0.10.0)\n",
            "Requirement already satisfied: packaging in /usr/local/lib/python3.10/dist-packages (from nbconvert>=5->notebook>=4.4.1->widgetsnbextension~=3.6.0->ipywidgets<9,>=7.5.1->rich[jupyter]) (24.1)\n",
            "Requirement already satisfied: pandocfilters>=1.4.1 in /usr/local/lib/python3.10/dist-packages (from nbconvert>=5->notebook>=4.4.1->widgetsnbextension~=3.6.0->ipywidgets<9,>=7.5.1->rich[jupyter]) (1.5.1)\n",
            "Requirement already satisfied: tinycss2 in /usr/local/lib/python3.10/dist-packages (from nbconvert>=5->notebook>=4.4.1->widgetsnbextension~=3.6.0->ipywidgets<9,>=7.5.1->rich[jupyter]) (1.3.0)\n",
            "Requirement already satisfied: fastjsonschema>=2.15 in /usr/local/lib/python3.10/dist-packages (from nbformat->notebook>=4.4.1->widgetsnbextension~=3.6.0->ipywidgets<9,>=7.5.1->rich[jupyter]) (2.20.0)\n",
            "Requirement already satisfied: jsonschema>=2.6 in /usr/local/lib/python3.10/dist-packages (from nbformat->notebook>=4.4.1->widgetsnbextension~=3.6.0->ipywidgets<9,>=7.5.1->rich[jupyter]) (4.23.0)\n",
            "Requirement already satisfied: six>=1.5 in /usr/local/lib/python3.10/dist-packages (from python-dateutil>=2.1->jupyter-client->ipykernel>=4.5.1->ipywidgets<9,>=7.5.1->rich[jupyter]) (1.16.0)\n",
            "Requirement already satisfied: argon2-cffi-bindings in /usr/local/lib/python3.10/dist-packages (from argon2-cffi->notebook>=4.4.1->widgetsnbextension~=3.6.0->ipywidgets<9,>=7.5.1->rich[jupyter]) (21.2.0)\n",
            "Requirement already satisfied: attrs>=22.2.0 in /usr/local/lib/python3.10/dist-packages (from jsonschema>=2.6->nbformat->notebook>=4.4.1->widgetsnbextension~=3.6.0->ipywidgets<9,>=7.5.1->rich[jupyter]) (24.2.0)\n",
            "Requirement already satisfied: jsonschema-specifications>=2023.03.6 in /usr/local/lib/python3.10/dist-packages (from jsonschema>=2.6->nbformat->notebook>=4.4.1->widgetsnbextension~=3.6.0->ipywidgets<9,>=7.5.1->rich[jupyter]) (2024.10.1)\n",
            "Requirement already satisfied: referencing>=0.28.4 in /usr/local/lib/python3.10/dist-packages (from jsonschema>=2.6->nbformat->notebook>=4.4.1->widgetsnbextension~=3.6.0->ipywidgets<9,>=7.5.1->rich[jupyter]) (0.35.1)\n",
            "Requirement already satisfied: rpds-py>=0.7.1 in /usr/local/lib/python3.10/dist-packages (from jsonschema>=2.6->nbformat->notebook>=4.4.1->widgetsnbextension~=3.6.0->ipywidgets<9,>=7.5.1->rich[jupyter]) (0.20.0)\n",
            "Requirement already satisfied: jupyter-server<3,>=1.8 in /usr/local/lib/python3.10/dist-packages (from notebook-shim>=0.2.3->nbclassic>=0.4.7->notebook>=4.4.1->widgetsnbextension~=3.6.0->ipywidgets<9,>=7.5.1->rich[jupyter]) (1.24.0)\n",
            "Requirement already satisfied: cffi>=1.0.1 in /usr/local/lib/python3.10/dist-packages (from argon2-cffi-bindings->argon2-cffi->notebook>=4.4.1->widgetsnbextension~=3.6.0->ipywidgets<9,>=7.5.1->rich[jupyter]) (1.17.1)\n",
            "Requirement already satisfied: soupsieve>1.2 in /usr/local/lib/python3.10/dist-packages (from beautifulsoup4->nbconvert>=5->notebook>=4.4.1->widgetsnbextension~=3.6.0->ipywidgets<9,>=7.5.1->rich[jupyter]) (2.6)\n",
            "Requirement already satisfied: webencodings in /usr/local/lib/python3.10/dist-packages (from bleach->nbconvert>=5->notebook>=4.4.1->widgetsnbextension~=3.6.0->ipywidgets<9,>=7.5.1->rich[jupyter]) (0.5.1)\n",
            "Requirement already satisfied: pycparser in /usr/local/lib/python3.10/dist-packages (from cffi>=1.0.1->argon2-cffi-bindings->argon2-cffi->notebook>=4.4.1->widgetsnbextension~=3.6.0->ipywidgets<9,>=7.5.1->rich[jupyter]) (2.22)\n",
            "Requirement already satisfied: anyio<4,>=3.1.0 in /usr/local/lib/python3.10/dist-packages (from jupyter-server<3,>=1.8->notebook-shim>=0.2.3->nbclassic>=0.4.7->notebook>=4.4.1->widgetsnbextension~=3.6.0->ipywidgets<9,>=7.5.1->rich[jupyter]) (3.7.1)\n",
            "Requirement already satisfied: websocket-client in /usr/local/lib/python3.10/dist-packages (from jupyter-server<3,>=1.8->notebook-shim>=0.2.3->nbclassic>=0.4.7->notebook>=4.4.1->widgetsnbextension~=3.6.0->ipywidgets<9,>=7.5.1->rich[jupyter]) (1.8.0)\n",
            "Requirement already satisfied: idna>=2.8 in /usr/local/lib/python3.10/dist-packages (from anyio<4,>=3.1.0->jupyter-server<3,>=1.8->notebook-shim>=0.2.3->nbclassic>=0.4.7->notebook>=4.4.1->widgetsnbextension~=3.6.0->ipywidgets<9,>=7.5.1->rich[jupyter]) (3.10)\n",
            "Requirement already satisfied: sniffio>=1.1 in /usr/local/lib/python3.10/dist-packages (from anyio<4,>=3.1.0->jupyter-server<3,>=1.8->notebook-shim>=0.2.3->nbclassic>=0.4.7->notebook>=4.4.1->widgetsnbextension~=3.6.0->ipywidgets<9,>=7.5.1->rich[jupyter]) (1.3.1)\n",
            "Requirement already satisfied: exceptiongroup in /usr/local/lib/python3.10/dist-packages (from anyio<4,>=3.1.0->jupyter-server<3,>=1.8->notebook-shim>=0.2.3->nbclassic>=0.4.7->notebook>=4.4.1->widgetsnbextension~=3.6.0->ipywidgets<9,>=7.5.1->rich[jupyter]) (1.2.2)\n",
            "Downloading jedi-0.19.1-py2.py3-none-any.whl (1.6 MB)\n",
            "\u001b[2K   \u001b[90m━━━━━━━━━━━━━━━━━━━━━━━━━━━━━━━━━━━━━━━━\u001b[0m \u001b[32m1.6/1.6 MB\u001b[0m \u001b[31m31.4 MB/s\u001b[0m eta \u001b[36m0:00:00\u001b[0m\n",
            "\u001b[?25hInstalling collected packages: jedi\n",
            "Successfully installed jedi-0.19.1\n"
          ]
        }
      ]
    },
    {
      "cell_type": "markdown",
      "source": [
        "To effortlessly add rich output to your application, you can import the rich `print` method, which has the same signature as the builtin Python function."
      ],
      "metadata": {
        "id": "p7Q4Mi1vnfWH"
      }
    },
    {
      "cell_type": "code",
      "source": [
        "from rich import print"
      ],
      "metadata": {
        "id": "ECH29V-xgLK3"
      },
      "execution_count": 2,
      "outputs": []
    },
    {
      "cell_type": "code",
      "source": [
        "# EXAMPLE OF CREATING A VARIABLE\n",
        "\n",
        "# We use # to add comment, it won’t run or affect the code\n",
        "# You use = to assign a value to the name of the variable.\n",
        "# Each code starts on the new line. No semicolon or {}\n",
        "# Python is awesome. You do not need to provide the data type of variable when creating it.\n",
        "\n",
        "int_var = 1\n",
        "float_var = 5.0\n",
        "str_var = 'Hundred'\n",
        "bool_var = True\n",
        "\n",
        "print(type(int_var))\n",
        "print(type(float_var))\n",
        "print(type(str_var))\n",
        "print(type(bool_var))"
      ],
      "metadata": {
        "colab": {
          "base_uri": "https://localhost:8080/",
          "height": 85
        },
        "id": "Eiv8mIqaInEP",
        "outputId": "00aac7fa-3820-43fb-9ff2-0190ed7821f4"
      },
      "execution_count": null,
      "outputs": [
        {
          "output_type": "display_data",
          "data": {
            "text/plain": [
              "\u001b[1m<\u001b[0m\u001b[1;95mclass\u001b[0m\u001b[39m \u001b[0m\u001b[32m'int'\u001b[0m\u001b[1m>\u001b[0m\n"
            ],
            "text/html": [
              "<pre style=\"white-space:pre;overflow-x:auto;line-height:normal;font-family:Menlo,'DejaVu Sans Mono',consolas,'Courier New',monospace\"><span style=\"font-weight: bold\">&lt;</span><span style=\"color: #ff00ff; text-decoration-color: #ff00ff; font-weight: bold\">class</span><span style=\"color: #000000; text-decoration-color: #000000\"> </span><span style=\"color: #008000; text-decoration-color: #008000\">'int'</span><span style=\"font-weight: bold\">&gt;</span>\n",
              "</pre>\n"
            ]
          },
          "metadata": {}
        },
        {
          "output_type": "display_data",
          "data": {
            "text/plain": [
              "\u001b[1m<\u001b[0m\u001b[1;95mclass\u001b[0m\u001b[39m \u001b[0m\u001b[32m'float'\u001b[0m\u001b[1m>\u001b[0m\n"
            ],
            "text/html": [
              "<pre style=\"white-space:pre;overflow-x:auto;line-height:normal;font-family:Menlo,'DejaVu Sans Mono',consolas,'Courier New',monospace\"><span style=\"font-weight: bold\">&lt;</span><span style=\"color: #ff00ff; text-decoration-color: #ff00ff; font-weight: bold\">class</span><span style=\"color: #000000; text-decoration-color: #000000\"> </span><span style=\"color: #008000; text-decoration-color: #008000\">'float'</span><span style=\"font-weight: bold\">&gt;</span>\n",
              "</pre>\n"
            ]
          },
          "metadata": {}
        },
        {
          "output_type": "display_data",
          "data": {
            "text/plain": [
              "\u001b[1m<\u001b[0m\u001b[1;95mclass\u001b[0m\u001b[39m \u001b[0m\u001b[32m'str'\u001b[0m\u001b[1m>\u001b[0m\n"
            ],
            "text/html": [
              "<pre style=\"white-space:pre;overflow-x:auto;line-height:normal;font-family:Menlo,'DejaVu Sans Mono',consolas,'Courier New',monospace\"><span style=\"font-weight: bold\">&lt;</span><span style=\"color: #ff00ff; text-decoration-color: #ff00ff; font-weight: bold\">class</span><span style=\"color: #000000; text-decoration-color: #000000\"> </span><span style=\"color: #008000; text-decoration-color: #008000\">'str'</span><span style=\"font-weight: bold\">&gt;</span>\n",
              "</pre>\n"
            ]
          },
          "metadata": {}
        },
        {
          "output_type": "display_data",
          "data": {
            "text/plain": [
              "\u001b[1m<\u001b[0m\u001b[1;95mclass\u001b[0m\u001b[39m \u001b[0m\u001b[32m'bool'\u001b[0m\u001b[1m>\u001b[0m\n"
            ],
            "text/html": [
              "<pre style=\"white-space:pre;overflow-x:auto;line-height:normal;font-family:Menlo,'DejaVu Sans Mono',consolas,'Courier New',monospace\"><span style=\"font-weight: bold\">&lt;</span><span style=\"color: #ff00ff; text-decoration-color: #ff00ff; font-weight: bold\">class</span><span style=\"color: #000000; text-decoration-color: #000000\"> </span><span style=\"color: #008000; text-decoration-color: #008000\">'bool'</span><span style=\"font-weight: bold\">&gt;</span>\n",
              "</pre>\n"
            ]
          },
          "metadata": {}
        }
      ]
    },
    {
      "cell_type": "markdown",
      "source": [
        "## Numbers"
      ],
      "metadata": {
        "id": "wFDLHqegJOuV"
      }
    },
    {
      "cell_type": "markdown",
      "source": [
        "Numbers in Python can either be integers `int` or floats `float`. Integer are real, finite, natural or whole numbers. Take an example: `1,2,3,4` are integers. Floats are numbers that have decimal points such as `4.6, 6.0, 7.7`. Note that `4.0` is considered as a float data type too.\n",
        "\n",
        "We can perform operations on numbers. The operations that we can perform include addition, multiplication, division, mod, etc."
      ],
      "metadata": {
        "id": "NF_k0wC8KiME"
      }
    },
    {
      "cell_type": "code",
      "source": [
        "int_var = 10\n",
        "float_var = 12.8\n",
        "\n",
        "print(type(int_var))\n",
        "print(type(float_var))"
      ],
      "metadata": {
        "colab": {
          "base_uri": "https://localhost:8080/",
          "height": 51
        },
        "id": "5zWU1pImLQ3A",
        "outputId": "238274a0-758f-4d78-9765-9333091df82d"
      },
      "execution_count": null,
      "outputs": [
        {
          "output_type": "display_data",
          "data": {
            "text/plain": [
              "\u001b[1m<\u001b[0m\u001b[1;95mclass\u001b[0m\u001b[39m \u001b[0m\u001b[32m'int'\u001b[0m\u001b[1m>\u001b[0m\n"
            ],
            "text/html": [
              "<pre style=\"white-space:pre;overflow-x:auto;line-height:normal;font-family:Menlo,'DejaVu Sans Mono',consolas,'Courier New',monospace\"><span style=\"font-weight: bold\">&lt;</span><span style=\"color: #ff00ff; text-decoration-color: #ff00ff; font-weight: bold\">class</span><span style=\"color: #000000; text-decoration-color: #000000\"> </span><span style=\"color: #008000; text-decoration-color: #008000\">'int'</span><span style=\"font-weight: bold\">&gt;</span>\n",
              "</pre>\n"
            ]
          },
          "metadata": {}
        },
        {
          "output_type": "display_data",
          "data": {
            "text/plain": [
              "\u001b[1m<\u001b[0m\u001b[1;95mclass\u001b[0m\u001b[39m \u001b[0m\u001b[32m'float'\u001b[0m\u001b[1m>\u001b[0m\n"
            ],
            "text/html": [
              "<pre style=\"white-space:pre;overflow-x:auto;line-height:normal;font-family:Menlo,'DejaVu Sans Mono',consolas,'Courier New',monospace\"><span style=\"font-weight: bold\">&lt;</span><span style=\"color: #ff00ff; text-decoration-color: #ff00ff; font-weight: bold\">class</span><span style=\"color: #000000; text-decoration-color: #000000\"> </span><span style=\"color: #008000; text-decoration-color: #008000\">'float'</span><span style=\"font-weight: bold\">&gt;</span>\n",
              "</pre>\n"
            ]
          },
          "metadata": {}
        }
      ]
    },
    {
      "cell_type": "code",
      "source": [
        "# Numeric Operations\n",
        "\n",
        "# Addition\n",
        "print(f\"1 + 100 = {1 + 100}\")\n",
        "\n",
        "# Subtraction\n",
        "print(f\"100 - 1 = {100 - 1}\")\n",
        "\n",
        "# Multiplication\n",
        "print(f\"1 * 100 = {1 * 100}\")\n",
        "\n",
        "# Division\n",
        "print(f\"1 / 100 = {1 / 100}\")\n",
        "\n",
        "# Floor division\n",
        "print(f\"7 // 2 = {7 // 2}\")\n",
        "\n",
        "# Mod\n",
        "# This is the remainder or a value remaining after dividing two numbers\n",
        "# 100 / 1 = 100, remainder is 0\n",
        "print(f\"100 % 1 = {100 % 1}\")\n",
        "print(f\"1 % 100 = {1 % 100}\")\n",
        "print(f\"10 % 2 = {10 % 2}\")\n",
        "\n",
        "# Exponent\n",
        "# This is the power of a number\n",
        "print(f\"1 ** 100 = {1 ** 100}\")\n",
        "print(f\"2 ** 3 = {2 ** 3}\")"
      ],
      "metadata": {
        "colab": {
          "base_uri": "https://localhost:8080/",
          "height": 187
        },
        "id": "z3oXOgshL6_m",
        "outputId": "c03f4829-9fe9-4a50-a9d4-d1673f829127"
      },
      "execution_count": null,
      "outputs": [
        {
          "output_type": "display_data",
          "data": {
            "text/plain": [
              "\u001b[1;36m1\u001b[0m + \u001b[1;36m100\u001b[0m = \u001b[1;36m101\u001b[0m\n"
            ],
            "text/html": [
              "<pre style=\"white-space:pre;overflow-x:auto;line-height:normal;font-family:Menlo,'DejaVu Sans Mono',consolas,'Courier New',monospace\"><span style=\"color: #008080; text-decoration-color: #008080; font-weight: bold\">1</span> + <span style=\"color: #008080; text-decoration-color: #008080; font-weight: bold\">100</span> = <span style=\"color: #008080; text-decoration-color: #008080; font-weight: bold\">101</span>\n",
              "</pre>\n"
            ]
          },
          "metadata": {}
        },
        {
          "output_type": "display_data",
          "data": {
            "text/plain": [
              "\u001b[1;36m100\u001b[0m - \u001b[1;36m1\u001b[0m = \u001b[1;36m99\u001b[0m\n"
            ],
            "text/html": [
              "<pre style=\"white-space:pre;overflow-x:auto;line-height:normal;font-family:Menlo,'DejaVu Sans Mono',consolas,'Courier New',monospace\"><span style=\"color: #008080; text-decoration-color: #008080; font-weight: bold\">100</span> - <span style=\"color: #008080; text-decoration-color: #008080; font-weight: bold\">1</span> = <span style=\"color: #008080; text-decoration-color: #008080; font-weight: bold\">99</span>\n",
              "</pre>\n"
            ]
          },
          "metadata": {}
        },
        {
          "output_type": "display_data",
          "data": {
            "text/plain": [
              "\u001b[1;36m1\u001b[0m * \u001b[1;36m100\u001b[0m = \u001b[1;36m100\u001b[0m\n"
            ],
            "text/html": [
              "<pre style=\"white-space:pre;overflow-x:auto;line-height:normal;font-family:Menlo,'DejaVu Sans Mono',consolas,'Courier New',monospace\"><span style=\"color: #008080; text-decoration-color: #008080; font-weight: bold\">1</span> * <span style=\"color: #008080; text-decoration-color: #008080; font-weight: bold\">100</span> = <span style=\"color: #008080; text-decoration-color: #008080; font-weight: bold\">100</span>\n",
              "</pre>\n"
            ]
          },
          "metadata": {}
        },
        {
          "output_type": "display_data",
          "data": {
            "text/plain": [
              "\u001b[1;36m1\u001b[0m \u001b[35m/\u001b[0m \u001b[1;36m100\u001b[0m = \u001b[1;36m0.01\u001b[0m\n"
            ],
            "text/html": [
              "<pre style=\"white-space:pre;overflow-x:auto;line-height:normal;font-family:Menlo,'DejaVu Sans Mono',consolas,'Courier New',monospace\"><span style=\"color: #008080; text-decoration-color: #008080; font-weight: bold\">1</span> <span style=\"color: #800080; text-decoration-color: #800080\">/</span> <span style=\"color: #008080; text-decoration-color: #008080; font-weight: bold\">100</span> = <span style=\"color: #008080; text-decoration-color: #008080; font-weight: bold\">0.01</span>\n",
              "</pre>\n"
            ]
          },
          "metadata": {}
        },
        {
          "output_type": "display_data",
          "data": {
            "text/plain": [
              "\u001b[1;36m7\u001b[0m \u001b[35m/\u001b[0m\u001b[35m/\u001b[0m \u001b[1;36m2\u001b[0m = \u001b[1;36m3\u001b[0m\n"
            ],
            "text/html": [
              "<pre style=\"white-space:pre;overflow-x:auto;line-height:normal;font-family:Menlo,'DejaVu Sans Mono',consolas,'Courier New',monospace\"><span style=\"color: #008080; text-decoration-color: #008080; font-weight: bold\">7</span> <span style=\"color: #800080; text-decoration-color: #800080\">//</span> <span style=\"color: #008080; text-decoration-color: #008080; font-weight: bold\">2</span> = <span style=\"color: #008080; text-decoration-color: #008080; font-weight: bold\">3</span>\n",
              "</pre>\n"
            ]
          },
          "metadata": {}
        },
        {
          "output_type": "display_data",
          "data": {
            "text/plain": [
              "\u001b[1;36m100\u001b[0m % \u001b[1;36m1\u001b[0m = \u001b[1;36m0\u001b[0m\n"
            ],
            "text/html": [
              "<pre style=\"white-space:pre;overflow-x:auto;line-height:normal;font-family:Menlo,'DejaVu Sans Mono',consolas,'Courier New',monospace\"><span style=\"color: #008080; text-decoration-color: #008080; font-weight: bold\">100</span> % <span style=\"color: #008080; text-decoration-color: #008080; font-weight: bold\">1</span> = <span style=\"color: #008080; text-decoration-color: #008080; font-weight: bold\">0</span>\n",
              "</pre>\n"
            ]
          },
          "metadata": {}
        },
        {
          "output_type": "display_data",
          "data": {
            "text/plain": [
              "\u001b[1;36m1\u001b[0m % \u001b[1;36m100\u001b[0m = \u001b[1;36m1\u001b[0m\n"
            ],
            "text/html": [
              "<pre style=\"white-space:pre;overflow-x:auto;line-height:normal;font-family:Menlo,'DejaVu Sans Mono',consolas,'Courier New',monospace\"><span style=\"color: #008080; text-decoration-color: #008080; font-weight: bold\">1</span> % <span style=\"color: #008080; text-decoration-color: #008080; font-weight: bold\">100</span> = <span style=\"color: #008080; text-decoration-color: #008080; font-weight: bold\">1</span>\n",
              "</pre>\n"
            ]
          },
          "metadata": {}
        },
        {
          "output_type": "display_data",
          "data": {
            "text/plain": [
              "\u001b[1;36m10\u001b[0m % \u001b[1;36m2\u001b[0m = \u001b[1;36m0\u001b[0m\n"
            ],
            "text/html": [
              "<pre style=\"white-space:pre;overflow-x:auto;line-height:normal;font-family:Menlo,'DejaVu Sans Mono',consolas,'Courier New',monospace\"><span style=\"color: #008080; text-decoration-color: #008080; font-weight: bold\">10</span> % <span style=\"color: #008080; text-decoration-color: #008080; font-weight: bold\">2</span> = <span style=\"color: #008080; text-decoration-color: #008080; font-weight: bold\">0</span>\n",
              "</pre>\n"
            ]
          },
          "metadata": {}
        },
        {
          "output_type": "display_data",
          "data": {
            "text/plain": [
              "\u001b[1;36m1\u001b[0m ** \u001b[1;36m100\u001b[0m = \u001b[1;36m1\u001b[0m\n"
            ],
            "text/html": [
              "<pre style=\"white-space:pre;overflow-x:auto;line-height:normal;font-family:Menlo,'DejaVu Sans Mono',consolas,'Courier New',monospace\"><span style=\"color: #008080; text-decoration-color: #008080; font-weight: bold\">1</span> ** <span style=\"color: #008080; text-decoration-color: #008080; font-weight: bold\">100</span> = <span style=\"color: #008080; text-decoration-color: #008080; font-weight: bold\">1</span>\n",
              "</pre>\n"
            ]
          },
          "metadata": {}
        },
        {
          "output_type": "display_data",
          "data": {
            "text/plain": [
              "\u001b[1;36m2\u001b[0m ** \u001b[1;36m3\u001b[0m = \u001b[1;36m8\u001b[0m\n"
            ],
            "text/html": [
              "<pre style=\"white-space:pre;overflow-x:auto;line-height:normal;font-family:Menlo,'DejaVu Sans Mono',consolas,'Courier New',monospace\"><span style=\"color: #008080; text-decoration-color: #008080; font-weight: bold\">2</span> ** <span style=\"color: #008080; text-decoration-color: #008080; font-weight: bold\">3</span> = <span style=\"color: #008080; text-decoration-color: #008080; font-weight: bold\">8</span>\n",
              "</pre>\n"
            ]
          },
          "metadata": {}
        }
      ]
    },
    {
      "cell_type": "markdown",
      "source": [
        "## Strings"
      ],
      "metadata": {
        "id": "W6migOa6Nqyx"
      }
    },
    {
      "cell_type": "markdown",
      "source": [
        "Python supports strings. String is a sequence of characters.\n",
        "\n",
        "Strings are one of the commonly used and important data types. Most problems involve working with strings. Thus, knowing how to work with strings is an incredible thing.\n",
        "\n",
        "Strings are expressed in either `\"...\"` or `'...'`.\n",
        "\n",
        "```\n",
        "\"text inside here will be a string\"\n",
        "'text inside here will also be a string'\n",
        "```"
      ],
      "metadata": {
        "id": "9OKkDwwzYkKw"
      }
    },
    {
      "cell_type": "markdown",
      "source": [
        "We can manipulate strings in many ways. A simple example is to concatenate the strings."
      ],
      "metadata": {
        "id": "rKZxYwr5ZJv9"
      }
    },
    {
      "cell_type": "code",
      "source": [
        "str_var = 'One'\n",
        "str_var2 = 'Hundred'\n",
        "print(f\"str_var + str_var2 = {str_var + str_var2}\")\n",
        "\n",
        "print(f\"str_var + ' ' + 'and' + ' ' + str_var2 + '.' = {str_var + ' ' + 'and' + ' ' + str_var2 + '.'}\")"
      ],
      "metadata": {
        "colab": {
          "base_uri": "https://localhost:8080/",
          "height": 51
        },
        "id": "Sw2QT8ADYwTO",
        "outputId": "0ec005b2-d3f7-46d2-e76a-fc8d4794ac2d"
      },
      "execution_count": null,
      "outputs": [
        {
          "output_type": "display_data",
          "data": {
            "text/plain": [
              "str_var + str_var2 = OneHundred\n"
            ],
            "text/html": [
              "<pre style=\"white-space:pre;overflow-x:auto;line-height:normal;font-family:Menlo,'DejaVu Sans Mono',consolas,'Courier New',monospace\">str_var + str_var2 = OneHundred\n",
              "</pre>\n"
            ]
          },
          "metadata": {}
        },
        {
          "output_type": "display_data",
          "data": {
            "text/plain": [
              "str_var + \u001b[32m' '\u001b[0m + \u001b[32m'and'\u001b[0m + \u001b[32m' '\u001b[0m + str_var2 + \u001b[32m'.'\u001b[0m = One and Hundred.\n"
            ],
            "text/html": [
              "<pre style=\"white-space:pre;overflow-x:auto;line-height:normal;font-family:Menlo,'DejaVu Sans Mono',consolas,'Courier New',monospace\">str_var + <span style=\"color: #008000; text-decoration-color: #008000\">' '</span> + <span style=\"color: #008000; text-decoration-color: #008000\">'and'</span> + <span style=\"color: #008000; text-decoration-color: #008000\">' '</span> + str_var2 + <span style=\"color: #008000; text-decoration-color: #008000\">'.'</span> = One and Hundred.\n",
              "</pre>\n"
            ]
          },
          "metadata": {}
        }
      ]
    },
    {
      "cell_type": "markdown",
      "source": [
        "We can also compare strings to check whether they are similar. If they are similar, case by case, comparison operator returns `True`; else `False`."
      ],
      "metadata": {
        "id": "cAxrPel2ZGFz"
      }
    },
    {
      "cell_type": "code",
      "source": [
        "print(f'\"A string\" == \"a string\" => {\"A string\" == \"a string\"}')\n",
        "print(f'\"A string\" == \"A string\" => {\"A string\" == \"A string\"}')"
      ],
      "metadata": {
        "colab": {
          "base_uri": "https://localhost:8080/",
          "height": 51
        },
        "id": "dHDkvnEnZY9c",
        "outputId": "74a4452f-f0b0-4408-a750-82687722f116"
      },
      "execution_count": null,
      "outputs": [
        {
          "output_type": "display_data",
          "data": {
            "text/plain": [
              "\u001b[32m\"A string\"\u001b[0m == \u001b[32m\"a string\"\u001b[0m => \u001b[3;91mFalse\u001b[0m\n"
            ],
            "text/html": [
              "<pre style=\"white-space:pre;overflow-x:auto;line-height:normal;font-family:Menlo,'DejaVu Sans Mono',consolas,'Courier New',monospace\"><span style=\"color: #008000; text-decoration-color: #008000\">\"A string\"</span> == <span style=\"color: #008000; text-decoration-color: #008000\">\"a string\"</span> =&gt; <span style=\"color: #ff0000; text-decoration-color: #ff0000; font-style: italic\">False</span>\n",
              "</pre>\n"
            ]
          },
          "metadata": {}
        },
        {
          "output_type": "display_data",
          "data": {
            "text/plain": [
              "\u001b[32m\"A string\"\u001b[0m == \u001b[32m\"A string\"\u001b[0m => \u001b[3;92mTrue\u001b[0m\n"
            ],
            "text/html": [
              "<pre style=\"white-space:pre;overflow-x:auto;line-height:normal;font-family:Menlo,'DejaVu Sans Mono',consolas,'Courier New',monospace\"><span style=\"color: #008000; text-decoration-color: #008000\">\"A string\"</span> == <span style=\"color: #008000; text-decoration-color: #008000\">\"A string\"</span> =&gt; <span style=\"color: #00ff00; text-decoration-color: #00ff00; font-style: italic\">True</span>\n",
              "</pre>\n"
            ]
          },
          "metadata": {}
        }
      ]
    },
    {
      "cell_type": "markdown",
      "source": [
        "### String Methods"
      ],
      "metadata": {
        "id": "xtyg3cx0Z59-"
      }
    },
    {
      "cell_type": "markdown",
      "source": [
        "Python provides many built-in methods for manipulating strings. As a programmer, knowing typical string methods and how to use them will give you a real leverage when working with strings.\n",
        "\n",
        "There are many string methods. You can find them [here](https://docs.python.org/2.5/lib/string-methods.html). Let's see some common methods."
      ],
      "metadata": {
        "id": "GnvetKxnajaZ"
      }
    },
    {
      "cell_type": "code",
      "source": [
        "sentence = 'This IS A String'\n",
        "\n",
        "# Case capitalization\n",
        "# It returns the string with first letter capitalized and the rest being lower cases.\n",
        "print(f\"sentence.capitalize() => {sentence.capitalize()}\")\n",
        "\n",
        "# Given a string, convert it into title (each word is capitalized)\n",
        "sentence_2 = 'this is a string to be titled'\n",
        "print(f\"sentence_2.title() => {sentence_2.title()}\")\n",
        "\n",
        "# Converting the string to upper case\n",
        "print(f\"sentence.upper() => {sentence.upper()}\")\n",
        "\n",
        "# Converting the string to lower case\n",
        "print(f\"sentence.lower() => {sentence.lower()}\")\n",
        "\n",
        "# Splitting the string\n",
        "print(f\"sentence.split() => {sentence.split()}\")"
      ],
      "metadata": {
        "colab": {
          "base_uri": "https://localhost:8080/",
          "height": 102
        },
        "id": "x6XMTpuLas5T",
        "outputId": "c44ea269-2600-4ebb-dbcf-ea885731f0c4"
      },
      "execution_count": null,
      "outputs": [
        {
          "output_type": "display_data",
          "data": {
            "text/plain": [
              "\u001b[1;35msentence.capitalize\u001b[0m\u001b[1m(\u001b[0m\u001b[1m)\u001b[0m => This is a string\n"
            ],
            "text/html": [
              "<pre style=\"white-space:pre;overflow-x:auto;line-height:normal;font-family:Menlo,'DejaVu Sans Mono',consolas,'Courier New',monospace\"><span style=\"color: #800080; text-decoration-color: #800080; font-weight: bold\">sentence.capitalize</span><span style=\"font-weight: bold\">()</span> =&gt; This is a string\n",
              "</pre>\n"
            ]
          },
          "metadata": {}
        },
        {
          "output_type": "display_data",
          "data": {
            "text/plain": [
              "\u001b[1;35msentence_2.title\u001b[0m\u001b[1m(\u001b[0m\u001b[1m)\u001b[0m => This Is A String To Be Titled\n"
            ],
            "text/html": [
              "<pre style=\"white-space:pre;overflow-x:auto;line-height:normal;font-family:Menlo,'DejaVu Sans Mono',consolas,'Courier New',monospace\"><span style=\"color: #800080; text-decoration-color: #800080; font-weight: bold\">sentence_2.title</span><span style=\"font-weight: bold\">()</span> =&gt; This Is A String To Be Titled\n",
              "</pre>\n"
            ]
          },
          "metadata": {}
        },
        {
          "output_type": "display_data",
          "data": {
            "text/plain": [
              "\u001b[1;35msentence.upper\u001b[0m\u001b[1m(\u001b[0m\u001b[1m)\u001b[0m => THIS IS A STRING\n"
            ],
            "text/html": [
              "<pre style=\"white-space:pre;overflow-x:auto;line-height:normal;font-family:Menlo,'DejaVu Sans Mono',consolas,'Courier New',monospace\"><span style=\"color: #800080; text-decoration-color: #800080; font-weight: bold\">sentence.upper</span><span style=\"font-weight: bold\">()</span> =&gt; THIS IS A STRING\n",
              "</pre>\n"
            ]
          },
          "metadata": {}
        },
        {
          "output_type": "display_data",
          "data": {
            "text/plain": [
              "\u001b[1;35msentence.lower\u001b[0m\u001b[1m(\u001b[0m\u001b[1m)\u001b[0m => this is a string\n"
            ],
            "text/html": [
              "<pre style=\"white-space:pre;overflow-x:auto;line-height:normal;font-family:Menlo,'DejaVu Sans Mono',consolas,'Courier New',monospace\"><span style=\"color: #800080; text-decoration-color: #800080; font-weight: bold\">sentence.lower</span><span style=\"font-weight: bold\">()</span> =&gt; this is a string\n",
              "</pre>\n"
            ]
          },
          "metadata": {}
        },
        {
          "output_type": "display_data",
          "data": {
            "text/plain": [
              "\u001b[1;35msentence.split\u001b[0m\u001b[1m(\u001b[0m\u001b[1m)\u001b[0m => \u001b[1m[\u001b[0m\u001b[32m'This'\u001b[0m, \u001b[32m'IS'\u001b[0m, \u001b[32m'A'\u001b[0m, \u001b[32m'String'\u001b[0m\u001b[1m]\u001b[0m\n"
            ],
            "text/html": [
              "<pre style=\"white-space:pre;overflow-x:auto;line-height:normal;font-family:Menlo,'DejaVu Sans Mono',consolas,'Courier New',monospace\"><span style=\"color: #800080; text-decoration-color: #800080; font-weight: bold\">sentence.split</span><span style=\"font-weight: bold\">()</span> =&gt; <span style=\"font-weight: bold\">[</span><span style=\"color: #008000; text-decoration-color: #008000\">'This'</span>, <span style=\"color: #008000; text-decoration-color: #008000\">'IS'</span>, <span style=\"color: #008000; text-decoration-color: #008000\">'A'</span>, <span style=\"color: #008000; text-decoration-color: #008000\">'String'</span><span style=\"font-weight: bold\">]</span>\n",
              "</pre>\n"
            ]
          },
          "metadata": {}
        }
      ]
    },
    {
      "cell_type": "markdown",
      "source": [
        "Lastly, we can use `replace()` method to replace some characters in string with another characters. Replace method takes two inputs: characters to be replaced, and new characters to be inserted in string, `replace('characters to be replaced', 'new characters')`."
      ],
      "metadata": {
        "id": "b7U3SF33bkqm"
      }
    },
    {
      "cell_type": "code",
      "source": [
        "# Given the string \"This movie was awesome\", replace the word 'awesome' with 'fantastic'\n",
        "str_1 = \"This movie was awesome\"\n",
        "print(f\"str_1.replace('awesome', 'fantastic') => {str_1.replace('awesome', 'fantastic')}\")\n",
        "\n",
        "# In the following string, replace all spaces with `%20'\n",
        "str_2 = \"The future is great\"\n",
        "print(f\"str_2.replace(' ', '%20') => {str_2.replace(' ', '%20')}\")"
      ],
      "metadata": {
        "colab": {
          "base_uri": "https://localhost:8080/",
          "height": 51
        },
        "id": "J5B6SEHcbsWr",
        "outputId": "a41e9c9d-5441-409f-b194-6543c6f6c7c8"
      },
      "execution_count": null,
      "outputs": [
        {
          "output_type": "display_data",
          "data": {
            "text/plain": [
              "\u001b[1;35mstr_1.replace\u001b[0m\u001b[1m(\u001b[0m\u001b[32m'awesome'\u001b[0m, \u001b[32m'fantastic'\u001b[0m\u001b[1m)\u001b[0m => This movie was fantastic\n"
            ],
            "text/html": [
              "<pre style=\"white-space:pre;overflow-x:auto;line-height:normal;font-family:Menlo,'DejaVu Sans Mono',consolas,'Courier New',monospace\"><span style=\"color: #800080; text-decoration-color: #800080; font-weight: bold\">str_1.replace</span><span style=\"font-weight: bold\">(</span><span style=\"color: #008000; text-decoration-color: #008000\">'awesome'</span>, <span style=\"color: #008000; text-decoration-color: #008000\">'fantastic'</span><span style=\"font-weight: bold\">)</span> =&gt; This movie was fantastic\n",
              "</pre>\n"
            ]
          },
          "metadata": {}
        },
        {
          "output_type": "display_data",
          "data": {
            "text/plain": [
              "\u001b[1;35mstr_2.replace\u001b[0m\u001b[1m(\u001b[0m\u001b[32m' '\u001b[0m, \u001b[32m'%20'\u001b[0m\u001b[1m)\u001b[0m => The%20future%20is%20great\n"
            ],
            "text/html": [
              "<pre style=\"white-space:pre;overflow-x:auto;line-height:normal;font-family:Menlo,'DejaVu Sans Mono',consolas,'Courier New',monospace\"><span style=\"color: #800080; text-decoration-color: #800080; font-weight: bold\">str_2.replace</span><span style=\"font-weight: bold\">(</span><span style=\"color: #008000; text-decoration-color: #008000\">' '</span>, <span style=\"color: #008000; text-decoration-color: #008000\">'%20'</span><span style=\"font-weight: bold\">)</span> =&gt; The%20future%20is%20great\n",
              "</pre>\n"
            ]
          },
          "metadata": {}
        }
      ]
    },
    {
      "cell_type": "markdown",
      "source": [
        "As you can see, string methods are powerful and can save you time."
      ],
      "metadata": {
        "id": "AR9dpwSzcZay"
      }
    },
    {
      "cell_type": "markdown",
      "source": [
        "**Note: Know Your Types!**\n",
        "\n",
        "We should always know what types of variables we're dealing with so we can do the right operations with them. Here's a common mistake that can happen if we're using the wrong variable type."
      ],
      "metadata": {
        "id": "V2qR5U4SceQI"
      }
    },
    {
      "cell_type": "code",
      "source": [
        "# int variables\n",
        "a = 5\n",
        "b = 3\n",
        "print(f\"a + b = {a + b}\")\n",
        "\n",
        "# string variables\n",
        "a = '5'\n",
        "b = '3'\n",
        "print(f\"a + b = {a + b}\")"
      ],
      "metadata": {
        "colab": {
          "base_uri": "https://localhost:8080/",
          "height": 51
        },
        "id": "vWgB__decsYs",
        "outputId": "34028785-cd64-41cf-db85-398e4f8a8048"
      },
      "execution_count": null,
      "outputs": [
        {
          "output_type": "display_data",
          "data": {
            "text/plain": [
              "a + b = \u001b[1;36m8\u001b[0m\n"
            ],
            "text/html": [
              "<pre style=\"white-space:pre;overflow-x:auto;line-height:normal;font-family:Menlo,'DejaVu Sans Mono',consolas,'Courier New',monospace\">a + b = <span style=\"color: #008080; text-decoration-color: #008080; font-weight: bold\">8</span>\n",
              "</pre>\n"
            ]
          },
          "metadata": {}
        },
        {
          "output_type": "display_data",
          "data": {
            "text/plain": [
              "a + b = \u001b[1;36m53\u001b[0m\n"
            ],
            "text/html": [
              "<pre style=\"white-space:pre;overflow-x:auto;line-height:normal;font-family:Menlo,'DejaVu Sans Mono',consolas,'Courier New',monospace\">a + b = <span style=\"color: #008080; text-decoration-color: #008080; font-weight: bold\">53</span>\n",
              "</pre>\n"
            ]
          },
          "metadata": {}
        }
      ]
    },
    {
      "cell_type": "markdown",
      "source": [
        "![rainbow](https://github.com/ancilcleetus/My-Learning-Journey/assets/25684256/839c3524-2a1d-4779-85a0-83c562e1e5e5)"
      ],
      "metadata": {
        "id": "lpKNYtcTdLta"
      }
    },
    {
      "cell_type": "markdown",
      "source": [
        "# 3. Data Structures"
      ],
      "metadata": {
        "id": "3QDp7_A0dLtf"
      }
    },
    {
      "cell_type": "markdown",
      "source": [
        "Data structures are used to organize and store the data. Algorithms support operations on data.\n",
        "\n",
        "Python has 4 main data structures: Lists, Dictionaries, Tuples and Sets."
      ],
      "metadata": {
        "id": "zMThb9HddYqi"
      }
    },
    {
      "cell_type": "markdown",
      "source": [
        "## Lists"
      ],
      "metadata": {
        "id": "Ka1r-prHde5Y"
      }
    },
    {
      "cell_type": "markdown",
      "source": [
        "Lists are an ordered, mutable (changeable) collection of values that are comma separated and enclosed by square brackets. A list can be comprised of many different types of variables. Each value in a list is called an `element` or `item` and can be identified by an index.\n",
        "\n",
        "What we will see with Python lists:\n",
        "\n",
        "- Creating a list\n",
        "\n",
        "- Accessing elements in a list\n",
        "\n",
        "- Slicing a list\n",
        "\n",
        "- Changing elements in a list\n",
        "\n",
        "- Traversing a list\n",
        "\n",
        "- Operations on list\n",
        "\n",
        "- Nested lists\n",
        "\n",
        "- List methods\n",
        "\n",
        "- List and strings"
      ],
      "metadata": {
        "id": "einNlHOfWD5-"
      }
    },
    {
      "cell_type": "markdown",
      "source": [
        "### Creating a List"
      ],
      "metadata": {
        "id": "tCVQa-kcWvdK"
      }
    },
    {
      "cell_type": "markdown",
      "source": [
        "A python list can be created by enclosing elements of similar or different data type in square brackets `[...]`, or with `range()` function."
      ],
      "metadata": {
        "id": "z116HFOiW5ej"
      }
    },
    {
      "cell_type": "code",
      "source": [
        "# Creating a list\n",
        "week_days = ['Mon', 'Tue', 'Wed', 'Thur','Fri']\n",
        "even_numbers = [2, 4, 6, 8, 10]\n",
        "mixed_list = ['Mon', 1, 'Tue', 2, 'Wed', 3]\n",
        "\n",
        "# Displaying elements of a list\n",
        "print(week_days)"
      ],
      "metadata": {
        "colab": {
          "base_uri": "https://localhost:8080/",
          "height": 34
        },
        "id": "KoMyOu58XBCb",
        "outputId": "98003903-fbaf-4ba3-b211-0c0ea42c6aaf"
      },
      "execution_count": 8,
      "outputs": [
        {
          "output_type": "display_data",
          "data": {
            "text/plain": [
              "\u001b[1m[\u001b[0m\u001b[32m'Mon'\u001b[0m, \u001b[32m'Tue'\u001b[0m, \u001b[32m'Wed'\u001b[0m, \u001b[32m'Thur'\u001b[0m, \u001b[32m'Fri'\u001b[0m\u001b[1m]\u001b[0m\n"
            ],
            "text/html": [
              "<pre style=\"white-space:pre;overflow-x:auto;line-height:normal;font-family:Menlo,'DejaVu Sans Mono',consolas,'Courier New',monospace\"><span style=\"font-weight: bold\">[</span><span style=\"color: #008000; text-decoration-color: #008000\">'Mon'</span>, <span style=\"color: #008000; text-decoration-color: #008000\">'Tue'</span>, <span style=\"color: #008000; text-decoration-color: #008000\">'Wed'</span>, <span style=\"color: #008000; text-decoration-color: #008000\">'Thur'</span>, <span style=\"color: #008000; text-decoration-color: #008000\">'Fri'</span><span style=\"font-weight: bold\">]</span>\n",
              "</pre>\n"
            ]
          },
          "metadata": {}
        }
      ]
    },
    {
      "cell_type": "code",
      "source": [
        "# Creating a list with range()\n",
        "nums = range(5)\n",
        "\n",
        "for i in nums:\n",
        "    print(i)"
      ],
      "metadata": {
        "colab": {
          "base_uri": "https://localhost:8080/",
          "height": 102
        },
        "id": "-F2ri9IwXJHK",
        "outputId": "0a144fe4-7bbe-461b-f7e8-8b42a9a50495"
      },
      "execution_count": 9,
      "outputs": [
        {
          "output_type": "display_data",
          "data": {
            "text/plain": [
              "\u001b[1;36m0\u001b[0m\n"
            ],
            "text/html": [
              "<pre style=\"white-space:pre;overflow-x:auto;line-height:normal;font-family:Menlo,'DejaVu Sans Mono',consolas,'Courier New',monospace\"><span style=\"color: #008080; text-decoration-color: #008080; font-weight: bold\">0</span>\n",
              "</pre>\n"
            ]
          },
          "metadata": {}
        },
        {
          "output_type": "display_data",
          "data": {
            "text/plain": [
              "\u001b[1;36m1\u001b[0m\n"
            ],
            "text/html": [
              "<pre style=\"white-space:pre;overflow-x:auto;line-height:normal;font-family:Menlo,'DejaVu Sans Mono',consolas,'Courier New',monospace\"><span style=\"color: #008080; text-decoration-color: #008080; font-weight: bold\">1</span>\n",
              "</pre>\n"
            ]
          },
          "metadata": {}
        },
        {
          "output_type": "display_data",
          "data": {
            "text/plain": [
              "\u001b[1;36m2\u001b[0m\n"
            ],
            "text/html": [
              "<pre style=\"white-space:pre;overflow-x:auto;line-height:normal;font-family:Menlo,'DejaVu Sans Mono',consolas,'Courier New',monospace\"><span style=\"color: #008080; text-decoration-color: #008080; font-weight: bold\">2</span>\n",
              "</pre>\n"
            ]
          },
          "metadata": {}
        },
        {
          "output_type": "display_data",
          "data": {
            "text/plain": [
              "\u001b[1;36m3\u001b[0m\n"
            ],
            "text/html": [
              "<pre style=\"white-space:pre;overflow-x:auto;line-height:normal;font-family:Menlo,'DejaVu Sans Mono',consolas,'Courier New',monospace\"><span style=\"color: #008080; text-decoration-color: #008080; font-weight: bold\">3</span>\n",
              "</pre>\n"
            ]
          },
          "metadata": {}
        },
        {
          "output_type": "display_data",
          "data": {
            "text/plain": [
              "\u001b[1;36m4\u001b[0m\n"
            ],
            "text/html": [
              "<pre style=\"white-space:pre;overflow-x:auto;line-height:normal;font-family:Menlo,'DejaVu Sans Mono',consolas,'Courier New',monospace\"><span style=\"color: #008080; text-decoration-color: #008080; font-weight: bold\">4</span>\n",
              "</pre>\n"
            ]
          },
          "metadata": {}
        }
      ]
    },
    {
      "cell_type": "markdown",
      "source": [
        "### Indexing: Accessing the elements of the list"
      ],
      "metadata": {
        "id": "XJ60Ch5rXT2P"
      }
    },
    {
      "cell_type": "markdown",
      "source": [
        "We can access the a given element of the list by providing the index of the element in a bracket. Note that indices can be positive (starting from 0) or negative (-1 and lower, where -1 is the last item in the list)."
      ],
      "metadata": {
        "id": "LA9a8ptwXacb"
      }
    },
    {
      "cell_type": "code",
      "source": [
        "# Indexing\n",
        "\n",
        "from IPython import display\n",
        "display.Image(\"data/images/01-Machine-Learning-Foundations/Complete-Machine-Learning-Course/01_Python_for_Machine_Learning-02.png\")"
      ],
      "metadata": {
        "colab": {
          "base_uri": "https://localhost:8080/",
          "height": 277
        },
        "outputId": "b3befc89-e488-4313-e2fb-5e69646ab41f",
        "id": "V44pUSkfvWGQ"
      },
      "execution_count": null,
      "outputs": [
        {
          "output_type": "execute_result",
          "data": {
            "image/png": "[encoded data removed]",
            "text/plain": [
              "<IPython.core.display.Image object>"
            ]
          },
          "metadata": {},
          "execution_count": 18
        }
      ]
    },
    {
      "cell_type": "markdown",
      "source": [
        "*Image: Indexing. Image captured from Made With ML Course.*"
      ],
      "metadata": {
        "id": "NQ6-7En9vWGT"
      }
    },
    {
      "cell_type": "code",
      "source": [
        "# Accessing the first element of the list\n",
        "print(week_days[0])\n",
        "\n",
        "# Accessing the second element of the list\n",
        "print(week_days[1])\n",
        "\n",
        "# Accessing the last element of the list\n",
        "print(week_days[-1])"
      ],
      "metadata": {
        "colab": {
          "base_uri": "https://localhost:8080/",
          "height": 68
        },
        "id": "COQawje-Xd_T",
        "outputId": "e050bccb-f833-434a-c3e7-386e6e87b5f0"
      },
      "execution_count": 10,
      "outputs": [
        {
          "output_type": "display_data",
          "data": {
            "text/plain": [
              "Mon\n"
            ],
            "text/html": [
              "<pre style=\"white-space:pre;overflow-x:auto;line-height:normal;font-family:Menlo,'DejaVu Sans Mono',consolas,'Courier New',monospace\">Mon\n",
              "</pre>\n"
            ]
          },
          "metadata": {}
        },
        {
          "output_type": "display_data",
          "data": {
            "text/plain": [
              "Tue\n"
            ],
            "text/html": [
              "<pre style=\"white-space:pre;overflow-x:auto;line-height:normal;font-family:Menlo,'DejaVu Sans Mono',consolas,'Courier New',monospace\">Tue\n",
              "</pre>\n"
            ]
          },
          "metadata": {}
        },
        {
          "output_type": "display_data",
          "data": {
            "text/plain": [
              "Fri\n"
            ],
            "text/html": [
              "<pre style=\"white-space:pre;overflow-x:auto;line-height:normal;font-family:Menlo,'DejaVu Sans Mono',consolas,'Courier New',monospace\">Fri\n",
              "</pre>\n"
            ]
          },
          "metadata": {}
        }
      ]
    },
    {
      "cell_type": "markdown",
      "source": [
        "**Note: Indexing beyond length**\n",
        "\n",
        "What happens if we try to index beyond the length of a list?"
      ],
      "metadata": {
        "id": "xWlYWUiUxENw"
      }
    },
    {
      "cell_type": "code",
      "source": [
        "x = [3, \"hello\", 1.2]\n",
        "print (x[:100])\n",
        "print (len(x[:100]))"
      ],
      "metadata": {
        "colab": {
          "base_uri": "https://localhost:8080/",
          "height": 51
        },
        "id": "YZGl_9b5xQco",
        "outputId": "6d533a34-db77-4aa0-a8ea-24591b9d8635"
      },
      "execution_count": 11,
      "outputs": [
        {
          "output_type": "display_data",
          "data": {
            "text/plain": [
              "\u001b[1m[\u001b[0m\u001b[1;36m3\u001b[0m, \u001b[32m'hello'\u001b[0m, \u001b[1;36m1.2\u001b[0m\u001b[1m]\u001b[0m\n"
            ],
            "text/html": [
              "<pre style=\"white-space:pre;overflow-x:auto;line-height:normal;font-family:Menlo,'DejaVu Sans Mono',consolas,'Courier New',monospace\"><span style=\"font-weight: bold\">[</span><span style=\"color: #008080; text-decoration-color: #008080; font-weight: bold\">3</span>, <span style=\"color: #008000; text-decoration-color: #008000\">'hello'</span>, <span style=\"color: #008080; text-decoration-color: #008080; font-weight: bold\">1.2</span><span style=\"font-weight: bold\">]</span>\n",
              "</pre>\n"
            ]
          },
          "metadata": {}
        },
        {
          "output_type": "display_data",
          "data": {
            "text/plain": [
              "\u001b[1;36m3\u001b[0m\n"
            ],
            "text/html": [
              "<pre style=\"white-space:pre;overflow-x:auto;line-height:normal;font-family:Menlo,'DejaVu Sans Mono',consolas,'Courier New',monospace\"><span style=\"color: #008080; text-decoration-color: #008080; font-weight: bold\">3</span>\n",
              "</pre>\n"
            ]
          },
          "metadata": {}
        }
      ]
    },
    {
      "cell_type": "markdown",
      "source": [
        "Though this does produce results, we should always explicitly use the length of the list to index items from it to avoid incorrect assumptions for downstream processes."
      ],
      "metadata": {
        "id": "jHZaJpnTxWfu"
      }
    },
    {
      "cell_type": "markdown",
      "source": [
        "### Slicing a list"
      ],
      "metadata": {
        "id": "Pvs76wC8X4Ni"
      }
    },
    {
      "cell_type": "markdown",
      "source": [
        "Given a list, we can slice it to get any parts or combination of its elements forming another list."
      ],
      "metadata": {
        "id": "XpGaNm4LZdak"
      }
    },
    {
      "cell_type": "code",
      "source": [
        "# Get the elements from index 0 to 2. Index 2 is not included.\n",
        "week_days = ['Mon', 'Tue', 'Wed', 'Thur','Fri']\n",
        "print(week_days[0:2])"
      ],
      "metadata": {
        "colab": {
          "base_uri": "https://localhost:8080/",
          "height": 34
        },
        "id": "eXWrg340ZiBL",
        "outputId": "df768153-6728-4373-d8b3-4231fe21487f"
      },
      "execution_count": 12,
      "outputs": [
        {
          "output_type": "display_data",
          "data": {
            "text/plain": [
              "\u001b[1m[\u001b[0m\u001b[32m'Mon'\u001b[0m, \u001b[32m'Tue'\u001b[0m\u001b[1m]\u001b[0m\n"
            ],
            "text/html": [
              "<pre style=\"white-space:pre;overflow-x:auto;line-height:normal;font-family:Menlo,'DejaVu Sans Mono',consolas,'Courier New',monospace\"><span style=\"font-weight: bold\">[</span><span style=\"color: #008000; text-decoration-color: #008000\">'Mon'</span>, <span style=\"color: #008000; text-decoration-color: #008000\">'Tue'</span><span style=\"font-weight: bold\">]</span>\n",
              "</pre>\n"
            ]
          },
          "metadata": {}
        }
      ]
    },
    {
      "cell_type": "code",
      "source": [
        "# Get elements from the fourth last element to the last element\n",
        "# -1 starts at the last element 'Fri', -2 second last element `Thur'..... -4 to 'Tue'\n",
        "print(week_days[-4:])"
      ],
      "metadata": {
        "colab": {
          "base_uri": "https://localhost:8080/",
          "height": 34
        },
        "id": "J3-uKs1UZpCR",
        "outputId": "3898766e-6115-4787-8ff0-46b6c5e61acf"
      },
      "execution_count": 13,
      "outputs": [
        {
          "output_type": "display_data",
          "data": {
            "text/plain": [
              "\u001b[1m[\u001b[0m\u001b[32m'Tue'\u001b[0m, \u001b[32m'Wed'\u001b[0m, \u001b[32m'Thur'\u001b[0m, \u001b[32m'Fri'\u001b[0m\u001b[1m]\u001b[0m\n"
            ],
            "text/html": [
              "<pre style=\"white-space:pre;overflow-x:auto;line-height:normal;font-family:Menlo,'DejaVu Sans Mono',consolas,'Courier New',monospace\"><span style=\"font-weight: bold\">[</span><span style=\"color: #008000; text-decoration-color: #008000\">'Tue'</span>, <span style=\"color: #008000; text-decoration-color: #008000\">'Wed'</span>, <span style=\"color: #008000; text-decoration-color: #008000\">'Thur'</span>, <span style=\"color: #008000; text-decoration-color: #008000\">'Fri'</span><span style=\"font-weight: bold\">]</span>\n",
              "</pre>\n"
            ]
          },
          "metadata": {}
        }
      ]
    },
    {
      "cell_type": "code",
      "source": [
        "# Get all elements up to the fourth index\n",
        "print(week_days[:4])"
      ],
      "metadata": {
        "colab": {
          "base_uri": "https://localhost:8080/",
          "height": 34
        },
        "id": "RZ2_JcKZZ-Iv",
        "outputId": "b2daa2d4-0501-4367-858f-ca1876607b95"
      },
      "execution_count": 14,
      "outputs": [
        {
          "output_type": "display_data",
          "data": {
            "text/plain": [
              "\u001b[1m[\u001b[0m\u001b[32m'Mon'\u001b[0m, \u001b[32m'Tue'\u001b[0m, \u001b[32m'Wed'\u001b[0m, \u001b[32m'Thur'\u001b[0m\u001b[1m]\u001b[0m\n"
            ],
            "text/html": [
              "<pre style=\"white-space:pre;overflow-x:auto;line-height:normal;font-family:Menlo,'DejaVu Sans Mono',consolas,'Courier New',monospace\"><span style=\"font-weight: bold\">[</span><span style=\"color: #008000; text-decoration-color: #008000\">'Mon'</span>, <span style=\"color: #008000; text-decoration-color: #008000\">'Tue'</span>, <span style=\"color: #008000; text-decoration-color: #008000\">'Wed'</span>, <span style=\"color: #008000; text-decoration-color: #008000\">'Thur'</span><span style=\"font-weight: bold\">]</span>\n",
              "</pre>\n"
            ]
          },
          "metadata": {}
        }
      ]
    },
    {
      "cell_type": "code",
      "source": [
        "# Get all elements from the second to the last index\n",
        "print(week_days[2:])"
      ],
      "metadata": {
        "colab": {
          "base_uri": "https://localhost:8080/",
          "height": 34
        },
        "id": "214WAgkQaEon",
        "outputId": "4c6fcd04-6e12-49d5-9190-2c75b5727ae8"
      },
      "execution_count": 15,
      "outputs": [
        {
          "output_type": "display_data",
          "data": {
            "text/plain": [
              "\u001b[1m[\u001b[0m\u001b[32m'Wed'\u001b[0m, \u001b[32m'Thur'\u001b[0m, \u001b[32m'Fri'\u001b[0m\u001b[1m]\u001b[0m\n"
            ],
            "text/html": [
              "<pre style=\"white-space:pre;overflow-x:auto;line-height:normal;font-family:Menlo,'DejaVu Sans Mono',consolas,'Courier New',monospace\"><span style=\"font-weight: bold\">[</span><span style=\"color: #008000; text-decoration-color: #008000\">'Wed'</span>, <span style=\"color: #008000; text-decoration-color: #008000\">'Thur'</span>, <span style=\"color: #008000; text-decoration-color: #008000\">'Fri'</span><span style=\"font-weight: bold\">]</span>\n",
              "</pre>\n"
            ]
          },
          "metadata": {}
        }
      ]
    },
    {
      "cell_type": "markdown",
      "source": [
        "You can use `[:]` to copy the entire list."
      ],
      "metadata": {
        "id": "R4A03RrvaJrI"
      }
    },
    {
      "cell_type": "code",
      "source": [
        "new_week_days = week_days[:]\n",
        "print(new_week_days)"
      ],
      "metadata": {
        "colab": {
          "base_uri": "https://localhost:8080/",
          "height": 34
        },
        "id": "MMNxtCXmaOr4",
        "outputId": "6d1282fa-06ce-46fe-c9d9-4ce7b3edd010"
      },
      "execution_count": 16,
      "outputs": [
        {
          "output_type": "display_data",
          "data": {
            "text/plain": [
              "\u001b[1m[\u001b[0m\u001b[32m'Mon'\u001b[0m, \u001b[32m'Tue'\u001b[0m, \u001b[32m'Wed'\u001b[0m, \u001b[32m'Thur'\u001b[0m, \u001b[32m'Fri'\u001b[0m\u001b[1m]\u001b[0m\n"
            ],
            "text/html": [
              "<pre style=\"white-space:pre;overflow-x:auto;line-height:normal;font-family:Menlo,'DejaVu Sans Mono',consolas,'Courier New',monospace\"><span style=\"font-weight: bold\">[</span><span style=\"color: #008000; text-decoration-color: #008000\">'Mon'</span>, <span style=\"color: #008000; text-decoration-color: #008000\">'Tue'</span>, <span style=\"color: #008000; text-decoration-color: #008000\">'Wed'</span>, <span style=\"color: #008000; text-decoration-color: #008000\">'Thur'</span>, <span style=\"color: #008000; text-decoration-color: #008000\">'Fri'</span><span style=\"font-weight: bold\">]</span>\n",
              "</pre>\n"
            ]
          },
          "metadata": {}
        }
      ]
    },
    {
      "cell_type": "markdown",
      "source": [
        "### Changing elements in a list"
      ],
      "metadata": {
        "id": "WUzIIR-8aZKC"
      }
    },
    {
      "cell_type": "markdown",
      "source": [
        "Python lists are mutable. We can delete or change the elements of the list."
      ],
      "metadata": {
        "id": "rUAZp6rOaey2"
      }
    },
    {
      "cell_type": "code",
      "source": [
        "names = ['James', 'Jean', 'Sebastian', 'Prit']\n",
        "print(names)"
      ],
      "metadata": {
        "colab": {
          "base_uri": "https://localhost:8080/",
          "height": 34
        },
        "id": "2nKi3LT6ajTH",
        "outputId": "b21db78b-6c8a-4b45-ebf9-bd83518cab1a"
      },
      "execution_count": 17,
      "outputs": [
        {
          "output_type": "display_data",
          "data": {
            "text/plain": [
              "\u001b[1m[\u001b[0m\u001b[32m'James'\u001b[0m, \u001b[32m'Jean'\u001b[0m, \u001b[32m'Sebastian'\u001b[0m, \u001b[32m'Prit'\u001b[0m\u001b[1m]\u001b[0m\n"
            ],
            "text/html": [
              "<pre style=\"white-space:pre;overflow-x:auto;line-height:normal;font-family:Menlo,'DejaVu Sans Mono',consolas,'Courier New',monospace\"><span style=\"font-weight: bold\">[</span><span style=\"color: #008000; text-decoration-color: #008000\">'James'</span>, <span style=\"color: #008000; text-decoration-color: #008000\">'Jean'</span>, <span style=\"color: #008000; text-decoration-color: #008000\">'Sebastian'</span>, <span style=\"color: #008000; text-decoration-color: #008000\">'Prit'</span><span style=\"font-weight: bold\">]</span>\n",
              "</pre>\n"
            ]
          },
          "metadata": {}
        }
      ]
    },
    {
      "cell_type": "code",
      "source": [
        "# Change 'Jean' to 'John' and 'Sebastian' to 'Seb'\n",
        "names[1:3] = ['John', 'Seb']\n",
        "print(names)"
      ],
      "metadata": {
        "colab": {
          "base_uri": "https://localhost:8080/",
          "height": 34
        },
        "id": "kbyJjtoKanPg",
        "outputId": "084e8eae-1813-41a7-eae9-2d16667e27f5"
      },
      "execution_count": 18,
      "outputs": [
        {
          "output_type": "display_data",
          "data": {
            "text/plain": [
              "\u001b[1m[\u001b[0m\u001b[32m'James'\u001b[0m, \u001b[32m'John'\u001b[0m, \u001b[32m'Seb'\u001b[0m, \u001b[32m'Prit'\u001b[0m\u001b[1m]\u001b[0m\n"
            ],
            "text/html": [
              "<pre style=\"white-space:pre;overflow-x:auto;line-height:normal;font-family:Menlo,'DejaVu Sans Mono',consolas,'Courier New',monospace\"><span style=\"font-weight: bold\">[</span><span style=\"color: #008000; text-decoration-color: #008000\">'James'</span>, <span style=\"color: #008000; text-decoration-color: #008000\">'John'</span>, <span style=\"color: #008000; text-decoration-color: #008000\">'Seb'</span>, <span style=\"color: #008000; text-decoration-color: #008000\">'Prit'</span><span style=\"font-weight: bold\">]</span>\n",
              "</pre>\n"
            ]
          },
          "metadata": {}
        }
      ]
    },
    {
      "cell_type": "code",
      "source": [
        "# Change 'Prit' to 'Sam'\n",
        "names[-1] = 'Sam'\n",
        "print(names)"
      ],
      "metadata": {
        "colab": {
          "base_uri": "https://localhost:8080/",
          "height": 34
        },
        "id": "6gG5MRdTaw4c",
        "outputId": "a1ab69b6-25c4-4de3-cfd1-a299d26c662a"
      },
      "execution_count": 19,
      "outputs": [
        {
          "output_type": "display_data",
          "data": {
            "text/plain": [
              "\u001b[1m[\u001b[0m\u001b[32m'James'\u001b[0m, \u001b[32m'John'\u001b[0m, \u001b[32m'Seb'\u001b[0m, \u001b[32m'Sam'\u001b[0m\u001b[1m]\u001b[0m\n"
            ],
            "text/html": [
              "<pre style=\"white-space:pre;overflow-x:auto;line-height:normal;font-family:Menlo,'DejaVu Sans Mono',consolas,'Courier New',monospace\"><span style=\"font-weight: bold\">[</span><span style=\"color: #008000; text-decoration-color: #008000\">'James'</span>, <span style=\"color: #008000; text-decoration-color: #008000\">'John'</span>, <span style=\"color: #008000; text-decoration-color: #008000\">'Seb'</span>, <span style=\"color: #008000; text-decoration-color: #008000\">'Sam'</span><span style=\"font-weight: bold\">]</span>\n",
              "</pre>\n"
            ]
          },
          "metadata": {}
        }
      ]
    },
    {
      "cell_type": "code",
      "source": [
        "# Change `James` to `Franco`\n",
        "names[0] = 'Franco'\n",
        "print(names)"
      ],
      "metadata": {
        "colab": {
          "base_uri": "https://localhost:8080/",
          "height": 34
        },
        "id": "lm1SuvwWa42R",
        "outputId": "8b7d23be-b085-4e3c-d2ee-b0168785529a"
      },
      "execution_count": 20,
      "outputs": [
        {
          "output_type": "display_data",
          "data": {
            "text/plain": [
              "\u001b[1m[\u001b[0m\u001b[32m'Franco'\u001b[0m, \u001b[32m'John'\u001b[0m, \u001b[32m'Seb'\u001b[0m, \u001b[32m'Sam'\u001b[0m\u001b[1m]\u001b[0m\n"
            ],
            "text/html": [
              "<pre style=\"white-space:pre;overflow-x:auto;line-height:normal;font-family:Menlo,'DejaVu Sans Mono',consolas,'Courier New',monospace\"><span style=\"font-weight: bold\">[</span><span style=\"color: #008000; text-decoration-color: #008000\">'Franco'</span>, <span style=\"color: #008000; text-decoration-color: #008000\">'John'</span>, <span style=\"color: #008000; text-decoration-color: #008000\">'Seb'</span>, <span style=\"color: #008000; text-decoration-color: #008000\">'Sam'</span><span style=\"font-weight: bold\">]</span>\n",
              "</pre>\n"
            ]
          },
          "metadata": {}
        }
      ]
    },
    {
      "cell_type": "markdown",
      "source": [
        "In order to delete a given element in a list, we can empty slice it but the better way to delete element is to use `del` keyword."
      ],
      "metadata": {
        "id": "mCxtdWprbEnb"
      }
    },
    {
      "cell_type": "code",
      "source": [
        "# Delete 'John' in names list\n",
        "del names[1]\n",
        "print(names)"
      ],
      "metadata": {
        "colab": {
          "base_uri": "https://localhost:8080/",
          "height": 34
        },
        "id": "-WnwN7DGbIvP",
        "outputId": "077a5e43-16f9-4793-eb65-94fc422e5c1d"
      },
      "execution_count": 21,
      "outputs": [
        {
          "output_type": "display_data",
          "data": {
            "text/plain": [
              "\u001b[1m[\u001b[0m\u001b[32m'Franco'\u001b[0m, \u001b[32m'Seb'\u001b[0m, \u001b[32m'Sam'\u001b[0m\u001b[1m]\u001b[0m\n"
            ],
            "text/html": [
              "<pre style=\"white-space:pre;overflow-x:auto;line-height:normal;font-family:Menlo,'DejaVu Sans Mono',consolas,'Courier New',monospace\"><span style=\"font-weight: bold\">[</span><span style=\"color: #008000; text-decoration-color: #008000\">'Franco'</span>, <span style=\"color: #008000; text-decoration-color: #008000\">'Seb'</span>, <span style=\"color: #008000; text-decoration-color: #008000\">'Sam'</span><span style=\"font-weight: bold\">]</span>\n",
              "</pre>\n"
            ]
          },
          "metadata": {}
        }
      ]
    },
    {
      "cell_type": "markdown",
      "source": [
        "If you know the index of the element you want to remove, you can use `pop()`. If you don't provide the index in `pop()`, the last element will be deleted."
      ],
      "metadata": {
        "id": "xTEefNrjbROp"
      }
    },
    {
      "cell_type": "code",
      "source": [
        "names = ['James', 'Jean', 'Sebastian', 'Prit']\n",
        "names.pop(2)\n",
        "print(names)"
      ],
      "metadata": {
        "colab": {
          "base_uri": "https://localhost:8080/",
          "height": 34
        },
        "id": "X2ZnOnJcbY6b",
        "outputId": "f7bbed1d-25bf-437c-e0a3-15379a0f01ae"
      },
      "execution_count": 22,
      "outputs": [
        {
          "output_type": "display_data",
          "data": {
            "text/plain": [
              "\u001b[1m[\u001b[0m\u001b[32m'James'\u001b[0m, \u001b[32m'Jean'\u001b[0m, \u001b[32m'Prit'\u001b[0m\u001b[1m]\u001b[0m\n"
            ],
            "text/html": [
              "<pre style=\"white-space:pre;overflow-x:auto;line-height:normal;font-family:Menlo,'DejaVu Sans Mono',consolas,'Courier New',monospace\"><span style=\"font-weight: bold\">[</span><span style=\"color: #008000; text-decoration-color: #008000\">'James'</span>, <span style=\"color: #008000; text-decoration-color: #008000\">'Jean'</span>, <span style=\"color: #008000; text-decoration-color: #008000\">'Prit'</span><span style=\"font-weight: bold\">]</span>\n",
              "</pre>\n"
            ]
          },
          "metadata": {}
        }
      ]
    },
    {
      "cell_type": "markdown",
      "source": [
        "Also, we can use `remove()` to delete the element provided inside the `remove()` method."
      ],
      "metadata": {
        "id": "5Q22l_Dubfww"
      }
    },
    {
      "cell_type": "code",
      "source": [
        "names = ['James', 'Jean', 'Sebastian', 'Prit']\n",
        "names.remove('James')\n",
        "print(names)"
      ],
      "metadata": {
        "colab": {
          "base_uri": "https://localhost:8080/",
          "height": 34
        },
        "id": "d0OVcFppbmc2",
        "outputId": "4dd6d42b-4499-45d0-eaa5-a294b5103cb9"
      },
      "execution_count": 23,
      "outputs": [
        {
          "output_type": "display_data",
          "data": {
            "text/plain": [
              "\u001b[1m[\u001b[0m\u001b[32m'Jean'\u001b[0m, \u001b[32m'Sebastian'\u001b[0m, \u001b[32m'Prit'\u001b[0m\u001b[1m]\u001b[0m\n"
            ],
            "text/html": [
              "<pre style=\"white-space:pre;overflow-x:auto;line-height:normal;font-family:Menlo,'DejaVu Sans Mono',consolas,'Courier New',monospace\"><span style=\"font-weight: bold\">[</span><span style=\"color: #008000; text-decoration-color: #008000\">'Jean'</span>, <span style=\"color: #008000; text-decoration-color: #008000\">'Sebastian'</span>, <span style=\"color: #008000; text-decoration-color: #008000\">'Prit'</span><span style=\"font-weight: bold\">]</span>\n",
              "</pre>\n"
            ]
          },
          "metadata": {}
        }
      ]
    },
    {
      "cell_type": "markdown",
      "source": [
        "We can also use `append()` to add element to the list."
      ],
      "metadata": {
        "id": "-8WtI2MXbqDR"
      }
    },
    {
      "cell_type": "code",
      "source": [
        "# Adding the new elements in list\n",
        "names = ['James', 'Jean', 'Sebastian', 'Prit']\n",
        "names.append('Jac')\n",
        "names.append('Jess')\n",
        "print(names)"
      ],
      "metadata": {
        "colab": {
          "base_uri": "https://localhost:8080/",
          "height": 34
        },
        "id": "jJKfwjqbbuTo",
        "outputId": "c023057b-2225-4627-c646-47501bca203e"
      },
      "execution_count": 24,
      "outputs": [
        {
          "output_type": "display_data",
          "data": {
            "text/plain": [
              "\u001b[1m[\u001b[0m\u001b[32m'James'\u001b[0m, \u001b[32m'Jean'\u001b[0m, \u001b[32m'Sebastian'\u001b[0m, \u001b[32m'Prit'\u001b[0m, \u001b[32m'Jac'\u001b[0m, \u001b[32m'Jess'\u001b[0m\u001b[1m]\u001b[0m\n"
            ],
            "text/html": [
              "<pre style=\"white-space:pre;overflow-x:auto;line-height:normal;font-family:Menlo,'DejaVu Sans Mono',consolas,'Courier New',monospace\"><span style=\"font-weight: bold\">[</span><span style=\"color: #008000; text-decoration-color: #008000\">'James'</span>, <span style=\"color: #008000; text-decoration-color: #008000\">'Jean'</span>, <span style=\"color: #008000; text-decoration-color: #008000\">'Sebastian'</span>, <span style=\"color: #008000; text-decoration-color: #008000\">'Prit'</span>, <span style=\"color: #008000; text-decoration-color: #008000\">'Jac'</span>, <span style=\"color: #008000; text-decoration-color: #008000\">'Jess'</span><span style=\"font-weight: bold\">]</span>\n",
              "</pre>\n"
            ]
          },
          "metadata": {}
        }
      ]
    },
    {
      "cell_type": "markdown",
      "source": [
        "### Traversing a list"
      ],
      "metadata": {
        "id": "scn-V3ymb0sZ"
      }
    },
    {
      "cell_type": "markdown",
      "source": [
        "There are times that we may need to go over the list to read the elements of the list or perform iterative operations. We can use `for` loop to traverse through the list."
      ],
      "metadata": {
        "id": "qvA41Nbub7hl"
      }
    },
    {
      "cell_type": "code",
      "source": [
        "# Given a list names, use for loop to display its elements\n",
        "names = ['James', 'Jean', 'Sebastian', 'Prit']\n",
        "\n",
        "for name in names:\n",
        "    print(name)"
      ],
      "metadata": {
        "colab": {
          "base_uri": "https://localhost:8080/",
          "height": 85
        },
        "id": "z7z8hqzVcARa",
        "outputId": "ad6bcdf4-454b-4b0e-9312-01db6f2a72b0"
      },
      "execution_count": 25,
      "outputs": [
        {
          "output_type": "display_data",
          "data": {
            "text/plain": [
              "James\n"
            ],
            "text/html": [
              "<pre style=\"white-space:pre;overflow-x:auto;line-height:normal;font-family:Menlo,'DejaVu Sans Mono',consolas,'Courier New',monospace\">James\n",
              "</pre>\n"
            ]
          },
          "metadata": {}
        },
        {
          "output_type": "display_data",
          "data": {
            "text/plain": [
              "Jean\n"
            ],
            "text/html": [
              "<pre style=\"white-space:pre;overflow-x:auto;line-height:normal;font-family:Menlo,'DejaVu Sans Mono',consolas,'Courier New',monospace\">Jean\n",
              "</pre>\n"
            ]
          },
          "metadata": {}
        },
        {
          "output_type": "display_data",
          "data": {
            "text/plain": [
              "Sebastian\n"
            ],
            "text/html": [
              "<pre style=\"white-space:pre;overflow-x:auto;line-height:normal;font-family:Menlo,'DejaVu Sans Mono',consolas,'Courier New',monospace\">Sebastian\n",
              "</pre>\n"
            ]
          },
          "metadata": {}
        },
        {
          "output_type": "display_data",
          "data": {
            "text/plain": [
              "Prit\n"
            ],
            "text/html": [
              "<pre style=\"white-space:pre;overflow-x:auto;line-height:normal;font-family:Menlo,'DejaVu Sans Mono',consolas,'Courier New',monospace\">Prit\n",
              "</pre>\n"
            ]
          },
          "metadata": {}
        }
      ]
    },
    {
      "cell_type": "code",
      "source": [
        "# Given a list nums, add 1 to the first element, 2 to the second, 3 to 3rd element, 4 to 4th element\n",
        "# Example: nums = [1,2,3,6] will be nums_new = [2,4,6,10]\n",
        "nums = [1, 2, 3, 6]\n",
        "nums_new = []\n",
        "\n",
        "for i in range(len(nums)):  # len(nums) gives the length of the list\n",
        "    num = nums[i] + i + 1\n",
        "    nums_new.append(num)\n",
        "\n",
        "print(nums_new)"
      ],
      "metadata": {
        "colab": {
          "base_uri": "https://localhost:8080/",
          "height": 34
        },
        "id": "4zvmij-kcExE",
        "outputId": "8fd57aba-f846-4067-b99a-794b661c5a31"
      },
      "execution_count": 26,
      "outputs": [
        {
          "output_type": "display_data",
          "data": {
            "text/plain": [
              "\u001b[1m[\u001b[0m\u001b[1;36m2\u001b[0m, \u001b[1;36m4\u001b[0m, \u001b[1;36m6\u001b[0m, \u001b[1;36m10\u001b[0m\u001b[1m]\u001b[0m\n"
            ],
            "text/html": [
              "<pre style=\"white-space:pre;overflow-x:auto;line-height:normal;font-family:Menlo,'DejaVu Sans Mono',consolas,'Courier New',monospace\"><span style=\"font-weight: bold\">[</span><span style=\"color: #008080; text-decoration-color: #008080; font-weight: bold\">2</span>, <span style=\"color: #008080; text-decoration-color: #008080; font-weight: bold\">4</span>, <span style=\"color: #008080; text-decoration-color: #008080; font-weight: bold\">6</span>, <span style=\"color: #008080; text-decoration-color: #008080; font-weight: bold\">10</span><span style=\"font-weight: bold\">]</span>\n",
              "</pre>\n"
            ]
          },
          "metadata": {}
        }
      ]
    },
    {
      "cell_type": "markdown",
      "source": [
        "### Operations on list"
      ],
      "metadata": {
        "id": "PkYyygwGcTwe"
      }
    },
    {
      "cell_type": "code",
      "source": [
        "# Concatenating two lists\n",
        "a = [1,2,3]\n",
        "b = [4,5,6]\n",
        "\n",
        "c = a + b\n",
        "print(c)"
      ],
      "metadata": {
        "colab": {
          "base_uri": "https://localhost:8080/",
          "height": 34
        },
        "id": "yqk3TPMmq4HA",
        "outputId": "c2c0a935-a4b9-4682-ede2-b46105dfca4c"
      },
      "execution_count": 27,
      "outputs": [
        {
          "output_type": "display_data",
          "data": {
            "text/plain": [
              "\u001b[1m[\u001b[0m\u001b[1;36m1\u001b[0m, \u001b[1;36m2\u001b[0m, \u001b[1;36m3\u001b[0m, \u001b[1;36m4\u001b[0m, \u001b[1;36m5\u001b[0m, \u001b[1;36m6\u001b[0m\u001b[1m]\u001b[0m\n"
            ],
            "text/html": [
              "<pre style=\"white-space:pre;overflow-x:auto;line-height:normal;font-family:Menlo,'DejaVu Sans Mono',consolas,'Courier New',monospace\"><span style=\"font-weight: bold\">[</span><span style=\"color: #008080; text-decoration-color: #008080; font-weight: bold\">1</span>, <span style=\"color: #008080; text-decoration-color: #008080; font-weight: bold\">2</span>, <span style=\"color: #008080; text-decoration-color: #008080; font-weight: bold\">3</span>, <span style=\"color: #008080; text-decoration-color: #008080; font-weight: bold\">4</span>, <span style=\"color: #008080; text-decoration-color: #008080; font-weight: bold\">5</span>, <span style=\"color: #008080; text-decoration-color: #008080; font-weight: bold\">6</span><span style=\"font-weight: bold\">]</span>\n",
              "</pre>\n"
            ]
          },
          "metadata": {}
        }
      ]
    },
    {
      "cell_type": "code",
      "source": [
        "# We can also use * operator to repeat a list a number of times\n",
        "print([None] * 5)\n",
        "print([True] * 4)\n",
        "print([1,2,4,5] * 2)"
      ],
      "metadata": {
        "colab": {
          "base_uri": "https://localhost:8080/",
          "height": 68
        },
        "id": "LFESuS6VrA5s",
        "outputId": "c9aeb342-0d49-4d20-8818-24e8f9b49d39"
      },
      "execution_count": 28,
      "outputs": [
        {
          "output_type": "display_data",
          "data": {
            "text/plain": [
              "\u001b[1m[\u001b[0m\u001b[3;35mNone\u001b[0m, \u001b[3;35mNone\u001b[0m, \u001b[3;35mNone\u001b[0m, \u001b[3;35mNone\u001b[0m, \u001b[3;35mNone\u001b[0m\u001b[1m]\u001b[0m\n"
            ],
            "text/html": [
              "<pre style=\"white-space:pre;overflow-x:auto;line-height:normal;font-family:Menlo,'DejaVu Sans Mono',consolas,'Courier New',monospace\"><span style=\"font-weight: bold\">[</span><span style=\"color: #800080; text-decoration-color: #800080; font-style: italic\">None</span>, <span style=\"color: #800080; text-decoration-color: #800080; font-style: italic\">None</span>, <span style=\"color: #800080; text-decoration-color: #800080; font-style: italic\">None</span>, <span style=\"color: #800080; text-decoration-color: #800080; font-style: italic\">None</span>, <span style=\"color: #800080; text-decoration-color: #800080; font-style: italic\">None</span><span style=\"font-weight: bold\">]</span>\n",
              "</pre>\n"
            ]
          },
          "metadata": {}
        },
        {
          "output_type": "display_data",
          "data": {
            "text/plain": [
              "\u001b[1m[\u001b[0m\u001b[3;92mTrue\u001b[0m, \u001b[3;92mTrue\u001b[0m, \u001b[3;92mTrue\u001b[0m, \u001b[3;92mTrue\u001b[0m\u001b[1m]\u001b[0m\n"
            ],
            "text/html": [
              "<pre style=\"white-space:pre;overflow-x:auto;line-height:normal;font-family:Menlo,'DejaVu Sans Mono',consolas,'Courier New',monospace\"><span style=\"font-weight: bold\">[</span><span style=\"color: #00ff00; text-decoration-color: #00ff00; font-style: italic\">True</span>, <span style=\"color: #00ff00; text-decoration-color: #00ff00; font-style: italic\">True</span>, <span style=\"color: #00ff00; text-decoration-color: #00ff00; font-style: italic\">True</span>, <span style=\"color: #00ff00; text-decoration-color: #00ff00; font-style: italic\">True</span><span style=\"font-weight: bold\">]</span>\n",
              "</pre>\n"
            ]
          },
          "metadata": {}
        },
        {
          "output_type": "display_data",
          "data": {
            "text/plain": [
              "\u001b[1m[\u001b[0m\u001b[1;36m1\u001b[0m, \u001b[1;36m2\u001b[0m, \u001b[1;36m4\u001b[0m, \u001b[1;36m5\u001b[0m, \u001b[1;36m1\u001b[0m, \u001b[1;36m2\u001b[0m, \u001b[1;36m4\u001b[0m, \u001b[1;36m5\u001b[0m\u001b[1m]\u001b[0m\n"
            ],
            "text/html": [
              "<pre style=\"white-space:pre;overflow-x:auto;line-height:normal;font-family:Menlo,'DejaVu Sans Mono',consolas,'Courier New',monospace\"><span style=\"font-weight: bold\">[</span><span style=\"color: #008080; text-decoration-color: #008080; font-weight: bold\">1</span>, <span style=\"color: #008080; text-decoration-color: #008080; font-weight: bold\">2</span>, <span style=\"color: #008080; text-decoration-color: #008080; font-weight: bold\">4</span>, <span style=\"color: #008080; text-decoration-color: #008080; font-weight: bold\">5</span>, <span style=\"color: #008080; text-decoration-color: #008080; font-weight: bold\">1</span>, <span style=\"color: #008080; text-decoration-color: #008080; font-weight: bold\">2</span>, <span style=\"color: #008080; text-decoration-color: #008080; font-weight: bold\">4</span>, <span style=\"color: #008080; text-decoration-color: #008080; font-weight: bold\">5</span><span style=\"font-weight: bold\">]</span>\n",
              "</pre>\n"
            ]
          },
          "metadata": {}
        }
      ]
    },
    {
      "cell_type": "markdown",
      "source": [
        "### Nested lists"
      ],
      "metadata": {
        "id": "9i9m8-5frOhz"
      }
    },
    {
      "cell_type": "code",
      "source": [
        "# Creating a list in other list\n",
        "nested_list = [1, 2, 3, ['a', 'b', 'c']]\n",
        "\n",
        "\n",
        "# Get the ['a', 'b', 'c'] from the nested_list\n",
        "print(nested_list[3])"
      ],
      "metadata": {
        "colab": {
          "base_uri": "https://localhost:8080/",
          "height": 34
        },
        "id": "6D8cDhnkrWKo",
        "outputId": "ab624cc7-50ad-45b5-a9e3-072c6df219bf"
      },
      "execution_count": 29,
      "outputs": [
        {
          "output_type": "display_data",
          "data": {
            "text/plain": [
              "\u001b[1m[\u001b[0m\u001b[32m'a'\u001b[0m, \u001b[32m'b'\u001b[0m, \u001b[32m'c'\u001b[0m\u001b[1m]\u001b[0m\n"
            ],
            "text/html": [
              "<pre style=\"white-space:pre;overflow-x:auto;line-height:normal;font-family:Menlo,'DejaVu Sans Mono',consolas,'Courier New',monospace\"><span style=\"font-weight: bold\">[</span><span style=\"color: #008000; text-decoration-color: #008000\">'a'</span>, <span style=\"color: #008000; text-decoration-color: #008000\">'b'</span>, <span style=\"color: #008000; text-decoration-color: #008000\">'c'</span><span style=\"font-weight: bold\">]</span>\n",
              "</pre>\n"
            ]
          },
          "metadata": {}
        }
      ]
    },
    {
      "cell_type": "code",
      "source": [
        "# Indexing and slicing a nested list is quite similar to normal list\n",
        "print(nested_list[1])"
      ],
      "metadata": {
        "colab": {
          "base_uri": "https://localhost:8080/",
          "height": 34
        },
        "id": "eDRSwpdMr9HT",
        "outputId": "04da3b07-8077-4b1a-931a-e82d664e0dd3"
      },
      "execution_count": 30,
      "outputs": [
        {
          "output_type": "display_data",
          "data": {
            "text/plain": [
              "\u001b[1;36m2\u001b[0m\n"
            ],
            "text/html": [
              "<pre style=\"white-space:pre;overflow-x:auto;line-height:normal;font-family:Menlo,'DejaVu Sans Mono',consolas,'Courier New',monospace\"><span style=\"color: #008080; text-decoration-color: #008080; font-weight: bold\">2</span>\n",
              "</pre>\n"
            ]
          },
          "metadata": {}
        }
      ]
    },
    {
      "cell_type": "markdown",
      "source": [
        "### List methods"
      ],
      "metadata": {
        "id": "8EGSaZRpsEjD"
      }
    },
    {
      "cell_type": "markdown",
      "source": [
        "Python also offers methods which make it easy to work with lists. We have already been using some of the list methods such as pop() and append() but let's review some more methods."
      ],
      "metadata": {
        "id": "HCFgOzRzsLvK"
      }
    },
    {
      "cell_type": "code",
      "source": [
        "# Sorting a list with sort()\n",
        "even_numbers = [2, 14, 16, 12, 20, 8, 10]\n",
        "even_numbers.sort()\n",
        "print(even_numbers)"
      ],
      "metadata": {
        "colab": {
          "base_uri": "https://localhost:8080/",
          "height": 34
        },
        "id": "KUqM1ckTsYZH",
        "outputId": "484e76ee-3226-4bce-f577-04ec8cf1f24a"
      },
      "execution_count": 31,
      "outputs": [
        {
          "output_type": "display_data",
          "data": {
            "text/plain": [
              "\u001b[1m[\u001b[0m\u001b[1;36m2\u001b[0m, \u001b[1;36m8\u001b[0m, \u001b[1;36m10\u001b[0m, \u001b[1;36m12\u001b[0m, \u001b[1;36m14\u001b[0m, \u001b[1;36m16\u001b[0m, \u001b[1;36m20\u001b[0m\u001b[1m]\u001b[0m\n"
            ],
            "text/html": [
              "<pre style=\"white-space:pre;overflow-x:auto;line-height:normal;font-family:Menlo,'DejaVu Sans Mono',consolas,'Courier New',monospace\"><span style=\"font-weight: bold\">[</span><span style=\"color: #008080; text-decoration-color: #008080; font-weight: bold\">2</span>, <span style=\"color: #008080; text-decoration-color: #008080; font-weight: bold\">8</span>, <span style=\"color: #008080; text-decoration-color: #008080; font-weight: bold\">10</span>, <span style=\"color: #008080; text-decoration-color: #008080; font-weight: bold\">12</span>, <span style=\"color: #008080; text-decoration-color: #008080; font-weight: bold\">14</span>, <span style=\"color: #008080; text-decoration-color: #008080; font-weight: bold\">16</span>, <span style=\"color: #008080; text-decoration-color: #008080; font-weight: bold\">20</span><span style=\"font-weight: bold\">]</span>\n",
              "</pre>\n"
            ]
          },
          "metadata": {}
        }
      ]
    },
    {
      "cell_type": "code",
      "source": [
        "# Reversing a string with reverse()\n",
        "even_numbers.reverse()\n",
        "print(even_numbers)"
      ],
      "metadata": {
        "colab": {
          "base_uri": "https://localhost:8080/",
          "height": 34
        },
        "id": "BoglmEF7sjAw",
        "outputId": "c357779e-9095-4196-f5f8-4c61d4d359c3"
      },
      "execution_count": 32,
      "outputs": [
        {
          "output_type": "display_data",
          "data": {
            "text/plain": [
              "\u001b[1m[\u001b[0m\u001b[1;36m20\u001b[0m, \u001b[1;36m16\u001b[0m, \u001b[1;36m14\u001b[0m, \u001b[1;36m12\u001b[0m, \u001b[1;36m10\u001b[0m, \u001b[1;36m8\u001b[0m, \u001b[1;36m2\u001b[0m\u001b[1m]\u001b[0m\n"
            ],
            "text/html": [
              "<pre style=\"white-space:pre;overflow-x:auto;line-height:normal;font-family:Menlo,'DejaVu Sans Mono',consolas,'Courier New',monospace\"><span style=\"font-weight: bold\">[</span><span style=\"color: #008080; text-decoration-color: #008080; font-weight: bold\">20</span>, <span style=\"color: #008080; text-decoration-color: #008080; font-weight: bold\">16</span>, <span style=\"color: #008080; text-decoration-color: #008080; font-weight: bold\">14</span>, <span style=\"color: #008080; text-decoration-color: #008080; font-weight: bold\">12</span>, <span style=\"color: #008080; text-decoration-color: #008080; font-weight: bold\">10</span>, <span style=\"color: #008080; text-decoration-color: #008080; font-weight: bold\">8</span>, <span style=\"color: #008080; text-decoration-color: #008080; font-weight: bold\">2</span><span style=\"font-weight: bold\">]</span>\n",
              "</pre>\n"
            ]
          },
          "metadata": {}
        }
      ]
    },
    {
      "cell_type": "code",
      "source": [
        "# Adding elements to a list with append()\n",
        "even_numbers = [2, 14, 16, 12, 20, 8, 10]\n",
        "even_numbers.append(40)\n",
        "print(even_numbers)"
      ],
      "metadata": {
        "colab": {
          "base_uri": "https://localhost:8080/",
          "height": 34
        },
        "id": "B0oCy5-BsptJ",
        "outputId": "7e081c06-e3e5-4d4d-ec1a-d9a8304294e6"
      },
      "execution_count": 33,
      "outputs": [
        {
          "output_type": "display_data",
          "data": {
            "text/plain": [
              "\u001b[1m[\u001b[0m\u001b[1;36m2\u001b[0m, \u001b[1;36m14\u001b[0m, \u001b[1;36m16\u001b[0m, \u001b[1;36m12\u001b[0m, \u001b[1;36m20\u001b[0m, \u001b[1;36m8\u001b[0m, \u001b[1;36m10\u001b[0m, \u001b[1;36m40\u001b[0m\u001b[1m]\u001b[0m\n"
            ],
            "text/html": [
              "<pre style=\"white-space:pre;overflow-x:auto;line-height:normal;font-family:Menlo,'DejaVu Sans Mono',consolas,'Courier New',monospace\"><span style=\"font-weight: bold\">[</span><span style=\"color: #008080; text-decoration-color: #008080; font-weight: bold\">2</span>, <span style=\"color: #008080; text-decoration-color: #008080; font-weight: bold\">14</span>, <span style=\"color: #008080; text-decoration-color: #008080; font-weight: bold\">16</span>, <span style=\"color: #008080; text-decoration-color: #008080; font-weight: bold\">12</span>, <span style=\"color: #008080; text-decoration-color: #008080; font-weight: bold\">20</span>, <span style=\"color: #008080; text-decoration-color: #008080; font-weight: bold\">8</span>, <span style=\"color: #008080; text-decoration-color: #008080; font-weight: bold\">10</span>, <span style=\"color: #008080; text-decoration-color: #008080; font-weight: bold\">40</span><span style=\"font-weight: bold\">]</span>\n",
              "</pre>\n"
            ]
          },
          "metadata": {}
        }
      ]
    },
    {
      "cell_type": "code",
      "source": [
        "# Removing the first element of a list\n",
        "even_numbers.remove(2)\n",
        "print(even_numbers)"
      ],
      "metadata": {
        "colab": {
          "base_uri": "https://localhost:8080/",
          "height": 34
        },
        "id": "A6ExIpa5szWj",
        "outputId": "2402af1a-3727-4d20-a849-dd0b8103b339"
      },
      "execution_count": 34,
      "outputs": [
        {
          "output_type": "display_data",
          "data": {
            "text/plain": [
              "\u001b[1m[\u001b[0m\u001b[1;36m14\u001b[0m, \u001b[1;36m16\u001b[0m, \u001b[1;36m12\u001b[0m, \u001b[1;36m20\u001b[0m, \u001b[1;36m8\u001b[0m, \u001b[1;36m10\u001b[0m, \u001b[1;36m40\u001b[0m\u001b[1m]\u001b[0m\n"
            ],
            "text/html": [
              "<pre style=\"white-space:pre;overflow-x:auto;line-height:normal;font-family:Menlo,'DejaVu Sans Mono',consolas,'Courier New',monospace\"><span style=\"font-weight: bold\">[</span><span style=\"color: #008080; text-decoration-color: #008080; font-weight: bold\">14</span>, <span style=\"color: #008080; text-decoration-color: #008080; font-weight: bold\">16</span>, <span style=\"color: #008080; text-decoration-color: #008080; font-weight: bold\">12</span>, <span style=\"color: #008080; text-decoration-color: #008080; font-weight: bold\">20</span>, <span style=\"color: #008080; text-decoration-color: #008080; font-weight: bold\">8</span>, <span style=\"color: #008080; text-decoration-color: #008080; font-weight: bold\">10</span>, <span style=\"color: #008080; text-decoration-color: #008080; font-weight: bold\">40</span><span style=\"font-weight: bold\">]</span>\n",
              "</pre>\n"
            ]
          },
          "metadata": {}
        }
      ]
    },
    {
      "cell_type": "code",
      "source": [
        "# Return the element of the list at index x\n",
        "even_numbers = [2,14,16,12,20,8,10]\n",
        "\n",
        "# Return the item at the 1st index\n",
        "print(even_numbers.pop(1))"
      ],
      "metadata": {
        "colab": {
          "base_uri": "https://localhost:8080/",
          "height": 34
        },
        "id": "j2t93LQfs35a",
        "outputId": "a79f5432-4c98-4943-ebde-a4d1fb4622f9"
      },
      "execution_count": 35,
      "outputs": [
        {
          "output_type": "display_data",
          "data": {
            "text/plain": [
              "\u001b[1;36m14\u001b[0m\n"
            ],
            "text/html": [
              "<pre style=\"white-space:pre;overflow-x:auto;line-height:normal;font-family:Menlo,'DejaVu Sans Mono',consolas,'Courier New',monospace\"><span style=\"color: #008080; text-decoration-color: #008080; font-weight: bold\">14</span>\n",
              "</pre>\n"
            ]
          },
          "metadata": {}
        }
      ]
    },
    {
      "cell_type": "code",
      "source": [
        "# pop() without index specified will return the last element of the list\n",
        "even_numbers = [2,14,16,12,20,8,10]\n",
        "print(even_numbers.pop())"
      ],
      "metadata": {
        "colab": {
          "base_uri": "https://localhost:8080/",
          "height": 34
        },
        "id": "m1gEe2sOs-iu",
        "outputId": "63b04418-9ac9-472c-ae2a-ee3f9beebd50"
      },
      "execution_count": 36,
      "outputs": [
        {
          "output_type": "display_data",
          "data": {
            "text/plain": [
              "\u001b[1;36m10\u001b[0m\n"
            ],
            "text/html": [
              "<pre style=\"white-space:pre;overflow-x:auto;line-height:normal;font-family:Menlo,'DejaVu Sans Mono',consolas,'Courier New',monospace\"><span style=\"color: #008080; text-decoration-color: #008080; font-weight: bold\">10</span>\n",
              "</pre>\n"
            ]
          },
          "metadata": {}
        }
      ]
    },
    {
      "cell_type": "code",
      "source": [
        "# Count a number of times an element appear in a list\n",
        "even_numbers = [2, 2, 4, 6, 8]\n",
        "print(even_numbers.count(2))"
      ],
      "metadata": {
        "colab": {
          "base_uri": "https://localhost:8080/",
          "height": 34
        },
        "id": "OWYYbi_mtCS0",
        "outputId": "dcd9b3f2-394e-47b3-c18b-521f7793b6f1"
      },
      "execution_count": 37,
      "outputs": [
        {
          "output_type": "display_data",
          "data": {
            "text/plain": [
              "\u001b[1;36m2\u001b[0m\n"
            ],
            "text/html": [
              "<pre style=\"white-space:pre;overflow-x:auto;line-height:normal;font-family:Menlo,'DejaVu Sans Mono',consolas,'Courier New',monospace\"><span style=\"color: #008080; text-decoration-color: #008080; font-weight: bold\">2</span>\n",
              "</pre>\n"
            ]
          },
          "metadata": {}
        }
      ]
    },
    {
      "cell_type": "markdown",
      "source": [
        "### List and strings"
      ],
      "metadata": {
        "id": "NlKC-gxBtRix"
      }
    },
    {
      "cell_type": "markdown",
      "source": [
        "We previously have learned about strings. A string is a sequence of characters. List is a sequence of values."
      ],
      "metadata": {
        "id": "PohrDCa7tY8y"
      }
    },
    {
      "cell_type": "code",
      "source": [
        "# We can convert a string into list\n",
        "str1 = 'Apple'\n",
        "print(list(str1))"
      ],
      "metadata": {
        "colab": {
          "base_uri": "https://localhost:8080/",
          "height": 34
        },
        "id": "-wb0jfxqti_v",
        "outputId": "f704d677-3758-4fc3-9bc1-a03ac8a05fd7"
      },
      "execution_count": 38,
      "outputs": [
        {
          "output_type": "display_data",
          "data": {
            "text/plain": [
              "\u001b[1m[\u001b[0m\u001b[32m'A'\u001b[0m, \u001b[32m'p'\u001b[0m, \u001b[32m'p'\u001b[0m, \u001b[32m'l'\u001b[0m, \u001b[32m'e'\u001b[0m\u001b[1m]\u001b[0m\n"
            ],
            "text/html": [
              "<pre style=\"white-space:pre;overflow-x:auto;line-height:normal;font-family:Menlo,'DejaVu Sans Mono',consolas,'Courier New',monospace\"><span style=\"font-weight: bold\">[</span><span style=\"color: #008000; text-decoration-color: #008000\">'A'</span>, <span style=\"color: #008000; text-decoration-color: #008000\">'p'</span>, <span style=\"color: #008000; text-decoration-color: #008000\">'p'</span>, <span style=\"color: #008000; text-decoration-color: #008000\">'l'</span>, <span style=\"color: #008000; text-decoration-color: #008000\">'e'</span><span style=\"font-weight: bold\">]</span>\n",
              "</pre>\n"
            ]
          },
          "metadata": {}
        }
      ]
    },
    {
      "cell_type": "code",
      "source": [
        "# Splitting a string produces a list of individual words\n",
        "str2 = \"List and Strings\"\n",
        "print(str2.split())"
      ],
      "metadata": {
        "colab": {
          "base_uri": "https://localhost:8080/",
          "height": 34
        },
        "id": "GCIgRTFytq9L",
        "outputId": "f78d3bc1-26e2-46a4-8229-c27300b9c47f"
      },
      "execution_count": 39,
      "outputs": [
        {
          "output_type": "display_data",
          "data": {
            "text/plain": [
              "\u001b[1m[\u001b[0m\u001b[32m'List'\u001b[0m, \u001b[32m'and'\u001b[0m, \u001b[32m'Strings'\u001b[0m\u001b[1m]\u001b[0m\n"
            ],
            "text/html": [
              "<pre style=\"white-space:pre;overflow-x:auto;line-height:normal;font-family:Menlo,'DejaVu Sans Mono',consolas,'Courier New',monospace\"><span style=\"font-weight: bold\">[</span><span style=\"color: #008000; text-decoration-color: #008000\">'List'</span>, <span style=\"color: #008000; text-decoration-color: #008000\">'and'</span>, <span style=\"color: #008000; text-decoration-color: #008000\">'Strings'</span><span style=\"font-weight: bold\">]</span>\n",
              "</pre>\n"
            ]
          },
          "metadata": {}
        }
      ]
    },
    {
      "cell_type": "markdown",
      "source": [
        "The `split()` string method allows to specify the character to use a boundary while splitting the string. It's called a delimiter."
      ],
      "metadata": {
        "id": "NbpRakPMtymD"
      }
    },
    {
      "cell_type": "code",
      "source": [
        "str3 = \"state-of-the-art\"\n",
        "print(str3.split('-'))"
      ],
      "metadata": {
        "colab": {
          "base_uri": "https://localhost:8080/",
          "height": 34
        },
        "id": "cLVGDhXJt9FQ",
        "outputId": "c58ebcc4-271c-41f0-934f-5522b1e34d6c"
      },
      "execution_count": 40,
      "outputs": [
        {
          "output_type": "display_data",
          "data": {
            "text/plain": [
              "\u001b[1m[\u001b[0m\u001b[32m'state'\u001b[0m, \u001b[32m'of'\u001b[0m, \u001b[32m'the'\u001b[0m, \u001b[32m'art'\u001b[0m\u001b[1m]\u001b[0m\n"
            ],
            "text/html": [
              "<pre style=\"white-space:pre;overflow-x:auto;line-height:normal;font-family:Menlo,'DejaVu Sans Mono',consolas,'Courier New',monospace\"><span style=\"font-weight: bold\">[</span><span style=\"color: #008000; text-decoration-color: #008000\">'state'</span>, <span style=\"color: #008000; text-decoration-color: #008000\">'of'</span>, <span style=\"color: #008000; text-decoration-color: #008000\">'the'</span>, <span style=\"color: #008000; text-decoration-color: #008000\">'art'</span><span style=\"font-weight: bold\">]</span>\n",
              "</pre>\n"
            ]
          },
          "metadata": {}
        }
      ]
    },
    {
      "cell_type": "markdown",
      "source": [
        "## Dictionaries"
      ],
      "metadata": {
        "id": "OalA-Rsa19Ka"
      }
    },
    {
      "cell_type": "markdown",
      "source": [
        "Dictionaries are an unordered, mutable collection of key-value pairs. You can retrieve values based on the key and a dictionary cannot have two of the same keys. A dictionary is like a list but rather than using integers as indices, indices in dictionary can be any data type. Also, unlike lists, dictionary are unordered. Dictionaries don't guarrantee keeping the order of the data."
      ],
      "metadata": {
        "id": "i6eUmW5fydwt"
      }
    },
    {
      "cell_type": "code",
      "source": [
        "# Dictionaries\n",
        "\n",
        "from IPython import display\n",
        "display.Image(\"data/images/01-Machine-Learning-Foundations/Complete-Machine-Learning-Course/01_Python_for_Machine_Learning-03.png\")"
      ],
      "metadata": {
        "colab": {
          "base_uri": "https://localhost:8080/",
          "height": 226
        },
        "id": "JJqKkTcUzfn6",
        "outputId": "cad115cb-2c53-4fc4-fdf8-a463629669d3"
      },
      "execution_count": null,
      "outputs": [
        {
          "output_type": "execute_result",
          "data": {
            "image/png": "[encoded data removed]",
            "text/plain": [
              "<IPython.core.display.Image object>"
            ]
          },
          "metadata": {},
          "execution_count": 1
        }
      ]
    },
    {
      "cell_type": "markdown",
      "source": [
        "*Image: Dictionaries. Image captured from Made With ML Course.*"
      ],
      "metadata": {
        "id": "N8GjLAyfz9H9"
      }
    },
    {
      "cell_type": "markdown",
      "source": [
        "What we will see:\n",
        "\n",
        "- Creating a dictionary\n",
        "\n",
        "- Accessing values and keys in dictionary\n",
        "\n",
        "- Solving counting problems with dictionary\n",
        "\n",
        "- Traversing a dictionary\n",
        "\n",
        "- The setdefault() method"
      ],
      "metadata": {
        "id": "jnYkpa7Zy0ix"
      }
    },
    {
      "cell_type": "markdown",
      "source": [
        "### Creating a dictionary"
      ],
      "metadata": {
        "id": "Z7IHygY5mWmc"
      }
    },
    {
      "cell_type": "markdown",
      "source": [
        "We can create with a `dict()` function and add items later, or insert keys and values right away in the curly brackets `{ }`. Let's start with `dict()` function to create an empty dictionary."
      ],
      "metadata": {
        "id": "vJFmXDaOmolm"
      }
    },
    {
      "cell_type": "code",
      "source": [
        "# Creating a dictionary using dict()\n",
        "\n",
        "countries_code = dict()\n",
        "print(countries_code)\n",
        "print(type(countries_code))\n",
        "\n",
        "# Adding items to the empty dictionary\n",
        "\n",
        "countries_code[\"United States\"] = 1\n",
        "print(countries_code)"
      ],
      "metadata": {
        "colab": {
          "base_uri": "https://localhost:8080/",
          "height": 68
        },
        "id": "IhmmWVMemvdA",
        "outputId": "4cf1a59e-b331-4d03-9845-bd989e509501"
      },
      "execution_count": 3,
      "outputs": [
        {
          "output_type": "display_data",
          "data": {
            "text/plain": [
              "\u001b[1m{\u001b[0m\u001b[1m}\u001b[0m\n"
            ],
            "text/html": [
              "<pre style=\"white-space:pre;overflow-x:auto;line-height:normal;font-family:Menlo,'DejaVu Sans Mono',consolas,'Courier New',monospace\"><span style=\"font-weight: bold\">{}</span>\n",
              "</pre>\n"
            ]
          },
          "metadata": {}
        },
        {
          "output_type": "display_data",
          "data": {
            "text/plain": [
              "\u001b[1m<\u001b[0m\u001b[1;95mclass\u001b[0m\u001b[39m \u001b[0m\u001b[32m'dict'\u001b[0m\u001b[1m>\u001b[0m\n"
            ],
            "text/html": [
              "<pre style=\"white-space:pre;overflow-x:auto;line-height:normal;font-family:Menlo,'DejaVu Sans Mono',consolas,'Courier New',monospace\"><span style=\"font-weight: bold\">&lt;</span><span style=\"color: #ff00ff; text-decoration-color: #ff00ff; font-weight: bold\">class</span><span style=\"color: #000000; text-decoration-color: #000000\"> </span><span style=\"color: #008000; text-decoration-color: #008000\">'dict'</span><span style=\"font-weight: bold\">&gt;</span>\n",
              "</pre>\n"
            ]
          },
          "metadata": {}
        },
        {
          "output_type": "display_data",
          "data": {
            "text/plain": [
              "\u001b[1m{\u001b[0m\u001b[32m'United States'\u001b[0m: \u001b[1;36m1\u001b[0m\u001b[1m}\u001b[0m\n"
            ],
            "text/html": [
              "<pre style=\"white-space:pre;overflow-x:auto;line-height:normal;font-family:Menlo,'DejaVu Sans Mono',consolas,'Courier New',monospace\"><span style=\"font-weight: bold\">{</span><span style=\"color: #008000; text-decoration-color: #008000\">'United States'</span>: <span style=\"color: #008080; text-decoration-color: #008080; font-weight: bold\">1</span><span style=\"font-weight: bold\">}</span>\n",
              "</pre>\n"
            ]
          },
          "metadata": {}
        }
      ]
    },
    {
      "cell_type": "code",
      "source": [
        "# Creating a dictionary using {}\n",
        "\n",
        "countries_code = {\n",
        "        \"United States\": 1,\n",
        "        \"China\": 86,\n",
        "        \"Rwanda\":250,\n",
        "        \"Germany\": 49,\n",
        "        \"India\": 91,\n",
        "}\n",
        "print(countries_code)\n",
        "\n",
        "# Adding items to the dictionary\n",
        "countries_code['Australia'] = 61\n",
        "print(countries_code)"
      ],
      "metadata": {
        "colab": {
          "base_uri": "https://localhost:8080/",
          "height": 51
        },
        "id": "g7PK5zsTohjr",
        "outputId": "e890e66b-7e5f-405c-ebbb-91ad32908a66"
      },
      "execution_count": 4,
      "outputs": [
        {
          "output_type": "display_data",
          "data": {
            "text/plain": [
              "\u001b[1m{\u001b[0m\u001b[32m'United States'\u001b[0m: \u001b[1;36m1\u001b[0m, \u001b[32m'China'\u001b[0m: \u001b[1;36m86\u001b[0m, \u001b[32m'Rwanda'\u001b[0m: \u001b[1;36m250\u001b[0m, \u001b[32m'Germany'\u001b[0m: \u001b[1;36m49\u001b[0m, \u001b[32m'India'\u001b[0m: \u001b[1;36m91\u001b[0m\u001b[1m}\u001b[0m\n"
            ],
            "text/html": [
              "<pre style=\"white-space:pre;overflow-x:auto;line-height:normal;font-family:Menlo,'DejaVu Sans Mono',consolas,'Courier New',monospace\"><span style=\"font-weight: bold\">{</span><span style=\"color: #008000; text-decoration-color: #008000\">'United States'</span>: <span style=\"color: #008080; text-decoration-color: #008080; font-weight: bold\">1</span>, <span style=\"color: #008000; text-decoration-color: #008000\">'China'</span>: <span style=\"color: #008080; text-decoration-color: #008080; font-weight: bold\">86</span>, <span style=\"color: #008000; text-decoration-color: #008000\">'Rwanda'</span>: <span style=\"color: #008080; text-decoration-color: #008080; font-weight: bold\">250</span>, <span style=\"color: #008000; text-decoration-color: #008000\">'Germany'</span>: <span style=\"color: #008080; text-decoration-color: #008080; font-weight: bold\">49</span>, <span style=\"color: #008000; text-decoration-color: #008000\">'India'</span>: <span style=\"color: #008080; text-decoration-color: #008080; font-weight: bold\">91</span><span style=\"font-weight: bold\">}</span>\n",
              "</pre>\n"
            ]
          },
          "metadata": {}
        },
        {
          "output_type": "display_data",
          "data": {
            "text/plain": [
              "\u001b[1m{\u001b[0m\u001b[32m'United States'\u001b[0m: \u001b[1;36m1\u001b[0m, \u001b[32m'China'\u001b[0m: \u001b[1;36m86\u001b[0m, \u001b[32m'Rwanda'\u001b[0m: \u001b[1;36m250\u001b[0m, \u001b[32m'Germany'\u001b[0m: \u001b[1;36m49\u001b[0m, \u001b[32m'India'\u001b[0m: \u001b[1;36m91\u001b[0m, \u001b[32m'Australia'\u001b[0m: \u001b[1;36m61\u001b[0m\u001b[1m}\u001b[0m\n"
            ],
            "text/html": [
              "<pre style=\"white-space:pre;overflow-x:auto;line-height:normal;font-family:Menlo,'DejaVu Sans Mono',consolas,'Courier New',monospace\"><span style=\"font-weight: bold\">{</span><span style=\"color: #008000; text-decoration-color: #008000\">'United States'</span>: <span style=\"color: #008080; text-decoration-color: #008080; font-weight: bold\">1</span>, <span style=\"color: #008000; text-decoration-color: #008000\">'China'</span>: <span style=\"color: #008080; text-decoration-color: #008080; font-weight: bold\">86</span>, <span style=\"color: #008000; text-decoration-color: #008000\">'Rwanda'</span>: <span style=\"color: #008080; text-decoration-color: #008080; font-weight: bold\">250</span>, <span style=\"color: #008000; text-decoration-color: #008000\">'Germany'</span>: <span style=\"color: #008080; text-decoration-color: #008080; font-weight: bold\">49</span>, <span style=\"color: #008000; text-decoration-color: #008000\">'India'</span>: <span style=\"color: #008080; text-decoration-color: #008080; font-weight: bold\">91</span>, <span style=\"color: #008000; text-decoration-color: #008000\">'Australia'</span>: <span style=\"color: #008080; text-decoration-color: #008080; font-weight: bold\">61</span><span style=\"font-weight: bold\">}</span>\n",
              "</pre>\n"
            ]
          },
          "metadata": {}
        }
      ]
    },
    {
      "cell_type": "markdown",
      "source": [
        "### Accessing the keys and values in a dictionary"
      ],
      "metadata": {
        "id": "BxHSsefeo983"
      }
    },
    {
      "cell_type": "markdown",
      "source": [
        "Just like how we get values in a list by using their indices, in dictionary, we can use a key to get its corresponding value."
      ],
      "metadata": {
        "id": "zTUqKPoQpGDe"
      }
    },
    {
      "cell_type": "code",
      "source": [
        "# Getting the code of Rwanda\n",
        "\n",
        "print(countries_code[\"Rwanda\"])"
      ],
      "metadata": {
        "colab": {
          "base_uri": "https://localhost:8080/",
          "height": 34
        },
        "id": "9Vg14LMSpJTh",
        "outputId": "41e14bb1-eae6-452e-f3ae-27dbe04e966c"
      },
      "execution_count": 5,
      "outputs": [
        {
          "output_type": "display_data",
          "data": {
            "text/plain": [
              "\u001b[1;36m250\u001b[0m\n"
            ],
            "text/html": [
              "<pre style=\"white-space:pre;overflow-x:auto;line-height:normal;font-family:Menlo,'DejaVu Sans Mono',consolas,'Courier New',monospace\"><span style=\"color: #008080; text-decoration-color: #008080; font-weight: bold\">250</span>\n",
              "</pre>\n"
            ]
          },
          "metadata": {}
        }
      ]
    },
    {
      "cell_type": "markdown",
      "source": [
        "We can also check if a key exists in a dictionary by using `in` operator."
      ],
      "metadata": {
        "id": "aeQX107mpQ7h"
      }
    },
    {
      "cell_type": "code",
      "source": [
        "print(\"India\" in countries_code)\n",
        "print(\"Singapore\" in countries_code)"
      ],
      "metadata": {
        "colab": {
          "base_uri": "https://localhost:8080/",
          "height": 51
        },
        "id": "VTwQ8QT9pWZs",
        "outputId": "8fd9f4d4-c750-495c-bdd8-b191ad0d92d5"
      },
      "execution_count": 7,
      "outputs": [
        {
          "output_type": "display_data",
          "data": {
            "text/plain": [
              "\u001b[3;92mTrue\u001b[0m\n"
            ],
            "text/html": [
              "<pre style=\"white-space:pre;overflow-x:auto;line-height:normal;font-family:Menlo,'DejaVu Sans Mono',consolas,'Courier New',monospace\"><span style=\"color: #00ff00; text-decoration-color: #00ff00; font-style: italic\">True</span>\n",
              "</pre>\n"
            ]
          },
          "metadata": {}
        },
        {
          "output_type": "display_data",
          "data": {
            "text/plain": [
              "\u001b[3;91mFalse\u001b[0m\n"
            ],
            "text/html": [
              "<pre style=\"white-space:pre;overflow-x:auto;line-height:normal;font-family:Menlo,'DejaVu Sans Mono',consolas,'Courier New',monospace\"><span style=\"color: #ff0000; text-decoration-color: #ff0000; font-style: italic\">False</span>\n",
              "</pre>\n"
            ]
          },
          "metadata": {}
        }
      ]
    },
    {
      "cell_type": "markdown",
      "source": [
        "To get all the keys, value, and items of the dictionary, we can respectively use `keys()`, `values()`, and `items()` methods."
      ],
      "metadata": {
        "id": "yGlX_9mdrHKu"
      }
    },
    {
      "cell_type": "code",
      "source": [
        "# Getting the keys and the values and items of the dictionary\n",
        "\n",
        "keys = countries_code.keys()\n",
        "values = countries_code.values()\n",
        "items = countries_code.items()\n",
        "\n",
        "print(f\"Keys => {keys}\")\n",
        "print(f\"Values => {values}\")\n",
        "print(f\"Items => {items}\")"
      ],
      "metadata": {
        "colab": {
          "base_uri": "https://localhost:8080/",
          "height": 85
        },
        "id": "JYr7cLyHrNqB",
        "outputId": "9619bed4-86fb-4e17-d05c-1aee95a8756d"
      },
      "execution_count": 42,
      "outputs": [
        {
          "output_type": "display_data",
          "data": {
            "text/plain": [
              "Keys => \u001b[1;35mdict_keys\u001b[0m\u001b[1m(\u001b[0m\u001b[1m[\u001b[0m\u001b[32m'United States'\u001b[0m, \u001b[32m'China'\u001b[0m, \u001b[32m'Rwanda'\u001b[0m, \u001b[32m'Germany'\u001b[0m, \u001b[32m'India'\u001b[0m, \u001b[32m'Australia'\u001b[0m\u001b[1m]\u001b[0m\u001b[1m)\u001b[0m\n"
            ],
            "text/html": [
              "<pre style=\"white-space:pre;overflow-x:auto;line-height:normal;font-family:Menlo,'DejaVu Sans Mono',consolas,'Courier New',monospace\">Keys =&gt; <span style=\"color: #800080; text-decoration-color: #800080; font-weight: bold\">dict_keys</span><span style=\"font-weight: bold\">([</span><span style=\"color: #008000; text-decoration-color: #008000\">'United States'</span>, <span style=\"color: #008000; text-decoration-color: #008000\">'China'</span>, <span style=\"color: #008000; text-decoration-color: #008000\">'Rwanda'</span>, <span style=\"color: #008000; text-decoration-color: #008000\">'Germany'</span>, <span style=\"color: #008000; text-decoration-color: #008000\">'India'</span>, <span style=\"color: #008000; text-decoration-color: #008000\">'Australia'</span><span style=\"font-weight: bold\">])</span>\n",
              "</pre>\n"
            ]
          },
          "metadata": {}
        },
        {
          "output_type": "display_data",
          "data": {
            "text/plain": [
              "Values => \u001b[1;35mdict_values\u001b[0m\u001b[1m(\u001b[0m\u001b[1m[\u001b[0m\u001b[1;36m1\u001b[0m, \u001b[1;36m86\u001b[0m, \u001b[1;36m250\u001b[0m, \u001b[1;36m49\u001b[0m, \u001b[1;36m91\u001b[0m, \u001b[1;36m61\u001b[0m\u001b[1m]\u001b[0m\u001b[1m)\u001b[0m\n"
            ],
            "text/html": [
              "<pre style=\"white-space:pre;overflow-x:auto;line-height:normal;font-family:Menlo,'DejaVu Sans Mono',consolas,'Courier New',monospace\">Values =&gt; <span style=\"color: #800080; text-decoration-color: #800080; font-weight: bold\">dict_values</span><span style=\"font-weight: bold\">([</span><span style=\"color: #008080; text-decoration-color: #008080; font-weight: bold\">1</span>, <span style=\"color: #008080; text-decoration-color: #008080; font-weight: bold\">86</span>, <span style=\"color: #008080; text-decoration-color: #008080; font-weight: bold\">250</span>, <span style=\"color: #008080; text-decoration-color: #008080; font-weight: bold\">49</span>, <span style=\"color: #008080; text-decoration-color: #008080; font-weight: bold\">91</span>, <span style=\"color: #008080; text-decoration-color: #008080; font-weight: bold\">61</span><span style=\"font-weight: bold\">])</span>\n",
              "</pre>\n"
            ]
          },
          "metadata": {}
        },
        {
          "output_type": "display_data",
          "data": {
            "text/plain": [
              "Items => \u001b[1;35mdict_items\u001b[0m\u001b[1m(\u001b[0m\u001b[1m[\u001b[0m\u001b[1m(\u001b[0m\u001b[32m'United States'\u001b[0m, \u001b[1;36m1\u001b[0m\u001b[1m)\u001b[0m, \u001b[1m(\u001b[0m\u001b[32m'China'\u001b[0m, \u001b[1;36m86\u001b[0m\u001b[1m)\u001b[0m, \u001b[1m(\u001b[0m\u001b[32m'Rwanda'\u001b[0m, \u001b[1;36m250\u001b[0m\u001b[1m)\u001b[0m, \u001b[1m(\u001b[0m\u001b[32m'Germany'\u001b[0m, \u001b[1;36m49\u001b[0m\u001b[1m)\u001b[0m, \u001b[1m(\u001b[0m\u001b[32m'India'\u001b[0m, \u001b[1;36m91\u001b[0m\u001b[1m)\u001b[0m, \n",
              "\u001b[1m(\u001b[0m\u001b[32m'Australia'\u001b[0m, \u001b[1;36m61\u001b[0m\u001b[1m)\u001b[0m\u001b[1m]\u001b[0m\u001b[1m)\u001b[0m\n"
            ],
            "text/html": [
              "<pre style=\"white-space:pre;overflow-x:auto;line-height:normal;font-family:Menlo,'DejaVu Sans Mono',consolas,'Courier New',monospace\">Items =&gt; <span style=\"color: #800080; text-decoration-color: #800080; font-weight: bold\">dict_items</span><span style=\"font-weight: bold\">([(</span><span style=\"color: #008000; text-decoration-color: #008000\">'United States'</span>, <span style=\"color: #008080; text-decoration-color: #008080; font-weight: bold\">1</span><span style=\"font-weight: bold\">)</span>, <span style=\"font-weight: bold\">(</span><span style=\"color: #008000; text-decoration-color: #008000\">'China'</span>, <span style=\"color: #008080; text-decoration-color: #008080; font-weight: bold\">86</span><span style=\"font-weight: bold\">)</span>, <span style=\"font-weight: bold\">(</span><span style=\"color: #008000; text-decoration-color: #008000\">'Rwanda'</span>, <span style=\"color: #008080; text-decoration-color: #008080; font-weight: bold\">250</span><span style=\"font-weight: bold\">)</span>, <span style=\"font-weight: bold\">(</span><span style=\"color: #008000; text-decoration-color: #008000\">'Germany'</span>, <span style=\"color: #008080; text-decoration-color: #008080; font-weight: bold\">49</span><span style=\"font-weight: bold\">)</span>, <span style=\"font-weight: bold\">(</span><span style=\"color: #008000; text-decoration-color: #008000\">'India'</span>, <span style=\"color: #008080; text-decoration-color: #008080; font-weight: bold\">91</span><span style=\"font-weight: bold\">)</span>, \n",
              "<span style=\"font-weight: bold\">(</span><span style=\"color: #008000; text-decoration-color: #008000\">'Australia'</span>, <span style=\"color: #008080; text-decoration-color: #008080; font-weight: bold\">61</span><span style=\"font-weight: bold\">)])</span>\n",
              "</pre>\n"
            ]
          },
          "metadata": {}
        }
      ]
    },
    {
      "cell_type": "markdown",
      "source": [
        "Lastly, we can use `get()` method to return the value of a specified key. Get method allows to also provide a value that will be returned in case the key doesn't exists. This is a cool feature!!"
      ],
      "metadata": {
        "id": "CRXj-6dDr2lT"
      }
    },
    {
      "cell_type": "code",
      "source": [
        "# Get the value of the Australia\n",
        "\n",
        "print(countries_code.get('Australia'))\n",
        "\n",
        "# In case a provided key is absent....\n",
        "\n",
        "print(countries_code.get('UK', 41))"
      ],
      "metadata": {
        "colab": {
          "base_uri": "https://localhost:8080/",
          "height": 51
        },
        "id": "ZHhkP7-ur60l",
        "outputId": "45cd7f51-0ab4-4de0-ddf3-516a892614c0"
      },
      "execution_count": 43,
      "outputs": [
        {
          "output_type": "display_data",
          "data": {
            "text/plain": [
              "\u001b[1;36m61\u001b[0m\n"
            ],
            "text/html": [
              "<pre style=\"white-space:pre;overflow-x:auto;line-height:normal;font-family:Menlo,'DejaVu Sans Mono',consolas,'Courier New',monospace\"><span style=\"color: #008080; text-decoration-color: #008080; font-weight: bold\">61</span>\n",
              "</pre>\n"
            ]
          },
          "metadata": {}
        },
        {
          "output_type": "display_data",
          "data": {
            "text/plain": [
              "\u001b[1;36m41\u001b[0m\n"
            ],
            "text/html": [
              "<pre style=\"white-space:pre;overflow-x:auto;line-height:normal;font-family:Menlo,'DejaVu Sans Mono',consolas,'Courier New',monospace\"><span style=\"color: #008080; text-decoration-color: #008080; font-weight: bold\">41</span>\n",
              "</pre>\n"
            ]
          },
          "metadata": {}
        }
      ]
    },
    {
      "cell_type": "markdown",
      "source": [
        "![rainbow](https://github.com/ancilcleetus/My-Learning-Journey/assets/25684256/839c3524-2a1d-4779-85a0-83c562e1e5e5)"
      ],
      "metadata": {
        "id": "mW6OltNiDMGR"
      }
    },
    {
      "cell_type": "markdown",
      "source": [
        "# 99. References"
      ],
      "metadata": {
        "id": "28wUultLDMGV"
      }
    },
    {
      "cell_type": "markdown",
      "source": [
        "- [**Made With ML Course**](https://madewithml.com/)"
      ],
      "metadata": {
        "id": "T8guIRUNDVD3"
      }
    },
    {
      "cell_type": "markdown",
      "source": [
        "![rainbow](https://github.com/ancilcleetus/My-Learning-Journey/assets/25684256/839c3524-2a1d-4779-85a0-83c562e1e5e5)"
      ],
      "metadata": {
        "id": "U897-NGnYhHk"
      }
    }
  ]
}