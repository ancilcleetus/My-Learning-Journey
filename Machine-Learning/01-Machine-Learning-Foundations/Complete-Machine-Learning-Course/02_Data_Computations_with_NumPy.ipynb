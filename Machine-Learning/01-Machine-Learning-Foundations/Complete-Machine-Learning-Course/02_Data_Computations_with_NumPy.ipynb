{
  "nbformat": 4,
  "nbformat_minor": 0,
  "metadata": {
    "colab": {
      "provenance": []
    },
    "kernelspec": {
      "name": "python3",
      "display_name": "Python 3"
    },
    "language_info": {
      "name": "python"
    }
  },
  "cells": [
    {
      "cell_type": "markdown",
      "source": [
        "![rainbow](https://github.com/ancilcleetus/My-Learning-Journey/assets/25684256/839c3524-2a1d-4779-85a0-83c562e1e5e5)"
      ],
      "metadata": {
        "id": "uLR90WhedwER"
      }
    },
    {
      "cell_type": "markdown",
      "source": [
        "# 1. Introduction to Data Computations with NumPy"
      ],
      "metadata": {
        "id": "bKim3KwyTp11"
      }
    },
    {
      "cell_type": "markdown",
      "source": [
        "Data science and machine learning often require efficient data handling and computations, especially when working with large datasets. NumPy, short for \"Numerical Python,\" is a fundamental library for scientific computing in Python, providing powerful tools for handling arrays and matrices, along with an extensive collection of mathematical functions.\n",
        "\n",
        "- **Why Use NumPy?**\n",
        "\n",
        "    - **Efficient Data Storage:** NumPy arrays provide a highly efficient way to store large datasets in a contiguous block of memory, which makes them faster to process compared to Python lists.\n",
        "\n",
        "    - **Vectorized Operations:** With NumPy, many operations can be performed directly on entire arrays, allowing for concise and optimized code that takes advantage of vectorized computation.\n",
        "\n",
        "    - **Interoperability with Other Libraries:** NumPy is the foundation for other libraries like Pandas, SciPy, and TensorFlow, making it an essential skill for data scientists and machine learning practitioners.\n",
        "\n",
        "    - **Extensive Mathematical Functions:** NumPy provides built-in functions for complex mathematical operations, like linear algebra, statistical analysis, Fourier transformations, and random sampling.\n",
        "    \n",
        "- **Topics Covered**\n",
        "\n",
        "    - **Creating an Array in NumPy:** We’ll start by exploring different ways to create arrays in NumPy, including arrays of different dimensions, initialized with values or zeros, and special arrays for mathematical functions.\n",
        "\n",
        "    - **Data Selection:** Indexing and Slicing of Arrays: Once we have arrays, we need to understand how to access and manipulate the data inside. This section covers essential techniques like indexing, slicing, and boolean indexing.\n",
        "\n",
        "    - **Basic Array Operations:** NumPy makes performing element-wise and matrix operations straightforward. This section introduces addition, subtraction, multiplication, and division of arrays, as well as other common operations.\n",
        "\n",
        "    - **Basic Statistics:** Statistical computations are fundamental to data analysis. Here, we’ll learn to compute metrics like mean, median, standard deviation, and other summary statistics directly on NumPy arrays.\n",
        "\n",
        "    - **Data Manipulation:** Beyond basic operations, NumPy provides powerful tools for reshaping and transforming arrays to better suit specific data workflows, such as stacking arrays, reshaping dimensions, and transposing.\n",
        "    \n",
        "By the end of this notebook, you will have a solid foundation in using NumPy for data computations, equipping you to handle data more efficiently and to build more powerful analyses and models."
      ],
      "metadata": {
        "id": "iEedPkzrbwK1"
      }
    },
    {
      "cell_type": "markdown",
      "source": [
        "![rainbow](https://github.com/ancilcleetus/My-Learning-Journey/assets/25684256/839c3524-2a1d-4779-85a0-83c562e1e5e5)"
      ],
      "metadata": {
        "id": "U897-NGnYhHk"
      }
    },
    {
      "cell_type": "code",
      "source": [
        "# Deep Learning as subset of ML\n",
        "\n",
        "from IPython import display\n",
        "display.Image(\"data/images/01-Deep-Learning-Foundations/CampusX-Deep-Learning-Course/DL_01_Intro-01-DL-subset-of-ML.jpg\")"
      ],
      "metadata": {
        "id": "juNAxVBFg7sw"
      },
      "execution_count": null,
      "outputs": []
    },
    {
      "cell_type": "markdown",
      "source": [
        "![rainbow](https://github.com/ancilcleetus/My-Learning-Journey/assets/25684256/839c3524-2a1d-4779-85a0-83c562e1e5e5)"
      ],
      "metadata": {
        "id": "qqv0L0R9dyKJ"
      }
    }
  ]
}