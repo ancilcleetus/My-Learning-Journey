{
  "nbformat": 4,
  "nbformat_minor": 0,
  "metadata": {
    "colab": {
      "provenance": []
    },
    "kernelspec": {
      "name": "python3",
      "display_name": "Python 3"
    },
    "language_info": {
      "name": "python"
    }
  },
  "cells": [
    {
      "cell_type": "markdown",
      "source": [
        "![rainbow](https://github.com/ancilcleetus/My-Learning-Journey/assets/25684256/839c3524-2a1d-4779-85a0-83c562e1e5e5)"
      ],
      "metadata": {
        "id": "uLR90WhedwER"
      }
    },
    {
      "cell_type": "markdown",
      "source": [
        "# 1. What is Machine Learning?"
      ],
      "metadata": {
        "id": "bKim3KwyTp11"
      }
    },
    {
      "cell_type": "markdown",
      "source": [
        "Machine learning (ML) powers some of the most important technologies we use, from translation apps to autonomous vehicles. This course explains the core concepts behind ML.\n",
        "\n",
        "ML offers a new way to solve problems, answer complex questions, and create new content. ML can predict the weather, estimate travel times, recommend songs, auto-complete sentences, summarize articles, and generate never-seen-before images.\n",
        "\n",
        "In basic terms, ML is the process of training a piece of software, called a model, to make useful predictions or generate content from data.\n",
        "\n",
        "For example, suppose we wanted to create an app to predict rainfall. We could use either a traditional approach or an ML approach. Using a traditional approach, we'd create a physics-based representation of the Earth's atmosphere and surface, computing massive amounts of fluid dynamics equations. This is incredibly difficult.\n",
        "\n",
        "Using an ML approach, we would give an ML model enormous amounts of weather data until the ML model eventually learned the mathematical relationship between weather patterns that produce differing amounts of rain. We would then give the model the current weather data, and it would predict the amount of rain."
      ],
      "metadata": {
        "id": "OT6kex7fkTbx"
      }
    },
    {
      "cell_type": "markdown",
      "source": [
        "![rainbow](https://github.com/ancilcleetus/My-Learning-Journey/assets/25684256/839c3524-2a1d-4779-85a0-83c562e1e5e5)"
      ],
      "metadata": {
        "id": "f-acwnBLyDE6"
      }
    },
    {
      "cell_type": "markdown",
      "source": [
        "# 2. Types of ML Systems"
      ],
      "metadata": {
        "id": "xIAdL_CjyDE-"
      }
    },
    {
      "cell_type": "markdown",
      "source": [
        "ML systems fall into one or more of the following categories based on how they learn to make predictions or generate content:\n",
        "\n",
        "- Supervised Learning\n",
        "- Unsupervised Learning\n",
        "- Reinforcement Learning\n",
        "- Generative AI"
      ],
      "metadata": {
        "id": "VdbxOTXQyL0J"
      }
    },
    {
      "cell_type": "markdown",
      "source": [
        "![rainbow](https://github.com/ancilcleetus/My-Learning-Journey/assets/25684256/839c3524-2a1d-4779-85a0-83c562e1e5e5)"
      ],
      "metadata": {
        "id": "wZxcwFoGyjZE"
      }
    },
    {
      "cell_type": "markdown",
      "source": [
        "# 3. Supervised Learning"
      ],
      "metadata": {
        "id": "w0ns1UxqyjZI"
      }
    },
    {
      "cell_type": "markdown",
      "source": [
        "Supervised Learning models can make predictions after seeing lots of data with the correct answers and then discovering the connections between the elements in the data that produce the correct answers. This is like a student learning new material by studying old exams that contain both questions and answers. Once the student has trained on enough old exams, the student is well prepared to take a new exam. These ML systems are \"supervised\" in the sense that a human gives the ML system data with the known correct results.\n",
        "\n",
        "Two of the most common use cases for Supervised Learning are\n",
        "\n",
        "1. Regression\n",
        "\n",
        "2. Classification"
      ],
      "metadata": {
        "id": "urjM3qZny4xp"
      }
    },
    {
      "cell_type": "markdown",
      "source": [
        "## 1. Regression"
      ],
      "metadata": {
        "id": "BoKRF-zJzFPD"
      }
    },
    {
      "cell_type": "markdown",
      "source": [
        "A regression model predicts a numeric value. For example, a weather model that predicts the amount of rain, in inches or millimeters, is a regression model.\n",
        "\n",
        "See the table below for more examples of regression models:\n",
        "\n",
        "| Scenario | Possible input data | Numeric prediction |\n",
        "| :------- | :------------------ | :----------------- |\n",
        "| Future house price | Square footage, zip code, number of bedrooms and bathrooms, lot size, mortgage interest rate, property tax rate, construction costs, and number of homes for sale in the area. | The price of the home |\n",
        "| Future ride time | Historical traffic conditions (gathered from smartphones, traffic sensors, ride-hailing and other navigation applications), distance from destination, and weather conditions. | The time in minutes and seconds to arrive at a destination |"
      ],
      "metadata": {
        "id": "GwTE7A7NzU5F"
      }
    },
    {
      "cell_type": "markdown",
      "source": [
        "## 2. Classification"
      ],
      "metadata": {
        "id": "1GP9OoJo0O3o"
      }
    },
    {
      "cell_type": "markdown",
      "source": [
        "Classification models predict the likelihood that something belongs to a category. Unlike regression models, whose output is a number, classification models output a value that states whether or not something belongs to a particular category. For example, classification models are used to predict if an email is spam or if a photo contains a cat.\n",
        "\n",
        "Classification models are divided into two groups:\n",
        "\n",
        "1. **Binary Classification:**\n",
        "    - Binary classification models output a value from a class that contains only two values, for example, a model that outputs either \"rain\" or \"no rain\".\n",
        "\n",
        "2. **Multiclass Classification:**\n",
        "    - Multiclass classification models output a value from a class that contains more than two values, for example, a model that can output either \"rain\", \"hail\", \"snow\", or \"sleet\"."
      ],
      "metadata": {
        "id": "cDFFV1rn0bIN"
      }
    },
    {
      "cell_type": "markdown",
      "source": [
        "![rainbow](https://github.com/ancilcleetus/My-Learning-Journey/assets/25684256/839c3524-2a1d-4779-85a0-83c562e1e5e5)"
      ],
      "metadata": {
        "id": "U897-NGnYhHk"
      }
    },
    {
      "cell_type": "code",
      "source": [
        "# Deep Learning as subset of ML\n",
        "\n",
        "from IPython import display\n",
        "display.Image(\"data/images/DL_01_Intro-01-DL-subset-of-ML.jpg\")"
      ],
      "metadata": {
        "id": "juNAxVBFg7sw"
      },
      "execution_count": null,
      "outputs": []
    },
    {
      "cell_type": "markdown",
      "source": [
        "![rainbow](https://github.com/ancilcleetus/My-Learning-Journey/assets/25684256/839c3524-2a1d-4779-85a0-83c562e1e5e5)"
      ],
      "metadata": {
        "id": "qqv0L0R9dyKJ"
      }
    }
  ]
}