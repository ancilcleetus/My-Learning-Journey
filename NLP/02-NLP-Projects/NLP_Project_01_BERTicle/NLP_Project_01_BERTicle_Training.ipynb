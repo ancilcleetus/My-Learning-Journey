{
  "nbformat": 4,
  "nbformat_minor": 0,
  "metadata": {
    "colab": {
      "provenance": []
    },
    "kernelspec": {
      "name": "python3",
      "display_name": "Python 3"
    },
    "language_info": {
      "name": "python"
    }
  },
  "cells": [
    {
      "cell_type": "markdown",
      "source": [
        "![rainbow](https://github.com/ancilcleetus/My-Learning-Journey/assets/25684256/839c3524-2a1d-4779-85a0-83c562e1e5e5)"
      ],
      "metadata": {
        "id": "uLR90WhedwER"
      }
    },
    {
      "cell_type": "markdown",
      "source": [
        "# 1. BERTicle: News Article Classifier using BERT - Intro"
      ],
      "metadata": {
        "id": "bKim3KwyTp11"
      }
    },
    {
      "cell_type": "markdown",
      "source": [
        "In this project, we develop a news article classifier named **BERTicle** using the BERT (Bidirectional Encoder Representations from Transformers) model. The goal is to classify news articles into one of four categories: **Business**, **Sci/Tech**, **Sports**, and **World**.\n",
        "\n",
        "We leverage the [AG News Dataset](http://www.di.unipi.it/~gulli/AG_corpus_of_news_articles.html), which contains over a million news articles collected from a wide variety of news sources. By fine-tuning the pre-trained BERT model, we aim to build an efficient and accurate text classification system that can generalize well to unseen news articles.\n",
        "\n",
        "This project is divided into two phases:\n",
        "\n",
        "- **Training:** Fine-tuning the BERT model on the AG News dataset to classify articles into one of the four categories.\n",
        "\n",
        "- **Deployment:** Building an end-to-end application to serve predictions for new, unseen news articles."
      ],
      "metadata": {
        "id": "WIRAx-q4LfWY"
      }
    },
    {
      "cell_type": "markdown",
      "source": [
        "![rainbow](https://github.com/ancilcleetus/My-Learning-Journey/assets/25684256/839c3524-2a1d-4779-85a0-83c562e1e5e5)"
      ],
      "metadata": {
        "id": "U897-NGnYhHk"
      }
    },
    {
      "cell_type": "code",
      "source": [
        "# Deep Learning as subset of ML\n",
        "\n",
        "from IPython import display\n",
        "display.Image(\"data/images/DL_01_Intro-01-DL-subset-of-ML.jpg\")"
      ],
      "metadata": {
        "id": "juNAxVBFg7sw"
      },
      "execution_count": null,
      "outputs": []
    },
    {
      "cell_type": "markdown",
      "source": [
        "![rainbow](https://github.com/ancilcleetus/My-Learning-Journey/assets/25684256/839c3524-2a1d-4779-85a0-83c562e1e5e5)"
      ],
      "metadata": {
        "id": "qqv0L0R9dyKJ"
      }
    }
  ]
}