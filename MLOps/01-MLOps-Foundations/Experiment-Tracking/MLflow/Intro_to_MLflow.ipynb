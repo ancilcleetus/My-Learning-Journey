{
  "nbformat": 4,
  "nbformat_minor": 0,
  "metadata": {
    "colab": {
      "provenance": []
    },
    "kernelspec": {
      "name": "python3",
      "display_name": "Python 3"
    },
    "language_info": {
      "name": "python"
    }
  },
  "cells": [
    {
      "cell_type": "markdown",
      "source": [
        "![rainbow](https://github.com/ancilcleetus/My-Learning-Journey/assets/25684256/839c3524-2a1d-4779-85a0-83c562e1e5e5)"
      ],
      "metadata": {
        "id": "uLR90WhedwER"
      }
    },
    {
      "cell_type": "markdown",
      "source": [
        "# 1. Experiment Tracking in MLOps"
      ],
      "metadata": {
        "id": "bKim3KwyTp11"
      }
    },
    {
      "cell_type": "markdown",
      "source": [
        "Experiment tracking is the process of recording all the details of machine learning experiments. This includes configurations, code versions, datasets, metrics, and results.\n",
        "\n",
        "**Why it is used in MLOps?:**\n",
        "\n",
        "1. **Reproducibility:**\n",
        "    - Ensures experiments can be repeated with the same settings, helping to verify results.\n",
        "2. **Comparison:**\n",
        "    - Makes it easy to compare different models and experiments to find the best performing one.\n",
        "3. **Collaboration:**\n",
        "    - Allows team members to share and review each other's work, enhancing teamwork.\n",
        "4. **Efficiency:**\n",
        "    - Saves time by avoiding repeated work and helps in quickly finding the best model settings.\n",
        "5. **Auditability:**\n",
        "    - Keeps a history of all experiments, useful for tracking progress and compliance purposes."
      ],
      "metadata": {
        "id": "u9Lz-bP_4RDi"
      }
    },
    {
      "cell_type": "markdown",
      "source": [
        "![rainbow](https://github.com/ancilcleetus/My-Learning-Journey/assets/25684256/839c3524-2a1d-4779-85a0-83c562e1e5e5)"
      ],
      "metadata": {
        "id": "QmKzuzS94_gc"
      }
    },
    {
      "cell_type": "markdown",
      "source": [
        "# 2. Where does MLflow fit?"
      ],
      "metadata": {
        "id": "5OkEqUTp4_gg"
      }
    },
    {
      "cell_type": "markdown",
      "source": [
        "1. **Experimentation:**\n",
        "    - Tracking: MLflow helps log parameters, metrics, and artifacts of each experiment. This ensures that all details are recorded and can be compared later.\n",
        "2. **Model Development:**\n",
        "    - Projects : Standardizes the way to package and share machine learning code. MLflow Projects can be used to run experiments in a consistent environment.\n",
        "3. **Model Validation:**\n",
        "    - Tracking: Continues to log validation metrics and results, making it easier to evaluate model performance.\n",
        "4. **Deployment:**\n",
        "    - Models: MLflow allows you to register, version, and deploy models with ease. Models can be served directly via APIs or integrated into existing systems.\n",
        "5. **Monitoring:**\n",
        "    - Tracking: Helps monitor deployed models by logging predictions and performance metrics, ensuring the model remains effective over time.\n",
        "6. **Lifecycle Management:**\n",
        "    - Registry: Manages the full lifecycle of machine learning models, from development to deployment to retirement."
      ],
      "metadata": {
        "id": "4X0g17Dn5K2P"
      }
    },
    {
      "cell_type": "markdown",
      "source": [
        "![rainbow](https://github.com/ancilcleetus/My-Learning-Journey/assets/25684256/839c3524-2a1d-4779-85a0-83c562e1e5e5)"
      ],
      "metadata": {
        "id": "t8vJXluf5YbL"
      }
    },
    {
      "cell_type": "markdown",
      "source": [
        "# 3. Unique Features of MLflow"
      ],
      "metadata": {
        "id": "4jVUbgt45YbV"
      }
    },
    {
      "cell_type": "markdown",
      "source": [
        "1. **End-to-End ML Lifecycle Management:**\n",
        "    - MLflow covers the entire ML lifecycle from experimentation to deployment and monitoring in one platform.\n",
        "2. **Modular Design:**\n",
        "    - Tracking: Logs and queries experiments, including code, data, configurations, and results.\n",
        "    - Project: Standardizes the way to package and share ML code.\n",
        "    - Models: Manages model packaging and deployment across various environments.\n",
        "    - Registry: Facilitates model versioning, staging, and deployment.\n",
        "3. **Flexible Deployment Options:**\n",
        "    - Supports multiple deployment targets including REST APIs, cloud services, and on-premise systems.\n",
        "    - Provides tools for deploying models to diverse platforms like Azure ML, Amazon SageMaker, and more.\n",
        "4. **Interoperability:**\n",
        "    - Works well with various ML libraries and tools, such as TensorFlow, PyTorch, Scikit-learn, and XGBoost.\n",
        "    - Supports multiple programming languages including Python, R, and Java.\n",
        "5. **Open Source and Extensible:**\n",
        "    - As an open-source project, it encourages community contributions and extensions.\n",
        "    - Easily customizable to fit specific organizational needs.\n",
        "6. **Comprehensive Model Registry:**\n",
        "    - Tracks model versions, stages (e.g., staging, production), and metadata.\n",
        "    - Provides a centralized repository for managing and deploying models.\n",
        "7. **Built-in Experiment Comparison:**\n",
        "    - Allows for easy comparison of different experiment runs side by side.\n",
        "    - Facilitates identification of the best performing models with visualizations and metrics tracking.\n",
        "8. **Seamless Integration:**\n",
        "    - Integrates with CI/CD pipelines, enabling automated model training, testing, and deployment.\n",
        "    - Supports popular CI/CD tools like Jenkins, GitLab CI, and GitHub Actions.\n",
        "9. **User-friendly Interface:**\n",
        "    - Provides an intuitive web UI for managing experiments, models, and deployments.\n",
        "    - Enables users to visualize metrics, parameters, and other experiment details easily.\n",
        "10. **Scalability:**\n",
        "    - Designed to scale with organizational needs, from small teams to large enterprises.\n",
        "    - Handles a large number of experiments and models efficiently."
      ],
      "metadata": {
        "id": "NxDrlVyE57ls"
      }
    },
    {
      "cell_type": "markdown",
      "source": [
        "![rainbow](https://github.com/ancilcleetus/My-Learning-Journey/assets/25684256/839c3524-2a1d-4779-85a0-83c562e1e5e5)"
      ],
      "metadata": {
        "id": "U897-NGnYhHk"
      }
    },
    {
      "cell_type": "code",
      "source": [
        "# Deep Learning as subset of ML\n",
        "\n",
        "from IPython import display\n",
        "display.Image(\"data/images/DL_01_Intro-01-DL-subset-of-ML.jpg\")"
      ],
      "metadata": {
        "id": "juNAxVBFg7sw"
      },
      "execution_count": null,
      "outputs": []
    },
    {
      "cell_type": "markdown",
      "source": [
        "![rainbow](https://github.com/ancilcleetus/My-Learning-Journey/assets/25684256/839c3524-2a1d-4779-85a0-83c562e1e5e5)"
      ],
      "metadata": {
        "id": "qqv0L0R9dyKJ"
      }
    }
  ]
}